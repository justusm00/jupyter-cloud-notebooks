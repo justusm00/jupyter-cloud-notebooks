{
 "cells": [
  {
   "cell_type": "markdown",
   "metadata": {},
   "source": [
    "<div style=\"text-align: right\"> 24.01.2020</div>\n",
    "\n",
    "***Name:*** \n",
    "\n",
    "# Hausaufgabe Blatt 12\n",
    "\n",
    "## Kinetische Gastheorie: Maxwell-Boltzmann Verteilung\n",
    "\n",
    "In dieser Aufgabe werden wir uns mit der kinetischen Gastheorie und der Maxwell-Boltzmann Verteilung beschäftigen. Die genaue Herleitung der Maxwell-Boltzmann Verteilung können Sie in Demtröder Kapitel 7.3.5 entnehmen. \n",
    "\n",
    "Betrachtet man die Moleküle eines Gases als Teilchen, die lediglich durch  voll elastische Stöße sowohl mit den Wänden ihrer Umgebung, als auch untereinander wechselwirken, so spricht man von einem *idealen Gas*. \n",
    "\n",
    "## 1. Aufgabe\n",
    "Misst man die Beträge der Geschwindigkeiten von einem idealen Gas, so stellt man fest, dass diese durch die Maxwell-Boltzmann Verteilung beschrieben werden. \n",
    "\n",
    "$$\\tag{1}\n",
    "f\\!\\left(v\\right)=4 \\pi v^2 \\cdot \\left(\\frac{m}{2 \\pi k_B T}\\right)^{3/2} \\cdot \\exp\\left(\\frac{-m v^2}{2 k_B T}\\right).\n",
    "$$\n",
    "\n",
    "Diese Verteilung kann wie folgt begründet werden. Da keine Raumrichtung ausgezeichnet ist und die Teilchen ständig miteinander und ihrer Umgebung kollidieren, kann man annehmen, dass die Geschwindigkeiten für alle drei Komponenten $v_{\\alpha}$, mit $\\alpha = x, y,z$ zufällig verteilt sind.\n",
    "\n",
    "Wir wollen nun diese Verteilung reproduzieren, indem wir Geschwindigkeitskomponenten $v_{\\alpha}$, mit $\\alpha = x, y,z$, für $N$ Teilchen zufällig aus einer Normalverteilung $\\mathcal N$ mit Mittelwert gleich Null und einer Standardabweichung von Eins ziehen\n",
    "   $$\\tag{2}\n",
    "   v_{\\alpha} = \\sqrt{\\frac{k_B T}{m}} \\cdot \\mathcal N\\! \\left(0,1\\right).\n",
    "   $$\n",
    "   \n",
    "Normalverteilte Zahlen mit Mittelwert gleich Null und einer Standardabweichung von Eins können wie folgt erzeugt werden:\n",
    " ```python\n",
    "import numpy as np\n",
    "N = 5\n",
    "gauss = np.random.normal(0,1,(N,3))\n",
    "``` \n",
    "\n",
    "**a)** Versuchen Sie den obigen Code nachzuvollziehen. Erstellen Sie für $N=100$ Teilchen Zufallszahlen für jede Geschwindigkeitskomponente $\\alpha=x, y, z$, indem Sie obigen Code und Gleichung (2) kombinieren. Nehmen Sie dabei für die Masse $m = 4.8 \\cdot 10^{-3}$, für die Temperatur $T=70$ und für die Boltzmann Konstante $k_B=1.38$ an.\n"
   ]
  },
  {
   "cell_type": "code",
   "execution_count": 1,
   "metadata": {
    "ExecuteTime": {
     "end_time": "2020-01-22T13:40:01.417341Z",
     "start_time": "2020-01-22T13:40:01.412966Z"
    }
   },
   "outputs": [],
   "source": [
    "import numpy as np\n",
    "import matplotlib.pyplot as plt\n",
    "import math\n",
    "\n",
    "N = 100\n",
    "m = 4.8e-3\n",
    "T = 70\n",
    "kb = 1.38\n",
    "\n",
    "x = np.random.normal(0,1,(N,3))\n",
    "\n",
    "va = np.sqrt(kb*T/m)*x"
   ]
  },
  {
   "cell_type": "markdown",
   "metadata": {},
   "source": [
    "**b)** Berechnen Sie nun den Betrag der Geschwindigkeit $v$ aus den Geschwindigkeitskomponenten $\\alpha=x,y,z$ für jede der $N=100$ erzeugten Zahlen. Benutzen Sie dafür die Normierungsfunktion `np.linalg.norm()` wie folgt: \n",
    "```python\n",
    "norm = np.linalg.norm(gauss, axis=1)\n",
    "```\n",
    "Dabei ist `gauss` die im vorherigen Beispiel erzeugte Zufallszahl. Das Stichwort `axis` gibt an, über welche Einträge des arrays der Betrag berechnet wird. "
   ]
  },
  {
   "cell_type": "code",
   "execution_count": 2,
   "metadata": {
    "ExecuteTime": {
     "end_time": "2020-01-22T13:40:04.865465Z",
     "start_time": "2020-01-22T13:40:04.861353Z"
    }
   },
   "outputs": [],
   "source": [
    "v = np.linalg.norm(va, axis=1)"
   ]
  },
  {
   "cell_type": "markdown",
   "metadata": {},
   "source": [
    "**c)** Erstellen Sie ein Histogramm aus den gerade berechneten Beträgen der Geschwindigkeit $v$. Benutzen Sie dafür den Histogramm Befehl `ax.histo()` wie folgt:\n",
    "```python \n",
    "import matplotlib.pyplot as plt\n",
    "fig, ax = plt.subplots()\n",
    "ax.histo(v, density=True)```\n",
    "Dabei stellt das Stichwort `density=True` sicher, dass das Histogramm normiert ist. "
   ]
  },
  {
   "cell_type": "code",
   "execution_count": 15,
   "metadata": {
    "ExecuteTime": {
     "end_time": "2020-01-22T13:40:12.874378Z",
     "start_time": "2020-01-22T13:40:12.733603Z"
    }
   },
   "outputs": [
    {
     "data": {
      "text/plain": [
       "(array([5.55065649e-04, 2.58636973e-03, 3.98289128e-03, 3.57249700e-03,\n",
       "        2.46088946e-03, 1.11013130e-03, 3.83821992e-04, 8.85743057e-05,\n",
       "        1.47623843e-05, 7.38119214e-06]),\n",
       " array([  9.49112678,  77.2308618 , 144.97059682, 212.71033184,\n",
       "        280.45006686, 348.18980188, 415.92953689, 483.66927191,\n",
       "        551.40900693, 619.14874195, 686.88847697]),\n",
       " <a list of 10 Patch objects>)"
      ]
     },
     "execution_count": 15,
     "metadata": {},
     "output_type": "execute_result"
    },
    {
     "data": {
      "image/png": "[encoded data removed]",
      "text/plain": [
       "<Figure size 432x288 with 1 Axes>"
      ]
     },
     "metadata": {
      "needs_background": "light"
     },
     "output_type": "display_data"
    }
   ],
   "source": [
    "import matplotlib.pyplot as plt\n",
    "fig, ax = plt.subplots()\n",
    "ax.hist(v, density=True)"
   ]
  },
  {
   "cell_type": "markdown",
   "metadata": {},
   "source": [
    "**d)** Schreiben Sie eine Funktion, die als Argument ein array von Beträgen von Geschwindigkeiten und eine Temperatur annimmt und einem die Maxwell-Boltzmann Verteilung (Gleichung (1)) zurückgibt. Vergleichen Sie die theoretisch erwartete Verteilung mit Ihrer erzeugten in einem gemeinsamen Plot."
   ]
  },
  {
   "cell_type": "code",
   "execution_count": 4,
   "metadata": {
    "ExecuteTime": {
     "end_time": "2020-01-22T14:10:24.256266Z",
     "start_time": "2020-01-22T14:10:24.125860Z"
    }
   },
   "outputs": [
    {
     "data": {
      "image/png": "[encoded data removed]",
      "text/plain": [
       "<Figure size 432x288 with 1 Axes>"
      ]
     },
     "metadata": {
      "needs_background": "light"
     },
     "output_type": "display_data"
    }
   ],
   "source": [
    "def maxwell(v,T):\n",
    "    return 4*np.pi*v**2*(m/(2*np.pi*kb*T))**1.5*np.exp((-m*v**2)/(2*kb*T))\n",
    "\n",
    "\n",
    "y = np.arange(0,np.max(v),0.001)\n",
    "\n",
    "plt.figure()\n",
    "plt.plot(v,maxwell(v,T),'.',label=\"Erzeugte Verteilung\")\n",
    "plt.plot(y,maxwell(y,T), label=\"Erwartete Verteilung\")\n",
    "plt.legend(loc=\"upper right\")\n",
    "plt.grid()\n",
    "\n",
    "##Vergleich (?): Die erzeugte Verteilung stimmt sehr gut mit der erwarteten überein."
   ]
  },
  {
   "cell_type": "markdown",
   "metadata": {},
   "source": [
    "**e)** Wiederholen Sie Aufgaben **a)**-**d)** für $N=10000$ Teilchen.  Optional können Sie auch die Temperatur auf $T=290$ ändern. \n",
    "Was stellen Sie fest?"
   ]
  },
  {
   "cell_type": "markdown",
   "metadata": {},
   "source": [
    "Ich stelle fest... Die Erschaffung der Welt: 1,1–2,3\n",
    "11 Im Anfang erschuf Gott Himmel und Erde. 2 Die Erde war wüst und wirr und Finsternis lag über der Urflut und Gottes Geist schwebte über dem Wasser.\n",
    "3 Gott sprach: Es werde Licht. Und es wurde Licht. 4 Gott sah, dass das Licht gut war. Und Gott schied das Licht von der Finsternis. 5 Und Gott nannte das Licht Tag und die Finsternis nannte er Nacht. Es wurde Abend und es wurde Morgen: erster Tag.\n",
    "6 Dann sprach Gott: Es werde ein Gewölbe mitten im Wasser und scheide Wasser von Wasser. 7 Gott machte das Gewölbe und schied das Wasser unterhalb des Gewölbes vom Wasser oberhalb des Gewölbes. Und so geschah es. 8 Und Gott nannte das Gewölbe Himmel. Es wurde Abend und es wurde Morgen: zweiter Tag.\n",
    "9 Dann sprach Gott: Es sammle sich das Wasser unterhalb des Himmels an einem Ort und das Trockene werde sichtbar. Und so geschah es. 10 Und Gott nannte das Trockene Land und die Ansammlung des Wassers nannte er Meer. Gott sah, dass es gut war. 11 Dann sprach Gott: Die Erde lasse junges Grün sprießen, Gewächs, das Samen bildet, Fruchtbäume, die nach ihrer Art Früchte tragen mit Samen darin auf der Erde. Und so geschah es. 12 Die Erde brachte junges Grün hervor, Gewächs, das Samen nach seiner Art bildet, und Bäume, die Früchte tragen mit Samen darin nach ihrer Art. Gott sah, dass es gut war. 13 Es wurde Abend und es wurde Morgen: dritter Tag.\n",
    "14 Dann sprach Gott: Lichter sollen am Himmelsgewölbe sein, um Tag und Nacht zu scheiden. Sie sollen als Zeichen für Festzeiten, für Tage und Jahre dienen. 15 Sie sollen Lichter am Himmelsgewölbe sein, um über die Erde hin zu leuchten. Und so geschah es. 16 Gott machte die beiden großen Lichter, das große zur Herrschaft über den Tag, das kleine zur Herrschaft über die Nacht, und die Sterne.\n",
    "17 Gott setzte sie an das Himmelsgewölbe, damit sie über die Erde leuchten, 18 über Tag und Nacht herrschen und das Licht von der Finsternis scheiden. Gott sah, dass es gut war. 19 Es wurde Abend und es wurde Morgen: vierter Tag.\n",
    "20 Dann sprach Gott: Das Wasser wimmle von Schwärmen lebendiger Wesen und Vögel sollen über der Erde am Himmelsgewölbe fliegen. 21 Und Gott erschuf die großen Wassertiere und alle Lebewesen, die sich fortbewegen nach ihrer Art, von denen das Wasser wimmelt, und alle gefiederten Vögel nach ihrer Art. Gott sah, dass es gut war. 22 Gott segnete sie und sprach: Seid fruchtbar und mehrt euch! Füllt das Wasser im Meer und die Vögel sollen sich auf Erden vermehren. 23 Es wurde Abend und es wurde Morgen: fünfter Tag.\n",
    "24 Dann sprach Gott: Die Erde bringe Lebewesen aller Art hervor, von Vieh, von Kriechtieren und von Wildtieren der Erde nach ihrer Art. Und so geschah es. 25 Gott machte die Wildtiere der Erde nach ihrer Art, das Vieh nach seiner Art und alle Kriechtiere auf dem Erdboden nach ihrer Art. Gott sah, dass es gut war. 26 Dann sprach Gott: Lasst uns Menschen machen als unser Bild, uns ähnlich! Sie sollen walten über die Fische des Meeres, über die Vögel des Himmels, über das Vieh, über die ganze Erde und über alle Kriechtiere, die auf der Erde kriechen. 27 Gott erschuf den Menschen als sein Bild, als Bild Gottes erschuf er ihn. Männlich und weiblich erschuf er sie. 28 Gott segnete sie und Gott sprach zu ihnen: Seid fruchtbar und mehrt euch, füllt die Erde und unterwerft sie und waltet über die Fische des Meeres, über die Vögel des Himmels und über alle Tiere, die auf der Erde kriechen! 29 Dann sprach Gott: Siehe, ich gebe euch alles Gewächs, das Samen bildet auf der ganzen Erde, und alle Bäume, die Früchte tragen mit Samen darin. Euch sollen sie zur Nahrung dienen. 30 Allen Tieren der Erde, allen Vögeln des Himmels und allem, was auf der Erde kriecht, das Lebensatem in sich hat, gebe ich alles grüne Gewächs zur Nahrung. Und so geschah es. 31 Gott sah alles an, was er gemacht hatte: Und siehe, es war sehr gut. Es wurde Abend und es wurde Morgen: der sechste Tag.\n",
    "\n",
    "\n",
    "Und außerdem stelle ich fest, dass das Histogramm besser mit der Maxwell-Boltzmann-Verteilung übereinstimmt. Darüber hinaus sind mehr Punkte zu verzeichnen (ca. 10000)."
   ]
  },
  {
   "cell_type": "code",
   "execution_count": 12,
   "metadata": {
    "ExecuteTime": {
     "end_time": "2020-01-22T14:11:12.749193Z",
     "start_time": "2020-01-22T14:11:12.341187Z"
    }
   },
   "outputs": [
    {
     "data": {
      "image/png": "[encoded data removed]",
      "text/plain": [
       "<Figure size 432x288 with 1 Axes>"
      ]
     },
     "metadata": {
      "needs_background": "light"
     },
     "output_type": "display_data"
    }
   ],
   "source": [
    "import numpy as np\n",
    "import matplotlib.pyplot as plt\n",
    "import math\n",
    "\n",
    "N = 10000\n",
    "m = 4.8e-3\n",
    "T = 70\n",
    "kb = 1.38\n",
    "\n",
    "x = np.random.normal(0,1,(N,3))\n",
    "\n",
    "\n",
    "va = np.sqrt(kb*T/m)*x\n",
    "\n",
    "v = np.linalg.norm(va, axis=1)\n",
    "\n",
    "y = np.arange(0,np.max(v),0.01)\n",
    "\n",
    "def maxwell(v,T):\n",
    "    return 4*np.pi*v**2*(m/(2*np.pi*kb*T))**1.5*np.exp((-m*v**2)/(2*kb*T))\n",
    "\n",
    "plt.figure()\n",
    "plt.plot(v,maxwell(v,T),'.',label=\"Erzeugte Verteilung\")\n",
    "plt.plot(y,maxwell(y,T), label=\"Erwartete Verteilung\")\n",
    "plt.hist(v, density=True, alpha = 0.5, bins = 100)\n",
    "plt.legend(loc=\"upper right\")\n",
    "plt.grid()\n",
    "\n",
    "\n"
   ]
  },
  {
   "cell_type": "code",
   "execution_count": null,
   "metadata": {},
   "outputs": [],
   "source": []
  }
 ],
 "metadata": {
  "kernelspec": {
   "display_name": "Python 3",
   "language": "python",
   "name": "python3"
  },
  "language_info": {
   "codemirror_mode": {
    "name": "ipython",
    "version": 3
   },
   "file_extension": ".py",
   "mimetype": "text/x-python",
   "name": "python",
   "nbconvert_exporter": "python",
   "pygments_lexer": "ipython3",
   "version": "3.7.3"
  },
  "latex_envs": {
   "LaTeX_envs_menu_present": true,
   "autoclose": true,
   "autocomplete": true,
   "bibliofile": "biblio.bib",
   "cite_by": "apalike",
   "current_citInitial": 1,
   "eqLabelWithNumbers": false,
   "eqNumInitial": 1,
   "hotkeys": {
    "equation": "Ctrl-E",
    "itemize": "Ctrl-I"
   },
   "labels_anchors": false,
   "latex_user_defs": false,
   "report_style_numbering": false,
   "user_envs_cfg": false
  }
 },
 "nbformat": 4,
 "nbformat_minor": 2
}
