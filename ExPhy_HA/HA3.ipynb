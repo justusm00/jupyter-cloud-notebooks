{
 "cells": [
  {
   "cell_type": "markdown",
   "metadata": {},
   "source": [
    "<div style=\"text-align: right\"> 08.11.2019</div>\n",
    "\n",
    "***Name:*** \n",
    "\n",
    "# Hausaufgabe Blatt 3\n",
    "\n",
    "## Integration einer Bewegungsgleichung: Freier Fall\n",
    "\n",
    "In dieser Aufgabe werden wir die Bewegungsgleichung des freien Falls numerisch integrieren. Die Bewegungsgleichung in einer Dimension hat die Form:\n",
    "\\begin{equation}\\tag{1}\n",
    " \\ddot x = \\frac{\\mathrm{d}^2x}{\\mathrm{d}t^2}= a\n",
    "\\end{equation}\n",
    "\n",
    "Die analytische Lösung dieser Gleichung kennen Sie bereits. Es handelt sich dabei um die Bahnkurve\n",
    "\\begin{equation} \\tag{2}\n",
    "x\\!\\left( t \\right) = x_0 + v_0 t + \\frac{1}{2} a t^2.\n",
    "\\end{equation}\n",
    "\n",
    "Ähnlich zur analytischen Lösung, werden wir die Bewegungsgleichung in zwei Schritten integrieren. Dabei nutzen wir aus, dass die Beschleunigung $a$ die zeitliche Ableitung der Geschwindigkeit $v$ und die Geschwindigkeit die zeitliche Ableitung der Position $x$ ist:\n",
    "\\begin{align*}\n",
    "   \\frac{\\mathrm{d}x}{\\mathrm{d}t}=  \\dot x &= v \\\\\n",
    "   \\frac{\\mathrm{d}v}{\\mathrm{d}t}= \\dot v &= a\n",
    "\\end{align*}\n",
    "\n",
    "Zur numerischen Lösung dieser Gleichungen werden wir das sogenannte Euler-Verfahren verwenden. Bei diesem Verfahren wird das Integrationsintervall, in diesem Fall (hehe...) die Zeit, diskretisiert. Typischerweise nennt man den Zeitschritt $\\Delta t$. Die Änderung in der Position $\\Delta x$ und die Änderung der Geschwindigkeit $\\Delta v$ ist daher gegeben durch:\n",
    "\\begin{align*}\n",
    "    \\Delta x &= v\\left(t\\right) \\Delta t \\\\\n",
    "       \\Delta v &= a\\Delta t\n",
    "\\end{align*}\n",
    "\n",
    "Somit ergibt sich als neue Position und neue Geschwindigkeit nach einem Zeitschritt $\\Delta t$:\n",
    "    \\begin{align}\\tag{3}\n",
    "        x\\left(t+\\Delta t \\right) = x\\left(t\\right) + \\Delta x \\\\ \n",
    "        v\\left(t+\\Delta t \\right) = v\\left(t\\right) + \\Delta v \\tag{4}\n",
    "    \\end{align}\n",
    "    \n",
    "    \n",
    "## 1. Integration \"per Hand\"\n",
    "**a)** Lösen Sie Gleichung (1) für einen Zeitschritt $\\Delta t = 0.1$, indem Sie die Gleichungen (3) und (4) für die Anfangswerte $x_0=x\\left(t=0\\right) = 2$ und $v_0=v\\left(t=0\\right) = 1$ numerisch integrieren. Dabei soll $a=-9.81$ sein. Geben Sie die resultierende Position und Geschwindigkeit mit dem `print()` Befehl aus.\n"
   ]
  },
  {
   "cell_type": "code",
   "execution_count": 2,
   "metadata": {
    "ExecuteTime": {
     "end_time": "2019-11-05T10:47:11.833903Z",
     "start_time": "2019-11-05T10:47:11.817982Z"
    }
   },
   "outputs": [
    {
     "name": "stdout",
     "output_type": "stream",
     "text": [
      "x= 2.1 v= 0.018999999999999906\n"
     ]
    }
   ],
   "source": [
    "a=-9.81\n",
    "x_0=2\n",
    "v_0=1\n",
    "Δt=0.1\n",
    "x_1=x_0+Δt*v_0\n",
    "v_1=v_0+a*Δt\n",
    "print(\"x=\",x_1,\"v=\",v_1)"
   ]
  },
  {
   "cell_type": "markdown",
   "metadata": {},
   "source": [
    "**b)** Führen Sie die Integration fort, indem Sie das gerade berechnete Ergebnis für die Position und die Geschwindigkeit erneut gemäß Gleichungen (3) und (4) integrieren. Setzen Sie die Integration fort, bis sie fünf Werte $x_0,\\; x_1,\\; x_2,\\; x_3,\\; x_4$ für die Position errechnet haben. Geben Sie die Ergebnisse der Position mit dem `print()` Befehl aus"
   ]
  },
  {
   "cell_type": "code",
   "execution_count": 2,
   "metadata": {
    "ExecuteTime": {
     "end_time": "2019-11-05T10:47:12.200662Z",
     "start_time": "2019-11-05T10:47:12.187553Z"
    }
   },
   "outputs": [
    {
     "name": "stdout",
     "output_type": "stream",
     "text": [
      "x= 2 2.1 2.1019 2.0057 1.8114 v= 1 0.018999999999999906 -0.9620000000000002 -1.9430000000000003 -2.9240000000000004\n"
     ]
    }
   ],
   "source": [
    "x_2=x_1+Δt*v_1\n",
    "v_2=v_1+Δt*a\n",
    "x_3=x_2+Δt*v_2\n",
    "v_3=v_2+Δt*a\n",
    "x_4=x_3+Δt*v_3\n",
    "v_4=v_3+Δt*a\n",
    "print(\"x=\",x_0,x_1,x_2,x_3,x_4,\"v=\",v_0,v_1,v_2,v_3,v_4)"
   ]
  },
  {
   "cell_type": "markdown",
   "metadata": {},
   "source": [
    "## 2. Vergleich mit Bahnkurve\n",
    "\n",
    "Nun wollen wir die gerade errechneten Punkte mit der Bahnkurve (Gleichung (2)) vergleichen. Führen Sie dazu folgende Schritte durch:\n",
    "\n",
    "**a)** Erstellen Sie einen Plot der Bahnkurve mit den Parametern aus der ersten Teilaufgabe. Benutzen Sie dafür das im vorherigen Zettel gegeben Gerüst.  Vergessen Sie nicht die Bibliotheken `numpy` und `matplotlib.pyplot` zu importieren!"
   ]
  },
  {
   "cell_type": "code",
   "execution_count": 19,
   "metadata": {},
   "outputs": [
    {
     "data": {
      "image/png": "[encoded data removed]",
      "text/plain": [
       "<Figure size 432x288 with 1 Axes>"
      ]
     },
     "metadata": {},
     "output_type": "display_data"
    }
   ],
   "source": [
    "import numpy as np\n",
    "import matplotlib.pyplot as plt\n",
    "t = np.linspace(0, 5, 1000)\n",
    "\n",
    "\n",
    "def returnGraph(t,x0,v0):\n",
    "    return x_0+v_0*t+(a/2)*t**2\n",
    "\n",
    "x = returnGraph(t,x_0,v_0)\n",
    "fig, ax = plt.subplots()\n",
    "\n",
    "ax.set_title(\"Bahnkurve zu x(t)\")\n",
    "ax.set_xlabel(\"t\")\n",
    "ax.set_ylabel(\"x(t)\")\n",
    "plt.axis([0, 0.8, 0, 3])\n",
    "plt.grid(True)\n",
    "\n",
    "ax.plot(t, returnGraph(t,x_0,v_0), label=\"x(t)\")  \n",
    "\n",
    "ax.legend()  \n",
    "plt.show()  "
   ]
  },
  {
   "cell_type": "markdown",
   "metadata": {},
   "source": [
    "**b)** Schreiben Sie die errechneten Werte $x_0,\\; x_1 ...$ in ein numpy Array per Hand. Wählen Sie einen geeigneten Variablennamen für dieses Array."
   ]
  },
  {
   "cell_type": "code",
   "execution_count": 10,
   "metadata": {},
   "outputs": [
    {
     "name": "stdout",
     "output_type": "stream",
     "text": [
      "[ 2.      2.1     2.1019  2.0057  1.8114]\n"
     ]
    }
   ],
   "source": [
    "x_n=np.array([x_0,x_1,x_2,x_3,x_4])\n",
    "print(x_n)"
   ]
  },
  {
   "cell_type": "markdown",
   "metadata": {},
   "source": [
    "**c)** Erstellen Sie mittels `np.linspace()` ein weiteres Array für die fünf Zeitpunkte der numerischen Integration. Wählen Sie einen geeigneten Variablennamen für dieses Array."
   ]
  },
  {
   "cell_type": "code",
   "execution_count": 11,
   "metadata": {},
   "outputs": [
    {
     "name": "stdout",
     "output_type": "stream",
     "text": [
      "[ 0.   0.1  0.2  0.3  0.4]\n"
     ]
    }
   ],
   "source": [
    "t_n=np.linspace(0,0.4,5)\n",
    "print(t_n)"
   ]
  },
  {
   "cell_type": "markdown",
   "metadata": {},
   "source": [
    "**d)** Sie sollten nun zwei Arrays mit jeweils fünf Einträgen haben. Plotten Sie diese beiden arrays gegeneinander, indem Sie das vorhandene Gerüst mit folgender Zeile erweitern:\n",
    "```python\n",
    "ax.scatter(t, x, label='numerische Integration')\n",
    "```\n",
    "wobei `t` und `x` die zwei Arrays der numerischen Integration sind. Ändern Sie die Legende und die Achsenbeschriftungen, sodass Ihr Diagramm wie folgt ausssieht:\n",
    "\n",
    "<img src=\"./bahnkurve.png\" alt=\"drawing\" width=\"400\"/>"
   ]
  },
  {
   "cell_type": "code",
   "execution_count": 14,
   "metadata": {
    "ExecuteTime": {
     "end_time": "2019-11-05T10:50:32.035338Z",
     "start_time": "2019-11-05T10:50:31.894730Z"
    }
   },
   "outputs": [
    {
     "data": {
      "image/png": "[encoded data removed]",
      "text/plain": [
       "<Figure size 432x288 with 1 Axes>"
      ]
     },
     "metadata": {},
     "output_type": "display_data"
    }
   ],
   "source": [
    "import numpy as np\n",
    "import matplotlib.pyplot as plt\n",
    "t = np.linspace(0, 5, 1000)\n",
    "\n",
    "\n",
    "def returnGraph(t,x0,v0):\n",
    "    return x_0+v_0*t+(a/2)*t**2\n",
    "\n",
    "x = returnGraph(t,x_0,v_0)\n",
    "fig, ax = plt.subplots()\n",
    "\n",
    "ax.set_title(\"Bahnkurve zu x(t)\")\n",
    "ax.set_xlabel(\"t\")\n",
    "ax.set_ylabel(\"x(t)\")\n",
    "plt.axis([0, 0.6, 0, 3])\n",
    "plt.grid(True)\n",
    "\n",
    "ax.plot(t, returnGraph(t,x_0,v_0), label=\"x(t)\")\n",
    "ax.scatter(t_n, x_n, label='numerische Integration')\n",
    "\n",
    "ax.legend()  \n",
    "plt.show()  "
   ]
  },
  {
   "cell_type": "markdown",
   "metadata": {},
   "source": [
    "**e)** Wie Sie sehen, weicht die numerische Lösung von der analytischen ab. Dies liegt an der Genauigkeit des Lösungsverfahrens und an der Größe des Integrationsschrittes $\\Delta t$. Wiederholen Sie daher die numerische Integration mit einem halb so großen Zeitschritt $\\Delta t = 0.05$ bei sonst gleichen Anfangsbedingungen. Damit die Integrationszeit konstant bleibt, müssen Sie mehr Integrationsschritte durchführen. Machen Sie sich klar, wie viele Schritte Sie benötigen. Stellen Sie das Ergenbis erneut in einem Plot dar. Wählen Sie eine geeignete Legende.  Verlgeichen Sie die Trajektorien der beiden numerischen Lösungen. Was fällt Ihnen auf?"
   ]
  },
  {
   "cell_type": "code",
   "execution_count": 18,
   "metadata": {},
   "outputs": [
    {
     "data": {
      "image/png": "[encoded data removed]",
      "text/plain": [
       "<Figure size 432x288 with 1 Axes>"
      ]
     },
     "metadata": {},
     "output_type": "display_data"
    }
   ],
   "source": [
    "a=-9.81\n",
    "x_0=2\n",
    "v_0=1\n",
    "Δt=0.05\n",
    "x_1=x_0+Δt*v_0\n",
    "v_1=v_0+a*Δt\n",
    "x_2=x_1+Δt*v_1\n",
    "v_2=v_1+Δt*a\n",
    "x_3=x_2+Δt*v_2\n",
    "v_3=v_2+Δt*a\n",
    "x_4=x_3+Δt*v_3\n",
    "v_4=v_3+Δt*a\n",
    "x_5=x_4+Δt*v_4\n",
    "v_5=v_4+Δt*a\n",
    "x_6=x_5+Δt*v_5\n",
    "v_6=v_5+Δt*a\n",
    "x_7=x_6+Δt*v_6\n",
    "v_7=v_6+Δt*a\n",
    "x_8=x_7+Δt*v_7\n",
    "v_8=v_7+Δt*a\n",
    "x_9=x_8+Δt*v_8\n",
    "v_9=v_8+Δt*a\n",
    "\n",
    "x_n=np.array([x_0,x_1,x_2,x_3,x_4,x_5,x_6,x_7,x_8])\n",
    "t_n=np.linspace(0,0.4,9)\n",
    "\n",
    "import numpy as np\n",
    "import matplotlib.pyplot as plt\n",
    "t = np.linspace(0, 5, 1000)\n",
    "\n",
    "\n",
    "def returnGraph(t,x0,v0):\n",
    "    return x_0+v_0*t+(a/2)*t**2\n",
    "\n",
    "x = returnGraph(t,x_0,v_0)\n",
    "fig, ax = plt.subplots()\n",
    "\n",
    "ax.set_title(\"Bahnkurve zu x(t)\")\n",
    "ax.set_xlabel(\"t\")\n",
    "ax.set_ylabel(\"x(t)\")\n",
    "plt.axis([0, 0.6, 0, 3])\n",
    "plt.grid(True)\n",
    "\n",
    "ax.plot(t, returnGraph(t,x_0,v_0), label=\"x(t)\")\n",
    "ax.scatter(t_n, x_n, label='numerische Integration')\n",
    "\n",
    "ax.legend()  \n",
    "plt.show()  \n",
    "\n",
    "##Es fällt auf, dass die Trajektorien der numerischen Lösung bei kleineren Zeitschritten deutlich näher an der \n",
    "#tatsächlichen Bahnkurve liegen."
   ]
  },
  {
   "cell_type": "code",
   "execution_count": null,
   "metadata": {},
   "outputs": [],
   "source": []
  },
  {
   "cell_type": "code",
   "execution_count": null,
   "metadata": {},
   "outputs": [],
   "source": []
  }
 ],
 "metadata": {
  "kernelspec": {
   "display_name": "Python 3",
   "language": "python",
   "name": "python3"
  },
  "language_info": {
   "codemirror_mode": {
    "name": "ipython",
    "version": 3
   },
   "file_extension": ".py",
   "mimetype": "text/x-python",
   "name": "python",
   "nbconvert_exporter": "python",
   "pygments_lexer": "ipython3",
   "version": "3.7.3"
  },
  "latex_envs": {
   "LaTeX_envs_menu_present": true,
   "autoclose": true,
   "autocomplete": true,
   "bibliofile": "biblio.bib",
   "cite_by": "apalike",
   "current_citInitial": 1,
   "eqLabelWithNumbers": true,
   "eqNumInitial": 1,
   "hotkeys": {
    "equation": "Ctrl-E",
    "itemize": "Ctrl-I"
   },
   "labels_anchors": false,
   "latex_user_defs": false,
   "report_style_numbering": false,
   "user_envs_cfg": false
  }
 },
 "nbformat": 4,
 "nbformat_minor": 2
}
