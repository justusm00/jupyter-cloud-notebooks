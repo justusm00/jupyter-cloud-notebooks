{
 "cells": [
  {
   "cell_type": "markdown",
   "metadata": {},
   "source": [
    "<div style=\"text-align: right\"> 20.12.2019</div>\n",
    "\n",
    "***Name:*** \n",
    "\n",
    "# Hausaufgabe Blatt 9\n",
    "\n",
    "## 1. Weihnachtsmann\n",
    "\n",
    "Der Weihnachtsmann klettert bekanntlich mit seinen Geschenken durch den Schornstein. Dabei kann es schon mal passieren, dass das ein oder andere Geschenk aus dem Geschenkesack herausfällt und das Dach herunter rollt. Damit der Weihnachtsmann nicht so viel Zeit beim Suchen verliert, wollen wir ihm helfen und den Aufschlagort $x$ des Geschenks berechnen. \n",
    "\n",
    "Nehmen Sie dazu an, dass es sich hierbei um ein kugelförmiges Geschenk mit Radius $R=0.01$ m und Masse $m=0.5$ kg mit homogener Massenverteilung handelt. Das Haus habe eine Gesamthöhe von $h = h_1 + h_2$ wobei $h_1$ die Höhe des Daches ist. Das Dach habe einen Neigungswinkel $\\theta.$ Vernachlässigen Sie die Luftreibung und eine mögliche Beeinflussung der Kugel durch die Dachkante. Das Geschenk rolle das Dach herunter ohne zu Gleiten und habe keine Anfangsgeschwindigkeit. Gehen Sie davon aus, dass das Geschenk an der höchsten Stelle des Daches anfängt zu rollen. \n",
    "\n",
    "<img src=\"./rollingSanta.png\" alt=\"rollingSanta\" width=\"600\">\n",
    "\n",
    "Um das Problem zu lösen, gehen Sie wie folgt vor:\n",
    "\n",
    "**a)** Berechnen Sie zunächst den Geschwindigkeitsvektor $\\vec v$, den das Geschenk hat, nachdem es das Dach herunter gerollt ist. Dabei sei $h_1 = 2$ m und $\\theta = 14^\\circ$. Achten Sie auf die richtigen Vorzeichen."
   ]
  },
  {
   "cell_type": "code",
   "execution_count": 2,
   "metadata": {
    "ExecuteTime": {
     "end_time": "2019-12-17T14:48:26.923859Z",
     "start_time": "2019-12-17T14:48:26.511781Z"
    }
   },
   "outputs": [],
   "source": [
    "import numpy as np\n",
    "import math\n",
    "import matplotlib.pyplot as plt\n",
    "\n",
    "r=0.01\n",
    "m=0.5\n",
    "theta=0.24434609527921\n",
    "h1=2\n",
    "g=9.81\n",
    "lmax=h1/np.sin(theta)\n",
    "l=np.arange(0,lmax,0.001)\n",
    "I=0.4*m*r**2\n",
    "v= (((2*m*g*l*np.sin(theta))/(I+m*r**2))**(0.5))*r\n",
    "vend=np.amax(v)\n",
    "vx=vend*np.cos(theta)\n",
    "vy=-vend*np.sin(theta)"
   ]
  },
  {
   "cell_type": "markdown",
   "metadata": {},
   "source": [
    "**b)** Nach dem Verlassen des Dachs kann die Flugbahn des Geschenks als schiefer Wurf in zwei Dimensionen betrachtet werden mit der Anfangsgeschwindigkeit $\\vec v$. Nehmen Sie an, dass $h_2=3$ m sei.\n",
    "\n",
    "Bestimmen Sie den Aufschlagpunkt $x$ **graphisch**, indem Sie die Bahnkurve des Mittelpunkts $M$ für eine Zeit von $t_0=0$ bis $t_\\mathrm{end}=0.8$ berechnen. Dabei sei die Position der Dachkante bei $x_0 = 0$. Zeichnen Sie die Bahnkurve und eine horizontale Linie mit $y=R$. Verdeutlichen Sie den Schnittpunkt zwischen horizontaler Linie und Bahnkurve mit `ax.scatter()` und geben Sie den Aufschlagort $x$ aus.\n"
   ]
  },
  {
   "cell_type": "code",
   "execution_count": 5,
   "metadata": {
    "ExecuteTime": {
     "end_time": "2019-12-17T15:05:23.624184Z",
     "start_time": "2019-12-17T15:05:23.494656Z"
    }
   },
   "outputs": [
    {
     "name": "stdout",
     "output_type": "stream",
     "text": [
      "Aufschlagsort= 3.4\n"
     ]
    },
    {
     "data": {
      "image/png": "[encoded data removed]",
      "text/plain": [
       "<Figure size 432x288 with 1 Axes>"
      ]
     },
     "metadata": {
      "needs_background": "light"
     },
     "output_type": "display_data"
    }
   ],
   "source": [
    "h2=3\n",
    "t=np.linspace(0,0.8,1000)\n",
    "x=vx*t\n",
    "y=r+h2+vy*t-(g/2)*t**2\n",
    "\n",
    "\n",
    "f=np.array([])\n",
    "for i in range (len(x)):\n",
    "    r=0.01\n",
    "    f=np.append(r,f)\n",
    "\n",
    "\n",
    "fig, ax = plt.subplots()\n",
    "plt.plot(x,f)\n",
    "plt.plot(x,y)\n",
    "ax.scatter(3.4,0)\n",
    "plt.grid()\n",
    "\n",
    "print(\"Aufschlagsort=\",3.4)"
   ]
  },
  {
   "cell_type": "markdown",
   "metadata": {},
   "source": [
    "### Und zum Schluss noch ein Comic:\n",
    "<img src=\"https://i.pinimg.com/originals/16/20/39/16203927df5a7f8cc249a56bf0eba992.png\" alt=\"moo\" width=\"300\">"
   ]
  },
  {
   "cell_type": "code",
   "execution_count": 9,
   "metadata": {},
   "outputs": [
    {
     "name": "stdout",
     "output_type": "stream",
     "text": [
      "haha\n",
      "haha\n",
      "haha\n",
      "haha\n",
      "haha\n",
      "haha\n",
      "haha\n",
      "haha\n",
      "haha\n",
      "haha\n"
     ]
    }
   ],
   "source": [
    "for i in range (10):\n",
    "    print(\"haha\")"
   ]
  },
  {
   "cell_type": "code",
   "execution_count": null,
   "metadata": {},
   "outputs": [],
   "source": []
  }
 ],
 "metadata": {
  "kernelspec": {
   "display_name": "Python 3",
   "language": "python",
   "name": "python3"
  },
  "language_info": {
   "codemirror_mode": {
    "name": "ipython",
    "version": 3
   },
   "file_extension": ".py",
   "mimetype": "text/x-python",
   "name": "python",
   "nbconvert_exporter": "python",
   "pygments_lexer": "ipython3",
   "version": "3.8.6"
  },
  "latex_envs": {
   "LaTeX_envs_menu_present": true,
   "autoclose": true,
   "autocomplete": true,
   "bibliofile": "biblio.bib",
   "cite_by": "apalike",
   "current_citInitial": 1,
   "eqLabelWithNumbers": true,
   "eqNumInitial": 1,
   "hotkeys": {
    "equation": "Ctrl-E",
    "itemize": "Ctrl-I"
   },
   "labels_anchors": false,
   "latex_user_defs": false,
   "report_style_numbering": false,
   "user_envs_cfg": false
  }
 },
 "nbformat": 4,
 "nbformat_minor": 4
}
