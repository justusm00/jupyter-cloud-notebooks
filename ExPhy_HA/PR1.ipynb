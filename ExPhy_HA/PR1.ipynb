{
 "cells": [
  {
   "cell_type": "markdown",
   "metadata": {},
   "source": [
    "# Präsenzaufgabe 1\n",
    "\n",
    "\n",
    "## Kurzeinleitung Jupyter\n",
    "\n",
    "Hallo und willkommen bei Ihrem (ersten) Jupyter-Notebook! In Zukunft werden alle numerischen Probleme in diesem Kurs mithilfe von solchen [Jupyter-Notebooks](https://jupyter-notebook.readthedocs.io/en/stable/notebook.html) gestellt um von Ihnen gelöst zu werden. \n",
    "\n",
    "Ein Jupyter-Notebook hat folgende Elemente (Rot markiert):\n",
    "\n",
    "<img src=\"https://jupyter-notebook.readthedocs.io/en/stable/_images/blank-notebook-ui.png\">\n",
    "\n",
    " - Notebook name: Im obigen Beispielbild ist kein Name angegeben, deswegen steht da *Untitled*. Das notebook, das Sie aktuell bearbeiten hat als Name *PR1*.\n",
    " - Menu bar: Hier können verschiedene Optionen eingestellt werden. Unter `File --> Download as` kann dieses notebook heruntergeladen und lokal gespeichert werden. \n",
    " - Toolbar: hier finden sich nützliche Befehle, die durch klicken ausgeführt werden können. \n",
    " - Code cell: Dies ist das Herzstück, hier wird Code geschrieben und editiert. Führen Sie eine Zelle aus, indem Sie `Shift+Enter` oder oben in der toolbar den button <button class='btn btn-default btn-xs'><i class=\"fa fa-step-forward icon-step-forward\"></i></button>  `Run` drücken. Eine neue Zelle kann mit dem `+` Symbol aus der toolbar hinzugefügt werden.\n",
    "\n",
    "*Hinweis:* Ein Jupyter-Notebook wird automatisch alle 120s gespeichert. Natürlich können Sie auch manuell speichern.\n",
    "\n",
    "# Thema der Aufgabe: Vektorrechnung\n",
    "\n",
    "In dieser Aufgabe wird Vektorrechnung mittels `python` behandelt. Im ersten Schritt werden wir dazu die einzelnen Komponenten definieren und dann die Vektorrechnung komponentenweise ausführen.\n",
    "\n",
    "## 1. Variablenzuweisung\n",
    "\n",
    "Weisen Sie der Variable `a` den Wert `5` zu und gebe diese anschließend mit dem Befehl `print()` aus, indem Sie folgende Zeilen in der nachstehenden Zelle schreiben:\n",
    "\n",
    "``` python\n",
    "a = 5\n",
    "print(a)\n",
    "```\n",
    "Führen Sie diese Zelle aus, indem Sie `Shift+Enter` drücken oder oben auf den button <button class='btn btn-default btn-xs'><i class=\"fa fa-step-forward icon-step-forward\"></i></button>  `Run` klicken."
   ]
  },
  {
   "cell_type": "code",
   "execution_count": 2,
   "metadata": {
    "ExecuteTime": {
     "end_time": "2019-10-17T14:22:22.437850Z",
     "start_time": "2019-10-17T14:22:22.433286Z"
    },
    "scrolled": true
   },
   "outputs": [
    {
     "name": "stdout",
     "output_type": "stream",
     "text": [
      "5\n"
     ]
    }
   ],
   "source": [
    "a=5\n",
    "print(a)"
   ]
  },
  {
   "cell_type": "markdown",
   "metadata": {},
   "source": [
    "## 2. Vektoren\n",
    "\n",
    "Definieren Sie die folgenden Vektoren, indem Sie die Komponenten der Vektoren definieren.\n",
    "\\begin{equation*}\n",
    "\\vec a  = \\begin{pmatrix} 4 \\\\ 3 \\end{pmatrix}, \\: \\vec b  = \\begin{pmatrix} -4 \\\\ 0 \\end{pmatrix}\n",
    "\\end{equation*}\n",
    "\n",
    "**Bsp.:**\n",
    "``` python\n",
    "a_x = 4\n",
    "a_y = 3\n",
    "```\n",
    "..."
   ]
  },
  {
   "cell_type": "code",
   "execution_count": 8,
   "metadata": {
    "ExecuteTime": {
     "end_time": "2019-10-17T14:22:22.938303Z",
     "start_time": "2019-10-17T14:22:22.934377Z"
    }
   },
   "outputs": [],
   "source": [
    "a_x=4\n",
    "a_y=3\n",
    "\n",
    "b_x=-4\n",
    "b_y=0"
   ]
  },
  {
   "cell_type": "markdown",
   "metadata": {},
   "source": [
    "Nutzen Sie die gerade definierten Komponenten, um\n",
    " - die Vektorsumme\n",
    " - das Skalarprodukt der beiden Vektoren \n",
    " - den Betrag der einzelnen Vektoren\n",
    " - den Betrag der Vektorsumme \n",
    "\n",
    "zu berechnen. Geben Sie die Lösung anschließend mit dem `print()` Befehl aus.\n",
    "\n",
    "*Hinweise:* Bevor Sie mit der Bearbeitung der Aufgaben beginnen, lesen Sie folgende Hinweise aufmerksam durch!\n",
    " - Das Potenzsymbol in `python` ist `**` und nicht `^` wie man es vielleicht vom Taschenrechner gewohnt ist:"
   ]
  },
  {
   "cell_type": "code",
   "execution_count": 3,
   "metadata": {
    "ExecuteTime": {
     "end_time": "2019-10-17T14:22:23.670295Z",
     "start_time": "2019-10-17T14:22:23.663950Z"
    }
   },
   "outputs": [
    {
     "name": "stdout",
     "output_type": "stream",
     "text": [
      "Zwei zum Quadrat ist: 4\n"
     ]
    }
   ],
   "source": [
    "zweiQuadrat = 2**2\n",
    "print(\"Zwei zum Quadrat ist:\",zweiQuadrat)"
   ]
  },
  {
   "cell_type": "markdown",
   "metadata": {},
   "source": [
    " - `python` weiß nicht, wie man die Quadratwurzel zieht. Daher muss das Mathepaket `math` geladen werden. Laden Sie die Bibliothek mit dem Befehl `import math`, indem Sie die nachstehende Zelle ausführen.  Das Quadratwurzelziehen `sqrt()` sieht dann wie folgt aus:"
   ]
  },
  {
   "cell_type": "code",
   "execution_count": 5,
   "metadata": {
    "ExecuteTime": {
     "end_time": "2019-10-17T14:22:28.467932Z",
     "start_time": "2019-10-17T14:22:28.465429Z"
    }
   },
   "outputs": [
    {
     "name": "stdout",
     "output_type": "stream",
     "text": [
      "Die Quadratwurzel aus 4 ist: 2.0\n"
     ]
    }
   ],
   "source": [
    "import math\n",
    "wurzel4 = math.sqrt(4)\n",
    "print(\"Die Quadratwurzel aus 4 ist:\", wurzel4)"
   ]
  },
  {
   "cell_type": "markdown",
   "metadata": {},
   "source": [
    "Viel Erfolg beim Lösen der Aufgaben!"
   ]
  },
  {
   "cell_type": "code",
   "execution_count": 20,
   "metadata": {},
   "outputs": [
    {
     "name": "stdout",
     "output_type": "stream",
     "text": [
      "Die Vektorsumme ist x= 4 und y= 3\n",
      "Das Skalarprodukt der beiden Vektoren a und b ist: -16\n"
     ]
    }
   ],
   "source": [
    "vec_sumx=a_x+b_x\n",
    "vec_sumy=a_y+b_y\n",
    "skalprod=a_x*b_x+a_y*b_y\n",
    "print(\"Die Vektorsumme ist x=\",a_x,\"und y=\",a_y)\n",
    "print(\"Das Skalarprodukt der beiden Vektoren a und b ist:\", skalprod)"
   ]
  },
  {
   "cell_type": "code",
   "execution_count": 11,
   "metadata": {},
   "outputs": [
    {
     "name": "stdout",
     "output_type": "stream",
     "text": [
      "Der Betrag von a ist: 5.0\n",
      "Der Betrag von b ist: 4.0\n"
     ]
    }
   ],
   "source": [
    "betraga=math.sqrt(a_x**2+a_y**2)\n",
    "betragb=math.sqrt(b_x**2+b_y**2)\n",
    "print(\"Der Betrag von a ist:\", betraga)\n",
    "print(\"Der Betrag von b ist:\", betragb)"
   ]
  },
  {
   "cell_type": "code",
   "execution_count": 12,
   "metadata": {},
   "outputs": [],
   "source": [
    "\n",
    "Vektsx=a_x+b_x\n",
    "Vektsy=a_y+b_y"
   ]
  },
  {
   "cell_type": "code",
   "execution_count": 19,
   "metadata": {},
   "outputs": [
    {
     "name": "stdout",
     "output_type": "stream",
     "text": [
      "Der Betrach vonne Vektorsumme is 3.0\n"
     ]
    }
   ],
   "source": [
    "\n",
    "BetrVs=math.sqrt(Vektsx**2+Vektsy**2)\n",
    "print(\"Der Betrach vonne Vektorsumme is\",BetrVs)"
   ]
  },
  {
   "cell_type": "code",
   "execution_count": 23,
   "metadata": {},
   "outputs": [
    {
     "name": "stdout",
     "output_type": "stream",
     "text": [
      "2.4082246852806923\n"
     ]
    }
   ],
   "source": [
    "a=(9)**0.4\n",
    "print(a)\n"
   ]
  },
  {
   "cell_type": "code",
   "execution_count": 17,
   "metadata": {},
   "outputs": [
    {
     "name": "stdout",
     "output_type": "stream",
     "text": [
      "1.0040020013340105\n"
     ]
    }
   ],
   "source": [
    "import math\n",
    "import numpy as np\n",
    "import matplotlib.pyplot as plt\n",
    "e=2.71828182846\n",
    " \n",
    "def returnGraph(n=500):\n",
    "    return ((n*e**(n+1/n))+n**2+(e**n)+n**1/2)/((n*e**n)+1)\n",
    "\n",
    "x=returnGraph(500)\n",
    "print(x)\n"
   ]
  },
  {
   "cell_type": "code",
   "execution_count": null,
   "metadata": {},
   "outputs": [],
   "source": []
  }
 ],
 "metadata": {
  "kernelspec": {
   "display_name": "Python 3",
   "language": "python",
   "name": "python3"
  },
  "language_info": {
   "codemirror_mode": {
    "name": "ipython",
    "version": 3
   },
   "file_extension": ".py",
   "mimetype": "text/x-python",
   "name": "python",
   "nbconvert_exporter": "python",
   "pygments_lexer": "ipython3",
   "version": "3.6.6"
  },
  "latex_envs": {
   "LaTeX_envs_menu_present": true,
   "autoclose": true,
   "autocomplete": true,
   "bibliofile": "biblio.bib",
   "cite_by": "apalike",
   "current_citInitial": 1,
   "eqLabelWithNumbers": true,
   "eqNumInitial": 1,
   "hotkeys": {
    "equation": "Ctrl-E",
    "itemize": "Ctrl-I"
   },
   "labels_anchors": false,
   "latex_user_defs": false,
   "report_style_numbering": false,
   "user_envs_cfg": false
  }
 },
 "nbformat": 4,
 "nbformat_minor": 4
}
