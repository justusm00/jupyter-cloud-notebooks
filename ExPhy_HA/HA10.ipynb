{
 "cells": [
  {
   "cell_type": "markdown",
   "metadata": {},
   "source": [
    "<div style=\"text-align: right\"> 10.01.2020</div>\n",
    "\n",
    "***Name:*** \n",
    "\n",
    "# Hausaufgabe Blatt 10\n",
    "\n",
    "## Barometrische Höhenformel\n",
    "\n",
    "Die barometrische Höhenformel stellt einen Bezug zwischen dem Druck $p$ eines idealen Gases der molekularen Masse $m$ abhängig von der Höhe über dem Boden $z$ im Schwerefeld der Erde her.  Die barometrische Höhenformel wird in den kommenden Vorlesungen genauer behandelt. Hier werden die grundlegenden Überlegungen der Herleitung angeschnitten. \n",
    "\n",
    "Betrachtet man das Gewicht einer Luftsäule mit der Fläche $A$ in der Höhe $z$, so nimmt dieses bei einem Anstieg auf $z + \\mathrm{d}z$ um $\\rho \\cdot A \\cdot g \\cdot \\mathrm{d}h$ ab. Dabei ist $\\rho$ die Dichte der Luft und $g$ die Erdbeschleunigung. Daher sinkt auch der Druck $p$ um\n",
    "\n",
    "$$\n",
    " \\mathrm{d} p  = - \\rho g \\,\\mathrm{d}z.\n",
    "$$\n",
    "\n",
    "Nimmt man nun an, dass es sich bei dem Gas um ein ideales Gas bei der Temperatur $T$ handelt, so kann mittels \n",
    "\\begin{equation}\n",
    "\\rho = \\frac{Nm}{V} = \\frac{mp}{k_B T}\n",
    "\\end{equation}\n",
    "\n",
    "die Druckänderung wie folgt dargestellt werden\n",
    "\n",
    "$$ \n",
    " \\mathrm{d} p  = - \\frac{mp}{k_B T} g \\,\\mathrm{d}z.\n",
    " \\tag{1}\n",
    "$$\n",
    "Dabei ist $m$ die molekulare Masse des Gases.  \n",
    "\n",
    "Mit dem Druck am Erdboden $p\\left(z=0\\right)=p_0$ ergibt sich bei konstanter Temperatur $T$ durch Integration die barometrische Höhenformel \n",
    "$$\n",
    "p\\! \\left(z\\right)= p_0 \\cdot \\mathrm e ^ {-\\frac{mg}{k_B T} z }.\n",
    "\\tag{2}\n",
    "$$\n",
    "\n",
    "Wir wollen den Druckverlauf berechnen, indem wir Gleichung (1) numerisch integrieren. Die nach dem Euler Verfahren diskretisierte Gleichung nimmt folgende Form an:\n",
    "$$\n",
    " \\Delta p  = - \\frac{mp}{k_B T} g \\,\\Delta z.\n",
    "$$\n",
    "\n",
    "Somit gilt für den Gesamtdruck in der Höhe $z + \\Delta z$:\n",
    "\n",
    "$$\n",
    "p\\left(z + \\Delta z\\right) = p\\left(z\\right) + \\Delta p.\n",
    "\\tag{3}\n",
    "$$\n",
    "\n",
    "## Aufgabe 1\n",
    "\n",
    "**a)** Berechnen Sie den Druck in Abhängigkeit der Höhe indem Sie Gleichung (3) numerisch iterativ lösen für $dz = 1$ bis Sie eine Höhe $h = 10000$ über dem Boden erreicht haben. Gehen Sie dabei von folgenden Werten aus $p_0 = 1$, $m=4.8\\cdot 10^{-3}$ und $g=9.81$.\n",
    "Nehmen Sie dabei an, dass die Temperatur konstant $T=292$ ist. Wählen Sie für $k_B=1.38$."
   ]
  },
  {
   "cell_type": "code",
   "execution_count": 2,
   "metadata": {
    "ExecuteTime": {
     "end_time": "2020-01-10T09:03:01.335074Z",
     "start_time": "2020-01-10T09:03:01.162967Z"
    }
   },
   "outputs": [
    {
     "name": "stdout",
     "output_type": "stream",
     "text": [
      "[1.         0.99988314 0.9997663  ... 0.31086788 0.31083156 0.31079524]\n"
     ]
    }
   ],
   "source": [
    "import numpy as np\n",
    "import matplotlib.pyplot as plt\n",
    "import math\n",
    "\n",
    "\n",
    "dz=1\n",
    "h=10000\n",
    "p0=1\n",
    "m=0.0048\n",
    "g=9.81\n",
    "kB=1.38\n",
    "T=292\n",
    "p=1\n",
    "pz=np.array([p])\n",
    "for i in range (0,h):\n",
    "    p=p-(m*p)/(kB*T)*g*dz\n",
    "    pz=np.append(pz,p)\n",
    "    \n",
    "print(pz)\n",
    "\n",
    "z=np.arange(0,10001,1)\n"
   ]
  },
  {
   "cell_type": "markdown",
   "metadata": {},
   "source": [
    "**b)** Schreiben Sie eine Funktion für die analytische Lösung (Gleichung (2)) und vergleichen Sie diese mit Ihrer numerischen Lösung in einem plot. Wählen Sie geeignete Achsenbeschriftungen und eine Legende. "
   ]
  },
  {
   "cell_type": "code",
   "execution_count": 19,
   "metadata": {},
   "outputs": [
    {
     "name": "stdout",
     "output_type": "stream",
     "text": [
      "[1.         0.99988315 0.99976632 ... 0.31088911 0.31085278 0.31081646]\n"
     ]
    },
    {
     "data": {
      "image/png": "[encoded data removed]",
      "text/plain": [
       "<Figure size 432x288 with 1 Axes>"
      ]
     },
     "metadata": {
      "needs_background": "light"
     },
     "output_type": "display_data"
    }
   ],
   "source": [
    "def press(z):\n",
    "    return p0*np.exp((-m*g)/(kB*T)*z)\n",
    "\n",
    "\n",
    "pana=p0*np.exp((-m*g)/(kB*T)*z)\n",
    "print(pana)\n",
    "plt.figure()\n",
    "plt.plot(z,pana, '--',label=\"Analytische Lösung\")\n",
    "plt.plot(z,pz,label=\"Numerische Lösung\")\n",
    "plt.xlabel(\"Höhe h in m\")\n",
    "plt.ylabel(\"Druck p in Pa\")\n",
    "plt.legend(loc=\"upper right\")\n",
    "plt.grid()"
   ]
  },
  {
   "cell_type": "code",
   "execution_count": null,
   "metadata": {},
   "outputs": [],
   "source": []
  }
 ],
 "metadata": {
  "kernelspec": {
   "display_name": "Python 3",
   "language": "python",
   "name": "python3"
  },
  "language_info": {
   "codemirror_mode": {
    "name": "ipython",
    "version": 3
   },
   "file_extension": ".py",
   "mimetype": "text/x-python",
   "name": "python",
   "nbconvert_exporter": "python",
   "pygments_lexer": "ipython3",
   "version": "3.8.8"
  },
  "latex_envs": {
   "LaTeX_envs_menu_present": true,
   "autoclose": true,
   "autocomplete": true,
   "bibliofile": "biblio.bib",
   "cite_by": "apalike",
   "current_citInitial": 1,
   "eqLabelWithNumbers": false,
   "eqNumInitial": 1,
   "hotkeys": {
    "equation": "Ctrl-E",
    "itemize": "Ctrl-I"
   },
   "labels_anchors": false,
   "latex_user_defs": false,
   "report_style_numbering": false,
   "user_envs_cfg": false
  }
 },
 "nbformat": 4,
 "nbformat_minor": 4
}
