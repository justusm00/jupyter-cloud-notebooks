{
 "cells": [
  {
   "cell_type": "markdown",
   "metadata": {},
   "source": [
    "# Hausaufgabe 5 \n",
    "\n",
    "## Integration einer Bewegungsgleichung: Freier Fall - Revisited\n",
    "\n",
    "In dieser Aufgabe werden wir erneut die Bewegungsgleichung des freien Falls numerisch mit dem Euler Verfahren lösen. Die Bewegungsgleichung hat die Form:\n",
    "\\begin{equation}\\tag{1}\n",
    " \\ddot x = \\frac{\\mathrm{d}^2x}{\\mathrm{d}t^2}= a\n",
    "\\end{equation}\n",
    "\n",
    "Dieses mal soll die Bewegungsgleichung nicht \"per Hand\" sondern rekursiv mittels einer Schleife gelöst werden. "
   ]
  },
  {
   "cell_type": "markdown",
   "metadata": {},
   "source": [
    "## 1. Integration mit Schleife\n",
    "\n",
    "**a)** Lösen Sie erneut Gleichung (1) für fünf Zeitschritte $\\Delta t = 0.1$, indem Sie die Gleichungen (3) und (4) für die Anfangswerte $x_0=x\\left(t=0\\right) = 2$ und $v_0=v\\left(t=0\\right) = 1$ numerisch mit Hilfe einer Schleife integrieren. Dabei soll $a=-9.81$ sein. Speichern Sie die numerisch berechneten Positionen in einer Liste indem Sie `append()` benutzen.\n",
    "\n",
    "Als Erinerrung:\n",
    "\n",
    "\\begin{equation} \\tag{2}\n",
    "x\\!\\left( t \\right) = x_0 + v_0 t + \\frac{1}{2} a t^2.\n",
    "\\end{equation}\n",
    "\n",
    "\\begin{align}\\tag{3}\n",
    "        x\\left(t+\\Delta t \\right) &= x\\left(t\\right) + v\\left(t\\right) \\Delta t \\\\ \n",
    "        v\\left(t+\\Delta t \\right) &= v\\left(t\\right) + a\\Delta t \\tag{4}\n",
    "    \\end{align}\n",
    "    \n"
   ]
  },
  {
   "cell_type": "code",
   "execution_count": 2,
   "metadata": {},
   "outputs": [
    {
     "name": "stdout",
     "output_type": "stream",
     "text": [
      "[ 2.      2.1     2.1019  2.0057  1.8114  1.519 ]\n"
     ]
    }
   ],
   "source": [
    "import numpy as np\n",
    "x0=2\n",
    "v0=1\n",
    "a=-9.81\n",
    "dt=0.1\n",
    "\n",
    "v=1\n",
    "x=2\n",
    "xt2 = np.array([x0])\n",
    "vt = np.array([v0])\n",
    "for i in range(0,5):\n",
    "    x=x+v*dt\n",
    "    xt2 = np.append(x,xt2)\n",
    "    v=v+a*dt\n",
    "    vt = np.append(v,vt)\n",
    "xt=np.flip(xt2,0)    \n",
    "print(xt)"
   ]
  },
  {
   "cell_type": "markdown",
   "metadata": {},
   "source": [
    "**b)** Plotten Sie diese Positionen in einem Diagramm mit der Bahnkurve (Gleichung (2)). Benutzen Sie das mit `ax.scatter()` erweiterte Grundgerüst von der Musterlösung `helpPlotScatter.ipynb`. "
   ]
  },
  {
   "cell_type": "code",
   "execution_count": 3,
   "metadata": {},
   "outputs": [
    {
     "name": "stdout",
     "output_type": "stream",
     "text": [
      "6 6\n"
     ]
    },
    {
     "data": {
      "image/png": "[encoded data removed]",
      "text/plain": [
       "<Figure size 432x288 with 1 Axes>"
      ]
     },
     "metadata": {},
     "output_type": "display_data"
    }
   ],
   "source": [
    "import numpy as np\n",
    "import matplotlib.pyplot as plt\n",
    "\n",
    "x0 = 2\n",
    "v0 = 1\n",
    "a = -9.81\n",
    "\n",
    "\n",
    "\n",
    "t = np.linspace(0, 4*dt, 20)\n",
    "xAnalytic = x0 + v0 * t + 0.5 * a * t**2\n",
    "\n",
    "xNumeric = xt\n",
    "tNumeric = np.linspace(0,4*dt,6)\n",
    "\n",
    "print(len(xNumeric),len(tNumeric))\n",
    "\n",
    "fig, ax = plt.subplots()\n",
    "plt.axis([0, 0.8, 0, 2.5])\n",
    "ax.set_title(\"Geradlinige Beschleunigung\")  # Titel\n",
    "ax.plot(t, xAnalytic, label='analytische Lösung')  # x-Wert, hier x, y Wert hier xQuadrat\n",
    "ax.scatter(tNumeric, xNumeric, label='numerische Lösung')\n",
    "ax.set_xlabel(\"Zeit $t$\")\n",
    "ax.set_ylabel(\"Position $x$\")\n",
    "\n",
    "plt.legend(loc=3)\n",
    "plt.show()"
   ]
  },
  {
   "cell_type": "markdown",
   "metadata": {},
   "source": [
    "## 2. Variation des Zeitschrittes\n",
    "\n",
    "Sie sollten nun die Abbildung aus Hausaufgabe 3 reproduziert haben\n",
    "\n",
    "**a)** Wiederholen Sie Aufgabe 1 mit einem Zeitschritt $\\Delta t = 0.005$. Achten Sie darauf, dass die Integrationszeit gleich bleibt! Da Sie nun sehr viele Werte erzeugt haben, ist es sinnvoller die numerische Lösung ebenfalls in einem Linienplot mit `ax.plot()` darzustellen."
   ]
  },
  {
   "cell_type": "code",
   "execution_count": 4,
   "metadata": {},
   "outputs": [
    {
     "data": {
      "image/png": "[encoded data removed]",
      "text/plain": [
       "<Figure size 432x288 with 1 Axes>"
      ]
     },
     "metadata": {},
     "output_type": "display_data"
    },
    {
     "name": "stdout",
     "output_type": "stream",
     "text": [
      "101\n"
     ]
    }
   ],
   "source": [
    "import numpy as np\n",
    "x0=2\n",
    "v0=1\n",
    "a=-9.81\n",
    "dt=0.005\n",
    "\n",
    "v=1\n",
    "x=2\n",
    "xt2 = np.array([x0])\n",
    "vt = np.array([v0])\n",
    "for i in range(0,100):\n",
    "    x=x+v*dt\n",
    "    xt2 = np.append(x,xt2)\n",
    "    v=v+a*dt\n",
    "    vt = np.append(v,vt)\n",
    "xt=np.flip(xt2,0)    \n",
    "\n",
    "\n",
    "\n",
    "import numpy as np\n",
    "import matplotlib.pyplot as plt\n",
    "\n",
    "x0 = 2\n",
    "v0 = 1\n",
    "a = -9.81\n",
    "\n",
    "\n",
    "\n",
    "\n",
    "xNumeric = xt\n",
    "tNumeric = np.linspace(0,100*dt,101)\n",
    "\n",
    "fig, ax = plt.subplots()\n",
    "plt.axis([0, 0.8, 0, 2.5])\n",
    "ax.set_title(\"Geradlinige Beschleunigung\")  # Titel\n",
    "ax.plot(tNumeric, xNumeric)\n",
    "ax.set_xlabel(\"Zeit $t$\")\n",
    "ax.set_ylabel(\"Position $x$\")\n",
    "\n",
    "plt.show()\n",
    "print(len(xNumeric))"
   ]
  },
  {
   "cell_type": "markdown",
   "metadata": {
    "ExecuteTime": {
     "end_time": "2019-11-21T09:54:24.497303Z",
     "start_time": "2019-11-21T09:54:24.491736Z"
    }
   },
   "source": [
    "**b)** Berechnen Sie die quadratische Abweichung $\\mathrm{SE}\\left(t\\right)$ zwischen der numerischen und analytischen Lösung abhängig vom Zeitschritt:\n",
    "   $$ \n",
    "   \\mathrm{SE}\\left(t\\right) = \\left(x_{\\mathrm{numerisch}}\\left(t\\right) - x_\\mathrm{analytisch}\\left(t\\right)\\right) ^2\n",
    "   $$\n",
    "Plotten Sie die quadratische Abweichung gegen die Zeit. Benutzen Sie geeignete Beschriftungen! \n",
    "\n",
    "Beschreiben Sie kurz, was Sie beobachten. "
   ]
  },
  {
   "cell_type": "code",
   "execution_count": 75,
   "metadata": {},
   "outputs": [
    {
     "name": "stdout",
     "output_type": "stream",
     "text": [
      "101\n",
      "101\n"
     ]
    },
    {
     "data": {
      "image/png": "[encoded data removed]",
      "text/plain": [
       "<Figure size 432x288 with 1 Axes>"
      ]
     },
     "metadata": {},
     "output_type": "display_data"
    }
   ],
   "source": [
    "x0=2\n",
    "v0=1\n",
    "\n",
    "t=np.linspace(0, 0.5,101)\n",
    "xAnalytic = x0 + v0 * t + 0.5 * a * t**2\n",
    "\n",
    "\n",
    "SE_t=[(xNumeric[i]-xAnalytic[i])**2 for i in range(101)]\n",
    "\n",
    "print(len(xNumeric))\n",
    "print(len(xAnalytic))\n",
    "fig, ax = plt.subplots()\n",
    "\n",
    "plt.axis([0, 0.5, 0, 0.0001])\n",
    "ax.set_title(\"Quadratische Abweichung\")\n",
    "ax.plot(t,SE_t)\n",
    "ax.set_xlabel(\"Zeit $t$\")\n",
    "ax.set_ylabel(\"SE(t)\")\n",
    "plt.show()\n"
   ]
  },
  {
   "cell_type": "code",
   "execution_count": 79,
   "metadata": {},
   "outputs": [
    {
     "name": "stdout",
     "output_type": "stream",
     "text": [
      "Die quadratische Abweichung steigt mit der Zeit qudratisch an, die numerische Integration weicht also immer stärker von der tatsächlichen Funktion ab.\n"
     ]
    }
   ],
   "source": [
    "print(\"Die quadratische Abweichung steigt mit der Zeit qudratisch an, die numerische Integration weicht also immer stärker von der tatsächlichen Funktion ab.\") "
   ]
  },
  {
   "cell_type": "code",
   "execution_count": null,
   "metadata": {},
   "outputs": [],
   "source": []
  }
 ],
 "metadata": {
  "kernelspec": {
   "display_name": "Python 3",
   "language": "python",
   "name": "python3"
  },
  "language_info": {
   "codemirror_mode": {
    "name": "ipython",
    "version": 3
   },
   "file_extension": ".py",
   "mimetype": "text/x-python",
   "name": "python",
   "nbconvert_exporter": "python",
   "pygments_lexer": "ipython3",
   "version": "3.7.3"
  },
  "latex_envs": {
   "LaTeX_envs_menu_present": true,
   "autoclose": true,
   "autocomplete": true,
   "bibliofile": "biblio.bib",
   "cite_by": "apalike",
   "current_citInitial": 1,
   "eqLabelWithNumbers": true,
   "eqNumInitial": 1,
   "hotkeys": {
    "equation": "Ctrl-E",
    "itemize": "Ctrl-I"
   },
   "labels_anchors": false,
   "latex_user_defs": false,
   "report_style_numbering": false,
   "user_envs_cfg": false
  }
 },
 "nbformat": 4,
 "nbformat_minor": 2
}
