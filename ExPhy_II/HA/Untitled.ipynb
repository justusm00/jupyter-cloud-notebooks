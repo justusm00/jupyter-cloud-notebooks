{
 "cells": [
  {
   "cell_type": "code",
   "execution_count": 1,
   "metadata": {},
   "outputs": [
    {
     "name": "stderr",
     "output_type": "stream",
     "text": [
      "MovieWriter imagemagick unavailable; trying to use <class 'matplotlib.animation.PillowWriter'> instead.\n"
     ]
    },
    {
     "data": {
      "image/png": "[encoded data removed]",
      "text/plain": [
       "<Figure size 432x288 with 1 Axes>"
      ]
     },
     "metadata": {
      "needs_background": "light"
     },
     "output_type": "display_data"
    }
   ],
   "source": [
    "import numpy as np\n",
    "import matplotlib.pyplot as plt\n",
    "from scipy.constants import pi\n",
    "import matplotlib.animation as animation\n",
    "\n",
    "# create figure\n",
    "fig = plt.figure()\n",
    "\n",
    "# values for time and voltage\n",
    "t = np.linspace(0,100)\n",
    "v = np.exp(2j*pi*t/50)\n",
    "\n",
    "# determine intervals\n",
    "int_v_real = [np.min(v.real), np.max(v.real)]\n",
    "int_v_imag = [np.min(v.imag), np.max(v.imag)]\n",
    "\n",
    "# axis settings\n",
    "ax = plt.axes(xlim=int_v_real, ylim=int_v_imag)\n",
    "ax.set_aspect('equal')\n",
    "\n",
    "# animation function.  This is called sequentially.\n",
    "def animate(i):\n",
    "    # clear graph\n",
    "    ax.clear()\n",
    "    # reset limits\n",
    "    ax.set_xlim(int_v_real)\n",
    "    ax.set_ylim(int_v_imag)\n",
    "\n",
    "    # plot line\n",
    "    ax.plot([0,v[i].real], [0,v[i].imag],label='Eingangsspannung')\n",
    "\n",
    "    # add title etc.\n",
    "    plt.title(f'time = {t[i]} s')\n",
    "    plt.ylabel('imag')\n",
    "    plt.xlabel('real')\n",
    "    plt.legend(loc=1) # loc=1 mean top right\n",
    "\n",
    "# create the animation on 'fig' by calling the function 'animate' 50 times, delay each frame by 20ms\n",
    "anim = animation.FuncAnimation(fig, animate, frames=50, interval=20)\n",
    "# save as a gif using 'imagemagick'\n",
    "anim.save('Spannungen.gif', writer='imagemagick')"
   ]
  },
  {
   "cell_type": "code",
   "execution_count": null,
   "metadata": {},
   "outputs": [],
   "source": []
  }
 ],
 "metadata": {
  "kernelspec": {
   "display_name": "Python 3",
   "language": "python",
   "name": "python3"
  },
  "language_info": {
   "codemirror_mode": {
    "name": "ipython",
    "version": 3
   },
   "file_extension": ".py",
   "mimetype": "text/x-python",
   "name": "python",
   "nbconvert_exporter": "python",
   "pygments_lexer": "ipython3",
   "version": "3.7.3"
  }
 },
 "nbformat": 4,
 "nbformat_minor": 2
}
