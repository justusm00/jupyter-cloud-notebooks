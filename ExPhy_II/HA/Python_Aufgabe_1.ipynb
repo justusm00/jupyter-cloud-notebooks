{
 "cells": [
  {
   "cell_type": "markdown",
   "metadata": {},
   "source": [
    "---\n",
    "# Übungszettel 1, Python Aufgabe\n",
    "---\n",
    "\n",
    "**ausgegeben am Mi 22.4.2020 12 Uhr, abzugeben bis Mi 29.4.2020 12 Uhr**"
   ]
  },
  {
   "cell_type": "markdown",
   "metadata": {},
   "source": [
    "Bearbeitet von: Max Mustermann\n",
    "\n",
    "Zusammenarbeit mit: -\n",
    "\n",
    "Übungsgruppe: Otto Normalverbraucher\n",
    "\n",
    "---"
   ]
  },
  {
   "cell_type": "markdown",
   "metadata": {},
   "source": [
    "In der Elektrostatik und -Dynamik sind Vektoren und manchmal auch Matrizen unverzichtbar. Anstelle alle Operationen mit Vektoren manuell zu programmieren oder per Hand durchzuführen, kann man diese auch schnell und zuverlässig mit einer Bücherrei durchführen. Wir wollen daher diese Übungsaufgabe nutzen um die Nutzung von `numpy` zu wiederholen.\n",
    "\n",
    "Benutzen Sie `numpy` um Skalarprodukte (inneres Produkt), Kreuzprodukte und Matrixprodukte mit Python zu berechnen.\n",
    "* Importieren Sie `numpy` als `np`.\n",
    "* Definieren Sie die Vektoren $a=[1, 3, 0]$, $b=[-1,0,1]$ und die Matrix $M=[[1,0,1],[0,2,0],[-1,0,1]]$ als numpy array (also z.B. `a=np.array([1,3,0])`)\n",
    "* Berechnen Sie das Skalarprodukt (`np.dot()` alternativ mit dem Symbol `@` als Malzeichen) $a \\circ b$, Kreuzprodukt (`np.cross()`) $a \\times b$ und das Matrix-Vektor Produkt (wieder mit dem Skalarprodukt Zeichen) $M \\cdot a$\n",
    "* Zeigen Sie die Ergebnisse der Operationen und die Transponierte der Matrix $M$ (mit `.T` nach dem Namen wird transponiert) mit `print()`.\n",
    "\n"
   ]
  },
  {
   "cell_type": "markdown",
   "metadata": {},
   "source": [
    "---\n",
    "**Erste Hilfe Python:**\n",
    "* Online-Sprechstunde jeden Mittwoch im Semester von 15-17 Uhr über BigBlueButton\n",
    "* Studiengruppe im StudIP mit dem Titel “Erste Hilfe Python der SUB Göttingen”\n",
    "* Übersichts-Pad ( https://pad.gwdg.de/ErsteHilfePython ) als alternative Anlaufstelle"
   ]
  },
  {
   "cell_type": "code",
   "execution_count": 6,
   "metadata": {},
   "outputs": [
    {
     "name": "stdout",
     "output_type": "stream",
     "text": [
      "-1\n",
      "[ 3 -1  3]\n",
      "[ 1  6 -1]\n",
      "[[ 1  0 -1]\n",
      " [ 0  2  0]\n",
      " [ 1  0  1]]\n"
     ]
    }
   ],
   "source": [
    "import numpy as np\n",
    "a = np.array([1,3,0])\n",
    "b = np.array([-1,0,1])\n",
    "M = np.array([[1,0,1], [0,2,0], [-1,0,1]])\n",
    "print(np.dot(a,b))\n",
    "print(np.cross(a,b))\n",
    "print(np.dot(M,a))\n",
    "print(M.T)"
   ]
  },
  {
   "cell_type": "code",
   "execution_count": null,
   "metadata": {},
   "outputs": [],
   "source": []
  }
 ],
 "metadata": {
  "kernelspec": {
   "display_name": "Python 3",
   "language": "python",
   "name": "python3"
  },
  "language_info": {
   "codemirror_mode": {
    "name": "ipython",
    "version": 3
   },
   "file_extension": ".py",
   "mimetype": "text/x-python",
   "name": "python",
   "nbconvert_exporter": "python",
   "pygments_lexer": "ipython3",
   "version": "3.7.3"
  }
 },
 "nbformat": 4,
 "nbformat_minor": 4
}
