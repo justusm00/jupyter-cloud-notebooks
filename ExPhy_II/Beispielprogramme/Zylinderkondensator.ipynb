{
 "cells": [
  {
   "cell_type": "code",
   "execution_count": 127,
   "metadata": {},
   "outputs": [
    {
     "name": "stdout",
     "output_type": "stream",
     "text": [
      "ri= 0.1 m  gap= 0.001 m n-stop= 900\n"
     ]
    },
    {
     "data": {
      "image/png": "[encoded data removed]",
      "text/plain": [
       "<Figure size 432x288 with 1 Axes>"
      ]
     },
     "metadata": {
      "needs_background": "light"
     },
     "output_type": "display_data"
    }
   ],
   "source": [
    "#Berechnung der Kapazität eines Zyinderkondensators\n",
    "#wir nutzen matplotlib, um unsere Daten graphisch darzustellen\n",
    "#wir nutzen math, um den natürichen Logarithmus zu berechnene\n",
    "import math\n",
    "import matplotlib.pyplot as plt\n",
    "# Benötigte Konstanten sind 𝜋 und die Dielektrizitätskonstante. Wir können diese per Hand eingeben, oder einfach importieren:\n",
    "from scipy.constants import pi, epsilon_0\n",
    "\n",
    "#Konstanten\n",
    "#Länge der Zylinder in m\n",
    "#Durchmesser ri des inneren Zylinders in m\n",
    "#Durchmesser ra des Aussenzylinders in m\n",
    "#kleinster Abstand gap in m\n",
    "l=1\n",
    "ri=0.1\n",
    "gap=0.001\n",
    "ra_min=ri+gap\n",
    "#istop ist hier ein Integer index\n",
    "istop=int((1-ri)/gap)\n",
    "print ('ri=',ri,'m  gap=',gap,'m','n-stop=',istop)\n",
    "\n",
    "#Aussendurchmesser ra von ra_min bis 1 m\n",
    "ra = [(ra_min+gap*x) for x in range(1,istop)]\n",
    "\n",
    "#Kapazität multipliziert mit 10^12, daher angabe in PikoFarad\n",
    "C =[10**12 *2*pi*l*epsilon_0/(math.log((ra_min+gap*x)) - math.log(ri))  for x in range(1,istop)]\n",
    "\n",
    "plt.scatter(ra,C)\n",
    "plt.ylabel('Kapazität [pF]')\n",
    "plt.xlabel('Aussenradius [m]')\n",
    "plt.yscale('linear')\n",
    "\n"
   ]
  },
  {
   "cell_type": "code",
   "execution_count": null,
   "metadata": {},
   "outputs": [],
   "source": []
  },
  {
   "cell_type": "code",
   "execution_count": null,
   "metadata": {},
   "outputs": [],
   "source": []
  }
 ],
 "metadata": {
  "kernelspec": {
   "display_name": "Python 3",
   "language": "python",
   "name": "python3"
  },
  "language_info": {
   "codemirror_mode": {
    "name": "ipython",
    "version": 3
   },
   "file_extension": ".py",
   "mimetype": "text/x-python",
   "name": "python",
   "nbconvert_exporter": "python",
   "pygments_lexer": "ipython3",
   "version": "3.7.3"
  }
 },
 "nbformat": 4,
 "nbformat_minor": 4
}
