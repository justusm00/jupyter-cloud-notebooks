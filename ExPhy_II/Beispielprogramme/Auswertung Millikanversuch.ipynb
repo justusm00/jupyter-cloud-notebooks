{
 "cells": [
  {
   "cell_type": "code",
   "execution_count": 52,
   "metadata": {},
   "outputs": [
    {
     "name": "stdout",
     "output_type": "stream",
     "text": [
      "500 10318297299.581982\n",
      "[9.992714034944187, 19.959346367530202, 30.025176445012516, 39.977400804635806, 49.836414615662505, 59.86382401876837, 69.92728644615454, 79.91487804524677, 90.03366403881219, 99.91771111225765, 109.81469928524037, 119.95166726115339, 129.83369342116657, 139.90279948810627, 149.85972600936742, 160.0422616924369, 170.07022147722984, 179.9169001145056, 189.94660245695994, 199.7600911313131, 209.73699327930075, 219.87467488568893, 229.75577898973674, 239.78062082596384, 249.8618669062377, 259.8212779396604, 269.82209334647916, 279.9480290488845, 289.74937618211453, 299.8437782163913, 309.6861911771849, 319.81920643708645]\n"
     ]
    },
    {
     "data": {
      "image/png": "[encoded data removed]",
      "text/plain": [
       "<Figure size 432x288 with 1 Axes>"
      ]
     },
     "metadata": {
      "needs_background": "light"
     },
     "output_type": "display_data"
    }
   ],
   "source": [
    "#Graphische Darstellung der Messwerte für den Millikanversuch\n",
    "\n",
    "#wir nutzen matplotlib, um unsere Daten graphisch darzustellen\n",
    "import matplotlib.pyplot as plt\n",
    "# Benötigte Konstanten sind 𝜋 und die Elementarladung. Wir können diese per Hand eingeben, oder einfach importieren:\n",
    "from scipy.constants import pi, elementary_charge\n",
    "#Konstanten\n",
    "#Kondensatorspannung U in volt\n",
    "U=500\n",
    "#Viskosität von Luft in Pa*s\n",
    "eta=18.2*10**-6\n",
    "#Erdebeschleunigung g\n",
    "g=9.81\n",
    "#Dichte von Öl in kg/m^3\n",
    "rho=900\n",
    "#Dichte von Luft in kg/m^3\n",
    "rholuft=1.2\n",
    "#Kondensator Plattenabstand in m\n",
    "d=0.05\n",
    "#Nach Gleichung 1.13 in Vorlesung 2\n",
    "C=1/elementary_charge*9*pi* 2**0.5 *eta**1.5 *d/ ((rho-rholuft)*g)**0.5\n",
    "#C=1.03183*10**10\n",
    "print(U,C)\n",
    "\n",
    "#Geschwindigkeitswerte in Mikrometer pro minute, 23 Werte\n",
    "vdata = [1.02773,\n",
    "1.63, 2.14,\n",
    "2.59,3.00,\n",
    "3.39,3.76,\n",
    "4.11,4.45,\n",
    "4.77,5.08,\n",
    "5.388,5.68,\n",
    "5.97,6.25,\n",
    "6.53,6.8,\n",
    "7.06,7.32,\n",
    "7.57,7.82,\n",
    "8.07,8.31,\n",
    "8.55,8.788,\n",
    "9.02,9.25,\n",
    "9.48,9.70,\n",
    "9.924,10.14,\n",
    "10.36]\n",
    "ndata1 = []\n",
    "#jetzt v^3/2 im (m/s)^3/2\n",
    "for i in range(32):\n",
    "    ndata1.append(C/U*(vdata[i]*60/1000000)**1.5)\n",
    "\n",
    "print(ndata1)\n",
    "\n",
    "plt.scatter(vdata,ndata1)\n",
    "plt.grid(True)\n",
    "plt.xlabel('Geschwindigkeit [µm/min]')\n",
    "plt.ylabel('n ')\n",
    "plt.yscale('linear')"
   ]
  },
  {
   "cell_type": "code",
   "execution_count": null,
   "metadata": {},
   "outputs": [],
   "source": []
  }
 ],
 "metadata": {
  "kernelspec": {
   "display_name": "Python 3",
   "language": "python",
   "name": "python3"
  },
  "language_info": {
   "codemirror_mode": {
    "name": "ipython",
    "version": 3
   },
   "file_extension": ".py",
   "mimetype": "text/x-python",
   "name": "python",
   "nbconvert_exporter": "python",
   "pygments_lexer": "ipython3",
   "version": "3.7.6"
  }
 },
 "nbformat": 4,
 "nbformat_minor": 4
}
