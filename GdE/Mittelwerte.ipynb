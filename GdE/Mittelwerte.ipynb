{
 "cells": [
  {
   "cell_type": "code",
   "execution_count": 2,
   "metadata": {},
   "outputs": [
    {
     "name": "stdout",
     "output_type": "stream",
     "text": [
      "Mittelwert von m: 82.872\n",
      "Mittelwert von f: 4.979\n",
      "Mittelwert von t: 10.2083333333\n",
      "Standardabweichung von m: 11.01188312687707\n",
      "Standardabweichung von f: 0.04704253394535641\n",
      "Standardabweichung von t: 0.302484159364861\n",
      "0.12348864095310322\n"
     ]
    }
   ],
   "source": [
    "import numpy as np\n",
    "import matplotlib.pyplot as plt\n",
    "import math\n",
    "import statistics as stat\n",
    "m=np.array([88.22, 86.32, 72.93, 96.58,70.31])\n",
    "f=np.array([5.024, 4.978, 4.955, 4.914, 5.024])\n",
    "t=np.array([9.82, 10.6, 10.29, 10.13, 9.94, 10.47])\n",
    "μ_m=np.mean(m)\n",
    "μ_f=np.mean(f)\n",
    "μ_t=np.mean(t)\n",
    "s_m=stat.stdev(m)\n",
    "s_f=stat.stdev(f)\n",
    "s_t=stat.stdev(t)\n",
    "t_p=1.15\n",
    "print(\"Mittelwert von m:\",μ_m)\n",
    "print(\"Mittelwert von f:\",μ_f)\n",
    "print(\"Mittelwert von t:\",μ_t)\n",
    "print(\"Standardabweichung von m:\",s_m)\n",
    "print(\"Standardabweichung von f:\",s_f)\n",
    "print(\"Standardabweichung von t:\",s_t)\n",
    "x_t=s_t/(math.sqrt(6))\n",
    "print(x_t)"
   ]
  },
  {
   "cell_type": "code",
   "execution_count": 6,
   "metadata": {},
   "outputs": [
    {
     "data": {
      "image/png": "[encoded data removed]",
      "text/plain": [
       "<Figure size 432x288 with 1 Axes>"
      ]
     },
     "metadata": {},
     "output_type": "display_data"
    }
   ],
   "source": [
    "from scipy.stats import linregress\n",
    "import numpy as np\n",
    "import matplotlib.pyplot as plt\n",
    "\n",
    "u=np.array([9,12,15,18,21,24])\n",
    "i=np.array([8.02,8.44,8.71,9.15,9.5,9.82])\n",
    "\n",
    "b, a, r, p, std = linregress(u,i)\n",
    "\n",
    "plt.scatter(u,i)\n",
    "plt.plot([0,130],[a,a+130*b],c=\"red\",alpha=0.5)\n",
    "plt.plot()\n",
    "plt.xlim(0,130)\n",
    "plt.ylim(0,1100)\n",
    "plt.xlabel(\"Wohnfläche in m²\")\n",
    "plt.ylabel(\"Miete\")\n",
    "plt.grid(alpha=0.4)\n",
    "plt.xticks([x for x in range(131) if x%10==0])\n",
    "plt.yticks([x for x in range(1101) if x%100==0])\n",
    "plt.show()\n"
   ]
  },
  {
   "cell_type": "code",
   "execution_count": null,
   "metadata": {},
   "outputs": [],
   "source": []
  }
 ],
 "metadata": {
  "kernelspec": {
   "display_name": "Python 3",
   "language": "python",
   "name": "python3"
  },
  "language_info": {
   "codemirror_mode": {
    "name": "ipython",
    "version": 3
   },
   "file_extension": ".py",
   "mimetype": "text/x-python",
   "name": "python",
   "nbconvert_exporter": "python",
   "pygments_lexer": "ipython3",
   "version": "3.6.6"
  }
 },
 "nbformat": 4,
 "nbformat_minor": 2
}
