{
 "cells": [
  {
   "cell_type": "markdown",
   "metadata": {},
   "source": [
    "# Der Dschanibekow-Effekt"
   ]
  },
  {
   "cell_type": "markdown",
   "metadata": {},
   "source": [
    "Letzte Woche haben wir begonnen, den sogenannten Dschanibekow-Effekt zu untersuchen.\n",
    "Hier nochmal, was die Wikipedia-Seite dazu sagt:\n",
    "\n",
    "\"Der Dschanibekow-Effekt, auch Tennisschlägereffekt, ist eine besondere Form des Torkelns eines kräftefrei rotierenden Körpers, die 1985 vom sowjetischen Kosmonauten Wladimir Dschanibekow während eines Raumfluges an einer Flügelmutter beobachtet wurde.\n",
    "\n",
    "Grundsätzlich ist seit 1834 bekannt, dass ein frei rotierender Körper mit drei unterschiedlichen Hauptträgheitsmomenten eine stabile Orientierung der Drehachse nur zeigt, wenn er näherungsweise um eine der beiden Hauptträgheitsachsen rotiert, zu denen das größte bzw. das kleinste Trägheitsmoment gehört. Bei Rotation um die dritte, dazu senkrechte Hauptträgheitsachse hingegen entwickelt der Körper aus kleinsten Abweichungen große Torkelbewegungen, wenn der Drehimpulsvektor anfangs nicht exakt mit dieser Hauptträgheitsachse übereinstimmt. Der Drehimpulsvektor selbst bleibt dabei konstant, nicht aber die Richtung der momentanen Drehachse in Bezug auf das körperfeste und das raumfeste Koordinatensystem.\n",
    "\n",
    "Die besonders eigentümliche Art des Torkelns, die Dschanibekow in der Schwerelosigkeit beobachtete, scheint sogar eine wiederholte Umkehr der Drehrichtung einzuschließen (wie im Video zu sehen, siehe unten). Diese Umkehrung gilt aber lediglich in Bezug auf das körperfeste Koordinatensystem, während vom raumfesten System aus gesehen der Drehsinn sich nicht umkehrt.\n",
    "\n",
    "Diese Bewegung wurde 1991 theoretisch begründet. Der Effekt beruht in mathematischer Sicht darauf, dass die betreffende Hauptträgheitsachse auf dem Energieellipsoid nicht wie die anderen beiden Achsen zu einem elliptischen, sondern zu einem hyperbolischen Fixpunkt gehört (genauer: zu einem Sattelpunkt); Näheres siehe Bewegung kräftefreier Kreisel.\"\n",
    "\n",
    "Hier wollen wir nun basierend auf dem Jupyter-Notebook der letzten Woche den Trägheitstensor eines T-förmigen Körpers mithilfe numerischer Monte-Carlo-Integration bestimmen und dann damit die Bewegungsgleichungen integrieren."
   ]
  },
  {
   "cell_type": "code",
   "execution_count": 1,
   "metadata": {},
   "outputs": [
    {
     "data": {
      "text/html": [
       "\n",
       "<iframe src=\"//commons.wikimedia.org/wiki/File:Dzhanibekov_effect.ogv?embedplayer=yes\" width=\"600\" height=\"337\" frameborder=\"0\" webkitAllowFullScreen mozallowfullscreen allowFullScreen></iframe>\n"
      ],
      "text/plain": [
       "<IPython.core.display.HTML object>"
      ]
     },
     "execution_count": 1,
     "metadata": {},
     "output_type": "execute_result"
    }
   ],
   "source": [
    "# Zunächst soll der Effekt anhand eines Videos von der Wikipedia-Seite illustriert werden:\n",
    "from IPython.display import HTML\n",
    "\n",
    "# Groesse des Videos\n",
    "width = 800\n",
    "height = 450\n",
    "frac = 0.75\n",
    "\n",
    "HTML(\"\"\"\n",
    "<iframe src=\"//commons.wikimedia.org/wiki/File:Dzhanibekov_effect.ogv?embedplayer=yes\" width=\"{}\" height=\"{}\" frameborder=\"0\" webkitAllowFullScreen mozallowfullscreen allowFullScreen></iframe>\n",
    "\"\"\".format(int(width * frac),int(height * frac)))"
   ]
  },
  {
   "cell_type": "markdown",
   "metadata": {},
   "source": [
    "Um solch komplexes Verhalten zu verstehen, beschreiben wir den Körper als Starren Körper. Für die Bewegungsgleichungen wird dazu der Trägheitstensor benötigt. \n",
    "\n",
    "Die Berechnung von Trägheitstensoren mittels numerischer Integration soll im Folgenden behandelt werden."
   ]
  },
  {
   "cell_type": "markdown",
   "metadata": {},
   "source": [
    "# Trägheitstensoren mithilfe numerischer Monte-Carlo Integration berechnen"
   ]
  },
  {
   "cell_type": "code",
   "execution_count": null,
   "metadata": {},
   "outputs": [],
   "source": [
    "#%matplotlib notebook\n",
    "import numpy as np\n",
    "import matplotlib.pyplot as plt\n",
    "import scipy.integrate as integrate\n",
    "\n",
    "from matplotlib import animation\n",
    "from mpl_toolkits.mplot3d import Axes3D"
   ]
  },
  {
   "cell_type": "markdown",
   "metadata": {},
   "source": [
    "Zur Wiederholung und der Vollständigkeit halber hier nochmal die Schritte des letzten Notebooks:\n",
    "\n",
    "Die Integration soll durch ein sogenanntes Monte-Carlo-Verfahren durchgeführt werden, bei der zufällig ein Punkt im Raum bestimmt wird. Liegt dieser Punkt innerhalb des Körpers, dann ergibt dies einen Beitrag zum Integral, wenn nicht, dann ist der Beitrag null. Der Computer muss dazu mithilfe von Zufallszahlen solche Raumpunkte bestimmen, dazu werden sogenannte Zufallszahlengeneratoren genutzt. Im Folgenden werden Sie durch die wesentlichen Schritte geführt. Wie sonst auch, müssen Sie die mit ??? markierten Stellen ergänzen.\n",
    "\n",
    "Um eine einheitliche Beschreibung verschiedener Körper zu gewährleisten, nutzen wir hier ein Programmierkonzept aus der sogenannten 'Objektorientierten Programmierung', sogennante 'Klassen'.\n",
    "\n",
    "Zur Beschreibung verschiedener Körper implementieren wir die Klasse `starrer_koerper`. Klassen sind ein fortgeschrittenes Konstrukt, welches in vielen Programmiersprachen vorhanden ist und zum Beispiel in physikalischen Anwendungen sehr natürlich Anwendung findet. \n",
    "\n",
    "In diesem Notebook implementieren wir zum Beispiel die `scatter` Methode für `starrer_koerper`, die dann zur Behandlung jedes Starren Körpers, der der Klasse bekannt ist, genutzt werden kann."
   ]
  },
  {
   "cell_type": "code",
   "execution_count": null,
   "metadata": {},
   "outputs": [],
   "source": [
    "class starrer_koerper:\n",
    "    \"\"\"Dummy Object for geometric figures\"\"\"\n",
    "    def __init__(self):\n",
    "        \"\"\"Legt die geometrischen Eigenschaften fest\"\"\"\n",
    "        pass\n",
    "        \n",
    "    def __call__(self,x):\n",
    "        \"\"\"Soll fuer die Integration genutzt werden\n",
    "            return 0 falls auserhalb Object\n",
    "            return 1 falls innerhalb Object     \n",
    "        \"\"\"\n",
    "        pass\n",
    "    \n",
    "    def scatter(self,n_pts, lim = 1):\n",
    "        \"\"\"Supposed to give an idea of the shape of the object\"\"\"\n",
    "        pts = np.random.random((n_pts,3))*2*lim - lim\n",
    "        hit = self(pts)\n",
    "        inds = np.where(hit == 1)\n",
    "        points = pts[inds]\n",
    "        # Create the figure\n",
    "        fig = plt.figure(figsize=(6,5))\n",
    "        ax = fig.add_subplot(111, projection='3d')\n",
    "        ax.scatter(points[...,0],points[...,1],points[...,2], c = 'b', marker='o')\n",
    "        ax.set_xlim(-lim,lim)\n",
    "        ax.set_ylim(-lim,lim)\n",
    "        ax.set_zlim(-lim,lim)\n",
    "        plt.show()"
   ]
  },
  {
   "cell_type": "markdown",
   "metadata": {},
   "source": [
    "## Monte-Carlo-Integration"
   ]
  },
  {
   "cell_type": "markdown",
   "metadata": {},
   "source": [
    "Die Integration soll mithilfe eines Monte-Carlo-Verfahrens durchgeführt werden. Das Konzept der Punktwolke, die wir oben betrachtet haben, ist dabei bereits sehr illustrativ.\n",
    "\n",
    "Zum Beispiel kann auf diese Weise das Volumen des Körpers recht einfach bestimmt werden: es werden zufällig Punkte im Raum bestimmt ('ausgewürfelt' wie beim Glücksspiel in einem Casino in Monte Carlo) und dann gezählt, wie viele dieser Punkte innerhalb und wie viele ausserhalb des Körpers liegen.\n",
    "Zur Bestimmung eines Integrals, wie zur Berechnung des Trägheitstensors benötigt, muss noch die Funktion am zufällig bestimmten Raumpunkt ausgewertet werden, falls dieser innerhalb des Integrationsvolumens (hier der von uns betrachtete Körper) liegt. \n",
    "\n",
    "Mehr Informationen gibt es zum Beispiel unter\n",
    "https://en.wikipedia.org/wiki/Monte_Carlo_integration"
   ]
  },
  {
   "cell_type": "code",
   "execution_count": null,
   "metadata": {},
   "outputs": [],
   "source": [
    "def momentum_tensor(body,n_pts,lim = 2):\n",
    "    pts = np.random.random((n_pts,3))*2*lim - lim\n",
    "    I = np.empty((3,3))\n",
    "    hit = body(pts)\n",
    "    \n",
    "    # Integrationen\n",
    "    I[0,0] = ((pts[...,1]**2 + pts[...,2]**2) * hit).mean()\n",
    "    I[1,1] = ((pts[...,0]**2 + pts[...,2]**2) * hit).mean()\n",
    "    I[2,2] = ((pts[...,0]**2 + pts[...,1]**2) * hit).mean()\n",
    "    I[0,1] = I[1,0] = -((pts[...,0] * pts[...,1]) * hit).mean()\n",
    "    I[0,2] = I[2,0] = -((pts[...,0] * pts[...,2]) * hit).mean()\n",
    "    I[1,2] = I[2,1] = -((pts[...,1] * pts[...,2]) * hit).mean()\n",
    "    \n",
    "    # Wir benötigen zusätzlich die Massendichte, die wir ebenfalls mit den oben\n",
    "    # 'gezogenen' Punkten Abschätzen:\n",
    "    V   = hit.sum() / n_pts * (2*lim)**3\n",
    "    rho = body.mass / V\n",
    "    \n",
    "    # Für das Integral Estimate fügen wir die Dichte hinzu und multiplizieren mit dem \n",
    "    # Volumen des gesammten Raumes in dem wir Punkte generiert haben\n",
    "    return rho*I*(2*lim)**3"
   ]
  },
  {
   "cell_type": "markdown",
   "metadata": {},
   "source": [
    "# Berechnung des T-förmigen Körpers (T-handle)"
   ]
  },
  {
   "cell_type": "markdown",
   "metadata": {},
   "source": [
    "Wir wenden nun das Monte-Carlo-Verfahren an, um den Trägheitstensor des T-förmigen Körpers aus dem Video zu berechnen."
   ]
  },
  {
   "cell_type": "code",
   "execution_count": null,
   "metadata": {},
   "outputs": [],
   "source": [
    "class t_handle(starrer_koerper):\n",
    "    def __init__(self,r1,r2,l1,l2, mass = 1):\n",
    "        self.r1 = r1\n",
    "        self.r2 = r2\n",
    "        self.mass = mass\n",
    "        self.l1 = l1\n",
    "        self.l2 = l2\n",
    "        \n",
    "    def __call__(self,x):\n",
    "        ret = np.zeros_like(x[...,0])\n",
    "        \n",
    "        # Wir betrachten den Körper als aus zwei orthogonal zueinander stehenden Zylindern zusammengesetzt.\n",
    "        # Punkt im ersten Zylinder\n",
    "        ???\n",
    "\n",
    "        # Punkt im zweiten Zylinder\n",
    "        ???\n",
    "        \n",
    "        return ret"
   ]
  },
  {
   "cell_type": "code",
   "execution_count": null,
   "metadata": {},
   "outputs": [],
   "source": [
    "body = t_handle(0.5,0.4,4,3)\n",
    "body.scatter(int(1e4),3)"
   ]
  },
  {
   "cell_type": "code",
   "execution_count": null,
   "metadata": {},
   "outputs": [],
   "source": [
    "T = momentum_tensor(body,int(1e7),lim = 2)"
   ]
  },
  {
   "cell_type": "markdown",
   "metadata": {},
   "source": [
    "Im Folgenden benötigen wir die zugehörigen Eigenwerte bzw. Eigenvektoren des Trägheitstensors. Diese können mit `np.linalg.eig(T)` bestimmt werden."
   ]
  },
  {
   "cell_type": "code",
   "execution_count": null,
   "metadata": {},
   "outputs": [],
   "source": [
    "l,v = np.linalg.eig(T)\n",
    "l,v"
   ]
  },
  {
   "cell_type": "markdown",
   "metadata": {},
   "source": [
    "Wir können uns das Leben hier etwas leichter machen. Physikalisch ist bei diesem geometrischen Objekt klar, dass die Eigenvektoren (diese sind die Hauptträgheitsachsen) mit den kartesischen Koordinatenachsen übereinstimmen müssen. Die numerisch bestimmten Eigenvektoren stimmen allerdings nicht genau mit diesen überein, was auf numerische Fehler zurückzuführen ist. \n",
    "\n",
    "Da die Bewegungsgleichungen allerdings über Rotationen um die Hauptträgheitsachsen definiert sind, vereinfacht sich die Betrachtung deutlich, wenn wir die numerischen Artifakte ignorieren, um dann nur noch Rotationen um die Koordinatenachsen zu betrachten.\n",
    "\n",
    "Dies geschieht in den folgenden Zeilen, in denen 'nicht passende' Werte ausgefiltert werden, so dass die Einträge des Trägheitstensors, von denen wir erwarten, dass sie null sind, auf null gesetzt werden (vergleichen Sie mit dem Ergebnis oben, wo dies nicht gemacht wurde - von welcher Größenordnung ist der numerische Fehler, der dabei unterdrückt wird?):"
   ]
  },
  {
   "cell_type": "code",
   "execution_count": null,
   "metadata": {},
   "outputs": [],
   "source": [
    "# Im allgemeinen ist das wahrscheinlich keine gute Idee\n",
    "# Hier nur möglich aufgrund des Wissens über die Hauptträgheitsachsen\n",
    "inds = np.where(np.isclose(v,0,atol=1e-2) == True)\n",
    "v[inds] = 0\n",
    "l,v"
   ]
  },
  {
   "cell_type": "markdown",
   "metadata": {},
   "source": [
    "# Numerische Lösung der Bewegungsgleichungen"
   ]
  },
  {
   "cell_type": "markdown",
   "metadata": {},
   "source": [
    "Die Bewegungsgleichungen für die Bewegungs eines starren Körpers im körpereigenen Bezugssystem sind die aus der Vorlesung bekannten Euler-Gleichungen:\n",
    "\n",
    "\\begin{align}\n",
    "I_1 \\dot \\omega_1 &= (I_2 - I_3) \\omega_2\\omega_3 \\\\\n",
    "I_2 \\dot \\omega_2 &= (I_3 - I_1) \\omega_3\\omega_1 \\\\\n",
    "I_3 \\dot \\omega_3 &= (I_1 - I_2) \\omega_1\\omega_2 \\, ,\n",
    "\\end{align}\n",
    "\n",
    "wobei $I_j$ die jeweiligen Trägheitsmomente und $\\omega_j$ die Winkelgeschwindigkeiten sind. Prinzipiell ist die Dynamik des starren Körpers damit beschrieben. Da wir am Ende die Rotation im externen Bezugssystem betrachten wollen integrieren wir noch die Winkel auf:\n",
    "\n",
    "\\begin{align}\n",
    "\\dot\\theta_1 &= \\omega_1\\\\\n",
    "\\dot\\theta_2 &= \\omega_2\\\\\n",
    "\\dot\\theta_3 &= \\omega_3\\, .\n",
    "\\end{align}\n",
    "\n",
    "Diese DGL werden nun numerisch gelöst. Das Vorgehen ist dabei analog zum Vorgehen im Notebook `AM_EX9.ipynb`: zunächst implementieren wir die entsprechenden Ableitungen und benutzen dann die von Python zur Verfügung gestellte `odeint`-Methode."
   ]
  },
  {
   "cell_type": "code",
   "execution_count": null,
   "metadata": {},
   "outputs": [],
   "source": [
    "# Reihenfolge der Koordinaten die Später genutzt werden sollen\n",
    "# Koordinaten: theta1,theta2,theta3,omega1,omega2,omega3\n",
    "\n",
    "def derivs(state,t):\n",
    "    w1 = state[3]\n",
    "    w2 = state[4]\n",
    "    w3 = state[5]\n",
    "    \n",
    "    dydx    = np.zeros_like(state) \n",
    "    dydx[0] = ???\n",
    "    dydx[1] = ???\n",
    "    dydx[2] = ???\n",
    "    dydx[3] = ???\n",
    "    dydx[4] = ???\n",
    "    dydx[5] = ???\n",
    "\n",
    "    return dydx"
   ]
  },
  {
   "cell_type": "markdown",
   "metadata": {},
   "source": [
    "# Wie verhalten sich die Winkelgeschwindigkeiten $\\omega$ für eine Rotation um genau eine der Achsen?"
   ]
  },
  {
   "cell_type": "code",
   "execution_count": null,
   "metadata": {},
   "outputs": [],
   "source": [
    "fig,ax = plt.subplots(3,1,figsize = (10,6),sharex=True)\n",
    "\n",
    "for i in range(3):\n",
    "    w0 = 3*[0]\n",
    "    w0[i] = np.radians(20)\n",
    "    state0 = [0,0,0] + w0\n",
    "    \n",
    "    dt = 0.1 \n",
    "    t = np.arange(0.0, 1000, dt) \n",
    "    n_trj = integrate.odeint(derivs, state0, t) \n",
    "    \n",
    "    ax[i].plot(t,n_trj[...,3],label=r'$\\omega_1$')\n",
    "    ax[i].plot(t,n_trj[...,4],label=r'$\\omega_2$')\n",
    "    ax[i].plot(t,n_trj[...,5],label=r'$\\omega_3$')\n",
    "    ax[i].set_xlim(t[0],t[-1])\n",
    "    ax[i].legend(loc = \"upper right\")\n",
    "\n",
    "plt.show()"
   ]
  },
  {
   "cell_type": "markdown",
   "metadata": {},
   "source": [
    "## Jetzt fügen wir eine kleine Störung hinzu"
   ]
  },
  {
   "cell_type": "code",
   "execution_count": null,
   "metadata": {},
   "outputs": [],
   "source": [
    "fig,ax = plt.subplots(3,1,figsize = (10,6),sharex=True)\n",
    "distortion = np.radians(0.01)\n",
    "\n",
    "for i in range(3):\n",
    "    w0 = [distortion,distortion,distortion]\n",
    "    w0[i] = np.radians(20)\n",
    "    state0 = [0,0,0] + w0\n",
    "    \n",
    "    dt = 0.1 \n",
    "    t = np.arange(0.0, 1000, dt) \n",
    "    n_trj = integrate.odeint(derivs, state0, t) \n",
    "    \n",
    "    ax[i].plot(t,n_trj[...,3],label=r'$\\omega_1$')\n",
    "    ax[i].plot(t,n_trj[...,4],label=r'$\\omega_2$')\n",
    "    ax[i].plot(t,n_trj[...,5],label=r'$\\omega_3$')\n",
    "    ax[i].set_xlim(t[0],t[-1])\n",
    "    ax[i].legend(loc = \"upper right\")\n",
    "\n",
    "plt.show()"
   ]
  },
  {
   "cell_type": "markdown",
   "metadata": {},
   "source": [
    "# Video"
   ]
  },
  {
   "cell_type": "markdown",
   "metadata": {},
   "source": [
    "Für das rotierende Bezugssystem benötigen wir die Möglichkeit beliebig um einen Vektor zu rotieren, dazu implementieren wir die folgende [Rotationsmatrix](https://en.wikipedia.org/wiki/Rotation_matrix#Rotation_matrix_from_axis_and_angle):"
   ]
  },
  {
   "cell_type": "code",
   "execution_count": null,
   "metadata": {},
   "outputs": [],
   "source": [
    "# Gibt die Rotationsmatrix um einen beliebigen Vektor\n",
    "\n",
    "# Levi-Cevita Symbol für Indizes 0,1,2\n",
    "eijk = np.zeros((3, 3, 3))\n",
    "eijk[0, 1, 2] = eijk[1, 2, 0] = eijk[2, 0, 1] = 1\n",
    "eijk[0, 2, 1] = eijk[2, 1, 0] = eijk[1, 0, 2] = -1\n",
    "\n",
    "def rot(vec,theta):\n",
    "    # Vektor normieren\n",
    "    u = vec/np.linalg.norm(vec)\n",
    "    \n",
    "    # Rotationsmatrix zusammenbauen\n",
    "    R = np.empty((3,3))\n",
    "    for j,k in np.ndindex(3,3):\n",
    "        if j==k:\n",
    "            R[j,k] = np.cos(theta/2)**2 + np.sin(theta/2)**2 * (2*u[j]**2-1)\n",
    "        else:\n",
    "            R[j,k] = 2*u[j]*u[k]*np.sin(theta/2)**2 - (eijk[j,k,...]*u).sum() * np.sin(theta)\n",
    "    return R    "
   ]
  },
  {
   "cell_type": "code",
   "execution_count": null,
   "metadata": {},
   "outputs": [],
   "source": [
    "# Wiederholen der numerischen Berechnung für den Interessanten Fall,\n",
    "# bei mir ist das für Rotationen um die \"y\"-Achse\n",
    "distortion = np.radians(0.001)\n",
    "w0 = [distortion,0,0]\n",
    "w0[1] = np.radians(40)\n",
    "state0 = [0,0,0] + w0\n",
    "\n",
    "dt = 0.01 \n",
    "t = np.arange(0.0, 1000, dt) \n",
    "n_trj = integrate.odeint(derivs, state0, t) "
   ]
  },
  {
   "cell_type": "code",
   "execution_count": null,
   "metadata": {},
   "outputs": [],
   "source": [
    "fig = plt.figure(figsize = (9,8))\n",
    "ax = fig.gca(projection='3d')\n",
    "\n",
    "# Setzen der Plot limits\n",
    "lim = 1\n",
    "ax.set_xlim(-lim,lim)\n",
    "ax.set_ylim(-lim,lim)\n",
    "ax.set_zlim(-lim,lim)\n",
    "\n",
    "# Erstellen eines Referenz-Systems\n",
    "xyz = np.empty((3,3))\n",
    "xyz[0] = np.array([1,0,0])\n",
    "xyz[1] = np.array([0,1,0])\n",
    "xyz[2] = np.array([0,0,1])\n",
    "\n",
    "# Erstellen der Elemente im Plot\n",
    "lines   = [ax.plot([], [], 'o-', lw=2)[0] for _ in range(3)]\n",
    "\n",
    "# Initialisierung\n",
    "def init():\n",
    "    for line in lines:\n",
    "        line.set_data([],[])\n",
    "    return lines\n",
    "\n",
    "# Wir überspringen einige Zeitpunkte in der Erstellung des Videos\n",
    "# was dazu führt, dass man etwas mehr im Video sieht\n",
    "offs = 40\n",
    "\n",
    "# Animationsfunktion, die für jedes Frame ausgeführt wird\n",
    "def animate(i):\n",
    "    \n",
    "    # Jetzt kommen die aufintegrierten Winkel ins Spiel\n",
    "    # Für jeden Zeitpunkt wird das Referenz-Koordinatensystem um die Differenz der Winkel rotiert\n",
    "    for j in range(offs):\n",
    "        for k in range(3):\n",
    "            mat = rot(xyz[k],(n_trj[i*offs+1+j,k] - n_trj[i*offs+j,k]))\n",
    "            xyz[0] = xyz[0].dot(mat)\n",
    "            xyz[1] = xyz[1].dot(mat)\n",
    "            xyz[2] = xyz[2].dot(mat) \n",
    "    \n",
    "    # xyz entspricht jedem dem rotierten Referenzsystem zum entsprechenden Zeitpunkt\n",
    "    # Bei meiner Konstruktion des T-Stücks liegen das obere Stück des T auf der x-Achse\n",
    "    #     und der Fuß auf der y-Achse\n",
    "    # Wenn man sich mehr Mühe geben möchte sollte man die Parameter aus t_handle auslesen und das T\n",
    "    #     mit den richtigen Längen zeichnen\n",
    "    lines[0].set_data([0,xyz[1,0]],[0,xyz[1,1]])\n",
    "    lines[0].set_3d_properties([0,xyz[1,2]]) \n",
    "    lines[1].set_data([0,xyz[0,0]],[0,xyz[0,1]])\n",
    "    lines[1].set_3d_properties([0,xyz[0,2]]) \n",
    "    lines[2].set_data([0,-xyz[0,0]],[0,-xyz[0,1]])\n",
    "    lines[2].set_3d_properties([0,-xyz[0,2]]) \n",
    "    return lines\n",
    "\n",
    "# Erzeugt die Animation\n",
    "ani = animation.FuncAnimation(fig, animate, np.arange(1, len(t)//offs//10),interval=1000*dt/3*offs/3, blit=False, init_func=init) \n",
    "plt.close(ani._fig)"
   ]
  },
  {
   "cell_type": "code",
   "execution_count": null,
   "metadata": {},
   "outputs": [],
   "source": [
    "plt.rcParams['animation.embed_limit'] = 40 # etwas mehr video, kann aber auch auskommentiert werden\n",
    "%time HTML(ani.to_jshtml())"
   ]
  },
  {
   "cell_type": "code",
   "execution_count": null,
   "metadata": {},
   "outputs": [],
   "source": []
  }
 ],
 "metadata": {
  "kernelspec": {
   "display_name": "Python 3",
   "language": "python",
   "name": "python3"
  },
  "language_info": {
   "codemirror_mode": {
    "name": "ipython",
    "version": 3
   },
   "file_extension": ".py",
   "mimetype": "text/x-python",
   "name": "python",
   "nbconvert_exporter": "python",
   "pygments_lexer": "ipython3",
   "version": "3.7.3"
  }
 },
 "nbformat": 4,
 "nbformat_minor": 2
}
