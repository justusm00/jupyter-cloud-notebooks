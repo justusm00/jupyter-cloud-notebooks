{
 "cells": [
  {
   "cell_type": "code",
   "execution_count": 1,
   "metadata": {},
   "outputs": [],
   "source": [
    "import numpy as np\n",
    "import matplotlib.pyplot as plt\n",
    "from ipywidgets import interact,FloatSlider"
   ]
  },
  {
   "cell_type": "markdown",
   "metadata": {},
   "source": [
    "Falls `ipywidgets` nicht vorhanden ist, kommentiert nur die Zeile aus, die dies enthält. Es sollte dann alles bis auf eine einzelne Zelle funktionieren."
   ]
  },
  {
   "cell_type": "markdown",
   "metadata": {},
   "source": [
    "# Brachystochrone"
   ]
  },
  {
   "cell_type": "markdown",
   "metadata": {},
   "source": [
    "Auf dem Blatt ist eine Parametrisierung einer Zykloiden angegeben mit\n",
    "\n",
    "$$\n",
    "\\begin{pmatrix}x(t)\\\\ y(t)\\end{pmatrix}=R\\begin{pmatrix}\\varphi(t)-\\sin(\\varphi(t))\\\\ 1-\\cos(\\varphi(t))\\end{pmatrix} \\, .\n",
    "$$\n",
    "\n",
    "Wir benötigen also eine Funktion, die uns abhängig von $\\varphi$, die Koordinaten $x,y$ gibt."
   ]
  },
  {
   "cell_type": "code",
   "execution_count": 7,
   "metadata": {},
   "outputs": [],
   "source": [
    "def cycloid(Rad,phi):\n",
    "    # Variablennamen mit _ werden gerne gewählt, um Variablen zu kennzeichnen,\n",
    "    #     die nur in der Entsprechenden Funktion/Klasse leben\n",
    "    # AUFGABE: füge die oben angegebene Parametrisiertung der Zykloiden ein\n",
    "    x = Rad * (phi - np.sin(phi))\n",
    "    y = Rad * (1 - np.cos(phi))\n",
    "    return x,y"
   ]
  },
  {
   "cell_type": "markdown",
   "metadata": {},
   "source": [
    "# Was ist eigentlich eine Zykloide?"
   ]
  },
  {
   "cell_type": "markdown",
   "metadata": {},
   "source": [
    "Eine Zykloide entsteht durch das Abrollen eines Kreises. Dies zu Beweisen ist nicht trivial, aber wir können uns zumindest graphisch davon überzeugen.\n",
    "\n",
    "Vergleichen wir die Parametrisierung von oben mit dem Abrollen eines Kreises mit Radius R:"
   ]
  },
  {
   "cell_type": "code",
   "execution_count": 8,
   "metadata": {},
   "outputs": [],
   "source": [
    "R = 1\n",
    "\n",
    "def plot_func(phi):\n",
    "    fig, ax = plt.subplots(figsize = (10,10))\n",
    "    \n",
    "    # Verhältnis der Seiten gleich, somit \n",
    "    ax.set_aspect('equal')\n",
    "    \n",
    "    # Zykloide abgerollt bis zum Winkel phi\n",
    "    winkel = np.linspace(0,phi*np.pi,int(100*phi//2+2))\n",
    "    x,y = cycloid(R,winkel)\n",
    "    ax.plot(x,y)\n",
    "\n",
    "    # Plotten des abrollenden Kreises\n",
    "    ax.plot([-R,R*2*np.pi+R],[0,0],c = 'black')\n",
    "    circle_angle = phi\n",
    "    circle = plt.Circle((circle_angle*R*np.pi, R), R, color='r',fill=False)\n",
    "    ax.add_artist(circle)\n",
    "\n",
    "    ax.set_ylim(2*R+0.1,-0.1)\n",
    "    ax.set_xlim(-R,R*2*np.pi+R)\n",
    "    ax.scatter(*cycloid(R,circle_angle*np.pi),c = 'black')"
   ]
  },
  {
   "cell_type": "code",
   "execution_count": 9,
   "metadata": {},
   "outputs": [
    {
     "data": {
      "application/vnd.jupyter.widget-view+json": {
       "model_id": "2dd74bec559b442ea1bca1cb4403669c",
       "version_major": 2,
       "version_minor": 0
      },
      "text/plain": [
       "interactive(children=(FloatSlider(value=0.0, description='phi', max=2.0), Output()), _dom_classes=('widget-int…"
      ]
     },
     "metadata": {},
     "output_type": "display_data"
    }
   ],
   "source": [
    "# Ein bisschen langsam aber es erfüllt die Aufgabe!\n",
    "# Blau ist immer eine Zykloide, wie oben parametrisiert\n",
    "# Wenn oben bei der Zykloiden alles funktioniert hat, sollte hier ein Plot entstehen\n",
    "\n",
    "interact(plot_func, \n",
    "         phi = FloatSlider(value=0,min=0,max=2,step=0.1)\n",
    "        )\n",
    "plt.show()"
   ]
  },
  {
   "cell_type": "markdown",
   "metadata": {},
   "source": [
    "# Finde den schnellsten Weg "
   ]
  },
  {
   "cell_type": "markdown",
   "metadata": {},
   "source": [
    "Das Problem besteht nun also darin, den Radius des Kreises $R$, sowie den Winkel, bis zu dem abgerollt wird, zu finden.\n",
    "\n",
    "Für die Anfangsbedingungen \n",
    "\\begin{align}\n",
    "A &= (0,0)\\\\\n",
    "B &= (x_B,y_B)\\, ,\n",
    "\\end{align}\n",
    "\n",
    "finden wir\n",
    "\n",
    "\\begin{align}\n",
    "x_B &=R(\\varphi_B-\\sin\\varphi_B)\\tag{1}\\\\\n",
    "y_B &=R(1-\\cos\\varphi_B)\\tag{2}\n",
    "\\end{align}\n",
    "\n",
    "Division liefert:\n",
    "\n",
    "$$\n",
    "\\frac{x_B}{y_B} = \\frac{\\varphi_B-\\sin\\varphi_B}{1-\\cos\\varphi_B}\\\\\n",
    "\\implies0 = \\frac{y_B}{x_B} - \\frac{1-\\cos\\varphi}{\\varphi-\\sin\\varphi}\n",
    "$$\n",
    "\n",
    "Die Division kann natürlich auch genau andersherum durchgeführt werden, aber diese Version ist numerisch stabiler!\n",
    "\n",
    "\n",
    "Es gilt also Nullstellen der Funktion\n",
    "$$\n",
    "f(\\varphi) = \\frac{y_B}{x_B} - \\frac{1-\\cos\\varphi}{\\varphi-\\sin\\varphi}\n",
    "$$\n",
    "\n",
    "zu finden. Dies soll mithilfe des [Newton–Raphson Verfahren](https://en.wikipedia.org/wiki/Newton%27s_method)\n",
    " geschehen. Dabei wird ausgehend von einem Startwert $\\varphi_0$ iterativ vorgegangen\n",
    " \n",
    " $$\n",
    " \\varphi_{n+1} = \\varphi_n - \\frac{f(\\varphi_n)}{f'(\\varphi_n)}\\, ,\n",
    " $$\n",
    " \n",
    " bis ein ausreichend kleiner Wert gefunden wird. Wir benötigen also zunächst $f$ und $f'$ als Funktion:"
   ]
  },
  {
   "cell_type": "code",
   "execution_count": 10,
   "metadata": {},
   "outputs": [],
   "source": [
    "def f_brach(phi,xb,yb):\n",
    "    frac_1 = yb/xb\n",
    "    frac_2 = (1-np.cos(phi)) / (phi-np.sin(phi))\n",
    "    return frac_1 - frac_2\n",
    "\n",
    "def df_brach(phi):\n",
    "    # Falls ich micht nicht verrechnet habe - üperprüft das mal selber :)\n",
    "    nenner = np.sin(phi)**2-phi*np.sin(phi)+np.cos(phi)**2-2*np.cos(phi)+1\n",
    "    zahler = (phi-np.sin(phi))**2\n",
    "    return nenner/zahler + 1"
   ]
  },
  {
   "cell_type": "code",
   "execution_count": 11,
   "metadata": {},
   "outputs": [],
   "source": [
    "# AUFGABE: Parameter xb,yb einsetzen, beide sollten positve Werte sein\n",
    "xb = 5\n",
    "yb = 7"
   ]
  },
  {
   "cell_type": "code",
   "execution_count": 12,
   "metadata": {},
   "outputs": [],
   "source": [
    "# Newton-Raphson\n",
    "#     Sinvoller Anfangswert: 0 sieht problematisch aus\n",
    "#     Also fangen wir mit phi_B = 1 an\n",
    "\n",
    "phi_B = 1\n",
    "root = f_brach(phi_B,xb,yb)\n",
    "it = 0\n",
    "maxit = 1000\n",
    "\n",
    "while (abs(root) > 1e-10) and (it < maxit):\n",
    "    phi_B -= f_brach(phi_B,xb,yb) / df_brach(phi_B)\n",
    "    root = f_brach(phi_B,xb,yb)\n",
    "    it+=1"
   ]
  },
  {
   "cell_type": "code",
   "execution_count": 13,
   "metadata": {},
   "outputs": [
    {
     "name": "stdout",
     "output_type": "stream",
     "text": [
      "phi_B    : 1.8867203277298736\n",
      "f(phi_B) : -7.749201280660145e-11\n",
      "iterationen: 35\n"
     ]
    }
   ],
   "source": [
    "# Kurz Überprüfen ob die Werte Sinn machen!\n",
    "print('phi_B    :', phi_B)\n",
    "print('f(phi_B) :', root)\n",
    "print('iterationen:', it)"
   ]
  },
  {
   "cell_type": "markdown",
   "metadata": {},
   "source": [
    "Mit $\\varphi$ festgelegt, gilt es nun noch $R$ zu bestimmen. Aus Gleichung (1) ergibt sich\n",
    "\n",
    "$$\n",
    "R = \\frac{y_B}{1-\\cos\\varphi_B}\n",
    "$$"
   ]
  },
  {
   "cell_type": "code",
   "execution_count": 15,
   "metadata": {},
   "outputs": [
    {
     "name": "stdout",
     "output_type": "stream",
     "text": [
      "R   = 5.34\n",
      "Phi = 1.89 Rad\n"
     ]
    }
   ],
   "source": [
    "# AUFGABE: R berechnen\n",
    "\n",
    "R = yb / (1 - np.cos(phi_B))\n",
    "print(\"R   = {:.2f}\".format(R))\n",
    "print(\"Phi = {:.2f} Rad\".format(phi_B))"
   ]
  },
  {
   "cell_type": "markdown",
   "metadata": {},
   "source": [
    "# Plot und Vergleich"
   ]
  },
  {
   "cell_type": "markdown",
   "metadata": {},
   "source": [
    "Zum Verleich fügen wir noch einige Kurven hinzu, die alle parametrisiert sind durch:\n",
    "\\begin{align}\n",
    "\\gamma: [0,1] &\\mapsto \\mathbb{R}^2 \\\\\n",
    "\\gamma(0) &\\rightarrow (0,0)\\\\\n",
    "\\gamma(1) &\\rightarrow (x_B,y_B)\n",
    "\\end{align}"
   ]
  },
  {
   "cell_type": "code",
   "execution_count": 16,
   "metadata": {},
   "outputs": [],
   "source": [
    "def line(t,xb,yb):\n",
    "    # Kürzeste Verbindung der beiden Punkte\n",
    "    x = xb * t\n",
    "    y = yb * t\n",
    "    return x,y\n",
    "\n",
    "def parabula(t,xb,yb):\n",
    "    # Parabel mit Minimum bei (x_B,y_B)\n",
    "    a = -yb/xb**2\n",
    "    b = -2*a*xb\n",
    "    c = 0\n",
    "    x = t*xb\n",
    "    y = a*(t*xb)**2+b*(t*xb)+c\n",
    "    return x,y\n",
    "\n",
    "def circle(t,xb,yb):\n",
    "    # Kreisausschnitt vom Kreis durch die Punkte (0,0), (xB,yB), (xB,-yB)\n",
    "    #     Soweit ich weiß war das Galileo's best guess\n",
    "    r = (xb**2+yb**2) / (2*xb)\n",
    "    x = t * xb\n",
    "    y = np.sqrt(r**2 - (x-r)**2)\n",
    "    return x,y\n",
    "    \n",
    "def brachistochrone(t,xb,yb):\n",
    "    # Die gleiche Lösung wie oben, der Vollständigkeit halber noch \n",
    "    #     einmal parametrisiert wie die restlichen Kurven\n",
    "    x,y = cycloid(R,phi_B * t)\n",
    "    return x,y"
   ]
  },
  {
   "cell_type": "code",
   "execution_count": 24,
   "metadata": {},
   "outputs": [
    {
     "data": {
      "image/png": "[encoded data removed]",
      "text/plain": [
       "<Figure size 432x432 with 1 Axes>"
      ]
     },
     "metadata": {
      "needs_background": "light"
     },
     "output_type": "display_data"
    }
   ],
   "source": [
    "fig, ax = plt.subplots(figsize = (6,6))\n",
    "\n",
    "# Kurven zum Vergleich\n",
    "times = np.linspace(0,1,100)\n",
    "\n",
    "# Aufgabe: Für die Kurven oben einen Plot hinzufügen\n",
    "#          Füge auch ein label hinzu\n",
    "ax.plot(*brachistochrone(times,xb,yb),label=\"Brachystochrone\")\n",
    "ax.plot(*line(times,xb,yb), label = \"Line\")\n",
    "ax.plot(*circle(times,xb,yb), label = \"circle\")\n",
    "ax.plot(*parabula(times,xb,yb), label = \"Parabula\")\n",
    "\n",
    "# Plot Start- und Endpunkt\n",
    "ax.scatter(0, 0, c = 'black')\n",
    "ax.annotate(\"A\", (0, 0-0.05))\n",
    "ax.scatter(xb,yb,c = 'black')\n",
    "ax.annotate(\"B\", (xb,yb-0.05))\n",
    "\n",
    "# Limits setzen\n",
    "ax.set_aspect('equal')\n",
    "\n",
    "# Richtung der y-Achse umdrehen\n",
    "lims = ax.get_ylim()\n",
    "ax.set_ylim(lims[1],lims[0] - 0.1)\n",
    "\n",
    "# Labels\n",
    "ax.set_xlabel('x')\n",
    "ax.set_ylabel('y')\n",
    "ax.legend()\n",
    "\n",
    "\n",
    "plt.show()"
   ]
  },
  {
   "cell_type": "markdown",
   "metadata": {},
   "source": [
    "# Laufzeiten Bestimmen"
   ]
  },
  {
   "cell_type": "markdown",
   "metadata": {},
   "source": [
    "Die gesamte Laufzeit erhält man durch Integration von $1/v$ ($v$: Geschwindigkeit, die von der Position auf der Kurve abhängt) über den zurückgelegten Weg. Wir bestimmen die Wegintegrale\n",
    "\n",
    "$$\n",
    "T = \\int_\\gamma f\\, \\text{d}s = \\int_0^1 f(\\gamma(t))\\,\\|\\dot{\\gamma}(t)\\|_2\\,\\text{d}t\\, ,\n",
    "$$\n",
    "\n",
    "wobei $f$ hier $1/v$ entspricht. Die Geschwindigkeit ist durch die Energieerhaltung direkt durch die $y$-Komponente via $v = \\sqrt{2gy}$ bestimmt. Es werden also nur noch die Ableitungen der entsprechenden Kurven benötigt."
   ]
  },
  {
   "cell_type": "code",
   "execution_count": 25,
   "metadata": {},
   "outputs": [],
   "source": [
    "def d_line(t,xb,yb):\n",
    "    # Am einfachsten zu bestimmen\n",
    "    # Konstant, deswegen erstellen wir den neue-Zeiten array mit lauter Einsen\n",
    "    tt = np.ones_like(t)\n",
    "    dx = xb \n",
    "    dy = yb * tt\n",
    "    return np.sqrt(dx**2+dy**2)\n",
    "\n",
    "def d_parabula(t,xb,yb):\n",
    "    a = -yb/xb**2\n",
    "    b = -2*a*xb\n",
    "    c = 0\n",
    "    dx = xb\n",
    "    dy = 2*a*t*xb + b*xb\n",
    "    return np.sqrt(dx**2+dy**2)\n",
    "\n",
    "def d_circle(t,xb,yb):\n",
    "    # Hier besteht die Gefahr das ich mich verrechnet habe - überprüft das mal selber!\n",
    "    r = (xb**2+yb**2) / (2*xb)\n",
    "    dx = xb\n",
    "    dy = -xb * (t*xb-r) / np.sqrt(r**2 - (t*xb-r)**2)\n",
    "    return np.sqrt(dx**2+dy**2)\n",
    "\n",
    "def d_brachistochrone(t,xb,yb):\n",
    "    dx = R*(phi_B - phi_B*np.cos(phi_B*t))\n",
    "    dy = R*phi_B*np.sin(phi_B*t)\n",
    "    return np.sqrt(dx**2+dy**2)"
   ]
  },
  {
   "cell_type": "code",
   "execution_count": 38,
   "metadata": {},
   "outputs": [],
   "source": [
    "def f(x,y):\n",
    "    g = 9.81\n",
    "    # AUFGABE: Füge die Funktion, also 1/v hinzu\n",
    "    # HINT: Wurzel über np.sqrt benutzen\n",
    "    return 1 / np.sqrt(2 * g * y)"
   ]
  },
  {
   "cell_type": "code",
   "execution_count": 39,
   "metadata": {},
   "outputs": [],
   "source": [
    "def T(_f,_gamma,_dgamma,xb,yb):\n",
    "    # Numerische Integration im Prinzip ähnlich zum letzten mal, allerdings können wir numerisch f(0)\n",
    "    #     nicht ohne weiteres auswerten -> 1/0\n",
    "    #\n",
    "    # Deswegen wählen wir eine sogenannte offene Integrationsmethode, die keine Funktionsauswertungen \n",
    "    #     an den Randpunkten benötigt, und führen diese auf vielen kleinen Intervallen durch\n",
    "    #     https://en.wikipedia.org/wiki/Newton%E2%80%93Cotes_formulas#Open_Newton%E2%80%93Cotes_formulas\n",
    "    \n",
    "    ninter = 100000\n",
    "    steps = np.arange(0,1,1/(3*ninter))\n",
    "    ff  = np.zeros_like(steps)\n",
    "    dff = np.zeros_like(steps) \n",
    "    \n",
    "    ff[1:]  = _f(*_gamma(steps[1:],xb,yb))\n",
    "    dff[1:] = _dgamma(steps[1:],xb,yb)\n",
    "    F = ff*dff\n",
    "    F[::3] = 0\n",
    "    I = F*3/2 /(3*ninter)\n",
    "    return I.sum()"
   ]
  },
  {
   "cell_type": "code",
   "execution_count": 40,
   "metadata": {},
   "outputs": [
    {
     "name": "stdout",
     "output_type": "stream",
     "text": [
      "T_Linie Analytisch : 1.454 s\n"
     ]
    }
   ],
   "source": [
    "# Für die gerade Linie lässt sich das Integral einfach ausführen und dient als guter Vergleich\n",
    "print(\"T_Linie Analytisch : {:.3f} s\".format(np.sqrt((2*yb)/(10*(yb/np.sqrt(yb**2+xb**2))**2))))"
   ]
  },
  {
   "cell_type": "code",
   "execution_count": 41,
   "metadata": {},
   "outputs": [
    {
     "name": "stdout",
     "output_type": "stream",
     "text": [
      "T_Linie   : 1.467 s\n",
      "T_Parabel : 1.864 s\n",
      "T_Cycloid : 1.392 s\n"
     ]
    }
   ],
   "source": [
    "# Wir lassen den Kreis aus, der ist leider numerisch sehr instabil\n",
    "print(\"T_Linie   : {:.3f} s\".format(T(f,line,d_line,xb,yb)))\n",
    "print(\"T_Parabel : {:.3f} s\".format(T(f,parabula,d_parabula,xb,yb)))\n",
    "print(\"T_Cycloid : {:.3f} s\".format(T(f,brachistochrone,d_brachistochrone,xb,yb)))"
   ]
  },
  {
   "cell_type": "markdown",
   "metadata": {},
   "source": [
    "# Tautochrone"
   ]
  },
  {
   "cell_type": "markdown",
   "metadata": {},
   "source": [
    "### Wie berechnen wir jetzt die Zeit auf nur einem Abschnitt der Bahn?"
   ]
  },
  {
   "cell_type": "code",
   "execution_count": 42,
   "metadata": {},
   "outputs": [],
   "source": [
    "def T_partial(_f,_gamma,_dgamma,start,xb,yb):\n",
    "    # Integration wie oben, nur müssen wir ein wenig zusammenbasteln,\n",
    "    #     dass wir nicht den ganzen Weg fallen lassen\n",
    "    #     0 < start < 1, Anteil der kurve der NICHT zurückgelegt werden soll\n",
    "    \n",
    "    ninter = 1000000\n",
    "    # Wir starten die Parametrisierung nicht bei 0, sondern bei start\n",
    "    steps = np.arange(start,1,(1-start)/(3*ninter))\n",
    "    ff  = np.zeros_like(steps)\n",
    "    dff = np.zeros_like(steps) \n",
    "    \n",
    "    _,y0 = _gamma(steps[0:1],xb,yb)\n",
    "    x,y = _gamma(steps[1:],xb,yb)\n",
    "    \n",
    "    # Wir müssen die Höhe beim Start abziehen um die richtigen Geschwindigkeiten zu erhalten\n",
    "    ff[1:]  = _f(x,y-y0)\n",
    "    dff[1:] = _dgamma(steps[1:],xb,yb)\n",
    "    F = ff*dff\n",
    "    F[::3] = 0\n",
    "    # Wir integrieren s nicht mehr von 0 bis 1, sondern von start bis 1\n",
    "    # deswegen der zusätzliche Faktor von (1-start)\n",
    "    I = F*3/2 *(1-start)/(3*ninter)\n",
    "    return I.sum()"
   ]
  },
  {
   "cell_type": "markdown",
   "metadata": {},
   "source": [
    "### Sanity Check, Funktioniert die gerade Linie?"
   ]
  },
  {
   "cell_type": "code",
   "execution_count": null,
   "metadata": {},
   "outputs": [],
   "source": [
    "print(\"Start bei halbem Weg\")\n",
    "strt = 0.5\n",
    "print(\"T_Linie Analytisch : {:.3f} s\".format(np.sqrt((2*yb*strt)/(10*(yb*strt/np.sqrt((yb*strt)**2+(xb*strt)**2))**2))))\n",
    "print(\"T_Linie   : {:.3f} s\".format(T_partial(f,line,d_line,strt,xb,yb)))\n",
    "print()\n",
    "print(\"Start bei 1/3 vom Weg\")\n",
    "strt = 1/3\n",
    "print(\"T_Linie Analytisch : {:.3f} s\".format(np.sqrt((2*yb*(1-strt))/(10*(yb*(1-strt)/np.sqrt((yb*(1-strt))**2+(xb*(1-strt))**2))**2))))\n",
    "print(\"T_Linie   : {:.3f} s\".format(T_partial(f,line,d_line,strt,xb,yb)))\n",
    "print()\n",
    "print(\"Start bei 2/3 vom Weg\")\n",
    "strt = 2/3\n",
    "print(\"T_Linie Analytisch : {:.3f} s\".format(np.sqrt((2*yb*(1-strt))/(10*(yb*(1-strt)/np.sqrt((yb*(1-strt))**2+(xb*(1-strt))**2))**2))))\n",
    "print(\"T_Linie   : {:.3f} s\".format(T_partial(f,line,d_line,strt,xb,yb)))"
   ]
  },
  {
   "cell_type": "markdown",
   "metadata": {},
   "source": [
    "### Jetzt das Ganze mit der Brachistochrone"
   ]
  },
  {
   "cell_type": "code",
   "execution_count": 43,
   "metadata": {},
   "outputs": [],
   "source": [
    "# Aufgabe: Neue Parameter xb,yb\n",
    "xb = 12\n",
    "yb = 13"
   ]
  },
  {
   "cell_type": "code",
   "execution_count": 44,
   "metadata": {},
   "outputs": [
    {
     "name": "stdout",
     "output_type": "stream",
     "text": [
      "R        : 7.86\n",
      "Phi_B    : 2.28\n",
      "f(Phi_B) : -7.1e-11\n",
      "iterationen: 45\n"
     ]
    }
   ],
   "source": [
    "# Newton-Raphson\n",
    "#     Sinvoller Anfangswert, 0 sieht problematisch aus\n",
    "#     Also fangen wir einfach mit phi_B = 1 an\n",
    "\n",
    "phi_B = 1\n",
    "root = f_brach(phi_B,xb,yb)\n",
    "it = 0\n",
    "maxit = 1000\n",
    "\n",
    "while (abs(root) > 1e-10) and (it < maxit):\n",
    "    phi_B -= f_brach(phi_B,xb,yb) / df_brach(phi_B)\n",
    "    root = f_brach(phi_B,xb,yb)\n",
    "    it+=1\n",
    "    \n",
    "R = yb / (1-np.cos(phi_B))\n",
    "print(\"R        : {:.2f}\".format(R))\n",
    "print('Phi_B    : {:.2f}'.format(phi_B))\n",
    "print('f(Phi_B) : {:.2}'.format(root))\n",
    "print('iterationen:', it)"
   ]
  },
  {
   "cell_type": "code",
   "execution_count": 4,
   "metadata": {},
   "outputs": [
    {
     "name": "stdout",
     "output_type": "stream",
     "text": [
      "Object `?` not found.\n"
     ]
    }
   ],
   "source": [
    "# AUFGABE: Wie oben bei der Linie soll nun für die Brachystochrone für unterschiedliche Startwerte \n",
    "#          die Laufzeit bestimmt weden. Der \"start\"-Wert, der übergeben wird, ist dabei der \"t\" Wert in der\n",
    "#          Parametrisierung der Kurve, bei dem jetzt der Körer \"fallen gelassen\" werden soll.\n",
    "# Welche Bedingung muss erfüllt sein, damit tautochrones Verhalten gefunden wird?\n",
    "???"
   ]
  },
  {
   "cell_type": "code",
   "execution_count": null,
   "metadata": {},
   "outputs": [],
   "source": []
  }
 ],
 "metadata": {
  "kernelspec": {
   "display_name": "Python 3",
   "language": "python",
   "name": "python3"
  },
  "language_info": {
   "codemirror_mode": {
    "name": "ipython",
    "version": 3
   },
   "file_extension": ".py",
   "mimetype": "text/x-python",
   "name": "python",
   "nbconvert_exporter": "python",
   "pygments_lexer": "ipython3",
   "version": "3.7.3"
  }
 },
 "nbformat": 4,
 "nbformat_minor": 2
}
