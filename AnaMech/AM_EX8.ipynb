{
 "cells": [
  {
   "cell_type": "code",
   "execution_count": null,
   "metadata": {},
   "outputs": [],
   "source": [
    "import matplotlib as mpl\n",
    "from mpl_toolkits.mplot3d import Axes3D\n",
    "\n",
    "import numpy as np\n",
    "import matplotlib.pyplot as plt\n",
    "import scipy.integrate as integrate\n",
    "import mpl_toolkits.mplot3d.axes3d as p3"
   ]
  },
  {
   "cell_type": "markdown",
   "metadata": {},
   "source": [
    "Aus der Hamilton Funktion für ein sphärisches Pendel variabler Länge ergeben sich die folgenden Bewegungsgleichungen:\n",
    "\n",
    "\\begin{align}\n",
    "  \\dot\\theta &= \\frac{\\partial H }{\\partial p_\\theta} = \\frac{p_\\theta}{ml(t)^2}\\\\\n",
    "  \\dot\\phi   &= \\frac{\\partial H }{\\partial p_\\phi} = \\frac{p_\\phi}{ml(t)^2\\sin^2\\theta}\\\\\n",
    "  \\dot p_\\theta &= -\\frac{\\partial H }{\\partial\\theta} = \\frac{p_\\phi^2\\cos\\theta}{ml(t)^2\\sin^3\\theta} + mgl(t)\\sin\\theta\\\\\n",
    "  \\dot p_\\phi &= -\\frac{\\partial H }{\\partial\\phi} = 0\n",
    "\\end{align}\n",
    "\n",
    "Im Gegensatz zu den letzten Wochen ist das System direkt von erster Ordnung und wir müssen es nicht erst in ein System von DGL 1. Ordnung überführen. Diese DGL werden nun numerisch gelöst. Das Vorgehen ist dabei analog zum Vorgehen im Notebook `AM_EX7.ipynb`: zunächst implementieren wir die entsprechenden Ableitungen und benutzen dann die von Python zur Verfügung gestellte `odeint`-Methode."
   ]
  },
  {
   "cell_type": "code",
   "execution_count": null,
   "metadata": {},
   "outputs": [],
   "source": [
    "# Globale Konstanten\n",
    "m = 1\n",
    "g = 10"
   ]
  },
  {
   "cell_type": "code",
   "execution_count": null,
   "metadata": {},
   "outputs": [],
   "source": [
    "# Die Zeitabhänige Länge kann als Funktion implementiert werden, da wir sie an \n",
    "#     mehreren Stellen benötigen\n",
    "#\n",
    "# Aus den Bewegungsgleichungen wird klar, dass l=0 zu Problemen führt;\n",
    "#     numerisch kann es schon für kleine Längen nah bei Null zu Problemem kommen.\n",
    "#     Dies äußert sich i.d.R. durch \"division by zero\" errors\n",
    "\n",
    "def l(t):\n",
    "    ???"
   ]
  },
  {
   "cell_type": "code",
   "execution_count": null,
   "metadata": {},
   "outputs": [],
   "source": [
    "# Koordinaten: theta,phi,p_theta,p_phi\n",
    "#\n",
    "# Analog zu den letzen Wochen benötigen wir die Ableitungen der gewählten Koordinaten.\n",
    "#     Der Vorteil ist, dass der Hamilton'sche Formalismus direkt die Koordinaten liefert\n",
    "#     und die Ableitungen durch die Bewegungsgleichungen bestimmt sind\n",
    "\n",
    "def derivs(state,t):\n",
    "    theta  = state[0]\n",
    "    phi    = state[1]\n",
    "    ptheta = state[2]\n",
    "    pphi   = state[3]\n",
    "    \n",
    "    dydx    = ???\n",
    "    dydx[0] = ???\n",
    "    dydx[1] = ???\n",
    "    dydx[2] = ???\n",
    "    dydx[3] = ???\n",
    "    return dydx"
   ]
  },
  {
   "cell_type": "code",
   "execution_count": null,
   "metadata": {},
   "outputs": [],
   "source": [
    "# Anfangsbedingungen auswählen.\n",
    "# Es gibt einige Spezialfälle:\n",
    "#     Was passiert zum Beispiel für pphi0 = 0?\n",
    "theta0   = ???\n",
    "phi0     = ???\n",
    "ptheta0  = ???\n",
    "pphi0    = ???"
   ]
  },
  {
   "cell_type": "code",
   "execution_count": null,
   "metadata": {},
   "outputs": [],
   "source": [
    "# Anfangsbedingungen zusammenfassen und numerisch lösen:\n",
    "# Analog zu den letzten Wochen.\n",
    "state0 = [theta0,phi0,ptheta0,pphi0]\n",
    "dt = 0.01 \n",
    "\n",
    "t = np.arange(0.0, 20, dt) \n",
    "n_trj = integrate.odeint(derivs, state0, t) "
   ]
  },
  {
   "cell_type": "markdown",
   "metadata": {},
   "source": [
    "# 3d Plot"
   ]
  },
  {
   "cell_type": "code",
   "execution_count": null,
   "metadata": {},
   "outputs": [],
   "source": [
    "# Für 3d Plots müssen wir die Koordinaten von Kugelkoordinaten in\n",
    "#    kartesische Koordinaten umrechnen:\n",
    "def kugel_to_kartesisch(r,theta,phi):\n",
    "    x = ???\n",
    "    y = ???\n",
    "    z = ???\n",
    "    return x,y,z"
   ]
  },
  {
   "cell_type": "code",
   "execution_count": null,
   "metadata": {},
   "outputs": [],
   "source": [
    "# Koordinatentransformation \n",
    "x,y,z = kugel_to_kartesisch(l(t),n_trj[...,0],n_trj[...,1])\n",
    "\n",
    "# Der eigentliche Plot\n",
    "fig = plt.figure()\n",
    "\n",
    "# So fügen wir eine 3D-Achse zum Plot hinzu,\n",
    "#     dannach können plots wie gewohnt erstellt werden:\n",
    "ax = p3.Axes3D(fig)\n",
    "ax.plot(x, y, z, label='Trajektorie')\n",
    "\n",
    "# Setze die Achsenlimits so, dass die Längenverhältnisse gleich sind\n",
    "lim = 2\n",
    "ax.set_xlim(-lim,lim)\n",
    "ax.set_ylim(-lim,lim)\n",
    "ax.set_zlim(-lim,lim)\n",
    "ax.legend()\n",
    "\n",
    "plt.show()"
   ]
  },
  {
   "cell_type": "markdown",
   "metadata": {},
   "source": [
    "# Phasenraumplots\n",
    "Wir betrachten die Dynamik im Phasenraum der jeweiligen Variablen und zugehörigen Impulse, $(\\theta,p_\\theta)$ und $(\\phi,p_\\phi)$."
   ]
  },
  {
   "cell_type": "code",
   "execution_count": null,
   "metadata": {
    "scrolled": true
   },
   "outputs": [],
   "source": [
    "# Für die Phasenraumplots muss nichts mehr transformiert werden und\n",
    "#     wir können direkt in den Hamiltonschen Koordinaten arbeiten\n",
    "fig,ax = plt.subplots(1,2,figsize = (9,4))\n",
    "\n",
    "# theta - p_theta Phasenraum\n",
    "???\n",
    "\n",
    "# phi - p_phi Phasenraum\n",
    "???\n",
    "\n",
    "fig.tight_layout()\n",
    "\n",
    "plt.show()"
   ]
  },
  {
   "cell_type": "markdown",
   "metadata": {},
   "source": [
    "# Animation\n",
    "Zur besseren Illustration können Sie eine Animation erstellen und direkt die Dynamik daran untersuchen. Spielen Sie ruhig mit den Anfangsparametern und suchen Sie nach besonders interessanten Trajektorien!"
   ]
  },
  {
   "cell_type": "code",
   "execution_count": null,
   "metadata": {},
   "outputs": [],
   "source": [
    "from matplotlib import animation\n",
    "from IPython.display import HTML"
   ]
  },
  {
   "cell_type": "code",
   "execution_count": null,
   "metadata": {},
   "outputs": [],
   "source": [
    "# Noch einmal Anfangsbedingungen und numerische Integration\n",
    "\n",
    "theta0   = np.radians(90)\n",
    "phi0     = np.radians(90)\n",
    "ptheta0 = 1\n",
    "pphi0   = 2\n",
    "\n",
    "state0 = [theta0,phi0,ptheta0,pphi0]\n",
    "dt = 0.01 \n",
    "\n",
    "t = np.arange(0.0, 20, dt) \n",
    "n_trj = integrate.odeint(derivs, state0, t) "
   ]
  },
  {
   "cell_type": "code",
   "execution_count": null,
   "metadata": {},
   "outputs": [],
   "source": [
    "fig = plt.figure()\n",
    "ax = p3.Axes3D(fig)\n",
    "\n",
    "lim = 2\n",
    "ax.set_xlim(-lim,lim)\n",
    "ax.set_ylim(-lim,lim)\n",
    "ax.set_zlim(-lim,lim)\n",
    "\n",
    "line = ax.plot([], [], [],'o-', lw=2)[0]\n",
    "\n",
    "# Die Animation ist etwas resourcenhungriger, deswegen überspringen wir\n",
    "#    einige Zeitpunkte. Es gilt abzuwägen genug zu sehen und auch eine\n",
    "#    flüssige Animation zu erhalten.\n",
    "offs = 6\n",
    "def animate(i):\n",
    "    line.set_data([0,x[offs*i]],[0,y[offs*i]])\n",
    "    line.set_3d_properties([0,z[offs*i]])\n",
    "    return line\n",
    "\n",
    "# Erzeugt die Animation\n",
    "ani = animation.FuncAnimation(fig, animate, np.arange(1, len(t)//offs),interval=offs*1000*dt/2, blit=False)#, init_func=init) \n",
    "\n",
    "# Verhindert Ausgabe des Plots (ohne Animation)\n",
    "plt.close(ani._fig)"
   ]
  },
  {
   "cell_type": "code",
   "execution_count": null,
   "metadata": {},
   "outputs": [],
   "source": [
    "# Kann etwas dauern, Geduld bewahren!\n",
    "HTML(ani.to_jshtml())"
   ]
  }
 ],
 "metadata": {
  "kernelspec": {
   "display_name": "Python 3",
   "language": "python",
   "name": "python3"
  },
  "language_info": {
   "codemirror_mode": {
    "name": "ipython",
    "version": 3
   },
   "file_extension": ".py",
   "mimetype": "text/x-python",
   "name": "python",
   "nbconvert_exporter": "python",
   "pygments_lexer": "ipython3",
   "version": "3.7.3"
  }
 },
 "nbformat": 4,
 "nbformat_minor": 2
}
