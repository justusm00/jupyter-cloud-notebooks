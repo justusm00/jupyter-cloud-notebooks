{
 "cells": [
  {
   "cell_type": "code",
   "execution_count": null,
   "id": "0ebf585d-7979-4f3d-bea1-120c9b3f1abf",
   "metadata": {},
   "outputs": [],
   "source": [
    "import numpy as np\n",
    "import matplotlib.pyplot as plt\n",
    "\n",
    "##script to plot rcms trajectories of evaporating molecules\n",
    "\n",
    "\n",
    "N = 32 #number of oxygen atoms \n",
    "T= 250 #temperature\n",
    "rmax = 14 #cms distance that defines evaporation\n",
    "\n",
    "input_file=\"clo_{}w_{}K.dt4\".format(N,T)\n",
    "\n",
    "#load data\n",
    "rcom = np.loadtxt(\"clo_32w_{}K.dt4\".format(T),usecols=1)\n",
    "vrel = np.loadtxt(\"clo_32w_{}K.dt4\".format(T),usecols=2)\n",
    "nsteps = int(len(rcom)/N)\n",
    "rcom = rcom.reshape(int(len(rcom)/N),N)\n",
    "vrel = vrel.reshape(int(len(vrel)/N),N)\n",
    "\n",
    "\n",
    "tmax = nsteps*10\n",
    "\n",
    "#define time array\n",
    "t = np.linspace(0,tmax,nsteps)\n",
    "\n",
    "\n",
    "#plot trajectories of evaporating molecules\n",
    "for i in range(N):\n",
    "    if max(rcom[:,i])>rmax:\n",
    "        plt.figure(dpi=100)\n",
    "        plt.xlabel(\"$t$ [fs]\")\n",
    "        plt.ylabel(\"$r_{cms}$ [Angstroms]\")\n",
    "        plt.title(\"$[(H_2O)_{32} ClO]^-$, $T_0$=300K\")\n",
    "        plt.plot(t,rcom[:,i],lw=1)\n",
    "        \n",
    "\n",
    "    \n",
    "    \n",
    "    \n",
    "#fig,ax = plt.subplots(2,dpi=150)\n",
    "#ax[0].plot(t,rcom[:,0],lw=1)\n",
    "#ax[1].plot(t,vrel[:,0],lw=1)\n",
    "#ax[0].vlines(x=22500,ymin=np.min(rcom[0,:]),ymax=np.max(rcom[0,:]),lw=1)\n"
   ]
  },
  {
   "cell_type": "code",
   "execution_count": null,
   "id": "6155c645-478a-4d94-b094-9d50674213d4",
   "metadata": {},
   "outputs": [],
   "source": []
  },
  {
   "cell_type": "code",
   "execution_count": null,
   "id": "db4936f9-76d4-4be3-bbf7-a7d327ccda4e",
   "metadata": {},
   "outputs": [],
   "source": []
  },
  {
   "cell_type": "code",
   "execution_count": null,
   "id": "1dac6b20-bada-477c-b3b6-2d560d65335c",
   "metadata": {},
   "outputs": [],
   "source": []
  }
 ],
 "metadata": {
  "kernelspec": {
   "display_name": "Python 3 (ipykernel)",
   "language": "python",
   "name": "python3"
  },
  "language_info": {
   "codemirror_mode": {
    "name": "ipython",
    "version": 3
   },
   "file_extension": ".py",
   "mimetype": "text/x-python",
   "name": "python",
   "nbconvert_exporter": "python",
   "pygments_lexer": "ipython3",
   "version": "3.9.10"
  }
 },
 "nbformat": 4,
 "nbformat_minor": 5
}
