{
 "cells": [
  {
   "cell_type": "code",
   "execution_count": 1,
   "id": "8435751c-abde-4e6f-a524-57366887cc85",
   "metadata": {},
   "outputs": [
    {
     "name": "stdout",
     "output_type": "stream",
     "text": [
      "5.032206119162641\n",
      "4.574732835602401\n",
      "4.1935050993022\n",
      "3.870927783971262\n",
      "3.594432942259029\n",
      "3.3548040794417604\n",
      "3.1451288244766507\n",
      "2.9601212465662594\n",
      "2.795670066201467\n",
      "2.64852953640139\n",
      "2.5161030595813205\n",
      "2.396288628172686\n",
      "2.2873664178012003\n",
      "2.187915703983757\n",
      "2.0967525496511\n"
     ]
    }
   ],
   "source": [
    "import numpy as np\n",
    "for i in range(15):\n",
    "    a=1.0/((100.00+i*10.00)*0.0019872)\n",
    "    print(a)"
   ]
  },
  {
   "cell_type": "code",
   "execution_count": 7,
   "id": "c982bf12-158e-40db-a7a1-9733d2110097",
   "metadata": {},
   "outputs": [
    {
     "name": "stdout",
     "output_type": "stream",
     "text": [
      "0.0037896749130347167\n",
      "1.003796864810597\n"
     ]
    }
   ],
   "source": [
    "k = 0.0019872\n",
    "dv = -136.7546264330 - ( -136.7663745465)\n",
    "dt = 4.19350509930220075147-3.87092778397126223213\n",
    "print(dv*dt)\n",
    "print(np.exp(dv*dt))"
   ]
  },
  {
   "cell_type": "code",
   "execution_count": null,
   "id": "a807a42f-0fab-4288-b695-23b9d65af1ff",
   "metadata": {},
   "outputs": [],
   "source": []
  }
 ],
 "metadata": {
  "kernelspec": {
   "display_name": "Python 3 (ipykernel)",
   "language": "python",
   "name": "python3"
  },
  "language_info": {
   "codemirror_mode": {
    "name": "ipython",
    "version": 3
   },
   "file_extension": ".py",
   "mimetype": "text/x-python",
   "name": "python",
   "nbconvert_exporter": "python",
   "pygments_lexer": "ipython3",
   "version": "3.9.10"
  }
 },
 "nbformat": 4,
 "nbformat_minor": 5
}
