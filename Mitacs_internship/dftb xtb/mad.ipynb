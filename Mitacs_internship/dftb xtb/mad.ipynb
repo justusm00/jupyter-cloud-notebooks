{
 "cells": [
  {
   "cell_type": "code",
   "execution_count": 1,
   "id": "f5943129-9064-4188-a8d5-2e94c5037c59",
   "metadata": {},
   "outputs": [
    {
     "data": {
      "text/plain": [
       "2.7714285714285603"
      ]
     },
     "execution_count": 1,
     "metadata": {},
     "output_type": "execute_result"
    }
   ],
   "source": [
    "##mean absolute deviations\n",
    "import numpy as np\n",
    "import matplotlib.pyplot as plt\n",
    "\n",
    "ang_mp2=np.array([[178.5,178.5],[148.1, 148.1],[144.7, 145.0 ],[142.1, 145.2]])\n",
    "ang_dftb=np.array([[168.8,168.6],[147.0,147.1],[143.6,144.4],[141.0,140.4]])\n",
    "\n",
    "ang_mp2_mean=ang_mp2.mean(axis=1)\n",
    "ang_mp2_mean\n",
    "dum=abs(168.8-ang_mp2_mean[0])+abs(147.0-ang_mp2_mean[1])+abs(147.1-ang_mp2_mean[1])+abs(143.6-ang_mp2_mean[2])+abs(144.4-ang_mp2_mean[2])+abs(141.0-ang_mp2_mean[3])+abs(140.4-ang_mp2_mean[3])\n",
    "dev=dum/7\n",
    "dev\n"
   ]
  },
  {
   "cell_type": "code",
   "execution_count": null,
   "id": "9dc32e9c-6207-4d63-8b2d-8589ed21c079",
   "metadata": {},
   "outputs": [],
   "source": []
  }
 ],
 "metadata": {
  "kernelspec": {
   "display_name": "Python 3 (ipykernel)",
   "language": "python",
   "name": "python3"
  },
  "language_info": {
   "codemirror_mode": {
    "name": "ipython",
    "version": 3
   },
   "file_extension": ".py",
   "mimetype": "text/x-python",
   "name": "python",
   "nbconvert_exporter": "python",
   "pygments_lexer": "ipython3",
   "version": "3.9.10"
  }
 },
 "nbformat": 4,
 "nbformat_minor": 5
}
