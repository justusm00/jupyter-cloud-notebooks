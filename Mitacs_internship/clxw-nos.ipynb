{
 "cells": [
  {
   "cell_type": "code",
   "execution_count": 26,
   "id": "93366285-6da4-44f8-af6a-924bb59ef3b2",
   "metadata": {},
   "outputs": [
    {
     "data": {
      "text/plain": [
       "(array([1., 0., 1., 1., 0., 1., 2., 0., 2., 3.]),\n",
       " array([0.98999172, 1.00100906, 1.0120264 , 1.02304374, 1.03406108,\n",
       "        1.04507842, 1.05609576, 1.0671131 , 1.07813045, 1.08914779,\n",
       "        1.10016513]),\n",
       " <BarContainer object of 10 artists>)"
      ]
     },
     "execution_count": 26,
     "metadata": {},
     "output_type": "execute_result"
    },
    {
     "data": {
      "image/png": "[encoded data removed]",
      "text/plain": [
       "<Figure size 600x400 with 1 Axes>"
      ]
     },
     "metadata": {
      "needs_background": "light"
     },
     "output_type": "display_data"
    }
   ],
   "source": [
    "##routine to extract the center of mass coordinate and from that the probability distribution\n",
    "\n",
    "\n",
    "import numpy as np\n",
    "import matplotlib.pyplot as plt\n",
    "\n",
    "#simulation parameters\n",
    "natoms = 37 ##number of atoms\n",
    "tmax = 500 #simulation time\n",
    "prnt = 50 #printout every\n",
    "frames = (int)(tmax/prnt) ##no of frames\n",
    "\n",
    "\n",
    "##first need to to some post-processing of the data\n",
    "##leave out lines that contain text\n",
    "file = []\n",
    "fp = open(\"cl12w-nos.dt98\")\n",
    "for i, line in enumerate(fp):\n",
    "    #leave out first and second line of first frame\n",
    "    if i<2:\n",
    "        pass\n",
    "    #leave out first and second line of every remaining frame\n",
    "    elif ((i%(natoms+2))==0) or (i%(natoms+2))==1:\n",
    "        pass\n",
    "    else:\n",
    "        file.append(line)\n",
    "        #print(i)\n",
    "        \n",
    "        \n",
    "#convert to float array using loadtxt\n",
    "data = np.loadtxt(file)\n",
    "#print(data)\n",
    "\n",
    "\n",
    "t = np.arange(0,tmax+1,prnt) #time in fs\n",
    "masses = data[:,0]\n",
    "coordinates = data[:,1:]\n",
    "\n",
    "#reshape arrays\n",
    "masses = masses.reshape((int)(len(masses)/natoms),natoms)\n",
    "coordinates = coordinates.reshape((int)(len(coordinates)/natoms),natoms,3)\n",
    "\n",
    "\n",
    "rcms = np.array([]) ##rcm values\n",
    "##calculate rcm coordinates:\n",
    "M = sum(masses[0]) ##total mass\n",
    "\n",
    "##loop over frames\n",
    "for i in range(len(t)):\n",
    "    cm = np.zeros(3)\n",
    "    #loop over coordinates\n",
    "    for j in range(3):\n",
    "        #loop over atoms\n",
    "        for k in range(natoms):\n",
    "            cm[j] += coordinates[i,k,j]*masses[i,k]\n",
    "        cm[j] /= M\n",
    "    rcm = coordinates[i,0]-cm\n",
    "    norm = np.linalg.norm(rcm)\n",
    "    rcms = np.append(rcms,norm)\n",
    "    \n",
    "    \n",
    "##plot histogram\n",
    "plt.figure(dpi=100)\n",
    "plt.xlabel(\"$r_{cm}$\")\n",
    "plt.ylabel(\"frequency\")\n",
    "plt.hist(rcms,bins=10)\n",
    "\n",
    "\n"
   ]
  },
  {
   "cell_type": "code",
   "execution_count": null,
   "id": "2a8e6822-2b40-4609-aeb2-0cbae7ff92dd",
   "metadata": {},
   "outputs": [],
   "source": []
  },
  {
   "cell_type": "code",
   "execution_count": null,
   "id": "9b2b797f-cfa8-4db9-bc50-a13e7c4b3e8f",
   "metadata": {},
   "outputs": [],
   "source": []
  }
 ],
 "metadata": {
  "kernelspec": {
   "display_name": "Python 3 (ipykernel)",
   "language": "python",
   "name": "python3"
  },
  "language_info": {
   "codemirror_mode": {
    "name": "ipython",
    "version": 3
   },
   "file_extension": ".py",
   "mimetype": "text/x-python",
   "name": "python",
   "nbconvert_exporter": "python",
   "pygments_lexer": "ipython3",
   "version": "3.9.10"
  }
 },
 "nbformat": 4,
 "nbformat_minor": 5
}
