{
 "cells": [
  {
   "cell_type": "code",
   "execution_count": 2,
   "id": "2e0c111b-03f5-4af8-b144-061ac8a5ff60",
   "metadata": {},
   "outputs": [
    {
     "data": {
      "text/plain": [
       "array([-98.57533044, -77.64082344])"
      ]
     },
     "execution_count": 2,
     "metadata": {},
     "output_type": "execute_result"
    }
   ],
   "source": [
    "##nox_32w\n",
    "import numpy as np\n",
    "R=1.9889e-3#ideal gas constant\n",
    "n=32 #number of solvent molecules\n",
    "T=250 #temperature\n",
    "\n",
    "H = np.array([])\n",
    "for i in range(2,4):\n",
    "    t,V = np.loadtxt(\"no{}_{}w_{}K.dt3\".format(i,n,T),usecols=(0,4)).T #biased potentials\n",
    "    V=V[500:] #skip equilibration time\n",
    "    Vav = np.mean(V)\n",
    "    H = np.append(H,Vav + n*R*T)\n",
    "H"
   ]
  },
  {
   "cell_type": "code",
   "execution_count": null,
   "id": "c610b880-de12-4b10-840c-b1650ce0564c",
   "metadata": {},
   "outputs": [],
   "source": []
  }
 ],
 "metadata": {
  "kernelspec": {
   "display_name": "Python 3 (ipykernel)",
   "language": "python",
   "name": "python3"
  },
  "language_info": {
   "codemirror_mode": {
    "name": "ipython",
    "version": 3
   },
   "file_extension": ".py",
   "mimetype": "text/x-python",
   "name": "python",
   "nbconvert_exporter": "python",
   "pygments_lexer": "ipython3",
   "version": "3.9.10"
  }
 },
 "nbformat": 4,
 "nbformat_minor": 5
}
