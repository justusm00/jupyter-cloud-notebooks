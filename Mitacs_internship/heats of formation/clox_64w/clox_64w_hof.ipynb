{
 "cells": [
  {
   "cell_type": "code",
   "execution_count": 1,
   "id": "2e0c111b-03f5-4af8-b144-061ac8a5ff60",
   "metadata": {},
   "outputs": [
    {
     "name": "stdout",
     "output_type": "stream",
     "text": [
      "[-210.79979064 -273.04081616 -349.58960333 -420.01157113] [11.85855095 12.33509772 11.69931956 12.0292559 ]\n"
     ]
    }
   ],
   "source": [
    "##clox_64w\n",
    "\n",
    "import numpy as np\n",
    "R=1.9889e-3#ideal gas constant\n",
    "n=64 #number of solvent molecules\n",
    "T=240 #temperature\n",
    "\n",
    "H = np.array([])\n",
    "dH = np.array([]) #standard deviation of potential energy\n",
    "for i in range(1,5):\n",
    "    t,V = np.loadtxt(\"clo{}_{}w_{}K.dt3\".format(i,n,T),usecols=(0,4)).T #biased potentials\n",
    "    V=V[500:] #skip equilibration time\n",
    "    Vav = np.mean(V)\n",
    "    H = np.append(H,Vav + n*R*T)\n",
    "    dH = np.append(dH,np.std(V))\n",
    "print(H,dH)"
   ]
  },
  {
   "cell_type": "code",
   "execution_count": null,
   "id": "c610b880-de12-4b10-840c-b1650ce0564c",
   "metadata": {},
   "outputs": [],
   "source": []
  }
 ],
 "metadata": {
  "kernelspec": {
   "display_name": "Python 3 (ipykernel)",
   "language": "python",
   "name": "python3"
  },
  "language_info": {
   "codemirror_mode": {
    "name": "ipython",
    "version": 3
   },
   "file_extension": ".py",
   "mimetype": "text/x-python",
   "name": "python",
   "nbconvert_exporter": "python",
   "pygments_lexer": "ipython3",
   "version": "3.9.10"
  }
 },
 "nbformat": 4,
 "nbformat_minor": 5
}
