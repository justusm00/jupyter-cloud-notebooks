{
 "cells": [
  {
   "cell_type": "code",
   "execution_count": 2,
   "id": "5269c1c5-1841-4612-8e97-0a214463fada",
   "metadata": {},
   "outputs": [
    {
     "name": "stdout",
     "output_type": "stream",
     "text": [
      "485165195.4097903\n"
     ]
    }
   ],
   "source": [
    "import numpy as np\n",
    "import matplotlib.pyplot as plt\n",
    "\n",
    "xmax = 15\n",
    "\n",
    "def sigmoid(x):\n",
    "    return 1/(np.exp(-10*(x-xmax))+1)\n",
    "\n",
    "\n",
    "\n",
    "x = np.linspace(0,20,1000)\n",
    "\n",
    "\n",
    "#plt.plot(x,sigmoid(x))\n",
    "#plt.plot(x,np.exp(x)*sigmoid(x))\n",
    "print(max(np.exp(x)*sigmoid(x)))"
   ]
  },
  {
   "cell_type": "code",
   "execution_count": null,
   "id": "821a4e32-92d0-4806-b627-9dbcbe2eebe8",
   "metadata": {},
   "outputs": [],
   "source": []
  }
 ],
 "metadata": {
  "kernelspec": {
   "display_name": "Python 3 (ipykernel)",
   "language": "python",
   "name": "python3"
  },
  "language_info": {
   "codemirror_mode": {
    "name": "ipython",
    "version": 3
   },
   "file_extension": ".py",
   "mimetype": "text/x-python",
   "name": "python",
   "nbconvert_exporter": "python",
   "pygments_lexer": "ipython3",
   "version": "3.9.10"
  }
 },
 "nbformat": 4,
 "nbformat_minor": 5
}
