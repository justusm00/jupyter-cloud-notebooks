{
 "cells": [
  {
   "cell_type": "code",
   "execution_count": 32,
   "id": "dfff9629-839c-4e35-b7b8-eb9cce282ee9",
   "metadata": {},
   "outputs": [
    {
     "name": "stdout",
     "output_type": "stream",
     "text": [
      "[5.05684749 5.05451852 5.06310562 5.05024367 5.0271335  5.0544614\n",
      " 5.06257825 5.05718888 5.06094927 5.07105237 5.06726297]\n",
      "[0.05492978 0.0510398  0.05519665 0.05344235 0.05654143 0.05042403\n",
      " 0.04724478 0.05529897 0.050873   0.06287827 0.05255129]\n"
     ]
    }
   ],
   "source": [
    "##block averaging\n",
    "\n",
    "import numpy as np\n",
    "import matplotlib.pyplot as plt\n",
    "\n",
    "n = 10 #number of blocks\n",
    "\n",
    "##array with cm distance\n",
    "rcms = np.loadtxt(\"cl04w-nos.dt3\",usecols=5)\n",
    "mean = np.array([])\n",
    "std = np.array([])\n",
    "mean = np.append(mean,np.mean(rcms))\n",
    "std  = np.append(std,np.std(rcms))\n",
    "rcms = np.split(rcms[:-1],n)\n",
    "#plot histrograms\n",
    "#fig, ax = plt.subplots(n)\n",
    "for i in range(n):\n",
    "    mean = np.append(mean,np.mean(rcms[i]))\n",
    "    std  = np.append(std,np.std(rcms[i]))\n",
    "\n",
    "print(mean)\n",
    "print(std)"
   ]
  },
  {
   "cell_type": "code",
   "execution_count": null,
   "id": "3927ed2d-56c5-43e0-9a90-e577022002af",
   "metadata": {},
   "outputs": [],
   "source": []
  }
 ],
 "metadata": {
  "kernelspec": {
   "display_name": "Python 3 (ipykernel)",
   "language": "python",
   "name": "python3"
  },
  "language_info": {
   "codemirror_mode": {
    "name": "ipython",
    "version": 3
   },
   "file_extension": ".py",
   "mimetype": "text/x-python",
   "name": "python",
   "nbconvert_exporter": "python",
   "pygments_lexer": "ipython3",
   "version": "3.9.10"
  }
 },
 "nbformat": 4,
 "nbformat_minor": 5
}
