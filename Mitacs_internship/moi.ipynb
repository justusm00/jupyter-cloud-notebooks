{
 "cells": [
  {
   "cell_type": "code",
   "execution_count": 27,
   "id": "4d44d6d0-2c24-42cd-81ff-057ed12a73e5",
   "metadata": {},
   "outputs": [
    {
     "name": "stdout",
     "output_type": "stream",
     "text": [
      "[2.4850245  1.17342374 3.65844824]\n"
     ]
    }
   ],
   "source": [
    "import numpy as np\n",
    "import matplotlib.pyplot as plt\n",
    "\n",
    "#calculate principal moments of intertia of water molecule\n",
    "#first use origin as reference point\n",
    "masses = np.array([16,1,1]) #O,H,H\n",
    "coordinates = np.array([[-0.18229168,-0.33854166,0.00000000],[0.77770832,-0.33854166,0.00000000],[-0.50274626,0.56639417,0.00000000]])\n",
    "tens=np.zeros((3,3))\n",
    "for i in range(3):\n",
    "    tens[0,0]+=masses[i]*(coordinates[i,1]**2+coordinates[i,2]**2)\n",
    "    tens[1,1]+=masses[i]*(coordinates[i,0]**2+coordinates[i,2]**2)\n",
    "    tens[2,2]+=masses[i]*(coordinates[i,0]**2+coordinates[i,1]**2)\n",
    "    tens[0,1]-=coordinates[i,0]*coordinates[i,1]\n",
    "    tens[0,2]-=coordinates[i,0]*coordinates[i,2]\n",
    "    tens[1,2]-=coordinates[i,1]*coordinates[i,2]\n",
    "tens[2,1]=tens[1,2]\n",
    "tens[1,0]=tens[0,1]\n",
    "tens[2,0]=tens[0,2]\n",
    "\n",
    "pmoi=np.linalg.eig(tens)\n",
    "\n",
    "print(pmoi[0])"
   ]
  },
  {
   "cell_type": "code",
   "execution_count": null,
   "id": "6eb5a681-e0e0-4a48-8701-e40c95bafc8c",
   "metadata": {},
   "outputs": [],
   "source": [
    "\n"
   ]
  },
  {
   "cell_type": "code",
   "execution_count": null,
   "id": "8b65183a-a70a-4df0-bf99-d4c322cd1754",
   "metadata": {},
   "outputs": [],
   "source": []
  }
 ],
 "metadata": {
  "kernelspec": {
   "display_name": "Python 3 (ipykernel)",
   "language": "python",
   "name": "python3"
  },
  "language_info": {
   "codemirror_mode": {
    "name": "ipython",
    "version": 3
   },
   "file_extension": ".py",
   "mimetype": "text/x-python",
   "name": "python",
   "nbconvert_exporter": "python",
   "pygments_lexer": "ipython3",
   "version": "3.9.10"
  }
 },
 "nbformat": 4,
 "nbformat_minor": 5
}
