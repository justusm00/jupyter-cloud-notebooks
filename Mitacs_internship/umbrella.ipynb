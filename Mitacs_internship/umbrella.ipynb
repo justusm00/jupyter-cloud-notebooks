{
 "cells": [
  {
   "cell_type": "code",
   "execution_count": 7,
   "id": "34450e11-fba9-4363-8a89-acc608139bdc",
   "metadata": {},
   "outputs": [
    {
     "name": "stdout",
     "output_type": "stream",
     "text": [
      "0.6872012478138746\n"
     ]
    }
   ],
   "source": [
    "import numpy as np\n",
    "T1 = 100\n",
    "T2 = 110\n",
    "kb = 0.0019872\n",
    "v1 = -262.53\n",
    "v2 = -261.71\n",
    "\n",
    "print(np.exp((1/(T1*kb)-1/(T2*kb))*(v1-v2)))"
   ]
  },
  {
   "cell_type": "code",
   "execution_count": null,
   "id": "a96df2d6-2b27-41ca-ab93-ed69653f7d00",
   "metadata": {},
   "outputs": [],
   "source": []
  }
 ],
 "metadata": {
  "kernelspec": {
   "display_name": "Python 3 (ipykernel)",
   "language": "python",
   "name": "python3"
  },
  "language_info": {
   "codemirror_mode": {
    "name": "ipython",
    "version": 3
   },
   "file_extension": ".py",
   "mimetype": "text/x-python",
   "name": "python",
   "nbconvert_exporter": "python",
   "pygments_lexer": "ipython3",
   "version": "3.9.10"
  }
 },
 "nbformat": 4,
 "nbformat_minor": 5
}
