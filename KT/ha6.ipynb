{
 "cells": [
  {
   "cell_type": "markdown",
   "id": "54230f0d",
   "metadata": {},
   "source": [
    "Aufgabe 2a"
   ]
  },
  {
   "cell_type": "code",
   "execution_count": 2,
   "id": "b7088029",
   "metadata": {},
   "outputs": [],
   "source": [
    "import numpy as np\n",
    "import matplotlib.pyplot as plt\n",
    "from numpy import cos,sin"
   ]
  },
  {
   "cell_type": "code",
   "execution_count": 14,
   "id": "33d2927f",
   "metadata": {},
   "outputs": [
    {
     "name": "stderr",
     "output_type": "stream",
     "text": [
      "/tmp/ipykernel_293/773800957.py:2: RuntimeWarning: divide by zero encountered in true_divide\n",
      "  return (1+cos(t/2)**4)/(sin(t/2)**4)-2*cos(t/2)**4/sin(t/2)**2+sin(t/2)**4+cos(t/2)**4\n",
      "/tmp/ipykernel_293/773800957.py:2: RuntimeWarning: invalid value encountered in subtract\n",
      "  return (1+cos(t/2)**4)/(sin(t/2)**4)-2*cos(t/2)**4/sin(t/2)**2+sin(t/2)**4+cos(t/2)**4\n"
     ]
    },
    {
     "data": {
      "text/plain": [
       "[<matplotlib.lines.Line2D at 0x7f7dabc9e820>]"
      ]
     },
     "execution_count": 14,
     "metadata": {},
     "output_type": "execute_result"
    },
    {
     "data": {
      "image/png": "[encoded data removed]",
      "text/plain": [
       "<Figure size 600x400 with 1 Axes>"
      ]
     },
     "metadata": {
      "needs_background": "light"
     },
     "output_type": "display_data"
    }
   ],
   "source": [
    "def bhaba(t):\n",
    "    return (1+cos(t/2)**4)/(sin(t/2)**4)-2*cos(t/2)**4/sin(t/2)**2+sin(t/2)**4+cos(t/2)**4\n",
    "\n",
    "t = np.linspace(0,np.pi,100)\n",
    "\n",
    "plt.figure(dpi=100)\n",
    "plt.xlabel(r\"$\\theta$\")\n",
    "plt.ylabel(\"$d\\sigma/d\\Omega$\")\n",
    "plt.plot(t,bhaba(t))"
   ]
  },
  {
   "cell_type": "code",
   "execution_count": null,
   "id": "55de1eb7",
   "metadata": {},
   "outputs": [],
   "source": []
  }
 ],
 "metadata": {
  "kernelspec": {
   "display_name": "Python 3 (ipykernel)",
   "language": "python",
   "name": "python3"
  },
  "language_info": {
   "codemirror_mode": {
    "name": "ipython",
    "version": 3
   },
   "file_extension": ".py",
   "mimetype": "text/x-python",
   "name": "python",
   "nbconvert_exporter": "python",
   "pygments_lexer": "ipython3",
   "version": "3.9.7"
  }
 },
 "nbformat": 4,
 "nbformat_minor": 5
}
