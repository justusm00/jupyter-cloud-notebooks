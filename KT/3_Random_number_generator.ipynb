{
 "cells": [
  {
   "cell_type": "markdown",
   "metadata": {},
   "source": [
    "### TL;DR\n",
    "NumPy recently updated it's PRNG system. For now we suggest using [**these** functions](\n",
    "https://docs.scipy.org/doc/numpy-1.17.0/reference/random/legacy.html#simple-random-data) like this:"
   ]
  },
  {
   "cell_type": "code",
   "execution_count": null,
   "metadata": {},
   "outputs": [],
   "source": [
    "import numpy as np\n",
    "print(np.random.randint(0, 256, 10))"
   ]
  },
  {
   "cell_type": "markdown",
   "metadata": {},
   "source": [
    "\n",
    "# Random number generation\n",
    "\n",
    "The modeling of a lot of systems will require the use of random numbers. Unfortunately, these are quite difficult to generate on a purely deterministically working computer. While most modern devices actually *do* accumulate a pool of entropy from certain sources (like hardware timings), the stream of random bits is mainly useful for resourceful cryptographic applications. Running simulations, for examples of SDEs, requires much more randomness than ordinary hardware can provide.\n",
    "\n",
    "Your options are either using specialized hardware, or incorporating a *Pseudo Random Number Generator* (PRNG).\n",
    "\n",
    "A PRNG is a deterministic algorithm that generates sequences of numbers, that show properties and qualities of a \"true\" random sequence. If you are interested, you can take a look at statistical test suits like the [*Diehard tests*](https://en.wikipedia.org/wiki/Diehard_tests) to see what tests are typically performed to evaluate a PRNG.\n",
    "\n",
    "## RANDU Linear Congruential Generator\n",
    "\n",
    "A very simple class of PRNGs are *Linear Congruential Generators* (LCGs), which generate a sequence $(X_n)$ of integer values by using the following iteration:\n",
    "\n",
    "\\begin{equation}\n",
    "X_{n+1} = (aX_n + c)\\mod m.\n",
    "\\end{equation}\n",
    "\n",
    "The parameters $a$, $c$ and $m$ define the specific LCG. You also need to provide $X_0$, which is called the ***seed***.\n",
    "\n",
    "An infamous example of LCGs is *RANDU*, which was introduced on IBM's S/360 mainframes in the late 60s. A particular poor choice of parameters made RANDU one of the worst PRNGs that found alarmingly  widespread use. Let's implement it as a simple Python function:"
   ]
  },
  {
   "cell_type": "code",
   "execution_count": null,
   "metadata": {},
   "outputs": [],
   "source": [
    "from time import time\n",
    "import numpy as np\n",
    "import matplotlib.pyplot as plt\n",
    "\n",
    "def randu():\n",
    "    randu.X = (65539 * randu.X) % 2**31\n",
    "    return randu.X"
   ]
  },
  {
   "cell_type": "markdown",
   "metadata": {},
   "source": [
    "Now generate a list of \"random\" values with the generator. We extract the lowest 2 bytes by using the bitwise *and*-operator `&` to demonstrate a particular poor performance of the generator in these 8 bits:"
   ]
  },
  {
   "cell_type": "code",
   "execution_count": null,
   "metadata": {},
   "outputs": [],
   "source": [
    "# Seeding the generator with the current time in seconds\n",
    "randu.X = int(time())\n",
    "\n",
    "X = []\n",
    "for i in range(1000):\n",
    "    X.append(randu() & 0xFF)"
   ]
  },
  {
   "cell_type": "markdown",
   "metadata": {},
   "source": [
    "Plot a scatter diagram of all tuples $(X_n, X_{n+1})$ to reveal the correlation structure that these numbers possess. Depending on your seed you might see the tuples lining up, or even occupying only a handful of states at all. Run the generation multiple times to see the differences:"
   ]
  },
  {
   "cell_type": "code",
   "execution_count": null,
   "metadata": {},
   "outputs": [],
   "source": [
    "plt.scatter(X,np.roll(X,1))\n",
    "plt.show()"
   ]
  },
  {
   "cell_type": "markdown",
   "metadata": {},
   "source": [
    "Looking at the list, you will also observe that all numbers are either odd or even :-)"
   ]
  },
  {
   "cell_type": "code",
   "execution_count": null,
   "metadata": {},
   "outputs": [],
   "source": [
    "oddity = []\n",
    "\n",
    "for x in X:\n",
    "    if x % 2:\n",
    "        oddity.append(\"even\")\n",
    "    else:\n",
    "        oddity.append(\"odd\")\n",
    "        \n",
    "print(oddity[:100])"
   ]
  },
  {
   "cell_type": "markdown",
   "metadata": {},
   "source": [
    "These problems are not limited to the lowest 2 bytes, there are similar structures in the entire generator. However, they usually only become visible in tuples of higher dimensions.\n",
    "\n",
    "Structures like these appear in all LCGs and not just in the lower bits. All LCG sequences will always fall onto *hyperplanes*, with the distance between the planes depending on the choice of parameters $a$, $c$ and $m$.\n",
    "\n",
    "If you really need to use a LCG it's best to minimize the distance between the hyperplanes. You can read about optimal values in [L'Ecuyers \"Tables of linear congruential generators of different sizes and good latice structure\" (1999).](https://www.ams.org/journals/mcom/1999-68-225/S0025-5718-99-00996-5/S0025-5718-99-00996-5.pdf). There are, however, much better choices of PRNGs to use.\n",
    "\n",
    "## Random numbers in NumPy\n",
    "The most commonly used PRNGs are *Mersenne Twisters*. You'll find `MT19937` as the standard implementation in most languages and on most systems and in general it's good initial choice for most simulation purposes. However, you should always check that your results do not depend on your generator. Some more modern algorithms with even better statistical qualities include\n",
    "\n",
    "* PCG (http://www.pcg-random.org/)\n",
    "* XoShiRo (http://prng.di.unimi.it/)\n",
    "* SFMT (http://www.math.sci.hiroshima-u.ac.jp/~m-mat/MT/SFMT/index.html)\n",
    "\n",
    "As of version 1.17 (July 2019) **NumPy reworked the `random` modules**. It now uses `PCG64` as it's new standard generator, with the ability to switch to other generators. Prior to 1.17, NumPy always used the Mersenne Twister `MT19937`. There were also numerous changes to the overall infrastructure of `random`.\n",
    "\n",
    "Because the change is so new and many systems (like CIP Pool) are not yet updated to the newest NumPy version, we will use only the legacy functionality. If you ***just want to use NumPy, refer to the Docs on*** [Legacy Random Generation](https://docs.scipy.org/doc/numpy-1.17.0/reference/random/legacy.html#simple-random-data). These functions will work on 1.17 and on older version alike.\n",
    "\n",
    "\n",
    "\n",
    "You can check your NumPy version with"
   ]
  },
  {
   "cell_type": "code",
   "execution_count": null,
   "metadata": {},
   "outputs": [],
   "source": [
    "np.version.version"
   ]
  },
  {
   "cell_type": "markdown",
   "metadata": {},
   "source": [
    "On your own systems or the GWDG Jupyter service, you can upgrade your NumPy version in a terminal with the command\n",
    "\n",
    "`pip install --upgrade numpy`\n",
    "\n",
    "### Random uniform integers\n",
    "\n",
    "First, for (a not so fair) comparison let's generate the 2 byte tuples again, now using NumPy's Mersenne Twister. The legacy generator is automatically seeded in the background on first call:"
   ]
  },
  {
   "cell_type": "code",
   "execution_count": null,
   "metadata": {},
   "outputs": [],
   "source": [
    "X = []\n",
    "oddity = []\n",
    "for i in range(1000):\n",
    "    X.append(np.random.randint(0xff))\n",
    "\n",
    "for x in X:\n",
    "    if x % 2:\n",
    "        oddity.append(\"even\")\n",
    "    else:\n",
    "        oddity.append(\"odd\")\n",
    "        \n",
    "print(oddity[:20])\n",
    "plt.scatter(X,np.roll(X,1))\n",
    "plt.show()"
   ]
  },
  {
   "cell_type": "markdown",
   "metadata": {},
   "source": [
    "The faster, vectorized way of generating many integers is using `randint`'s `size` parameter:"
   ]
  },
  {
   "cell_type": "code",
   "execution_count": null,
   "metadata": {},
   "outputs": [],
   "source": [
    "X = np.random.randint(256, size=10**7)"
   ]
  },
  {
   "cell_type": "markdown",
   "metadata": {},
   "source": [
    "You can directly draw a histogram using *Pyplot's* `hist` function:"
   ]
  },
  {
   "cell_type": "code",
   "execution_count": null,
   "metadata": {},
   "outputs": [],
   "source": [
    "plt.hist(X, bins = 32, density = True, edgecolor='k')\n",
    "plt.show()"
   ]
  },
  {
   "cell_type": "markdown",
   "metadata": {},
   "source": [
    "If you need the histogram in numerical form, use `np.histogram`:"
   ]
  },
  {
   "cell_type": "code",
   "execution_count": null,
   "metadata": {},
   "outputs": [],
   "source": [
    "p, bins = np.histogram(X, bins=32, density = True)\n",
    "plt.plot(bins[:-1],p) # Attention: using the bins left edge might not be what you want to do!\n",
    "plt.ylim(0, 1.2*np.max(p))\n",
    "plt.show()"
   ]
  },
  {
   "cell_type": "markdown",
   "metadata": {},
   "source": [
    "### Choice\n",
    "\n",
    "You can sample random elements from any array using `choice`:"
   ]
  },
  {
   "cell_type": "code",
   "execution_count": null,
   "metadata": {},
   "outputs": [],
   "source": [
    "base_set = np.array([-2, -1, 1, 2])\n",
    "choices = np.random.choice(base_set, size=10**5)\n",
    "\n",
    "plt.hist(choices)\n",
    "plt.show()"
   ]
  },
  {
   "cell_type": "markdown",
   "metadata": {},
   "source": [
    "You may also provide custom probabilities:"
   ]
  },
  {
   "cell_type": "code",
   "execution_count": null,
   "metadata": {
    "scrolled": true
   },
   "outputs": [],
   "source": [
    "prob = np.array([0.1, 0.2, 0.3, 0.4])\n",
    "choices = np.random.choice(base_set, size=10**5, p=prob)\n",
    "\n",
    "plt.hist(choices)\n",
    "plt.show()"
   ]
  },
  {
   "cell_type": "markdown",
   "metadata": {},
   "source": [
    "### Random floats\n",
    "\n",
    "Use `rand` to generate uniformly random floats in $[0,1)$:"
   ]
  },
  {
   "cell_type": "code",
   "execution_count": null,
   "metadata": {},
   "outputs": [],
   "source": [
    "x = np.random.rand(10**6)\n",
    "\n",
    "plt.hist(x, density = True, edgecolor='k')\n",
    "plt.show()"
   ]
  },
  {
   "cell_type": "markdown",
   "metadata": {},
   "source": [
    "If you need a different interval, shift and stretch the result to your needs:"
   ]
  },
  {
   "cell_type": "code",
   "execution_count": null,
   "metadata": {},
   "outputs": [],
   "source": [
    "# Old data for comparison\n",
    "plt.hist(x, density = True, edgecolor='k')\n",
    "\n",
    "# Random numbers between -1 and 3\n",
    "x = np.random.rand(10**6) * 4 - 1\n",
    "\n",
    "plt.hist(x, density = True, edgecolor='k', alpha=0.5)\n",
    "plt.show()"
   ]
  },
  {
   "cell_type": "markdown",
   "metadata": {},
   "source": [
    "### Normal distribution\n",
    "\n",
    "Use `randn` to draw samples from a standard normal distribution (zero mean, unit variance). You can shift and stretch the results to recover other gaussian distributions:"
   ]
  },
  {
   "cell_type": "code",
   "execution_count": null,
   "metadata": {},
   "outputs": [],
   "source": [
    "x1 = np.random.randn(10**5)\n",
    "x2 = np.random.randn(10**5) * 2 - 5\n",
    "x3 = np.random.randn(10**5) * 4 + 5\n",
    "\n",
    "plt.hist(x3, density=True, bins=50, label=\"mu=5, var=4\")\n",
    "plt.hist(x2, density=True,  bins=50, label=\"mu=-5, var=2\")\n",
    "plt.hist(x1, density=True, bins=50, label=\"mu=0, var=1\")\n",
    "\n",
    "plt.legend()\n",
    "plt.show()"
   ]
  },
  {
   "cell_type": "markdown",
   "metadata": {},
   "source": [
    "NumPy provides [basic statistical functions](https://docs.scipy.org/doc/numpy/reference/routines.statistics.html) to evaluate ensembles:"
   ]
  },
  {
   "cell_type": "code",
   "execution_count": null,
   "metadata": {},
   "outputs": [],
   "source": [
    "# Expectation values\n",
    "mu1 = np.mean(x1)\n",
    "mu2 = np.mean(x2)\n",
    "mu3 = np.mean(x3)\n",
    "\n",
    "# Standard deviations\n",
    "std1 = np.std(x1)\n",
    "std2 = np.std(x2)\n",
    "std3 = np.std(x3)"
   ]
  },
  {
   "cell_type": "markdown",
   "metadata": {},
   "source": [
    "You can mark these values with vertical bars:"
   ]
  },
  {
   "cell_type": "code",
   "execution_count": null,
   "metadata": {},
   "outputs": [],
   "source": [
    "plt.hist(x3, density=True, bins=50, label=\"mu=5, var=4\")\n",
    "plt.hist(x2, density=True, bins=50, label=\"mu=-5, var=2\")\n",
    "plt.hist(x1, density=True, bins=50, label=\"mu=0, var=1\")\n",
    "\n",
    "plt.axvline(mu1, linestyle='--', c='k')\n",
    "plt.axvline(mu2, linestyle='--', c='k')\n",
    "plt.axvline(mu3, linestyle='--', c='k')"
   ]
  }
 ],
 "metadata": {
  "kernelspec": {
   "display_name": "Python 3 (ipykernel)",
   "language": "python",
   "name": "python3"
  },
  "language_info": {
   "codemirror_mode": {
    "name": "ipython",
    "version": 3
   },
   "file_extension": ".py",
   "mimetype": "text/x-python",
   "name": "python",
   "nbconvert_exporter": "python",
   "pygments_lexer": "ipython3",
   "version": "3.9.7"
  }
 },
 "nbformat": 4,
 "nbformat_minor": 4
}
