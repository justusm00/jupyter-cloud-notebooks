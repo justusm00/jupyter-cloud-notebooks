{
 "cells": [
  {
   "cell_type": "code",
   "execution_count": 1,
   "metadata": {},
   "outputs": [
    {
     "name": "stdout",
     "output_type": "stream",
     "text": [
      "63731.37592050224 0.0020362174606600512\n",
      "63731.37592050224 45522.41137178732\n",
      "38567.25658119238 32139.386741492555\n"
     ]
    }
   ],
   "source": [
    "import numpy as np\n",
    "\n",
    "phi = np.radians(7/60) ##Winkeldifferenz\n",
    "sig_phi = np.radians(5/60)\n",
    "lam_y = 578.02e-9 ###gelb\n",
    "lam_g = 546.07e-9 ##grün\n",
    "dlam = lam_y-lam_g\n",
    "gamma = np.radians(60)\n",
    "delta = np.radians(40)\n",
    "sig_delta = np.radians(0.05)\n",
    "\n",
    "\n",
    "##Winkeldispersion\n",
    "Dw = phi/dlam\n",
    "sig_Dw = sig_phi/dlam\n",
    "print(Dw,phi)\n",
    "\n",
    "print(Dw,sig_Dw)\n",
    "\n",
    "\n",
    "##Spektraldispersion\n",
    "Dw = 6e4\n",
    "sig_Dw = 5e4\n",
    "\n",
    "\n",
    "Dn = 0.5*Dw*np.cos(0.5*(delta + gamma))/np.sin(gamma/2)\n",
    "\n",
    "\n",
    "sig_Dn2 = sig_Dw**2*(0.5*np.cos((delta + gamma)/2)/np.sin(gamma/2))**2 + sig_delta**2 * (0.25* Dw*np.sin((delta + gamma)/2)/np.sin(gamma/2))**2\n",
    "sig_Dn = np.sqrt(sig_Dn2)\n",
    "print(Dn,sig_Dn)\n"
   ]
  },
  {
   "cell_type": "code",
   "execution_count": 2,
   "metadata": {},
   "outputs": [
    {
     "name": "stdout",
     "output_type": "stream",
     "text": [
      "0.00017890824008894715 8.208041564330022e-07\n",
      "7.159999999999999 7.160111730971801\n",
      "1320.0 1320.0\n"
     ]
    }
   ],
   "source": [
    "### auflösung\n",
    "import numpy as np\n",
    "d1 = 1.095e-3 ##gerade getrennt\n",
    "d2 = 1.210e-3 ##geschlossen\n",
    "\n",
    "S = d2 - d1 ##spaltbreite\n",
    "sig_S = 0.5e-6\n",
    "B = 2*S*(np.sin(gamma/2)/np.cos((delta + gamma)/2)) ##effektive basislänge\n",
    "sig_B2 = sig_S**2*(2*np.sin(gamma/2)/np.cos((gamma + delta)/2))**2 + sig_delta**2 * (4*S*np.sin(gamma/2)/(np.sin((gamma+ delta)/2)))**2\n",
    "\n",
    "\n",
    "sig_B =np.sqrt(sig_B2)\n",
    "print(B,sig_B)\n",
    "\n",
    "##gerundete werte\n",
    "B = 179e-6\n",
    "sig_B = 9e-7\n",
    "Dn = 4e4\n",
    "sig_Dn = 4e4\n",
    "\n",
    "A = B * Dn\n",
    "sig_A = np.sqrt((4e4)**2*B**2 + (1e-6)**2*(4e4)**2)\n",
    "print(A,sig_A)\n",
    "\n",
    "##maximale Auflösung\n",
    "\n",
    "B0 = 0.033\n",
    "Amax = B0 *Dn\n",
    "sig_Amax = B0 * sig_Dn\n",
    "print(Amax,sig_Amax)"
   ]
  },
  {
   "cell_type": "code",
   "execution_count": 3,
   "metadata": {},
   "outputs": [
    {
     "name": "stdout",
     "output_type": "stream",
     "text": [
      "4.4463076923076924e-10 4.788331360946746e-10\n"
     ]
    }
   ],
   "source": [
    "Amax = 1300\n",
    "sig_Amax = 1400\n",
    "lam = 578.02e-9\n",
    "lammin = lam/Amax\n",
    "sig_lammin = sig_Amax*lam/(Amax)**2\n",
    "print(lammin,sig_lammin)"
   ]
  },
  {
   "cell_type": "code",
   "execution_count": null,
   "metadata": {},
   "outputs": [],
   "source": []
  }
 ],
 "metadata": {
  "kernelspec": {
   "display_name": "Python 3",
   "language": "python",
   "name": "python3"
  },
  "language_info": {
   "codemirror_mode": {
    "name": "ipython",
    "version": 3
   },
   "file_extension": ".py",
   "mimetype": "text/x-python",
   "name": "python",
   "nbconvert_exporter": "python",
   "pygments_lexer": "ipython3",
   "version": "3.8.6"
  }
 },
 "nbformat": 4,
 "nbformat_minor": 4
}
