{
 "cells": [
  {
   "cell_type": "code",
   "execution_count": 2,
   "metadata": {},
   "outputs": [
    {
     "name": "stdout",
     "output_type": "stream",
     "text": [
      "8.744443333 0.3849001794597505\n",
      "13.57755333 0.769800358919501\n"
     ]
    }
   ],
   "source": [
    "import numpy as np\n",
    "import matplotlib.pyplot as plt\n",
    "import scipy.optimize as opt #liefert Funktionen, mit denen die Funktionsparameter berechnet werden\n",
    "\n",
    "\n",
    "##10 fach\n",
    "###kurzer Tubus\n",
    "tk = 38\n",
    "N=30 ##anzahl Striche\n",
    "Bk = np.array([13.05,13.2,13.1]) ##Bildgröße in mm\n",
    "Bkerr = 1 ##mm\n",
    "Gk = N/20 ##Gegenstandsgröße in mm\n",
    "Vk = Bk/Gk\n",
    "Vkerr = Bkerr/Gk\n",
    "\n",
    "\n",
    "#gewichteter Mittelwert \n",
    "Vk = 8.744443333\n",
    "Vkerr = 1/np.sqrt(3/Vkerr**2)\n",
    "print(Vk,Vkerr)\n",
    "\n",
    "##langer Tubus\n",
    "tl = 120\n",
    "N=15 ##anzahl Striche\n",
    "Bl = np.array([10.25,10.2,10.1]) ##Bildgröße in mm\n",
    "Blerr = 1 ##mm\n",
    "Gl = N/20 ##Gegenstandsgröße in mm\n",
    "Vl = Bl/Gl\n",
    "Vlerr = Blerr/Gl\n",
    "\n",
    "\n",
    "#gewichteter Mittelwert\n",
    "Vl = 13.57755333\n",
    "Vlerr = 1/np.sqrt(3/Vlerr**2)\n",
    "print(Vl,Vlerr)\n",
    "\n",
    "deltat = tl - tk\n",
    "deltaV = Vl - Vk\n",
    "\n",
    "\n",
    "f = deltat/deltaV\n"
   ]
  },
  {
   "cell_type": "code",
   "execution_count": 4,
   "metadata": {},
   "outputs": [
    {
     "name": "stdout",
     "output_type": "stream",
     "text": [
      "16.73469387755102 3.0555388243129205\n"
     ]
    }
   ],
   "source": [
    "##Berechnung von f\n",
    "Vl = 13.6\n",
    "Vler = 0.8\n",
    "Vk = 8.7\n",
    "Vker = 0.4\n",
    "dt = 120 - 38\n",
    "dter = np.sqrt(2)*0.25 #mm\n",
    "f = dt/(Vl-Vk)\n",
    "ferr2 = dter**2*1/(Vl-Vk)**2+(Vler**2+Vker**2)*(dt/((Vl-Vk)**2))**2\n",
    "fer=np.sqrt(ferr2)\n",
    "print(f,fer)"
   ]
  },
  {
   "cell_type": "code",
   "execution_count": 7,
   "metadata": {},
   "outputs": [
    {
     "name": "stdout",
     "output_type": "stream",
     "text": [
      "[35.  35.4 35.2] 4.0 [50.6 51.  52. ] 4.0\n",
      "5.125 0.28734710608426184\n"
     ]
    }
   ],
   "source": [
    "###40 fach\n",
    "\n",
    "###kurzer Tubus\n",
    "tk = 38\n",
    "N=5 ##anzahl Striche\n",
    "Bk = np.array([8.75,8.85,8.8]) ##Bildgröße in mm\n",
    "Bkerr = 1 ##mm\n",
    "Gk = N/20 ##Gegenstandsgröße in mm\n",
    "Vk = Bk/Gk\n",
    "Vkerr = Bkerr/Gk\n",
    "\n",
    "\n",
    "\n",
    "\n",
    "##langer Tubus\n",
    "tl = 120\n",
    "N=5 ##anzahl Striche\n",
    "Bl = np.array([12.65,12.75,13]) ##Bildgröße in mm\n",
    "Blerr = 1 ##mm\n",
    "Gl = N/20 ##Gegenstandsgröße in mm\n",
    "Vl = Bl/Gl\n",
    "Vlerr = Blerr/Gl\n",
    "\n",
    "print(Vk,Vkerr,Vl,Vlerr)\n",
    "\n",
    "#gewichteter Mittelwert\n",
    "Vk = 35.2\n",
    "Vkerr=2.4\n",
    "Vl = 51.2\n",
    "Vlerr = 2.4\n",
    "\n",
    "\n",
    "##Berechnung von f\n",
    "\n",
    "dt = 120 - 38\n",
    "dter = np.sqrt(2)*0.25 #mm\n",
    "f = dt/(Vl-Vk)\n",
    "ferr2 = dter**2*1/(Vl-Vk)**2+(Vler**2+Vker**2)*(dt/((Vl-Vk)**2))**2\n",
    "fer=np.sqrt(ferr2)\n",
    "print(f,fer)"
   ]
  },
  {
   "cell_type": "code",
   "execution_count": null,
   "metadata": {},
   "outputs": [],
   "source": []
  },
  {
   "cell_type": "code",
   "execution_count": null,
   "metadata": {},
   "outputs": [],
   "source": []
  },
  {
   "cell_type": "code",
   "execution_count": null,
   "metadata": {},
   "outputs": [],
   "source": [
    "\n",
    "\n",
    "\n",
    "\n"
   ]
  }
 ],
 "metadata": {
  "kernelspec": {
   "display_name": "Python 3",
   "language": "python",
   "name": "python3"
  },
  "language_info": {
   "codemirror_mode": {
    "name": "ipython",
    "version": 3
   },
   "file_extension": ".py",
   "mimetype": "text/x-python",
   "name": "python",
   "nbconvert_exporter": "python",
   "pygments_lexer": "ipython3",
   "version": "3.8.6"
  }
 },
 "nbformat": 4,
 "nbformat_minor": 4
}
