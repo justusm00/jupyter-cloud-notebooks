{
 "cells": [
  {
   "cell_type": "code",
   "execution_count": 1,
   "metadata": {},
   "outputs": [
    {
     "name": "stdout",
     "output_type": "stream",
     "text": [
      "2.9375 2.9166666666666665\n",
      "2.138956700316455 2.1542349624615724\n"
     ]
    }
   ],
   "source": [
    "import numpy as np\n",
    "import math\n",
    "import matplotlib.pyplot as plt\n",
    "import statistics as stat\n",
    "\n",
    "##4mm\n",
    "sigma=0.25\n",
    "n1=4\n",
    "n2=3\n",
    "Tmax=np.array([9.75,21.5])\n",
    "Tmin=np.array([11.25,20])\n",
    "\n",
    "\n",
    "##Perioden\n",
    "T1=(Tmax[-1]-Tmax[0])/n1\n",
    "T2=(Tmin[-1]-Tmin[0])/n2\n",
    "sig1T=sigma*(1/n1)*math.sqrt(2)\n",
    "sig2T=sigma*(1/n2)*math.sqrt(2)\n",
    "\n",
    "\n",
    "##Eigenfreq\n",
    "omega1=2*np.pi/T1\n",
    "omega2=2*np.pi/T2\n",
    "\n",
    "\n",
    "##Fehler omega\n",
    "sig1w=sig1T*omega1/T1\n",
    "sig2w=sig2T*omega2/T2\n",
    "\n",
    "\n",
    "print(T1,T2)\n",
    "print(omega1,omega2)"
   ]
  },
  {
   "cell_type": "code",
   "execution_count": 2,
   "metadata": {},
   "outputs": [
    {
     "name": "stdout",
     "output_type": "stream",
     "text": [
      "2.8500000000000005 2.8500000000000005\n",
      "2.204626423571784 2.204626423571784\n",
      "0.038677656553890945 0.038677656553890945\n",
      "2.204626423571784 0.0546984664593212\n"
     ]
    }
   ],
   "source": [
    "import numpy as np\n",
    "import math\n",
    "import matplotlib.pyplot as plt\n",
    "import statistics as stat\n",
    "\n",
    "##6mm\n",
    "sigma=0.05\n",
    "n=2\n",
    "Tmax=np.array([8.2,13.9])\n",
    "Tmin=np.array([9.7,15.4])\n",
    "\n",
    "\n",
    "##Perioden\n",
    "T1=(Tmax[-1]-Tmax[0])/n\n",
    "T2=(Tmin[-1]-Tmin[0])/n\n",
    "sig=sigma*(1/n)*math.sqrt(2)\n",
    "\n",
    "\n",
    "##Eigenfreq\n",
    "omega1=2*np.pi/T1\n",
    "omega2=2*np.pi/T2\n",
    "\n",
    "\n",
    "##Fehler omega\n",
    "sig1=sigma*omega1/T1\n",
    "sig2=sigma*omega2/T2\n",
    "\n",
    "##gewichteter Mittelwert\n",
    "mean=((omega1/sig1**2)+(omega2/sig2**2))/((1/sig1**2)+(1/sig2**2))\n",
    "err=math.sqrt(1/(1/sig1**2)+1/(1/sig2**2))\n",
    "\n",
    "print(T1,T2)\n",
    "print(omega1,omega2)\n",
    "print(sig1,sig2)\n",
    "print(mean,err)"
   ]
  },
  {
   "cell_type": "code",
   "execution_count": 3,
   "metadata": {},
   "outputs": [
    {
     "name": "stdout",
     "output_type": "stream",
     "text": [
      "2.75 2.75\n",
      "2.284794657156213 2.284794657156213\n",
      "0.20770860519601939 0.20770860519601939\n",
      "2.284794657156213 0.2937443264898093\n"
     ]
    }
   ],
   "source": [
    "import numpy as np\n",
    "import math\n",
    "import matplotlib.pyplot as plt\n",
    "import statistics as stat\n",
    "\n",
    "##8mm\n",
    "\n",
    "\n",
    "sigma=0.25\n",
    "n=1\n",
    "Tmax=np.array([7.5,10.25])\n",
    "Tmin=np.array([8.75,11.5])\n",
    "\n",
    "\n",
    "##Perioden\n",
    "T1=(Tmax[-1]-Tmax[0])/n\n",
    "T2=(Tmin[-1]-Tmin[0])/n\n",
    "sig=sigma*(1/n)*math.sqrt(2)\n",
    "\n",
    "\n",
    "##Eigenfreq\n",
    "omega1=2*np.pi/T1\n",
    "omega2=2*np.pi/T2\n",
    "\n",
    "\n",
    "##Fehler omega\n",
    "sig1=sigma*omega1/T1\n",
    "sig2=sigma*omega2/T2\n",
    "\n",
    "##gewichteter Mittelwert\n",
    "mean=((omega1/sig1**2)+(omega2/sig2**2))/((1/sig1**2)+(1/sig2**2))\n",
    "err=math.sqrt(1/(1/sig1**2)+1/(1/sig2**2))\n",
    "\n",
    "print(T1,T2)\n",
    "print(omega1,omega2)\n",
    "print(sig1,sig2)\n",
    "print(mean,err)"
   ]
  },
  {
   "cell_type": "code",
   "execution_count": null,
   "metadata": {},
   "outputs": [],
   "source": []
  }
 ],
 "metadata": {
  "kernelspec": {
   "display_name": "Python 3 (ipykernel)",
   "language": "python",
   "name": "python3"
  },
  "language_info": {
   "codemirror_mode": {
    "name": "ipython",
    "version": 3
   },
   "file_extension": ".py",
   "mimetype": "text/x-python",
   "name": "python",
   "nbconvert_exporter": "python",
   "pygments_lexer": "ipython3",
   "version": "3.9.10"
  }
 },
 "nbformat": 4,
 "nbformat_minor": 4
}
