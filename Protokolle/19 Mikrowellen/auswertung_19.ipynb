{
 "cells": [
  {
   "cell_type": "code",
   "execution_count": null,
   "metadata": {},
   "outputs": [],
   "source": [
    "#Hier werden die notwendigen Pakete eingebunden\n",
    "import numpy as np #Numpy enthält viele mathematische Funktionen\n",
    "import matplotlib.pyplot as plt #enthält die Grundlagen der Darstelllung\n",
    "import scipy.optimize as opt #liefert Funktionen, mit denen die Funktionsparameter berechnet werden\n",
    "\n",
    "\n",
    "\n",
    "\n",
    "data = np.loadtxt('Werte.txt') #Die Daten sind in 'Werte.txt' gespeichert und werden daraus geladen\n",
    "x = data[:,0] #Die Werte der ersten Spalte sind die x-Werte\n",
    "y = data[:,1] #in der zweiten Spalte sind die y-Werte\n",
    "sigma = data[:,2] #In dritten Spalte stehen die y-Fehler\n",
    "\n",
    "def f(x, a, b): #Hier wird die Funktion beschrieben deren Verlauf genähert werden soll. Dabei ist wichtig, dass x an erster Stelle steht\n",
    "\treturn a*x+b\n",
    "\n",
    "p0 = [0, 0.1] #In dieser Zeile werden geschätzte Werte für a und b angegeben\n",
    "\n",
    "fit, err = opt.curve_fit(f, x, y, p0, sigma) #Durch diese Zeile werden die Parameter des Fits berechnet. Bei der chi²-Methode wird nur der y-Fehler beachtet.\n",
    "# dokumentation von curve_fit: https://docs.scipy.org/doc/scipy/reference/generated/scipy.optimize.curve_fit.html\n",
    "perr = np.sqrt(np.diag(err)) #hier wird der zu den Parametern gehörige Fehler bestimmt\n",
    "\n",
    "plt.figure() #erstellen einer neuen Abbildung\n",
    "\n",
    "\n",
    "plt.errorbar(x, y, yerr=sigma, marker='.', ls='', capsize=2, capthick=0.7, lw=0.7, label=\"Messdaten\") #Die Messwerte werden mit Fehler dargestellt. \n",
    "plt.plot(x, [f(x, *fit) for x in x], label=\"f(x)\") #Hiermit wird die Funktion dargestellt) \n",
    "\n",
    "#--------------Stil-----------------------\n",
    "plt.xlabel(\"x-Beschriftung [Einheit]\") #x-Beschriftung\n",
    "plt.ylabel(\"y-Beschriftung [Einheit]\") #y-Beschriftung\n",
    "plt.grid(lw=0.7) #Darstellung eines Rasters im Hintergrund\n",
    "plt.legend() #Anzeige der Legende \n",
    "plt.savefig('plot.pdf') #Hiermit wird der Plot in der Datei 'Plot.pdf' gespeichert\n",
    "plt.show() #Vorschau des Plots\n",
    "\n",
    "#Ausgabe der Fitparameter\n",
    "print('Steigung: ', fit[0], '±', perr[0])\n",
    "print('Offsett: ', fit[1], '±', perr[1])\n",
    "\n",
    "#Diese Vorlage kann nach belieben erweitert werden. Da es sich bei Python um eine vollständige Programmiersprache handelt,\n",
    "#gibt es nahezu unbegrenzte Möglichkeiten dieses Programm zu erweitern.\n"
   ]
  }
 ],
 "metadata": {
  "kernelspec": {
   "display_name": "Python 3",
   "language": "python",
   "name": "python3"
  },
  "language_info": {
   "codemirror_mode": {
    "name": "ipython",
    "version": 3
   },
   "file_extension": ".py",
   "mimetype": "text/x-python",
   "name": "python",
   "nbconvert_exporter": "python",
   "pygments_lexer": "ipython3",
   "version": "3.8.6"
  }
 },
 "nbformat": 4,
 "nbformat_minor": 4
}
