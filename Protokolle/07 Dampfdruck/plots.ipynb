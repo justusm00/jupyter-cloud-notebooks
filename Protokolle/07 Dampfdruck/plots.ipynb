{
 "cells": [
  {
   "cell_type": "code",
   "execution_count": 1,
   "metadata": {},
   "outputs": [
    {
     "name": "stdout",
     "output_type": "stream",
     "text": [
      "45\n"
     ]
    },
    {
     "data": {
      "text/plain": [
       "LinregressResult(slope=-5113.1825159099935, intercept=13.619766730276842, rvalue=-0.991409416524698, pvalue=1.2580544313632149e-39, stderr=102.87163376680358)"
      ]
     },
     "execution_count": 1,
     "metadata": {},
     "output_type": "execute_result"
    },
    {
     "data": {
      "image/png": "[encoded data removed]",
      "text/plain": [
       "<Figure size 432x288 with 1 Axes>"
      ]
     },
     "metadata": {
      "needs_background": "light"
     },
     "output_type": "display_data"
    }
   ],
   "source": [
    "import matplotlib.pyplot as plt\n",
    "import numpy as np\n",
    "import statistics as stat\n",
    "import scipy.stats as sci\n",
    "\n",
    "\n",
    "p1 = np.loadtxt(\"Messwerte1.txt\", float, usecols=0)\n",
    "R1 = np.loadtxt(\"Messwerte1.txt\", float, usecols=1)\n",
    "p2 = np.loadtxt(\"Messwerte1.txt\", float, usecols=2)\n",
    "R2 = np.loadtxt(\"Messwerte1.txt\", float, usecols=3)\n",
    "\n",
    "## Berechnung der Temperatur\n",
    "\n",
    "\n",
    "A = 3.9083e-3 \n",
    "B = -5.775e-7 \n",
    "R0 = 1000\n",
    "Lambda = 40642\n",
    "fT = 0.3\n",
    "fP = 0.5\n",
    "r = 8.315\n",
    "\n",
    "\n",
    "t = -A/(2*B)-np.sqrt((R1-R0)/(B*R0)+A**2/(4*B**2)) +273.15\n",
    "\n",
    "T = t[1:]\n",
    "\n",
    "##Druck bei Erwärmung in Pa\n",
    "P1 = p1[1:]*1013*100\n",
    "P0 = 1013*100\n",
    "\n",
    "p1r = np.log(P1/P0)\n",
    "\n",
    "Trez = 1/T\n",
    "\n",
    "print(len(T))\n",
    "\n",
    "slp = -5113.1825159099935\n",
    "intc = 13.619766730276842\n",
    "\n",
    "x = np.arange(0.00185,0.0027,0.000001)\n",
    "\n",
    "plt.plot(x,slp*x+intc)\n",
    "plt.plot(Trez,p1r,'.')\n",
    "\n",
    "plt.grid()\n",
    "\n",
    "sci.linregress(Trez,p1r)"
   ]
  },
  {
   "cell_type": "code",
   "execution_count": 3,
   "metadata": {},
   "outputs": [
    {
     "name": "stdout",
     "output_type": "stream",
     "text": [
      "46\n"
     ]
    },
    {
     "data": {
      "text/plain": [
       "LinregressResult(slope=-4976.096918786265, intercept=13.194414434500628, rvalue=-0.9997393403483202, pvalue=7.126775362289297e-74, stderr=17.131654629777)"
      ]
     },
     "execution_count": 3,
     "metadata": {},
     "output_type": "execute_result"
    },
    {
     "data": {
      "image/png": "[encoded data removed]",
      "text/plain": [
       "<Figure size 432x288 with 1 Axes>"
      ]
     },
     "metadata": {
      "needs_background": "light"
     },
     "output_type": "display_data"
    }
   ],
   "source": [
    "\n",
    "\n",
    "t = -A/(2*B)-np.sqrt((R2-R0)/(B*R0)+A**2/(4*B**2)) +273.15\n",
    "\n",
    "T = t\n",
    "\n",
    "##Druck bei Erwärmung in Pa\n",
    "P2 = p2*1013*100\n",
    "P0 = 1013*100\n",
    "\n",
    "p2r = np.log(P2/P0)\n",
    "\n",
    "Trez2 = 1/T\n",
    "\n",
    "print(len(T))\n",
    "\n",
    "slp = -4976.096918786265\n",
    "intc = 13.194414434500628\n",
    "\n",
    "x = np.arange(0.00185,0.0027,0.000001)\n",
    "\n",
    "plt.plot(x,slp*x+intc)\n",
    "plt.plot(Trez2,p2r,'.')\n",
    "\n",
    "plt.grid()\n",
    "\n",
    "sci.linregress(Trez2,p2r)"
   ]
  },
  {
   "cell_type": "code",
   "execution_count": 4,
   "metadata": {},
   "outputs": [
    {
     "name": "stdout",
     "output_type": "stream",
     "text": [
      "-5001.8947198969745 17.76374249215949\n",
      "42420.388277036 149.660327124\n"
     ]
    }
   ],
   "source": [
    "##Steigungen \n",
    "\n",
    "m1 = -5110\n",
    "sig1 = 110\n",
    "\n",
    "m2 = -4999\n",
    "sig2 = 18\n",
    "\n",
    "m = (m1/sig1**2 + m2/sig2**2)/(1/sig1**2+1/sig2**2)\n",
    "sigm = np.sqrt(1/(1/sig1**2+1/sig2**2))\n",
    "\n",
    "sigmneu = 18\n",
    "\n",
    "print(m, sigm)\n",
    "K = 8.314462618\n",
    "\n",
    "a = -5102\n",
    "\n",
    "sigA = sigmneu*K\n",
    "\n",
    "A = -a*K\n",
    "print(A,sigA)"
   ]
  },
  {
   "cell_type": "code",
   "execution_count": 4,
   "metadata": {},
   "outputs": [
    {
     "name": "stdout",
     "output_type": "stream",
     "text": [
      "45\n",
      "[-3945.7832064     11.20197535] [[43.78968772         nan]\n",
      " [        nan  0.08880434]]\n"
     ]
    },
    {
     "name": "stderr",
     "output_type": "stream",
     "text": [
      "/opt/conda/lib/python3.7/site-packages/ipykernel_launcher.py:55: RuntimeWarning: invalid value encountered in sqrt\n"
     ]
    },
    {
     "data": {
      "text/plain": [
       "[<matplotlib.lines.Line2D at 0x7fe40954d8d0>]"
      ]
     },
     "execution_count": 4,
     "metadata": {},
     "output_type": "execute_result"
    },
    {
     "data": {
      "image/png": "[encoded data removed]",
      "text/plain": [
       "<Figure size 432x288 with 1 Axes>"
      ]
     },
     "metadata": {
      "needs_background": "light"
     },
     "output_type": "display_data"
    }
   ],
   "source": [
    "import matplotlib.pyplot as plt\n",
    "import numpy as np\n",
    "import statistics as stat\n",
    "import scipy.stats as sci\n",
    "import scipy.optimize\n",
    "\n",
    "\n",
    "p1 = np.loadtxt(\"Messwerte1.txt\", float, usecols=0)\n",
    "R1 = np.loadtxt(\"Messwerte1.txt\", float, usecols=1)\n",
    "p2 = np.loadtxt(\"Messwerte1.txt\", float, usecols=2)\n",
    "R2 = np.loadtxt(\"Messwerte1.txt\", float, usecols=3)\n",
    "\n",
    "## Berechnung der Temperatur\n",
    "\n",
    "\n",
    "A = 3.9083e-3 \n",
    "B = -5.775e-7 \n",
    "R0 = 1000\n",
    "Lambda = 40642\n",
    "r = 8.315\n",
    "\n",
    "\n",
    "t = -A/(2*B)-np.sqrt((R1-R0)/(B*R0)+A**2/(4*B**2)) +273.15\n",
    "\n",
    "T = t[1:]\n",
    "\n",
    "##Druck bei Erwärmung in Pa\n",
    "P1 = p1[1:]*1013*100\n",
    "P0 = 1013*100\n",
    "\n",
    "p1r = np.log(P1/P0)\n",
    "\n",
    "Trez = 1/T\n",
    "\n",
    "print(len(T))\n",
    "\n",
    "\n",
    "\n",
    "\n",
    "\n",
    "##systematische Fehler\n",
    "sigp = 0.5*1013*100  ##Druck\n",
    "sigt = 0.3 +0.005*T  ##Temperatur\n",
    "\n",
    "##stat Fehler\n",
    "sigt = sigt*1/T**2\n",
    "sigp = sigp/P1\n",
    "\n",
    "\n",
    "def testfunc (x,M,C):\n",
    "    return M*x+C\n",
    "\n",
    "popt, pcov = scipy.optimize.curve_fit(testfunc, Trez, p1r,sigma=sigp, p0=[0,0], absolute_sigma=True)\n",
    "\n",
    "print(popt,np.sqrt(pcov))\n",
    "\n",
    "\n",
    "x = np.arange(0.00185,0.0027,0.000001)\n",
    "\n",
    "\n",
    "plt.errorbar(Trez, p1r, xerr=sigt, yerr=sigp, fmt='+', ecolor='g', color='r')\n",
    "\n",
    "plt.grid()\n",
    "\n",
    "plt.plot(x,-3945.7832064*x+11.20197535)"
   ]
  },
  {
   "cell_type": "code",
   "execution_count": null,
   "metadata": {},
   "outputs": [],
   "source": []
  }
 ],
 "metadata": {
  "kernelspec": {
   "display_name": "Python 3",
   "language": "python",
   "name": "python3"
  },
  "language_info": {
   "codemirror_mode": {
    "name": "ipython",
    "version": 3
   },
   "file_extension": ".py",
   "mimetype": "text/x-python",
   "name": "python",
   "nbconvert_exporter": "python",
   "pygments_lexer": "ipython3",
   "version": "3.7.3"
  }
 },
 "nbformat": 4,
 "nbformat_minor": 2
}
