{
 "cells": [
  {
   "cell_type": "code",
   "execution_count": 5,
   "metadata": {},
   "outputs": [
    {
     "name": "stderr",
     "output_type": "stream",
     "text": [
      "No handles with labels found to put in legend.\n"
     ]
    },
    {
     "data": {
      "image/png": "[encoded data removed]",
      "text/plain": [
       "<Figure size 432x288 with 1 Axes>"
      ]
     },
     "metadata": {
      "needs_background": "light"
     },
     "output_type": "display_data"
    }
   ],
   "source": [
    "import matplotlib.pyplot as plt\n",
    "import numpy as np\n",
    "import statistics as stat\n",
    "import scipy.stats as sci\n",
    "\n",
    "p1 = np.loadtxt(\"Messwerte1.txt\", float, usecols=0)\n",
    "T1 = np.loadtxt(\"Messwerte1.txt\", float, usecols=1)\n",
    "p2 = np.loadtxt(\"Messwerte1.txt\", float, usecols=2)\n",
    "T2 = np.loadtxt(\"Messwerte1.txt\", float, usecols=3)\n",
    "\n",
    "P2 = np.zeros(len(T2)+1)\n",
    "t2 = np.zeros(len(T2)+1)\n",
    "\n",
    "for i in range(len(T2)):\n",
    "\tP2[i] = p2[i]\n",
    "\tt2[i] = T2[i]\n",
    "\n",
    "P2[-1] = 0.5\n",
    "t2[-1] = 1337\n",
    "\n",
    "T2 = t2\n",
    "p2 = P2\n",
    "\n",
    "A = 3.9083e-3 + 273.15\n",
    "B = -5.775e-7 \n",
    "R0 = 1000\n",
    "Lambda = 40642\n",
    "fT = 0.3\n",
    "fP = 0.5\n",
    "r = 8.315\n",
    "\n",
    "p1 = p1[1:]\n",
    "\n",
    "\n",
    "sigmaP1 = fP*1/p1\n",
    "sigmaP2 = fP*1/p2\n",
    "\n",
    "def temp(T):\n",
    "\treturn (- A - np.sqrt(A**2-4*B*T/R0))/(2*B) - 273\n",
    "\n",
    "\n",
    "\n",
    "\n",
    "sigmaT1 = fT*1/temp(T1[1:])\n",
    "sigmaT2 = fT*1/temp(T2)\n",
    "\n",
    "\n",
    "\n",
    "x1 = 1/temp(T1[1:])*10**3\n",
    "x2 = 1/temp(T2)*10**3\n",
    "\n",
    "slope1, intercept1, r_value1, p_value1, std_err1 = sci.linregress(x1, np.log(p1))\n",
    "slope2, intercept2, r_value2, p_value2, std_err2 = sci.linregress(x2, np.log(p2))\n",
    "\n",
    "\n",
    "plt.errorbar(x1, np.log(p1), xerr=sigmaT1, yerr=sigmaP1, fmt='+', ecolor='g', color='r')\n",
    "plt.errorbar(x2, np.log(p2), xerr=sigmaT2, yerr=sigmaP2, fmt='+', ecolor='g', color='r')\n",
    "\n",
    "\n",
    "plt.plot(x1, slope1*x1 + intercept1)\n",
    "plt.plot(x2, slope2*x2 + intercept2)\n",
    "\n",
    "\"\"\"\n",
    "plt.plot(1/temp(T1[1:])*10**3, np.log(p1[1:]), label='Aufwärmskurve')\n",
    "plt.plot(1/temp(T2)*10**3, np.log(p2), label='Abkühlkurve')\n",
    "\"\"\"\n",
    "\n",
    "plt.grid('True')\n",
    "plt.ylabel(r'ln($p_\\mathrm{s}$/$p_0$)')\n",
    "plt.xlabel(r'Kehrwert der Temp. in $10^{-3}K^{-1}$')\n",
    "plt.legend(loc='upper right')\n",
    "\n",
    "\n",
    "\n",
    "\n",
    "plt.show()\n"
   ]
  },
  {
   "cell_type": "code",
   "execution_count": null,
   "metadata": {},
   "outputs": [],
   "source": []
  }
 ],
 "metadata": {
  "kernelspec": {
   "display_name": "Python 3",
   "language": "python",
   "name": "python3"
  },
  "language_info": {
   "codemirror_mode": {
    "name": "ipython",
    "version": 3
   },
   "file_extension": ".py",
   "mimetype": "text/x-python",
   "name": "python",
   "nbconvert_exporter": "python",
   "pygments_lexer": "ipython3",
   "version": "3.8.8"
  }
 },
 "nbformat": 4,
 "nbformat_minor": 4
}
