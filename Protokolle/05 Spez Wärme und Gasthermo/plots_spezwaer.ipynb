{
 "cells": [
  {
   "cell_type": "code",
   "execution_count": 43,
   "metadata": {},
   "outputs": [
    {
     "name": "stdout",
     "output_type": "stream",
     "text": [
      "[148.88245171   0.35757787]\n",
      "[[3.54590663        nan]\n",
      " [       nan 4.31934466]]\n"
     ]
    },
    {
     "name": "stderr",
     "output_type": "stream",
     "text": [
      "/opt/conda/lib/python3.7/site-packages/ipykernel_launcher.py:53: RuntimeWarning: invalid value encountered in sqrt\n"
     ]
    },
    {
     "data": {
      "image/png": "[encoded data removed]",
      "text/plain": [
       "<Figure size 432x288 with 1 Axes>"
      ]
     },
     "metadata": {
      "needs_background": "light"
     },
     "output_type": "display_data"
    }
   ],
   "source": [
    "import matplotlib.pyplot as plt\n",
    "import numpy as np\n",
    "import statistics as stat\n",
    "import scipy.stats as sci\n",
    "import scipy.optimize\n",
    "\n",
    "u = np.loadtxt(\"spezwaer.txt\", usecols = 0)\n",
    "\n",
    "sigu = 5\n",
    "\n",
    "h = np.loadtxt(\"spezwaer.txt\", usecols = 1)/1000\n",
    "\n",
    "sigh = 0.001\n",
    "\n",
    "\n",
    "c = 20e-6 ##kapazität\n",
    "rho_hg = 13.546*1000\n",
    "rho_wa = 1000\n",
    "r1 = 0.002\n",
    "r2 = 0.00902\n",
    "g = 9.81\n",
    "\n",
    "Q = 0.5*c*u**2  \n",
    "\n",
    "sigQ = sigu*c*u\n",
    "\n",
    "dp = rho_wa*g*h*(1+(r1**2)/(r2**2))\n",
    "\n",
    "\n",
    "\n",
    "sigdp = np.array([])\n",
    "\n",
    "for i in range (len(dp)):\n",
    "    sigdp = np.append(sigh*rho_wa*g*(1+r1**2/r2**2), sigdp)\n",
    "    \n",
    "    \n",
    "def testfunc (x,M,C):\n",
    "    return M*x+C\n",
    "\n",
    "popt, pcov = scipy.optimize.curve_fit(testfunc, Q, dp, sigma=sigdp, p0=[0,0], absolute_sigma=True)\n",
    "\n",
    "\n",
    "x = np.arange(0,2.5,0.001)\n",
    "\n",
    "plt.errorbar(Q, dp, xerr = sigQ, yerr = sigdp, fmt = \"+\", color = \"r\", ecolor = \"g\", label = \"Messdaten mit Fehlern\")\n",
    "plt.xlabel(\"Elektrische Energie $\\Delta Q$ in J\")\n",
    "plt.ylabel(\"Druckänderung $\\Delta P$ in Pa\")\n",
    "plt.plot(x, testfunc(x,popt[0],popt[1]), color = \"g\", label = \"Regressionsgerade\")\n",
    "plt.grid()\n",
    "plt.legend(loc = \"upper left\")\n",
    "plt.savefig(\"druck.png\")\n",
    "print(popt)\n",
    "print(np.sqrt(pcov))"
   ]
  },
  {
   "cell_type": "code",
   "execution_count": 66,
   "metadata": {},
   "outputs": [
    {
     "name": "stdout",
     "output_type": "stream",
     "text": [
      "[ 5.65737523  7.73614043 10.13471567  6.3769478   5.23096185  4.73792139\n",
      "  5.01775516  5.30558419  5.12435851  5.43596828  5.01775516  5.3375652\n",
      "  5.08171717  5.67336573  5.46270825  5.12435851  5.42893949  5.54011155\n",
      "  5.65737523]\n",
      "[2.50096083 3.40469179 4.44755762 1.42585951 0.79693517 0.55325439\n",
      " 0.52289249 0.49929578 0.40889072 0.40108813 0.30962411 0.30991451\n",
      " 0.25735255 0.28331345 0.24275001 0.20064261 0.20427044 0.19611391\n",
      " 0.18913985]\n",
      "5.374396678798839 0.07186515824354019\n"
     ]
    }
   ],
   "source": [
    "Vz = 2551e-6\n",
    "r1 = 0.002\n",
    "\n",
    "\n",
    "sigVz = 7e-6\n",
    "\n",
    "dV = r1**2*np.pi*h\n",
    "\n",
    "sigdV = sigh*r1**2*np.pi\n",
    "\n",
    "p0 = 98740\n",
    "\n",
    "f = 2*(Q-p0*dV)/(Vz*dp-p0*dV)\n",
    "\n",
    "a = 2*Vz*(p0*dV-Q)\n",
    "\n",
    "b = Vz*dp+p0*dV\n",
    "\n",
    "c = 2*p0*(Vz*dp+Q)\n",
    "\n",
    "d = 2*dp*(p0*dV-Q)\n",
    "\n",
    "sigf = np.sqrt(sigdp**2*(a/b**2)**2+sigdV**2*(c/b**2)**2+sigQ**2*(2/b)**2+sigVz**2*(d/b**2)**2)\n",
    "\n",
    "\n",
    "\n",
    "print(f)\n",
    "print(sigf)\n",
    "\n",
    "##gew Mittelwert\n",
    "\n",
    "a = 0\n",
    "b = 0\n",
    "for i in range (len(f)):\n",
    "    a += f[i]/(sigf[i])**2\n",
    "    b += 1/(sigf[i])**2\n",
    "    \n",
    "f_ = a/b\n",
    "err = np.sqrt(1/b)\n",
    "\n",
    "print(f_,err)\n"
   ]
  },
  {
   "cell_type": "code",
   "execution_count": null,
   "metadata": {},
   "outputs": [],
   "source": []
  },
  {
   "cell_type": "code",
   "execution_count": null,
   "metadata": {},
   "outputs": [],
   "source": []
  }
 ],
 "metadata": {
  "kernelspec": {
   "display_name": "Python 3",
   "language": "python",
   "name": "python3"
  },
  "language_info": {
   "codemirror_mode": {
    "name": "ipython",
    "version": 3
   },
   "file_extension": ".py",
   "mimetype": "text/x-python",
   "name": "python",
   "nbconvert_exporter": "python",
   "pygments_lexer": "ipython3",
   "version": "3.7.3"
  }
 },
 "nbformat": 4,
 "nbformat_minor": 2
}
