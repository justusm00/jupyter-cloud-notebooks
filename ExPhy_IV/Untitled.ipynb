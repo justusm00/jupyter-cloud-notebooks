{
 "cells": [
  {
   "cell_type": "code",
   "execution_count": 1,
   "metadata": {},
   "outputs": [
    {
     "name": "stdout",
     "output_type": "stream",
     "text": [
      "[9.65014717e-19 7.96052266e-19 2.08105383e-18 1.27374361e-18\n",
      " 1.13761487e-18]\n"
     ]
    }
   ],
   "source": [
    "import numpy as np\n",
    "import matplotlib.pyplot as plt\n",
    "\n",
    "###1b\n",
    "\n",
    "t = np.array([39.8, 102.4, 7.9, 18.8, 24.5])\n",
    "pi = np.pi\n",
    "g = 9.81\n",
    "v = 4e-3/16\n",
    "eta = 1.81e-5\n",
    "rho_o = 800\n",
    "rho_l = 1.3\n",
    "drho = rho_o - rho_l\n",
    "E = 2e5\n",
    "r = np.sqrt(9 * eta * v / (2 * drho * g))\n",
    "m = 4/3 * pi * r**3 * rho_o\n",
    "\n",
    "\n",
    "def Q(t):\n",
    "    return (6 * pi * eta * r * 4e-3/t + m * g) /(E)\n",
    "\n",
    "print(Q(t))"
   ]
  },
  {
   "cell_type": "code",
   "execution_count": 5,
   "metadata": {},
   "outputs": [
    {
     "name": "stdout",
     "output_type": "stream",
     "text": [
      "[6161820.86061286 3080910.43030643 2053940.28687095]\n"
     ]
    }
   ],
   "source": [
    "###2b\n",
    "\n",
    "n = np.array([1,2,3])\n",
    "e = 1.6e-19\n",
    "m = 9.1e-31\n",
    "eps0 = 8.854e-12\n",
    "h = 6.636e-34\n",
    "\n",
    "def E(n):\n",
    "    return -m*e**4/(eps0**2*h**2*n**2)\n",
    "\n",
    "def r(n):\n",
    "    return -0.5*e**2/(4*np.pi*eps0*E(n))\n",
    "\n",
    "def v(n):\n",
    "    return np.sqrt(e**2/(4*np.pi*eps0*r(n) * m))\n",
    "\n",
    "print(v(n))"
   ]
  },
  {
   "cell_type": "code",
   "execution_count": null,
   "metadata": {},
   "outputs": [],
   "source": []
  }
 ],
 "metadata": {
  "kernelspec": {
   "display_name": "Python 3",
   "language": "python",
   "name": "python3"
  },
  "language_info": {
   "codemirror_mode": {
    "name": "ipython",
    "version": 3
   },
   "file_extension": ".py",
   "mimetype": "text/x-python",
   "name": "python",
   "nbconvert_exporter": "python",
   "pygments_lexer": "ipython3",
   "version": "3.8.8"
  }
 },
 "nbformat": 4,
 "nbformat_minor": 4
}
