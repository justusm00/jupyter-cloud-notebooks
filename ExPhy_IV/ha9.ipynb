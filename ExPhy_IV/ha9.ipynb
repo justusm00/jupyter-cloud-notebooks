{
 "cells": [
  {
   "cell_type": "code",
   "execution_count": 9,
   "id": "b92b2ef3-18ed-4c18-94ec-8673b7920fe7",
   "metadata": {},
   "outputs": [
    {
     "data": {
      "text/plain": [
       "2.1168353514908933e-20"
      ]
     },
     "execution_count": 9,
     "metadata": {},
     "output_type": "execute_result"
    }
   ],
   "source": [
    "import numpy as np\n",
    "\n",
    "\n",
    "##berechnung der Feinstrukturkonstante in 2a\n",
    "Z = 11\n",
    "e = 1.6*1e-19\n",
    "mu0 = 1.265*1e-6\n",
    "h = 6.636*1e-34/(2*np.pi) ##red planck \n",
    "m0 = 9.1*1e-31\n",
    "eps0 = 8.854*1e-12\n",
    "r = 5.292e-11 #bohrscher radius\n",
    "\n",
    "def a(n,l):\n",
    "    return Z**4*e**2*mu0*h**2/(r**3*8*np.pi*m0**2*n**3*(l+1)*(l+1/2)*l)\n",
    "\n",
    "a(3,1)"
   ]
  },
  {
   "cell_type": "code",
   "execution_count": 16,
   "id": "28ffb6f2-6b82-401b-aff0-9fc6e830d40c",
   "metadata": {},
   "outputs": [
    {
     "name": "stdout",
     "output_type": "stream",
     "text": [
      "[0.8660254  0.8660254  1.93649167]\n",
      "[2.         0.66666667 1.33333333]\n",
      "[1.73205081 0.57735027 2.5819889 ]\n"
     ]
    }
   ],
   "source": [
    "\n",
    "\n",
    "##erwartungswert j\n",
    "\n",
    "def J(j):\n",
    "    return np.sqrt(j*(j+1))\n",
    "\n",
    "##lande faktor 2b\n",
    "def g(j,s,l):\n",
    "    return 1 + (j*(j+1)+s*(s+1)-l*(l+1))/(2*j*(j+1))\n",
    "\n",
    "##magn moment\n",
    "\n",
    "def mu(J,G):\n",
    "    return G * J \n",
    "\n",
    "j = np.array([0.5,0.5,1.5])\n",
    "s = np.array([0.5,0.5,0.5])\n",
    "l = np.array([0,1,1])\n",
    "J = J(j)\n",
    "G = g(j,s,l)\n",
    "print(J)\n",
    "print(G)\n",
    "print(mu(J,G))"
   ]
  },
  {
   "cell_type": "code",
   "execution_count": null,
   "id": "e71fae82-d251-4a78-b9cb-752e58589601",
   "metadata": {},
   "outputs": [],
   "source": []
  }
 ],
 "metadata": {
  "kernelspec": {
   "display_name": "Python 3",
   "language": "python",
   "name": "python3"
  },
  "language_info": {
   "codemirror_mode": {
    "name": "ipython",
    "version": 3
   },
   "file_extension": ".py",
   "mimetype": "text/x-python",
   "name": "python",
   "nbconvert_exporter": "python",
   "pygments_lexer": "ipython3",
   "version": "3.8.8"
  }
 },
 "nbformat": 4,
 "nbformat_minor": 5
}
