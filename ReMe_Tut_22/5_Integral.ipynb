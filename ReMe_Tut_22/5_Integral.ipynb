{
 "cells": [
  {
   "cell_type": "markdown",
   "metadata": {},
   "source": [
    "# Integral als Summe - numerische Berechnung"
   ]
  },
  {
   "cell_type": "code",
   "execution_count": 2,
   "metadata": {},
   "outputs": [],
   "source": [
    "import numpy as np\n",
    "import matplotlib.pyplot as plt"
   ]
  },
  {
   "cell_type": "markdown",
   "metadata": {},
   "source": [
    "wir berechnen ein Integral mit der einfachsten numerischen Methode, Näherung als Treppenfunktion und Summe über schmale \"Balken\""
   ]
  },
  {
   "cell_type": "code",
   "execution_count": 3,
   "metadata": {},
   "outputs": [],
   "source": [
    "# Funktionen\n",
    "def f1(x):\n",
    "    return np.sin(x)\n",
    "\n",
    "def f2(x):\n",
    "    return x**2 -3*x\n"
   ]
  },
  {
   "cell_type": "markdown",
   "metadata": {},
   "source": [
    "wir integrieren durch Summieren:"
   ]
  },
  {
   "cell_type": "code",
   "execution_count": 7,
   "metadata": {},
   "outputs": [
    {
     "name": "stdout",
     "output_type": "stream",
     "text": [
      "1.9999999999983495\n"
     ]
    }
   ],
   "source": [
    "a=0 # untere Integralgrenze\n",
    "b=np.pi   # obere Integralgrenze (Pi)\n",
    "n=1000000   # Anzahl Intervalle\n",
    "deltax=(b-a)/n      \n",
    "\n",
    "\n",
    "integral=0\n",
    "for i in range(n):\n",
    "    integral += f1( a + i*deltax ) * deltax\n",
    "print(integral)\n",
    "\n"
   ]
  },
  {
   "cell_type": "markdown",
   "metadata": {},
   "source": [
    "nochmal, diesmal variieren wir die Anzahl der Intervalle und machen unsere numerische Näherung besser und besser"
   ]
  },
  {
   "cell_type": "code",
   "execution_count": 8,
   "metadata": {},
   "outputs": [
    {
     "name": "stdout",
     "output_type": "stream",
     "text": [
      "2      1.5707963267948966\n",
      "4      1.8961188979370398\n",
      "8      1.9742316019455508\n",
      "16      1.993570343772339\n",
      "32      1.9983933609701447\n",
      "64      1.9995983886400375\n",
      "128      1.9998996001842024\n",
      "256      1.9999749002350522\n",
      "512      1.9999937250705757\n",
      "1024      1.9999984312683812\n",
      "2048      1.9999996078171405\n",
      "4096      1.9999999019542882\n",
      "8192      1.9999999754885749\n",
      "16384      1.999999993872147\n",
      "32768      1.999999998468038\n",
      "65536      1.9999999996170332\n",
      "131072      1.999999999904249\n",
      "262144      1.99999999997606\n",
      "524288      1.9999999999939997\n"
     ]
    }
   ],
   "source": [
    "a=0 # untere Integralgrenze\n",
    "b=np.pi   # obere Integralgrenze)\n",
    "\n",
    "n=2   # kleinste Anzahl Intervalle, \n",
    "      # wir beginnen mit 2 und verdoppeln dann die Anzahl immer wieder\n",
    "     \n",
    "\n",
    "while n<1e6:\n",
    "    deltax=(b-a)/n \n",
    "    integral=0\n",
    "    for i in range(n):\n",
    "        integral+= f1( a+ i*deltax ) * deltax\n",
    "    print(n, \"    \", integral)\n",
    "    n = n*2"
   ]
  },
  {
   "cell_type": "code",
   "execution_count": null,
   "metadata": {},
   "outputs": [],
   "source": []
  },
  {
   "cell_type": "markdown",
   "metadata": {},
   "source": [
    "## Einige Ergänzungen,  für die, die sich mehr mit der Programmierung beschäftigen wollen"
   ]
  },
  {
   "cell_type": "markdown",
   "metadata": {},
   "source": [
    "Sie können auch versuchen, die Stützstellen statt am Anfang in der Mitte oder am Ende jedes Intervalls zu wählen (vergleichen Sie die Ergebnisse für verschiedene Anzahl Intervalle/Stützstellen)"
   ]
  },
  {
   "cell_type": "code",
   "execution_count": null,
   "metadata": {},
   "outputs": [],
   "source": [
    "a=0 # untere Integralgrenze\n",
    "b=np.pi   # obere Integralgrenze (Pi)\n",
    "n=1000   # Anzahl Intervalle\n",
    "deltax=(b-a)/n      \n",
    "\n",
    "\n",
    "integral=0\n",
    "for i in range(n):\n",
    "    integral += f1( a + (i+0.5)*deltax ) * deltax\n",
    "print(integral)\n",
    "\n"
   ]
  },
  {
   "cell_type": "markdown",
   "metadata": {},
   "source": [
    "und eine alternative Implementierung mit Array und ohne for-Loop"
   ]
  },
  {
   "cell_type": "code",
   "execution_count": null,
   "metadata": {},
   "outputs": [],
   "source": [
    "a=0 # untere Integralgrenze\n",
    "b=np.pi   # obere Integralgrenze)\n",
    "n=1000   # Anzahl Intervalle\n",
    "deltax=(b-a)/n      \n",
    "\n",
    "# wie oben\n",
    "integral=0\n",
    "for i in range(n):\n",
    "    integral += f1( a + i*deltax ) * deltax\n",
    "print(integral)\n",
    "\n",
    "\n",
    "# jetzt alternativ - \n",
    "xn=np.linspace(a,b,n+1) # array der Stützstellen, so definiert ist das letzte Element die obere Grenze b, \n",
    "xn=xn[:-1]              # dieses brauchen wir nicht und entfernen wir hiermit\n",
    "\n",
    "f1werte= f1(xn) # Array aller Funktionswerte an den Stützstellen\n",
    "integral = deltax * np.sum(f1werte) # Summe drüber\n",
    "print (integral)"
   ]
  },
  {
   "cell_type": "code",
   "execution_count": null,
   "metadata": {},
   "outputs": [],
   "source": []
  }
 ],
 "metadata": {
  "kernelspec": {
   "display_name": "Python 3 (ipykernel)",
   "language": "python",
   "name": "python3"
  },
  "language_info": {
   "codemirror_mode": {
    "name": "ipython",
    "version": 3
   },
   "file_extension": ".py",
   "mimetype": "text/x-python",
   "name": "python",
   "nbconvert_exporter": "python",
   "pygments_lexer": "ipython3",
   "version": "3.10.6"
  }
 },
 "nbformat": 4,
 "nbformat_minor": 4
}
