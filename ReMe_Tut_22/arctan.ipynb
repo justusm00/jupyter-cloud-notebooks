{
 "cells": [
  {
   "cell_type": "code",
   "execution_count": 10,
   "id": "536c3750-bd3d-4641-99b1-633327e20b90",
   "metadata": {},
   "outputs": [
    {
     "name": "stdout",
     "output_type": "stream",
     "text": [
      "6.283185307179586\n"
     ]
    }
   ],
   "source": [
    "import numpy as np\n",
    "from numpy import arctan as atan\n",
    "import matplotlib.pyplot as plot\n",
    "\n",
    "def phi(x,y):\n",
    "    if(x!=0):\n",
    "        h=atan(y/x)\n",
    "    if(x>0 and y>0):\n",
    "        return h\n",
    "    elif(x==0 and y>0):\n",
    "        return np.pi/2\n",
    "    elif(x<0):\n",
    "        return np.pi+h\n",
    "    elif(x==0 and y<0):\n",
    "        return 3*np.pi/2\n",
    "    else:\n",
    "        return 2*np.pi+h\n",
    "\n",
    "print(phi(3,0))\n"
   ]
  },
  {
   "cell_type": "code",
   "execution_count": null,
   "id": "9ce096f9-96f1-4c4a-a85f-68369b08d986",
   "metadata": {},
   "outputs": [],
   "source": []
  }
 ],
 "metadata": {
  "kernelspec": {
   "display_name": "Python 3 (ipykernel)",
   "language": "python",
   "name": "python3"
  },
  "language_info": {
   "codemirror_mode": {
    "name": "ipython",
    "version": 3
   },
   "file_extension": ".py",
   "mimetype": "text/x-python",
   "name": "python",
   "nbconvert_exporter": "python",
   "pygments_lexer": "ipython3",
   "version": "3.11.7"
  }
 },
 "nbformat": 4,
 "nbformat_minor": 5
}
