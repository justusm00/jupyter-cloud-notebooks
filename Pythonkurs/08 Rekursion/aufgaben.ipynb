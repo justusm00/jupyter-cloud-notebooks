{
 "cells": [
  {
   "cell_type": "code",
   "execution_count": 15,
   "id": "3a998c7b-79ab-460a-a962-341b97e2e38d",
   "metadata": {},
   "outputs": [
    {
     "data": {
      "text/plain": [
       "1.4142135623738412"
      ]
     },
     "execution_count": 15,
     "metadata": {},
     "output_type": "execute_result"
    }
   ],
   "source": [
    "\n",
    "def seq(x1):\n",
    "    n=0\n",
    "    x2 = 1/2 * x1 + 1/x1\n",
    "    if abs(x2-x1) <= 1e-4:\n",
    "        return x2\n",
    "    else:\n",
    "        n = n+1\n",
    "        return seq(x2)\n",
    "    \n",
    "seq(0.01)\n",
    "\n"
   ]
  },
  {
   "cell_type": "code",
   "execution_count": 16,
   "id": "f1865710-5535-4f27-94d9-ff1ebb502df6",
   "metadata": {},
   "outputs": [
    {
     "data": {
      "text/plain": [
       "1.260498046875"
      ]
     },
     "execution_count": 16,
     "metadata": {},
     "output_type": "execute_result"
    }
   ],
   "source": [
    "def f(x):\n",
    "    return x**3-2\n",
    "\n",
    "def nullstelle(f, ak=0, bk=3, TOL=10e-4, maxit=100):\n",
    "    it = 0\n",
    "    # Die Bedingung abs(b0-a0) > 2^(k+1)*TOL ist äquivalent\n",
    "    # zu abs(bk-ak) > 2*TOL\n",
    "    while abs(bk-ak) > 2*TOL and it < maxit:\n",
    "        it = it +1\n",
    "        g = f((ak+bk)/2)\n",
    "        if f(ak)*g <= 0:\n",
    "            bk = (ak+bk)/2\n",
    "        else:\n",
    "            ak = (ak+bk)/ 2\n",
    "    # Wenn die Schleife abbricht, ist die Nullstelle weniger\n",
    "    # als TOL vom Intervall-Mittelpunkt entfernt.\n",
    "    return float((ak+bk)/2)\n",
    "\n",
    "f = lambda x: x**3 - 2\n",
    "nullstelle(f, 0,3, 10e-4)"
   ]
  },
  {
   "cell_type": "code",
   "execution_count": 17,
   "id": "ad145664-3970-4b16-a19d-7da399494b90",
   "metadata": {},
   "outputs": [
    {
     "data": {
      "text/plain": [
       "1.259857177734375"
      ]
     },
     "execution_count": 17,
     "metadata": {},
     "output_type": "execute_result"
    }
   ],
   "source": [
    "# Alternativ: Rekursive Funktion\n",
    "def nullstelle_rek(f, a, b, TOL, maxit=100, it=0):\n",
    "    fa = f(a)\n",
    "    fb = f(b)\n",
    "    if fa * fb >= 0:\n",
    "        raise ValueError('asdf')\n",
    "    if abs(b-a) > 2*TOL and it < maxit:\n",
    "        mid = (a + b) / 2\n",
    "        fmid = f(mid)\n",
    "\n",
    "        if fa * fmid <= 0:\n",
    "            return nullstelle_rek(f,a,mid,TOL,maxit,it+1)\n",
    "        else:\n",
    "            return nullstelle_rek(f,mid,b,TOL,maxit,it+1)\n",
    "    return (a+b)/2\n",
    "nullstelle_rek(f, 0,3, 10**(-4))"
   ]
  },
  {
   "cell_type": "code",
   "execution_count": 19,
   "id": "da508301-cfb3-47e9-a5cd-1d6f00ddff17",
   "metadata": {},
   "outputs": [
    {
     "data": {
      "text/plain": [
       "140"
      ]
     },
     "execution_count": 19,
     "metadata": {},
     "output_type": "execute_result"
    }
   ],
   "source": [
    "##ue3\n",
    "\n",
    "def disk_usage(folder):\n",
    "    s = 0\n",
    "    for _, val in folder.items():\n",
    "        if isinstance(val, dict):\n",
    "            s += disk_usage(val)\n",
    "        else:\n",
    "            s += val\n",
    "    return s\n",
    "disk_usage({'documents':{'erinnerung.txt':3, 'skripte':{'matheskript.pdf':15, 'pythontutorial.pdf':22}}, 'selfie.jpg':100})"
   ]
  },
  {
   "cell_type": "code",
   "execution_count": 21,
   "id": "6e242ae0-05cb-47ab-a54e-2a172dc55f68",
   "metadata": {},
   "outputs": [
    {
     "data": {
      "text/plain": [
       "4"
      ]
     },
     "execution_count": 21,
     "metadata": {},
     "output_type": "execute_result"
    }
   ],
   "source": [
    "##ue 4\n",
    "def expn_rekursiv(x, n):\n",
    "    \"\"\" Berechnet rekursiv die natürliche Potenz einer Zahl\n",
    "\n",
    "    Parameters\n",
    "    ----------\n",
    "    x:  number\n",
    "        Zahl x\n",
    "    n:  number\n",
    "        Potenz\n",
    "\n",
    "    Returns\n",
    "    -------\n",
    "    number:\n",
    "        Ergebnis\n",
    "    \"\"\"\n",
    "    if n == 0:\n",
    "        return 1\n",
    "    if n % 2 == 0:\n",
    "        return expn_rekursiv(x, n/2) ** 2 #Beachte, dass\n",
    "    else:\n",
    "        return x * expn_rekursiv(x, (n-1)/2) ** 2\n",
    "    \n",
    "expn_rekursiv(2, 2)"
   ]
  },
  {
   "cell_type": "code",
   "execution_count": null,
   "id": "8629d081-e9bd-425c-b538-43dd0a17e7ec",
   "metadata": {},
   "outputs": [],
   "source": []
  }
 ],
 "metadata": {
  "kernelspec": {
   "display_name": "Python 3",
   "language": "python",
   "name": "python3"
  },
  "language_info": {
   "codemirror_mode": {
    "name": "ipython",
    "version": 3
   },
   "file_extension": ".py",
   "mimetype": "text/x-python",
   "name": "python",
   "nbconvert_exporter": "python",
   "pygments_lexer": "ipython3",
   "version": "3.8.8"
  }
 },
 "nbformat": 4,
 "nbformat_minor": 5
}
