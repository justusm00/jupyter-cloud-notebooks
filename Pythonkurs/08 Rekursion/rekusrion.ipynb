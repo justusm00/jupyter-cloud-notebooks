{
 "cells": [
  {
   "cell_type": "code",
   "execution_count": 1,
   "id": "a57367a2-b5f8-4866-87c0-ccaf66738c4f",
   "metadata": {},
   "outputs": [
    {
     "data": {
      "text/plain": [
       "3628800"
      ]
     },
     "execution_count": 1,
     "metadata": {},
     "output_type": "execute_result"
    }
   ],
   "source": [
    "def fac(n):\n",
    "    if n == 0:\n",
    "        return 1\n",
    "    else:\n",
    "        return n * fac(n - 1)\n",
    "\n",
    "fac(10)"
   ]
  },
  {
   "cell_type": "code",
   "execution_count": 2,
   "id": "06877436-52ff-427f-898a-ea24b4124365",
   "metadata": {},
   "outputs": [
    {
     "data": {
      "text/plain": [
       "55"
      ]
     },
     "execution_count": 2,
     "metadata": {},
     "output_type": "execute_result"
    }
   ],
   "source": [
    "def fib(n):\n",
    "    if n <= 1:\n",
    "        return n\n",
    "    else:\n",
    "        return fib(n - 1) + fib(n - 2)\n",
    "\n",
    "fib(10)"
   ]
  },
  {
   "cell_type": "code",
   "execution_count": 3,
   "id": "29fb5e8d-ec69-4ff9-8b2d-c2e6a97b8b24",
   "metadata": {},
   "outputs": [
    {
     "data": {
      "text/plain": [
       "55"
      ]
     },
     "execution_count": 3,
     "metadata": {},
     "output_type": "execute_result"
    }
   ],
   "source": [
    "def fib_iterative(n):\n",
    "    (a, b) = (0, 1)\n",
    "    for i in range(n-1):\n",
    "        (a, b) = (b, a + b)\n",
    "    return b\n",
    "\n",
    "fib_iterative(10)"
   ]
  },
  {
   "cell_type": "code",
   "execution_count": 4,
   "id": "04acac4b-92bd-4740-b0ee-5520dc81027b",
   "metadata": {},
   "outputs": [
    {
     "name": "stdout",
     "output_type": "stream",
     "text": [
      "184 ms ± 2.83 ms per loop (mean ± std. dev. of 7 runs, 10 loops each)\n"
     ]
    }
   ],
   "source": [
    "%timeit fib(30)"
   ]
  },
  {
   "cell_type": "code",
   "execution_count": 5,
   "id": "aebb2885-e19c-43d8-b434-4089d47badea",
   "metadata": {},
   "outputs": [
    {
     "name": "stdout",
     "output_type": "stream",
     "text": [
      "1.19 µs ± 26.2 ns per loop (mean ± std. dev. of 7 runs, 1000000 loops each)\n"
     ]
    }
   ],
   "source": [
    "%timeit fib_iterative(30)"
   ]
  },
  {
   "cell_type": "code",
   "execution_count": 2,
   "id": "7584c642-c2dd-41f6-ae9d-33f42357d013",
   "metadata": {},
   "outputs": [
    {
     "data": {
      "text/plain": [
       "55"
      ]
     },
     "execution_count": 2,
     "metadata": {},
     "output_type": "execute_result"
    }
   ],
   "source": [
    "##stackoverflow\n",
    "def dumb_sum(n):\n",
    "    if n == 0:\n",
    "        return 0\n",
    "    else:\n",
    "        return n + dumb_sum(n - 1)\n",
    "\n",
    "dumb_sum(10)"
   ]
  },
  {
   "cell_type": "code",
   "execution_count": 1,
   "id": "f84b0266-d031-46fd-9e73-c9c497720c04",
   "metadata": {},
   "outputs": [
    {
     "data": {
      "text/plain": [
       "5"
      ]
     },
     "execution_count": 1,
     "metadata": {},
     "output_type": "execute_result"
    }
   ],
   "source": [
    "a = 5\n",
    "a"
   ]
  },
  {
   "cell_type": "code",
   "execution_count": 3,
   "id": "065f80f0-e186-4a96-9683-5721b4743c21",
   "metadata": {},
   "outputs": [
    {
     "data": {
      "text/plain": [
       "[1, 2, 3, 4, 5, 6, 7, 8, 9]"
      ]
     },
     "execution_count": 3,
     "metadata": {},
     "output_type": "execute_result"
    }
   ],
   "source": [
    "def deep_flatten(lst):\n",
    "    \"\"\"\n",
    "    Completely flatten an arbitrarily nested list.\n",
    "\n",
    "    Parameters\n",
    "    ----------\n",
    "    lst : list\n",
    "        The nested list to flatten.\n",
    "\n",
    "    Returns\n",
    "    -------\n",
    "    list\n",
    "        The list of all elements of lst in order, without nesting.\n",
    "    \"\"\"\n",
    "    result = []\n",
    "    for elm in lst:\n",
    "        if isinstance(elm, list):\n",
    "            result.extend(deep_flatten(elm))\n",
    "        else:\n",
    "            result.append(elm)\n",
    "    return result\n",
    "\n",
    "deep_flatten([[1, 2], 3, [4, [5, 6, [[7, 8], 9]]]])\n"
   ]
  },
  {
   "cell_type": "code",
   "execution_count": null,
   "id": "b7633227-74f0-4721-883c-f74d0ff4ad5d",
   "metadata": {},
   "outputs": [],
   "source": []
  }
 ],
 "metadata": {
  "kernelspec": {
   "display_name": "Python 3",
   "language": "python",
   "name": "python3"
  },
  "language_info": {
   "codemirror_mode": {
    "name": "ipython",
    "version": 3
   },
   "file_extension": ".py",
   "mimetype": "text/x-python",
   "name": "python",
   "nbconvert_exporter": "python",
   "pygments_lexer": "ipython3",
   "version": "3.8.8"
  }
 },
 "nbformat": 4,
 "nbformat_minor": 5
}
