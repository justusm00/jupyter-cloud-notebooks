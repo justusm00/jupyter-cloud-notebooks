{
 "cells": [
  {
   "cell_type": "code",
   "execution_count": 1,
   "id": "5dd8f54f-c8c8-4044-a342-9a6310fb5fb5",
   "metadata": {},
   "outputs": [
    {
     "data": {
      "text/plain": [
       "'    10'"
      ]
     },
     "execution_count": 1,
     "metadata": {},
     "output_type": "execute_result"
    }
   ],
   "source": [
    "f'{10:6}'"
   ]
  },
  {
   "cell_type": "code",
   "execution_count": 2,
   "id": "a550e335-030d-445a-b65c-499d790c9de5",
   "metadata": {},
   "outputs": [
    {
     "data": {
      "text/plain": [
       "'abc   '"
      ]
     },
     "execution_count": 2,
     "metadata": {},
     "output_type": "execute_result"
    }
   ],
   "source": [
    "f'{\"abc\":6}'"
   ]
  },
  {
   "cell_type": "code",
   "execution_count": 3,
   "id": "89ee731e-50ca-4acc-b681-2898368a4086",
   "metadata": {},
   "outputs": [
    {
     "data": {
      "text/plain": [
       "'   abc'"
      ]
     },
     "execution_count": 3,
     "metadata": {},
     "output_type": "execute_result"
    }
   ],
   "source": [
    "f'{\"abc\":>6}'"
   ]
  },
  {
   "cell_type": "code",
   "execution_count": 6,
   "id": "bb2e4288-0807-4215-9d73-9a378b9dce6d",
   "metadata": {},
   "outputs": [
    {
     "data": {
      "text/plain": [
       "'10    '"
      ]
     },
     "execution_count": 6,
     "metadata": {},
     "output_type": "execute_result"
    }
   ],
   "source": [
    "f'{10:<6}'"
   ]
  },
  {
   "cell_type": "code",
   "execution_count": 7,
   "id": "bf9adfb9-7678-4dad-a09d-0aae28e78926",
   "metadata": {},
   "outputs": [
    {
     "data": {
      "text/plain": [
       "'  10  '"
      ]
     },
     "execution_count": 7,
     "metadata": {},
     "output_type": "execute_result"
    }
   ],
   "source": [
    "f'{10:^6}'"
   ]
  },
  {
   "cell_type": "code",
   "execution_count": 8,
   "id": "2fe92462-8806-4340-b4af-d7feb918744c",
   "metadata": {},
   "outputs": [
    {
     "data": {
      "text/plain": [
       "'10.12'"
      ]
     },
     "execution_count": 8,
     "metadata": {},
     "output_type": "execute_result"
    }
   ],
   "source": [
    "a = 10.12345678\n",
    "f'{a:.4}'"
   ]
  },
  {
   "cell_type": "code",
   "execution_count": 9,
   "id": "790084a6-36d8-4b62-beeb-2dbce696672b",
   "metadata": {},
   "outputs": [
    {
     "data": {
      "text/plain": [
       "'10.1235'"
      ]
     },
     "execution_count": 9,
     "metadata": {},
     "output_type": "execute_result"
    }
   ],
   "source": [
    "##gerundet\n",
    "f'{a:.4f}'"
   ]
  },
  {
   "cell_type": "code",
   "execution_count": 10,
   "id": "29b3d34a-133b-45fc-9d39-3ce7718aadb1",
   "metadata": {},
   "outputs": [
    {
     "data": {
      "text/plain": [
       "'1.0123e+01'"
      ]
     },
     "execution_count": 10,
     "metadata": {},
     "output_type": "execute_result"
    }
   ],
   "source": [
    "##exponentialdarstellung\n",
    "f'{a:.4e}'"
   ]
  },
  {
   "cell_type": "code",
   "execution_count": 11,
   "id": "8f01ea14-9efe-4b9f-9353-46a353dfcbfd",
   "metadata": {},
   "outputs": [
    {
     "data": {
      "text/plain": [
       "'1012.3457%'"
      ]
     },
     "execution_count": 11,
     "metadata": {},
     "output_type": "execute_result"
    }
   ],
   "source": [
    "f'{a:.4%}'"
   ]
  },
  {
   "cell_type": "code",
   "execution_count": 12,
   "id": "afe9e93f-77bc-49d7-9cbd-47496931ee47",
   "metadata": {},
   "outputs": [
    {
     "data": {
      "text/plain": [
       "'101010'"
      ]
     },
     "execution_count": 12,
     "metadata": {},
     "output_type": "execute_result"
    }
   ],
   "source": [
    "##ganze zahlen\n",
    "f'{42:b}'"
   ]
  },
  {
   "cell_type": "code",
   "execution_count": 13,
   "id": "6f063fa5-c112-4312-a423-ddb7d6790001",
   "metadata": {},
   "outputs": [
    {
     "data": {
      "text/plain": [
       "'52'"
      ]
     },
     "execution_count": 13,
     "metadata": {},
     "output_type": "execute_result"
    }
   ],
   "source": [
    "f'{42:o}'"
   ]
  },
  {
   "cell_type": "code",
   "execution_count": 14,
   "id": "2b0956e0-5965-4e7b-8811-0395d66a9f4e",
   "metadata": {},
   "outputs": [
    {
     "data": {
      "text/plain": [
       "'2a'"
      ]
     },
     "execution_count": 14,
     "metadata": {},
     "output_type": "execute_result"
    }
   ],
   "source": [
    "f'{42:x}'"
   ]
  },
  {
   "cell_type": "code",
   "execution_count": 15,
   "id": "7bf6e953-c92a-4b88-b80a-b5f79404995d",
   "metadata": {},
   "outputs": [
    {
     "data": {
      "text/plain": [
       "'  1.27e+00  '"
      ]
     },
     "execution_count": 15,
     "metadata": {},
     "output_type": "execute_result"
    }
   ],
   "source": [
    "var = {'field': [1, (1+2j)**0.5, 'asdf']}\n",
    "f'{var[\"field\"][1].real:^12.2e}'"
   ]
  },
  {
   "cell_type": "code",
   "execution_count": 16,
   "id": "11a28b5b-d79c-4440-9e67-b4c8d4fbb789",
   "metadata": {},
   "outputs": [
    {
     "name": "stdout",
     "output_type": "stream",
     "text": [
      "['Zeile 1', 'Zeile 2', '']\n",
      "['Zeile', '1', 'Zeile', '2']\n"
     ]
    }
   ],
   "source": [
    "##verarbeitung\n",
    "print(\"Zeile 1\\nZeile 2\\n\".split('\\n'))\n",
    "print(\"Zeile 1\\nZeile 2\\n\".split())"
   ]
  },
  {
   "cell_type": "code",
   "execution_count": 19,
   "id": "14e45e92-3f45-438e-a8d4-9f08ef77524b",
   "metadata": {},
   "outputs": [
    {
     "name": "stdout",
     "output_type": "stream",
     "text": [
      "first ! second\n"
     ]
    }
   ],
   "source": [
    "print(' ! '.join(['first', 'second']))"
   ]
  },
  {
   "cell_type": "code",
   "execution_count": 21,
   "id": "c187ad54-b28f-455b-88c7-829a480cc5a9",
   "metadata": {},
   "outputs": [
    {
     "data": {
      "text/plain": [
       "'Text text text'"
      ]
     },
     "execution_count": 21,
     "metadata": {},
     "output_type": "execute_result"
    }
   ],
   "source": [
    "'    \\nText text text\\n'.strip()"
   ]
  },
  {
   "cell_type": "code",
   "execution_count": 22,
   "id": "a19b7be8-f0ab-450c-9a53-403ba34e9ce8",
   "metadata": {},
   "outputs": [
    {
     "data": {
      "text/plain": [
       "'Das ist ein Text'"
      ]
     },
     "execution_count": 22,
     "metadata": {},
     "output_type": "execute_result"
    }
   ],
   "source": [
    "'Dies ist ein Text'.replace('Dies','Das')"
   ]
  },
  {
   "cell_type": "code",
   "execution_count": 23,
   "id": "de7b935c-0bbd-4d4c-9f0f-78442cf60c4a",
   "metadata": {},
   "outputs": [
    {
     "name": "stdout",
     "output_type": "stream",
     "text": [
      "2\n",
      "True\n"
     ]
    }
   ],
   "source": [
    "print('abcdefgh'.find('cde'))\n",
    "print('abcdefgh'.startswith('abc'))"
   ]
  },
  {
   "cell_type": "code",
   "execution_count": 24,
   "id": "5ca30b97-cb0e-4036-b811-128193e50e2a",
   "metadata": {},
   "outputs": [
    {
     "name": "stdout",
     "output_type": "stream",
     "text": [
      "False\n",
      "True\n"
     ]
    }
   ],
   "source": [
    "print('ABCDEFGH'.startswith('abc'))\n",
    "print('ABCDEFGH'.lower().startswith('abc'))"
   ]
  },
  {
   "cell_type": "code",
   "execution_count": 25,
   "id": "4c3b02be-5af7-4221-be68-06ff10fb7495",
   "metadata": {},
   "outputs": [
    {
     "data": {
      "text/plain": [
       "123"
      ]
     },
     "execution_count": 25,
     "metadata": {},
     "output_type": "execute_result"
    }
   ],
   "source": [
    "int('123')"
   ]
  },
  {
   "cell_type": "code",
   "execution_count": 29,
   "id": "00297232-2e34-4f1e-a604-e0e0c9f1419f",
   "metadata": {},
   "outputs": [
    {
     "data": {
      "text/plain": [
       "123.0"
      ]
     },
     "execution_count": 29,
     "metadata": {},
     "output_type": "execute_result"
    }
   ],
   "source": [
    "float(\"123\")"
   ]
  },
  {
   "cell_type": "code",
   "execution_count": 39,
   "id": "032b0eea-844e-4bdb-839e-e8278b15285e",
   "metadata": {},
   "outputs": [
    {
     "data": {
      "text/plain": [
       "217"
      ]
     },
     "execution_count": 39,
     "metadata": {},
     "output_type": "execute_result"
    }
   ],
   "source": [
    "int('67', base=35)"
   ]
  },
  {
   "cell_type": "code",
   "execution_count": null,
   "id": "496bce2c-462f-44ca-963a-5f480cc502ff",
   "metadata": {},
   "outputs": [],
   "source": []
  }
 ],
 "metadata": {
  "kernelspec": {
   "display_name": "Python 3",
   "language": "python",
   "name": "python3"
  },
  "language_info": {
   "codemirror_mode": {
    "name": "ipython",
    "version": 3
   },
   "file_extension": ".py",
   "mimetype": "text/x-python",
   "name": "python",
   "nbconvert_exporter": "python",
   "pygments_lexer": "ipython3",
   "version": "3.8.8"
  }
 },
 "nbformat": 4,
 "nbformat_minor": 5
}
