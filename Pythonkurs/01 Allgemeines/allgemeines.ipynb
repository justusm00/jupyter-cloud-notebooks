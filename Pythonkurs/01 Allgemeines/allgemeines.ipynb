{
 "cells": [
  {
   "cell_type": "code",
   "execution_count": 11,
   "id": "e2d829a3-4f70-4b83-98b1-9faf05675282",
   "metadata": {},
   "outputs": [
    {
     "data": {
      "text/plain": [
       "int"
      ]
     },
     "execution_count": 11,
     "metadata": {},
     "output_type": "execute_result"
    }
   ],
   "source": [
    "type(5)"
   ]
  },
  {
   "cell_type": "code",
   "execution_count": 10,
   "id": "e4b9c7e3-64de-48be-8e7a-c233e8ee508e",
   "metadata": {},
   "outputs": [
    {
     "data": {
      "text/plain": [
       "bool"
      ]
     },
     "execution_count": 10,
     "metadata": {},
     "output_type": "execute_result"
    }
   ],
   "source": [
    "a = False\n",
    "type(a)"
   ]
  },
  {
   "cell_type": "code",
   "execution_count": 12,
   "id": "b24089b5-9d74-4493-9c21-c82a539759ad",
   "metadata": {},
   "outputs": [
    {
     "data": {
      "text/plain": [
       "0.30000000000000004"
      ]
     },
     "execution_count": 12,
     "metadata": {},
     "output_type": "execute_result"
    }
   ],
   "source": [
    "3* 0.1"
   ]
  },
  {
   "cell_type": "code",
   "execution_count": 14,
   "id": "0383903f-01cf-4e71-bcd4-afcf2906774e",
   "metadata": {},
   "outputs": [
    {
     "data": {
      "text/plain": [
       "complex"
      ]
     },
     "execution_count": 14,
     "metadata": {},
     "output_type": "execute_result"
    }
   ],
   "source": [
    "##komplexe zahlen\n",
    "a = 1j + 4\n",
    "type(a)"
   ]
  },
  {
   "cell_type": "code",
   "execution_count": 16,
   "id": "e3364e5d-ab7f-4290-a767-c5538ab5f8e0",
   "metadata": {},
   "outputs": [
    {
     "data": {
      "text/plain": [
       "(3+4j)"
      ]
     },
     "execution_count": 16,
     "metadata": {},
     "output_type": "execute_result"
    }
   ],
   "source": [
    "b = complex(3,4)\n",
    "b"
   ]
  },
  {
   "cell_type": "code",
   "execution_count": 18,
   "id": "567e51b2-e598-4d22-8d33-6723f53ad05a",
   "metadata": {},
   "outputs": [
    {
     "name": "stdout",
     "output_type": "stream",
     "text": [
      "4.0\n",
      "1.0\n"
     ]
    }
   ],
   "source": [
    "##komplexe zahlen sind objekte\n",
    "##erhalte real- und imaginärteil über\n",
    "real = a.real\n",
    "imag = a.imag\n",
    "print(real)\n",
    "print(imag)"
   ]
  },
  {
   "cell_type": "code",
   "execution_count": 20,
   "id": "f0f72cb9-3787-48dc-8c97-9fd273d5e993",
   "metadata": {},
   "outputs": [
    {
     "data": {
      "text/plain": [
       "(3-4j)"
      ]
     },
     "execution_count": 20,
     "metadata": {},
     "output_type": "execute_result"
    }
   ],
   "source": [
    "##komplex konjugiert\n",
    "##Objekt Methode\n",
    "b.conjugate()"
   ]
  },
  {
   "cell_type": "code",
   "execution_count": 22,
   "id": "ba692967-863c-4978-8059-d242107fdca2",
   "metadata": {},
   "outputs": [
    {
     "data": {
      "text/plain": [
       "str"
      ]
     },
     "execution_count": 22,
     "metadata": {},
     "output_type": "execute_result"
    }
   ],
   "source": [
    "##strings\n",
    "s = \"Joe Mama\"\n",
    "type(s)"
   ]
  },
  {
   "cell_type": "code",
   "execution_count": 23,
   "id": "c5da03ab-dbeb-4169-85d4-b9ed68d0d453",
   "metadata": {},
   "outputs": [
    {
     "name": "stdout",
     "output_type": "stream",
     "text": [
      "this is heall cool\n",
      "innit?\n",
      "ye\n"
     ]
    }
   ],
   "source": [
    "print(\"\"\"this is heall cool\n",
    "innit?\n",
    "ye\"\"\")"
   ]
  },
  {
   "cell_type": "code",
   "execution_count": 25,
   "id": "a5d758b7-f0f6-4cd2-af06-cdffec7efb6d",
   "metadata": {},
   "outputs": [
    {
     "name": "stdout",
     "output_type": "stream",
     "text": [
      "Pi ist ungefähr 3.1415. Eine andere Näherung ist 22/7.\n"
     ]
    }
   ],
   "source": [
    "##Formatierung\n",
    "a = 3.1415\n",
    "b = 22\n",
    "c = 7\n",
    "print('Pi ist ungefähr {}. Eine andere Näherung ist {}/{}.'.format(a, b, c))"
   ]
  },
  {
   "cell_type": "code",
   "execution_count": 26,
   "id": "24f2001c-001d-4a49-9ea3-c633816033cd",
   "metadata": {},
   "outputs": [
    {
     "name": "stdout",
     "output_type": "stream",
     "text": [
      "Pi ist ungefähr 3.1415. Eine andere Näherung ist 22/7.\n"
     ]
    }
   ],
   "source": [
    "##f strings\n",
    "print(f'Pi ist ungefähr {a}. Eine andere Näherung ist {b}/{c}.')"
   ]
  },
  {
   "cell_type": "code",
   "execution_count": 31,
   "id": "73ae80f1-c09d-4f92-af37-41aef1b155ec",
   "metadata": {},
   "outputs": [
    {
     "data": {
      "text/plain": [
       "'HALLO'"
      ]
     },
     "execution_count": 31,
     "metadata": {},
     "output_type": "execute_result"
    }
   ],
   "source": [
    "a = \"Hallo\"\n",
    "a.upper()\n"
   ]
  },
  {
   "cell_type": "code",
   "execution_count": null,
   "id": "567861cc-737a-4efc-9b7b-5207dc8a1d23",
   "metadata": {},
   "outputs": [],
   "source": []
  }
 ],
 "metadata": {
  "kernelspec": {
   "display_name": "Python 3",
   "language": "python",
   "name": "python3"
  },
  "language_info": {
   "codemirror_mode": {
    "name": "ipython",
    "version": 3
   },
   "file_extension": ".py",
   "mimetype": "text/x-python",
   "name": "python",
   "nbconvert_exporter": "python",
   "pygments_lexer": "ipython3",
   "version": "3.8.8"
  }
 },
 "nbformat": 4,
 "nbformat_minor": 5
}
