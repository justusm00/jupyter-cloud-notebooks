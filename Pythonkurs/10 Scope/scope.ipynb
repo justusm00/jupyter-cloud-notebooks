{
 "cells": [
  {
   "cell_type": "code",
   "execution_count": 7,
   "id": "e535a4e6-3a94-473f-883a-5a9a013f20c8",
   "metadata": {},
   "outputs": [
    {
     "name": "stdout",
     "output_type": "stream",
     "text": [
      "345870\n"
     ]
    }
   ],
   "source": [
    "global var\n",
    "var = 345870\n",
    "def printvar():\n",
    "    print(var)\n",
    "printvar() "
   ]
  },
  {
   "cell_type": "code",
   "execution_count": 8,
   "id": "e7724981-f3e3-45c4-9ad3-86c9652da347",
   "metadata": {},
   "outputs": [
    {
     "name": "stdout",
     "output_type": "stream",
     "text": [
      "1\n",
      "1\n"
     ]
    }
   ],
   "source": [
    "x = 0\n",
    "def f():\n",
    "    global x\n",
    "    x = 1\n",
    "    print(x)\n",
    "f()\n",
    "print(x)"
   ]
  },
  {
   "cell_type": "code",
   "execution_count": 9,
   "id": "7b3e2169-9618-40e2-be97-fe221070d17e",
   "metadata": {},
   "outputs": [
    {
     "name": "stdout",
     "output_type": "stream",
     "text": [
      "g(): x=0, y=11, z=102\n",
      "f(): x=0, y=11, z=101\n",
      "global: x=0, y=10, z=100\n"
     ]
    }
   ],
   "source": [
    "##verschachtelte funktionen\n",
    "x = 0\n",
    "y = 10\n",
    "z = 100\n",
    "def f():\n",
    "    y = 11\n",
    "    z = 101\n",
    "    def g():\n",
    "        z = 102\n",
    "        print(\"g(): x={}, y={}, z={}\".format(x, y, z))\n",
    "    g()\n",
    "    print(\"f(): x={}, y={}, z={}\".format(x, y, z))\n",
    "f()\n",
    "print(\"global: x={}, y={}, z={}\".format(x, y, z))"
   ]
  },
  {
   "cell_type": "code",
   "execution_count": null,
   "id": "56990ba2-1e67-4388-924a-1db14ed89ef5",
   "metadata": {},
   "outputs": [],
   "source": []
  }
 ],
 "metadata": {
  "kernelspec": {
   "display_name": "Python 3 (ipykernel)",
   "language": "python",
   "name": "python3"
  },
  "language_info": {
   "codemirror_mode": {
    "name": "ipython",
    "version": 3
   },
   "file_extension": ".py",
   "mimetype": "text/x-python",
   "name": "python",
   "nbconvert_exporter": "python",
   "pygments_lexer": "ipython3",
   "version": "3.11.7"
  }
 },
 "nbformat": 4,
 "nbformat_minor": 5
}
