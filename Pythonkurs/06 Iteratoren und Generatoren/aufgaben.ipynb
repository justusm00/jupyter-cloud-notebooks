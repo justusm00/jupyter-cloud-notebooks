{
 "cells": [
  {
   "cell_type": "code",
   "execution_count": 5,
   "id": "c75c8786-cc7e-4938-9e3c-2124adb26188",
   "metadata": {},
   "outputs": [
    {
     "name": "stdout",
     "output_type": "stream",
     "text": [
      "(1, 1.5)\n",
      "(1.25, 1.5)\n",
      "(1.375, 1.5)\n",
      "(1.375, 1.4375)\n",
      "(1.40625, 1.4375)\n",
      "(1.40625, 1.421875)\n",
      "(1.4140625, 1.421875)\n",
      "(1.4140625, 1.41796875)\n",
      "(1.4140625, 1.416015625)\n",
      "(1.4140625, 1.4150390625)\n",
      "(1.4140625, 1.41455078125)\n",
      "(1.4140625, 1.414306640625)\n",
      "(1.4141845703125, 1.414306640625)\n",
      "(1.4141845703125, 1.41424560546875)\n"
     ]
    }
   ],
   "source": [
    "##ue1\n",
    "import numpy as np\n",
    "def f(x):\n",
    "    return x**2-2\n",
    "\n",
    "def intervall(f, a, b):\n",
    "    if f(a)*f(b) >= 0:\n",
    "        print(\"Error: f(a0) and f(b0) have same sign\")\n",
    "        return None\n",
    "    while True:\n",
    "        c = (a+b)/2\n",
    "        if f(a)*f(c) >= 0:\n",
    "            a = c\n",
    "        else:\n",
    "            b = c\n",
    "        yield (a, b)\n",
    "        \n",
    "\n",
    "\n",
    "for (a, b) in intervall(f, 1, 2):\n",
    "    print((a, b))\n",
    "    if abs(b - a) < 1e-4:\n",
    "        break"
   ]
  },
  {
   "cell_type": "code",
   "execution_count": 7,
   "id": "e0300360-6b2d-45c7-87d9-1df8261ecc06",
   "metadata": {},
   "outputs": [
    {
     "data": {
      "text/plain": [
       "{1, 2, 3}"
      ]
     },
     "execution_count": 7,
     "metadata": {},
     "output_type": "execute_result"
    }
   ],
   "source": [
    "##ue2\n",
    "# 1. Variante\n",
    "def f(l):\n",
    "    ret = {}\n",
    "    # set(l) zum Entfernen doppelter Elemente\n",
    "    for x in set(l):\n",
    "        ret[x] = len([s for s in l if s==x])\n",
    "    return ret\n",
    "f([1,1,2,3,2,4,3,3,1])\n",
    "\n",
    "a = [1,1,1,2,2,2,3]\n",
    "set(a)"
   ]
  },
  {
   "cell_type": "code",
   "execution_count": null,
   "id": "bc19d773-f784-4a25-a55e-21206c0cb448",
   "metadata": {},
   "outputs": [],
   "source": []
  }
 ],
 "metadata": {
  "kernelspec": {
   "display_name": "Python 3",
   "language": "python",
   "name": "python3"
  },
  "language_info": {
   "codemirror_mode": {
    "name": "ipython",
    "version": 3
   },
   "file_extension": ".py",
   "mimetype": "text/x-python",
   "name": "python",
   "nbconvert_exporter": "python",
   "pygments_lexer": "ipython3",
   "version": "3.8.8"
  }
 },
 "nbformat": 4,
 "nbformat_minor": 5
}
