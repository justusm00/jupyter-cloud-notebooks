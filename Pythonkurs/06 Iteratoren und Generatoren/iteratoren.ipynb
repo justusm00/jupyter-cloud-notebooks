{
 "cells": [
  {
   "cell_type": "code",
   "execution_count": 8,
   "id": "2777834d-1594-480b-b9b0-e62fc4ebb6c8",
   "metadata": {},
   "outputs": [
    {
     "data": {
      "text/plain": [
       "1"
      ]
     },
     "execution_count": 8,
     "metadata": {},
     "output_type": "execute_result"
    }
   ],
   "source": [
    "liste = [1, 2]\n",
    "listiter = iter(liste)\n",
    "next(listiter)"
   ]
  },
  {
   "cell_type": "code",
   "execution_count": 12,
   "id": "fc4eadf1-d144-4d03-9acc-701d05eb66e9",
   "metadata": {},
   "outputs": [
    {
     "data": {
      "text/plain": [
       "[3, 6, 9, 12]"
      ]
     },
     "execution_count": 12,
     "metadata": {},
     "output_type": "execute_result"
    }
   ],
   "source": [
    "##list funktion\n",
    "list(range(3, 13, 3))\n"
   ]
  },
  {
   "cell_type": "code",
   "execution_count": 16,
   "id": "f3a3e001-e044-4e8b-b6d0-371a908a6bab",
   "metadata": {},
   "outputs": [
    {
     "name": "stdout",
     "output_type": "stream",
     "text": [
      "r = <generator object myrange at 0x7fb0b7e20c80>\n",
      "myrange start\n",
      "myrange yield 2\n",
      "Loop processing 2\n",
      "myrange yield 4\n",
      "Loop processing 4\n",
      "myrange yield 6\n",
      "Loop processing 6\n",
      "myrange yield 8\n",
      "Loop processing 8\n",
      "myrange yield 10\n",
      "Loop processing 10\n",
      "myrange end\n"
     ]
    }
   ],
   "source": [
    "##generatoren\n",
    "def myrange(start, stop, step):\n",
    "    print('myrange start')\n",
    "    x = start\n",
    "    while x <= stop:\n",
    "        print(f'myrange yield {x}')\n",
    "        yield x\n",
    "        x = x + step\n",
    "    print('myrange end')\n",
    "\n",
    "r = myrange(2, 10, 2)\n",
    "print(f\"r = {r}\")\n",
    "\n",
    "for x in r:\n",
    "    print('Loop processing {}'.format(x))"
   ]
  },
  {
   "cell_type": "code",
   "execution_count": 17,
   "id": "b95f3cfa-1207-480b-ae43-c628b1032a77",
   "metadata": {},
   "outputs": [
    {
     "name": "stdout",
     "output_type": "stream",
     "text": [
      "0\n",
      "1\n",
      "2\n",
      "3\n",
      "4\n",
      "5\n",
      "6\n",
      "7\n"
     ]
    }
   ],
   "source": [
    "def numbers():\n",
    "    num = 0\n",
    "    while True:\n",
    "        yield num\n",
    "        num = num + 1\n",
    "\n",
    "for n in numbers():\n",
    "    print(n)\n",
    "    if n == 7:\n",
    "        break"
   ]
  },
  {
   "cell_type": "code",
   "execution_count": 19,
   "id": "975ee8c3-c52c-405e-a023-b163c8fc7863",
   "metadata": {},
   "outputs": [
    {
     "name": "stdout",
     "output_type": "stream",
     "text": [
      "--- List comprehension ---\n",
      "0\n",
      "1\n",
      "2\n",
      "3\n",
      "4\n",
      "Ergebnis:\n",
      "[0, 1, 2, 3, 4]\n"
     ]
    }
   ],
   "source": [
    "##generator expressions\n",
    "def print_and_return(x):\n",
    "    print(x)\n",
    "    return x\n",
    "\n",
    "print('--- List comprehension ---')\n",
    "liste = [print_and_return(x) for x in range(5)]\n",
    "print('Ergebnis:')\n",
    "print(liste)"
   ]
  },
  {
   "cell_type": "code",
   "execution_count": 23,
   "id": "f61f920b-fd22-4da3-b305-250acb6d9be5",
   "metadata": {},
   "outputs": [
    {
     "name": "stdout",
     "output_type": "stream",
     "text": [
      "--- Generator expression ---\n",
      "Ergebnis:\n",
      "<generator object <genexpr> at 0x7fb0b449b900>\n",
      "0\n",
      "next(gen) = 0\n",
      "--- Iteration ---\n",
      "1\n",
      "Generator hat 1 geliefert.\n",
      "2\n",
      "Generator hat 2 geliefert.\n",
      "3\n",
      "Generator hat 3 geliefert.\n",
      "4\n",
      "Generator hat 4 geliefert.\n"
     ]
    }
   ],
   "source": [
    "print('--- Generator expression ---')\n",
    "gen = (print_and_return(x) for x in range(5))\n",
    "print('Ergebnis:')\n",
    "print(gen)\n",
    "print('next(gen) = {}'.format(next(gen)))\n",
    "print('--- Iteration ---')\n",
    "for x in gen:\n",
    "    print('Generator hat {} geliefert.'.format(x))"
   ]
  },
  {
   "cell_type": "code",
   "execution_count": 27,
   "id": "272cd794-faba-4c9b-a3ed-7f5fd4f6138d",
   "metadata": {},
   "outputs": [
    {
     "name": "stdout",
     "output_type": "stream",
     "text": [
      "Generator hat (0, 'a') geliefert\n",
      "Generator hat (1, 'b') geliefert\n",
      "Generator hat (2, 'c') geliefert\n",
      "Generator hat (3, 'd') geliefert\n",
      "Generator hat (4, 'e') geliefert\n",
      "Generator hat (5, 'f') geliefert\n"
     ]
    }
   ],
   "source": [
    "##verarbeitung\n",
    "bstr = 'abcdef'\n",
    "dict(zip(range(10), bstr))\n",
    "tupgen = zip(range(10),bstr)\n",
    "\n",
    "for m in tupgen:\n",
    "    print(\"Generator hat {} geliefert\".format(m))"
   ]
  },
  {
   "cell_type": "code",
   "execution_count": null,
   "id": "f00dd9af-8bb0-40ae-b65e-4af02950d3e2",
   "metadata": {},
   "outputs": [],
   "source": []
  }
 ],
 "metadata": {
  "kernelspec": {
   "display_name": "Python 3",
   "language": "python",
   "name": "python3"
  },
  "language_info": {
   "codemirror_mode": {
    "name": "ipython",
    "version": 3
   },
   "file_extension": ".py",
   "mimetype": "text/x-python",
   "name": "python",
   "nbconvert_exporter": "python",
   "pygments_lexer": "ipython3",
   "version": "3.8.8"
  }
 },
 "nbformat": 4,
 "nbformat_minor": 5
}
