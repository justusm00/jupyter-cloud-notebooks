{
 "cells": [
  {
   "cell_type": "code",
   "execution_count": 18,
   "id": "c9d0cb7f-8857-4303-ae82-e77b0b241fa6",
   "metadata": {},
   "outputs": [
    {
     "name": "stdout",
     "output_type": "stream",
     "text": [
      "time taken in seconds: 3.1711533665657043e-06\n"
     ]
    },
    {
     "data": {
      "text/plain": [
       "<function __main__.func_time.<locals>.new_func(*args)>"
      ]
     },
     "execution_count": 18,
     "metadata": {},
     "output_type": "execute_result"
    }
   ],
   "source": [
    "##ue1\n",
    "import time\n",
    "\n",
    "def func_time(func):\n",
    "    def new_func(*args):\n",
    "        before = time.perf_counter()\n",
    "        result = func(*args)\n",
    "        after = time.perf_counter()\n",
    "        duration = after - before\n",
    "        print(\"time taken in seconds: {}\".format(duration))\n",
    "        return result\n",
    "    return new_func\n",
    "\n",
    "@func_time\n",
    "def summe(n):\n",
    "    a = 0\n",
    "    for i in range(n):\n",
    "        a += i+1\n",
    "    return a\n",
    "\n",
    "func_time(summe(4))\n",
    "    "
   ]
  },
  {
   "cell_type": "code",
   "execution_count": 22,
   "id": "1198d221-7b3c-4324-b431-b2314cc89bf1",
   "metadata": {},
   "outputs": [
    {
     "name": "stdout",
     "output_type": "stream",
     "text": [
      "10.3 µs ± 3.54 µs per loop (mean ± std. dev. of 2 runs, 1 loop each)\n",
      "The slowest run took 47.49 times longer than the fastest. This could mean that an intermediate result is being cached.\n",
      "6.31 µs ± 6.04 µs per loop (mean ± std. dev. of 2 runs, 1 loop each)\n"
     ]
    }
   ],
   "source": [
    "##ue2\n",
    "def count_prime_factors(n):\n",
    "    for k in range(2, int(n**0.5)+1):\n",
    "        if n%k == 0:\n",
    "            return count_prime_factors(n//k) + 1\n",
    "    return 1\n",
    "\n",
    "%timeit -n1 -r2 count_prime_factors(1000000)\n",
    "\n",
    "from functools import lru_cache\n",
    "\n",
    "@lru_cache(maxsize=None)\n",
    "def count_prime_factors_cached(n):\n",
    "    for k in range(2, int(n**0.5)+1):\n",
    "        if n%k == 0:\n",
    "            return count_prime_factors_cached(n//k) + 1\n",
    "    return 1\n",
    "\n",
    "%timeit -n1 -r2 count_prime_factors_cached(1000000)"
   ]
  },
  {
   "cell_type": "code",
   "execution_count": null,
   "id": "223ae2af-719d-4519-9eff-f618d74db0fb",
   "metadata": {},
   "outputs": [],
   "source": []
  }
 ],
 "metadata": {
  "kernelspec": {
   "display_name": "Python 3",
   "language": "python",
   "name": "python3"
  },
  "language_info": {
   "codemirror_mode": {
    "name": "ipython",
    "version": 3
   },
   "file_extension": ".py",
   "mimetype": "text/x-python",
   "name": "python",
   "nbconvert_exporter": "python",
   "pygments_lexer": "ipython3",
   "version": "3.8.8"
  }
 },
 "nbformat": 4,
 "nbformat_minor": 5
}
