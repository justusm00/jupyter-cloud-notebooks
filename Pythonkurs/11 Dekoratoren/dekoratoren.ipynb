{
 "cells": [
  {
   "cell_type": "code",
   "execution_count": 5,
   "id": "db3c6e0a-0669-428a-8ff7-87455aea2d88",
   "metadata": {},
   "outputs": [
    {
     "name": "stdout",
     "output_type": "stream",
     "text": [
      "-- print_sum called with arguments (3, 4)\n",
      "7\n",
      "-- print_sum returned 7\n"
     ]
    },
    {
     "data": {
      "text/plain": [
       "7"
      ]
     },
     "execution_count": 5,
     "metadata": {},
     "output_type": "execute_result"
    }
   ],
   "source": [
    "def print_args_and_result(func):\n",
    "    def new_func(*args):\n",
    "        print(\"-- {} called with arguments {}\".format(func.__name__, args))\n",
    "        result = func(*args)\n",
    "        print(\"-- {} returned {}\".format(func.__name__, result))\n",
    "        return result\n",
    "    return new_func\n",
    "\n",
    "@print_args_and_result\n",
    "def print_sum(a, b):\n",
    "    \"\"\"\n",
    "    Dokumentation...\n",
    "    \"\"\"\n",
    "    c = a + b\n",
    "    print(c)\n",
    "    return c\n",
    "\n",
    "print_sum(3, 4)"
   ]
  },
  {
   "cell_type": "code",
   "execution_count": 7,
   "id": "96151fad-ea4b-4ae0-a6b7-2f9cf5f01753",
   "metadata": {},
   "outputs": [
    {
     "name": "stdout",
     "output_type": "stream",
     "text": [
      "-- print_sum called with arguments (3, 4)\n",
      "7\n",
      "-- print_sum returned 7\n"
     ]
    },
    {
     "data": {
      "text/plain": [
       "'print_sum'"
      ]
     },
     "execution_count": 7,
     "metadata": {},
     "output_type": "execute_result"
    }
   ],
   "source": [
    "##wraps\n",
    "from functools import wraps\n",
    "\n",
    "def print_args_and_result(func):\n",
    "    @wraps(func)\n",
    "    def new_func(*args):\n",
    "        print(\"-- {} called with arguments {}\".format(func.__name__, args))\n",
    "        result = func(*args)\n",
    "        print(\"-- {} returned {}\".format(func.__name__, result))\n",
    "        return result\n",
    "    return new_func\n",
    "\n",
    "\n",
    "@print_args_and_result\n",
    "def print_sum(a, b):\n",
    "    \"\"\"\n",
    "    Calculate the sum of two numbers, print and return the result.\n",
    "\n",
    "    Parameters\n",
    "    ----------\n",
    "    a, b: number\n",
    "        Numbers to add\n",
    "\n",
    "    Returns\n",
    "    -------\n",
    "    number:\n",
    "        The sum of a and b.\n",
    "    \"\"\"\n",
    "    c = a + b\n",
    "    print(c)\n",
    "    return c\n",
    "\n",
    "print_sum(3, 4)\n",
    "\n",
    "print_sum.__name__"
   ]
  },
  {
   "cell_type": "code",
   "execution_count": 8,
   "id": "6f8c258d-6480-41c2-ac48-49f8a2281d70",
   "metadata": {},
   "outputs": [
    {
     "name": "stdout",
     "output_type": "stream",
     "text": [
      "\n",
      "    Calculate the sum of two numbers, print and return the result.\n",
      "\n",
      "    Parameters\n",
      "    ----------\n",
      "    a, b: number\n",
      "        Numbers to add\n",
      "\n",
      "    Returns\n",
      "    -------\n",
      "    number:\n",
      "        The sum of a and b.\n",
      "    \n"
     ]
    }
   ],
   "source": [
    "print(print_sum.__doc__)"
   ]
  },
  {
   "cell_type": "code",
   "execution_count": 9,
   "id": "7067636d-5cf7-49f0-a8b7-522dd8c6aef1",
   "metadata": {},
   "outputs": [
    {
     "name": "stdout",
     "output_type": "stream",
     "text": [
      "65.5 ns ± 0.6 ns per loop (mean ± std. dev. of 7 runs, 10000000 loops each)\n"
     ]
    }
   ],
   "source": [
    "from functools import lru_cache\n",
    "\n",
    "@lru_cache(maxsize=None)\n",
    "def fib(n):\n",
    "    if n <= 1:\n",
    "        return n\n",
    "    else:\n",
    "        return fib(n - 1) + fib(n - 2)\n",
    "\n",
    "%timeit fib(30)\n"
   ]
  },
  {
   "cell_type": "code",
   "execution_count": null,
   "id": "7ceb5b94-38f3-4d3c-bae1-1ba110c58a38",
   "metadata": {},
   "outputs": [],
   "source": []
  },
  {
   "cell_type": "code",
   "execution_count": null,
   "id": "0d661603-9e7f-47a8-ba08-25570acbf153",
   "metadata": {},
   "outputs": [],
   "source": []
  }
 ],
 "metadata": {
  "kernelspec": {
   "display_name": "Python 3",
   "language": "python",
   "name": "python3"
  },
  "language_info": {
   "codemirror_mode": {
    "name": "ipython",
    "version": 3
   },
   "file_extension": ".py",
   "mimetype": "text/x-python",
   "name": "python",
   "nbconvert_exporter": "python",
   "pygments_lexer": "ipython3",
   "version": "3.8.8"
  }
 },
 "nbformat": 4,
 "nbformat_minor": 5
}
