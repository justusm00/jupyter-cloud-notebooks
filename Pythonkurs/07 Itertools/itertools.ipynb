{
 "cells": [
  {
   "cell_type": "code",
   "execution_count": 11,
   "id": "284dc894-a0ca-4b00-8dd4-10d6d5db63ea",
   "metadata": {},
   "outputs": [
    {
     "data": {
      "text/plain": [
       "[0, 1, 4, 9, 16, 25, 36, 49]"
      ]
     },
     "execution_count": 11,
     "metadata": {},
     "output_type": "execute_result"
    }
   ],
   "source": [
    "import itertools as it\n",
    "list(it.takewhile(lambda y: y < 50, (x**2 for x in it.count())))"
   ]
  },
  {
   "cell_type": "code",
   "execution_count": 13,
   "id": "bcc2f486-ec67-4f99-85a6-2fc21893e454",
   "metadata": {},
   "outputs": [
    {
     "data": {
      "text/plain": [
       "[5, 5, 5, 5, 5]"
      ]
     },
     "execution_count": 13,
     "metadata": {},
     "output_type": "execute_result"
    }
   ],
   "source": [
    "##it.repeat\n",
    "bla = list(it.repeat(5,5))\n",
    "bla"
   ]
  },
  {
   "cell_type": "code",
   "execution_count": 14,
   "id": "28b0f006-7072-4cae-9be0-b70c92e9c52b",
   "metadata": {},
   "outputs": [
    {
     "data": {
      "text/plain": [
       "[0, 1, 2, 3, 4, 5, 6, 7, 8, 9]"
      ]
     },
     "execution_count": 14,
     "metadata": {},
     "output_type": "execute_result"
    }
   ],
   "source": [
    "#it.chain\n",
    "it1 = range(0,5,1)\n",
    "it2 = range(5,10,1)\n",
    "blub = list(it.chain(it1,it2))\n",
    "blub"
   ]
  },
  {
   "cell_type": "code",
   "execution_count": 19,
   "id": "08855ed6-f4fe-4a2e-ae7c-cfa60437e9f2",
   "metadata": {},
   "outputs": [
    {
     "data": {
      "text/plain": [
       "[(0, 'a'), (1, 'b'), (2, 'c'), (3, 'd'), (4, 'e'), (5, 'f')]"
      ]
     },
     "execution_count": 19,
     "metadata": {},
     "output_type": "execute_result"
    }
   ],
   "source": [
    "#zip\n",
    "bleb = list(zip(it1,it2))\n",
    "\n",
    "bstr = 'abcdef'\n",
    "list(zip(it.count(), bstr))"
   ]
  },
  {
   "cell_type": "code",
   "execution_count": 22,
   "id": "d228bd17-81ee-43b8-81f7-f5e775c9db3e",
   "metadata": {},
   "outputs": [
    {
     "name": "stdout",
     "output_type": "stream",
     "text": [
      "0 a\n",
      "1 b\n",
      "2 c\n",
      "3 d\n",
      "4 e\n",
      "5 f\n"
     ]
    }
   ],
   "source": [
    "for idx, char in zip(it.count(),bstr):\n",
    "    print(idx, char)"
   ]
  },
  {
   "cell_type": "code",
   "execution_count": 23,
   "id": "a119d46c-31f6-4bf3-8211-0432346e61c6",
   "metadata": {},
   "outputs": [
    {
     "data": {
      "text/plain": [
       "[0, 1, 4, 9, 16, 25, 36, 49, 64, 81]"
      ]
     },
     "execution_count": 23,
     "metadata": {},
     "output_type": "execute_result"
    }
   ],
   "source": [
    "##islice\n",
    "list(it.islice((x**2 for x in it.count()), 10))"
   ]
  },
  {
   "cell_type": "code",
   "execution_count": null,
   "id": "33ceb0d9-5e42-4da5-893b-d5f1d50d2e7e",
   "metadata": {},
   "outputs": [],
   "source": []
  }
 ],
 "metadata": {
  "kernelspec": {
   "display_name": "Python 3",
   "language": "python",
   "name": "python3"
  },
  "language_info": {
   "codemirror_mode": {
    "name": "ipython",
    "version": 3
   },
   "file_extension": ".py",
   "mimetype": "text/x-python",
   "name": "python",
   "nbconvert_exporter": "python",
   "pygments_lexer": "ipython3",
   "version": "3.8.8"
  }
 },
 "nbformat": 4,
 "nbformat_minor": 5
}
