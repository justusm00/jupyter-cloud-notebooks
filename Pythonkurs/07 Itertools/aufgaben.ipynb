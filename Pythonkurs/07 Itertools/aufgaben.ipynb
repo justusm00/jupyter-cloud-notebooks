{
 "cells": [
  {
   "cell_type": "code",
   "execution_count": 8,
   "id": "b36e56a4-fdcd-4e09-bbc3-e896039d0fd8",
   "metadata": {},
   "outputs": [
    {
     "data": {
      "text/plain": [
       "3.141574997021564"
      ]
     },
     "execution_count": 8,
     "metadata": {},
     "output_type": "execute_result"
    }
   ],
   "source": [
    "from itertools import takewhile, islice\n",
    "from numpy.random import random\n",
    "from numpy import pi\n",
    "\n",
    "# Modularere Lösung: Statt die Approximationen in einem einzelnen Iterator zu generieren,\n",
    "# der die Counter selbst verwaltet, werden hier allgemeinere Funktionen eingesetzt. Der\n",
    "# Code ist komplizierter, allerdings ließen sich die Helferfunktionen auch allgemeiner\n",
    "# wiederverwenden.\n",
    "\n",
    "def random_points():\n",
    "    \"\"\"Generate a potentially infinite sequence of points\n",
    "    in the unit square.\n",
    "    \"\"\"\n",
    "    while True:\n",
    "        yield (random(), random())\n",
    "\n",
    "def count_condition(cond, iterator):\n",
    "    \"\"\"Take an iterator and a condition (a function) and produce a new\n",
    "    iterator that counts how often the condition, applied to the iterator's\n",
    "    elements, has been true up to now.\n",
    "    \"\"\"\n",
    "    c = 0\n",
    "    for elem in iterator:\n",
    "        if cond(elem):\n",
    "            c += 1\n",
    "        yield c\n",
    "\n",
    "# Erzeuge Iterator zufälliger Punkte und daraus einen Iterator, der zählt, wie oft die\n",
    "# Punkte im Kreis liegen.\n",
    "in_circle_counts = count_condition(lambda p: p[0]**2 + p[1]**2 < 1, random_points())\n",
    "\n",
    "# enumerate(...) nummeriert die Zählerstände, hier mit 1 beginnend. Der resultierende Iterator\n",
    "# besteht also aus Tupeln (n, count). map(...) berechnet aus diesen Tupeln jeweils die\n",
    "# gesuchten Approximationen.\n",
    "approximations = map(lambda x: 4*x[1]/x[0], enumerate(in_circle_counts, 1))\n",
    "\n",
    "# Wie oben: takewhile und letztes Element bestimmen.\n",
    "for pi_approx in takewhile(lambda x: abs(x - pi) > 1e-6, approximations):\n",
    "    pass\n",
    "pi_approx"
   ]
  },
  {
   "cell_type": "code",
   "execution_count": 9,
   "id": "2fd25328-5ef7-4280-a789-19f06054f649",
   "metadata": {},
   "outputs": [
    {
     "data": {
      "text/plain": [
       "[0, 3, 6, 9, 12, 15, 18]"
      ]
     },
     "execution_count": 9,
     "metadata": {},
     "output_type": "execute_result"
    }
   ],
   "source": [
    "##ue2\n",
    "\n",
    "from itertools import cycle\n",
    "\n",
    "def every_nth(it, n):\n",
    "    cyc = cycle(range(n))\n",
    "    return (x for (k, x) in zip(cyc, it) if k == 0)\n",
    "\n",
    "list(every_nth(range(20), 3))"
   ]
  },
  {
   "cell_type": "code",
   "execution_count": 10,
   "id": "478dd3f0-a16a-4e7a-9cc6-e4dcc6e961c6",
   "metadata": {},
   "outputs": [
    {
     "data": {
      "text/plain": [
       "[0, 3, 6, 9, 12, 15, 18]"
      ]
     },
     "execution_count": 10,
     "metadata": {},
     "output_type": "execute_result"
    }
   ],
   "source": [
    "def every_nth(it, n):\n",
    "    k = 0\n",
    "    for x in it:\n",
    "        if k == 0:\n",
    "            yield x\n",
    "        k = (k + 1) % n\n",
    "\n",
    "list(every_nth(range(20), 3))"
   ]
  },
  {
   "cell_type": "code",
   "execution_count": null,
   "id": "3f573006-b7d6-4e72-8f2b-cfa8a7471fa1",
   "metadata": {},
   "outputs": [],
   "source": []
  }
 ],
 "metadata": {
  "kernelspec": {
   "display_name": "Python 3",
   "language": "python",
   "name": "python3"
  },
  "language_info": {
   "codemirror_mode": {
    "name": "ipython",
    "version": 3
   },
   "file_extension": ".py",
   "mimetype": "text/x-python",
   "name": "python",
   "nbconvert_exporter": "python",
   "pygments_lexer": "ipython3",
   "version": "3.8.8"
  }
 },
 "nbformat": 4,
 "nbformat_minor": 5
}
