{
 "cells": [
  {
   "cell_type": "code",
   "execution_count": 10,
   "id": "43d48dad-d0c6-4818-b0b6-969b53bdd56b",
   "metadata": {},
   "outputs": [
    {
     "name": "stdout",
     "output_type": "stream",
     "text": [
      "a\n",
      "b\n"
     ]
    }
   ],
   "source": [
    "alphabet = ['a','b','c','c','d','e','e']\n",
    "alphabet.pop(3)\n",
    "'f' in alphabet\n",
    "alphabet.append('f')\n",
    "alphabet.pop(5)\n",
    "a, b = alphabet[:2]\n",
    "\n",
    "print(a)\n",
    "print(b)\n"
   ]
  },
  {
   "cell_type": "code",
   "execution_count": null,
   "id": "4e75c4c2-901f-4348-afe0-0ab2ebfd4bbf",
   "metadata": {},
   "outputs": [],
   "source": []
  }
 ],
 "metadata": {
  "kernelspec": {
   "display_name": "Python 3",
   "language": "python",
   "name": "python3"
  },
  "language_info": {
   "codemirror_mode": {
    "name": "ipython",
    "version": 3
   },
   "file_extension": ".py",
   "mimetype": "text/x-python",
   "name": "python",
   "nbconvert_exporter": "python",
   "pygments_lexer": "ipython3",
   "version": "3.8.8"
  }
 },
 "nbformat": 4,
 "nbformat_minor": 5
}
