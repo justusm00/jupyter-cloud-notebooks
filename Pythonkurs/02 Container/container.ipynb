{
 "cells": [
  {
   "cell_type": "code",
   "execution_count": 21,
   "id": "006c77f4-5053-48c4-96ad-351357c122d8",
   "metadata": {},
   "outputs": [
    {
     "data": {
      "text/plain": [
       "[1, 2, 3, 4, 'hallo', False]"
      ]
     },
     "execution_count": 21,
     "metadata": {},
     "output_type": "execute_result"
    }
   ],
   "source": [
    "a = [1,2,3,4,\"hallo\",False,1j]\n",
    "a[0:-1]"
   ]
  },
  {
   "cell_type": "code",
   "execution_count": 22,
   "id": "e31d2c2d-4848-490e-88f7-777a231ff84d",
   "metadata": {},
   "outputs": [
    {
     "data": {
      "text/plain": [
       "[2, 3, 4, 'hallo', False, 1j]"
      ]
     },
     "execution_count": 22,
     "metadata": {},
     "output_type": "execute_result"
    }
   ],
   "source": [
    "a[1:]"
   ]
  },
  {
   "cell_type": "code",
   "execution_count": 23,
   "id": "f8a2f28a-3cdf-4844-9489-b77ed58695d6",
   "metadata": {},
   "outputs": [
    {
     "data": {
      "text/plain": [
       "[1, 2, 3, 4, 'hallo', False, 1j]"
      ]
     },
     "execution_count": 23,
     "metadata": {},
     "output_type": "execute_result"
    }
   ],
   "source": [
    "a[:]"
   ]
  },
  {
   "cell_type": "code",
   "execution_count": 24,
   "id": "19999ef6-ea2a-4b76-9d30-a16bae44b7c4",
   "metadata": {},
   "outputs": [
    {
     "data": {
      "text/plain": [
       "[1, 3, 'hallo']"
      ]
     },
     "execution_count": 24,
     "metadata": {},
     "output_type": "execute_result"
    }
   ],
   "source": [
    "a[0:-1:2]"
   ]
  },
  {
   "cell_type": "code",
   "execution_count": 25,
   "id": "08bdbdf2-1b50-42d3-b1dd-498f6bafd765",
   "metadata": {},
   "outputs": [
    {
     "data": {
      "text/plain": [
       "[1, 3, 'hallo', 1j]"
      ]
     },
     "execution_count": 25,
     "metadata": {},
     "output_type": "execute_result"
    }
   ],
   "source": [
    "a[::2]"
   ]
  },
  {
   "cell_type": "code",
   "execution_count": 26,
   "id": "858e3c89-cbdf-4144-8e67-b08c2fdff5cb",
   "metadata": {},
   "outputs": [
    {
     "data": {
      "text/plain": [
       "[2, 4, False]"
      ]
     },
     "execution_count": 26,
     "metadata": {},
     "output_type": "execute_result"
    }
   ],
   "source": [
    "a[1::2]"
   ]
  },
  {
   "cell_type": "code",
   "execution_count": 27,
   "id": "ba527186-3a1c-40ca-8331-01d9f9a5c584",
   "metadata": {},
   "outputs": [
    {
     "data": {
      "text/plain": [
       "' mama'"
      ]
     },
     "execution_count": 27,
     "metadata": {},
     "output_type": "execute_result"
    }
   ],
   "source": [
    "s = \"joe mama\"\n",
    "s[3:]"
   ]
  },
  {
   "cell_type": "code",
   "execution_count": 28,
   "id": "aeacfbc1-59f7-4afa-bc06-85983822f765",
   "metadata": {},
   "outputs": [
    {
     "data": {
      "text/plain": [
       "[1, 2, 3, 4, 'hallo', False, 1j, 'm', 5, (3+6j)]"
      ]
     },
     "execution_count": 28,
     "metadata": {},
     "output_type": "execute_result"
    }
   ],
   "source": [
    "longlist = a + [\"m\",5,6j+3]\n",
    "longlist"
   ]
  },
  {
   "cell_type": "code",
   "execution_count": 29,
   "id": "cbfd6c33-9132-4936-ab67-7e9568850642",
   "metadata": {},
   "outputs": [
    {
     "data": {
      "text/plain": [
       "True"
      ]
     },
     "execution_count": 29,
     "metadata": {},
     "output_type": "execute_result"
    }
   ],
   "source": [
    "4 in longlist\n"
   ]
  },
  {
   "cell_type": "code",
   "execution_count": 31,
   "id": "527469e5-29cd-4c8f-80c2-d34f1efe3942",
   "metadata": {},
   "outputs": [
    {
     "data": {
      "text/plain": [
       "[5, 3]"
      ]
     },
     "execution_count": 31,
     "metadata": {},
     "output_type": "execute_result"
    }
   ],
   "source": [
    "##append und pop\n",
    "a = []\n",
    "a.append(5)\n",
    "a.append(3)\n",
    "a"
   ]
  },
  {
   "cell_type": "code",
   "execution_count": 39,
   "id": "0d45c6e3-fdd8-4d2c-aca6-0a95d3f3ba51",
   "metadata": {},
   "outputs": [
    {
     "data": {
      "text/plain": [
       "[2, 3]"
      ]
     },
     "execution_count": 39,
     "metadata": {},
     "output_type": "execute_result"
    }
   ],
   "source": [
    "a = [1,2,3,4]\n",
    "a.pop() ##entfernt element und liefert dieses zurück\n",
    "a.remove(1)\n",
    "a"
   ]
  },
  {
   "cell_type": "code",
   "execution_count": 43,
   "id": "e2449ff1-aa7e-46c0-848d-877123b786b8",
   "metadata": {},
   "outputs": [
    {
     "data": {
      "text/plain": [
       "[-1234, -7, -6, -5, 1, 3.142857142857143, 1341324]"
      ]
     },
     "execution_count": 43,
     "metadata": {},
     "output_type": "execute_result"
    }
   ],
   "source": [
    "##sort\n",
    "bla = [-6,1,-5,-7,1341324,-1234,22/7]\n",
    "bla.sort\n",
    "blu = sorted(bla)\n",
    "blu"
   ]
  },
  {
   "cell_type": "code",
   "execution_count": 44,
   "id": "599d30d9-76c4-431e-be79-cf2bb110ca94",
   "metadata": {},
   "outputs": [
    {
     "data": {
      "text/plain": [
       "[1, 2, 3, 4]"
      ]
     },
     "execution_count": 44,
     "metadata": {},
     "output_type": "execute_result"
    }
   ],
   "source": [
    "a = [1, 2, 3]\n",
    "b = a\n",
    "b.append(4)\n",
    "b"
   ]
  },
  {
   "cell_type": "code",
   "execution_count": 45,
   "id": "29d92ae2-f7c5-495f-8f3c-7700f2cf1c47",
   "metadata": {},
   "outputs": [
    {
     "data": {
      "text/plain": [
       "[1, 2, 3, 4]"
      ]
     },
     "execution_count": 45,
     "metadata": {},
     "output_type": "execute_result"
    }
   ],
   "source": [
    "a"
   ]
  },
  {
   "cell_type": "code",
   "execution_count": 47,
   "id": "1132e2ec-46ef-40e8-b08e-a4eb6d2aac31",
   "metadata": {},
   "outputs": [
    {
     "data": {
      "text/plain": [
       "tuple"
      ]
     },
     "execution_count": 47,
     "metadata": {},
     "output_type": "execute_result"
    }
   ],
   "source": [
    "type((0,1,2))\n",
    "#tupel sind nicht veränderlich"
   ]
  },
  {
   "cell_type": "code",
   "execution_count": 48,
   "id": "4eff0202-e8ee-4159-8d91-a311f58081a0",
   "metadata": {},
   "outputs": [
    {
     "data": {
      "text/plain": [
       "3"
      ]
     },
     "execution_count": 48,
     "metadata": {},
     "output_type": "execute_result"
    }
   ],
   "source": [
    "a = (0,1,2,3,4)\n",
    "a[3]"
   ]
  },
  {
   "cell_type": "code",
   "execution_count": 51,
   "id": "8592bc66-fbfb-482e-9a64-d9ecdc108375",
   "metadata": {},
   "outputs": [
    {
     "data": {
      "text/plain": [
       "1"
      ]
     },
     "execution_count": 51,
     "metadata": {},
     "output_type": "execute_result"
    }
   ],
   "source": [
    "tup = (1,2,3,4,5)\n",
    "a,b,c,d,e = tup\n",
    "a"
   ]
  },
  {
   "cell_type": "code",
   "execution_count": 60,
   "id": "4ade993a-e992-4a61-bc85-98e3de42b5c5",
   "metadata": {},
   "outputs": [
    {
     "data": {
      "text/plain": [
       "{1: 10,\n",
       " 'Bobby Tables': [True, False, 'Neihter'],\n",
       " (1, 2, 3): (1+5j),\n",
       " 2: 20,\n",
       " 'sdfjhj': 9}"
      ]
     },
     "execution_count": 60,
     "metadata": {},
     "output_type": "execute_result"
    }
   ],
   "source": [
    "d = {1: 10, 'Bobby Tables': [True, False], (1, 2, 3): 1+5j}\n",
    "d[1]\n",
    "d['Bobby Tables']\n",
    "d[2] = 20\n",
    "d['sdfjhj'] = 9\n",
    "d['Bobby Tables'].append('Neihter')\n",
    "d\n",
    "d"
   ]
  },
  {
   "cell_type": "code",
   "execution_count": null,
   "id": "d2512a8e-35f8-4485-b2c9-0e2d1400d7e5",
   "metadata": {},
   "outputs": [],
   "source": []
  }
 ],
 "metadata": {
  "kernelspec": {
   "display_name": "Python 3",
   "language": "python",
   "name": "python3"
  },
  "language_info": {
   "codemirror_mode": {
    "name": "ipython",
    "version": 3
   },
   "file_extension": ".py",
   "mimetype": "text/x-python",
   "name": "python",
   "nbconvert_exporter": "python",
   "pygments_lexer": "ipython3",
   "version": "3.8.8"
  }
 },
 "nbformat": 4,
 "nbformat_minor": 5
}
