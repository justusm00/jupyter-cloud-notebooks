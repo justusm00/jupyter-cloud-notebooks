{
 "cells": [
  {
   "cell_type": "code",
   "execution_count": 5,
   "id": "7a24347c-677b-4736-8522-038f18fb19e5",
   "metadata": {},
   "outputs": [
    {
     "data": {
      "text/plain": [
       "[('a', 1), ('b', 2), ('c', 3)]"
      ]
     },
     "execution_count": 5,
     "metadata": {},
     "output_type": "execute_result"
    }
   ],
   "source": [
    "sheesh = [('a',1),('b',2)]\n",
    "sheesh.append(('c',3))\n",
    "sheesh"
   ]
  },
  {
   "cell_type": "code",
   "execution_count": 7,
   "id": "ad0cf4d0-ecef-4333-96f2-eeada98c92e2",
   "metadata": {},
   "outputs": [
    {
     "data": {
      "text/plain": [
       "{'a': 1, 'b': 2, 'c': 3}"
      ]
     },
     "execution_count": 7,
     "metadata": {},
     "output_type": "execute_result"
    }
   ],
   "source": [
    "dicti = {'a':1,'b':2,'c':3}\n",
    "dicti"
   ]
  },
  {
   "cell_type": "code",
   "execution_count": 14,
   "id": "c096502c-f909-4962-9c15-8371b967f81e",
   "metadata": {},
   "outputs": [
    {
     "name": "stdout",
     "output_type": "stream",
     "text": [
      "Der Buchstabe a hat den Wert 1\n",
      "Der Buchstabe a hat den Wert 1\n"
     ]
    }
   ],
   "source": [
    "print(f\"Der Buchstabe {sheesh[0][0]} hat den Wert {sheesh[0][1]}\")\n",
    "print(f\"Der Buchstabe a hat den Wert {dicti['a']}\")"
   ]
  },
  {
   "cell_type": "code",
   "execution_count": null,
   "id": "2e32e41e-95e1-49e2-ba67-52ef2e483267",
   "metadata": {},
   "outputs": [],
   "source": []
  }
 ],
 "metadata": {
  "kernelspec": {
   "display_name": "Python 3",
   "language": "python",
   "name": "python3"
  },
  "language_info": {
   "codemirror_mode": {
    "name": "ipython",
    "version": 3
   },
   "file_extension": ".py",
   "mimetype": "text/x-python",
   "name": "python",
   "nbconvert_exporter": "python",
   "pygments_lexer": "ipython3",
   "version": "3.8.8"
  }
 },
 "nbformat": 4,
 "nbformat_minor": 5
}
