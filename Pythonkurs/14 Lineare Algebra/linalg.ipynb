{
 "cells": [
  {
   "cell_type": "code",
   "execution_count": 7,
   "id": "f397bf56-0abd-4bc5-80ec-50d5f12d72e0",
   "metadata": {},
   "outputs": [],
   "source": [
    "import numpy as np\n",
    "import numpy.linalg as npl\n",
    "import scipy.linalg as spl\n",
    "\n",
    "v = 0"
   ]
  },
  {
   "cell_type": "code",
   "execution_count": 17,
   "id": "bd1c1e80-6e20-4fab-9417-96cfc97bd3c9",
   "metadata": {},
   "outputs": [
    {
     "data": {
      "text/plain": [
       "array([0., 1., 2., 3., 4.])"
      ]
     },
     "execution_count": 17,
     "metadata": {},
     "output_type": "execute_result"
    }
   ],
   "source": [
    "a = np.arange(5)\n",
    "mat = np.diag((np.ones(5)))\n",
    "a @ mat"
   ]
  },
  {
   "cell_type": "code",
   "execution_count": 20,
   "id": "55749f6d-8722-40d6-8b2c-30913f04a0f5",
   "metadata": {},
   "outputs": [
    {
     "name": "stdout",
     "output_type": "stream",
     "text": [
      "[[[  70   76   82   88   94]\n",
      "  [ 190  212  234  256  278]\n",
      "  [ 310  348  386  424  462]]\n",
      "\n",
      " [[1510 1564 1618 1672 1726]\n",
      "  [1950 2020 2090 2160 2230]\n",
      "  [2390 2476 2562 2648 2734]]]\n"
     ]
    },
    {
     "data": {
      "text/plain": [
       "(2, 3, 5)"
      ]
     },
     "execution_count": 20,
     "metadata": {},
     "output_type": "execute_result"
    }
   ],
   "source": [
    "a = np.arange(24).reshape((2,3,4))\n",
    "b = np.arange(40).reshape((2,4,5))\n",
    "print(a @ b)\n",
    "(a @ b).shape"
   ]
  },
  {
   "cell_type": "code",
   "execution_count": 34,
   "id": "583f1670-929a-4e8b-a53a-ad181609203f",
   "metadata": {},
   "outputs": [
    {
     "data": {
      "text/plain": [
       "array([[0, 1, 2],\n",
       "       [3, 4, 5],\n",
       "       [6, 7, 8]])"
      ]
     },
     "execution_count": 34,
     "metadata": {},
     "output_type": "execute_result"
    }
   ],
   "source": [
    "A = np.arange(9).reshape((3, 3))\n",
    "npl.det(A)\n",
    "A"
   ]
  },
  {
   "cell_type": "code",
   "execution_count": 35,
   "id": "eec46a89-e53c-4a4a-b803-55cb8c6dc145",
   "metadata": {},
   "outputs": [
    {
     "name": "stdout",
     "output_type": "stream",
     "text": [
      "[ 1.33484692e+01 -1.34846923e+00 -2.48477279e-16]\n",
      "[[ 0.16476382  0.79969966  0.40824829]\n",
      " [ 0.50577448  0.10420579 -0.81649658]\n",
      " [ 0.84678513 -0.59128809  0.40824829]]\n"
     ]
    }
   ],
   "source": [
    "b, W = npl.eig(A)\n",
    "print(b)\n",
    "print(W)"
   ]
  },
  {
   "cell_type": "code",
   "execution_count": 36,
   "id": "056a13e8-1703-432a-b49b-2ba3573b0369",
   "metadata": {},
   "outputs": [
    {
     "name": "stdout",
     "output_type": "stream",
     "text": [
      "A = \n",
      " [[ 1. -1.  0.]\n",
      " [ 0.  1. -1.]\n",
      " [ 0.  0.  1.]]\n",
      "A^(-1) = \n",
      " [[1. 1. 1.]\n",
      " [0. 1. 1.]\n",
      " [0. 0. 1.]]\n",
      "A^(-1) * A = \n",
      " [[1. 0. 0.]\n",
      " [0. 1. 0.]\n",
      " [0. 0. 1.]]\n",
      "A * A^(-1) = \n",
      " [[1. 0. 0.]\n",
      " [0. 1. 0.]\n",
      " [0. 0. 1.]]\n"
     ]
    }
   ],
   "source": [
    "A = np.diag(np.ones(3)) - np.diag(np.ones(2), 1)\n",
    "print(f'A = \\n {A}')\n",
    "\n",
    "iA = spl.inv(A)\n",
    "print(f'A^(-1) = \\n {iA}')\n",
    "print(f'A^(-1) * A = \\n {iA @ A}')\n",
    "print(f'A * A^(-1) = \\n {A @ iA}')"
   ]
  },
  {
   "cell_type": "code",
   "execution_count": 37,
   "id": "ad427f2d-8fca-40f2-91f5-9e094d6f0e0c",
   "metadata": {},
   "outputs": [
    {
     "data": {
      "text/plain": [
       "array([1., 1., 1., 1., 1., 1., 1., 1., 1., 1.])"
      ]
     },
     "execution_count": 37,
     "metadata": {},
     "output_type": "execute_result"
    }
   ],
   "source": [
    "A = np.diag(np.ones(10)) - np.diag(np.ones(9), 1)\n",
    "x = np.ones(10)\n",
    "\n",
    "y = A @ x\n",
    "\n",
    "# Lösen; sollte `== x` sein\n",
    "spl.solve(A, y)"
   ]
  },
  {
   "cell_type": "code",
   "execution_count": 38,
   "id": "9ec483bf-fd98-4133-b196-e8bd2ce6bd16",
   "metadata": {},
   "outputs": [
    {
     "data": {
      "text/plain": [
       "1.4957014723432323e+18"
      ]
     },
     "execution_count": 38,
     "metadata": {},
     "output_type": "execute_result"
    }
   ],
   "source": [
    "H = spl.hilbert(20)\n",
    "npl.cond(H)"
   ]
  },
  {
   "cell_type": "code",
   "execution_count": 39,
   "id": "85232b66-97d4-439e-b19f-e9b2a03ebe4c",
   "metadata": {},
   "outputs": [
    {
     "name": "stdout",
     "output_type": "stream",
     "text": [
      "error in y = 1.4502495531331887e-06\n",
      "[ 1.00161940e+00  8.69923607e-01  4.40401617e+00 -4.17948892e+01\n",
      "  3.04548730e+02 -1.30790421e+03  3.48796151e+03 -5.33187283e+03\n",
      "  2.74709993e+03  5.25123570e+03 -9.45324535e+03 -6.15672929e+02\n",
      "  1.52821321e+04 -9.43653740e+03 -1.78178268e+04  3.38874900e+04\n",
      " -2.18189283e+04  3.22762743e+03  2.58973788e+03 -9.40326233e+02]\n",
      "error in x = 11067.447054265858\n"
     ]
    },
    {
     "name": "stderr",
     "output_type": "stream",
     "text": [
      "<ipython-input-39-3a108213ad50>:11: LinAlgWarning: Ill-conditioned matrix (rcond=1.48818e-19): result may not be accurate.\n",
      "  x_approx = spl.solve(H, y_approx)\n"
     ]
    }
   ],
   "source": [
    "x = np.ones(20)\n",
    "# erzeuge rechte Seite\n",
    "y = H @ x\n",
    "\n",
    "# Addiere kleinen Fehler auf die rechte Seite\n",
    "y_approx = y.copy()\n",
    "y_approx[0] = y_approx[0] + 1e-5\n",
    "print(f'error in y = {npl.norm(y_approx - y) / npl.norm(y)}')\n",
    "\n",
    "# Gleichungssystem lösen, um eine Lösung x zu erhalten\n",
    "x_approx = spl.solve(H, y_approx)\n",
    "print(x_approx)\n",
    "print(f'error in x = {npl.norm(x_approx - x) / npl.norm(x)}')"
   ]
  },
  {
   "cell_type": "code",
   "execution_count": 42,
   "id": "9763d075-a5ea-43d0-84e4-f65ee677d311",
   "metadata": {},
   "outputs": [
    {
     "data": {
      "text/plain": [
       "1.1102230246251565"
      ]
     },
     "execution_count": 42,
     "metadata": {},
     "output_type": "execute_result"
    }
   ],
   "source": [
    "x = 1e-15\n",
    "((x+1) - 1) / x\n"
   ]
  },
  {
   "cell_type": "code",
   "execution_count": 43,
   "id": "a845f9e3-4a8c-4495-93ff-77685d60015c",
   "metadata": {},
   "outputs": [
    {
     "data": {
      "text/plain": [
       "array([[ 1.        ,  0.5       ,  0.33333333],\n",
       "       [ 0.        ,  0.08333333,  0.08888889],\n",
       "       [ 0.        ,  0.        , -0.00555556]])"
      ]
     },
     "execution_count": 43,
     "metadata": {},
     "output_type": "execute_result"
    }
   ],
   "source": [
    "P, L, U = spl.lu(spl.hilbert(3))\n",
    "U"
   ]
  },
  {
   "cell_type": "code",
   "execution_count": null,
   "id": "028b54f8-66e4-4d95-bb05-ddc9008a9b68",
   "metadata": {},
   "outputs": [],
   "source": []
  }
 ],
 "metadata": {
  "kernelspec": {
   "display_name": "Python 3",
   "language": "python",
   "name": "python3"
  },
  "language_info": {
   "codemirror_mode": {
    "name": "ipython",
    "version": 3
   },
   "file_extension": ".py",
   "mimetype": "text/x-python",
   "name": "python",
   "nbconvert_exporter": "python",
   "pygments_lexer": "ipython3",
   "version": "3.8.8"
  }
 },
 "nbformat": 4,
 "nbformat_minor": 5
}
