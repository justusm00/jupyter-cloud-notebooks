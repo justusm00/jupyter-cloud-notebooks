{
 "cells": [
  {
   "cell_type": "code",
   "execution_count": 2,
   "id": "6cad5c16-df26-48cd-a569-e18be07f81ac",
   "metadata": {},
   "outputs": [
    {
     "name": "stdout",
     "output_type": "stream",
     "text": [
      "(1.2000000000000002, 0.6000000000000001, -0.4)\n",
      "[1.4 0.4 0.2]\n",
      "[1.4 0.4 0.2]\n"
     ]
    }
   ],
   "source": [
    "import numpy as np\n",
    "##ue2\n",
    "e0 = np.array([2, 1, -1])\n",
    "el = np.array([1, -1, -1])\n",
    "em = np.array([-3, 1, 4])\n",
    "\n",
    "g0 = np.array([3, 0, 1])\n",
    "gk = np.array([4, -1, 2])\n",
    "\n",
    "A = np.array([el, em, -gk]).T\n",
    "rhs = g0 - e0\n",
    "\n",
    "l, m, k = np.linalg.solve(A, rhs)\n",
    "print((l, m, k))\n",
    "\n",
    "print(e0 + l*el + m*em)\n",
    "print(g0 + k*gk)"
   ]
  },
  {
   "cell_type": "code",
   "execution_count": 19,
   "id": "c9acaa5d-7eea-4660-bb28-443e3b233eb1",
   "metadata": {},
   "outputs": [
    {
     "name": "stdout",
     "output_type": "stream",
     "text": [
      "[[1.         0.5        0.33333333 0.25      ]\n",
      " [0.5        0.33333333 0.25       0.2       ]\n",
      " [0.33333333 0.25       0.2        0.16666667]\n",
      " [0.25       0.2        0.16666667 0.14285714]]\n",
      "15513.738738928929\n"
     ]
    }
   ],
   "source": [
    "##ue3\n",
    "def hilberto(n):\n",
    "    j = np.arange(n)\n",
    "    i = j[:, None]\n",
    "    return 1 / (i + j + 1)\n",
    "\n",
    "H = hilberto(4)\n",
    "\n",
    "print(H)\n",
    "\n",
    "print(np.linalg.cond(H))"
   ]
  },
  {
   "cell_type": "code",
   "execution_count": 21,
   "id": "55056d6c-c04f-4f66-8913-258fbc261b05",
   "metadata": {},
   "outputs": [
    {
     "name": "stdout",
     "output_type": "stream",
     "text": [
      "2.220446049250313e-16\n"
     ]
    }
   ],
   "source": [
    "##ue4\n",
    "x1 = np.array([0, 1, 0, 1])\n",
    "x2 = np.array([1, 2, 3, 4])\n",
    "x3 = np.array([1, 0, 1, 0])\n",
    "x4 = np.array([0, 0, 1, 1])\n",
    "\n",
    "A = np.array([x1, x2, x3, x4])\n",
    "\n",
    "from scipy.linalg import det\n",
    "\n",
    "# 1. Option: Determinante ist 0\n",
    "print(det(A))"
   ]
  },
  {
   "cell_type": "code",
   "execution_count": null,
   "id": "e23c0c64-76bd-4cc1-a29d-1af7232da792",
   "metadata": {},
   "outputs": [],
   "source": []
  }
 ],
 "metadata": {
  "kernelspec": {
   "display_name": "Python 3",
   "language": "python",
   "name": "python3"
  },
  "language_info": {
   "codemirror_mode": {
    "name": "ipython",
    "version": 3
   },
   "file_extension": ".py",
   "mimetype": "text/x-python",
   "name": "python",
   "nbconvert_exporter": "python",
   "pygments_lexer": "ipython3",
   "version": "3.8.8"
  }
 },
 "nbformat": 4,
 "nbformat_minor": 5
}
