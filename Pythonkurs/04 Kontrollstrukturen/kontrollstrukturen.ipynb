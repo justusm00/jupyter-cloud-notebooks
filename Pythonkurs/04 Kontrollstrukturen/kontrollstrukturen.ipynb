{
 "cells": [
  {
   "cell_type": "code",
   "execution_count": 1,
   "id": "5c1f10f1-cb90-48de-ace9-bbaedabb1617",
   "metadata": {},
   "outputs": [
    {
     "name": "stdout",
     "output_type": "stream",
     "text": [
      "1\n",
      "zwei\n",
      "3j\n"
     ]
    }
   ],
   "source": [
    "##Listeniteration\n",
    "for val in [1, 'zwei', 3j]:\n",
    "    print(val)"
   ]
  },
  {
   "cell_type": "code",
   "execution_count": 2,
   "id": "92684da7-0654-49d2-aaa4-8cd7bad583c9",
   "metadata": {},
   "outputs": [
    {
     "name": "stdout",
     "output_type": "stream",
     "text": [
      "1 => eins\n",
      "2 => zwei\n"
     ]
    }
   ],
   "source": [
    "##dictionaryiteration\n",
    "d = {1: 'eins', 2: 'zwei'}\n",
    "for key in d:\n",
    "    print('{0} => {1}'.format(key, d[key]))"
   ]
  },
  {
   "cell_type": "code",
   "execution_count": 3,
   "id": "8e8623e2-6819-46d6-a9ab-5914637a46da",
   "metadata": {},
   "outputs": [
    {
     "name": "stdout",
     "output_type": "stream",
     "text": [
      "1 => eins\n",
      "2 => zwei\n"
     ]
    }
   ],
   "source": [
    "##items methode\n",
    "for key, val in d.items():\n",
    "    print('{0} => {1}'.format(key, val))"
   ]
  },
  {
   "cell_type": "code",
   "execution_count": 6,
   "id": "f251a86e-9896-45c5-b749-384af16d280c",
   "metadata": {},
   "outputs": [
    {
     "name": "stdout",
     "output_type": "stream",
     "text": [
      "5\n",
      "10\n",
      "15\n"
     ]
    }
   ],
   "source": [
    "##range\n",
    "for i in range(5,20,5): ##start ,stop, stepsize\n",
    "    print(i)"
   ]
  },
  {
   "cell_type": "code",
   "execution_count": 7,
   "id": "bc5fd135-3ded-4d47-8db6-2efd868dce9e",
   "metadata": {},
   "outputs": [
    {
     "name": "stdout",
     "output_type": "stream",
     "text": [
      "0 -> a\n",
      "1 -> b\n",
      "2 -> c\n",
      "3 -> d\n",
      "4 -> e\n",
      "5 -> f\n"
     ]
    }
   ],
   "source": [
    "##enumerate(liste)\n",
    "for idx, val in enumerate('abcdef'):\n",
    "    print('{0} -> {1}'.format(idx, val))"
   ]
  },
  {
   "cell_type": "code",
   "execution_count": 8,
   "id": "21c819b8-5357-4d21-ac42-908ab83f9b8e",
   "metadata": {},
   "outputs": [
    {
     "name": "stdout",
     "output_type": "stream",
     "text": [
      "Start\n",
      "Loop: n = -1\n",
      "  s = -1\n",
      "Loop: n = -4\n",
      "  s = -5\n",
      "Loop: n = 3\n",
      "  s = -2\n",
      "Loop: n = 8\n",
      "  s = 6\n",
      "Fertig\n"
     ]
    },
    {
     "data": {
      "text/plain": [
       "6"
      ]
     },
     "execution_count": 8,
     "metadata": {},
     "output_type": "execute_result"
    }
   ],
   "source": [
    "def calculate_sum(numbers):\n",
    "    print('Start')\n",
    "    s = 0\n",
    "    for n in numbers:\n",
    "        print(f'Loop: n = {n}')\n",
    "        s = s + n\n",
    "        print(f'  s = {s}')\n",
    "    print('Fertig')\n",
    "    return s\n",
    "\n",
    "calculate_sum([-1, -4, 3, 8])"
   ]
  },
  {
   "cell_type": "code",
   "execution_count": 9,
   "id": "e556ff92-91d2-4cd3-a600-bec57d8cdcf7",
   "metadata": {},
   "outputs": [
    {
     "name": "stdout",
     "output_type": "stream",
     "text": [
      "Start\n",
      "Loop: n = 24 m = 42\n",
      "  m ist größer\n",
      "Loop: n = 24 m = 18\n",
      "  n ist größer\n",
      "Loop: n = 6 m = 18\n",
      "  m ist größer\n",
      "Loop: n = 6 m = 12\n",
      "  m ist größer\n",
      "Fertig: n = m = 6\n"
     ]
    },
    {
     "data": {
      "text/plain": [
       "6"
      ]
     },
     "execution_count": 9,
     "metadata": {},
     "output_type": "execute_result"
    }
   ],
   "source": [
    "def ggt(n, m):\n",
    "    print('Start')\n",
    "    while n != m:\n",
    "        print(f'Loop: n = {n} m = {m}')\n",
    "        if n > m:\n",
    "            print('  n ist größer')\n",
    "            n = n - m\n",
    "        else:\n",
    "            print('  m ist größer')\n",
    "            m = m - n\n",
    "    print(f'Fertig: n = m = {n}')\n",
    "    return n\n",
    "\n",
    "ggt(24, 42)"
   ]
  },
  {
   "cell_type": "code",
   "execution_count": 10,
   "id": "f5a93352-810a-43eb-bbd0-5aa543e7b6d9",
   "metadata": {},
   "outputs": [
    {
     "data": {
      "text/plain": [
       "1.4142135968022693"
      ]
     },
     "execution_count": 10,
     "metadata": {},
     "output_type": "execute_result"
    }
   ],
   "source": [
    "def fixpoint(f, x0, eps=1e-5):\n",
    "    x = x0\n",
    "    while True:\n",
    "        # Bevor man die Abbruchbedingung überprüfen kann, muss erst f(x) berechnet werden.\n",
    "        y = f(x)\n",
    "        if abs(y - x) < eps:\n",
    "            break\n",
    "        x = y\n",
    "    return x\n",
    "\n",
    "def f(x):\n",
    "    return 1/x + x/2\n",
    "fixpoint(f, 10)"
   ]
  },
  {
   "cell_type": "code",
   "execution_count": null,
   "id": "9d6b41e3-8a85-4ccf-8a55-20d8665f4acc",
   "metadata": {},
   "outputs": [],
   "source": []
  }
 ],
 "metadata": {
  "kernelspec": {
   "display_name": "Python 3",
   "language": "python",
   "name": "python3"
  },
  "language_info": {
   "codemirror_mode": {
    "name": "ipython",
    "version": 3
   },
   "file_extension": ".py",
   "mimetype": "text/x-python",
   "name": "python",
   "nbconvert_exporter": "python",
   "pygments_lexer": "ipython3",
   "version": "3.8.8"
  }
 },
 "nbformat": 4,
 "nbformat_minor": 5
}
