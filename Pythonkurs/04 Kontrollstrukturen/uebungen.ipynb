{
 "cells": [
  {
   "cell_type": "code",
   "execution_count": 4,
   "id": "c56339c4-d3e6-45e5-aee5-6e397da5cd1d",
   "metadata": {},
   "outputs": [
    {
     "data": {
      "text/plain": [
       "[0, 2, 6, 12, 20, 30, 42, 56, 72, 90]"
      ]
     },
     "execution_count": 4,
     "metadata": {},
     "output_type": "execute_result"
    }
   ],
   "source": [
    "##ue1\n",
    "def squared(x):\n",
    "    return x*x\n",
    "\n",
    "def difference(x,y):\n",
    "    return x-y\n",
    "\n",
    "[difference(squared(x),x) for x in range(1,11)]"
   ]
  },
  {
   "cell_type": "code",
   "execution_count": 5,
   "id": "0b6d6746-9670-4979-827c-fac4720829ee",
   "metadata": {},
   "outputs": [
    {
     "data": {
      "text/plain": [
       "10"
      ]
     },
     "execution_count": 5,
     "metadata": {},
     "output_type": "execute_result"
    }
   ],
   "source": [
    "##ue2\n",
    "def summ(liste):\n",
    "    return sum(liste)\n",
    "\n",
    "summ([1,2,3,4])"
   ]
  },
  {
   "cell_type": "code",
   "execution_count": 10,
   "id": "b4a715a7-a569-4ff6-aa4e-021327874add",
   "metadata": {},
   "outputs": [
    {
     "name": "stdout",
     "output_type": "stream",
     "text": [
      "[0, 42, 84, 126, 168, 210, 252, 294, 336, 378, 420, 462, 504, 546, 588, 630, 672, 714, 756, 798, 840, 882, 924, 966]\n",
      "24\n"
     ]
    }
   ],
   "source": [
    "##ue3\n",
    "numbahs = []\n",
    "for i in range(1001):\n",
    "    if((i%2==0) & (i%3==0) & (i%7==0)):\n",
    "        numbahs.append(i)\n",
    "numbahs\n",
    "len(numbahs)\n",
    "\n",
    "\n",
    "X = [m for m in range(1000) if m % 3 == 0 and m % 2 == 0 and m % 7 == 0]\n",
    "print(X)\n",
    "print(len(X))"
   ]
  },
  {
   "cell_type": "code",
   "execution_count": 15,
   "id": "ae90ee91-ea8c-484d-80bb-42ce669cacaa",
   "metadata": {},
   "outputs": [
    {
     "data": {
      "text/plain": [
       "[1, 2, 'fizz', 4, 'buzz', 'fizz', 7, 8, 'fizz', 'buzz']"
      ]
     },
     "execution_count": 15,
     "metadata": {},
     "output_type": "execute_result"
    }
   ],
   "source": [
    "#ue4\n",
    "def fizzbuzz(n):\n",
    "    liste = []\n",
    "    for i in range(1,n+1):\n",
    "        if i % 3 == 0 and i % 5 == 0:\n",
    "            liste.append(\"fizzbuzz\")\n",
    "        elif i % 3 == 0:\n",
    "            liste.append(\"fizz\")\n",
    "        elif i % 5 == 0:\n",
    "            liste.append(\"buzz\")\n",
    "        else:\n",
    "            liste.append(i)\n",
    "    return liste\n",
    "\n",
    "fizzbuzz(10)"
   ]
  },
  {
   "cell_type": "code",
   "execution_count": 16,
   "id": "eedddb83-06b5-4a56-a47e-821416b511da",
   "metadata": {},
   "outputs": [
    {
     "name": "stdout",
     "output_type": "stream",
     "text": [
      "pi ~ 3.141776\n"
     ]
    }
   ],
   "source": [
    "##ue6\n",
    "# Mit Zufallszahlen\n",
    "\n",
    "from numpy.random import random\n",
    "\n",
    "n = 1000000\n",
    "count = 0\n",
    "for _ in range(n):\n",
    "    x = 2*random()-1\n",
    "    y = 2*random()-1\n",
    "    if x**2 + y**2 <= 1:\n",
    "        count = count + 1\n",
    "print(\"pi ~ {}\".format(4*count/n))"
   ]
  },
  {
   "cell_type": "code",
   "execution_count": 17,
   "id": "76a48ddd-9521-4079-af1b-ad4057f7b54a",
   "metadata": {},
   "outputs": [
    {
     "data": {
      "text/plain": [
       "{'a': 1, 'b': 2}"
      ]
     },
     "execution_count": 17,
     "metadata": {},
     "output_type": "execute_result"
    }
   ],
   "source": [
    "##ue7 \n",
    "def convert(liste):\n",
    "    d = {}\n",
    "    for key, val in liste:\n",
    "        d[key] = val\n",
    "    return d\n",
    "\n",
    "convert([('a', 1), ('b', 2)])"
   ]
  },
  {
   "cell_type": "code",
   "execution_count": null,
   "id": "503e2fb3-0048-412e-8625-368810ec6e8b",
   "metadata": {},
   "outputs": [],
   "source": []
  }
 ],
 "metadata": {
  "kernelspec": {
   "display_name": "Python 3",
   "language": "python",
   "name": "python3"
  },
  "language_info": {
   "codemirror_mode": {
    "name": "ipython",
    "version": 3
   },
   "file_extension": ".py",
   "mimetype": "text/x-python",
   "name": "python",
   "nbconvert_exporter": "python",
   "pygments_lexer": "ipython3",
   "version": "3.8.8"
  }
 },
 "nbformat": 4,
 "nbformat_minor": 5
}
