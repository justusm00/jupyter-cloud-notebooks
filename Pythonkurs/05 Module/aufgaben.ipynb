{
 "cells": [
  {
   "cell_type": "code",
   "execution_count": 1,
   "id": "9677a73c-d768-4074-8fd9-fe27b784d0c7",
   "metadata": {},
   "outputs": [
    {
     "data": {
      "text/plain": [
       "array([ 0,  2,  4,  6,  8, 10])"
      ]
     },
     "execution_count": 1,
     "metadata": {},
     "output_type": "execute_result"
    }
   ],
   "source": [
    "##ue1\n",
    "import numpy as np\n",
    "l = np.arange(0,11,2)\n",
    "l"
   ]
  },
  {
   "cell_type": "code",
   "execution_count": 6,
   "id": "b8c08b67-67af-4a34-9b9a-dca879672977",
   "metadata": {},
   "outputs": [
    {
     "data": {
      "text/latex": [
       "$\\displaystyle \\frac{1}{2}$"
      ],
      "text/plain": [
       "1/2"
      ]
     },
     "execution_count": 6,
     "metadata": {},
     "output_type": "execute_result"
    }
   ],
   "source": [
    "import sympy as sym\n",
    "sym.Rational(1,2)"
   ]
  },
  {
   "cell_type": "code",
   "execution_count": null,
   "id": "534d45b2-7bfa-45ee-936c-b37701b70cbf",
   "metadata": {},
   "outputs": [],
   "source": []
  }
 ],
 "metadata": {
  "kernelspec": {
   "display_name": "Python 3",
   "language": "python",
   "name": "python3"
  },
  "language_info": {
   "codemirror_mode": {
    "name": "ipython",
    "version": 3
   },
   "file_extension": ".py",
   "mimetype": "text/x-python",
   "name": "python",
   "nbconvert_exporter": "python",
   "pygments_lexer": "ipython3",
   "version": "3.8.8"
  }
 },
 "nbformat": 4,
 "nbformat_minor": 5
}
