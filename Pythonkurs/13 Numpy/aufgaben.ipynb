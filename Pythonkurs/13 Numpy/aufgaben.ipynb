{
 "cells": [
  {
   "cell_type": "code",
   "execution_count": 4,
   "id": "a380b3ce-008a-4d27-9044-c910daa58f1b",
   "metadata": {},
   "outputs": [
    {
     "data": {
      "text/plain": [
       "1.0"
      ]
     },
     "execution_count": 4,
     "metadata": {},
     "output_type": "execute_result"
    }
   ],
   "source": [
    "import numpy as np\n",
    "##ue1\n",
    "def meanvec(a):\n",
    "    dim = len(a)\n",
    "    summ = a.sum()\n",
    "    return summ/dim\n",
    "\n",
    "arr = np.array([1,1,1])\n",
    "meanvec(arr)"
   ]
  },
  {
   "cell_type": "code",
   "execution_count": 21,
   "id": "3fa7853f-7e37-4ace-bf4f-fdfb61f6b6b7",
   "metadata": {},
   "outputs": [
    {
     "data": {
      "text/plain": [
       "array([[ 2., -1.,  0., ...,  0.,  0.,  0.],\n",
       "       [-1.,  2., -1., ...,  0.,  0.,  0.],\n",
       "       [ 0., -1.,  2., ...,  0.,  0.,  0.],\n",
       "       ...,\n",
       "       [ 0.,  0.,  0., ...,  2., -1.,  0.],\n",
       "       [ 0.,  0.,  0., ..., -1.,  2., -1.],\n",
       "       [ 0.,  0.,  0., ...,  0., -1.,  2.]])"
      ]
     },
     "execution_count": 21,
     "metadata": {},
     "output_type": "execute_result"
    }
   ],
   "source": [
    "##ue2\n",
    "np.diag(2*np.ones((100,)), 0) + np.diag(-np.ones((99,)), -1) + np.diag(-np.ones((99,)), 1)"
   ]
  },
  {
   "cell_type": "code",
   "execution_count": 8,
   "id": "743dc0e5-d7f5-4df1-b447-04ca10177dce",
   "metadata": {},
   "outputs": [
    {
     "name": "stdout",
     "output_type": "stream",
     "text": [
      "3.038043950697448\n"
     ]
    }
   ],
   "source": [
    "##ue3\n",
    "from scipy.linalg import hilbert\n",
    "hil = hilbert(50)\n",
    "thirdcol = hil[2,:]\n",
    "print(sum(thirdcol))"
   ]
  },
  {
   "cell_type": "code",
   "execution_count": 37,
   "id": "19698689-12ac-4cd0-b654-0c021133f764",
   "metadata": {},
   "outputs": [
    {
     "name": "stdout",
     "output_type": "stream",
     "text": [
      "[[[[6. 7. 6. 2. 7.]\n",
      "   [1. 1. 7. 4. 8.]\n",
      "   [6. 7. 3. 0. 0.]\n",
      "   [1. 3. 2. 5. 6.]]\n",
      "\n",
      "  [[1. 5. 0. 7. 4.]\n",
      "   [7. 1. 3. 1. 2.]\n",
      "   [1. 3. 1. 0. 5.]\n",
      "   [0. 4. 4. 3. 5.]]\n",
      "\n",
      "  [[5. 2. 1. 5. 5.]\n",
      "   [7. 1. 3. 8. 5.]\n",
      "   [6. 6. 8. 2. 7.]\n",
      "   [0. 1. 4. 6. 3.]]]\n",
      "\n",
      "\n",
      " [[[5. 2. 4. 0. 0.]\n",
      "   [7. 8. 8. 8. 0.]\n",
      "   [4. 0. 7. 0. 1.]\n",
      "   [7. 2. 1. 4. 0.]]\n",
      "\n",
      "  [[3. 8. 7. 3. 0.]\n",
      "   [1. 4. 8. 4. 8.]\n",
      "   [4. 3. 1. 1. 8.]\n",
      "   [1. 8. 3. 8. 1.]]\n",
      "\n",
      "  [[6. 3. 1. 2. 6.]\n",
      "   [1. 6. 2. 4. 5.]\n",
      "   [8. 4. 4. 7. 8.]\n",
      "   [7. 5. 0. 6. 4.]]]]\n"
     ]
    },
    {
     "data": {
      "text/plain": [
       "array([[82., 57., 85.],\n",
       "       [68., 84., 89.]])"
      ]
     },
     "execution_count": 37,
     "metadata": {},
     "output_type": "execute_result"
    }
   ],
   "source": [
    "##ue4\n",
    "from numpy.random import randint\n",
    "import numpy as np\n",
    "\n",
    "mat = np.array([])\n",
    "\n",
    "for i in range(2*3*4*5):\n",
    "    a = randint(0,9)\n",
    "    mat = np.append(a,mat)\n",
    "    \n",
    "mat = mat.reshape(2,3,4,5)\n",
    "print(mat)\n",
    "mat.sum((2,3))"
   ]
  },
  {
   "cell_type": "code",
   "execution_count": 58,
   "id": "f4ee17ff-d0e7-4caf-ab93-3ccff1d258e9",
   "metadata": {},
   "outputs": [
    {
     "name": "stdout",
     "output_type": "stream",
     "text": [
      "0.9314241230967545\n",
      "[0.03569063 0.88027616 0.43795946 0.77610894 0.09082957 0.11583566\n",
      " 0.49499935 0.02755923 0.60032462 0.75291063]\n",
      "1\n"
     ]
    }
   ],
   "source": [
    "##ue5\n",
    "import numpy.random as rand\n",
    "\n",
    "a = rand.uniform(0,1)\n",
    "mat = rand.uniform(0,1,10)\n",
    "res = np.argmin(abs(mat-a))\n",
    "print(a)\n",
    "print(mat)\n",
    "print(res)"
   ]
  },
  {
   "cell_type": "code",
   "execution_count": 84,
   "id": "29216674-b398-45c5-8979-41c03f82140d",
   "metadata": {},
   "outputs": [
    {
     "name": "stdout",
     "output_type": "stream",
     "text": [
      "[[1]\n",
      " [2]\n",
      " [3]\n",
      " [4]]\n"
     ]
    },
    {
     "data": {
      "text/plain": [
       "array([[ 1,  1,  1,  1],\n",
       "       [ 1,  2,  4,  8],\n",
       "       [ 1,  3,  9, 27],\n",
       "       [ 1,  4, 16, 64]])"
      ]
     },
     "execution_count": 84,
     "metadata": {},
     "output_type": "execute_result"
    }
   ],
   "source": [
    "##ue6\n",
    "import numpy.random as rand\n",
    "import numpy as np\n",
    "n = 4\n",
    "A = np.array([1,2,3,4]).reshape(n,1)\n",
    "B = np.arange(n)\n",
    "\n",
    "print(A)\n",
    "A**B"
   ]
  },
  {
   "cell_type": "code",
   "execution_count": 89,
   "id": "cf3d1edd-1caf-431e-9bdc-665dabfbcf2e",
   "metadata": {},
   "outputs": [
    {
     "data": {
      "text/plain": [
       "array([[ 1.        ,  0.02850285,  0.09030903,  0.00930093,  0.04950495],\n",
       "       [ 0.02850285,  1.        ,  0.07650765,  0.04230423,  0.08130813],\n",
       "       [ 0.09030903,  0.07650765,  1.        ,  0.00450045, -0.00570057],\n",
       "       [ 0.00930093,  0.04230423,  0.00450045,  1.        ,  0.05250525],\n",
       "       [ 0.04950495,  0.08130813, -0.00570057,  0.05250525,  1.        ]])"
      ]
     },
     "execution_count": 89,
     "metadata": {},
     "output_type": "execute_result"
    }
   ],
   "source": [
    "##ue7\n",
    "def linearkong(x, a=21, b=7, m=100):\n",
    "    while True:\n",
    "        x = (a*x + b) % m\n",
    "        yield x\n",
    "\n",
    "def mwc(x, c, a=6, b=100):\n",
    "    while True:\n",
    "        aux = a*x + c\n",
    "        x = aux % b\n",
    "        c = aux // b\n",
    "        yield x\n",
    "        \n",
    "def corr(nums):\n",
    "    \"\"\"\n",
    "    Calculate the correlation Matrix of the rows of the argument array.\n",
    "\n",
    "    Parameters\n",
    "    ----------\n",
    "    nums: 2d array, shape (n*m)\n",
    "\n",
    "    Returns\n",
    "    -------\n",
    "    array: 2d array, shape (n*n)\n",
    "      The element at (i,j) is the correlation coefficient between the\n",
    "      i-th and j-th row of `nums`.\n",
    "    \"\"\"\n",
    "    n = nums.shape[0]\n",
    "    covm = np.zeros((n, n))\n",
    "    for i, xi in enumerate(nums):\n",
    "        for j, xj in enumerate(nums):\n",
    "            covm[i, j] = ((xi-xi.mean()) * (xj-xj.mean())).mean() / (xi.std() * xj.std())\n",
    "    return covm\n",
    "\n",
    "from itertools import islice\n",
    "\n",
    "N = 5\n",
    "\n",
    "nums_lin = np.array([list(islice(linearkong(n), 100)) for n in range(N)])\n",
    "nums_mwc = np.array([list(islice(mwc(n, 30), 100)) for n in range(N)])\n",
    "\n",
    "corr(nums_lin)\n"
   ]
  },
  {
   "cell_type": "code",
   "execution_count": null,
   "id": "e9e51ccb-8e65-4bb0-855e-fa83864b3b30",
   "metadata": {},
   "outputs": [],
   "source": []
  }
 ],
 "metadata": {
  "kernelspec": {
   "display_name": "Python 3",
   "language": "python",
   "name": "python3"
  },
  "language_info": {
   "codemirror_mode": {
    "name": "ipython",
    "version": 3
   },
   "file_extension": ".py",
   "mimetype": "text/x-python",
   "name": "python",
   "nbconvert_exporter": "python",
   "pygments_lexer": "ipython3",
   "version": "3.8.8"
  }
 },
 "nbformat": 4,
 "nbformat_minor": 5
}
