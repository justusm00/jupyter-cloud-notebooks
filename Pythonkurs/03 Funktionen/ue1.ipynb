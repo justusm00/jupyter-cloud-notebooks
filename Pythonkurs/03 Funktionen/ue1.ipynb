{
 "cells": [
  {
   "cell_type": "code",
   "execution_count": 2,
   "id": "6abfb89d-f4a3-4b78-ac1c-614dbee18664",
   "metadata": {},
   "outputs": [
    {
     "data": {
      "text/plain": [
       "6"
      ]
     },
     "execution_count": 2,
     "metadata": {},
     "output_type": "execute_result"
    }
   ],
   "source": [
    "def increment(x,y=0):\n",
    "    return x+y+1\n",
    "\n",
    "increment(4,1)"
   ]
  },
  {
   "cell_type": "code",
   "execution_count": 6,
   "id": "1cdef8b0-2563-4a5c-a026-edf368a03a8b",
   "metadata": {},
   "outputs": [
    {
     "data": {
      "text/plain": [
       "[2, 3, 4, 5, 6]"
      ]
     },
     "execution_count": 6,
     "metadata": {},
     "output_type": "execute_result"
    }
   ],
   "source": [
    "def givemefive(liste, index = 0):\n",
    "    return liste[index:index+5]\n",
    "\n",
    "bla = [1,2,3,4,5,6,7]\n",
    "givemefive(bla,1)"
   ]
  },
  {
   "cell_type": "code",
   "execution_count": 10,
   "id": "d9dbf66e-3dfa-48e0-9d48-7998d33b2dd3",
   "metadata": {},
   "outputs": [
    {
     "data": {
      "text/plain": [
       "1.4142135623730951"
      ]
     },
     "execution_count": 10,
     "metadata": {},
     "output_type": "execute_result"
    }
   ],
   "source": [
    "def betrag(z):\n",
    "    return (z.real**2+z.imag**2)**0.5\n",
    "\n",
    "betrag(1+1j)"
   ]
  },
  {
   "cell_type": "code",
   "execution_count": null,
   "id": "46cb99a2-b983-4a0a-8783-282456fbf890",
   "metadata": {},
   "outputs": [],
   "source": []
  }
 ],
 "metadata": {
  "kernelspec": {
   "display_name": "Python 3",
   "language": "python",
   "name": "python3"
  },
  "language_info": {
   "codemirror_mode": {
    "name": "ipython",
    "version": 3
   },
   "file_extension": ".py",
   "mimetype": "text/x-python",
   "name": "python",
   "nbconvert_exporter": "python",
   "pygments_lexer": "ipython3",
   "version": "3.8.8"
  }
 },
 "nbformat": 4,
 "nbformat_minor": 5
}
