{
 "cells": [
  {
   "cell_type": "code",
   "execution_count": 1,
   "id": "ddd5b0cc-762b-430b-9b03-7ffd8e3534b4",
   "metadata": {},
   "outputs": [
    {
     "data": {
      "text/plain": [
       "12"
      ]
     },
     "execution_count": 1,
     "metadata": {},
     "output_type": "execute_result"
    }
   ],
   "source": [
    "##anonyme funktionen\n",
    "def apply_twice(f, x):\n",
    "    return f(f(x))\n",
    "\n",
    "apply_twice(lambda x: 2*x, 3)"
   ]
  },
  {
   "cell_type": "code",
   "execution_count": 3,
   "id": "336755c2-e40f-4d91-8656-92f23a5efbc7",
   "metadata": {},
   "outputs": [
    {
     "name": "stdout",
     "output_type": "stream",
     "text": [
      "x = 2\n",
      "y = 3\n",
      "5\n",
      "x = 2\n",
      "y = 2\n",
      "4\n",
      "x = 1\n",
      "y = 2\n",
      "3\n"
     ]
    }
   ],
   "source": [
    "##optionale argumente\n",
    "def print_and_add(x=1, y=2):\n",
    "    print(f\"x = {x}\")\n",
    "    print(f\"y = {y}\")\n",
    "    return x+y\n",
    "\n",
    "print(print_and_add(2, 3))\n",
    "print(print_and_add(2))\n",
    "print(print_and_add())"
   ]
  },
  {
   "cell_type": "code",
   "execution_count": null,
   "id": "5325c6a0-bbaa-4da9-ba21-96eafa29f735",
   "metadata": {},
   "outputs": [],
   "source": []
  }
 ],
 "metadata": {
  "kernelspec": {
   "display_name": "Python 3",
   "language": "python",
   "name": "python3"
  },
  "language_info": {
   "codemirror_mode": {
    "name": "ipython",
    "version": 3
   },
   "file_extension": ".py",
   "mimetype": "text/x-python",
   "name": "python",
   "nbconvert_exporter": "python",
   "pygments_lexer": "ipython3",
   "version": "3.8.8"
  }
 },
 "nbformat": 4,
 "nbformat_minor": 5
}
