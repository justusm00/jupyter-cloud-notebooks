{
 "cells": [
  {
   "cell_type": "markdown",
   "metadata": {},
   "source": [
    "<div style=\"text-align: right\"> 08.11.2019</div>\n",
    "\n",
    "***Name:*** \n",
    "\n",
    "# Hausaufgabe Blatt 3\n",
    "\n",
    "## Integration einer Bewegungsgleichung: Freier Fall\n",
    "\n",
    "In dieser Aufgabe werden wir die Bewegungsgleichung des freien Falls numerisch integrieren. Die Bewegungsgleichung in einer Dimension hat die Form:\n",
    "\\begin{equation}\\tag{1}\n",
    " \\ddot x = \\frac{\\mathrm{d}^2x}{\\mathrm{d}t^2}= a\n",
    "\\end{equation}\n",
    "\n",
    "Die analytische Lösung dieser Gleichung kennen Sie bereits. Es handelt sich dabei um die Bahnkurve\n",
    "\\begin{equation} \\tag{2}\n",
    "x\\!\\left( t \\right) = x_0 + v_0 t + \\frac{1}{2} a t^2.\n",
    "\\end{equation}\n",
    "\n",
    "Ähnlich zur analytischen Lösung, werden wir die Bewegungsgleichung in zwei Schritten integrieren. Dabei nutzen wir aus, dass die Beschleunigung $a$ die zeitliche Ableitung der Geschwindigkeit $v$ und die Geschwindigkeit die zeitliche Ableitung der Position $x$ ist:\n",
    "\\begin{align*}\n",
    "   \\frac{\\mathrm{d}x}{\\mathrm{d}t}=  \\dot x &= v \\\\\n",
    "   \\frac{\\mathrm{d}v}{\\mathrm{d}t}= \\dot v &= a\n",
    "\\end{align*}\n",
    "\n",
    "Zur numerischen Lösung dieser Gleichungen werden wir das sogenannte Euler-Verfahren verwenden. Bei diesem Verfahren wird das Integrationsintervall, in diesem Fall die Zeit, diskretisiert. Typischerweise nennt man den Zeitschritt $\\Delta t$. Die Änderung in der Position $\\Delta x$ und die Änderung der Geschwindigkeit $\\Delta v$ ist daher gegeben durch:\n",
    "\\begin{align*}\n",
    "    \\Delta x &= v\\left(t\\right) \\Delta t \\\\\n",
    "       \\Delta v &= a\\Delta t\n",
    "\\end{align*}\n",
    "\n",
    "Somit ergibt sich als neue Position und neue Geschwindigkeit nach einem Zeitschritt $\\Delta t$:\n",
    "    \\begin{align}\\tag{3}\n",
    "        x\\left(t+\\Delta t \\right) = x\\left(t\\right) + \\Delta x \\\\ \n",
    "        v\\left(t+\\Delta t \\right) = v\\left(t\\right) + \\Delta v \\tag{4}\n",
    "    \\end{align}\n",
    "    \n",
    "    \n",
    "## 1. Integration \"per Hand\"\n",
    "**a)** Bestimmen Sie Ort und Geschwindigkeit nach einem Zeitschritt $\\Delta t = 0.1$, indem Sie die Gleichungen (3) und (4) für die Anfangswerte $x_0=x\\left(t=0\\right) = 2$ und $v_0=v\\left(t=0\\right) = 1$ numerisch integrieren. Dabei soll $a=-9.81$ sein. Geben Sie die resultierende Position und Geschwindigkeit mit dem `print()` Befehl aus.\n"
   ]
  },
  {
   "cell_type": "code",
   "execution_count": 2,
   "metadata": {
    "ExecuteTime": {
     "end_time": "2019-11-05T10:47:11.833903Z",
     "start_time": "2019-11-05T10:47:11.817982Z"
    }
   },
   "outputs": [
    {
     "name": "stdout",
     "output_type": "stream",
     "text": [
      "x =  2.1\n",
      "v =  0.018999999999999906\n"
     ]
    }
   ],
   "source": [
    "#define constants\n",
    "a = -9.81\n",
    "x0 = 2\n",
    "v0 = 1\n",
    "dt = 0.1\n",
    "\n",
    "#use Euler Integration\n",
    "x = x0 + v0 * dt\n",
    "v = v0 + a * dt\n",
    "\n",
    "#print results\n",
    "print(\"x = \", x)\n",
    "print(\"v = \", v)\n"
   ]
  },
  {
   "cell_type": "markdown",
   "metadata": {},
   "source": [
    "**b)** Führen Sie die Integration fort, indem Sie das gerade berechnete Ergebnis für die Position und die Geschwindigkeit erneut gemäß Gleichungen (3) und (4) integrieren. Setzen Sie die Integration fort, bis sie fünf Werte $x_0,\\; x_1,\\; x_2,\\; x_3,\\; x_4$ für die Position errechnet haben. Geben Sie die Ergebnisse der Position mit dem `print()` Befehl aus"
   ]
  },
  {
   "cell_type": "code",
   "execution_count": 34,
   "metadata": {
    "ExecuteTime": {
     "end_time": "2019-11-05T10:47:12.200662Z",
     "start_time": "2019-11-05T10:47:12.187553Z"
    }
   },
   "outputs": [
    {
     "name": "stdout",
     "output_type": "stream",
     "text": [
      "x1 =  1.396375\n",
      "x2 =  2.1019\n",
      "x3 =  2.0057\n",
      "x4 =  1.8114\n"
     ]
    }
   ],
   "source": [
    "#define constants\n",
    "a = -9.81\n",
    "x0 = 2\n",
    "v0 = 1\n",
    "dt = 0.1\n",
    "\n",
    "#use Euler Integration and print results\n",
    "#x1\n",
    "x1 = x0 + v0 * dt\n",
    "v1 = v0 + a * dt\n",
    "print(\"x1 = \", x)\n",
    "\n",
    "#continue Euler Integration\n",
    "#x2\n",
    "x2 = x1 + v1 * dt\n",
    "v2 = v1 + a * dt\n",
    "print(\"x2 = \", x2)\n",
    "\n",
    "#x3\n",
    "x3 = x2 + v2 * dt\n",
    "v3 = v2 + a * dt\n",
    "print(\"x3 = \", x3)\n",
    "\n",
    "#x4\n",
    "x4 = x3 + v3 * dt\n",
    "v4 = v3 + a * dt\n",
    "print(\"x4 = \", x4)"
   ]
  },
  {
   "cell_type": "markdown",
   "metadata": {},
   "source": [
    "## 2. Vergleich mit Bahnkurve\n",
    "\n",
    "Nun wollen wir die gerade errechneten Punkte mit der Bahnkurve (Gleichung (2)) vergleichen. Führen Sie dazu folgende Schritte durch:\n",
    "\n",
    "**a)** Erstellen Sie einen Plot der Bahnkurve mit den Parametern aus der ersten Teilaufgabe. Benutzen Sie dafür das im vorherigen Zettel gegeben Gerüst.  Vergessen Sie nicht die Bibliotheken `numpy` und `matplotlib.pyplot` zu importieren!"
   ]
  },
  {
   "cell_type": "code",
   "execution_count": 35,
   "metadata": {},
   "outputs": [
    {
     "data": {
      "image/png": "[encoded data removed]",
      "text/plain": [
       "<Figure size 432x288 with 1 Axes>"
      ]
     },
     "metadata": {
      "needs_background": "light"
     },
     "output_type": "display_data"
    }
   ],
   "source": [
    "import matplotlib.pyplot as plt # lade matplotlib als Bibliothek\n",
    "import numpy as np #load numpy\n",
    "\n",
    "#define constants\n",
    "a = -9.81\n",
    "x0 = 2\n",
    "v0 = 1\n",
    "\n",
    "\n",
    "#array for timesteps\n",
    "t = np.linspace(0, 1, 50)\n",
    "\n",
    "#analytical solution\n",
    "x_a = 0.5*a*t**2 + v0*t + x0\n",
    "\n",
    "# ### Anfang Grundgerüst ( mit # kann man Kommentare schreiben )\n",
    "\n",
    "fig, ax = plt.subplots()\n",
    "\n",
    "ax.set_title(\"Freier Fall\")  # Titel\n",
    "ax.set_xlabel(\"t in s\") # x-Achsenbeschriftrung\n",
    "ax.set_ylabel(\"x in m\") # y-Achsenbeschriftung\n",
    "\n",
    "ax.plot(t, x_a, label='analytische Lösung')  # x-Wert hier: t, y Wert hier: Bahnkurve\n",
    "\n",
    "ax.legend(loc='upper right')\n",
    "\n",
    "plt.show()\n",
    "\n",
    "# ### Ende Grundgerüst"
   ]
  },
  {
   "cell_type": "markdown",
   "metadata": {},
   "source": [
    "**b)** Schreiben Sie die errechneten Werte $x_0,\\; x_1 ...$ in ein numpy Array per Hand. Wählen Sie einen geeigneten Variablennamen für dieses Array."
   ]
  },
  {
   "cell_type": "code",
   "execution_count": 14,
   "metadata": {},
   "outputs": [
    {
     "name": "stdout",
     "output_type": "stream",
     "text": [
      "[2.     2.1    2.1019 2.0057 1.8114]\n"
     ]
    }
   ],
   "source": [
    "import numpy as np #load numpy\n",
    "x_num = np.array([x0, x, x2, x3, x4])"
   ]
  },
  {
   "cell_type": "markdown",
   "metadata": {},
   "source": [
    "**c)** Erstellen Sie mittels `np.linspace()` ein weiteres Array für die fünf Zeitpunkte der numerischen Integration. Wählen Sie einen geeigneten Variablennamen für dieses Array."
   ]
  },
  {
   "cell_type": "code",
   "execution_count": 36,
   "metadata": {},
   "outputs": [],
   "source": [
    "import numpy as np #load numpy\n",
    "x_num = np.array([x0, x1, x2, x3, x4]) #array with numerical solutions\n",
    "t_num = np.linspace(0, 0.4, 5) #array for timesteps dt"
   ]
  },
  {
   "cell_type": "markdown",
   "metadata": {},
   "source": [
    "**d)** Sie sollten nun zwei Arrays mit jeweils fünf Einträgen haben. Plotten Sie diese beiden arrays gegeneinander, indem Sie das vorhandene Gerüst mit folgender Zeile erweitern:\n",
    "```python\n",
    "ax.scatter(t, x, label='numerische Integration')\n",
    "```\n",
    "wobei `t` und `x` die zwei Arrays der numerischen Integration sind. Ändern Sie die Legende und die Achsenbeschriftungen, sodass Ihr Diagramm wie folgt ausssieht:\n",
    "\n",
    "<img src=\"./bahnkurve.png\" alt=\"drawing\" width=\"400\"/>"
   ]
  },
  {
   "cell_type": "code",
   "execution_count": 37,
   "metadata": {
    "ExecuteTime": {
     "end_time": "2019-11-05T10:50:32.035338Z",
     "start_time": "2019-11-05T10:50:31.894730Z"
    }
   },
   "outputs": [
    {
     "data": {
      "image/png": "[encoded data removed]",
      "text/plain": [
       "<Figure size 432x288 with 1 Axes>"
      ]
     },
     "metadata": {
      "needs_background": "light"
     },
     "output_type": "display_data"
    }
   ],
   "source": [
    "import matplotlib.pyplot as plt # lade matplotlib als Bibliothek\n",
    "import numpy as np #load numpy\n",
    "\n",
    "#define constants\n",
    "a = -9.81\n",
    "x0 = 2\n",
    "v0 = 1\n",
    "\n",
    "#analytical solution\n",
    "t = np.linspace(0, 0.4, 50) #array for timesteps\n",
    "x_a = 0.5*a*t**2 + v0*t + x0 #analytical postion\n",
    "\n",
    "x_num = np.array([x0, x1, x2, x3, x4]) #array with numerical solutions\n",
    "t_num = np.linspace(0, 0.4, 5) #array for timesteps dt\n",
    "\n",
    "# ### Anfang Grundgerüst ( mit # kann man Kommentare schreiben )\n",
    "\n",
    "fig, ax = plt.subplots()\n",
    "\n",
    "ax.set_title(\"Geradlinige Beschleunigung\")  # Titel\n",
    "ax.set_xlabel(\"Zeit t\") # x-Achsenbeschriftrung\n",
    "ax.set_ylabel(\"Position x\") # y-Achsenbeschriftung\n",
    "\n",
    "ax.plot(t, x_a, label='analytische Lösung')  # x-Wert hier: t, y Wert hier: Bahnkurve\n",
    "ax.scatter(t_num, x_num, label='numerische Lösung', color='red')\n",
    "\n",
    "ax.legend(loc='lower left')\n",
    "\n",
    "plt.show()\n",
    "\n",
    "# ### Ende Grundgerüst"
   ]
  },
  {
   "cell_type": "markdown",
   "metadata": {},
   "source": [
    "**e)** Wie Sie sehen, weicht die numerische Lösung von der analytischen ab. Dies liegt an der Genauigkeit des Lösungsverfahrens und an der Größe des Integrationsschrittes $\\Delta t$. Wiederholen Sie daher die numerische Integration mit einem halb so großen Zeitschritt $\\Delta t = 0.05$ bei sonst gleichen Anfangsbedingungen. Damit die Integrationszeit konstant bleibt, müssen Sie mehr Integrationsschritte durchführen. Machen Sie sich klar, wie viele Schritte Sie benötigen. Stellen Sie das Ergenbis erneut in einem Plot dar. Wählen Sie eine geeignete Legende.  Verlgeichen Sie die Trajektorien der beiden numerischen Lösungen. Was fällt Ihnen auf?"
   ]
  },
  {
   "cell_type": "code",
   "execution_count": 39,
   "metadata": {},
   "outputs": [
    {
     "data": {
      "image/png": "[encoded data removed]",
      "text/plain": [
       "<Figure size 432x288 with 1 Axes>"
      ]
     },
     "metadata": {
      "needs_background": "light"
     },
     "output_type": "display_data"
    }
   ],
   "source": [
    "import matplotlib.pyplot as plt # lade matplotlib als Bibliothek\n",
    "import numpy as np #load numpy\n",
    "\n",
    "#define constants\n",
    "a = -9.81\n",
    "x = 2 #x0\n",
    "v = 1 #v0\n",
    "dt = 0.05\n",
    "\n",
    "#analytical solution\n",
    "t = np.linspace(0, 0.4, 50) #array for timesteps\n",
    "x_a = 0.5*a*t**2 + v0*t + x0 #analytical postion\n",
    "\n",
    "\n",
    "#calculate numerical solution\n",
    "t_num = np.linspace(0, 0.4, 10) #array for timesteps dt\n",
    "\n",
    "xs = [] # empty list for numerical values\n",
    "\n",
    "#iterate through the time array\n",
    "for i in t_num:\n",
    "    #add x value to list\n",
    "    xs.append(x)\n",
    "    #calculate new step for integration\n",
    "    x = x + v * dt\n",
    "    v = v + a * dt\n",
    "\n",
    "x_num = np.array([xs]) #convert list to numpy array\n",
    "\n",
    "\n",
    "\n",
    "# ### Anfang Grundgerüst ( mit # kann man Kommentare schreiben )\n",
    "\n",
    "fig, ax = plt.subplots()\n",
    "\n",
    "ax.set_title(\"Geradlinige Beschleunigung\")  # Titel\n",
    "ax.set_xlabel(\"Zeit t\") # x-Achsenbeschriftrung\n",
    "ax.set_ylabel(\"Position x\") # y-Achsenbeschriftung\n",
    "\n",
    "ax.plot(t, x_a, label='analytische Lösung')  # x-Wert hier: t, y Wert hier: Bahnkurve\n",
    "ax.scatter(t_num, x_num, label='numerische Lösung', color='red')\n",
    "\n",
    "ax.legend(loc='lower left')\n",
    "\n",
    "plt.show()\n",
    "\n",
    "# ### Ende Grundgerüst"
   ]
  },
  {
   "cell_type": "code",
   "execution_count": 28,
   "metadata": {},
   "outputs": [],
   "source": [
    "# Durch das Halbieren des Zeitintervalls dt werden doppelt so viele Rechenschritte benötigt.\n",
    "# Es fällt auf, dass die numerische Lösung näher an der analytischen Lösung liegt und somit genauer\n",
    "# als vorher ist."
   ]
  },
  {
   "cell_type": "code",
   "execution_count": null,
   "metadata": {},
   "outputs": [],
   "source": []
  }
 ],
 "metadata": {
  "kernelspec": {
   "display_name": "Python 3 (ipykernel)",
   "language": "python",
   "name": "python3"
  },
  "language_info": {
   "codemirror_mode": {
    "name": "ipython",
    "version": 3
   },
   "file_extension": ".py",
   "mimetype": "text/x-python",
   "name": "python",
   "nbconvert_exporter": "python",
   "pygments_lexer": "ipython3",
   "version": "3.9.7"
  },
  "latex_envs": {
   "LaTeX_envs_menu_present": true,
   "autoclose": true,
   "autocomplete": true,
   "bibliofile": "biblio.bib",
   "cite_by": "apalike",
   "current_citInitial": 1,
   "eqLabelWithNumbers": true,
   "eqNumInitial": 1,
   "hotkeys": {
    "equation": "Ctrl-E",
    "itemize": "Ctrl-I"
   },
   "labels_anchors": false,
   "latex_user_defs": false,
   "report_style_numbering": false,
   "user_envs_cfg": false
  }
 },
 "nbformat": 4,
 "nbformat_minor": 4
}
