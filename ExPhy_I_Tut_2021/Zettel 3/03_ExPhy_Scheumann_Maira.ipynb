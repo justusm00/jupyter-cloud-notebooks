{
 "cells": [
  {
   "cell_type": "markdown",
   "metadata": {},
   "source": [
    "<div style=\"text-align: right\"> 22.11.2021</div>\n",
    "\n",
    "***Name: Maira Scheumann*** \n",
    "\n",
    "# Hausaufgabe Blatt 3\n",
    "\n",
    "## Integration einer Bewegungsgleichung: Freier Fall\n",
    "\n",
    "In dieser Aufgabe werden wir die Bewegungsgleichung des freien Falls numerisch integrieren. Die Bewegungsgleichung in einer Dimension hat die Form:\n",
    "\\begin{equation}\\tag{1}\n",
    " \\ddot x = \\frac{\\mathrm{d}^2x}{\\mathrm{d}t^2}= a\n",
    "\\end{equation}\n",
    "\n",
    "Die analytische Lösung dieser Gleichung kennen Sie bereits. Es handelt sich dabei um die Bahnkurve\n",
    "\\begin{equation} \\tag{2}\n",
    "x\\!\\left( t \\right) = x_0 + v_0 t + \\frac{1}{2} a t^2.\n",
    "\\end{equation}\n",
    "\n",
    "Ähnlich zur analytischen Lösung, werden wir die Bewegungsgleichung in zwei Schritten integrieren. Dabei nutzen wir aus, dass die Beschleunigung $a$ die zeitliche Ableitung der Geschwindigkeit $v$ und die Geschwindigkeit die zeitliche Ableitung der Position $x$ ist:\n",
    "\\begin{align*}\n",
    "   \\frac{\\mathrm{d}x}{\\mathrm{d}t}=  \\dot x &= v \\\\\n",
    "   \\frac{\\mathrm{d}v}{\\mathrm{d}t}= \\dot v &= a\n",
    "\\end{align*}\n",
    "\n",
    "Zur numerischen Lösung dieser Gleichungen werden wir das sogenannte Euler-Verfahren verwenden. Bei diesem Verfahren wird das Integrationsintervall, in diesem Fall die Zeit, diskretisiert. Typischerweise nennt man den Zeitschritt $\\Delta t$. Die Änderung in der Position $\\Delta x$ und die Änderung der Geschwindigkeit $\\Delta v$ ist daher gegeben durch:\n",
    "\\begin{align*}\n",
    "    \\Delta x &= v\\left(t\\right) \\Delta t \\\\\n",
    "       \\Delta v &= a\\Delta t\n",
    "\\end{align*}\n",
    "\n",
    "Somit ergibt sich als neue Position und neue Geschwindigkeit nach einem Zeitschritt $\\Delta t$:\n",
    "    \\begin{align}\\tag{3}\n",
    "        x\\left(t+\\Delta t \\right) = x\\left(t\\right) + \\Delta x \\\\ \n",
    "        v\\left(t+\\Delta t \\right) = v\\left(t\\right) + \\Delta v \\tag{4}\n",
    "    \\end{align}\n",
    "    \n",
    "    \n",
    "## 1. Integration \"per Hand\"\n",
    "**a)** Bestimmen Sie Ort und Geschwindigkeit nach einem Zeitschritt $\\Delta t = 0.1$, indem Sie die Gleichungen (3) und (4) für die Anfangswerte $x_0=x\\left(t=0\\right) = 2$ und $v_0=v\\left(t=0\\right) = 1$ numerisch integrieren. Dabei soll $a=-9.81$ sein. Geben Sie die resultierende Position und Geschwindigkeit mit dem `print()` Befehl aus.\n"
   ]
  },
  {
   "cell_type": "code",
   "execution_count": 15,
   "metadata": {
    "ExecuteTime": {
     "end_time": "2019-11-05T10:47:11.833903Z",
     "start_time": "2019-11-05T10:47:11.817982Z"
    }
   },
   "outputs": [
    {
     "name": "stdout",
     "output_type": "stream",
     "text": [
      "v1= 0.018999999999999906 x1= 2.1\n"
     ]
    }
   ],
   "source": [
    "#Definition der Variablen\n",
    "a=-9.81\n",
    "x0=2\n",
    "v0=1\n",
    "deltat=0.1\n",
    "deltav=a*deltat\n",
    "deltax=v0*deltat\n",
    "\n",
    "#geltende Gleichung für Integration\n",
    "v1=v0+deltav\n",
    "x1=x0+deltax\n",
    "\n",
    "print(\"v1=\",v1, \"x1=\",x1) #Ausgabe der Werte"
   ]
  },
  {
   "cell_type": "markdown",
   "metadata": {},
   "source": [
    "**b)** Führen Sie die Integration fort, indem Sie das gerade berechnete Ergebnis für die Position und die Geschwindigkeit erneut gemäß Gleichungen (3) und (4) integrieren. Setzen Sie die Integration fort, bis sie fünf Werte $x_0,\\; x_1,\\; x_2,\\; x_3,\\; x_4$ für die Position errechnet haben. Geben Sie die Ergebnisse der Position mit dem `print()` Befehl aus"
   ]
  },
  {
   "cell_type": "code",
   "execution_count": 16,
   "metadata": {
    "ExecuteTime": {
     "end_time": "2019-11-05T10:47:12.200662Z",
     "start_time": "2019-11-05T10:47:12.187553Z"
    }
   },
   "outputs": [
    {
     "name": "stdout",
     "output_type": "stream",
     "text": [
      "v0= 1 x0= 2 v1= 0.018999999999999906 x1= 2.1 v2= -0.9620000000000002 x2= 2.1019 v3= -1.9430000000000003 x3= 2.0057 v4= -2.9240000000000004 x4= 1.8114\n"
     ]
    }
   ],
   "source": [
    "#2. Integration\n",
    "v2=v1+deltav\n",
    "x2=x1+v1*deltat\n",
    "\n",
    "#3. Integration\n",
    "v3=v2+deltav\n",
    "x3=x2+v2*deltat\n",
    "\n",
    "#4. Integration\n",
    "v4=v3+deltav\n",
    "x4=x3+v3*deltat\n",
    "\n",
    "print(\"v0=\",v0,\"x0=\",x0, \"v1=\",v1,\"x1=\",x1, \"v2=\",v2,\"x2=\",x2, \"v3=\",v3, \"x3=\",x3, \"v4=\",v4, \"x4=\",x4) #Ausgabe der Werte"
   ]
  },
  {
   "cell_type": "markdown",
   "metadata": {},
   "source": [
    "## 2. Vergleich mit Bahnkurve\n",
    "\n",
    "Nun wollen wir die gerade errechneten Punkte mit der Bahnkurve (Gleichung (2)) vergleichen. Führen Sie dazu folgende Schritte durch:\n",
    "\n",
    "**a)** Erstellen Sie einen Plot der Bahnkurve mit den Parametern aus der ersten Teilaufgabe. Benutzen Sie dafür das im vorherigen Zettel gegeben Gerüst.  Vergessen Sie nicht die Bibliotheken `numpy` und `matplotlib.pyplot` zu importieren!"
   ]
  },
  {
   "cell_type": "code",
   "execution_count": 17,
   "metadata": {},
   "outputs": [
    {
     "data": {
      "image/png": "[encoded data removed]",
      "text/plain": [
       "<Figure size 432x288 with 1 Axes>"
      ]
     },
     "metadata": {
      "needs_background": "light"
     },
     "output_type": "display_data"
    }
   ],
   "source": [
    "import numpy as np #Laden der Numpy Bibliothek\n",
    "import matplotlib.pyplot as plt #Laden die Matplotlib Bibliothek\n",
    "\n",
    "t = np.linspace(0, 0.4, 50) # Definieren von t\n",
    "    \n",
    "#Den Variablen x0, v0 und a werden Werte zugewiesen.\n",
    "x0=2\n",
    "v0=1\n",
    "a=-9.81\n",
    "\n",
    "fig, ax = plt.subplots()\n",
    "\n",
    "ax.set_title(\"Bahnkurve\")  # Titel\n",
    "ax.set_xlabel(\"Zeit t\") # x-Achsenbeschriftrung\n",
    "ax.set_ylabel(\"Position x\") # y-Achsenbeschriftung\n",
    "\n",
    "ax.plot(t, x0 + v0*t + 0.5*a*t**2, label=\"analytische Lösung\") #Die x-Werte sind t, y-Werte x0+v0*t+0.5*a*t**2\n",
    "\n",
    "ax.legend() #Legende wird angezeigt\n",
    "plt.show() #Bahnkurven werden visualisiert"
   ]
  },
  {
   "cell_type": "markdown",
   "metadata": {},
   "source": [
    "**b)** Schreiben Sie die errechneten Werte $x_0,\\; x_1 ...$ in ein numpy Array per Hand. Wählen Sie einen geeigneten Variablennamen für dieses Array."
   ]
  },
  {
   "cell_type": "code",
   "execution_count": 18,
   "metadata": {},
   "outputs": [
    {
     "name": "stdout",
     "output_type": "stream",
     "text": [
      "[2.     2.1    2.1019 2.0057 1.8114]\n"
     ]
    }
   ],
   "source": [
    "xH=np.array([x0,x1,x2,x3,x4]) #Erstellen eines numpy Array für x-Werte\n",
    "print(xH) #Ausgabe des numpy Array"
   ]
  },
  {
   "cell_type": "markdown",
   "metadata": {},
   "source": [
    "**c)** Erstellen Sie mittels `np.linspace()` ein weiteres Array für die fünf Zeitpunkte der numerischen Integration. Wählen Sie einen geeigneten Variablennamen für dieses Array."
   ]
  },
  {
   "cell_type": "code",
   "execution_count": 19,
   "metadata": {},
   "outputs": [
    {
     "name": "stdout",
     "output_type": "stream",
     "text": [
      "[0.  0.1 0.2 0.3 0.4]\n"
     ]
    }
   ],
   "source": [
    "tH=np.linspace(0,0.4,5) #Erstellen eines linspace Array für Zeitpunkte\n",
    "print(tH) #Ausgabe des linspace Array"
   ]
  },
  {
   "cell_type": "markdown",
   "metadata": {},
   "source": [
    "**d)** Sie sollten nun zwei Arrays mit jeweils fünf Einträgen haben. Plotten Sie diese beiden arrays gegeneinander, indem Sie das vorhandene Gerüst mit folgender Zeile erweitern:\n",
    "```python\n",
    "ax.scatter(t, x, label='numerische Integration')\n",
    "```\n",
    "wobei `t` und `x` die zwei Arrays der numerischen Integration sind. Ändern Sie die Legende und die Achsenbeschriftungen, sodass Ihr Diagramm wie folgt ausssieht:\n",
    "\n",
    "<img src=\"./bahnkurve.png\" alt=\"drawing\" width=\"400\"/>"
   ]
  },
  {
   "cell_type": "code",
   "execution_count": 20,
   "metadata": {
    "ExecuteTime": {
     "end_time": "2019-11-05T10:50:32.035338Z",
     "start_time": "2019-11-05T10:50:31.894730Z"
    }
   },
   "outputs": [
    {
     "data": {
      "image/png": "[encoded data removed]",
      "text/plain": [
       "<Figure size 432x288 with 1 Axes>"
      ]
     },
     "metadata": {
      "needs_background": "light"
     },
     "output_type": "display_data"
    }
   ],
   "source": [
    "import numpy as np #Laden der Numpy Bibliothek\n",
    "import matplotlib.pyplot as plt #Laden die Matplotlib Bibliothek\n",
    "\n",
    "t = np.linspace(0, 0.4, 50) # Definieren von t\n",
    "\n",
    "fig, ax = plt.subplots()\n",
    "\n",
    "ax.set_title(\"Geradlinige Beschleunigung\")  # Titel\n",
    "ax.set_xlabel(\"Zeit t\") # x-Achsenbeschriftrung\n",
    "ax.set_ylabel(\"Position x\") # y-Achsenbeschriftung\n",
    "\n",
    "ax.scatter(tH, xH, label='numerische Lösung') #x-Werte im numpy Array in Abhängigkeit von den Zeitpunkten im linspace Array\n",
    "ax.plot(t, x0 + v0*t + 0.5*a*t**2, label=\"analytische Lösung\") #Die x-Werte sind t, y-Werte x0+v0*t+o.5*a*t**2\n",
    "\n",
    "ax.legend(loc=\"lower left\") #Legende wird angezeigt\n",
    "plt.show() #Bahnkurven werden visualisiert"
   ]
  },
  {
   "cell_type": "markdown",
   "metadata": {},
   "source": [
    "**e)** Wie Sie sehen, weicht die numerische Lösung von der analytischen ab. Dies liegt an der Genauigkeit des Lösungsverfahrens und an der Größe des Integrationsschrittes $\\Delta t$. Wiederholen Sie daher die numerische Integration mit einem halb so großen Zeitschritt $\\Delta t = 0.05$ bei sonst gleichen Anfangsbedingungen. Damit die Integrationszeit konstant bleibt, müssen Sie mehr Integrationsschritte durchführen. Machen Sie sich klar, wie viele Schritte Sie benötigen. Stellen Sie das Ergenbis erneut in einem Plot dar. Wählen Sie eine geeignete Legende.  Verlgeichen Sie die Trajektorien der beiden numerischen Lösungen. Was fällt Ihnen auf?"
   ]
  },
  {
   "cell_type": "code",
   "execution_count": 21,
   "metadata": {},
   "outputs": [
    {
     "name": "stdout",
     "output_type": "stream",
     "text": [
      "v0= 1 x0= 2 v12= 0.5095 x12= 2.05 v22= 0.018999999999999906 x22= 2.075475 v32= -0.47150000000000014 x32= 2.076425 v42= -0.9620000000000002 x42= 2.05285 v52= -1.4525000000000001 x52= 2.00475 v62= -1.943 x62= 1.932125 v72= -2.4335 x72= 1.834975 v82= -2.924 x82= 1.7133\n"
     ]
    }
   ],
   "source": [
    "#Angabe der Anfansbedingungen und Definition der Variablen mit einem Zeitschritt von deltat=0.05\n",
    "a=-9.81\n",
    "x0=2\n",
    "v0=1\n",
    "deltat2=0.05\n",
    "deltav=a*deltat2\n",
    "deltax=v0*deltat2\n",
    "\n",
    "#1. Integration\n",
    "v12=v0+deltav\n",
    "x12=x0+deltax\n",
    "\n",
    "#2. Integration\n",
    "v22=v12+deltav\n",
    "x22=x12+v12*deltat2\n",
    "\n",
    "#3. Integration\n",
    "v32=v22+deltav\n",
    "x32=x22+v22*deltat2\n",
    "\n",
    "#4. Integration\n",
    "v42=v32+deltav\n",
    "x42=x32+v32*deltat2\n",
    "\n",
    "#5. Integration\n",
    "v52=v42+deltav\n",
    "x52=x42+v42*deltat2\n",
    "\n",
    "#6. Integration\n",
    "v62=v52+deltav\n",
    "x62=x52+v52*deltat2\n",
    "\n",
    "#7. Integration\n",
    "v72=v62+deltav\n",
    "x72=x62+v62*deltat2\n",
    "\n",
    "#8. Integration\n",
    "v82=v72+deltav\n",
    "x82=x72+v72*deltat2\n",
    "\n",
    "#Ausgabe der Werte\n",
    "print(\"v0=\",v0, \"x0=\", x0, \"v12=\",v12, \"x12=\",x12, \"v22=\",v22,\"x22=\",x22,\n",
    "      \"v32=\",v32, \"x32=\",x32, \"v42=\",v42, \"x42=\",x42, \"v52=\",v52, \"x52=\",x52,\n",
    "      \"v62=\",v62, \"x62=\",x62, \"v72=\",v72, \"x72=\",x72, \"v82=\",v82, \"x82=\",x82)\n",
    "\n",
    "xI=np.array([x0,x12,x22,x32,x42,x52,x62,x72,x82]) #Erstellen eines numpy Array mit errechneten x-Werten\n",
    "tI=np.linspace(0,0.4,9) #Erstellen eines linspace Array für Zeitpunkte"
   ]
  },
  {
   "cell_type": "code",
   "execution_count": 22,
   "metadata": {},
   "outputs": [
    {
     "data": {
      "image/png": "[encoded data removed]",
      "text/plain": [
       "<Figure size 432x288 with 1 Axes>"
      ]
     },
     "metadata": {
      "needs_background": "light"
     },
     "output_type": "display_data"
    }
   ],
   "source": [
    "import numpy as np #Laden der Numpy Bibliothek\n",
    "import matplotlib.pyplot as plt #Laden die Matplotlib Bibliothek\n",
    "\n",
    "t = np.linspace(0, 0.4, 50) # Definieren von t\n",
    "\n",
    "fig, ax = plt.subplots()\n",
    "\n",
    "ax.set_title(\"Geradlinige Beschleunigung\")  # Titel\n",
    "ax.set_xlabel(\"Zeit t\") # x-Achsenbeschriftrung\n",
    "ax.set_ylabel(\"Position x\") # y-Achsenbeschriftung\n",
    "\n",
    "ax.scatter(tH, xH, label='numerische Lösung mit deltat=0.1') #x-Werte im numpy Array in Abhängigkeit von den Zeitpunkten im linspace Array für deltat=0.1\n",
    "ax.scatter(tI, xI, label='numerische Lösung mit deltat=0.05') #x-Werte im numpy Array in Abhängigkeit von den Zeitpunkten im linspace Array für deltat=0.05\n",
    "ax.plot(t, x0 + v0*t + 0.5*a*t**2, label=\"analytische Lösung\") #Die x-Werte sind t, y-Werte x0+v0*t+o.5*a*t**2\n",
    "\n",
    "ax.legend(loc=\"lower left\") #Legende wird angezeigt\n",
    "plt.show() #Bahnkurven werden visualisiert"
   ]
  },
  {
   "cell_type": "code",
   "execution_count": 12,
   "metadata": {},
   "outputs": [],
   "source": [
    "# Die 2. numerische Lösung ist näher an der analytischen Lösung.\n",
    "#Deswegen kann man darauf schließen, dass die numerische Lösung sich mit kleiner werdendem deltat an die analytische Lösung annähert. "
   ]
  }
 ],
 "metadata": {
  "kernelspec": {
   "display_name": "Python 3 (ipykernel)",
   "language": "python",
   "name": "python3"
  },
  "language_info": {
   "codemirror_mode": {
    "name": "ipython",
    "version": 3
   },
   "file_extension": ".py",
   "mimetype": "text/x-python",
   "name": "python",
   "nbconvert_exporter": "python",
   "pygments_lexer": "ipython3",
   "version": "3.9.7"
  },
  "latex_envs": {
   "LaTeX_envs_menu_present": true,
   "autoclose": true,
   "autocomplete": true,
   "bibliofile": "biblio.bib",
   "cite_by": "apalike",
   "current_citInitial": 1,
   "eqLabelWithNumbers": true,
   "eqNumInitial": 1,
   "hotkeys": {
    "equation": "Ctrl-E",
    "itemize": "Ctrl-I"
   },
   "labels_anchors": false,
   "latex_user_defs": false,
   "report_style_numbering": false,
   "user_envs_cfg": false
  }
 },
 "nbformat": 4,
 "nbformat_minor": 4
}
