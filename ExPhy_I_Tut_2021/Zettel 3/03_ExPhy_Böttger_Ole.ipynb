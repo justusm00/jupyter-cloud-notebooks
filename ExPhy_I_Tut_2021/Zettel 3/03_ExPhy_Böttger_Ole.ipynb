{
 "cells": [
  {
   "cell_type": "markdown",
   "metadata": {},
   "source": [
    "<div style=\"text-align: right\"> 08.11.2019</div>\n",
    "\n",
    "***Name: Ole Böttger*** \n",
    "\n",
    "# Hausaufgabe Blatt 3\n",
    "\n",
    "## Integration einer Bewegungsgleichung: Freier Fall\n",
    "\n",
    "In dieser Aufgabe werden wir die Bewegungsgleichung des freien Falls numerisch integrieren. Die Bewegungsgleichung in einer Dimension hat die Form:\n",
    "\\begin{equation}\\tag{1}\n",
    " \\ddot x = \\frac{\\mathrm{d}^2x}{\\mathrm{d}t^2}= a\n",
    "\\end{equation}\n",
    "\n",
    "Die analytische Lösung dieser Gleichung kennen Sie bereits. Es handelt sich dabei um die Bahnkurve\n",
    "\\begin{equation} \\tag{2}\n",
    "x\\!\\left( t \\right) = x_0 + v_0 t + \\frac{1}{2} a t^2.\n",
    "\\end{equation}\n",
    "\n",
    "Ähnlich zur analytischen Lösung, werden wir die Bewegungsgleichung in zwei Schritten integrieren. Dabei nutzen wir aus, dass die Beschleunigung $a$ die zeitliche Ableitung der Geschwindigkeit $v$ und die Geschwindigkeit die zeitliche Ableitung der Position $x$ ist:\n",
    "\\begin{align*}\n",
    "   \\frac{\\mathrm{d}x}{\\mathrm{d}t}=  \\dot x &= v \\\\\n",
    "   \\frac{\\mathrm{d}v}{\\mathrm{d}t}= \\dot v &= a\n",
    "\\end{align*}\n",
    "\n",
    "Zur numerischen Lösung dieser Gleichungen werden wir das sogenannte Euler-Verfahren verwenden. Bei diesem Verfahren wird das Integrationsintervall, in diesem Fall die Zeit, diskretisiert. Typischerweise nennt man den Zeitschritt $\\Delta t$. Die Änderung in der Position $\\Delta x$ und die Änderung der Geschwindigkeit $\\Delta v$ ist daher gegeben durch:\n",
    "\\begin{align*}\n",
    "    \\Delta x &= v\\left(t\\right) \\Delta t \\\\\n",
    "       \\Delta v &= a\\Delta t\n",
    "\\end{align*}\n",
    "\n",
    "Somit ergibt sich als neue Position und neue Geschwindigkeit nach einem Zeitschritt $\\Delta t$:\n",
    "    \\begin{align}\\tag{3}\n",
    "        x\\left(t+\\Delta t \\right) = x\\left(t\\right) + \\Delta x \\\\ \n",
    "        v\\left(t+\\Delta t \\right) = v\\left(t\\right) + \\Delta v \\tag{4}\n",
    "    \\end{align}\n",
    "    \n",
    "    \n",
    "## 1. Integration \"per Hand\"\n",
    "**a)** Bestimmen Sie Ort und Geschwindigkeit nach einem Zeitschritt $\\Delta t = 0.1$, indem Sie die Gleichungen (3) und (4) für die Anfangswerte $x_0=x\\left(t=0\\right) = 2$ und $v_0=v\\left(t=0\\right) = 1$ numerisch integrieren. Dabei soll $a=-9.81$ sein. Geben Sie die resultierende Position und Geschwindigkeit mit dem `print()` Befehl aus.\n"
   ]
  },
  {
   "cell_type": "code",
   "execution_count": 1,
   "metadata": {
    "ExecuteTime": {
     "end_time": "2019-11-05T10:47:11.833903Z",
     "start_time": "2019-11-05T10:47:11.817982Z"
    }
   },
   "outputs": [
    {
     "name": "stdout",
     "output_type": "stream",
     "text": [
      "-8.81 2.1\n"
     ]
    }
   ],
   "source": [
    "delt = 0.1 # def. delta t\n",
    "x0 = 2 # def. x_0 = x(t=0) = 2\n",
    "v0 = 1 # def. v_0 = v(t=0) = 1\n",
    "a = -9.81 # def. a\n",
    "\n",
    "v1 = v0 + a # v1 berechnen\n",
    "x1 = x0 + v0 * delt # x1 berechnen\n",
    "\n",
    "print (v1, x1) # v1 und x1 ausgeben"
   ]
  },
  {
   "cell_type": "markdown",
   "metadata": {},
   "source": [
    "**b)** Führen Sie die Integration fort, indem Sie das gerade berechnete Ergebnis für die Position und die Geschwindigkeit erneut gemäß Gleichungen (3) und (4) integrieren. Setzen Sie die Integration fort, bis sie fünf Werte $x_0,\\; x_1,\\; x_2,\\; x_3,\\; x_4$ für die Position errechnet haben. Geben Sie die Ergebnisse der Position mit dem `print()` Befehl aus"
   ]
  },
  {
   "cell_type": "code",
   "execution_count": 2,
   "metadata": {
    "ExecuteTime": {
     "end_time": "2019-11-05T10:47:12.200662Z",
     "start_time": "2019-11-05T10:47:12.187553Z"
    }
   },
   "outputs": [
    {
     "name": "stdout",
     "output_type": "stream",
     "text": [
      "2 2.1 2.1019 2.0057 1.8114\n"
     ]
    }
   ],
   "source": [
    "v0 = 1 # def. v0\n",
    "v1 = v0 + a * delt # v2 berechnen\n",
    "v2 = v1 + a * delt # v3 berechnen\n",
    "v3 = v2 + a * delt # v4 berechnen\n",
    "v4 = v3 + a * delt # v5 berechnen\n",
    "\n",
    "x0 = 2 # def. x0\n",
    "x1 = x0 + v0 * delt # x1 berechnen mit v0\n",
    "x2 = x1 + v1 * delt # x2 berechnen mit v1\n",
    "x3 = x2 + v2 * delt # x3 berechnen mit v2\n",
    "x4 = x3 + v3 * delt # x4 berechnen mit v3\n",
    "print(x0, x1, x2, x3, x4) # Werte x0 - x4 ausgeben lassen"
   ]
  },
  {
   "cell_type": "markdown",
   "metadata": {},
   "source": [
    "## 2. Vergleich mit Bahnkurve\n",
    "\n",
    "Nun wollen wir die gerade errechneten Punkte mit der Bahnkurve (Gleichung (2)) vergleichen. Führen Sie dazu folgende Schritte durch:\n",
    "\n",
    "**a)** Erstellen Sie einen Plot der Bahnkurve mit den Parametern aus der ersten Teilaufgabe. Benutzen Sie dafür das im vorherigen Zettel gegeben Gerüst.  Vergessen Sie nicht die Bibliotheken `numpy` und `matplotlib.pyplot` zu importieren!"
   ]
  },
  {
   "cell_type": "code",
   "execution_count": 3,
   "metadata": {},
   "outputs": [
    {
     "data": {
      "image/png": "[encoded data removed]",
      "text/plain": [
       "<Figure size 432x288 with 1 Axes>"
      ]
     },
     "metadata": {
      "needs_background": "light"
     },
     "output_type": "display_data"
    }
   ],
   "source": [
    "import numpy as np # Bibliotheken importieren\n",
    "import matplotlib.pyplot as plt\n",
    "\n",
    "t = np.linspace(0, 0.4, num=50) # def. t als linspace\n",
    "\n",
    "def Bahnkurve(x0,v0,t): # def. printBahnkurve   \n",
    "    a = -9.81 # def. a\n",
    "    x = x0 + v0*t + 0.5*a * t**2 # def. x\n",
    "    return(x) # Den Wert x ausgeben lassen\n",
    "\n",
    "\n",
    "fig, ax = plt.subplots()\n",
    "\n",
    "ax.set_title(\"Bahnkurve\")  # Titel\n",
    "ax.set_xlabel(\"t\") # x-Achsenbeschriftrung\n",
    "ax.set_ylabel(\"x(t)\") # y-Achsenbeschriftung\n",
    "\n",
    "ax.plot(t,Bahnkurve(x0,v0,t), label=\"analytische Lösung\")\n",
    "ax.legend() # Legende anzeigen\n",
    "\n",
    "plt.show() # plot anzeigen"
   ]
  },
  {
   "cell_type": "markdown",
   "metadata": {},
   "source": [
    "**b)** Schreiben Sie die errechneten Werte $x_0,\\; x_1 ...$ in ein numpy Array per Hand. Wählen Sie einen geeigneten Variablennamen für dieses Array."
   ]
  },
  {
   "cell_type": "code",
   "execution_count": 4,
   "metadata": {},
   "outputs": [],
   "source": [
    "x = np.array([x0, x1, x2, x3, x4]) # def. x als Array"
   ]
  },
  {
   "cell_type": "markdown",
   "metadata": {},
   "source": [
    "**c)** Erstellen Sie mittels `np.linspace()` ein weiteres Array für die fünf Zeitpunkte der numerischen Integration. Wählen Sie einen geeigneten Variablennamen für dieses Array."
   ]
  },
  {
   "cell_type": "code",
   "execution_count": 5,
   "metadata": {},
   "outputs": [],
   "source": [
    "t1 = np.linspace(0, 0.4, num=5) # def. t1 als linspace"
   ]
  },
  {
   "cell_type": "markdown",
   "metadata": {},
   "source": [
    "**d)** Sie sollten nun zwei Arrays mit jeweils fünf Einträgen haben. Plotten Sie diese beiden arrays gegeneinander, indem Sie das vorhandene Gerüst mit folgender Zeile erweitern:\n",
    "```python\n",
    "ax.scatter(t, x, label='numerische Integration')\n",
    "```\n",
    "wobei `t` und `x` die zwei Arrays der numerischen Integration sind. Ändern Sie die Legende und die Achsenbeschriftungen, sodass Ihr Diagramm wie folgt ausssieht:\n",
    "\n",
    "<img src=\"./bahnkurve.png\" alt=\"drawing\" width=\"400\"/>"
   ]
  },
  {
   "cell_type": "code",
   "execution_count": 6,
   "metadata": {
    "ExecuteTime": {
     "end_time": "2019-11-05T10:50:32.035338Z",
     "start_time": "2019-11-05T10:50:31.894730Z"
    }
   },
   "outputs": [
    {
     "data": {
      "image/png": "[encoded data removed]",
      "text/plain": [
       "<Figure size 432x288 with 1 Axes>"
      ]
     },
     "metadata": {
      "needs_background": "light"
     },
     "output_type": "display_data"
    }
   ],
   "source": [
    "def Bahnkurve(x0,v0,t): # def. printBahnkurve   \n",
    "    a = -9.81 # def. a\n",
    "    x = x0 + v0*t + 0.5*a * t**2 # def. x\n",
    "    return(x) # Den Wert x ausgeben lassen\n",
    "\n",
    "fig, ax = plt.subplots()\n",
    "\n",
    "ax.set_title(\"Geradlinige Beschleunigung\")  # Titel\n",
    "ax.set_xlabel(\"Zeit t\") # x-Achsenbeschriftrung\n",
    "ax.set_ylabel(\"Position x\") # y-Achsenbeschriftung\n",
    "\n",
    "ax.plot(t,Bahnkurve(x0,v0,t), label=\"analytische Lösung\") # plot der analytischen Lösung\n",
    "ax.scatter(t1, x, label='numerische Integration') # plot der numerischen Lösung\n",
    "\n",
    "ax.legend(loc=\"lower left\") # legende unten links anzeigen\n",
    "\n",
    "plt.show() # plot drucken"
   ]
  },
  {
   "cell_type": "markdown",
   "metadata": {},
   "source": [
    "**e)** Wie Sie sehen, weicht die numerische Lösung von der analytischen ab. Dies liegt an der Genauigkeit des Lösungsverfahrens und an der Größe des Integrationsschrittes $\\Delta t$. Wiederholen Sie daher die numerische Integration mit einem halb so großen Zeitschritt $\\Delta t = 0.05$ bei sonst gleichen Anfangsbedingungen. Damit die Integrationszeit konstant bleibt, müssen Sie mehr Integrationsschritte durchführen. Machen Sie sich klar, wie viele Schritte Sie benötigen. Stellen Sie das Ergenbis erneut in einem Plot dar. Wählen Sie eine geeignete Legende.  Verlgeichen Sie die Trajektorien der beiden numerischen Lösungen. Was fällt Ihnen auf?"
   ]
  },
  {
   "cell_type": "code",
   "execution_count": 28,
   "metadata": {},
   "outputs": [
    {
     "data": {
      "image/png": "[encoded data removed]",
      "text/plain": [
       "<Figure size 432x288 with 1 Axes>"
      ]
     },
     "metadata": {
      "needs_background": "light"
     },
     "output_type": "display_data"
    }
   ],
   "source": [
    "delt2 = 0.05 # def. delta t\n",
    "a = -9.81 # def. a\n",
    "\n",
    "v0 = 1 # def. v0 \n",
    "v1 = v0 + a * delt2 # v1 berechnen\n",
    "v2 = v1 + a * delt2 # v2 berechnen\n",
    "v3 = v2 + a * delt2 # v3 berechnen\n",
    "v4 = v3 + a * delt2 # v4 berechnen\n",
    "v5 = v4 + a * delt2 # v5 berechnen\n",
    "v6 = v5 + a * delt2 # v6 berechnen\n",
    "v7 = v6 + a * delt2 # v7 berechnen\n",
    "v8 = v7 + a * delt2 # v8 berechnen\n",
    "\n",
    "x0 = 2 # def. x0\n",
    "x1 = x0 + v0 * delt2 # x1 berechnen\n",
    "x2 = x1 + v1 * delt2 # x2 berechnen\n",
    "x3 = x2 + v2 * delt2 # x3 berechnen\n",
    "x4 = x3 + v3 * delt2 # x4 berechnen\n",
    "x5 = x4 + v4 * delt2 # x5 berechnen\n",
    "x6 = x5 + v5 * delt2 # x6 berechnen\n",
    "x7 = x6 + v6 * delt2 # x7 berechnen\n",
    "x8 = x7 + v7 * delt2 # x8 berechnen\n",
    "x9 = x8 + v8 * delt2 # x9 berechnen\n",
    "\n",
    "x2 = np.array([x0, x1, x2, x3, x4, x5, x6, x7, x8, x9]) # def. x2 als array\n",
    "t2 = np.linspace(0, 0.4, num=10) # def. t als linspace\n",
    "\n",
    "def Bahnkurve(x0,v0,t): # die Funktion printBahnkurve definieren    \n",
    "    a = -9.81 # a definieren\n",
    "    x = x0 + v0*t + 0.5*a * t**2 # die Funktion x definieren\n",
    "    return(x) # Den Wert x ausgeben lassen\n",
    "\n",
    "# ### Anfang Grundgerüst ( mit # kann man Kommentare schreiben )\n",
    "\n",
    "fig, ax = plt.subplots()\n",
    "\n",
    "ax.set_title(\"Geradlinige Beschleunigung\")  # Titel\n",
    "ax.set_xlabel(\"Zeit t\") # x-Achsenbeschriftrung\n",
    "ax.set_ylabel(\"Position x\") # y-Achsenbeschriftung\n",
    "\n",
    "plt.grid(b=True, which='major', color='#666666', linestyle='-', alpha=0.6) # grobes Gitter\n",
    "plt.minorticks_on() # Feineres Gitter\n",
    "plt.grid(b=True, which='minor', color='#D3DFED', linestyle='-', alpha=0.2)\n",
    "\n",
    "ax.plot(t,Bahnkurve(x0,v0,t), label=\"analytische Lösung\", color='#FFA6BB')\n",
    "\n",
    "ax.scatter(t2, x2, label='numerische Integration n=8', color='#15F4EE')\n",
    "ax.scatter(t1, x, label='numerische Integration n=4', color='#037971')\n",
    "\n",
    "ax.legend(loc=\"lower left\")\n",
    "\n",
    "plt.show()\n"
   ]
  },
  {
   "cell_type": "code",
   "execution_count": null,
   "metadata": {},
   "outputs": [],
   "source": []
  }
 ],
 "metadata": {
  "kernelspec": {
   "display_name": "Python 3 (ipykernel)",
   "language": "python",
   "name": "python3"
  },
  "language_info": {
   "codemirror_mode": {
    "name": "ipython",
    "version": 3
   },
   "file_extension": ".py",
   "mimetype": "text/x-python",
   "name": "python",
   "nbconvert_exporter": "python",
   "pygments_lexer": "ipython3",
   "version": "3.9.7"
  },
  "latex_envs": {
   "LaTeX_envs_menu_present": true,
   "autoclose": true,
   "autocomplete": true,
   "bibliofile": "biblio.bib",
   "cite_by": "apalike",
   "current_citInitial": 1,
   "eqLabelWithNumbers": true,
   "eqNumInitial": 1,
   "hotkeys": {
    "equation": "Ctrl-E",
    "itemize": "Ctrl-I"
   },
   "labels_anchors": false,
   "latex_user_defs": false,
   "report_style_numbering": false,
   "user_envs_cfg": false
  }
 },
 "nbformat": 4,
 "nbformat_minor": 4
}
