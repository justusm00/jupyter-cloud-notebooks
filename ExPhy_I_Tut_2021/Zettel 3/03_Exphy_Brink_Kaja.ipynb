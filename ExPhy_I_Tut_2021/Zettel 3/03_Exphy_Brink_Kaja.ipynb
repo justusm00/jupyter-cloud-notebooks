{
 "cells": [
  {
   "cell_type": "markdown",
   "metadata": {},
   "source": [
    "<div style=\"text-align: right\"> 08.11.2019</div>\n",
    "\n",
    "***Name:*** Kaja Brink\n",
    "\n",
    "# Hausaufgabe Blatt 3\n",
    "\n",
    "## Integration einer Bewegungsgleichung: Freier Fall\n",
    "\n",
    "In dieser Aufgabe werden wir die Bewegungsgleichung des freien Falls numerisch integrieren. Die Bewegungsgleichung in einer Dimension hat die Form:\n",
    "\\begin{equation}\\tag{1}\n",
    " \\ddot x = \\frac{\\mathrm{d}^2x}{\\mathrm{d}t^2}= a\n",
    "\\end{equation}\n",
    "\n",
    "Die analytische Lösung dieser Gleichung kennen Sie bereits. Es handelt sich dabei um die Bahnkurve\n",
    "\\begin{equation} \\tag{2}\n",
    "x\\!\\left( t \\right) = x_0 + v_0 t + \\frac{1}{2} a t^2.\n",
    "\\end{equation}\n",
    "\n",
    "Ähnlich zur analytischen Lösung, werden wir die Bewegungsgleichung in zwei Schritten integrieren. Dabei nutzen wir aus, dass die Beschleunigung $a$ die zeitliche Ableitung der Geschwindigkeit $v$ und die Geschwindigkeit die zeitliche Ableitung der Position $x$ ist:\n",
    "\\begin{align*}\n",
    "   \\frac{\\mathrm{d}x}{\\mathrm{d}t}=  \\dot x &= v \\\\\n",
    "   \\frac{\\mathrm{d}v}{\\mathrm{d}t}= \\dot v &= a\n",
    "\\end{align*}\n",
    "\n",
    "Zur numerischen Lösung dieser Gleichungen werden wir das sogenannte Euler-Verfahren verwenden. Bei diesem Verfahren wird das Integrationsintervall, in diesem Fall die Zeit, diskretisiert. Typischerweise nennt man den Zeitschritt $\\Delta t$. Die Änderung in der Position $\\Delta x$ und die Änderung der Geschwindigkeit $\\Delta v$ ist daher gegeben durch:\n",
    "\\begin{align*}\n",
    "    \\Delta x &= v\\left(t\\right) \\Delta t \\\\\n",
    "       \\Delta v &= a\\Delta t\n",
    "\\end{align*}\n",
    "\n",
    "Somit ergibt sich als neue Position und neue Geschwindigkeit nach einem Zeitschritt $\\Delta t$:\n",
    "    \\begin{align}\\tag{3}\n",
    "        x\\left(t+\\Delta t \\right) = x\\left(t\\right) + \\Delta x \\\\ \n",
    "        v\\left(t+\\Delta t \\right) = v\\left(t\\right) + \\Delta v \\tag{4}\n",
    "    \\end{align}\n",
    "    \n",
    "    \n",
    "## 1. Integration \"per Hand\"\n",
    "**a)** Bestimmen Sie Ort und Geschwindigkeit nach einem Zeitschritt $\\Delta t = 0.1$, indem Sie die Gleichungen (3) und (4) für die Anfangswerte $x_0=x\\left(t=0\\right) = 2$ und $v_0=v\\left(t=0\\right) = 1$ numerisch integrieren. Dabei soll $a=-9.81$ sein. Geben Sie die resultierende Position und Geschwindigkeit mit dem `print()` Befehl aus.\n"
   ]
  },
  {
   "cell_type": "code",
   "execution_count": 35,
   "metadata": {},
   "outputs": [
    {
     "name": "stdout",
     "output_type": "stream",
     "text": [
      "0.018999999999999906\n",
      "2.1\n"
     ]
    }
   ],
   "source": [
    "import numpy as np # Bibliothek numpy importiert \n",
    "import matplotlib.pyplot as plt # Bibliothek matplotlib importiert \n",
    "\n",
    "x0=2 # x0 festgelegt \n",
    "dt=0.1 # dt=∆t=0.1\n",
    "v0=1 # v0 festgelegt \n",
    "a=-9.81 # a festgelegt \n",
    "\n",
    "v1=v0+a*dt # Berechnung von v1\n",
    "print(v1) # Befehl v1 auszugeben\n",
    "\n",
    "x1=x0+v0*dt # Berechnung von x1\n",
    "print(x1) # Befehl x1 auszugeben\n"
   ]
  },
  {
   "cell_type": "markdown",
   "metadata": {},
   "source": [
    "**b)** Führen Sie die Integration fort, indem Sie das gerade berechnete Ergebnis für die Position und die Geschwindigkeit erneut gemäß Gleichungen (3) und (4) integrieren. Setzen Sie die Integration fort, bis sie fünf Werte $x_0,\\; x_1,\\; x_2,\\; x_3,\\; x_4$ für die Position errechnet haben. Geben Sie die Ergebnisse der Position mit dem `print()` Befehl aus"
   ]
  },
  {
   "cell_type": "code",
   "execution_count": 36,
   "metadata": {
    "ExecuteTime": {
     "end_time": "2019-11-05T10:47:12.200662Z",
     "start_time": "2019-11-05T10:47:12.187553Z"
    }
   },
   "outputs": [
    {
     "name": "stdout",
     "output_type": "stream",
     "text": [
      "2\n",
      "2.1\n",
      "2.1019\n",
      "2.0057\n",
      "1.8114\n"
     ]
    }
   ],
   "source": [
    "import numpy as np \n",
    "import matplotlib.pyplot as plt\n",
    "\n",
    "x0=2\n",
    "dt=0.1\n",
    "v0=1\n",
    "a=-9.81\n",
    "\n",
    "print(x0)\n",
    "\n",
    "v1=v0+a*dt # Berechnung v1\n",
    "x1=x0+v0*dt # Berechnung x1\n",
    "print (x1) # Befehl x1 auzugeben\n",
    "\n",
    "v2=v1+a*dt # Berechnung v2\n",
    "x2=x1+v1*dt # Berechnung x2\n",
    "print (x2) # Befehl x2 auzugeben\n",
    "\n",
    "v3=v2+a*dt # Berechnung v3\n",
    "x3=x2+v2*dt # Berechnung x3\n",
    "print(x3) # Befehl x2 auzugeben\n",
    "\n",
    "v4=v3+a*dt # Berechnung v4\n",
    "x4=x3+v3*dt # Berechnung x4\n",
    "print(x4) # Befehl x4 auzugeben\n"
   ]
  },
  {
   "cell_type": "markdown",
   "metadata": {},
   "source": [
    "## 2. Vergleich mit Bahnkurve\n",
    "\n",
    "Nun wollen wir die gerade errechneten Punkte mit der Bahnkurve (Gleichung (2)) vergleichen. Führen Sie dazu folgende Schritte durch:\n",
    "\n",
    "**a)** Erstellen Sie einen Plot der Bahnkurve mit den Parametern aus der ersten Teilaufgabe. Benutzen Sie dafür das im vorherigen Zettel gegeben Gerüst.  Vergessen Sie nicht die Bibliotheken `numpy` und `matplotlib.pyplot` zu importieren!"
   ]
  },
  {
   "cell_type": "code",
   "execution_count": 37,
   "metadata": {},
   "outputs": [
    {
     "data": {
      "image/png": "[encoded data removed]",
      "text/plain": [
       "<Figure size 432x288 with 1 Axes>"
      ]
     },
     "metadata": {
      "needs_background": "light"
     },
     "output_type": "display_data"
    }
   ],
   "source": [
    "import numpy as np \n",
    "import matplotlib.pyplot as plt # lade matplotlib als Bibliothek\n",
    "\n",
    "v0=1\n",
    "x0=2\n",
    "a=g=-9.81\n",
    "\n",
    "ax = plt.subplot()\n",
    "\n",
    "t=np.linspace(0,0.4,100)\n",
    "\n",
    "def Bahnkurve (x0, v0, t):\n",
    "    return x0+v0*t+0.5*a*t**2\n",
    "\n",
    "\n",
    "ax.set_title(\"Bahnkurve\")  # Titel\n",
    "ax.set_xlabel(\"Zeit t\") # x-Achsenbeschriftrung\n",
    "ax.set_ylabel(\"Position x(t)\") # y-Achsenbeschriftung\n",
    "\n",
    "\n",
    "\n",
    "plt.plot(t,Bahnkurve(x0, v0, t))\n",
    "plt.show()"
   ]
  },
  {
   "cell_type": "markdown",
   "metadata": {},
   "source": [
    "**b)** Schreiben Sie die errechneten Werte $x_0,\\; x_1 ...$ in ein numpy Array per Hand. Wählen Sie einen geeigneten Variablennamen für dieses Array."
   ]
  },
  {
   "cell_type": "code",
   "execution_count": 38,
   "metadata": {},
   "outputs": [
    {
     "name": "stdout",
     "output_type": "stream",
     "text": [
      "[2.     2.1    2.1019 2.0057 1.8114]\n"
     ]
    }
   ],
   "source": [
    "xnumerisch= np.array([2, 2.1, 2.1019, 2.0057, 1.8114]) \n",
    "print (xnumerisch)"
   ]
  },
  {
   "cell_type": "markdown",
   "metadata": {},
   "source": [
    "**c)** Erstellen Sie mittels `np.linspace()` ein weiteres Array für die fünf Zeitpunkte der numerischen Integration. Wählen Sie einen geeigneten Variablennamen für dieses Array."
   ]
  },
  {
   "cell_type": "code",
   "execution_count": 39,
   "metadata": {},
   "outputs": [
    {
     "name": "stdout",
     "output_type": "stream",
     "text": [
      "[0.  0.1 0.2 0.3 0.4]\n"
     ]
    }
   ],
   "source": [
    "tZeitpunkte= np.linspace(0, 0.4, 5) \n",
    "print(tZeitpunkte)"
   ]
  },
  {
   "cell_type": "markdown",
   "metadata": {},
   "source": [
    "**d)** Sie sollten nun zwei Arrays mit jeweils fünf Einträgen haben. Plotten Sie diese beiden arrays gegeneinander, indem Sie das vorhandene Gerüst mit folgender Zeile erweitern:\n",
    "```python\n",
    "ax.scatter(t, x, label='numerische Integration')\n",
    "```\n",
    "wobei `t` und `x` die zwei Arrays der numerischen Integration sind. Ändern Sie die Legende und die Achsenbeschriftungen, sodass Ihr Diagramm wie folgt ausssieht:\n",
    "\n",
    "<img src=\"./bahnkurve.png\" alt=\"drawing\" width=\"400\"/>"
   ]
  },
  {
   "cell_type": "code",
   "execution_count": 40,
   "metadata": {},
   "outputs": [
    {
     "data": {
      "image/png": "[encoded data removed]",
      "text/plain": [
       "<Figure size 432x288 with 1 Axes>"
      ]
     },
     "metadata": {
      "needs_background": "light"
     },
     "output_type": "display_data"
    }
   ],
   "source": [
    "import numpy as np \n",
    "import matplotlib.pyplot as plt # lade matplotlib als Bibliothek\n",
    "\n",
    "t= np.linspace(0, 0.4, 5) # Werte für t festgelegt \n",
    "x= np.array([2, 2.1, 2.1019, 2.0057, 1.8114]) # Werte für x festgelegt \n",
    "\n",
    "\n",
    "fig, ax = plt.subplots()\n",
    "\n",
    "ax.set_title(\"Numerische und Analytische Bahnkurve\")  # Titel\n",
    "ax.set_xlabel(\"Zeit t\") # x-Achsenbeschriftrung\n",
    "ax.set_ylabel(\"Ort x(t)\") # y-Achsenbeschriftung\n",
    "\n",
    "ax.scatter(t, x)  # x-Wert hier: t, y Wert hier: x(t)\n",
    "ax.scatter(t,x, label='numerische Lösung') # \n",
    "\n",
    "t=np.linspace(0,0.4,100) # Werte für t \n",
    "x=x0+v0*t+0.5*a*t**2 # Formel für x (analytische Lösung)\n",
    "ax.plot(t,x, label='analytische Lösung')\n",
    "\n",
    "ax.legend(loc='lower left') # Befehl, Legende in linker Ecke unten anzuzeigen \n",
    "plt.show()\n"
   ]
  },
  {
   "cell_type": "markdown",
   "metadata": {},
   "source": [
    "**e)** Wie Sie sehen, weicht die numerische Lösung von der analytischen ab. Dies liegt an der Genauigkeit des Lösungsverfahrens und an der Größe des Integrationsschrittes $\\Delta t$. Wiederholen Sie daher die numerische Integration mit einem halb so großen Zeitschritt $\\Delta t = 0.05$ bei sonst gleichen Anfangsbedingungen. Damit die Integrationszeit konstant bleibt, müssen Sie mehr Integrationsschritte durchführen. Machen Sie sich klar, wie viele Schritte Sie benötigen. Stellen Sie das Ergenbis erneut in einem Plot dar. Wählen Sie eine geeignete Legende.  Verlgeichen Sie die Trajektorien der beiden numerischen Lösungen. Was fällt Ihnen auf?"
   ]
  },
  {
   "cell_type": "code",
   "execution_count": 41,
   "metadata": {},
   "outputs": [
    {
     "name": "stdout",
     "output_type": "stream",
     "text": [
      "2\n",
      "2.05\n",
      "2.075475\n",
      "2.076425\n",
      "2.05285\n",
      "2.00475\n",
      "1.932125\n",
      "1.834975\n",
      "1.7133\n"
     ]
    }
   ],
   "source": [
    "import numpy as np \n",
    "import matplotlib.pyplot as plt\n",
    "\n",
    "x0=2\n",
    "dt=0.05\n",
    "v0=1\n",
    "a=-9.81\n",
    "\n",
    "print(x0)\n",
    "\n",
    "v1=v0+a*dt\n",
    "x1=x0+v0*dt\n",
    "print (x1)\n",
    "\n",
    "v2=v1+a*dt\n",
    "x2=x1+v1*dt\n",
    "print (x2)\n",
    "\n",
    "v3=v2+a*dt\n",
    "x3=x2+v2*dt\n",
    "print(x3)\n",
    "\n",
    "v4=v3+a*dt\n",
    "x4=x3+v3*dt\n",
    "print(x4)\n",
    "\n",
    "v5=v4+a*dt\n",
    "x5=x4+v4*dt\n",
    "print(x5)\n",
    "\n",
    "v6=v5+a*dt\n",
    "x6=x5+v5*dt \n",
    "print(x6)\n",
    "\n",
    "v7=v6+a*dt\n",
    "x7=x6+v6*dt\n",
    "print(x7) \n",
    "\n",
    "v8=v7+a*dt\n",
    "x8=x7+v7*dt\n",
    "print (x8)\n"
   ]
  },
  {
   "cell_type": "code",
   "execution_count": 42,
   "metadata": {},
   "outputs": [
    {
     "name": "stdout",
     "output_type": "stream",
     "text": [
      "[0.  0.1 0.2 0.3 0.4]\n"
     ]
    },
    {
     "data": {
      "image/png": "[encoded data removed]",
      "text/plain": [
       "<Figure size 432x288 with 1 Axes>"
      ]
     },
     "metadata": {
      "needs_background": "light"
     },
     "output_type": "display_data"
    }
   ],
   "source": [
    "import numpy as np \n",
    "import matplotlib.pyplot as plt # lade matplotlib als Bibliothek\n",
    "\n",
    "t= np.linspace(0, 0.4, 5) # Werte für t festgelegt \n",
    "x= np.array([2, 2.1, 2.1019, 2.0057, 1.8114]) # Werte für x festegelgt \n",
    "print(t)\n",
    "\n",
    "fig, ax = plt.subplots()\n",
    "\n",
    "ax.set_title(\"Numerische Bahnkurven\")  # Titel\n",
    "ax.set_xlabel(\"Zeit t\") # x-Achsenbeschriftrung\n",
    "ax.set_ylabel(\"Ort x(t)\") # y-Achsenbeschriftung\n",
    "\n",
    "\n",
    "ax.scatter(t,x, label='numerische Lösung ∆t=0.1')# x-Wert hier: t, y Wert hier: x(t)\n",
    "\n",
    "t=np.linspace(0, 0.4, 9) # Werte für t festgelegt \n",
    "x=np.array([2, 2.05, 2.075475, 2.076425, 2.05285, 2.00475, 1.932125, 1.834975, 1.7133]) # Werte für x festgelegt \n",
    "ax.scatter(t,x, label='numerische Lösung ∆t=0.05')\n",
    "\n",
    "ax.legend(loc='lower left') # Befehl, Legende unten links anzuzeigen \n",
    "plt.show()\n",
    "\n",
    "# Die numerische Lösung mit ∆t=0.5 sieht der analytischen Lösung deutlich ähnlicher. Die Kurve ist viel runder und weniger eckig. "
   ]
  }
 ],
 "metadata": {
  "kernelspec": {
   "display_name": "Python 3 (ipykernel)",
   "language": "python",
   "name": "python3"
  },
  "language_info": {
   "codemirror_mode": {
    "name": "ipython",
    "version": 3
   },
   "file_extension": ".py",
   "mimetype": "text/x-python",
   "name": "python",
   "nbconvert_exporter": "python",
   "pygments_lexer": "ipython3",
   "version": "3.9.7"
  },
  "latex_envs": {
   "LaTeX_envs_menu_present": true,
   "autoclose": true,
   "autocomplete": true,
   "bibliofile": "biblio.bib",
   "cite_by": "apalike",
   "current_citInitial": 1,
   "eqLabelWithNumbers": true,
   "eqNumInitial": 1,
   "hotkeys": {
    "equation": "Ctrl-E",
    "itemize": "Ctrl-I"
   },
   "labels_anchors": false,
   "latex_user_defs": false,
   "report_style_numbering": false,
   "user_envs_cfg": false
  }
 },
 "nbformat": 4,
 "nbformat_minor": 4
}
