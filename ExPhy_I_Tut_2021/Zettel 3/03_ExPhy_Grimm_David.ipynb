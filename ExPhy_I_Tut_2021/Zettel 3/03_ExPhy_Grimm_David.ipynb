{
 "cells": [
  {
   "cell_type": "markdown",
   "metadata": {},
   "source": [
    "<div style=\"text-align: right\"> 08.11.2019</div>\n",
    "\n",
    "***Name:*** \n",
    "\n",
    "# Hausaufgabe Blatt 3\n",
    "\n",
    "## Integration einer Bewegungsgleichung: Freier Fall\n",
    "\n",
    "In dieser Aufgabe werden wir die Bewegungsgleichung des freien Falls numerisch integrieren. Die Bewegungsgleichung in einer Dimension hat die Form:\n",
    "\\begin{equation}\\tag{1}\n",
    " \\ddot x = \\frac{\\mathrm{d}^2x}{\\mathrm{d}t^2}= a\n",
    "\\end{equation}\n",
    "\n",
    "Die analytische Lösung dieser Gleichung kennen Sie bereits. Es handelt sich dabei um die Bahnkurve\n",
    "\\begin{equation} \\tag{2}\n",
    "x\\!\\left( t \\right) = x_0 + v_0 t + \\frac{1}{2} a t^2.\n",
    "\\end{equation}\n",
    "\n",
    "Ähnlich zur analytischen Lösung, werden wir die Bewegungsgleichung in zwei Schritten integrieren. Dabei nutzen wir aus, dass die Beschleunigung $a$ die zeitliche Ableitung der Geschwindigkeit $v$ und die Geschwindigkeit die zeitliche Ableitung der Position $x$ ist:\n",
    "\\begin{align*}\n",
    "   \\frac{\\mathrm{d}x}{\\mathrm{d}t}=  \\dot x &= v \\\\\n",
    "   \\frac{\\mathrm{d}v}{\\mathrm{d}t}= \\dot v &= a\n",
    "\\end{align*}\n",
    "\n",
    "Zur numerischen Lösung dieser Gleichungen werden wir das sogenannte Euler-Verfahren verwenden. Bei diesem Verfahren wird das Integrationsintervall, in diesem Fall die Zeit, diskretisiert. Typischerweise nennt man den Zeitschritt $\\Delta t$. Die Änderung in der Position $\\Delta x$ und die Änderung der Geschwindigkeit $\\Delta v$ ist daher gegeben durch:\n",
    "\\begin{align*}\n",
    "    \\Delta x &= v\\left(t\\right) \\Delta t \\\\\n",
    "       \\Delta v &= a\\Delta t\n",
    "\\end{align*}\n",
    "\n",
    "Somit ergibt sich als neue Position und neue Geschwindigkeit nach einem Zeitschritt $\\Delta t$:\n",
    "    \\begin{align}\\tag{3}\n",
    "        x\\left(t+\\Delta t \\right) = x\\left(t\\right) + \\Delta x \\\\ \n",
    "        v\\left(t+\\Delta t \\right) = v\\left(t\\right) + \\Delta v \\tag{4}\n",
    "    \\end{align}\n",
    "    \n",
    "    \n",
    "## 1. Integration \"per Hand\"\n",
    "**a)** Bestimmen Sie Ort und Geschwindigkeit nach einem Zeitschritt $\\Delta t = 0.1$, indem Sie die Gleichungen (3) und (4) für die Anfangswerte $x_0=x\\left(t=0\\right) = 2$ und $v_0=v\\left(t=0\\right) = 1$ numerisch integrieren. Dabei soll $a=-9.81$ sein. Geben Sie die resultierende Position und Geschwindigkeit mit dem `print()` Befehl aus.\n"
   ]
  },
  {
   "cell_type": "code",
   "execution_count": 1,
   "metadata": {
    "ExecuteTime": {
     "end_time": "2019-11-05T10:47:11.833903Z",
     "start_time": "2019-11-05T10:47:11.817982Z"
    }
   },
   "outputs": [
    {
     "name": "stdout",
     "output_type": "stream",
     "text": [
      "[0.018999999999999906, 2.0019]\n"
     ]
    }
   ],
   "source": [
    "# Funktion für Zeitschritt, gibt  [v, x] zurück\n",
    "def schritt(v, x, dt, a):\n",
    "    # Neue Geschwindigkeit und Position berechnen\n",
    "    v += dt * a\n",
    "    x += dt * v\n",
    "    # Wert zurückgeben\n",
    "    return [v, x]\n",
    "# Werte definieren\n",
    "v = 1\n",
    "x = 2\n",
    "# schritt machen\n",
    "[v, x] = schritt(v, x, 0.1, -9.81)\n",
    "# werte ausgeben\n",
    "print([v, x])"
   ]
  },
  {
   "cell_type": "markdown",
   "metadata": {},
   "source": [
    "**b)** Führen Sie die Integration fort, indem Sie das gerade berechnete Ergebnis für die Position und die Geschwindigkeit erneut gemäß Gleichungen (3) und (4) integrieren. Setzen Sie die Integration fort, bis sie fünf Werte $x_0,\\; x_1,\\; x_2,\\; x_3,\\; x_4$ für die Position errechnet haben. Geben Sie die Ergebnisse der Position mit dem `print()` Befehl aus"
   ]
  },
  {
   "cell_type": "code",
   "execution_count": 2,
   "metadata": {
    "ExecuteTime": {
     "end_time": "2019-11-05T10:47:12.200662Z",
     "start_time": "2019-11-05T10:47:12.187553Z"
    }
   },
   "outputs": [
    {
     "name": "stdout",
     "output_type": "stream",
     "text": [
      "[-0.9620000000000002, 1.9057]\n",
      "[-1.9430000000000003, 1.7113999999999998]\n",
      "[-2.9240000000000004, 1.4189999999999998]\n"
     ]
    }
   ],
   "source": [
    "for k in range(3):\n",
    "    [v, x] = schritt(v, x, 0.1, -9.81)\n",
    "    print([v, x])"
   ]
  },
  {
   "cell_type": "markdown",
   "metadata": {},
   "source": [
    "## 2. Vergleich mit Bahnkurve\n",
    "\n",
    "Nun wollen wir die gerade errechneten Punkte mit der Bahnkurve (Gleichung (2)) vergleichen. Führen Sie dazu folgende Schritte durch:\n",
    "\n",
    "**a)** Erstellen Sie einen Plot der Bahnkurve mit den Parametern aus der ersten Teilaufgabe. Benutzen Sie dafür das im vorherigen Zettel gegeben Gerüst.  Vergessen Sie nicht die Bibliotheken `numpy` und `matplotlib.pyplot` zu importieren!"
   ]
  },
  {
   "cell_type": "code",
   "execution_count": 3,
   "metadata": {},
   "outputs": [
    {
     "data": {
      "text/plain": [
       "<matplotlib.legend.Legend at 0x7f88911b4be0>"
      ]
     },
     "execution_count": 3,
     "metadata": {},
     "output_type": "execute_result"
    },
    {
     "data": {
      "image/png": "[encoded data removed]",
      "text/plain": [
       "<Figure size 432x288 with 1 Axes>"
      ]
     },
     "metadata": {
      "needs_background": "light"
     },
     "output_type": "display_data"
    }
   ],
   "source": [
    "# Bibliotheken importieren\n",
    "import numpy as np\n",
    "import matplotlib.pyplot as plt\n",
    "# Plot initialisieren\n",
    "fig, bkv = plt.subplots()\n",
    "# Beschriftungen\n",
    "bkv.set_title(\"Bahnkurve\")\n",
    "bkv.set_xlabel(\"Zeit $t$\")\n",
    "bkv.set_ylabel(\"Höhe $x$\")\n",
    "# t definieren\n",
    "t = np.linspace(0, 0.4, 50)\n",
    "bkv.plot(t, 2 + t - 9.81 * t ** 2 / 2, label=\"Bahnkurve\")\n",
    "bkv.legend()"
   ]
  },
  {
   "cell_type": "markdown",
   "metadata": {},
   "source": [
    "**b)** Schreiben Sie die errechneten Werte $x_0,\\; x_1 ...$ in ein numpy Array per Hand. Wählen Sie einen geeigneten Variablennamen für dieses Array."
   ]
  },
  {
   "cell_type": "code",
   "execution_count": 4,
   "metadata": {},
   "outputs": [],
   "source": [
    "#Anfangswerte zurücksetzen\n",
    "x = 2\n",
    "v = 1\n",
    "# Array erstellen\n",
    "xarray = np.array([])\n",
    "# Array füllen\n",
    "for k in range(5):\n",
    "    xarray = np.append(xarray, x)\n",
    "    [v, x] = schritt(v, x, 0.1, -9.81)"
   ]
  },
  {
   "cell_type": "markdown",
   "metadata": {},
   "source": [
    "**c)** Erstellen Sie mittels `np.linspace()` ein weiteres Array für die fünf Zeitpunkte der numerischen Integration. Wählen Sie einen geeigneten Variablennamen für dieses Array."
   ]
  },
  {
   "cell_type": "code",
   "execution_count": 5,
   "metadata": {},
   "outputs": [
    {
     "data": {
      "text/plain": [
       "<matplotlib.legend.Legend at 0x7f8890f97640>"
      ]
     },
     "execution_count": 5,
     "metadata": {},
     "output_type": "execute_result"
    },
    {
     "data": {
      "image/png": "[encoded data removed]",
      "text/plain": [
       "<Figure size 432x288 with 1 Axes>"
      ]
     },
     "metadata": {
      "needs_background": "light"
     },
     "output_type": "display_data"
    }
   ],
   "source": [
    "# Zeitachse generieren\n",
    "tarray = np.linspace(0, 0.4, 5)\n",
    "# noch einmal das ganze subplots-gerüst\n",
    "fig, bkv = plt.subplots()\n",
    "# Beschriftungen\n",
    "bkv.set_title(\"Bahnkurve\")\n",
    "bkv.set_xlabel(\"Zeit $t$\")\n",
    "bkv.set_ylabel(\"Höhe $x$\")\n",
    "# t definieren\n",
    "t = np.linspace(0, 0.4, 50)\n",
    "bkv.plot(t, 2 + t - 9.81 * t ** 2 / 2, label=\"Bahnkurve\")\n",
    "# numerische Werte anzeigen\n",
    "bkv.scatter(tarray, xarray, label=\"Numerische Integration\")\n",
    "# Legende anzeigen\n",
    "bkv.legend()"
   ]
  },
  {
   "cell_type": "markdown",
   "metadata": {},
   "source": [
    "**d)** Sie sollten nun zwei Arrays mit jeweils fünf Einträgen haben. Plotten Sie diese beiden arrays gegeneinander, indem Sie das vorhandene Gerüst mit folgender Zeile erweitern:\n",
    "```python\n",
    "ax.scatter(t, x, label='numerische Integration')\n",
    "```\n",
    "wobei `t` und `x` die zwei Arrays der numerischen Integration sind. Ändern Sie die Legende und die Achsenbeschriftungen, sodass Ihr Diagramm wie folgt ausssieht:\n",
    "\n",
    "<img src=\"./bahnkurve.png\" alt=\"drawing\" width=\"400\"/>"
   ]
  },
  {
   "cell_type": "code",
   "execution_count": 6,
   "metadata": {
    "ExecuteTime": {
     "end_time": "2019-11-05T10:50:32.035338Z",
     "start_time": "2019-11-05T10:50:31.894730Z"
    }
   },
   "outputs": [
    {
     "data": {
      "text/plain": [
       "<matplotlib.legend.Legend at 0x7f8890f5d430>"
      ]
     },
     "execution_count": 6,
     "metadata": {},
     "output_type": "execute_result"
    },
    {
     "data": {
      "image/png": "[encoded data removed]",
      "text/plain": [
       "<Figure size 432x288 with 1 Axes>"
      ]
     },
     "metadata": {
      "needs_background": "light"
     },
     "output_type": "display_data"
    }
   ],
   "source": [
    "#Anfangswerte zurücksetzen\n",
    "x = 2\n",
    "v = 1\n",
    "# Array erstellen\n",
    "xarray = np.array([])\n",
    "# Array füllen\n",
    "for k in range(10):\n",
    "    xarray = np.append(xarray, x)\n",
    "    [v, x] = schritt(v, x, 0.05, -9.81)\n",
    "# Zeitachse generieren\n",
    "tarray = np.linspace(0, 0.45, 10)\n",
    "# noch einmal das ganze subplots-gerüst\n",
    "fig, bkv = plt.subplots()\n",
    "# Beschriftungen\n",
    "bkv.set_title(\"Bahnkurve\")\n",
    "bkv.set_xlabel(\"Zeit $t$\")\n",
    "bkv.set_ylabel(\"Höhe $x$\")\n",
    "# t definieren\n",
    "t = np.linspace(0, 0.45, 50)\n",
    "bkv.plot(t, 2 + t - 9.81 * t ** 2 / 2, label=\"Bahnkurve\")\n",
    "# numerische Werte anzeigen\n",
    "bkv.scatter(tarray, xarray, label=\"Numerische Integration\")\n",
    "# Legende anzeigen\n",
    "bkv.legend()"
   ]
  },
  {
   "cell_type": "markdown",
   "metadata": {},
   "source": [
    "**e)** Wie Sie sehen, weicht die numerische Lösung von der analytischen ab. Dies liegt an der Genauigkeit des Lösungsverfahrens und an der Größe des Integrationsschrittes $\\Delta t$. Wiederholen Sie daher die numerische Integration mit einem halb so großen Zeitschritt $\\Delta t = 0.05$ bei sonst gleichen Anfangsbedingungen. Damit die Integrationszeit konstant bleibt, müssen Sie mehr Integrationsschritte durchführen. Machen Sie sich klar, wie viele Schritte Sie benötigen. Stellen Sie das Ergenbis erneut in einem Plot dar. Wählen Sie eine geeignete Legende.  Verlgeichen Sie die Trajektorien der beiden numerischen Lösungen. Was fällt Ihnen auf?"
   ]
  },
  {
   "cell_type": "code",
   "execution_count": 7,
   "metadata": {},
   "outputs": [
    {
     "data": {
      "text/plain": [
       "<matplotlib.legend.Legend at 0x7f8890f7e280>"
      ]
     },
     "execution_count": 7,
     "metadata": {},
     "output_type": "execute_result"
    },
    {
     "data": {
      "image/png": "[encoded data removed]",
      "text/plain": [
       "<Figure size 432x288 with 1 Axes>"
      ]
     },
     "metadata": {
      "needs_background": "light"
     },
     "output_type": "display_data"
    }
   ],
   "source": [
    "# Passt besser. vielleicht mit 100 schritten noch besser:\n",
    "#Anfangswerte zurücksetzen\n",
    "x = 2\n",
    "v = 1\n",
    "# Array erstellen\n",
    "xarray = np.array([])\n",
    "# Array füllen\n",
    "for k in range(100):\n",
    "    xarray = np.append(xarray, x)\n",
    "    [v, x] = schritt(v, x, 0.005, -9.81)\n",
    "# Zeitachse generieren\n",
    "tarray = np.linspace(0, 0.495, 100)\n",
    "\n",
    "# noch einmal das ganze subplots-gerüst\n",
    "fig, bkv = plt.subplots()\n",
    "# Beschriftungen\n",
    "bkv.set_title(\"Bahnkurve\")\n",
    "bkv.set_xlabel(\"Zeit $t$\")\n",
    "bkv.set_ylabel(\"Höhe $x$\")\n",
    "# t definieren\n",
    "t = np.linspace(0, 0.49, 50)\n",
    "bkv.plot(t, 2 + t - 9.81 * t ** 2 / 2, label=\"Bahnkurve\")\n",
    "# numerische Werte anzeigen\n",
    "bkv.scatter(tarray, xarray, label=\"Numerische Integration\")\n",
    "# legende\n",
    "bkv.legend()\n",
    "# tatsächlich"
   ]
  }
 ],
 "metadata": {
  "kernelspec": {
   "display_name": "Python 3 (ipykernel)",
   "language": "python",
   "name": "python3"
  },
  "language_info": {
   "codemirror_mode": {
    "name": "ipython",
    "version": 3
   },
   "file_extension": ".py",
   "mimetype": "text/x-python",
   "name": "python",
   "nbconvert_exporter": "python",
   "pygments_lexer": "ipython3",
   "version": "3.9.7"
  },
  "latex_envs": {
   "LaTeX_envs_menu_present": true,
   "autoclose": true,
   "autocomplete": true,
   "bibliofile": "biblio.bib",
   "cite_by": "apalike",
   "current_citInitial": 1,
   "eqLabelWithNumbers": true,
   "eqNumInitial": 1,
   "hotkeys": {
    "equation": "Ctrl-E",
    "itemize": "Ctrl-I"
   },
   "labels_anchors": false,
   "latex_user_defs": false,
   "report_style_numbering": false,
   "user_envs_cfg": false
  }
 },
 "nbformat": 4,
 "nbformat_minor": 4
}
