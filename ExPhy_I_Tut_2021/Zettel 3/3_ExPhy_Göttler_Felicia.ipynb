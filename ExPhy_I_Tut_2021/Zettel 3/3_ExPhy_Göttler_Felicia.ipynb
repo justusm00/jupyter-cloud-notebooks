{
 "cells": [
  {
   "cell_type": "markdown",
   "metadata": {},
   "source": [
    "<div style=\"text-align: right\"> 08.11.2019</div>\n",
    "\n",
    "***Name:*** \n",
    "\n",
    "# Hausaufgabe Blatt 3\n",
    "\n",
    "## Integration einer Bewegungsgleichung: Freier Fall\n",
    "\n",
    "In dieser Aufgabe werden wir die Bewegungsgleichung des freien Falls numerisch integrieren. Die Bewegungsgleichung in einer Dimension hat die Form:\n",
    "\\begin{equation}\\tag{1}\n",
    " \\ddot x = \\frac{\\mathrm{d}^2x}{\\mathrm{d}t^2}= a\n",
    "\\end{equation}\n",
    "\n",
    "Die analytische Lösung dieser Gleichung kennen Sie bereits. Es handelt sich dabei um die Bahnkurve\n",
    "\\begin{equation} \\tag{2}\n",
    "x\\!\\left( t \\right) = x_0 + v_0 t + \\frac{1}{2} a t^2.\n",
    "\\end{equation}\n",
    "\n",
    "Ähnlich zur analytischen Lösung, werden wir die Bewegungsgleichung in zwei Schritten integrieren. Dabei nutzen wir aus, dass die Beschleunigung $a$ die zeitliche Ableitung der Geschwindigkeit $v$ und die Geschwindigkeit die zeitliche Ableitung der Position $x$ ist:\n",
    "\\begin{align*}\n",
    "   \\frac{\\mathrm{d}x}{\\mathrm{d}t}=  \\dot x &= v \\\\\n",
    "   \\frac{\\mathrm{d}v}{\\mathrm{d}t}= \\dot v &= a\n",
    "\\end{align*}\n",
    "\n",
    "Zur numerischen Lösung dieser Gleichungen werden wir das sogenannte Euler-Verfahren verwenden. Bei diesem Verfahren wird das Integrationsintervall, in diesem Fall die Zeit, diskretisiert. Typischerweise nennt man den Zeitschritt $\\Delta t$. Die Änderung in der Position $\\Delta x$ und die Änderung der Geschwindigkeit $\\Delta v$ ist daher gegeben durch:\n",
    "\\begin{align*}\n",
    "    \\Delta x &= v\\left(t\\right) \\Delta t \\\\\n",
    "       \\Delta v &= a\\Delta t\n",
    "\\end{align*}\n",
    "\n",
    "Somit ergibt sich als neue Position und neue Geschwindigkeit nach einem Zeitschritt $\\Delta t$:\n",
    "    \\begin{align}\\tag{3}\n",
    "        x\\left(t+\\Delta t \\right) = x\\left(t\\right) + \\Delta x \\\\ \n",
    "        v\\left(t+\\Delta t \\right) = v\\left(t\\right) + \\Delta v \\tag{4}\n",
    "    \\end{align}\n",
    "    \n",
    "    \n",
    "## 1. Integration \"per Hand\"\n",
    "**a)** Bestimmen Sie Ort und Geschwindigkeit nach einem Zeitschritt $\\Delta t = 0.1$, indem Sie die Gleichungen (3) und (4) für die Anfangswerte $x_0=x\\left(t=0\\right) = 2$ und $v_0=v\\left(t=0\\right) = 1$ numerisch integrieren. Dabei soll $a=-9.81$ sein. Geben Sie die resultierende Position und Geschwindigkeit mit dem `print()` Befehl aus.\n"
   ]
  },
  {
   "cell_type": "code",
   "execution_count": 60,
   "metadata": {
    "ExecuteTime": {
     "end_time": "2019-11-05T10:47:11.833903Z",
     "start_time": "2019-11-05T10:47:11.817982Z"
    }
   },
   "outputs": [
    {
     "name": "stdout",
     "output_type": "stream",
     "text": [
      "x1 = 2.1\n",
      "v1 = 0.018999999999999906\n"
     ]
    }
   ],
   "source": [
    "#Parameter definieren:\n",
    "dt = 0.1\n",
    "a = -9.81\n",
    "dv = a * dt #Konstant bei gleich großen Schritten\n",
    "v0 = 1\n",
    "x0 = 2\n",
    "\n",
    "#Gleichung für dv in 4 eingesetzt\n",
    "def v (dt):\n",
    "    return v0 + dv\n",
    "\n",
    "#Gleichung für dx in 3 eingesetzt\n",
    "def x (dt): \n",
    "    return x0 + v0 * dt\n",
    "\n",
    "#Ausgeben lassen\n",
    "print ('x1 =', x(dt))\n",
    "print ('v1 =', v(dt))\n"
   ]
  },
  {
   "cell_type": "markdown",
   "metadata": {},
   "source": [
    "**b)** Führen Sie die Integration fort, indem Sie das gerade berechnete Ergebnis für die Position und die Geschwindigkeit erneut gemäß Gleichungen (3) und (4) integrieren. Setzen Sie die Integration fort, bis sie fünf Werte $x_0,\\; x_1,\\; x_2,\\; x_3,\\; x_4$ für die Position errechnet haben. Geben Sie die Ergebnisse der Position mit dem `print()` Befehl aus"
   ]
  },
  {
   "cell_type": "code",
   "execution_count": 61,
   "metadata": {
    "ExecuteTime": {
     "end_time": "2019-11-05T10:47:12.200662Z",
     "start_time": "2019-11-05T10:47:12.187553Z"
    }
   },
   "outputs": [
    {
     "name": "stdout",
     "output_type": "stream",
     "text": [
      "x2 = 2.1019\n",
      "v2 = -0.9620000000000002\n",
      "x3 = 2.0057\n",
      "v3 = -1.9430000000000003\n",
      "x4 = 1.8114\n",
      "v4 = -2.9240000000000004\n"
     ]
    }
   ],
   "source": [
    "#Neue v0, x0\n",
    "v0 = 0.018999999999999906\n",
    "x0 = 2.1\n",
    "\n",
    "#Werte ausgeben\n",
    "print ('x2 =', x(dt))\n",
    "print ('v2 =', v(dt))\n",
    "\n",
    "#als neue v0, x0 definieren\n",
    "v0 = -0.9620000000000002\n",
    "x0 = 2.1019\n",
    "\n",
    "#Werte ausgeben\n",
    "print ('x3 =', x(dt))\n",
    "print ('v3 =', v(dt))\n",
    "\n",
    "#usw\n",
    "#als neue v0, x0 definieren\n",
    "v0 = -1.9430000000000003\n",
    "x0 = 2.0057\n",
    "\n",
    "#Werte ausgeben\n",
    "print ('x4 =', x(dt))\n",
    "print ('v4 =', v(dt))\n"
   ]
  },
  {
   "cell_type": "markdown",
   "metadata": {},
   "source": [
    "## 2. Vergleich mit Bahnkurve\n",
    "\n",
    "Nun wollen wir die gerade errechneten Punkte mit der Bahnkurve (Gleichung (2)) vergleichen. Führen Sie dazu folgende Schritte durch:\n",
    "\n",
    "**a)** Erstellen Sie einen Plot der Bahnkurve mit den Parametern aus der ersten Teilaufgabe. Benutzen Sie dafür das im vorherigen Zettel gegeben Gerüst.  Vergessen Sie nicht die Bibliotheken `numpy` und `matplotlib.pyplot` zu importieren!"
   ]
  },
  {
   "cell_type": "code",
   "execution_count": 62,
   "metadata": {},
   "outputs": [
    {
     "data": {
      "image/png": "[encoded data removed]",
      "text/plain": [
       "<Figure size 432x288 with 1 Axes>"
      ]
     },
     "metadata": {
      "needs_background": "light"
     },
     "output_type": "display_data"
    }
   ],
   "source": [
    "import numpy as np\n",
    "import matplotlib.pyplot as plt\n",
    "\n",
    "#Parameter definieren\n",
    "x0 = 2\n",
    "v0 = 1\n",
    "\n",
    "t = np.linspace(0, 0.4, 20) # definiere t\n",
    "Bahnkurve = x0 + v0 * t + 0.5 * a * t**2 #Ergebnisse aus Teil 1\n",
    "\n",
    "fig, ax = plt.subplots()\n",
    "\n",
    "ax.set_title(\"Bahnkurve\")  # Titel\n",
    "ax.set_xlabel(\"t\") # x-Achsenbeschriftrung\n",
    "ax.set_ylabel(\"x(t)\") # y-Achsenbeschriftung\n",
    "\n",
    "ax.plot(t, Bahnkurve)  # x-Wert hier: x, y Wert hier: xQuadrat\n",
    "\n",
    "plt.show()"
   ]
  },
  {
   "cell_type": "markdown",
   "metadata": {},
   "source": [
    "**b)** Schreiben Sie die errechneten Werte $x_0,\\; x_1 ...$ in ein numpy Array per Hand. Wählen Sie einen geeigneten Variablennamen für dieses Array."
   ]
  },
  {
   "cell_type": "code",
   "execution_count": 63,
   "metadata": {},
   "outputs": [],
   "source": [
    "ex = np.array([2, 2.1, 2.1019, 2.0057, 1.8114]) "
   ]
  },
  {
   "cell_type": "markdown",
   "metadata": {},
   "source": [
    "**c)** Erstellen Sie mittels `np.linspace()` ein weiteres Array für die fünf Zeitpunkte der numerischen Integration. Wählen Sie einen geeigneten Variablennamen für dieses Array."
   ]
  },
  {
   "cell_type": "code",
   "execution_count": 64,
   "metadata": {},
   "outputs": [],
   "source": [
    "tn = np.linspace(0, 0.4, 5)"
   ]
  },
  {
   "cell_type": "markdown",
   "metadata": {},
   "source": [
    "**d)** Sie sollten nun zwei Arrays mit jeweils fünf Einträgen haben. Plotten Sie diese beiden arrays gegeneinander, indem Sie das vorhandene Gerüst mit folgender Zeile erweitern:\n",
    "```python\n",
    "ax.scatter(t, x, label='numerische Integration')\n",
    "```\n",
    "wobei `t` und `x` die zwei Arrays der numerischen Integration sind. Ändern Sie die Legende und die Achsenbeschriftungen, sodass Ihr Diagramm wie folgt ausssieht:\n",
    "\n",
    "<img src=\"./bahnkurve.png\" alt=\"drawing\" width=\"400\"/>"
   ]
  },
  {
   "cell_type": "code",
   "execution_count": 65,
   "metadata": {
    "ExecuteTime": {
     "end_time": "2019-11-05T10:50:32.035338Z",
     "start_time": "2019-11-05T10:50:31.894730Z"
    }
   },
   "outputs": [
    {
     "data": {
      "image/png": "[encoded data removed]",
      "text/plain": [
       "<Figure size 432x288 with 1 Axes>"
      ]
     },
     "metadata": {
      "needs_background": "light"
     },
     "output_type": "display_data"
    }
   ],
   "source": [
    "import numpy as np\n",
    "import matplotlib.pyplot as plt\n",
    "\n",
    "x0 = 2\n",
    "v0 = 1\n",
    "\n",
    "t = np.linspace(0, 0.4, 20) # definiere t\n",
    "Bahnkurve = x0 + v0 * t + 0.5 * a * t**2 # Formel für Bahnkurve\n",
    "\n",
    "fig, ax = plt.subplots()\n",
    "\n",
    "ax.set_title(\"Bahnkurve\")  # Titel\n",
    "ax.set_xlabel(\"t\") # x-Achsenbeschriftrung\n",
    "ax.set_ylabel(\"x(t)\") # y-Achsenbeschriftung\n",
    "\n",
    "ax.plot(t, Bahnkurve, label='analytische Integration')  #Bahnkurve analytische Integration\n",
    "\n",
    "ax.scatter (tn, ex, label='numerische Integration') #numerische Integration\n",
    "\n",
    "ax.legend(loc = 'lower left')\n",
    "plt.show()"
   ]
  },
  {
   "cell_type": "markdown",
   "metadata": {},
   "source": [
    "**e)** Wie Sie sehen, weicht die numerische Lösung von der analytischen ab. Dies liegt an der Genauigkeit des Lösungsverfahrens und an der Größe des Integrationsschrittes $\\Delta t$. Wiederholen Sie daher die numerische Integration mit einem halb so großen Zeitschritt $\\Delta t = 0.05$ bei sonst gleichen Anfangsbedingungen. Damit die Integrationszeit konstant bleibt, müssen Sie mehr Integrationsschritte durchführen. Machen Sie sich klar, wie viele Schritte Sie benötigen. Stellen Sie das Ergenbis erneut in einem Plot dar. Wählen Sie eine geeignete Legende.  Verlgeichen Sie die Trajektorien der beiden numerischen Lösungen. Was fällt Ihnen auf?"
   ]
  },
  {
   "cell_type": "code",
   "execution_count": 66,
   "metadata": {},
   "outputs": [
    {
     "name": "stdout",
     "output_type": "stream",
     "text": [
      "x1 = 2.05\n",
      "v1 = 0.5095\n",
      "x2 = 2.075475\n",
      "v2 = 0.018999999999999906\n",
      "x3 = 2.076425\n",
      "v3 = -0.47150000000000014\n",
      "x4 = 2.05285\n",
      "v4 = -0.9620000000000002\n",
      "x5 = 2.00475\n",
      "v5 = -1.4525000000000001\n",
      "x6 = 1.95665\n",
      "v6 = -1.4525000000000001\n",
      "x7 = 1.884025\n",
      "v7 = -1.943\n",
      "x8 = 1.786875\n",
      "v8 = -2.4335\n",
      "x9 = 1.6652\n",
      "v9 = -2.924\n"
     ]
    }
   ],
   "source": [
    "#Parameter definieren:\n",
    "dt = 0.05\n",
    "a = -9.81\n",
    "dv = a * dt #Konstant bei gleich großen Schritten\n",
    "v0 = 1\n",
    "x0 = 2\n",
    "\n",
    "#Gleichung für dv in 4 eingesetzt\n",
    "def v (dt):\n",
    "    return v0 + dv\n",
    "\n",
    "#Gleichung für dx in 3 eingesetzt\n",
    "def x (dt): \n",
    "    return x0 + v0 * dt\n",
    "\n",
    "#Ausgeben lassen\n",
    "print ('x1 =', x(dt))\n",
    "print ('v1 =', v(dt))\n",
    "\n",
    "#Es werden, damit man auf 0.4s insgesamt kommt 10 t - Werte, benötigt (angefangen bei t1 = 0) dann müssen 9 Integrationsschritte gemacht werden\n",
    "\n",
    "#Neue v0, x0\n",
    "v0 = 0.5095\n",
    "x0 = 2.05\n",
    "\n",
    "#Werte ausgeben\n",
    "print ('x2 =', x(dt))\n",
    "print ('v2 =', v(dt))\n",
    "\n",
    "#als neue v0, x0 definieren\n",
    "v0 = 0.018999999999999906\n",
    "x0 = 2.075475\n",
    "\n",
    "#Werte ausgeben\n",
    "print ('x3 =', x(dt))\n",
    "print ('v3 =', v(dt))\n",
    "\n",
    "#usw\n",
    "#als neue v0, x0 definieren\n",
    "v0 = -0.47150000000000014\n",
    "x0 = 2.076425\n",
    "\n",
    "#Werte ausgeben\n",
    "print ('x4 =', x(dt))\n",
    "print ('v4 =', v(dt))\n",
    "\n",
    "#Neue v0, x0\n",
    "v0 = -0.9620000000000002\n",
    "x0 = 2.05285\n",
    "\n",
    "#Werte ausgeben\n",
    "print ('x5 =', x(dt))\n",
    "print ('v5 =', v(dt))\n",
    "\n",
    "#als neue v0, x0 definieren\n",
    "v0 = -0.9620000000000002\n",
    "x0 = 2.00475\n",
    "\n",
    "#Werte ausgeben\n",
    "print ('x6 =', x(dt))\n",
    "print ('v6 =', v(dt))\n",
    "\n",
    "#als neue v0, x0 definieren\n",
    "v0 = -1.4525000000000001\n",
    "x0 = 1.95665\n",
    "\n",
    "#Werte ausgeben\n",
    "print ('x7 =', x(dt))\n",
    "print ('v7 =', v(dt))\n",
    "\n",
    "#Neue v0, x0\n",
    "v0 = -1.943\n",
    "x0 = 1.884025\n",
    "\n",
    "#Werte ausgeben\n",
    "print ('x8 =', x(dt))\n",
    "print ('v8 =', v(dt))\n",
    "\n",
    "#als neue v0, x0 definieren\n",
    "v0 = -2.4335\n",
    "x0 = 1.786875\n",
    "\n",
    "#Werte ausgeben\n",
    "print ('x9 =', x(dt))\n",
    "print ('v9 =', v(dt))"
   ]
  },
  {
   "cell_type": "code",
   "execution_count": 67,
   "metadata": {},
   "outputs": [],
   "source": [
    "tf = np.linspace (0, 0.4, 10) #feinere ts\n",
    "xf = np.array ([2, 2.05, 2.075475, 2.076425, 2.05285, 2.00475, 1.95665, 1.884025, 1.786875, 1.6652]) #feinere xs"
   ]
  },
  {
   "cell_type": "code",
   "execution_count": 68,
   "metadata": {},
   "outputs": [
    {
     "data": {
      "image/png": "[encoded data removed]",
      "text/plain": [
       "<Figure size 432x288 with 1 Axes>"
      ]
     },
     "metadata": {
      "needs_background": "light"
     },
     "output_type": "display_data"
    }
   ],
   "source": [
    "fig, ax = plt.subplots()\n",
    "\n",
    "ax.set_title(\"Numerische Integration\")  # Titel\n",
    "ax.set_xlabel(\"t\") # x-Achsenbeschriftrung\n",
    "ax.set_ylabel(\"x(t)\") # y-Achsenbeschriftung\n",
    "\n",
    "\n",
    "ax.scatter (tn, ex) #grobe numerische Integration Punkte\n",
    "ax.scatter (tf, xf) #grobe numerische Integration Punkte\n",
    "\n",
    "ax.plot (tn, ex, label='grob') #grobe numerische Integration Graph\n",
    "ax.plot (tf, xf, label='fein') #grobe numerische Integration Graph\n",
    "\n",
    "ax.legend(loc = 'lower left') #Legende\n",
    "plt.show()\n"
   ]
  },
  {
   "cell_type": "code",
   "execution_count": 70,
   "metadata": {},
   "outputs": [
    {
     "data": {
      "image/png": "[encoded data removed]",
      "text/plain": [
       "<Figure size 432x288 with 1 Axes>"
      ]
     },
     "metadata": {
      "needs_background": "light"
     },
     "output_type": "display_data"
    }
   ],
   "source": [
    "fig, ax = plt.subplots()\n",
    "\n",
    "ax.set_title(\"Vergleich numerisch, analytisch\")  # Titel\n",
    "ax.set_xlabel(\"t\") # x-Achsenbeschriftrung\n",
    "ax.set_ylabel(\"x(t)\") # y-Achsenbeschriftung\n",
    "\n",
    "\n",
    "ax.scatter (tn, ex) #grobe numerische Integration Punkte\n",
    "ax.scatter (tf, xf) #grobe numerische Integration Punkte\n",
    "\n",
    "ax.plot (tn, ex, label='grob numerisch') #grobe numerische Integration Graph\n",
    "ax.plot (tf, xf, label='fein numerisch') #grobe numerische Integration Graph\n",
    "\n",
    "ax.plot(t, Bahnkurve, label='analytische Integration')  #Bahnkurve analytische Integration\n",
    "\n",
    "ax.legend(loc = 'lower left') #Legende\n",
    "plt.show()"
   ]
  },
  {
   "cell_type": "markdown",
   "metadata": {},
   "source": [
    "Die numerische Integration mit mehr Schritten kommt deutlich näher an der analytisch berechneten Lösung heran. Bis 0.05s verlaufen die numerischen Lösungen gleich, ab die gröber steigt allerdings noch etwas stärker und länger, die feinere verläuft insgesamt flacsie verläuft insgesamt flacher als die gröbere, allerdings sind\n",
    "sie am Anfang bis etwa 0.05s noch gleich und gehen erst danach auseinander."
   ]
  },
  {
   "cell_type": "code",
   "execution_count": null,
   "metadata": {},
   "outputs": [],
   "source": []
  },
  {
   "cell_type": "code",
   "execution_count": null,
   "metadata": {},
   "outputs": [],
   "source": []
  }
 ],
 "metadata": {
  "kernelspec": {
   "display_name": "Python 3 (ipykernel)",
   "language": "python",
   "name": "python3"
  },
  "language_info": {
   "codemirror_mode": {
    "name": "ipython",
    "version": 3
   },
   "file_extension": ".py",
   "mimetype": "text/x-python",
   "name": "python",
   "nbconvert_exporter": "python",
   "pygments_lexer": "ipython3",
   "version": "3.9.7"
  },
  "latex_envs": {
   "LaTeX_envs_menu_present": true,
   "autoclose": true,
   "autocomplete": true,
   "bibliofile": "biblio.bib",
   "cite_by": "apalike",
   "current_citInitial": 1,
   "eqLabelWithNumbers": true,
   "eqNumInitial": 1,
   "hotkeys": {
    "equation": "Ctrl-E",
    "itemize": "Ctrl-I"
   },
   "labels_anchors": false,
   "latex_user_defs": false,
   "report_style_numbering": false,
   "user_envs_cfg": false
  }
 },
 "nbformat": 4,
 "nbformat_minor": 4
}
