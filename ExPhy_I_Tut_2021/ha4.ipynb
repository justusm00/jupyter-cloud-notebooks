{
 "cells": [
  {
   "cell_type": "markdown",
   "metadata": {},
   "source": [
    "<div style=\"text-align: right\"> 15.11.2019</div>\n",
    "\n",
    "***Name:*** \n",
    "\n",
    "# Hausaufgabe Blatt 4\n",
    "\n",
    "\n",
    "Wie Sie während der letzen Aufgabe festgestellt haben, war es recht mühselig die numerische Integration für acht Zeitschritte durchzuführen. Daher wollen wir in dieser Aufgabe ein wichtiges Konzept einführen, das uns erlaubt, wiederkehrende Berechnungen zu automatisieren. \n",
    "    \n",
    "## 1. Schleife\n",
    "\n",
    "Eine Schleife, oder auch for-loop genannt, führt die Befehle, die in dieser Schleife stehen mit einer bestimmten Anzahl an Wiederholungen aus. Möchte man zum Beispiel \n",
    "```python\n",
    "print(\"Hello, world!\")\n",
    "```\n",
    "zehn mal hintereinander ausführen, so geht das wie folgt:"
   ]
  },
  {
   "cell_type": "code",
   "execution_count": 1,
   "metadata": {
    "ExecuteTime": {
     "end_time": "2019-11-15T11:05:21.208335Z",
     "start_time": "2019-11-15T11:05:21.191310Z"
    }
   },
   "outputs": [
    {
     "name": "stdout",
     "output_type": "stream",
     "text": [
      "Hello, world!\n",
      "Hello, world!\n",
      "Hello, world!\n",
      "Hello, world!\n",
      "Hello, world!\n",
      "Hello, world!\n",
      "Hello, world!\n",
      "Hello, world!\n",
      "Hello, world!\n",
      "Hello, world!\n"
     ]
    }
   ],
   "source": [
    "for i in range(10):\n",
    "    print(\"Hello, world!\")"
   ]
  },
  {
   "cell_type": "markdown",
   "metadata": {},
   "source": [
    "Wie Sie bereits erkennen, muss ähnlich zum `def` Befehl der Körper der Schleife eingerückt werden. "
   ]
  },
  {
   "cell_type": "markdown",
   "metadata": {},
   "source": [
    "**a)** Machen Sie sich klar, was für eine Rolle `range()` spielt. Ändern Sie den obigen Befehl, sodass wir lediglich fünf mal mit `Hello, world!` begrüßt werden."
   ]
  },
  {
   "cell_type": "code",
   "execution_count": null,
   "metadata": {
    "ExecuteTime": {
     "end_time": "2019-11-15T11:02:48.533611Z",
     "start_time": "2019-11-15T11:02:48.529531Z"
    }
   },
   "outputs": [],
   "source": []
  },
  {
   "cell_type": "markdown",
   "metadata": {},
   "source": [
    "Wir können mit Schleifen einfach zählen:"
   ]
  },
  {
   "cell_type": "code",
   "execution_count": 2,
   "metadata": {
    "ExecuteTime": {
     "end_time": "2019-11-15T11:05:41.298817Z",
     "start_time": "2019-11-15T11:05:41.293458Z"
    }
   },
   "outputs": [
    {
     "name": "stdout",
     "output_type": "stream",
     "text": [
      "0\n",
      "1\n",
      "2\n",
      "3\n",
      "4\n",
      "5\n",
      "6\n",
      "7\n",
      "8\n",
      "9\n"
     ]
    }
   ],
   "source": [
    "for i in range(10):\n",
    "    print(i)"
   ]
  },
  {
   "cell_type": "markdown",
   "metadata": {},
   "source": [
    "Wie Sie erkennen können, iteriert `i` über die Sequenz, die hinter dem Schlüsselwort `in` steht (in diesem Fall `range()`). Dabei kann auf den aktuellen Wert `i` in der Sequenz zugegriffen werden. Was fällt Ihnen dabei auf?\n",
    "\n",
    "Man kann in Schleifen alle möglichen Befehle einfügen. Unter anderem kann man in Schleifen rechnen:"
   ]
  },
  {
   "cell_type": "code",
   "execution_count": 3,
   "metadata": {
    "ExecuteTime": {
     "end_time": "2019-11-15T11:05:48.466227Z",
     "start_time": "2019-11-15T11:05:48.461682Z"
    }
   },
   "outputs": [
    {
     "name": "stdout",
     "output_type": "stream",
     "text": [
      "0\n",
      "2\n",
      "4\n",
      "6\n",
      "8\n",
      "10\n",
      "12\n",
      "14\n",
      "16\n",
      "18\n"
     ]
    }
   ],
   "source": [
    "for i in range(10):\n",
    "    j = 2 * i \n",
    "    print(j)"
   ]
  },
  {
   "cell_type": "markdown",
   "metadata": {},
   "source": [
    "## 2. Liste\n",
    "\n",
    "Oft möchte man die berechneten Werte für spätere Zwecke (wie plotten) in einer Liste speichern. Gehen Sie dazu wie folgt fort:\n",
    "\n",
    " 1. Weisen Sie einer Variablen eine leere Liste zu.\n",
    " \n",
    " ```python\n",
    "results = []\n",
    "```\n",
    " 2. Hängen Sie die Ergebnisse, die Sie speichern wollen, an diese Liste mit `append()` an. \n",
    " \n",
    "Diese Schritte sind im folgenden Beispiel gezeigt:"
   ]
  },
  {
   "cell_type": "code",
   "execution_count": 4,
   "metadata": {
    "ExecuteTime": {
     "end_time": "2019-11-15T11:06:20.835762Z",
     "start_time": "2019-11-15T11:06:20.833051Z"
    }
   },
   "outputs": [
    {
     "name": "stdout",
     "output_type": "stream",
     "text": [
      "[0, 2, 4, 6, 8, 10, 12, 14, 16, 18]\n"
     ]
    }
   ],
   "source": [
    "results = []  # leere liste\n",
    "for i in range(10):  # loop \n",
    "    j = 2 * i   # Befehl in der loop, hier wird loopindex mit 2 multipliziert. Ergebnis wird j zugewiesen\n",
    "    results.append(j)  # Ergebnis der Rechnung wird an Liste angehangen\n",
    "    \n",
    "print(results)"
   ]
  },
  {
   "cell_type": "markdown",
   "metadata": {},
   "source": [
    "*Anmerkung zu Methoden:*\n",
    "\n",
    "Wie Sie vielleicht schon bemerkt haben, tauchen in `python` Befehle vom Typ `object.method()` auf. Dabei ist `method()` eine Funktion (ähnlich wie `def`), die direkt mit ihrem Objekt assoziiert ist. Man nennt diese Funktion *Methode*. Dies ist ein Merkmal der sogenannten objektorientierten Programmierung. Sie haben diese Eigenschaften bereits beim plotten ausgenutzt, indem Sie zum Beispiel `ax.plot()` verwendet haben. \n",
    "Dabei ist es egal, welchen Namen das Objekt hat. Lediglich der Typ des Objektes ist von Bedeutung. \n",
    "\n",
    "In dem vorangegangenen Beispiel haben wir ein Objekt vom Typ Liste `results` genannt. Listen haben veschiedene Methoden, eine davon ist `append()` (hier wiederum ist der Name eindeutig festgelegt). Die Methode `append()` hängt das im Argument übergebene Element (hier `j`) an das mit ihr assoziierte Objekt (`results`) an. Wie Sie sehen, wird das Objekt selbst verändert. Die Liste wird in jedem Aufruf um das Element `j` verlängert. "
   ]
  },
  {
   "cell_type": "markdown",
   "metadata": {},
   "source": [
    "## 3. Mehrfache Zuweisung\n",
    "\n",
    "Ein sehr wichtiges Konzept in der Programmierung ist die mehrfache Zuweisung einer Variablen beispielsweise durch ein Inkrement, wobei der neue Wert der Variablen von dem alten Wert abhängt. Dies wird im folgenden Beispiel verdeutlicht.\n",
    "\n",
    "Zuerst wird der Variable `a` der Wert `5` zugewiesen und ausgegeben. In der nächsten Zeile wird diese Variable um denn Wert `2` erhöht und erneut der Variable `a` zugewiesen. Hier wird deutlich, dass das Symbol `=` keine mathematische Gleichheit bedeutet. Es handelt sich hierbei um den Zuweisungsoperator."
   ]
  },
  {
   "cell_type": "code",
   "execution_count": 5,
   "metadata": {
    "ExecuteTime": {
     "end_time": "2019-11-15T11:06:26.406475Z",
     "start_time": "2019-11-15T11:06:26.403920Z"
    }
   },
   "outputs": [
    {
     "name": "stdout",
     "output_type": "stream",
     "text": [
      "5\n",
      "7\n"
     ]
    }
   ],
   "source": [
    "a = 5\n",
    "print(a)\n",
    "a = a + 2\n",
    "print(a)"
   ]
  },
  {
   "cell_type": "markdown",
   "metadata": {},
   "source": [
    "Diese Art der Zuweisung ist vorallem in Schleifen nützlich. \n",
    "\n",
    "**a)** Benutzen Sie die gerade erhaltenen Informationen, um mittels mehrfacher Zuweisung und einer Schleife alle natürlichen Zahlen bis einschließlich 10 aufzusummieren:\n",
    "$$ s = \\sum_{i=0}^{10} i$$\n",
    "Speichern Sie die Zwischenergebnisse in einer Liste, indem Sie `append()` benutzen. Geben Sie die Liste und das Endergebnis mit dem `print()` Befehl aus."
   ]
  },
  {
   "cell_type": "code",
   "execution_count": null,
   "metadata": {
    "ExecuteTime": {
     "end_time": "2019-11-15T11:04:53.575639Z",
     "start_time": "2019-11-15T11:04:53.572743Z"
    }
   },
   "outputs": [],
   "source": []
  },
  {
   "cell_type": "markdown",
   "metadata": {},
   "source": [
    "**b)** Vergleichen Sie das Endergebnis mit der Gaußschen Summenformel (kleiner Gauß):\n",
    "\n",
    "$$\\sum_{i=1}^{n} i = \\frac{n^2 + n}{2}$$"
   ]
  },
  {
   "cell_type": "code",
   "execution_count": null,
   "metadata": {
    "ExecuteTime": {
     "end_time": "2019-11-15T11:04:56.711706Z",
     "start_time": "2019-11-15T11:04:56.709247Z"
    }
   },
   "outputs": [],
   "source": []
  }
 ],
 "metadata": {
  "kernelspec": {
   "display_name": "Python 3 (ipykernel)",
   "language": "python",
   "name": "python3"
  },
  "language_info": {
   "codemirror_mode": {
    "name": "ipython",
    "version": 3
   },
   "file_extension": ".py",
   "mimetype": "text/x-python",
   "name": "python",
   "nbconvert_exporter": "python",
   "pygments_lexer": "ipython3",
   "version": "3.9.7"
  },
  "latex_envs": {
   "LaTeX_envs_menu_present": true,
   "autoclose": true,
   "autocomplete": true,
   "bibliofile": "biblio.bib",
   "cite_by": "apalike",
   "current_citInitial": 1,
   "eqLabelWithNumbers": true,
   "eqNumInitial": 1,
   "hotkeys": {
    "equation": "Ctrl-E",
    "itemize": "Ctrl-I"
   },
   "labels_anchors": false,
   "latex_user_defs": false,
   "report_style_numbering": false,
   "user_envs_cfg": false
  }
 },
 "nbformat": 4,
 "nbformat_minor": 4
}
