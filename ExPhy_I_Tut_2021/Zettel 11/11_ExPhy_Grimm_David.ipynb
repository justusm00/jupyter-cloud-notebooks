{
 "cells": [
  {
   "cell_type": "markdown",
   "metadata": {},
   "source": [
    "<div style=\"text-align: right\"> 24.01.2020</div>\n",
    "\n",
    "***Name:*** \n",
    "\n",
    "# Hausaufgabe Blatt 11\n",
    "\n",
    "## Kinetische Gastheorie: Maxwell-Boltzmann-Verteilung\n",
    "\n",
    "In dieser Aufgabe werden wir uns mit der kinetischen Gastheorie und der Maxwell-Boltzmann-Verteilung beschäftigen. Die genaue Herleitung der Maxwell-Boltzmann-Verteilung können Sie Kapitel 7.3.5 \"Experimentalphysik I\" von W. Demtröder entnehmen. \n",
    "\n",
    "Betrachtet man die Moleküle eines Gases als Teilchen, die lediglich durch elastische Stöße sowohl mit den Wänden ihrer Umgebung als auch untereinander wechselwirken, so spricht man von einem *idealen Gas*. \n",
    "\n",
    "## 1. Aufgabe\n",
    "Misst man die Beträge der Geschwindigkeiten von einem idealen Gas, so stellt man fest, dass diese durch die Maxwell-Boltzmann-Verteilung beschrieben werden. Hier ist $v$ die Geschwindigkeit der Teilchen, $m$ die Masse der Teilchen, $T$ die Temperatur und $k_B$ die Boltzmann-Konstante \n",
    "\n",
    "$$\\tag{1}\n",
    "f\\!\\left(v\\right)=4 \\pi v^2 \\cdot \\left(\\frac{m}{2 \\pi k_B T}\\right)^{3/2} \\cdot \\exp\\left(\\frac{-m v^2}{2 k_B T}\\right).\n",
    "$$\n",
    "\n",
    "Diese Verteilung kann wie folgt begründet werden. Da keine Raumrichtung ausgezeichnet ist und die Teilchen ständig miteinander und ihrer Umgebung kollidieren, kann man annehmen, dass die Geschwindigkeiten für alle drei Komponenten $v_{\\alpha}$, mit $\\alpha = x, y,z$ zufällig verteilt sind.\n",
    "\n",
    "Wir wollen nun diese Verteilung reproduzieren, indem wir Geschwindigkeitskomponenten $v_{\\alpha}$, mit $\\alpha = x, y,z$, für $N$ Teilchen zufällig aus einer Normalverteilung $\\mathcal N$ mit Mittelwert gleich 0 und einer Standardabweichung von 1 ziehen\n",
    "   $$\\tag{2}\n",
    "   v_{\\alpha} = \\sqrt{\\frac{k_B T}{m}} \\cdot \\mathcal N\\! \\left(0,1\\right).\n",
    "   $$\n",
    "   \n",
    "Normalverteilte Zahlen mit Mittelwert gleich 0 und einer Standardabweichung von 1 können wie folgt erzeugt werden; hier werden Zufallszahlen für $N=5$ Teilchen in 3 Dimensionen erzeugt (daher (N,3)).\n",
    " ```python\n",
    "import numpy as np\n",
    "N = 5\n",
    "gauss = np.random.normal(0,1,(N,3))\n",
    "``` \n",
    "\n",
    "**a)** Versuchen Sie den obigen Code nachzuvollziehen. Erstellen Sie für $N=100$ Teilchen Zufallszahlen für jede Geschwindigkeitskomponente $\\alpha=x, y, z$, indem Sie obigen Code und Gleichung (2) kombinieren. Nehmen Sie dabei für die Masse $m = 4.8 \\cdot 10^{-3}$, für die Temperatur $T=70$ und für die Boltzmann Konstante $k_B=1.38$ an.\n"
   ]
  },
  {
   "cell_type": "code",
   "execution_count": 26,
   "metadata": {
    "ExecuteTime": {
     "end_time": "2020-01-22T13:40:01.417341Z",
     "start_time": "2020-01-22T13:40:01.412966Z"
    }
   },
   "outputs": [],
   "source": [
    "import numpy as np\n",
    "N = 100\n",
    "m = 4.8*10**(-3)\n",
    "T = 70\n",
    "kB = 1.38\n",
    "gauss = np.random.normal(0, 1, (N, 3)) # Zufallsdistribution erstellen\n",
    "v = gauss * (kB*T/m)**0.5 # Gleichung (2) anwenden"
   ]
  },
  {
   "cell_type": "markdown",
   "metadata": {},
   "source": [
    "**b)** Berechnen Sie nun den Betrag der Geschwindigkeit $v$ aus den Geschwindigkeitskomponenten $\\alpha=x,y,z$ für jede der $N=100$ erzeugten Zahlen. Benutzen Sie dafür die Normierungsfunktion `np.linalg.norm()` wie folgt: \n",
    "```python\n",
    "norm = np.linalg.norm(geschwindigkeit, axis=1)\n",
    "```\n",
    "Das Stichwort `axis` gibt an, über welche \"Dimension\" des arrays der Betrag berechnet wird, also zum Beispiel über Zeilen oder Spalten."
   ]
  },
  {
   "cell_type": "code",
   "execution_count": 17,
   "metadata": {
    "ExecuteTime": {
     "end_time": "2020-01-22T13:40:04.865465Z",
     "start_time": "2020-01-22T13:40:04.861353Z"
    }
   },
   "outputs": [],
   "source": [
    "norm = np.linalg.norm(v, axis=1)"
   ]
  },
  {
   "cell_type": "markdown",
   "metadata": {},
   "source": [
    "**c)** Erstellen Sie ein Histogramm aus den gerade berechneten Beträgen der Geschwindigkeit $v$. Benutzen Sie dafür den Histogramm Befehl `ax.hist()` wie folgt:\n",
    "``` \n",
    "import matplotlib.pyplot as plt\n",
    "fig, ax = plt.subplots()\n",
    "ax.hist(v, density=True)\n",
    "```\n",
    "\n",
    "Dabei stellt das Stichwort `density=True` sicher, dass das Histogramm normiert ist. Führen Sie sinnvolle Achsenbeschriftungen ein. Kommentieren Sie jede Zeile des Codes sinnvoll."
   ]
  },
  {
   "cell_type": "code",
   "execution_count": 19,
   "metadata": {
    "ExecuteTime": {
     "end_time": "2020-01-22T13:40:12.874378Z",
     "start_time": "2020-01-22T13:40:12.733603Z"
    }
   },
   "outputs": [
    {
     "data": {
      "text/plain": [
       "Text(0, 0.5, 'Relative Häufigkeit')"
      ]
     },
     "execution_count": 19,
     "metadata": {},
     "output_type": "execute_result"
    },
    {
     "data": {
      "image/png": "[encoded data removed]",
      "text/plain": [
       "<Figure size 432x288 with 1 Axes>"
      ]
     },
     "metadata": {
      "needs_background": "light"
     },
     "output_type": "display_data"
    }
   ],
   "source": [
    "import matplotlib.pyplot as plt # Plot-Bibliothek laden\n",
    "fig, ax = plt.subplots() # Plot initialisieren\n",
    "ax.hist(norm, density=True) # Histogramm plotten\n",
    "ax.set_xlabel(\"Geschwindigkeitsbetrag\") # X-Achsenbeschriftung\n",
    "ax.set_ylabel(\"Relative Häufigkeit\") # Y-Achsenbeschriftung"
   ]
  },
  {
   "cell_type": "markdown",
   "metadata": {},
   "source": [
    "**d)** Schreiben Sie eine Funktion, die als Argument ein array von Beträgen von Geschwindigkeiten und eine Temperatur annimmt und die Maxwell-Boltzmann Verteilung (Gleichung (1)) zurückgibt. Tipp: Sie können einen Array mit Werten mit gleichem Abstand mit ```np.arange``` erzeugen. Vergleichen Sie die theoretisch erwartete Verteilung mit Ihrer erzeugten in einem gemeinsamen Plot.  Kommentieren Sie jede Zeile des Codes sinnvoll."
   ]
  },
  {
   "cell_type": "code",
   "execution_count": 28,
   "metadata": {
    "ExecuteTime": {
     "end_time": "2020-01-22T14:10:24.256266Z",
     "start_time": "2020-01-22T14:10:24.125860Z"
    }
   },
   "outputs": [
    {
     "data": {
      "text/plain": [
       "(0.0, 500.0)"
      ]
     },
     "execution_count": 28,
     "metadata": {},
     "output_type": "execute_result"
    },
    {
     "data": {
      "image/png": "[encoded data removed]",
      "text/plain": [
       "<Figure size 432x288 with 1 Axes>"
      ]
     },
     "metadata": {
      "needs_background": "light"
     },
     "output_type": "display_data"
    }
   ],
   "source": [
    "def maxwellBoltzmann(vnorm, T = T, m = m, kB = kB): # Funktion initialisieren\n",
    "    return 4 * np.pi * vnorm**2 * (m / (2 * np.pi * kB * T))**(3/2) * np.e**(-m*vnorm**2/(2*kB*T)) # Gleichung 1 anwenden\n",
    "fig, ax = plt.subplots() # Plot initialisieren\n",
    "ax.hist(norm, density=True) # Histogramm plotten\n",
    "v0 = np.linspace(0, 500, 200) # Geschwindigkeitsachse für \"kontinuierliche\" Verteilung initialisieren\n",
    "ax.plot(v0, maxwellBoltzmann(v0)) # \"kontinuierliche\" Verteilung plotten\n",
    "ax.set_xlabel(\"Geschwindigkeitsbetrag\") # X-Achsenbeschriftung\n",
    "ax.set_ylabel(\"Relative Häufigkeit\") # Y-Achsenbeschriftung\n",
    "ax.set_xlim(0, 500) # X-Fenster"
   ]
  },
  {
   "cell_type": "markdown",
   "metadata": {},
   "source": [
    "**e)** Wiederholen Sie Aufgaben **a)**-**d)** für $N=10000$ Teilchen.  Optional können Sie auch die Temperatur auf $T=290$ ändern. \n",
    "Was stellen Sie fest?"
   ]
  },
  {
   "cell_type": "markdown",
   "metadata": {},
   "source": [
    "Ich stelle fest, dass ..."
   ]
  },
  {
   "cell_type": "code",
   "execution_count": 45,
   "metadata": {
    "ExecuteTime": {
     "end_time": "2020-01-22T14:11:12.749193Z",
     "start_time": "2020-01-22T14:11:12.341187Z"
    }
   },
   "outputs": [
    {
     "data": {
      "text/plain": [
       "(0.0, 500.0)"
      ]
     },
     "execution_count": 45,
     "metadata": {},
     "output_type": "execute_result"
    },
    {
     "data": {
      "image/png": "[encoded data removed]",
      "text/plain": [
       "<Figure size 432x288 with 1 Axes>"
      ]
     },
     "metadata": {
      "needs_background": "light"
     },
     "output_type": "display_data"
    }
   ],
   "source": [
    "N2 = 1000000\n",
    "gauss2 = np.random.normal(0, 1, (N2, 3)) # Zufallsdistribution erstellen\n",
    "v2 = gauss2 * (kB*T/m)**0.5 # Gleichung (2) anwenden\n",
    "norm2 = np.linalg.norm(v2, axis=1)\n",
    "fig, ax = plt.subplots() # Plot initialisieren\n",
    "ax.hist(norm2, density=True, bins=500) # Histogramm plotten\n",
    "v0 = np.linspace(0, 500, 200) # Geschwindigkeitsachse für \"kontinuierliche\" Verteilung initialisieren\n",
    "ax.plot(v0, maxwellBoltzmann(v0)) # \"kontinuierliche\" Verteilung plotten\n",
    "ax.set_xlabel(\"Geschwindigkeitsbetrag\") # X-Achsenbeschriftung\n",
    "ax.set_ylabel(\"Relative Häufigkeit\") # Y-Achsenbeschriftung\n",
    "ax.set_xlim(0, 500) # X-Fenster"
   ]
  },
  {
   "cell_type": "markdown",
   "metadata": {},
   "source": [
    "Die Zufallsverteilung nähert sich der Maxwell-Boltzmann-Verteilung an (ups, ein paar Nullen zu viel...)"
   ]
  }
 ],
 "metadata": {
  "kernelspec": {
   "display_name": "Python 3 (ipykernel)",
   "language": "python",
   "name": "python3"
  },
  "language_info": {
   "codemirror_mode": {
    "name": "ipython",
    "version": 3
   },
   "file_extension": ".py",
   "mimetype": "text/x-python",
   "name": "python",
   "nbconvert_exporter": "python",
   "pygments_lexer": "ipython3",
   "version": "3.9.7"
  },
  "latex_envs": {
   "LaTeX_envs_menu_present": true,
   "autoclose": true,
   "autocomplete": true,
   "bibliofile": "biblio.bib",
   "cite_by": "apalike",
   "current_citInitial": 1,
   "eqLabelWithNumbers": false,
   "eqNumInitial": 1,
   "hotkeys": {
    "equation": "Ctrl-E",
    "itemize": "Ctrl-I"
   },
   "labels_anchors": false,
   "latex_user_defs": false,
   "report_style_numbering": false,
   "user_envs_cfg": false
  }
 },
 "nbformat": 4,
 "nbformat_minor": 4
}
