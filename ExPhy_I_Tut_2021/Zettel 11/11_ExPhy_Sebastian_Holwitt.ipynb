{
 "cells": [
  {
   "cell_type": "markdown",
   "metadata": {},
   "source": [
    "<div style=\"text-align: right\"> 24.01.2020</div>\n",
    "\n",
    "***Name:*** \n",
    "\n",
    "# Hausaufgabe Blatt 11\n",
    "\n",
    "## Kinetische Gastheorie: Maxwell-Boltzmann-Verteilung\n",
    "\n",
    "In dieser Aufgabe werden wir uns mit der kinetischen Gastheorie und der Maxwell-Boltzmann-Verteilung beschäftigen. Die genaue Herleitung der Maxwell-Boltzmann-Verteilung können Sie Kapitel 7.3.5 \"Experimentalphysik I\" von W. Demtröder entnehmen. \n",
    "\n",
    "Betrachtet man die Moleküle eines Gases als Teilchen, die lediglich durch elastische Stöße sowohl mit den Wänden ihrer Umgebung als auch untereinander wechselwirken, so spricht man von einem *idealen Gas*. \n",
    "\n",
    "## 1. Aufgabe\n",
    "Misst man die Beträge der Geschwindigkeiten von einem idealen Gas, so stellt man fest, dass diese durch die Maxwell-Boltzmann-Verteilung beschrieben werden. Hier ist $v$ die Geschwindigkeit der Teilchen, $m$ die Masse der Teilchen, $T$ die Temperatur und $k_B$ die Boltzmann-Konstante \n",
    "\n",
    "$$\\tag{1}\n",
    "f\\!\\left(v\\right)=4 \\pi v^2 \\cdot \\left(\\frac{m}{2 \\pi k_B T}\\right)^{3/2} \\cdot \\exp\\left(\\frac{-m v^2}{2 k_B T}\\right).\n",
    "$$\n",
    "\n",
    "Diese Verteilung kann wie folgt begründet werden. Da keine Raumrichtung ausgezeichnet ist und die Teilchen ständig miteinander und ihrer Umgebung kollidieren, kann man annehmen, dass die Geschwindigkeiten für alle drei Komponenten $v_{\\alpha}$, mit $\\alpha = x, y,z$ zufällig verteilt sind.\n",
    "\n",
    "Wir wollen nun diese Verteilung reproduzieren, indem wir Geschwindigkeitskomponenten $v_{\\alpha}$, mit $\\alpha = x, y,z$, für $N$ Teilchen zufällig aus einer Normalverteilung $\\mathcal N$ mit Mittelwert gleich 0 und einer Standardabweichung von 1 ziehen\n",
    "   $$\\tag{2}\n",
    "   v_{\\alpha} = \\sqrt{\\frac{k_B T}{m}} \\cdot \\mathcal N\\! \\left(0,1\\right).\n",
    "   $$\n",
    "   \n",
    "Normalverteilte Zahlen mit Mittelwert gleich 0 und einer Standardabweichung von 1 können wie folgt erzeugt werden; hier werden Zufallszahlen für $N=5$ Teilchen in 3 Dimensionen erzeugt (daher (N,3)).\n",
    " ```python\n",
    "import numpy as np\n",
    "N = 5\n",
    "gauss = np.random.normal(0,1,(N,3))\n",
    "``` \n",
    "\n",
    "**a)** Versuchen Sie den obigen Code nachzuvollziehen. Erstellen Sie für $N=100$ Teilchen Zufallszahlen für jede Geschwindigkeitskomponente $\\alpha=x, y, z$, indem Sie obigen Code und Gleichung (2) kombinieren. Nehmen Sie dabei für die Masse $m = 4.8 \\cdot 10^{-3}$, für die Temperatur $T=70$ und für die Boltzmann Konstante $k_B=1.38$ an.\n"
   ]
  },
  {
   "cell_type": "code",
   "execution_count": 3,
   "metadata": {
    "ExecuteTime": {
     "end_time": "2020-01-22T13:40:01.417341Z",
     "start_time": "2020-01-22T13:40:01.412966Z"
    }
   },
   "outputs": [],
   "source": [
    "import numpy as np\n",
    "import matplotlib.pyplot as plt\n",
    "# benötigte Bibliotheken werden geladen und Variablen definiert.\n",
    "N = 100\n",
    "m = 4.8*(10)**(-3)\n",
    "T = 70\n",
    "k = 1.38\n",
    "gv = np.random.normal(0,1,(N,3))\n",
    "# nachdem die Gaussverteilung erstellt wurde, wird v in Abhängigkeit von dieser berechnet.\n",
    "va = np.sqrt((k*T)/m)*gv"
   ]
  },
  {
   "cell_type": "markdown",
   "metadata": {},
   "source": [
    "**b)** Berechnen Sie nun den Betrag der Geschwindigkeit $v$ aus den Geschwindigkeitskomponenten $\\alpha=x,y,z$ für jede der $N=100$ erzeugten Zahlen. Benutzen Sie dafür die Normierungsfunktion `np.linalg.norm()` wie folgt: \n",
    "```python\n",
    "norm = np.linalg.norm(geschwindigkeit, axis=1)\n",
    "```\n",
    "Das Stichwort `axis` gibt an, über welche \"Dimension\" des arrays der Betrag berechnet wird, also zum Beispiel über Zeilen oder Spalten."
   ]
  },
  {
   "cell_type": "code",
   "execution_count": 4,
   "metadata": {
    "ExecuteTime": {
     "end_time": "2020-01-22T13:40:04.865465Z",
     "start_time": "2020-01-22T13:40:04.861353Z"
    }
   },
   "outputs": [],
   "source": [
    "norm = np.linalg.norm(va, axis=1)\n",
    "#Der Betrag der Geschwindigkeiten wird auf gewünschte Weise berechnet."
   ]
  },
  {
   "cell_type": "markdown",
   "metadata": {},
   "source": [
    "**c)** Erstellen Sie ein Histogramm aus den gerade berechneten Beträgen der Geschwindigkeit $v$. Benutzen Sie dafür den Histogramm Befehl `ax.hist()` wie folgt:\n",
    "``` \n",
    "import matplotlib.pyplot as plt\n",
    "fig, ax = plt.subplots()\n",
    "ax.hist(v, density=True)```\n",
    "\n",
    "Dabei stellt das Stichwort `density=True` sicher, dass das Histogramm normiert ist. Führen Sie sinnvolle Achsenbeschriftungen ein. Kommentieren Sie jede Zeile des Codes sinnvoll."
   ]
  },
  {
   "cell_type": "code",
   "execution_count": 5,
   "metadata": {
    "ExecuteTime": {
     "end_time": "2020-01-22T13:40:12.874378Z",
     "start_time": "2020-01-22T13:40:12.733603Z"
    }
   },
   "outputs": [
    {
     "data": {
      "text/plain": [
       "Text(0, 0.5, 'Wahrscheinlichkeiten')"
      ]
     },
     "execution_count": 5,
     "metadata": {},
     "output_type": "execute_result"
    },
    {
     "data": {
      "image/png": "[encoded data removed]",
      "text/plain": [
       "<Figure size 432x288 with 1 Axes>"
      ]
     },
     "metadata": {
      "needs_background": "light"
     },
     "output_type": "display_data"
    }
   ],
   "source": [
    "fig, ax = plt.subplots()\n",
    "ax.hist(norm, density=True)\n",
    "# Das Histogramm wird mithilfe der berechneten und normierten Geschwindigkeiten erstellt und beschriftet.\n",
    "ax.set_title(\"Histogramm der auftretenden Geschwindigkeiten\")\n",
    "ax.set_xlabel(\"Geschwindigkeiten $v$\")\n",
    "ax.set_ylabel(\"Wahrscheinlichkeiten\")"
   ]
  },
  {
   "cell_type": "markdown",
   "metadata": {},
   "source": [
    "**d)** Schreiben Sie eine Funktion, die als Argument ein array von Beträgen von Geschwindigkeiten und eine Temperatur annimmt und die Maxwell-Boltzmann Verteilung (Gleichung (1)) zurückgibt. Tipp: Sie können einen Array mit Werten mit gleichem Abstand mit ```np.arange``` erzeugen. Vergleichen Sie die theoretisch erwartete Verteilung mit Ihrer erzeugten in einem gemeinsamen Plot.  Kommentieren Sie jede Zeile des Codes sinnvoll."
   ]
  },
  {
   "cell_type": "code",
   "execution_count": 6,
   "metadata": {
    "ExecuteTime": {
     "end_time": "2020-01-22T14:10:24.256266Z",
     "start_time": "2020-01-22T14:10:24.125860Z"
    }
   },
   "outputs": [
    {
     "data": {
      "text/plain": [
       "array([  0,   5,  10,  15,  20,  25,  30,  35,  40,  45,  50,  55,  60,\n",
       "        65,  70,  75,  80,  85,  90,  95, 100, 105, 110, 115, 120, 125,\n",
       "       130, 135, 140, 145, 150, 155, 160, 165, 170, 175, 180, 185, 190,\n",
       "       195, 200, 205, 210, 215, 220, 225, 230, 235, 240, 245, 250, 255,\n",
       "       260, 265, 270, 275, 280, 285, 290, 295, 300, 305, 310, 315, 320,\n",
       "       325, 330, 335, 340, 345, 350, 355, 360, 365, 370, 375, 380, 385,\n",
       "       390, 395, 400, 405, 410, 415, 420, 425, 430, 435, 440, 445, 450,\n",
       "       455, 460, 465, 470, 475, 480, 485, 490, 495])"
      ]
     },
     "execution_count": 6,
     "metadata": {},
     "output_type": "execute_result"
    },
    {
     "data": {
      "image/png": "[encoded data removed]",
      "text/plain": [
       "<Figure size 432x288 with 1 Axes>"
      ]
     },
     "metadata": {
      "needs_background": "light"
     },
     "output_type": "display_data"
    }
   ],
   "source": [
    "def maxbol(v,T):\n",
    "    f = 4*np.pi*(v)**2 * (m/(2*np.pi*k*T))**(3/2)*np.exp((m*(v)**2)/(2*k*T))\n",
    "    return(f)\n",
    "# Die Maxwell-Boltzmann Verteilung wird als Funktion von v und T definiert\n",
    "v = np.arange(0,500,5)\n",
    "nv = np.linalg.norm(v, axis=0)\n",
    "# mithilfe von np.arange wird ein Geschwindigkeitsarray erstellt und normiert\n",
    "fig, ax = plt.subplots()\n",
    "ax.hist(maxbol(v,70), density=True, color = \"red\")\n",
    "# das theoretische Histogramm wird aufgestellt.\n",
    "ax.set_title(\"theoretisches Histogramm der auftretenden Geschwindigkeiten\")\n",
    "ax.set_xlabel(\"Geschwindigkeiten $v$\")\n",
    "ax.set_ylabel(\"Wahrscheinlichkeiten\")\n",
    "# die Histogramme ähneln einander überhaupt nicht. Vermutlich ist das theoretische Histogramm falsch\n",
    "v"
   ]
  },
  {
   "cell_type": "markdown",
   "metadata": {},
   "source": [
    "**e)** Wiederholen Sie Aufgaben **a)**-**d)** für $N=10000$ Teilchen.  Optional können Sie auch die Temperatur auf $T=290$ ändern. \n",
    "Was stellen Sie fest?"
   ]
  },
  {
   "cell_type": "markdown",
   "metadata": {},
   "source": [
    "Ich stelle fest, dass ... \n",
    "die zufällig erstellte Geschwindigkeitsverteilung der vorherigen ähnelt, aber verfeinert ist. Das theoretische Histogramm ist genauso wie vorher komplett abweichend."
   ]
  },
  {
   "cell_type": "code",
   "execution_count": 7,
   "metadata": {
    "ExecuteTime": {
     "end_time": "2020-01-22T14:11:12.749193Z",
     "start_time": "2020-01-22T14:11:12.341187Z"
    }
   },
   "outputs": [
    {
     "data": {
      "text/plain": [
       "(array([0.27193546, 0.01989772, 0.00994886, 0.00663257, 0.00663257,\n",
       "        0.00331629, 0.00331629, 0.00331629, 0.00331629, 0.00331629]),\n",
       " array([ 0.        ,  3.01542133,  6.03084266,  9.046264  , 12.06168533,\n",
       "        15.07710666, 18.09252799, 21.10794933, 24.12337066, 27.13879199,\n",
       "        30.15421332]),\n",
       " <BarContainer object of 10 artists>)"
      ]
     },
     "execution_count": 7,
     "metadata": {},
     "output_type": "execute_result"
    },
    {
     "data": {
      "image/png": "[encoded data removed]",
      "text/plain": [
       "<Figure size 432x288 with 1 Axes>"
      ]
     },
     "metadata": {
      "needs_background": "light"
     },
     "output_type": "display_data"
    },
    {
     "data": {
      "image/png": "[encoded data removed]",
      "text/plain": [
       "<Figure size 432x288 with 1 Axes>"
      ]
     },
     "metadata": {
      "needs_background": "light"
     },
     "output_type": "display_data"
    }
   ],
   "source": [
    "import numpy as np\n",
    "import matplotlib.pyplot as plt\n",
    "N = 10000\n",
    "m = 4.8*(10)**(-3)\n",
    "T = 70\n",
    "k = 1.38\n",
    "gv = np.random.normal(0,1,(N,3))\n",
    "va = np.sqrt((k*T)/m)*gv\n",
    "norm = np.linalg.norm(va, axis=1)\n",
    "fig, ax = plt.subplots()\n",
    "ax.hist(norm, density=True)\n",
    "ax.set_title(\"Histogramm der auftretenden Geschwindigkeiten\")\n",
    "ax.set_xlabel(\"Geschwindigkeiten $v$\")\n",
    "ax.set_ylabel(\"Wahrscheinlichkeiten\")\n",
    "def maxbol(v,T):\n",
    "    f = 4*np.pi*(v)**2 * (m/(2*np.pi*k*T))**(3/2)*np.exp((m*(v)**2)/(2*k*T))\n",
    "    return(f)\n",
    "v = np.arange(0,500,5)\n",
    "nv = np.linalg.norm(v, axis=0)\n",
    "fig, ax = plt.subplots()\n",
    "ax.hist(maxbol(v,70), density=True, color = \"red\")"
   ]
  },
  {
   "cell_type": "code",
   "execution_count": null,
   "metadata": {},
   "outputs": [],
   "source": []
  },
  {
   "cell_type": "code",
   "execution_count": null,
   "metadata": {},
   "outputs": [],
   "source": []
  },
  {
   "cell_type": "code",
   "execution_count": null,
   "metadata": {},
   "outputs": [],
   "source": []
  }
 ],
 "metadata": {
  "kernelspec": {
   "display_name": "Python 3 (ipykernel)",
   "language": "python",
   "name": "python3"
  },
  "language_info": {
   "codemirror_mode": {
    "name": "ipython",
    "version": 3
   },
   "file_extension": ".py",
   "mimetype": "text/x-python",
   "name": "python",
   "nbconvert_exporter": "python",
   "pygments_lexer": "ipython3",
   "version": "3.9.7"
  },
  "latex_envs": {
   "LaTeX_envs_menu_present": true,
   "autoclose": true,
   "autocomplete": true,
   "bibliofile": "biblio.bib",
   "cite_by": "apalike",
   "current_citInitial": 1,
   "eqLabelWithNumbers": false,
   "eqNumInitial": 1,
   "hotkeys": {
    "equation": "Ctrl-E",
    "itemize": "Ctrl-I"
   },
   "labels_anchors": false,
   "latex_user_defs": false,
   "report_style_numbering": false,
   "user_envs_cfg": false
  }
 },
 "nbformat": 4,
 "nbformat_minor": 4
}
