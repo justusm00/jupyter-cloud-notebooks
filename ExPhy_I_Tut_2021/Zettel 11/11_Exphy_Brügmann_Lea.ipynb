{
 "cells": [
  {
   "cell_type": "markdown",
   "metadata": {},
   "source": [
    "<div style=\"text-align: right\"> 24.01.2020</div>\n",
    "\n",
    "***Name:*** \n",
    "\n",
    "# Hausaufgabe Blatt 11\n",
    "\n",
    "## Kinetische Gastheorie: Maxwell-Boltzmann-Verteilung\n",
    "\n",
    "In dieser Aufgabe werden wir uns mit der kinetischen Gastheorie und der Maxwell-Boltzmann-Verteilung beschäftigen. Die genaue Herleitung der Maxwell-Boltzmann-Verteilung können Sie Kapitel 7.3.5 \"Experimentalphysik I\" von W. Demtröder entnehmen. \n",
    "\n",
    "Betrachtet man die Moleküle eines Gases als Teilchen, die lediglich durch elastische Stöße sowohl mit den Wänden ihrer Umgebung als auch untereinander wechselwirken, so spricht man von einem *idealen Gas*. \n",
    "\n",
    "## 1. Aufgabe\n",
    "Misst man die Beträge der Geschwindigkeiten von einem idealen Gas, so stellt man fest, dass diese durch die Maxwell-Boltzmann-Verteilung beschrieben werden. Hier ist $v$ die Geschwindigkeit der Teilchen, $m$ die Masse der Teilchen, $T$ die Temperatur und $k_B$ die Boltzmann-Konstante \n",
    "\n",
    "$$\\tag{1}\n",
    "f\\!\\left(v\\right)=4 \\pi v^2 \\cdot \\left(\\frac{m}{2 \\pi k_B T}\\right)^{3/2} \\cdot \\exp\\left(\\frac{-m v^2}{2 k_B T}\\right).\n",
    "$$\n",
    "\n",
    "Diese Verteilung kann wie folgt begründet werden. Da keine Raumrichtung ausgezeichnet ist und die Teilchen ständig miteinander und ihrer Umgebung kollidieren, kann man annehmen, dass die Geschwindigkeiten für alle drei Komponenten $v_{\\alpha}$, mit $\\alpha = x, y,z$ zufällig verteilt sind.\n",
    "\n",
    "Wir wollen nun diese Verteilung reproduzieren, indem wir Geschwindigkeitskomponenten $v_{\\alpha}$, mit $\\alpha = x, y,z$, für $N$ Teilchen zufällig aus einer Normalverteilung $\\mathcal N$ mit Mittelwert gleich 0 und einer Standardabweichung von 1 ziehen\n",
    "   $$\\tag{2}\n",
    "   v_{\\alpha} = \\sqrt{\\frac{k_B T}{m}} \\cdot \\mathcal N\\! \\left(0,1\\right).\n",
    "   $$\n",
    "   \n",
    "Normalverteilte Zahlen mit Mittelwert gleich 0 und einer Standardabweichung von 1 können wie folgt erzeugt werden; hier werden Zufallszahlen für $N=5$ Teilchen in 3 Dimensionen erzeugt (daher (N,3)).\n",
    " ```python\n",
    "import numpy as np\n",
    "N = 5\n",
    "gauss = np.random.normal(0,1,(N,3))\n",
    "``` \n",
    "\n",
    "**a)** Versuchen Sie den obigen Code nachzuvollziehen. Erstellen Sie für $N=100$ Teilchen Zufallszahlen für jede Geschwindigkeitskomponente $\\alpha=x, y, z$, indem Sie obigen Code und Gleichung (2) kombinieren. Nehmen Sie dabei für die Masse $m = 4.8 \\cdot 10^{-3}$, für die Temperatur $T=70$ und für die Boltzmann Konstante $k_B=1.38$ an.\n"
   ]
  },
  {
   "cell_type": "code",
   "execution_count": 1,
   "metadata": {
    "ExecuteTime": {
     "end_time": "2020-01-22T13:40:01.417341Z",
     "start_time": "2020-01-22T13:40:01.412966Z"
    }
   },
   "outputs": [
    {
     "name": "stdout",
     "output_type": "stream",
     "text": [
      "[[-2.91904003e+01  6.42848559e+01 -2.80510466e+01]\n",
      " [-1.24828539e+01 -2.27212846e+02  4.70428616e+01]\n",
      " [ 1.99957056e+02  2.40351208e+02 -1.60085840e+02]\n",
      " [-3.44466949e+01 -2.82150843e+01  1.84740626e+02]\n",
      " [ 2.87128022e+01 -5.24623213e+01 -1.05140429e+02]\n",
      " [-3.28423480e+01 -6.89164213e+01 -1.66851440e+02]\n",
      " [-2.70237894e+02  1.81488449e+02  1.26947585e+02]\n",
      " [-6.93841367e+01 -5.75144043e+01 -6.11980164e+01]\n",
      " [ 4.80175406e+01  7.34307720e-01  2.19416660e+02]\n",
      " [-7.03698651e+01 -3.14061171e+02 -2.07702891e+02]\n",
      " [-2.63107560e+02 -2.65670760e+01  6.33986436e+01]\n",
      " [-2.80247880e+01  4.11224553e+01  1.98052111e+02]\n",
      " [-2.07719652e+01  3.96090898e+01  3.92645357e+01]\n",
      " [ 2.17244560e+01 -1.60056171e+01 -4.43270102e+02]\n",
      " [-6.59795410e+01  4.52517341e+01  9.93628778e+00]\n",
      " [ 4.86235226e+00 -1.18837633e+02  5.70559254e+01]\n",
      " [ 1.30721717e+02  8.07255289e+00 -5.49000153e+01]\n",
      " [ 1.53510878e+02 -3.02340790e+02 -3.84237746e+01]\n",
      " [-4.68455095e+00 -1.45508259e+02 -1.27142016e+02]\n",
      " [-1.34134044e+02 -2.11456253e+02 -6.77100015e+01]\n",
      " [ 7.25198740e+01 -1.91394606e+02  2.50195169e+02]\n",
      " [ 1.72438634e+02 -2.14497099e+02 -6.57017724e+01]\n",
      " [-7.69434077e+01 -7.05269710e+01 -3.00749434e+00]\n",
      " [-1.03551979e+02  1.48338667e+02 -1.74880387e+01]\n",
      " [-8.00868015e+01  3.47374265e+01  3.72318092e+01]\n",
      " [ 2.96739062e+02  6.43177990e+01 -3.49148879e+01]\n",
      " [ 1.72297472e+02  3.60883588e+02  1.08291206e+02]\n",
      " [-2.68962382e+01  3.61217281e+01  7.67271503e+01]\n",
      " [-9.34691242e+01 -2.63926906e+01 -6.82238853e+00]\n",
      " [ 1.74322695e+01  1.73732434e+02 -1.58056908e+00]\n",
      " [-1.47635681e+02  4.30578688e+01 -7.18528995e+01]\n",
      " [-9.77521098e+01 -6.26848527e+01  6.42309607e+01]\n",
      " [-9.92160570e+01 -5.62773801e+01  3.82803732e+02]\n",
      " [-2.18654427e+02 -1.65935494e+02 -6.37386731e+01]\n",
      " [-3.16966039e+00 -1.47712935e+01 -2.13717913e+02]\n",
      " [ 1.45569435e+02  2.26047320e+02  3.49640221e+01]\n",
      " [-2.03004691e+02 -3.68722003e+02 -2.16660738e+02]\n",
      " [-7.53535947e+01 -2.45032527e+02  3.22035879e+02]\n",
      " [-1.42454279e+02 -3.47433012e+02  1.54371716e+02]\n",
      " [ 2.54624716e+02  2.26729828e+02  7.42962452e+01]\n",
      " [ 2.48491361e+02 -2.30761959e+01 -3.06364800e+02]\n",
      " [ 5.16750792e+01  7.69786343e+01  3.50759765e+01]\n",
      " [-2.70245068e+02 -9.68025879e+01 -1.88625779e+02]\n",
      " [ 3.01221888e+01  2.52542193e+01  2.66003085e+02]\n",
      " [-5.48417846e+01 -1.46386277e+02 -1.18565325e+02]\n",
      " [ 6.41554945e+01 -1.95009808e+02 -2.63852666e+02]\n",
      " [-4.58195395e+01 -2.47305897e+02  2.52372828e+02]\n",
      " [-1.02592126e+02  1.51464599e+02 -3.41720900e+01]\n",
      " [-5.75841306e+01  1.43147432e+02 -8.08594400e+01]\n",
      " [ 1.76674992e+02  1.33946254e+02 -1.50737930e+02]\n",
      " [ 1.57842992e+01  2.09943467e+02  1.11848259e+02]\n",
      " [ 1.40724109e+02  3.76013085e+02  1.22407355e+02]\n",
      " [ 7.77531041e+01  7.21244795e+01 -5.50191318e+00]\n",
      " [-1.90148466e+02  1.04454690e+02 -6.00169754e+01]\n",
      " [ 2.19292276e+02  8.00749083e+01 -5.11363584e-01]\n",
      " [ 1.47183058e+02  2.03761113e+00 -1.73890381e+02]\n",
      " [-6.30047000e+01 -3.83401319e+02  2.35815510e+02]\n",
      " [-2.12225015e+01 -3.51909684e+00 -5.23167271e+00]\n",
      " [ 1.97836430e+01 -2.13825569e+02 -2.42676816e+02]\n",
      " [ 3.69153667e+01 -7.17322144e+01  1.42599805e+02]\n",
      " [-6.22416116e+01  8.77232393e+01  8.49051608e+01]\n",
      " [ 3.11849170e+01 -1.37019111e+01  1.62984135e+02]\n",
      " [ 6.11595697e+01  3.75671298e+02 -2.34598903e+02]\n",
      " [ 1.61569345e+02 -7.07797831e+01  3.17949599e+02]\n",
      " [ 4.81048386e+01 -4.50704702e+00 -1.21820133e+02]\n",
      " [ 1.49790400e+02  1.73864763e+02 -8.55884231e+01]\n",
      " [ 9.26025562e+01  1.37605240e+02  2.03123188e+02]\n",
      " [ 6.93221184e+01  8.13953046e+01  1.19021032e+02]\n",
      " [-1.43694314e+02  1.16716607e+02 -6.37344076e+01]\n",
      " [-6.43460225e+01 -9.20526298e+01  3.15443839e+01]\n",
      " [-5.92225497e+01  1.67557048e+02 -1.21142980e+02]\n",
      " [ 2.00392667e+02  3.10089380e+02 -1.92171858e+01]\n",
      " [-7.07402418e+01 -2.28900904e+01  3.06457550e+01]\n",
      " [-8.71409412e+01 -9.10954720e+01 -6.43560626e+01]\n",
      " [ 1.39625230e+02  1.68773210e+02  8.83256810e+01]\n",
      " [-2.67221614e+02  1.22084318e+02  2.12564840e+02]\n",
      " [-1.35760498e+02 -6.85411941e+01  3.12435330e+02]\n",
      " [ 6.05649097e+01 -8.42468750e+01  1.24450887e+02]\n",
      " [-1.75947004e+00  4.23491603e+01 -6.77883147e+01]\n",
      " [-8.60108728e+01 -4.49958223e+01  1.64580855e+02]\n",
      " [ 1.16069866e+02  5.47441308e+01  1.06483578e+02]\n",
      " [-2.00582910e+02  1.55246875e+02 -8.24167255e+01]\n",
      " [ 9.54327675e+01 -3.48459173e+01  1.07980069e+02]\n",
      " [-1.73097186e+02  2.23299257e+02 -2.30995330e+02]\n",
      " [ 3.34326973e+02  1.64003978e+02 -3.85044022e+01]\n",
      " [-1.72560978e+02  1.69409937e+02 -2.21955902e+02]\n",
      " [-9.47366477e+01 -5.63544226e+00 -9.12349592e+01]\n",
      " [ 6.31030430e+01  8.24564941e+00  7.82886071e+01]\n",
      " [-2.49418576e+01  1.07962702e+02  2.57411202e+02]\n",
      " [-1.73335096e+01  3.83344229e+02  2.47051937e+02]\n",
      " [ 9.17427485e+01  1.53245077e+02  7.47884637e+01]\n",
      " [-1.40447877e+02 -2.58865425e+02  1.56599752e+02]\n",
      " [ 1.86322093e+02 -1.22585078e+02  6.97458600e+01]\n",
      " [ 2.95992839e+01  6.09655720e+01  1.24824164e+01]\n",
      " [-1.20887876e+02 -1.10536144e+02 -5.07794712e+01]\n",
      " [-1.76012445e+02 -1.25894895e+02 -1.60087382e+02]\n",
      " [ 1.14759361e+02 -2.31321001e+02  3.70505964e+01]\n",
      " [-1.35002229e+02 -7.70180042e+01  2.53436693e+01]\n",
      " [-6.18223065e-02 -4.36145361e+01 -3.52340093e+01]\n",
      " [ 3.66258527e+01 -8.53419434e+01  3.81737679e+01]]\n"
     ]
    }
   ],
   "source": [
    "import numpy as np\n",
    "N = 100\n",
    "m = 4.8 * 10**(-3)\n",
    "T = 70\n",
    "k = 1.38\n",
    "\n",
    "v = (k*T/m)**(1/2)\n",
    "\n",
    "gauss = np.random.normal(0, 1, (N,3))\n",
    "gauss = gauss * v\n",
    "\n",
    "print(gauss)"
   ]
  },
  {
   "cell_type": "markdown",
   "metadata": {},
   "source": [
    "**b)** Berechnen Sie nun den Betrag der Geschwindigkeit $v$ aus den Geschwindigkeitskomponenten $\\alpha=x,y,z$ für jede der $N=100$ erzeugten Zahlen. Benutzen Sie dafür die Normierungsfunktion `np.linalg.norm()` wie folgt: \n",
    "```python\n",
    "norm = np.linalg.norm(geschwindigkeit, axis=1)\n",
    "```\n",
    "Das Stichwort `axis` gibt an, über welche \"Dimension\" des arrays der Betrag berechnet wird, also zum Beispiel über Zeilen oder Spalten."
   ]
  },
  {
   "cell_type": "code",
   "execution_count": 2,
   "metadata": {
    "ExecuteTime": {
     "end_time": "2020-01-22T13:40:04.865465Z",
     "start_time": "2020-01-22T13:40:04.861353Z"
    }
   },
   "outputs": [
    {
     "name": "stdout",
     "output_type": "stream",
     "text": [
      "[ 75.97027967 232.36723057 351.25347514 190.03095701 120.95962104\n",
      " 183.48704583 349.40272733 108.93696504 224.61053835 383.04938097\n",
      " 271.93893736 204.20843248  59.51519381 444.09066104  80.62102136\n",
      " 131.91438132 142.011778   341.25053793 193.28655077 259.40380286\n",
      " 323.24704165 282.95019158 104.41928294 181.75038898  94.90412101\n",
      " 305.63033125 414.30709457  88.96764837  97.3632183  174.61197192\n",
      " 169.74425958 132.70449145 399.43668705 281.79241491 214.25121716\n",
      " 271.12789303 473.40119917 411.61415342 405.99697727 348.94138955\n",
      " 395.14536314  99.12793791 343.4862767  268.8917312  196.19964227\n",
      " 334.30970992 356.30279398 186.10319973 174.19922043 268.09993551\n",
      " 238.40183879 419.72928821 106.19678329 225.09833163 233.45525187\n",
      " 227.82640069 454.50535545  22.13930919 324.04444713 163.83821056\n",
      " 137.03383254 166.50546457 447.1085578  363.60195072 131.0516451\n",
      " 244.93161833 262.23932818 159.98986756 195.78788816 116.65824193\n",
      " 215.07741961 369.70521371  80.41952715 141.54021143 236.18007343\n",
      " 362.6234729  347.48329977 162.02983506  79.94875066 191.07420614\n",
      " 166.75696703 266.69760583 148.26107478 364.94388106 374.37203245\n",
      " 328.23991286 131.64576868 100.89148019 280.2473343  456.38570131\n",
      " 193.6339329  333.55718703 233.68249517  68.91102453 171.4954005\n",
      " 269.18000561 260.86752062 157.47913036  56.06841351 100.40884896]\n"
     ]
    }
   ],
   "source": [
    "geschwindigkeit = gauss\n",
    "norm = np.linalg.norm(geschwindigkeit, axis=1)\n",
    "\n",
    "print(norm)"
   ]
  },
  {
   "cell_type": "markdown",
   "metadata": {},
   "source": [
    "**c)** Erstellen Sie ein Histogramm aus den gerade berechneten Beträgen der Geschwindigkeit $v$. Benutzen Sie dafür den Histogramm Befehl `ax.hist()` wie folgt:\n",
    "``` \n",
    "import matplotlib.pyplot as plt\n",
    "fig, ax = plt.subplots()\n",
    "ax.hist(v, density=True)```\n",
    "\n",
    "Dabei stellt das Stichwort `density=True` sicher, dass das Histogramm normiert ist. Führen Sie sinnvolle Achsenbeschriftungen ein. Kommentieren Sie jede Zeile des Codes sinnvoll."
   ]
  },
  {
   "cell_type": "code",
   "execution_count": 3,
   "metadata": {
    "ExecuteTime": {
     "end_time": "2020-01-22T13:40:12.874378Z",
     "start_time": "2020-01-22T13:40:12.733603Z"
    }
   },
   "outputs": [
    {
     "data": {
      "text/plain": [
       "(array([0.0006648 , 0.00310241, 0.00243761, 0.00398881, 0.00265921,\n",
       "        0.00265921, 0.0013296 , 0.00288081, 0.0013296 , 0.001108  ]),\n",
       " array([ 22.13930919,  67.26549819, 112.39168718, 157.51787618,\n",
       "        202.64406518, 247.77025418, 292.89644317, 338.02263217,\n",
       "        383.14882117, 428.27501017, 473.40119917]),\n",
       " <BarContainer object of 10 artists>)"
      ]
     },
     "execution_count": 3,
     "metadata": {},
     "output_type": "execute_result"
    },
    {
     "data": {
      "image/png": "[encoded data removed]",
      "text/plain": [
       "<Figure size 432x288 with 1 Axes>"
      ]
     },
     "metadata": {
      "needs_background": "light"
     },
     "output_type": "display_data"
    }
   ],
   "source": [
    "import matplotlib.pyplot as plt\n",
    "\n",
    "fig, ax = plt.subplots()\n",
    "ax.set_xlabel(\"Geschwindigkeit der Teilchen in m/s\")\n",
    "ax.set_ylabel(\"Relative Häufigkeit\")\n",
    "ax.hist(norm, density=True)"
   ]
  },
  {
   "cell_type": "markdown",
   "metadata": {},
   "source": [
    "**d)** Schreiben Sie eine Funktion, die als Argument ein array von Beträgen von Geschwindigkeiten und eine Temperatur annimmt und die Maxwell-Boltzmann Verteilung (Gleichung (1)) zurückgibt. Tipp: Sie können einen Array mit Werten mit gleichem Abstand mit ```np.arange``` erzeugen. Vergleichen Sie die theoretisch erwartete Verteilung mit Ihrer erzeugten in einem gemeinsamen Plot.  Kommentieren Sie jede Zeile des Codes sinnvoll."
   ]
  },
  {
   "cell_type": "code",
   "execution_count": 4,
   "metadata": {
    "ExecuteTime": {
     "end_time": "2020-01-22T14:10:24.256266Z",
     "start_time": "2020-01-22T14:10:24.125860Z"
    }
   },
   "outputs": [
    {
     "name": "stdout",
     "output_type": "stream",
     "text": [
      "[0.00000000e+00 6.98242836e-06 2.78777189e-05 6.25303721e-05\n",
      " 1.10682829e-04 1.71977861e-04 2.45961881e-04 3.32089129e-04\n",
      " 4.29726692e-04 5.38160301e-04 6.56600825e-04 7.84191415e-04\n",
      " 9.20015192e-04 1.06310340e-03 1.21244396e-03 1.36699028e-03\n",
      " 1.52567026e-03 1.68739544e-03 1.85107005e-03 2.01560007e-03\n",
      " 2.17990204e-03 2.34291160e-03 2.50359171e-03 2.66094042e-03\n",
      " 2.81399810e-03 2.96185420e-03 3.10365329e-03 3.23860052e-03\n",
      " 3.36596634e-03 3.48509049e-03 3.59538526e-03 3.69633799e-03\n",
      " 3.78751283e-03 3.86855172e-03 3.93917466e-03 3.99917926e-03\n",
      " 4.04843963e-03 4.08690461e-03 4.11459540e-03 4.13160269e-03\n",
      " 4.13808320e-03 4.13425587e-03 4.12039759e-03 4.09683869e-03\n",
      " 4.06395807e-03 4.02217822e-03 3.97196000e-03 3.91379743e-03\n",
      " 3.84821236e-03 3.77574927e-03 3.69697005e-03 3.61244892e-03\n",
      " 3.52276760e-03 3.42851056e-03 3.33026062e-03 3.22859475e-03\n",
      " 3.12408016e-03 3.01727079e-03 2.90870401e-03 2.79889777e-03\n",
      " 2.68834800e-03 2.57752646e-03 2.46687885e-03 2.35682331e-03\n",
      " 2.24774926e-03 2.14001649e-03 2.03395469e-03 1.92986312e-03\n",
      " 1.82801069e-03 1.72863616e-03 1.63194870e-03 1.53812855e-03\n",
      " 1.44732794e-03 1.35967213e-03 1.27526060e-03 1.19416835e-03\n",
      " 1.11644735e-03 1.04212797e-03 9.71220514e-04 9.03716826e-04\n",
      " 8.39591838e-04 7.78805166e-04 7.21302681e-04 6.67018049e-04\n",
      " 6.15874235e-04 5.67784957e-04 5.22656076e-04 4.80386927e-04\n",
      " 4.40871574e-04 4.03999985e-04 3.69659132e-04 3.37734009e-04\n",
      " 3.08108555e-04 2.80666512e-04 2.55292178e-04 2.31871096e-04\n",
      " 2.10290658e-04 1.90440623e-04 1.72213579e-04 1.55505319e-04]\n"
     ]
    },
    {
     "data": {
      "image/png": "[encoded data removed]",
      "text/plain": [
       "<Figure size 432x288 with 1 Axes>"
      ]
     },
     "metadata": {
      "needs_background": "light"
     },
     "output_type": "display_data"
    }
   ],
   "source": [
    "def Boltzmann(v, T):\n",
    "    return 4 * np.pi * v ** 2 * (m/ (2 * np.pi * k * T))** (3/2) * np.exp(-m * v**2 / (2 * k * T))\n",
    "\n",
    "T = 70\n",
    "v = np.arange(0, 500, 5)\n",
    "    \n",
    "print(Boltzmann(v,T))\n",
    "\n",
    "fig, ax = plt.subplots()\n",
    "ax.plot(v, Boltzmann(v,T))\n",
    "ax.set_xlabel(\"Geschwindigkeit\")\n",
    "ax.set_ylabel(\"Verteilung\")\n",
    "        \n",
    "plt.show()"
   ]
  },
  {
   "cell_type": "markdown",
   "metadata": {},
   "source": [
    "**e)** Wiederholen Sie Aufgaben **a)**-**d)** für $N=10000$ Teilchen.  Optional können Sie auch die Temperatur auf $T=290$ ändern. \n",
    "Was stellen Sie fest?"
   ]
  },
  {
   "cell_type": "markdown",
   "metadata": {},
   "source": [
    "Ich stelle fest, dass ..."
   ]
  },
  {
   "cell_type": "code",
   "execution_count": 5,
   "metadata": {
    "ExecuteTime": {
     "end_time": "2020-01-22T14:11:12.749193Z",
     "start_time": "2020-01-22T14:11:12.341187Z"
    }
   },
   "outputs": [
    {
     "data": {
      "image/png": "[encoded data removed]",
      "text/plain": [
       "<Figure size 432x288 with 1 Axes>"
      ]
     },
     "metadata": {
      "needs_background": "light"
     },
     "output_type": "display_data"
    },
    {
     "data": {
      "image/png": "[encoded data removed]",
      "text/plain": [
       "<Figure size 432x288 with 1 Axes>"
      ]
     },
     "metadata": {
      "needs_background": "light"
     },
     "output_type": "display_data"
    }
   ],
   "source": [
    "N2 = 10000\n",
    "m = 4.8 * 10**(-3)\n",
    "T = 70\n",
    "k = 1.38\n",
    "\n",
    "v = (k*T/m)**(1/2)\n",
    "\n",
    "gauss2 = np.random.normal(0, 1, (N2,3))\n",
    "gauss2 = gauss2 * v\n",
    "\n",
    "geschwindigkeit2 = gauss2\n",
    "norm2 = np.linalg.norm(geschwindigkeit2, axis=1)\n",
    "\n",
    "fig, ax = plt.subplots()\n",
    "ax.set_xlabel(\"Geschwindigkeit der Teilchen in m/s\")\n",
    "ax.set_ylabel(\"Relative Häufigkeit\")\n",
    "ax.hist(norm2, density=True)\n",
    "\n",
    "def Boltzmann2(v, T):\n",
    "    return 4 * np.pi * v ** 2 * (m/ (2 * np.pi * k * T))** (3/2) * np.exp(-m * v**2 / (2 * k * T))\n",
    "\n",
    "v = np.arange(0, 500, 5)\n",
    "    \n",
    "\n",
    "fig, ax = plt.subplots()\n",
    "ax.plot(v, Boltzmann2(v,T))\n",
    "ax.set_xlabel(\"Geschwindigkeit\")\n",
    "ax.set_ylabel(\"Verteilung\")\n",
    "        \n",
    "plt.show()"
   ]
  },
  {
   "cell_type": "code",
   "execution_count": 6,
   "metadata": {},
   "outputs": [
    {
     "data": {
      "image/png": "[encoded data removed]",
      "text/plain": [
       "<Figure size 432x288 with 1 Axes>"
      ]
     },
     "metadata": {
      "needs_background": "light"
     },
     "output_type": "display_data"
    },
    {
     "data": {
      "image/png": "[encoded data removed]",
      "text/plain": [
       "<Figure size 432x288 with 1 Axes>"
      ]
     },
     "metadata": {
      "needs_background": "light"
     },
     "output_type": "display_data"
    }
   ],
   "source": [
    "N2 = 10000\n",
    "m = 4.8 * 10**(-3)\n",
    "T = 290\n",
    "k = 1.38\n",
    "\n",
    "v = (k*T/m)**(1/2)\n",
    "\n",
    "gauss2 = np.random.normal(0, 1, (N2,3))\n",
    "gauss2 = gauss2 * v\n",
    "\n",
    "geschwindigkeit2 = gauss2\n",
    "norm2 = np.linalg.norm(geschwindigkeit2, axis=1)\n",
    "\n",
    "fig, ax = plt.subplots()\n",
    "ax.set_xlabel(\"Geschwindigkeit der Teilchen in m/s\")\n",
    "ax.set_ylabel(\"Relative Häufigkeit\")\n",
    "ax.hist(norm2, density=True)\n",
    "\n",
    "def Boltzmann2(v, T):\n",
    "    return 4 * np.pi * v ** 2 * (m/ (2 * np.pi * k * T))** (3/2) * np.exp(-m * v**2 / (2 * k * T))\n",
    "\n",
    "v = np.arange(0, 1000, 5)\n",
    "    \n",
    "fig, ax = plt.subplots()\n",
    "ax.plot(v, Boltzmann2(v,T))\n",
    "ax.set_xlabel(\"Geschwindigkeit\")\n",
    "ax.set_ylabel(\"Verteilung\")\n",
    "        \n",
    "plt.show()"
   ]
  },
  {
   "cell_type": "code",
   "execution_count": null,
   "metadata": {},
   "outputs": [],
   "source": []
  },
  {
   "cell_type": "code",
   "execution_count": null,
   "metadata": {},
   "outputs": [],
   "source": []
  }
 ],
 "metadata": {
  "kernelspec": {
   "display_name": "Python 3 (ipykernel)",
   "language": "python",
   "name": "python3"
  },
  "language_info": {
   "codemirror_mode": {
    "name": "ipython",
    "version": 3
   },
   "file_extension": ".py",
   "mimetype": "text/x-python",
   "name": "python",
   "nbconvert_exporter": "python",
   "pygments_lexer": "ipython3",
   "version": "3.9.7"
  },
  "latex_envs": {
   "LaTeX_envs_menu_present": true,
   "autoclose": true,
   "autocomplete": true,
   "bibliofile": "biblio.bib",
   "cite_by": "apalike",
   "current_citInitial": 1,
   "eqLabelWithNumbers": false,
   "eqNumInitial": 1,
   "hotkeys": {
    "equation": "Ctrl-E",
    "itemize": "Ctrl-I"
   },
   "labels_anchors": false,
   "latex_user_defs": false,
   "report_style_numbering": false,
   "user_envs_cfg": false
  }
 },
 "nbformat": 4,
 "nbformat_minor": 4
}
