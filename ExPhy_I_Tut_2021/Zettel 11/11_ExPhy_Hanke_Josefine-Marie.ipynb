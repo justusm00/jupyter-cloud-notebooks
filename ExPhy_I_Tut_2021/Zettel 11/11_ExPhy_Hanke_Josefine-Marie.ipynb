{
 "cells": [
  {
   "cell_type": "markdown",
   "metadata": {},
   "source": [
    "<div style=\"text-align: right\"> 24.01.2020</div>\n",
    "\n",
    "***Name:*** \n",
    "\n",
    "# Hausaufgabe Blatt 11\n",
    "\n",
    "## Kinetische Gastheorie: Maxwell-Boltzmann-Verteilung\n",
    "\n",
    "In dieser Aufgabe werden wir uns mit der kinetischen Gastheorie und der Maxwell-Boltzmann-Verteilung beschäftigen. Die genaue Herleitung der Maxwell-Boltzmann-Verteilung können Sie Kapitel 7.3.5 \"Experimentalphysik I\" von W. Demtröder entnehmen. \n",
    "\n",
    "Betrachtet man die Moleküle eines Gases als Teilchen, die lediglich durch elastische Stöße sowohl mit den Wänden ihrer Umgebung als auch untereinander wechselwirken, so spricht man von einem *idealen Gas*. \n",
    "\n",
    "## 1. Aufgabe\n",
    "Misst man die Beträge der Geschwindigkeiten von einem idealen Gas, so stellt man fest, dass diese durch die Maxwell-Boltzmann-Verteilung beschrieben werden. Hier ist $v$ die Geschwindigkeit der Teilchen, $m$ die Masse der Teilchen, $T$ die Temperatur und $k_B$ die Boltzmann-Konstante \n",
    "\n",
    "$$\\tag{1}\n",
    "f\\!\\left(v\\right)=4 \\pi v^2 \\cdot \\left(\\frac{m}{2 \\pi k_B T}\\right)^{3/2} \\cdot \\exp\\left(\\frac{-m v^2}{2 k_B T}\\right).\n",
    "$$\n",
    "\n",
    "Diese Verteilung kann wie folgt begründet werden. Da keine Raumrichtung ausgezeichnet ist und die Teilchen ständig miteinander und ihrer Umgebung kollidieren, kann man annehmen, dass die Geschwindigkeiten für alle drei Komponenten $v_{\\alpha}$, mit $\\alpha = x, y,z$ zufällig verteilt sind.\n",
    "\n",
    "Wir wollen nun diese Verteilung reproduzieren, indem wir Geschwindigkeitskomponenten $v_{\\alpha}$, mit $\\alpha = x, y,z$, für $N$ Teilchen zufällig aus einer Normalverteilung $\\mathcal N$ mit Mittelwert gleich 0 und einer Standardabweichung von 1 ziehen\n",
    "   $$\\tag{2}\n",
    "   v_{\\alpha} = \\sqrt{\\frac{k_B T}{m}} \\cdot \\mathcal N\\! \\left(0,1\\right).\n",
    "   $$\n",
    "   \n",
    "Normalverteilte Zahlen mit Mittelwert gleich 0 und einer Standardabweichung von 1 können wie folgt erzeugt werden; hier werden Zufallszahlen für $N=5$ Teilchen in 3 Dimensionen erzeugt (daher (N,3)).\n",
    " ```python\n",
    "import numpy as np\n",
    "N = 5\n",
    "gauss = np.random.normal(0,1,(N,3))\n",
    "``` \n",
    "\n",
    "**a)** Versuchen Sie den obigen Code nachzuvollziehen. Erstellen Sie für $N=100$ Teilchen Zufallszahlen für jede Geschwindigkeitskomponente $\\alpha=x, y, z$, indem Sie obigen Code und Gleichung (2) kombinieren. Nehmen Sie dabei für die Masse $m = 4.8 \\cdot 10^{-3}$, für die Temperatur $T=70$ und für die Boltzmann Konstante $k_B=1.38$ an.\n"
   ]
  },
  {
   "cell_type": "code",
   "execution_count": 8,
   "metadata": {
    "ExecuteTime": {
     "end_time": "2020-01-22T13:40:01.417341Z",
     "start_time": "2020-01-22T13:40:01.412966Z"
    }
   },
   "outputs": [
    {
     "name": "stdout",
     "output_type": "stream",
     "text": [
      "[array([ 103.80712672,  106.04984813, -142.70242285]), array([ -22.24629283,  -95.91920108, -241.1973919 ]), array([ 55.89918883, -92.36120252, 176.08636331]), array([ 94.38604788,  25.75503375, 151.12417172]), array([ -31.04593656,  -25.47790282, -197.17656197]), array([-220.31541483,   46.27667684, -111.48113642]), array([-245.24986382, -174.69508797,  260.59450779]), array([-164.44530435,  194.82015041,    2.17171567]), array([-33.08117502, -33.18253752,  14.12348712]), array([-206.60890351,   -6.18783593,  -18.27337241]), array([-76.27285264, 155.16051603, 122.23434306]), array([ 113.76652864,   -8.6888462 , -208.24292752]), array([163.67325152,   9.68343257, -73.69680099]), array([-58.24644767,  -8.98125705,   8.52507372]), array([  51.41230248, -150.98563279,   57.29037141]), array([ 62.65320797,   1.39019539, -48.10460383]), array([ -0.40641315, 383.63012809,  34.01364992]), array([-251.6584153 ,   45.60334231,   22.11245441]), array([ 1.58567647e+02, -9.46086989e+01,  5.21878969e-02]), array([157.79286572, -16.78411694, 262.22264881]), array([  65.18775929, -154.20506778,   42.29740549]), array([137.83216179,  62.10203866, -43.95473247]), array([-91.39163921,  12.49866564, 115.51022977]), array([286.36049407,  70.53881328,   1.85351551]), array([ 81.8869263 ,  95.76970872, -48.43337062]), array([-104.48648384, -291.10570384,  -86.94998175]), array([ 104.30010033, -269.90519098, -134.73348437]), array([174.77228275, 125.59034454,  -6.40813107]), array([-284.61441035,  179.61277364,    9.5893394 ]), array([ 34.54430706, 178.9792611 ,  32.46126951]), array([  83.66748031,   89.3369386 , -181.19342134]), array([-133.05607619,   81.64722236,  306.56420948]), array([-117.8822747 ,  -28.1258731 ,    1.90118229]), array([78.98976096, 24.05566182,  1.70195747]), array([120.52867853, 166.23454794, -12.76944813]), array([  64.70955339, -103.98773825, -143.19120827]), array([ 81.00519219, -75.53339922,  -7.96362749]), array([140.07903177,  10.4775096 , -16.33678409]), array([ 30.61053463, 170.50263064, -11.35489643]), array([182.54693883,  64.72758755,  -6.05260873]), array([-54.31219109, -61.97064134,  32.47859278]), array([22.97179785,  3.29235829, 95.06731883]), array([111.19022085,  23.58515861, 126.61593477]), array([-166.27643768,   68.54136591, -108.57411837]), array([-203.26535008,  143.72702559,   54.62984859]), array([  69.71047913, -208.76235849,  -80.14129362]), array([73.96056444, 30.55470391, 38.00754405]), array([-84.24544462, 153.4640456 , 175.32605106]), array([-325.16199846,  -74.48193483,   61.95380159]), array([-113.71158496, -226.96215128,    3.61655276]), array([ -93.15596636,   90.65927804, -142.24076623]), array([-43.04225552,  33.71890506,  21.0392237 ]), array([ 296.70953259, -110.5909683 ,   42.6971004 ]), array([-158.73260283,  -74.17945852,  157.96214821]), array([ 96.86608274, -49.10764722,  63.70355488]), array([-3.91305547, 84.80521808, 11.21888519]), array([ -79.09545616, -160.02013611,  -70.28999901]), array([ 173.3986222 , -146.57408565,  166.25228608]), array([  59.44229181, -141.30589279,  242.7547044 ]), array([19.5374989 , -9.76876723, 94.85339646]), array([104.71154782, 239.47286935,  91.8142784 ]), array([ 36.77691451, 107.87372579, -14.93435131]), array([-193.52850751,  132.56275373,  223.19950622]), array([ 108.1340206 , -174.24343226,  -45.63946078]), array([ 56.18534824, -81.48051852, -26.11274392]), array([ 232.12828463, -184.52015812,  -82.56809066]), array([ 11.71837722, -28.17672086, -43.40258044]), array([-115.38421566,   45.86668323,  122.45721119]), array([ 11.12496516, -14.25740876, 111.32879055]), array([ -9.10007319, -54.52813261, 190.60162027]), array([-60.01547586, -29.44679276, -33.95202205]), array([-102.81210298, -445.54393216,   92.46210686]), array([ 69.78404401, 110.67711448,  75.54915209]), array([ -52.54011949, -150.71213963,  105.4530724 ]), array([-48.5974132 ,  -1.98470303, 134.11742193]), array([-172.63956493,   76.32324702,  -15.17813987]), array([ 151.25178992, -151.98603954,  140.04409615]), array([-36.8845645 , 164.83720082,  11.6744028 ]), array([393.25704064, 153.82644635, 121.55296828]), array([ 95.32118209,  35.99005214, -19.02161946]), array([-320.1725822 ,  -54.62201388,    9.51088381]), array([22.88184658, 66.94277087, 19.62804483]), array([ 205.49219242, -113.51315754, -149.40091106]), array([ 73.85564362,  93.25488287, 105.68122001]), array([-136.9707363 ,  207.06361176,  -31.26388712]), array([298.16589805, 206.19361184,  22.33233033]), array([ 98.50286679,  22.75998263, 136.17360099]), array([118.05831448,   9.38643971, -34.5632728 ]), array([ 99.2006419 , 100.24263617, -93.51709519]), array([105.87501047,  24.18709952, -68.8685735 ]), array([213.06829576,  -1.75623863, 329.60356702]), array([-184.24664742,   99.54039161,  120.99904023]), array([56.49922296, 40.06755936, 91.36590702]), array([-197.63894744, -156.88989916,   91.64628569]), array([ 132.4834994 ,   21.36952719, -170.32788316]), array([ -18.28061538,  198.76876396, -176.71793168]), array([235.6788215 , 195.38013743,  24.43732006]), array([ -90.48856947, -197.70554854,  -18.11960623]), array([  42.19451477, -188.76840326,  -57.70931242]), array([90.49054305, 95.48726642, -9.77566787])]\n"
     ]
    }
   ],
   "source": [
    "import numpy as np\n",
    "N = 100\n",
    "gauss = np.random.normal(0,1,(N,3))\n",
    "m=0.0048\n",
    "T=70\n",
    "kb=1.38\n",
    "valpha=[]\n",
    "for i in range (0,100):\n",
    "    v=np.sqrt(kb*T/m)*gauss[i]\n",
    "    valpha.append(v)\n",
    "print(valpha)"
   ]
  },
  {
   "cell_type": "markdown",
   "metadata": {},
   "source": [
    "**b)** Berechnen Sie nun den Betrag der Geschwindigkeit $v$ aus den Geschwindigkeitskomponenten $\\alpha=x,y,z$ für jede der $N=100$ erzeugten Zahlen. Benutzen Sie dafür die Normierungsfunktion `np.linalg.norm()` wie folgt: \n",
    "```python\n",
    "norm = np.linalg.norm(geschwindigkeit, axis=1)\n",
    "```\n",
    "Das Stichwort `axis` gibt an, über welche \"Dimension\" des arrays der Betrag berechnet wird, also zum Beispiel über Zeilen oder Spalten."
   ]
  },
  {
   "cell_type": "code",
   "execution_count": 10,
   "metadata": {
    "ExecuteTime": {
     "end_time": "2020-01-22T13:40:04.865465Z",
     "start_time": "2020-01-22T13:40:04.861353Z"
    }
   },
   "outputs": [
    {
     "name": "stdout",
     "output_type": "stream",
     "text": [
      "[205.87974969 260.52173142 206.54713357 180.02933949 201.22517312\n",
      " 251.21396579 398.21522692 254.95463415  48.93789764 207.50769735\n",
      " 211.73938795 237.45196556 179.76073154  59.54820338 169.47587679\n",
      "  79.00259503 385.1352603  256.71108947 184.64698025 306.4979814\n",
      " 172.67807447 157.43692875 147.82172216 294.92624885 134.9929524\n",
      " 321.27909275 319.18714707 215.31221425 336.68689678 185.1502608\n",
      " 218.66044864 344.02296852 121.20606388  82.58906623 205.72833077\n",
      " 188.42637324 111.04303185 141.41712719 173.60036163 193.77739687\n",
      "  88.57219359  97.85876675 170.15028609 210.08120275 254.86992915\n",
      " 234.23044244  88.59079201 247.76547865 339.28772066 253.88033032\n",
      " 192.69035872  58.58540136 319.51518177 235.90394557 125.90767214\n",
      "  85.63352381 191.84165113 281.40871947 287.10727594  97.33606472\n",
      " 277.02278809 114.94484332 323.79652017 210.08736392 102.36085018\n",
      " 307.81279842  53.05687469 174.39334399 112.78802312 198.456812\n",
      "  74.97806844 466.50719739 151.08577315 191.29810158 142.66439808\n",
      " 189.36745588 256.10390281 169.31646569 439.4187066  103.64957122\n",
      " 324.93769203  73.41780178 278.2676954  159.121493   250.22740169\n",
      " 363.20440705 169.59976763 123.37135281 169.21820397 128.59787728\n",
      " 392.47890953 241.85922432 114.65295667 268.46719667 216.84123705\n",
      " 266.59412935 307.10761569 218.1833753  201.85205445 131.91633754]\n"
     ]
    }
   ],
   "source": [
    "norm = np.linalg.norm(valpha, axis=1)\n",
    "print(norm)"
   ]
  },
  {
   "cell_type": "markdown",
   "metadata": {},
   "source": [
    "**c)** Erstellen Sie ein Histogramm aus den gerade berechneten Beträgen der Geschwindigkeit $v$. Benutzen Sie dafür den Histogramm Befehl `ax.hist()` wie folgt:\n",
    "``` \n",
    "import matplotlib.pyplot as plt\n",
    "fig, ax = plt.subplots()\n",
    "ax.hist(v, density=True)```\n",
    "\n",
    "Dabei stellt das Stichwort `density=True` sicher, dass das Histogramm normiert ist. Führen Sie sinnvolle Achsenbeschriftungen ein. Kommentieren Sie jede Zeile des Codes sinnvoll."
   ]
  },
  {
   "cell_type": "code",
   "execution_count": 15,
   "metadata": {
    "ExecuteTime": {
     "end_time": "2020-01-22T13:40:12.874378Z",
     "start_time": "2020-01-22T13:40:12.733603Z"
    }
   },
   "outputs": [
    {
     "data": {
      "text/plain": [
       "(array([0.00263429, 0.00311326, 0.00335274, 0.00526859, 0.00359222,\n",
       "        0.00191585, 0.00239481, 0.00047896, 0.00071844, 0.00047896]),\n",
       " array([ 48.93789764,  90.69482761, 132.45175759, 174.20868756,\n",
       "        215.96561754, 257.72254751, 299.47947749, 341.23640746,\n",
       "        382.99333744, 424.75026741, 466.50719739]),\n",
       " <BarContainer object of 10 artists>)"
      ]
     },
     "execution_count": 15,
     "metadata": {},
     "output_type": "execute_result"
    },
    {
     "data": {
      "image/png": "[encoded data removed]",
      "text/plain": [
       "<Figure size 432x288 with 1 Axes>"
      ]
     },
     "metadata": {
      "needs_background": "light"
     },
     "output_type": "display_data"
    }
   ],
   "source": [
    "import matplotlib.pyplot as plt\n",
    "fig, ax = plt.subplots()\n",
    "ax.set_title(\"Geschwindigkeitsverteilung\")  # Titel  \n",
    "ax.set_xlabel(\"Geschwindigkeit\")\n",
    "ax.set_ylabel(\"Wahrscheinlichkeitsverteilung\")\n",
    "ax.hist(norm, density=True)"
   ]
  },
  {
   "cell_type": "markdown",
   "metadata": {},
   "source": [
    "**d)** Schreiben Sie eine Funktion, die als Argument ein array von Beträgen von Geschwindigkeiten und eine Temperatur annimmt und die Maxwell-Boltzmann Verteilung (Gleichung (1)) zurückgibt. Tipp: Sie können einen Array mit Werten mit gleichem Abstand mit ```np.arange``` erzeugen. Vergleichen Sie die theoretisch erwartete Verteilung mit Ihrer erzeugten in einem gemeinsamen Plot.  Kommentieren Sie jede Zeile des Codes sinnvoll."
   ]
  },
  {
   "cell_type": "code",
   "execution_count": 58,
   "metadata": {
    "ExecuteTime": {
     "end_time": "2020-01-22T14:10:24.256266Z",
     "start_time": "2020-01-22T14:10:24.125860Z"
    }
   },
   "outputs": [],
   "source": [
    "#Funktion definieren\n",
    "temp=70\n",
    "fneu=4*np.pi*np.arange(start=0, stop=500, step=1)**2*(m/(2*np.pi*kb*temp))**(1.5)*np.e**(-m*np.arange(start=0, stop=500, step=1)**2/(2*kb*temp))\n"
   ]
  },
  {
   "cell_type": "markdown",
   "metadata": {},
   "source": [
    "**e)** Wiederholen Sie Aufgaben **a)**-**d)** für $N=10000$ Teilchen.  Optional können Sie auch die Temperatur auf $T=290$ ändern. \n",
    "Was stellen Sie fest?"
   ]
  },
  {
   "cell_type": "markdown",
   "metadata": {},
   "source": [
    "Ich stelle fest, dass ..."
   ]
  },
  {
   "cell_type": "code",
   "execution_count": 59,
   "metadata": {
    "ExecuteTime": {
     "end_time": "2020-01-22T14:11:12.749193Z",
     "start_time": "2020-01-22T14:11:12.341187Z"
    }
   },
   "outputs": [
    {
     "data": {
      "image/png": "[encoded data removed]",
      "text/plain": [
       "<Figure size 432x288 with 1 Axes>"
      ]
     },
     "metadata": {
      "needs_background": "light"
     },
     "output_type": "display_data"
    }
   ],
   "source": [
    "import numpy as np\n",
    "N = 1000\n",
    "gauss = np.random.normal(0,1,(N,3))\n",
    "m=0.0048\n",
    "T=70\n",
    "kb=1.38\n",
    "valpha=[]\n",
    "for i in range (0,1000):\n",
    "    v=np.sqrt(kb*T/m)*gauss[i]\n",
    "    valpha.append(v)\n",
    "norm = np.linalg.norm(valpha, axis=1)\n",
    "import matplotlib.pyplot as plt\n",
    "fig, ax = plt.subplots()\n",
    "ax.set_title(\"Geschwindigkeitsverteilung\")  # Titel  \n",
    "ax.set_xlabel(\"Geschwindigkeit\")\n",
    "ax.set_ylabel(\"Wahrscheinlichkeitsverteilung\")\n",
    "ax.hist(norm, density=True)\n",
    "\n",
    "temp=70\n",
    "fneu=4*np.pi*np.arange(start=0, stop=500, step=1)**2*(m/(2*np.pi*kb*temp))**(1.5)*np.e**(-m*np.arange(start=0, stop=500, step=1)**2/(2*kb*temp))"
   ]
  }
 ],
 "metadata": {
  "kernelspec": {
   "display_name": "Python 3 (ipykernel)",
   "language": "python",
   "name": "python3"
  },
  "language_info": {
   "codemirror_mode": {
    "name": "ipython",
    "version": 3
   },
   "file_extension": ".py",
   "mimetype": "text/x-python",
   "name": "python",
   "nbconvert_exporter": "python",
   "pygments_lexer": "ipython3",
   "version": "3.9.7"
  },
  "latex_envs": {
   "LaTeX_envs_menu_present": true,
   "autoclose": true,
   "autocomplete": true,
   "bibliofile": "biblio.bib",
   "cite_by": "apalike",
   "current_citInitial": 1,
   "eqLabelWithNumbers": false,
   "eqNumInitial": 1,
   "hotkeys": {
    "equation": "Ctrl-E",
    "itemize": "Ctrl-I"
   },
   "labels_anchors": false,
   "latex_user_defs": false,
   "report_style_numbering": false,
   "user_envs_cfg": false
  }
 },
 "nbformat": 4,
 "nbformat_minor": 4
}
