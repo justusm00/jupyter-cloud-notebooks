{
 "cells": [
  {
   "cell_type": "markdown",
   "metadata": {},
   "source": [
    "# Hausaufgabe zu Übungsblatt 1\n",
    "\n",
    "Falls Sie keinerlei Kenntnisse in `python` haben, empfehlen wir Ihnen, den Pythonguide aus der StudIP Veranstaltung der Vorlesung herunterzuladen und durchzulesen und -arbeiten.\n",
    "\n",
    "## Gleichförmig beschleunigte, geradlinige Bewegung\n",
    "\n",
    "In dieser Aufgabe werden wir die Bahnkurve eines gleichförmig beschleunigten Objektes in einer Dimension berechnen. Die Position $x$ zum Zeitpunkt $t$ ist gegeben durch folgende Gleichung:\n",
    "\\begin{equation*}\n",
    "x\\!\\left( t \\right) = x_0 + v_0 t + \\frac{1}{2} a t^2, \n",
    "\\end{equation*}\n",
    "wobei $x_0$ und $v_0$ die Anfangsposition und -geschwindigkeit sind und $a$ die konstante Erdbeschleunigung, die auf das Objekt wirkt. \n",
    "\n",
    "## 1. Einfache Berechnung\n",
    "\n",
    "Berechnen Sie für die Zeiten $t_1 = 1$, $t_2= 2$ und $t_3=5$ die Bahnkurvenpunkte $x_1 = x\\!\\left( t_1 \\right)$, $x_2 = x\\!\\left( t_2 \\right)$ und $x_3 = x\\!\\left( t_3 \\right)$. Weisen Sie für die Anfangsposition $x_0 =3$, die Anfangsgeschwindigkeit $v_0 = 10$ und Erdbeschleunigung $a =g=-9.81$ Variablen zu. Geben sie die drei Ergebnisse mit dem `print()`Befehl aus. Schreiben Sie hier explizit die oben genannte Gleichung zur Berechnung von jedem Wert hin.\n"
   ]
  },
  {
   "cell_type": "code",
   "execution_count": 1,
   "metadata": {
    "ExecuteTime": {
     "end_time": "2019-10-24T14:10:28.200898Z",
     "start_time": "2019-10-24T14:10:28.196099Z"
    }
   },
   "outputs": [
    {
     "name": "stdout",
     "output_type": "stream",
     "text": [
      "8.094999999999999\n",
      "3.379999999999999\n",
      "-69.625\n"
     ]
    }
   ],
   "source": [
    "#Funktion definieren mit inputs:\n",
    "#t: Zeit\n",
    "#x0: Startposition\n",
    "#v0: Startgeschwindigkeit\n",
    "#a: Erdbeschleunigung\n",
    "def x(t, x0, v0, a):\n",
    "    #rückgabe von x(t)\n",
    "    return x0 + v0 * t + 0.5 * a * t ** 2\n",
    "#für jedes t x(t) ausgeben\n",
    "for t in [1, 2, 5]:\n",
    "#             x0  v0      a\n",
    "    print(x(t, 3, 10, -9.81))"
   ]
  },
  {
   "cell_type": "markdown",
   "metadata": {},
   "source": [
    "## 2. Funktion  \n",
    "\n",
    "Um nicht jedes mal die Gleichung neu schreiben zu müssen, wollen wir nun die Bahnkurve durch eine Funktion definieren. Dies geht mit dem Befehl `def`. Eine Funktion ist ein Stück Code, der erst beim Aufruf ausgeführt wird. Dies wird am folgenden Beispiel gezeigt. \n",
    "\n",
    "Zuerst wird die Funktion `printHello()` definiert. Beachten Sie dabei die Syntax, es werden Doppelpunkte nach dem Funktionsnamen ( *printHello()* ) benötigt, danach wird in einer neuen Zeile begonnen und es muss eingerückt werden. Bei der Definition wird der Code nicht ausgeführt. Erst in der nächsten Zeile wird dies durch den Funktionsaufruf erledigt. Hier sehen Sie auch, dass die Funktionsdefinition beendet ist, wenn die Einrückung aufgehoben wird.  \n",
    "\n"
   ]
  },
  {
   "cell_type": "code",
   "execution_count": 2,
   "metadata": {
    "ExecuteTime": {
     "end_time": "2019-10-24T15:05:04.412209Z",
     "start_time": "2019-10-24T15:05:04.404784Z"
    }
   },
   "outputs": [
    {
     "name": "stdout",
     "output_type": "stream",
     "text": [
      "Hello, world!\n"
     ]
    }
   ],
   "source": [
    "def printHello():\n",
    "    print(\"Hello, world!\")\n",
    "\n",
    "printHello()"
   ]
  },
  {
   "cell_type": "markdown",
   "metadata": {
    "ExecuteTime": {
     "end_time": "2019-10-24T14:19:27.898338Z",
     "start_time": "2019-10-24T14:19:27.894200Z"
    }
   },
   "source": [
    "Wir wollen nun eine Funktion schreiben, die unsere Bahngleichung mit den Parametern $x_0$ und $v_0$ zu einer beliebigen Zeit $t$ ausrechnet und ausgibt. \n",
    "\n",
    "Erweitern Sie folgendes Grundgerüst, sodass der Aufruf der Funktion in der nachstehenden Zelle fehlerfrei funktioniert. Vergleichen Sie das Ergebnis mit Teilaufgabe 1.\n",
    "\n",
    "```python \n",
    "def printBahnkurve(x0,v0,t):\n",
    "    a = -9.81\n",
    "    x = x0 + ___ + ___\n",
    "    print(___)\n",
    "    ```"
   ]
  },
  {
   "cell_type": "code",
   "execution_count": 3,
   "metadata": {
    "ExecuteTime": {
     "end_time": "2019-10-24T14:45:46.569996Z",
     "start_time": "2019-10-24T14:45:46.567293Z"
    }
   },
   "outputs": [],
   "source": [
    "#\"Aufgabenstellungskompatible\" Funktion\n",
    "def printBahnkurve(x0, v0, t):\n",
    "    print(x0 + v0 * t - 0.5 * 9.81 * t ** 2)"
   ]
  },
  {
   "cell_type": "code",
   "execution_count": 4,
   "metadata": {
    "ExecuteTime": {
     "end_time": "2019-10-24T14:35:27.058493Z",
     "start_time": "2019-10-24T14:35:27.053371Z"
    }
   },
   "outputs": [
    {
     "name": "stdout",
     "output_type": "stream",
     "text": [
      "8.094999999999999\n",
      "3.379999999999999\n",
      "-69.625\n"
     ]
    }
   ],
   "source": [
    "t1 = 1\n",
    "t2 = 2\n",
    "t3 = 5\n",
    "#variablen für startgeschwindigkeit und startposition definieren\n",
    "x0 = 3\n",
    "v0 = 10\n",
    "\n",
    "printBahnkurve(x0,v0,t1)\n",
    "printBahnkurve(x0,v0,t2)\n",
    "printBahnkurve(x0,v0,t3)"
   ]
  },
  {
   "cell_type": "markdown",
   "metadata": {},
   "source": [
    "## 3. Numpy Arrays\n",
    "In der Regel ist man an mehr als nur 3 Werten einer Bahnkurve interessiert. \n",
    "Berechnen Sie für die Zeiten $t = 0, 0.5, 1, 2, 5$ und $10$ die Bahnkurve indem sie numpy arrays verwenden.\n",
    "\n",
    "Numpy arrays sind wichtige und nützliche Strukturen da man mit diesen unter anderem rechnen kann, wie folgendes Beispiel zeigt:\n",
    "\n"
   ]
  },
  {
   "cell_type": "code",
   "execution_count": 5,
   "metadata": {
    "ExecuteTime": {
     "end_time": "2019-10-24T15:05:11.279040Z",
     "start_time": "2019-10-24T15:05:11.156457Z"
    }
   },
   "outputs": [
    {
     "name": "stdout",
     "output_type": "stream",
     "text": [
      "t:  [0.  0.5 1. ]\n",
      "t + 1:  [1.  1.5 2. ]\n",
      "t * 3:  [0.  1.5 3. ]\n",
      "t**2:  [0.   0.25 1.  ]\n"
     ]
    }
   ],
   "source": [
    "import numpy as np\n",
    "\n",
    "t = np.array([0, 0.5, 1])\n",
    "\n",
    "tPlus1 = t + 1\n",
    "tMal3 = 3 * t\n",
    "tQuadrat = t**2\n",
    "\n",
    "print(\"t: \", t)\n",
    "print(\"t + 1: \", tPlus1)\n",
    "print(\"t * 3: \", tMal3)\n",
    "print(\"t**2: \", tQuadrat)"
   ]
  },
  {
   "cell_type": "markdown",
   "metadata": {},
   "source": [
    "**a)** Versuchen Sie die Ausgabe nachzuvollziehen.\n",
    "\n",
    "**b)** Erweitern Sie das array `t` um die fehlenden Einträge. Benutzen Sie dann dieses array, um die Bahnkurve zu berechnen.\n",
    "\n",
    "*Tip:* Benutzen Sie die Funktion `printBahnkurve(x0,v0,t)`.\n"
   ]
  },
  {
   "cell_type": "code",
   "execution_count": 6,
   "metadata": {
    "ExecuteTime": {
     "end_time": "2019-10-24T14:41:38.958170Z",
     "start_time": "2019-10-24T14:41:37.534793Z"
    }
   },
   "outputs": [
    {
     "name": "stdout",
     "output_type": "stream",
     "text": [
      "[   3.         6.77375    8.095      3.38     -69.625   -387.5    ]\n"
     ]
    }
   ],
   "source": [
    "#definition von t als numpy-array\n",
    "t = np.array([0, 0.5, 1, 2, 5, 10])\n",
    "#xt ist Bahnkurve\n",
    "xt = x(t, 3, 10, -9.81)\n",
    "print(xt)"
   ]
  },
  {
   "cell_type": "code",
   "execution_count": 7,
   "metadata": {},
   "outputs": [
    {
     "data": {
      "text/plain": [
       "<matplotlib.collections.PathCollection at 0x7f0e7f3f8ca0>"
      ]
     },
     "execution_count": 7,
     "metadata": {},
     "output_type": "execute_result"
    },
    {
     "data": {
      "image/png": "[encoded data removed]",
      "text/plain": [
       "<Figure size 432x288 with 1 Axes>"
      ]
     },
     "metadata": {
      "needs_background": "light"
     },
     "output_type": "display_data"
    }
   ],
   "source": [
    "#plotten, da warum nicht?\n",
    "import matplotlib.pyplot as plt\n",
    "plt.scatter(t, xt)"
   ]
  },
  {
   "cell_type": "code",
   "execution_count": null,
   "metadata": {},
   "outputs": [],
   "source": []
  }
 ],
 "metadata": {
  "kernelspec": {
   "display_name": "Python 3",
   "language": "python",
   "name": "python3"
  },
  "language_info": {
   "codemirror_mode": {
    "name": "ipython",
    "version": 3
   },
   "file_extension": ".py",
   "mimetype": "text/x-python",
   "name": "python",
   "nbconvert_exporter": "python",
   "pygments_lexer": "ipython3",
   "version": "3.9.2"
  },
  "latex_envs": {
   "LaTeX_envs_menu_present": true,
   "autoclose": true,
   "autocomplete": true,
   "bibliofile": "biblio.bib",
   "cite_by": "apalike",
   "current_citInitial": 1,
   "eqLabelWithNumbers": true,
   "eqNumInitial": 1,
   "hotkeys": {
    "equation": "Ctrl-E",
    "itemize": "Ctrl-I"
   },
   "labels_anchors": false,
   "latex_user_defs": false,
   "report_style_numbering": false,
   "user_envs_cfg": false
  }
 },
 "nbformat": 4,
 "nbformat_minor": 4
}
