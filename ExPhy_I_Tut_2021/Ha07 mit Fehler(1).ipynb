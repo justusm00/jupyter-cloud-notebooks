{
 "cells": [
  {
   "cell_type": "markdown",
   "metadata": {},
   "source": [
    "<div style=\"text-align: right\"> 06.12.2019</div>\n",
    "\n",
    "***Name:*** \n",
    "\n",
    "# Hausaufgabe Blatt 7\n",
    "\n",
    "## Pendel: Energie\n",
    "\n",
    "In dieser Aufgabe werden wir erneut die Bewegungsgleichung eines Pendels numerisch lösen und dabei dieses mal die Energie des Systems betrachten. Die Bewegungsgleichung eines Pendels (ohne Kleinwinkelnäherung) lautet:\n",
    "\n",
    "\\begin{equation*}\n",
    "       \\ddot{\\varphi} = -\\frac{g}{L} \\sin \\varphi \n",
    "\\end{equation*}\n",
    "\n",
    "Die nach dem Euler Verfahren diskretisierte Gleichungen lauten:\n",
    "\n",
    "\\begin{align*}\n",
    "    \\omega \\left(t+\\Delta t\\right) &= \\omega \\left(t\\right) -\\frac{g}{L} \\sin  \\varphi \\left(t\\right) \\cdot \\Delta t  \\tag{1} \\\\\n",
    "        \\varphi \\left(t + \\Delta t\\right) &=\\varphi\\left(t \\right) + \n",
    "        \\omega\\left(t\\right) \\cdot \\Delta t \\tag{2}\n",
    "\\end{align*}\n",
    "\n",
    "Die potentielle Energie $E_p$ und die kinetische Energie $E_{kin}$ sind gegeben durch:\n",
    "\\begin{align*}\n",
    "E_p &= m \\cdot g \\cdot L \\left( 1 - \\cos \\varphi \\right) \\\\\n",
    "E_{kin} &= \\frac{m}{2} v^2 = \\frac{m}{2}L^2 \\dot \\varphi ^2\n",
    "\\end{align*}\n",
    "\n",
    "Die konstante Gesamtenergie ist durch die potentielle Energie bei anfänglicher Auslenkung $\\varphi_0$ gegeben\n",
    "\\begin{align*}\n",
    "E = m \\cdot g \\cdot L\\left(1-\\cos \\varphi_0\\right). \\tag{3}\n",
    "\\end{align*}\n",
    "\n",
    "\n",
    "\n",
    "### 1. Numerische Integration\n",
    "Auf Blatt 6 haben Sie die Pendelgleichungen (1 + 2) numerisch integriert. Der Code dafür steht in der folgenden Zelle. Führen Sie diesen aus, bevor Sie bei \"2. Energie\" weiterarbeiten. Hier haben wir $N=2000$ Zeitschritte, wobei $\\Delta t=0.004$, $\\omega(t=0)=0$ und $\\varphi_0 = \\varphi(t=0)=\\pi/4$ sein soll. Die Länge des Pendels ist $L=1$, die Masse $m=1$ und $g$ die Erdbeschleunigung.  \n"
   ]
  },
  {
   "cell_type": "code",
   "execution_count": null,
   "metadata": {
    "ExecuteTime": {
     "end_time": "2019-11-28T13:57:50.916108Z",
     "start_time": "2019-11-28T13:57:50.908378Z"
    }
   },
   "outputs": [],
   "source": [
    "# numerische Integration der Schwingungsgleichung eines mathematischen Pendels\n",
    "import numpy as np # lade Bibliotheken\n",
    "\n",
    "L = 1 # Pendellänge\n",
    "g = 9.81 # Erdbeschleunigung\n",
    "m = 1 # Masse\n",
    "N = 2000 # Anzahl Zeitschritte\n",
    "\n",
    "dt = 0.004 # Zeitintervall \n",
    "w = 0 # Winkelgeschwindigkeit \n",
    "phi = (np.pi/4) # Winkel \n",
    "t = np.linspace(0, N*dt, N+1) # Zeit\n",
    "resultsw = [0] # Liste für berechnete Winkelgeschwindigkeit\n",
    "resultsphi = [np.pi/4] # Liste für berechnete Winkel\n",
    "\n",
    "\n",
    "for i in range(N): # for-Schleife zur Aktualisierung der Winkelgeschwindigkeit und des Winkels\n",
    "    wtemp = w # Zwischenspeichern der Winkelgeschwindigkeit, damit phi nicht mit dem aktualisierten omega berechnet wird\n",
    "    w = w - g/L*np.sin(phi)*dt # update omage\n",
    "    resultsw.append(w) # speichere omega\n",
    "    phi = phi+wtemp*dt # update phi\n",
    "    resultsphi.append(phi) # speichere phi"
   ]
  },
  {
   "cell_type": "markdown",
   "metadata": {
    "ExecuteTime": {
     "end_time": "2019-11-28T09:53:41.631317Z",
     "start_time": "2019-11-28T09:53:41.619083Z"
    }
   },
   "source": [
    "## 2. Energie\n",
    "**a)** Schreiben Sie eine Funktion, die Ihnen die potentielle, kinetische und gesamte Energie abhängig vom Winkel $\\varphi$ und der Winkelgeschwindigkeit $\\omega$ berechnet und zurück gibt."
   ]
  },
  {
   "cell_type": "code",
   "execution_count": null,
   "metadata": {
    "ExecuteTime": {
     "end_time": "2019-11-28T10:33:58.166822Z",
     "start_time": "2019-11-28T10:33:58.161837Z"
    }
   },
   "outputs": [],
   "source": []
  },
  {
   "cell_type": "markdown",
   "metadata": {},
   "source": [
    "**b)** Plotten Sie die kinetische, potentielle und gesamte Energie gegen die Zeit. Vergleichen Sie das Ergebnis mit der erwarteten gesamten Energie (Gleichung (3)). Warum sehen Sie eine Abweichung?\n",
    "\n",
    "Benutzen Sie zum plotten einer horizontalen Linie `ax.hlines(value, xStart, xEnd)`, wobei `value` der y-Wert und `xStart` und `xEnd` die Anfangs- und End-Punkte der Linie sind."
   ]
  },
  {
   "cell_type": "code",
   "execution_count": null,
   "metadata": {
    "ExecuteTime": {
     "end_time": "2019-11-28T10:34:09.392966Z",
     "start_time": "2019-11-28T10:34:09.188123Z"
    }
   },
   "outputs": [],
   "source": []
  }
 ],
 "metadata": {
  "kernelspec": {
   "display_name": "Python 3 (ipykernel)",
   "language": "python",
   "name": "python3"
  },
  "language_info": {
   "codemirror_mode": {
    "name": "ipython",
    "version": 3
   },
   "file_extension": ".py",
   "mimetype": "text/x-python",
   "name": "python",
   "nbconvert_exporter": "python",
   "pygments_lexer": "ipython3",
   "version": "3.9.7"
  },
  "latex_envs": {
   "LaTeX_envs_menu_present": true,
   "autoclose": true,
   "autocomplete": true,
   "bibliofile": "biblio.bib",
   "cite_by": "apalike",
   "current_citInitial": 1,
   "eqLabelWithNumbers": true,
   "eqNumInitial": 1,
   "hotkeys": {
    "equation": "Ctrl-E",
    "itemize": "Ctrl-I"
   },
   "labels_anchors": false,
   "latex_user_defs": false,
   "report_style_numbering": false,
   "user_envs_cfg": false
  }
 },
 "nbformat": 4,
 "nbformat_minor": 4
}
