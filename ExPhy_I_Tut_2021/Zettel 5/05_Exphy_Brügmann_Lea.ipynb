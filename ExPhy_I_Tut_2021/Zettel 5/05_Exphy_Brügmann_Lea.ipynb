{
 "cells": [
  {
   "cell_type": "markdown",
   "metadata": {},
   "source": [
    "# Hausaufgabe 5 \n",
    "\n",
    "## Integration einer Bewegungsgleichung: Freier Fall - Wiederholung\n",
    "\n",
    "In dieser Aufgabe werden wir erneut die Bewegungsgleichung des freien Falls numerisch mit dem Euler Verfahren lösen. Die Bewegungsgleichung hat die Form:\n",
    "\\begin{equation}\\tag{1}\n",
    " \\ddot x = \\frac{\\mathrm{d}^2x}{\\mathrm{d}t^2}= a\n",
    "\\end{equation}\n",
    "\n",
    "Dieses Mal soll die Bewegungsgleichung nicht \"per Hand\" sondern rekursiv mittels einer Schleife gelöst werden. "
   ]
  },
  {
   "cell_type": "markdown",
   "metadata": {},
   "source": [
    "## 1. Integration mit Schleife\n",
    "\n",
    "**a)** Lösen Sie erneut Gleichung (1) für fünf Zeitschritte $\\Delta t = 0.1$, indem Sie die Gleichungen (3) und (4) für die Anfangswerte $x_0=x\\left(t=0\\right) = 2$ und $v_0=v\\left(t=0\\right) = 1$ numerisch mit Hilfe einer Schleife integrieren. Dabei soll $a=-9.81$ sein. Speichern Sie die numerisch berechneten Positionen in einer Liste indem Sie `append()` benutzen.\n",
    "\n",
    "Als Erinerrung:\n",
    "\n",
    "\\begin{equation} \\tag{2}\n",
    "x\\!\\left( t \\right) = x_0 + v_0 t + \\frac{1}{2} a t^2.\n",
    "\\end{equation}\n",
    "\n",
    "\\begin{align}\\tag{3}\n",
    "        x\\left(t+\\Delta t \\right) &= x\\left(t\\right) + v\\left(t\\right) \\Delta t \\\\ \n",
    "        v\\left(t+\\Delta t \\right) &= v\\left(t\\right) + a\\Delta t \\tag{4}\n",
    "    \\end{align}\n",
    "    \n"
   ]
  },
  {
   "cell_type": "code",
   "execution_count": 1,
   "metadata": {},
   "outputs": [
    {
     "name": "stdout",
     "output_type": "stream",
     "text": [
      "[2, 2.1, 2.1019, 2.0057, 1.8114]\n"
     ]
    }
   ],
   "source": [
    "import numpy as np\n",
    "x0 = 2                              # Startwert Ort\n",
    "v0 = 1                              # Startwert Geschwindigkeit\n",
    "a = -9.81                           \n",
    "dt = 0.1                            # Länge eines Intervalls\n",
    "t0 = 0                              # Startwert Zeit\n",
    "te = 0.5                            # Endwert Zeit\n",
    "results = [2]                       # Erstellen einer Liste für die Ergebnisse\n",
    "\n",
    "nrt = te/dt                         # Berechnung der Anzahl der Zeitintervalle\n",
    "x = x0                              # Angabe des Startwerts für x\n",
    "v = v0                              # Angabe des Startwerts für v\n",
    "\n",
    "for k in range (1, int(nrt)):       \n",
    "    x = x + v * dt                  # Berechnung der x        \n",
    "    v = v + dt * a                  # Berechnung der v\n",
    "    results.append(x)               # Anhängend der Ergebnisse an die Liste\n",
    "\n",
    "print(results)                      # Ausgabe der Liste mit Ergebnissen"
   ]
  },
  {
   "cell_type": "markdown",
   "metadata": {},
   "source": [
    "**b)** Plotten Sie diese Positionen in einem Diagramm mit der Bahnkurve (Gleichung (2)). Benutzen Sie das mit `ax.scatter()` erweiterte Grundgerüst von `helpPlotScatter.ipynb`. "
   ]
  },
  {
   "cell_type": "code",
   "execution_count": 2,
   "metadata": {},
   "outputs": [
    {
     "data": {
      "image/png": "[encoded data removed]",
      "text/plain": [
       "<Figure size 432x288 with 1 Axes>"
      ]
     },
     "metadata": {
      "needs_background": "light"
     },
     "output_type": "display_data"
    }
   ],
   "source": [
    "import numpy as np\n",
    "import matplotlib.pyplot as plt\n",
    "\n",
    "t = np.linspace(0, 4*dt, 20)\n",
    "xAnalytic = x0 + v0 * t + 0.5 * a * t**2        # Analytische Lösung\n",
    "\n",
    "xNumeric = results                              # Numerische Lösung\n",
    "tNumeric = np.linspace(0,4*dt,5)\n",
    "\n",
    "fig, ax = plt.subplots()\n",
    "\n",
    "ax.set_title(\"Geradlinige Beschleunigung\")\n",
    "ax.plot(t, xAnalytic, label='analytische Lösung')\n",
    "ax.scatter(tNumeric, xNumeric, label='numerische Lösung')\n",
    "ax.set_xlabel(\"Zeit $t$\")\n",
    "ax.set_ylabel(\"Position $x$\")\n",
    "\n",
    "plt.legend(loc=3)\n",
    "plt.show()"
   ]
  },
  {
   "cell_type": "markdown",
   "metadata": {},
   "source": [
    "## 2. Variation des Zeitschrittes\n",
    "\n",
    "Sie sollten nun die Abbildung aus Hausaufgabe 3 reproduziert haben.\n",
    "\n",
    "**a)** Wiederholen Sie Aufgabe 1 mit einem Zeitschritt $\\Delta t = 0.005$. Achten Sie darauf, dass die Integrationszeit gleich bleibt! Da Sie nun sehr viele Werte erzeugt haben, ist es sinnvoller die numerische Lösung ebenfalls in einem Linienplot mit `ax.plot()` darzustellen."
   ]
  },
  {
   "cell_type": "code",
   "execution_count": 10,
   "metadata": {},
   "outputs": [],
   "source": [
    "dt = 0.005                          # Länge eines Intervalls\n",
    "t0 = 0                              # Startwert Zeit\n",
    "te = 10                            # Endwert Zeit\n",
    "results2 = [2]                      # Erstellen einer Liste für die Ergebnisse\n",
    "\n",
    "nrt = int(te/dt)                         # Berechnung der Anzahl der Zeitintervalle\n",
    "x = x0                              # Angabe des Startwerts für x\n",
    "v = v0                              # Angabe des Startwerts für v\n",
    "\n",
    "for k in range (1, int(nrt)):       \n",
    "    x = x + v * dt                  # Berechnung der x        \n",
    "    v = v + dt * a                  # Berechnung der v\n",
    "    results2.append(x)              # Anhängend der Ergebnisse an die Liste"
   ]
  },
  {
   "cell_type": "code",
   "execution_count": 11,
   "metadata": {},
   "outputs": [
    {
     "data": {
      "image/png": "[encoded data removed]",
      "text/plain": [
       "<Figure size 432x288 with 1 Axes>"
      ]
     },
     "metadata": {
      "needs_background": "light"
     },
     "output_type": "display_data"
    }
   ],
   "source": [
    "import numpy as np\n",
    "import matplotlib.pyplot as plt\n",
    "\n",
    "dt = 0.1\n",
    "x0 = 2.0\n",
    "v0 = 1.0\n",
    "a = -9.81\n",
    "\n",
    "t = np.linspace(0, te, 100)\n",
    "xAnalytic = x0 + v0 * t + 0.5 * a * t**2  # Analytische Lösung\n",
    "\n",
    "xNumeric = results2                       # Numerische Lösung\n",
    "tNumeric = np.linspace(0,te,nrt)        \n",
    "\n",
    "fig, ax = plt.subplots()\n",
    "\n",
    "ax.set_title(\"Geradlinige Beschleunigung\")  # Titel\n",
    "ax.plot(t, xAnalytic, label='analytische Lösung')  # x-Wert, hier x, y Wert hier xQuadrat\n",
    "ax.plot(tNumeric, xNumeric, label='numerische Lösung')\n",
    "ax.set_xlabel(\"Zeit $t$\")\n",
    "ax.set_ylabel(\"Position $x$\")\n",
    "\n",
    "plt.legend(loc=3)\n",
    "plt.show()"
   ]
  },
  {
   "cell_type": "markdown",
   "metadata": {
    "ExecuteTime": {
     "end_time": "2019-11-21T09:54:24.497303Z",
     "start_time": "2019-11-21T09:54:24.491736Z"
    }
   },
   "source": [
    "**b)** Berechnen Sie die quadratische Abweichung $\\mathrm{SE}\\left(t\\right)$ zwischen der numerischen und analytischen Lösung abhängig vom Zeitschritt:\n",
    "   $$ \n",
    "   \\mathrm{SE}\\left(t\\right) = \\left(x_{\\mathrm{numerisch}}\\left(t\\right) - x_\\mathrm{analytisch}\\left(t\\right)\\right) ^2 \\, .\n",
    "   $$\n",
    "Plotten Sie die quadratische Abweichung gegen die Zeit. Benutzen Sie geeignete Beschriftungen! \n",
    "\n",
    "Beschreiben Sie kurz, was Sie beobachten. "
   ]
  },
  {
   "cell_type": "code",
   "execution_count": null,
   "metadata": {},
   "outputs": [],
   "source": []
  }
 ],
 "metadata": {
  "kernelspec": {
   "display_name": "Python 3 (ipykernel)",
   "language": "python",
   "name": "python3"
  },
  "language_info": {
   "codemirror_mode": {
    "name": "ipython",
    "version": 3
   },
   "file_extension": ".py",
   "mimetype": "text/x-python",
   "name": "python",
   "nbconvert_exporter": "python",
   "pygments_lexer": "ipython3",
   "version": "3.9.7"
  },
  "latex_envs": {
   "LaTeX_envs_menu_present": true,
   "autoclose": true,
   "autocomplete": true,
   "bibliofile": "biblio.bib",
   "cite_by": "apalike",
   "current_citInitial": 1,
   "eqLabelWithNumbers": true,
   "eqNumInitial": 1,
   "hotkeys": {
    "equation": "Ctrl-E",
    "itemize": "Ctrl-I"
   },
   "labels_anchors": false,
   "latex_user_defs": false,
   "report_style_numbering": false,
   "user_envs_cfg": false
  }
 },
 "nbformat": 4,
 "nbformat_minor": 4
}
