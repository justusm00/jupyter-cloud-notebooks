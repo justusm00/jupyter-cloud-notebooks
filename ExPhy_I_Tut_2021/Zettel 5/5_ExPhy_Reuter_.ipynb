{
 "cells": [
  {
   "cell_type": "markdown",
   "metadata": {},
   "source": [
    "# Hausaufgabe 5 \n",
    "\n",
    "## Integration einer Bewegungsgleichung: Freier Fall - Wiederholung\n",
    "\n",
    "In dieser Aufgabe werden wir erneut die Bewegungsgleichung des freien Falls numerisch mit dem Euler Verfahren lösen. Die Bewegungsgleichung hat die Form:\n",
    "\\begin{equation}\\tag{1}\n",
    " \\ddot x = \\frac{\\mathrm{d}^2x}{\\mathrm{d}t^2}= a\n",
    "\\end{equation}\n",
    "\n",
    "Dieses Mal soll die Bewegungsgleichung nicht \"per Hand\" sondern rekursiv mittels einer Schleife gelöst werden. "
   ]
  },
  {
   "cell_type": "markdown",
   "metadata": {},
   "source": [
    "## 1. Integration mit Schleife\n",
    "\n",
    "**a)** Lösen Sie erneut Gleichung (1) für fünf Zeitschritte $\\Delta t = 0.1$, indem Sie die Gleichungen (3) und (4) für die Anfangswerte $x_0=x\\left(t=0\\right) = 2$ und $v_0=v\\left(t=0\\right) = 1$ numerisch mit Hilfe einer Schleife integrieren. Dabei soll $a=-9.81$ sein. Speichern Sie die numerisch berechneten Positionen in einer Liste indem Sie `append()` benutzen.\n",
    "\n",
    "Als Erinerrung:\n",
    "\n",
    "\\begin{equation} \\tag{2}\n",
    "x\\!\\left( t \\right) = x_0 + v_0 t + \\frac{1}{2} a t^2.\n",
    "\\end{equation}\n",
    "\n",
    "\\begin{align}\\tag{3}\n",
    "        x\\left(t+\\Delta t \\right) &= x\\left(t\\right) + v\\left(t\\right) \\Delta t \\\\ \n",
    "        v\\left(t+\\Delta t \\right) &= v\\left(t\\right) + a\\Delta t \\tag{4}\n",
    "    \\end{align}\n",
    "    \n"
   ]
  },
  {
   "cell_type": "code",
   "execution_count": 1,
   "metadata": {},
   "outputs": [
    {
     "name": "stdout",
     "output_type": "stream",
     "text": [
      "[1, 0.018999999999999906, -0.9620000000000002, -1.9430000000000003, -2.9240000000000004] [2, 2.1, 2.1019, 2.0057, 1.8114]\n"
     ]
    }
   ],
   "source": [
    "a=-9.81 #g\n",
    "vL= [1] #Liste für V\n",
    "xL= [2] #Liste für V\n",
    "\n",
    "\n",
    "\n",
    "for i in range (4):\n",
    "    v= vL[i]+ a*1/10\n",
    "    vL.append(v)\n",
    "    \n",
    "for i in range (4):\n",
    "    x=xL[i] + vL[i] *1/10\n",
    "    xL.append(x)\n",
    "\n",
    "    \n",
    "print(vL,xL)    "
   ]
  },
  {
   "cell_type": "markdown",
   "metadata": {},
   "source": [
    "**b)** Plotten Sie diese Positionen in einem Diagramm mit der Bahnkurve (Gleichung (2)). Benutzen Sie das mit `ax.scatter()` erweiterte Grundgerüst von `helpPlotScatter.ipynb`. "
   ]
  },
  {
   "cell_type": "code",
   "execution_count": 2,
   "metadata": {},
   "outputs": [
    {
     "data": {
      "image/png": "[encoded data removed]",
      "text/plain": [
       "<Figure size 432x288 with 1 Axes>"
      ]
     },
     "metadata": {
      "needs_background": "light"
     },
     "output_type": "display_data"
    }
   ],
   "source": [
    "#Import der Pakete\n",
    "import numpy as np\n",
    "import matplotlib.pyplot as plt\n",
    "fig, ax = plt.subplots()\n",
    "\n",
    "\n",
    "v0=1 #Startwert für v0\n",
    "x0=2 #Startwert für x0\n",
    "t= np.linspace (0,0.5,50) #t für die Funktion\n",
    "\n",
    "def y(t): #Funktion (2) definiert\n",
    "    return x0+v0*t+1/2*a*t**2\n",
    "\n",
    "x1=np.linspace(0,0.5,50) #x_werte zum Zeichnen der Funktion\n",
    "x2=np.array([0,0.1,0.2,0.3,0.4]) #x_werte zum Zeichenen der berechneten Punkte\n",
    "\n",
    "#Eckdaten des Graphens\n",
    "ax.set_title(\"Flugbahn\")\n",
    "ax.set_xlabel(\"Zeit\")\n",
    "ax.set_ylabel(\"Höhe\") \n",
    "\n",
    "ax.plot(x1,y(t)) #Funktion plotten\n",
    "ax.scatter(x2,xL) #Punkte einzeichnen\n",
    "\n",
    "plt.show() #Anzeige"
   ]
  },
  {
   "cell_type": "markdown",
   "metadata": {},
   "source": [
    "## 2. Variation des Zeitschrittes\n",
    "\n",
    "Sie sollten nun die Abbildung aus Hausaufgabe 3 reproduziert haben.\n",
    "\n",
    "**a)** Wiederholen Sie Aufgabe 1 mit einem Zeitschritt $\\Delta t = 0.005$. Achten Sie darauf, dass die Integrationszeit gleich bleibt! Da Sie nun sehr viele Werte erzeugt haben, ist es sinnvoller die numerische Lösung ebenfalls in einem Linienplot mit `ax.plot()` darzustellen."
   ]
  },
  {
   "cell_type": "code",
   "execution_count": 3,
   "metadata": {},
   "outputs": [
    {
     "name": "stdout",
     "output_type": "stream",
     "text": [
      "[2.         2.00487737 2.0095095  2.01389638 2.018038   2.02193437\n",
      " 2.0255855  2.02899137 2.032152   2.03506738 2.0377375  2.04016237\n",
      " 2.042342   2.04427637 2.0459655  2.04740937 2.048608   2.04956138\n",
      " 2.0502695  2.05073238 2.05095    2.05092237 2.0506495  2.05013138\n",
      " 2.049368   2.04835937 2.0471055  2.04560637 2.043862   2.04187238\n",
      " 2.0396375  2.03715737 2.034432   2.03146138 2.0282455  2.02478437\n",
      " 2.021078   2.01712638 2.0129295  2.00848737 2.0038     1.99886738\n",
      " 1.9936895  1.98826637 1.982598   1.97668438 1.9705255  1.96412137\n",
      " 1.957472   1.95057738 1.9434375  1.93605237 1.928422   1.92054638\n",
      " 1.9124255  1.90405937 1.895448   1.88659138 1.8774895  1.86814237\n",
      " 1.85855    1.84871238 1.8386295  1.82830137 1.817728   1.80690938\n",
      " 1.7958455  1.78453637 1.772982   1.76118238 1.7491375  1.73684737\n",
      " 1.724312   1.71153138 1.6985055  1.68523437 1.671718   1.65795637\n",
      " 1.6439495  1.62969737 1.6152     1.60045737 1.5854695  1.57023637\n",
      " 1.554758   1.53903437 1.5230655  1.50685138 1.490392   1.47368737\n",
      " 1.4567375  1.43954238 1.422102   1.40441637 1.3864855  1.36830937\n",
      " 1.349888   1.33122137 1.3123095  1.29315238]\n"
     ]
    },
    {
     "data": {
      "image/png": "[encoded data removed]",
      "text/plain": [
       "<Figure size 432x288 with 1 Axes>"
      ]
     },
     "metadata": {
      "needs_background": "light"
     },
     "output_type": "display_data"
    }
   ],
   "source": [
    "#Import der Pakte\n",
    "import numpy as np\n",
    "import matplotlib.pyplot as plt\n",
    "fig, ax = plt.subplots()\n",
    "\n",
    "a=-9.81 #g \n",
    "vL= [1] #Liste der Vs\n",
    "\n",
    "xL= [2] #Liste der Xs\n",
    "t=np.linspace (0,0.495,100) #Zeitwerte für Plot\n",
    "\n",
    "\n",
    "\n",
    "for i in range (99): #Schleife für V\n",
    "    v= vL[i]+ a*1/200 #Funktion\n",
    "    vL.append(v) #Zurück in die Liste\n",
    "    \n",
    "for i in range (99): #Schleife für x\n",
    "    x=xL[i] + vL[i] *1/200\n",
    "    xL.append(x)\n",
    "\n",
    "    \n",
    "print(y(t))    \n",
    "#Erneute Eckdaten für Plot\n",
    "ax.set_title(\"Flugbahn\")\n",
    "ax.set_xlabel(\"Zeit\")\n",
    "ax.set_ylabel(\"Höhe\") \n",
    "\n",
    "ax.plot(t,xL) #Werte plotten\n",
    "\n",
    "plt.show() #Anzeige"
   ]
  },
  {
   "cell_type": "markdown",
   "metadata": {
    "ExecuteTime": {
     "end_time": "2019-11-21T09:54:24.497303Z",
     "start_time": "2019-11-21T09:54:24.491736Z"
    }
   },
   "source": [
    "**b)** Berechnen Sie die quadratische Abweichung $\\mathrm{SE}\\left(t\\right)$ zwischen der numerischen und analytischen Lösung abhängig vom Zeitschritt:\n",
    "   $$ \n",
    "   \\mathrm{SE}\\left(t\\right) = \\left(x_{\\mathrm{numerisch}}\\left(t\\right) - x_\\mathrm{analytisch}\\left(t\\right)\\right) ^2 \\, .\n",
    "   $$\n",
    "Plotten Sie die quadratische Abweichung gegen die Zeit. Benutzen Sie geeignete Beschriftungen! \n",
    "\n",
    "Beschreiben Sie kurz, was Sie beobachten. "
   ]
  },
  {
   "cell_type": "code",
   "execution_count": 8,
   "metadata": {},
   "outputs": [
    {
     "data": {
      "image/png": "[encoded data removed]",
      "text/plain": [
       "<Figure size 432x288 with 1 Axes>"
      ]
     },
     "metadata": {
      "needs_background": "light"
     },
     "output_type": "display_data"
    },
    {
     "name": "stdout",
     "output_type": "stream",
     "text": [
      "-9.81\n"
     ]
    }
   ],
   "source": [
    "#Import der Pakete\n",
    "import numpy as np\n",
    "import matplotlib.pyplot as plt\n",
    "fig, ax = plt.subplots()\n",
    "\n",
    "    \n",
    "#Fehler:\n",
    "b=(xL-y(t))**2\n",
    "    \n",
    "\n",
    "#Erneute Eckdaten für Plot\n",
    "ax.set_title(\"Fehler\")\n",
    "ax.set_xlabel(\"Zeit\")\n",
    "ax.set_ylabel(\"Fehler\") \n",
    "\n",
    "ax.plot(t,b) #Werte plotten\n",
    "\n",
    "plt.show() #Anzeige\n",
    "\n",
    "print(a)#Print\n",
    "#Fehler wird größer"
   ]
  }
 ],
 "metadata": {
  "kernelspec": {
   "display_name": "Python 3 (ipykernel)",
   "language": "python",
   "name": "python3"
  },
  "language_info": {
   "codemirror_mode": {
    "name": "ipython",
    "version": 3
   },
   "file_extension": ".py",
   "mimetype": "text/x-python",
   "name": "python",
   "nbconvert_exporter": "python",
   "pygments_lexer": "ipython3",
   "version": "3.9.7"
  },
  "latex_envs": {
   "LaTeX_envs_menu_present": true,
   "autoclose": true,
   "autocomplete": true,
   "bibliofile": "biblio.bib",
   "cite_by": "apalike",
   "current_citInitial": 1,
   "eqLabelWithNumbers": true,
   "eqNumInitial": 1,
   "hotkeys": {
    "equation": "Ctrl-E",
    "itemize": "Ctrl-I"
   },
   "labels_anchors": false,
   "latex_user_defs": false,
   "report_style_numbering": false,
   "user_envs_cfg": false
  }
 },
 "nbformat": 4,
 "nbformat_minor": 4
}
