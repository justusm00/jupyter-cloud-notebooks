{
 "cells": [
  {
   "cell_type": "markdown",
   "metadata": {},
   "source": [
    "<div style=\"text-align: right\"> 24.01.2020</div>\n",
    "\n",
    "***Name:*** \n",
    "\n",
    "# Hausaufgabe Blatt 11\n",
    "\n",
    "## Kinetische Gastheorie: Maxwell-Boltzmann-Verteilung\n",
    "\n",
    "In dieser Aufgabe werden wir uns mit der kinetischen Gastheorie und der Maxwell-Boltzmann-Verteilung beschäftigen. Die genaue Herleitung der Maxwell-Boltzmann-Verteilung können Sie Kapitel 7.3.5 \"Experimentalphysik I\" von W. Demtröder entnehmen. \n",
    "\n",
    "Betrachtet man die Moleküle eines Gases als Teilchen, die lediglich durch elastische Stöße sowohl mit den Wänden ihrer Umgebung als auch untereinander wechselwirken, so spricht man von einem *idealen Gas*. \n",
    "\n",
    "## 1. Aufgabe\n",
    "Misst man die Beträge der Geschwindigkeiten von einem idealen Gas, so stellt man fest, dass diese durch die Maxwell-Boltzmann-Verteilung beschrieben werden. Hier ist $v$ die Geschwindigkeit der Teilchen, $m$ die Masse der Teilchen, $T$ die Temperatur und $k_B$ die Boltzmann-Konstante \n",
    "\n",
    "$$\\tag{1}\n",
    "f\\!\\left(v\\right)=4 \\pi v^2 \\cdot \\left(\\frac{m}{2 \\pi k_B T}\\right)^{3/2} \\cdot \\exp\\left(\\frac{-m v^2}{2 k_B T}\\right).\n",
    "$$\n",
    "\n",
    "Diese Verteilung kann wie folgt begründet werden. Da keine Raumrichtung ausgezeichnet ist und die Teilchen ständig miteinander und ihrer Umgebung kollidieren, kann man annehmen, dass die Geschwindigkeiten für alle drei Komponenten $v_{\\alpha}$, mit $\\alpha = x, y,z$ zufällig verteilt sind.\n",
    "\n",
    "Wir wollen nun diese Verteilung reproduzieren, indem wir Geschwindigkeitskomponenten $v_{\\alpha}$, mit $\\alpha = x, y,z$, für $N$ Teilchen zufällig aus einer Normalverteilung $\\mathcal N$ mit Mittelwert gleich 0 und einer Standardabweichung von 1 ziehen\n",
    "   $$\\tag{2}\n",
    "   v_{\\alpha} = \\sqrt{\\frac{k_B T}{m}} \\cdot \\mathcal N\\! \\left(0,1\\right).\n",
    "   $$\n",
    "   \n",
    "Normalverteilte Zahlen mit Mittelwert gleich 0 und einer Standardabweichung von 1 können wie folgt erzeugt werden; hier werden Zufallszahlen für $N=5$ Teilchen in 3 Dimensionen erzeugt (daher (N,3)).\n",
    " ```python\n",
    "import numpy as np\n",
    "N = 5\n",
    "gauss = np.random.normal(0,1,(N,3))\n",
    "``` \n",
    "\n",
    "**a)** Versuchen Sie den obigen Code nachzuvollziehen. Erstellen Sie für $N=100$ Teilchen Zufallszahlen für jede Geschwindigkeitskomponente $\\alpha=x, y, z$, indem Sie obigen Code und Gleichung (2) kombinieren. Nehmen Sie dabei für die Masse $m = 4.8 \\cdot 10^{-3}$, für die Temperatur $T=70$ und für die Boltzmann Konstante $k_B=1.38$ an.\n"
   ]
  },
  {
   "cell_type": "code",
   "execution_count": 2,
   "metadata": {
    "ExecuteTime": {
     "end_time": "2020-01-23T09:58:21.414283Z",
     "start_time": "2020-01-23T09:58:21.237174Z"
    }
   },
   "outputs": [],
   "source": [
    "### Loesung\n",
    "import numpy as np\n",
    "m = 4.8e-3\n",
    "kB = 1.38\n",
    "T1 = 70\n",
    "N = 100\n",
    "\n",
    "sigmaSquared1 = kB * T1/m\n",
    "sigma1 = np.sqrt(sigmaSquared1)\n",
    "\n",
    "# sigmaSquared2 = kB * T2/m\n",
    "# sigma2 = np.sqrt(sigmaSquared2)\n",
    "\n",
    "v1 = np.random.normal(0,1,(N,3)) * sigma1"
   ]
  },
  {
   "cell_type": "markdown",
   "metadata": {},
   "source": [
    "**b)** Berechnen Sie nun den Betrag der Geschwindigkeit $v$ aus den Geschwindigkeitskomponenten $\\alpha=x,y,z$ für jede der $N=100$ erzeugten Zahlen. Benutzen Sie dafür die Normierungsfunktion `np.linalg.norm()` wie folgt: \n",
    "```python\n",
    "norm = np.linalg.norm(geschwindigkeit, axis=1)\n",
    "```\n",
    "Das Stichwort `axis` gibt an, über welche Einträge des arrays der Betrag berechnet wird. "
   ]
  },
  {
   "cell_type": "code",
   "execution_count": 6,
   "metadata": {
    "ExecuteTime": {
     "end_time": "2020-01-23T09:58:21.420935Z",
     "start_time": "2020-01-23T09:58:21.415762Z"
    }
   },
   "outputs": [
    {
     "name": "stdout",
     "output_type": "stream",
     "text": [
      "[201.28049617 281.27105772 308.38801956  69.44609247 277.68830937\n",
      " 288.7530904   50.91840759 185.82385475  98.38963298  69.68977503\n",
      " 332.9842847  174.86786668 192.67391968 256.85016441 335.52132527\n",
      " 115.20125272 192.98809781 205.94273615 263.95999374 287.68757323\n",
      " 386.40368924 193.64050023  50.11683626  35.77626378 381.66619047\n",
      "  78.86634334 115.86890439 350.36600078 248.34836669 281.9510401\n",
      "  93.67080182 151.9288349  179.05087428 199.92154094 163.88269048\n",
      " 283.81516411 202.21443345 377.74194802 295.5507151  202.27565615\n",
      "  52.24644205 162.49086559 279.38399688  74.19774096  95.27869912\n",
      " 344.28715374  84.87208401 306.82691572 195.02710624 373.54860879\n",
      " 189.16434494 151.33716777 264.83443418 243.97813561 263.94255225\n",
      " 228.58001778 239.85177407 136.44141252 225.511921   118.56903197\n",
      " 206.58459764 339.00428949 206.90582283 159.95735382 169.14583093\n",
      " 178.42130892 364.28576714 418.03284392 188.75793453 410.20853784\n",
      " 159.35690854 182.4695045  250.19328082 259.82929172 142.78873433\n",
      " 276.48478222 217.45719056 137.47747246 190.04971265  50.76096381\n",
      " 355.65373228 458.01711704  59.46531305 279.93442365 134.02772265\n",
      "  71.57859897 288.7012092  209.6568457  169.31076719 263.28234056\n",
      " 244.51077825 268.29806826 263.82555854 106.27349515 272.48930845\n",
      " 346.04293161 519.43110416 197.96835343 366.16184768 307.40517902]\n"
     ]
    }
   ],
   "source": [
    "### Loesung\n",
    "speed1 = np.linalg.norm(v1,axis=1)\n",
    "print(speed1)"
   ]
  },
  {
   "cell_type": "markdown",
   "metadata": {},
   "source": [
    "**c)** Erstellen Sie ein Histogramm aus den gerade berechneten Beträgen der Geschwindigkeit $v$. Benutzen Sie dafür den Histogramm Befehl `ax.histo()` wie folgt:\n",
    "``` \n",
    "import matplotlib.pyplot as plt\n",
    "fig, ax = plt.subplots()\n",
    "ax.histo(v, density=True)```\n",
    "\n",
    "Dabei stellt das Stichwort `density=True` sicher, dass das Histogramm normiert ist. Führen Sie sinnvolle Achsenbeschriftungen ein. Kommentieren Sie jede Zeile des Codes sinnvoll."
   ]
  },
  {
   "cell_type": "code",
   "execution_count": 5,
   "metadata": {
    "ExecuteTime": {
     "end_time": "2020-01-23T09:58:21.750949Z",
     "start_time": "2020-01-23T09:58:21.422823Z"
    }
   },
   "outputs": [
    {
     "data": {
      "text/plain": [
       "Text(0, 0.5, '$f\\\\left(v\\\\right)$')"
      ]
     },
     "execution_count": 5,
     "metadata": {},
     "output_type": "execute_result"
    },
    {
     "data": {
      "image/png": "[encoded data removed]",
      "text/plain": [
       "<Figure size 432x288 with 1 Axes>"
      ]
     },
     "metadata": {
      "needs_background": "light"
     },
     "output_type": "display_data"
    }
   ],
   "source": [
    "### Loesung\n",
    "import matplotlib.pyplot as plt # lade Bibliothek zum Plotten\n",
    "fig, ax = plt.subplots() # Definiere fig und ax abhängig vom Plot\n",
    "\n",
    "ax.hist(speed1,density=True, alpha=0.5) # Berechne und erstelle HIstogramm\n",
    "ax.set_xlabel(\"$v$\") # label x Achse\n",
    "ax.set_ylabel(\"$f\\\\left(v\\\\right)$\") # label y Achse"
   ]
  },
  {
   "cell_type": "markdown",
   "metadata": {},
   "source": [
    "**d)** Schreiben Sie eine Funktion, die als Argument ein array von Beträgen von Geschwindigkeiten und eine Temperatur annimmt und die Maxwell-Boltzmann Verteilung (Gleichung (1)) zurückgibt. Tipp: Sie können einen Array mit Werten mit gleichem Abstand mit ```np.arange``` erzeugen. Vergleichen Sie die theoretisch erwartete Verteilung mit Ihrer erzeugten in einem gemeinsamen Plot.  Kommentieren Sie jede Zeile des Codes sinnvoll."
   ]
  },
  {
   "cell_type": "code",
   "execution_count": 8,
   "metadata": {
    "ExecuteTime": {
     "end_time": "2020-01-23T09:58:22.287934Z",
     "start_time": "2020-01-23T09:58:21.752497Z"
    }
   },
   "outputs": [
    {
     "data": {
      "image/png": "[encoded data removed]",
      "text/plain": [
       "<Figure size 432x288 with 1 Axes>"
      ]
     },
     "metadata": {
      "needs_background": "light"
     },
     "output_type": "display_data"
    }
   ],
   "source": [
    "### Loesung\n",
    "def maxwell(v,T): # definiere Funktion\n",
    "    return(4*np.pi*v**2*np.sqrt(m/(2*np.pi*kB*T))**3 * np.exp(-m*v**2/(2*kB*T)))\n",
    "\n",
    "# Definiere Geschwindigkeitsarray:\n",
    "delta = 15 # Abstand der Geschwindigkeiten\n",
    "vTheo1 = np.arange(0, np.amax(speed1), delta) # Geschwindigkeitsarray\n",
    "\n",
    "# plot\n",
    "fig, ax = plt.subplots() # Definiere Plot-Abkürzungen\n",
    "vals1 = ax.hist(speed1, density=True, alpha=0.5) # plotte Histogramm der zufälligen Werte\n",
    "ax.plot(vTheo1, maxwell(vTheo1,T1), color=\"blue\") # plotte erwartete, berechente Verteilung\n",
    "ax.set_xlabel(\"$v$\") # label x Achse\n",
    "ax.set_ylabel(\"$f\\\\left(v\\\\right)$\") # label y-Achse\n",
    "plt.show()"
   ]
  },
  {
   "cell_type": "markdown",
   "metadata": {},
   "source": [
    "**e)** Wiederholen Sie Aufgaben **a)**-**d)** für $N=10000$ Teilchen.  Optional können Sie auch die Temperatur auf $T=290$ ändern. \n",
    "Was stellen Sie fest?"
   ]
  },
  {
   "cell_type": "markdown",
   "metadata": {},
   "source": [
    "Ich stelle fest, dass sich die Verteilung für große $N$ der Maxwell-Boltzmann Verteilung annähert."
   ]
  },
  {
   "cell_type": "code",
   "execution_count": 5,
   "metadata": {
    "ExecuteTime": {
     "end_time": "2020-01-23T09:58:22.684327Z",
     "start_time": "2020-01-23T09:58:22.289394Z"
    }
   },
   "outputs": [
    {
     "data": {
      "image/png": "[encoded data removed]",
      "text/plain": [
       "<Figure size 432x288 with 1 Axes>"
      ]
     },
     "metadata": {
      "needs_background": "light"
     },
     "output_type": "display_data"
    }
   ],
   "source": [
    "### Loesung (mit optional anderer Temperatur.)\n",
    "import numpy as np # lade numpy\n",
    "import matplotlib.pyplot as plt # lade matplotlib\n",
    "\n",
    "# definiere Konstanten\n",
    "m = 4.8e-3 # Masse\n",
    "kB = 1.38 # Boltzmann-Konstante\n",
    "T1 = 70 # erster Temperaturwert\n",
    "T2 = 290 # zweiter Temperaturwert\n",
    "N = 10000 # Teilchenanzahl\n",
    "sigmaSquared1 = kB * T1/m # mittlere quadratische Geschwindigkeit in einer Dimension für erste Temperatur\n",
    "sigma1 = np.sqrt(sigmaSquared1) # mittlere Geschwindigkeit in einer Dimension\n",
    "\n",
    "sigmaSquared2 = kB * T2/m # gleiche Berechnung für zweite Temperatur\n",
    "sigma2 = np.sqrt(sigmaSquared2) # gleiche Berechnung für zweite Temperatur\n",
    "\n",
    "v1 = np.random.normal(0,1,(N,3)) * sigma1 # Gesamtgeschwindigkeit erste Temperatur\n",
    "v2 = np.random.normal(0,1,(N,3)) * sigma2 # Gesamtgeschwindigkeit zweite Temperatur\n",
    "\n",
    "delta = 15 # Abstand zwischen Geschwindigkeiten im Geschwindigkeitsarray\n",
    "speed1 = np.linalg.norm(v1,axis=1) # normierte Geschwindigkeit 1\n",
    "vTheo1 = np.arange(0, np.amax(speed1), delta) # Geschwindigkeit für x Achse 1\n",
    "\n",
    "speed2 = np.linalg.norm(v2,axis=1) # normierte Geschwindigkeit 2 \n",
    "vTheo2 = np.arange(0, np.amax(speed2), delta) # Geschwindigkeit für x Achse 2\n",
    "\n",
    "fig, ax = plt.subplots() # Plot-Abkürzungen\n",
    "\n",
    "vals1 = ax.hist(speed1, density=True, bins=vTheo1, alpha=0.5) # Histogramm für Temperatur 1\n",
    "vals2 = ax.hist(speed2, density=True, bins=vTheo2,alpha=0.5) # Histogramm für Temperatur 2\n",
    "ax.plot(vTheo1, maxwell(vTheo1,T1), color=\"blue\", label=\"$T=70$\") # Plot 1\n",
    "ax.plot(vTheo2, maxwell(vTheo2,T2), color=\"red\", label=\"$T=290$\") # Plot 2\n",
    "ax.set_xlabel(\"$v$\") # label x Achse\n",
    "ax.set_ylabel(\"$f\\\\left(v\\\\right)$\") # label y-Achse\n",
    "\n",
    "ax.legend() # zeige legende\n",
    "plt.show()"
   ]
  }
 ],
 "metadata": {
  "kernelspec": {
   "display_name": "Python 3 (ipykernel)",
   "language": "python",
   "name": "python3"
  },
  "language_info": {
   "codemirror_mode": {
    "name": "ipython",
    "version": 3
   },
   "file_extension": ".py",
   "mimetype": "text/x-python",
   "name": "python",
   "nbconvert_exporter": "python",
   "pygments_lexer": "ipython3",
   "version": "3.9.7"
  },
  "latex_envs": {
   "LaTeX_envs_menu_present": true,
   "autoclose": true,
   "autocomplete": true,
   "bibliofile": "biblio.bib",
   "cite_by": "apalike",
   "current_citInitial": 1,
   "eqLabelWithNumbers": false,
   "eqNumInitial": 1,
   "hotkeys": {
    "equation": "Ctrl-E",
    "itemize": "Ctrl-I"
   },
   "labels_anchors": false,
   "latex_user_defs": false,
   "report_style_numbering": false,
   "user_envs_cfg": false
  }
 },
 "nbformat": 4,
 "nbformat_minor": 4
}
