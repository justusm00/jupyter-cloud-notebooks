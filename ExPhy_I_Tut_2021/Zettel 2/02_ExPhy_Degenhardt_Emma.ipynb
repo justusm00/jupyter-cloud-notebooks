{
 "cells": [
  {
   "cell_type": "markdown",
   "metadata": {},
   "source": [
    "# Hausaufgabe Blatt 2\n",
    "## Gleichförmig beschleunigte, geradlinige Bewegung - Revisited\n",
    "\n",
    "In dieser Aufgabe werden wir die Bahnkurve eines gleichförmig beschleunigten Objektes in einer Dimension berechnen und dieses mal auch visualisieren. Die Position $x$ zum Zeitpunkt $t$ ist, wie auf dem Blatt 1, gegeben durch folgende Gleichung:\n",
    "\\begin{equation*}\n",
    "x\\!\\left( t \\right) = x_0 + v_0 t + \\frac{1}{2} a t^2 \n",
    "\\end{equation*}\n",
    "wobei $x_0$ und $v_0$ die Anfangsposition und -geschwindigkeit sind und $a$ die konstante Beschleunigung, die auf das Objekt wirkt. \n",
    "\n",
    "## 1. Numpy Arrays: Linspace\n",
    "Anstelle, dass wir die Einträge in numpy arrays \"per Hand\" definieren, können wir eine nützliche Funktion verwenden. \n",
    "\n",
    "**a)** \n",
    "Machen Sie sich mit der nachstehenden Zelle vertraut. Verstehen Sie die Syntax?"
   ]
  },
  {
   "cell_type": "code",
   "execution_count": 10,
   "metadata": {
    "ExecuteTime": {
     "end_time": "2019-11-01T10:22:27.227336Z",
     "start_time": "2019-11-01T10:22:27.100666Z"
    }
   },
   "outputs": [
    {
     "name": "stdout",
     "output_type": "stream",
     "text": [
      "[0.   0.25 0.5  0.75 1.  ]\n"
     ]
    }
   ],
   "source": [
    "import numpy as np # Laden der Numpy Bibliothek \n",
    "\n",
    "x = np.linspace(0, 1, 5) # Definieren von x\n",
    "\n",
    "print(x) # Ausgabe x"
   ]
  },
  {
   "cell_type": "markdown",
   "metadata": {},
   "source": [
    "**b)** Erstellen sie ein numpy array für die Zeit `t` indem sie `np.linspace()` korrekt verwenden. Dabei soll gelten $t_0 = 0$ und $t_N = 5$ mit der Anzahl der Einträge $N = 50$."
   ]
  },
  {
   "cell_type": "code",
   "execution_count": 18,
   "metadata": {},
   "outputs": [],
   "source": [
    "t = np.linspace(0, 5, 50) #Array definieren für die Zeit"
   ]
  },
  {
   "cell_type": "markdown",
   "metadata": {},
   "source": [
    "**c)** Benutzen Sie die in Aufgabe 1 definierte Funktion `printBahnkurve()` um sich nun die Bahnkurve für das gerade erstellte array `t` ausgeben zu lassen. Verwenden Sie die Werte $x_0=3$ und $v_0=10$ wie auf Blatt 1."
   ]
  },
  {
   "cell_type": "code",
   "execution_count": 12,
   "metadata": {
    "ExecuteTime": {
     "end_time": "2019-10-24T14:41:38.958170Z",
     "start_time": "2019-10-24T14:41:37.534793Z"
    }
   },
   "outputs": [
    {
     "name": "stdout",
     "output_type": "stream",
     "text": [
      "[  3.           3.96933569   4.83652645   5.60157226   6.26447314\n",
      "   6.82522907   7.28384007   7.64030612   7.89462724   8.04680342\n",
      "   8.09683465   8.04472095   7.89046231   7.63405873   7.2755102\n",
      "   6.81481674   6.25197834   5.586995     4.81986672   3.9505935\n",
      "   2.97917534   1.90561224   0.72990421  -0.54794877  -1.92794669\n",
      "  -3.41008955  -4.99437734  -6.68081008  -8.46938776 -10.36011037\n",
      " -12.35297793 -14.44799042 -16.64514786 -18.94445023 -21.34589754\n",
      " -23.8494898  -26.45522699 -29.16310912 -31.97313619 -34.8853082\n",
      " -37.89962516 -41.01608705 -44.23469388 -47.55544565 -50.97834236\n",
      " -54.50338401 -58.1305706  -61.85990212 -65.69137859 -69.625     ]\n"
     ]
    }
   ],
   "source": [
    "x0 = 3\n",
    "v0 = 10\n",
    "def printBahnkurve(x0,v0,t):  # Definition der Funktion mit deren Parametern\n",
    "    a = -9.81  \n",
    "    x = x0 + v0*t + 0.5*a*t**2 # Definition der Variable x mithilfe zuvor definierter Parameter\n",
    "    print(x)                  # Ausgabe der x-Werte\n",
    "    \n",
    "printBahnkurve(x0,v0,t)       # Ausgabe der x(t)-Werte"
   ]
  },
  {
   "cell_type": "markdown",
   "metadata": {},
   "source": [
    "## Return\n",
    "\n",
    "Bisher hat unsere definierte Funktion lediglich einen `print()` Befehl ausgeführt. Wir wollen nun, dass unsere Funktion einen Wert zurück gibt. Dadurch kann der Wert in einer Variablen gespeichert und somit weiterverarbeitet werden. Dazu verwenden wir das `return` Statement. \n",
    "\n",
    "**d)** Betrachten Sie die folgenden zwei Funktionen. Beschreiben Sie kurz (1-2 Sätze), was hier geschieht. "
   ]
  },
  {
   "cell_type": "code",
   "execution_count": 13,
   "metadata": {
    "ExecuteTime": {
     "end_time": "2019-11-01T10:22:27.233313Z",
     "start_time": "2019-11-01T10:22:27.230416Z"
    }
   },
   "outputs": [
    {
     "name": "stdout",
     "output_type": "stream",
     "text": [
      "2 4\n"
     ]
    }
   ],
   "source": [
    "def identity(x): # definiere Funktion\n",
    "    return x # definiere Ausgabe\n",
    "\n",
    "def square(x):# definiere Funktion\n",
    "    return x**2 # definiere Ausgabe\n",
    "\n",
    "id2 = identity(2) # definiere id2 über Zugriff auf identity\n",
    "square2 = square(2)# definiere id2 über Zugriff auf square\n",
    "\n",
    "print(id2, square2) # Ausgabe der Werte\n",
    "#Bei der Definition der Funktion, die inklusive returnbefehl (x wird auf x bzw x^2 abgebildet, dies wird sich \"gemerkt\") erfolgt, wird noch kein Wert für x definiert. \n",
    "#id2 und square2 sind Bezeichnungen für Funktionswerte für x=2, die dann durch den Printbefehl ausgegeben werden."
   ]
  },
  {
   "cell_type": "markdown",
   "metadata": {},
   "source": [
    "**e)** Schreiben Sie eine neue Funktion, indem Sie den `print()` Befehl in der Funktion `printBahnkurve()` durch das `return` Statement ersetzen. Wählen Sie einen geeigneten Namen für die neue Funktion. "
   ]
  },
  {
   "cell_type": "code",
   "execution_count": 14,
   "metadata": {
    "ExecuteTime": {
     "end_time": "2019-10-24T14:41:38.958170Z",
     "start_time": "2019-10-24T14:41:37.534793Z"
    }
   },
   "outputs": [
    {
     "name": "stdout",
     "output_type": "stream",
     "text": [
      "[  3.           3.96933569   4.83652645   5.60157226   6.26447314\n",
      "   6.82522907   7.28384007   7.64030612   7.89462724   8.04680342\n",
      "   8.09683465   8.04472095   7.89046231   7.63405873   7.2755102\n",
      "   6.81481674   6.25197834   5.586995     4.81986672   3.9505935\n",
      "   2.97917534   1.90561224   0.72990421  -0.54794877  -1.92794669\n",
      "  -3.41008955  -4.99437734  -6.68081008  -8.46938776 -10.36011037\n",
      " -12.35297793 -14.44799042 -16.64514786 -18.94445023 -21.34589754\n",
      " -23.8494898  -26.45522699 -29.16310912 -31.97313619 -34.8853082\n",
      " -37.89962516 -41.01608705 -44.23469388 -47.55544565 -50.97834236\n",
      " -54.50338401 -58.1305706  -61.85990212 -65.69137859 -69.625     ]\n"
     ]
    }
   ],
   "source": [
    "x0 = 3\n",
    "v0 = 10\n",
    "def returnbesteBahnkurve(x0,v0,t):  # Definition der Funktion mit deren Parametern\n",
    "    a = -9.81  \n",
    "    x = x0 + v0*t + 0.5*a*t**2 # Definition der Variable x mithilfe zuvor definierter Parameter\n",
    "    return(x)                  # Ausgabe der x-Werte\n",
    "    \n",
    "printBahnkurve(x0,v0,t)       # Ausgabe der x(t)-Werte"
   ]
  },
  {
   "cell_type": "markdown",
   "metadata": {},
   "source": [
    "## Visualisierung\n",
    "Da Sie nun dazu in der Lage sind, viele Datenpunkte zu erzeugen, wollen wir als nächsten Schritt die berechnete Bahnkurve in einem plot mithilfe von `matplotlib.pyplot` visualisieren. `Matplotlib` ist eine beliebte und sehr vielseitige plot Bibliothek, die es uns ermöglicht Daten zu visualisieren. Wer einen Eindruck davon gewinnen möchte, was alles mit `matplotlib` möglich ist, kann ja mal [hier](https://matplotlib.org/3.1.1/gallery/index.html) vorbeischauen!\n",
    "\n",
    "Wir haben folgendes Grundgerüst vorbereitet, in dem die Funktion $f(x) = x^2$ beispielhaft geplottet wird."
   ]
  },
  {
   "cell_type": "code",
   "execution_count": 15,
   "metadata": {
    "ExecuteTime": {
     "end_time": "2019-11-01T10:22:42.277126Z",
     "start_time": "2019-11-01T10:22:42.160402Z"
    }
   },
   "outputs": [
    {
     "data": {
      "image/png": "[encoded data removed]",
      "text/plain": [
       "<Figure size 432x288 with 1 Axes>"
      ]
     },
     "metadata": {
      "needs_background": "light"
     },
     "output_type": "display_data"
    }
   ],
   "source": [
    "import matplotlib.pyplot as plt # lade matplotlib als Bibliothek\n",
    "\n",
    "x = np.linspace(-3, 3, 170) # definiere x\n",
    "xQuadratImAltenLeben = x*(x**(3) - 4) # berechen\n",
    "\n",
    "# ### Anfang Grundgerüst ( mit # kann man Kommentare schreiben )\n",
    "\n",
    "fig, ax = plt.subplots()\n",
    "\n",
    "ax.set_title(\"Parabel nach dem Aufprall\")  # Titel\n",
    "ax.set_xlabel(\"Der unglückbringende Boden\") # x-Achsenbeschriftrung\n",
    "ax.set_ylabel(\"Skala zur Schadensmessung\") # y-Achsenbeschriftung\n",
    "\n",
    "ax.plot(x, xQuadratImAltenLeben)  # x-Wert hier: x, y Wert hier: xQuadratImAltenLeben\n",
    "\n",
    "plt.show()\n",
    "\n",
    "# ### Ende Grundgerüst"
   ]
  },
  {
   "cell_type": "markdown",
   "metadata": {},
   "source": [
    "**a)** Machen Sie sich mit dem Grundgerüst vertraut, indem Sie \n",
    " - `x` mit Werten Ihrer Wahl erweitern\n",
    " - einen geeigneten Titel\n",
    " - geeignete x- und y- Achsenbeschriftung wählen.\n",
    " \n",
    "Möchte man mehrere Kurven in einem Diagramm darstellen, so muss `ax.plot()` lediglich erneut aufgerufen werden. \n",
    "Dabei ist es nützlich diese Kurven in einer Legende zu unterscheiden:"
   ]
  },
  {
   "cell_type": "code",
   "execution_count": 20,
   "metadata": {
    "ExecuteTime": {
     "end_time": "2019-11-01T10:22:27.961375Z",
     "start_time": "2019-11-01T10:22:27.514251Z"
    }
   },
   "outputs": [
    {
     "data": {
      "image/png": "[encoded data removed]",
      "text/plain": [
       "<Figure size 432x288 with 1 Axes>"
      ]
     },
     "metadata": {
      "needs_background": "light"
     },
     "output_type": "display_data"
    }
   ],
   "source": [
    "fig, ax = plt.subplots()\n",
    "\n",
    "ax.set_title(\"Mehrfachplot\") # Titel\n",
    "ax.set_xlabel(\"X\") #x-Achsenbeschriftung\n",
    "ax.set_ylabel(\"Y\") # y-Achsenbeschriftung\n",
    "\n",
    "ax.plot(x, xQuadratImAltenLeben, label=\"$x^4-4x$\")  # label: Eintrag Legende, versteht auch LaTex!\n",
    "ax.plot(x, x**4, label=\"$x^4$\") # label\n",
    "\n",
    "ax.legend()  # Zeige Legende\n",
    "plt.show()  "
   ]
  },
  {
   "cell_type": "markdown",
   "metadata": {},
   "source": [
    "**b)** Kopieren Sie das Grundgerüst und ersetzen sie die x-Werte durch das oben definierte array `t` und die y-Werte durch die errechnete Bahnkurve. Wählen Sie auch hier einen geeigneten Titel und Achsenbeschriftungen."
   ]
  },
  {
   "cell_type": "code",
   "execution_count": 21,
   "metadata": {
    "ExecuteTime": {
     "end_time": "2019-11-01T10:22:42.277126Z",
     "start_time": "2019-11-01T10:22:42.160402Z"
    }
   },
   "outputs": [
    {
     "data": {
      "image/png": "[encoded data removed]",
      "text/plain": [
       "<Figure size 432x288 with 1 Axes>"
      ]
     },
     "metadata": {
      "needs_background": "light"
     },
     "output_type": "display_data"
    }
   ],
   "source": [
    "x0 = 3\n",
    "v0 = 10\n",
    "def returnBahnkurve(x0,v0,t):  # Definition der Funktion mit deren Parametern\n",
    "    a = -9.81  \n",
    "    x = x0 + v0*t + 0.5*a*t**2 # Definition der Variable x mithilfe zuvor definierter Parameter\n",
    "    return(x)  #Ausgabe der x-Werte\n",
    "\n",
    "yWert = returnBahnkurve(x0,v0,t) #Definition der y-Werte\n",
    "\n",
    "fig, ax = plt.subplots()\n",
    "\n",
    "ax.set_title(\"Bahnkurve\")  # Titel\n",
    "ax.set_xlabel(\"x-Achse\") # x-Achsenbeschriftrung\n",
    "ax.set_ylabel(\"y-Achse\") # y-Achsenbeschriftung\n",
    "\n",
    "ax.plot(t, yWert)  # x-Wert hier: t, y Wert hier: xyWert\n",
    "\n",
    "plt.show()"
   ]
  },
  {
   "cell_type": "markdown",
   "metadata": {},
   "source": [
    "**c)** Variieren Sie nun die Anfangsgeschwindigkeit. Erstellen Sie zwei Kurven mit verschiedenen Bedingungen (z.B. $v_0 = 10$ und $v_0=20$). Vergleichen Sie die Kurven miteinander, indem Sie diese in einem Diagramm darstellen. Benutzen Sie angemessene Beschriftungen!"
   ]
  },
  {
   "cell_type": "code",
   "execution_count": 22,
   "metadata": {
    "ExecuteTime": {
     "end_time": "2019-11-01T10:21:24.776711Z",
     "start_time": "2019-11-01T10:21:24.023Z"
    }
   },
   "outputs": [
    {
     "data": {
      "image/png": "[encoded data removed]",
      "text/plain": [
       "<Figure size 432x288 with 1 Axes>"
      ]
     },
     "metadata": {
      "needs_background": "light"
     },
     "output_type": "display_data"
    }
   ],
   "source": [
    "v0=20\n",
    "def returnBahnkurve2(x0,v0,t):  # Definition der 2. Funktion mit deren Parametern\n",
    "    a = -9.81  \n",
    "    d = 10\n",
    "    x = x0 + v0*t + 0.5*a*t**2 + d # Definition der Variable x mithilfe zuvor definierter Parameter\n",
    "    return(x)  #Ausgabe der x-Werte\n",
    "\n",
    "yWert2 = returnBahnkurve2(x0,v0,t) #Definition der y-Werte\n",
    "\n",
    "fig, ax = plt.subplots()\n",
    "\n",
    "ax.set_title(\"Mehrfachplot\") # Titel\n",
    "ax.set_xlabel(\"X\") #x-Achsenbeschriftung\n",
    "ax.set_ylabel(\"Y\") # y-Achsenbeschriftung\n",
    "\n",
    "ax.plot(t, yWert, label=\"Bahnkurve 1, v0=10\")  # label: Eintrag Legende, versteht auch LaTex!\n",
    "ax.plot(t, yWert2, label=\"Bahnkurve 2, v0=20\")\n",
    "\n",
    "ax.legend()  # Zeige Legende\n",
    "plt.show() "
   ]
  },
  {
   "cell_type": "code",
   "execution_count": null,
   "metadata": {},
   "outputs": [],
   "source": []
  }
 ],
 "metadata": {
  "kernelspec": {
   "display_name": "Python 3",
   "language": "python",
   "name": "python3"
  },
  "language_info": {
   "codemirror_mode": {
    "name": "ipython",
    "version": 3
   },
   "file_extension": ".py",
   "mimetype": "text/x-python",
   "name": "python",
   "nbconvert_exporter": "python",
   "pygments_lexer": "ipython3",
   "version": "3.9.2"
  },
  "latex_envs": {
   "LaTeX_envs_menu_present": true,
   "autoclose": true,
   "autocomplete": true,
   "bibliofile": "biblio.bib",
   "cite_by": "apalike",
   "current_citInitial": 1,
   "eqLabelWithNumbers": true,
   "eqNumInitial": 1,
   "hotkeys": {
    "equation": "Ctrl-E",
    "itemize": "Ctrl-I"
   },
   "labels_anchors": false,
   "latex_user_defs": false,
   "report_style_numbering": false,
   "user_envs_cfg": false
  }
 },
 "nbformat": 4,
 "nbformat_minor": 4
}
