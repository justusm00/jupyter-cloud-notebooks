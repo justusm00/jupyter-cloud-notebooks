{
 "cells": [
  {
   "cell_type": "markdown",
   "metadata": {},
   "source": [
    "# Hausaufgabe Blatt 2\n",
    "## Gleichförmig beschleunigte, geradlinige Bewegung - Revisited\n",
    "\n",
    "In dieser Aufgabe werden wir die Bahnkurve eines gleichförmig beschleunigten Objektes in einer Dimension berechnen und dieses mal auch visualisieren. Die Position $x$ zum Zeitpunkt $t$ ist, wie auf dem Blatt 1, gegeben durch folgende Gleichung:\n",
    "\\begin{equation*}\n",
    "x\\!\\left( t \\right) = x_0 + v_0 t + \\frac{1}{2} a t^2 \n",
    "\\end{equation*}\n",
    "wobei $x_0$ und $v_0$ die Anfangsposition und -geschwindigkeit sind und $a$ die konstante Beschleunigung, die auf das Objekt wirkt. \n",
    "\n",
    "## 1. Numpy Arrays: Linspace\n",
    "Anstelle, dass wir die Einträge in numpy arrays \"per Hand\" definieren, können wir eine nützliche Funktion verwenden. \n",
    "\n",
    "**a)** \n",
    "Machen Sie sich mit der nachstehenden Zelle vertraut. Verstehen Sie die Syntax?"
   ]
  },
  {
   "cell_type": "code",
   "execution_count": 2,
   "metadata": {
    "ExecuteTime": {
     "end_time": "2019-11-01T10:22:27.227336Z",
     "start_time": "2019-11-01T10:22:27.100666Z"
    }
   },
   "outputs": [
    {
     "name": "stdout",
     "output_type": "stream",
     "text": [
      "[0.   0.25 0.5  0.75 1.  ]\n"
     ]
    }
   ],
   "source": [
    "import numpy as np # Laden der Numpy Bibliothek \n",
    "\n",
    "x = np.linspace(0, 1, 5) # Definieren von x\n",
    "\n",
    "print(x) # Ausgabe x"
   ]
  },
  {
   "cell_type": "markdown",
   "metadata": {},
   "source": [
    "**b)** Erstellen sie ein numpy array für die Zeit `t` indem sie `np.linspace()` korrekt verwenden. Dabei soll gelten $t_0 = 0$ und $t_N = 5$ mit der Anzahl der Einträge $N = 50$."
   ]
  },
  {
   "cell_type": "code",
   "execution_count": 17,
   "metadata": {},
   "outputs": [],
   "source": [
    "#Es wird zur Übung versucht, Kommentare auf Englisch zu verfassen\n",
    "import numpy as np\n",
    "\n",
    "#evenly spaced array with 50 points for time t\n",
    "t = np.linspace(0, 5, 50)"
   ]
  },
  {
   "cell_type": "markdown",
   "metadata": {},
   "source": [
    "**c)** Benutzen Sie die in Aufgabe 1 definierte Funktion `printBahnkurve()` um sich nun die Bahnkurve für das gerade erstellte array `t` ausgeben zu lassen. Verwenden Sie die Werte $x_0=3$ und $v_0=10$ wie auf Blatt 1."
   ]
  },
  {
   "cell_type": "code",
   "execution_count": 16,
   "metadata": {},
   "outputs": [
    {
     "name": "stdout",
     "output_type": "stream",
     "text": [
      "x(0.000000) =  3.000000\n",
      "x(0.102041) =  3.969336\n",
      "x(0.204082) =  4.836526\n",
      "x(0.306122) =  5.601572\n",
      "x(0.408163) =  6.264473\n",
      "x(0.510204) =  6.825229\n",
      "x(0.612245) =  7.283840\n",
      "x(0.714286) =  7.640306\n",
      "x(0.816327) =  7.894627\n",
      "x(0.918367) =  8.046803\n",
      "x(1.020408) =  8.096835\n",
      "x(1.122449) =  8.044721\n",
      "x(1.224490) =  7.890462\n",
      "x(1.326531) =  7.634059\n",
      "x(1.428571) =  7.275510\n",
      "x(1.530612) =  6.814817\n",
      "x(1.632653) =  6.251978\n",
      "x(1.734694) =  5.586995\n",
      "x(1.836735) =  4.819867\n",
      "x(1.938776) =  3.950594\n",
      "x(2.040816) =  2.979175\n",
      "x(2.142857) =  1.905612\n",
      "x(2.244898) =  0.729904\n",
      "x(2.346939) = -0.547949\n",
      "x(2.448980) = -1.927947\n",
      "x(2.551020) = -3.410090\n",
      "x(2.653061) = -4.994377\n",
      "x(2.755102) = -6.680810\n",
      "x(2.857143) = -8.469388\n",
      "x(2.959184) = -10.360110\n",
      "x(3.061224) = -12.352978\n",
      "x(3.163265) = -14.447990\n",
      "x(3.265306) = -16.645148\n",
      "x(3.367347) = -18.944450\n",
      "x(3.469388) = -21.345898\n",
      "x(3.571429) = -23.849490\n",
      "x(3.673469) = -26.455227\n",
      "x(3.775510) = -29.163109\n",
      "x(3.877551) = -31.973136\n",
      "x(3.979592) = -34.885308\n",
      "x(4.081633) = -37.899625\n",
      "x(4.183673) = -41.016087\n",
      "x(4.285714) = -44.234694\n",
      "x(4.387755) = -47.555446\n",
      "x(4.489796) = -50.978342\n",
      "x(4.591837) = -54.503384\n",
      "x(4.693878) = -58.130571\n",
      "x(4.795918) = -61.859902\n",
      "x(4.897959) = -65.691379\n",
      "x(5.000000) = -69.625000\n"
     ]
    }
   ],
   "source": [
    "#define initial values for x and v\n",
    "x0 = 3\n",
    "v0 = 10\n",
    "\n",
    "#define function for printing the coordinate x at time t \n",
    "def printBahnkurve(x0, v0, t):\n",
    "    a = -9.81\n",
    "    x = x0 + v0 * t + 0.5 * a * t**2\n",
    "    #using method str.format() for improved readability\n",
    "    #iterating through the array for extra readability \n",
    "    for i in range(len(x)):\n",
    "        print(\"x({0:f}) = {1: f}\".format(t[i], x[i]))\n",
    "    \n",
    "#using the function\n",
    "printBahnkurve(x0, v0, t)\n"
   ]
  },
  {
   "cell_type": "markdown",
   "metadata": {},
   "source": [
    "## Return\n",
    "\n",
    "Bisher hat unsere definierte Funktion lediglich einen `print()` Befehl ausgeführt. Wir wollen nun, dass unsere Funktion einen Wert zurück gibt. Dadurch kann der Wert in einer Variablen gespeichert und somit weiterverarbeitet werden. Dazu verwenden wir das `return` Statement. \n",
    "\n",
    "**d)** Betrachten Sie die folgenden zwei Funktionen. Beschreiben Sie kurz (1-2 Sätze), was hier geschieht. "
   ]
  },
  {
   "cell_type": "code",
   "execution_count": 39,
   "metadata": {
    "ExecuteTime": {
     "end_time": "2019-11-01T10:22:27.233313Z",
     "start_time": "2019-11-01T10:22:27.230416Z"
    }
   },
   "outputs": [
    {
     "name": "stdout",
     "output_type": "stream",
     "text": [
      "2 4\n"
     ]
    }
   ],
   "source": [
    "def identity(x): # definiere Funktion\n",
    "    return x # definiere Ausgabe\n",
    "\n",
    "def square(x):# definiere Funktion\n",
    "    return x**2 # definiere Ausgabe\n",
    "\n",
    "id2 = identity(2) # definiere id2 über Zugriff auf identity\n",
    "square2 = square(2)# definiere id2 über Zugriff auf square\n",
    "\n",
    "print(id2, square2) # Ausgabe der Werte\n",
    "\n",
    "#d)\n",
    "# Es werden zwei Funktionen definiert (Identität und Quadratfunktion) welche jeweils\n",
    "# den Parameter als Ausgabe zurückgeben (bzw. ihn vorher quadrieren).\n",
    "# Danach werden zwei Variablen direkt über die Ausgabe der Funktionen deklariert und\n",
    "# anschließend ausgegeben.\n",
    "#"
   ]
  },
  {
   "cell_type": "markdown",
   "metadata": {},
   "source": [
    "**e)** Schreiben Sie eine neue Funktion, indem Sie den `print()` Befehl in der Funktion `printBahnkurve()` durch das `return` Statement ersetzen. Wählen Sie einen geeigneten Namen für die neue Funktion. "
   ]
  },
  {
   "cell_type": "code",
   "execution_count": 40,
   "metadata": {},
   "outputs": [],
   "source": [
    "#define function for calculating the trajectory of given mass and initial x and v\n",
    "def calcTrajectory(x0, v0, t):\n",
    "    \n",
    "    a = -9.81\n",
    "    x = x0 + v0 * t + 0.5 * a * t**2\n",
    "    \n",
    "    return x\n"
   ]
  },
  {
   "cell_type": "markdown",
   "metadata": {},
   "source": [
    "## Visualisierung\n",
    "Da Sie nun dazu in der Lage sind, viele Datenpunkte zu erzeugen, wollen wir als nächsten Schritt die berechnete Bahnkurve in einem plot mithilfe von `matplotlib.pyplot` visualisieren. `Matplotlib` ist eine beliebte und sehr vielseitige plot Bibliothek, die es uns ermöglicht Daten zu visualisieren. Wer einen Eindruck davon gewinnen möchte, was alles mit `matplotlib` möglich ist, kann ja mal [hier](https://matplotlib.org/3.1.1/gallery/index.html) vorbeischauen!\n",
    "\n",
    "Wir haben folgendes Grundgerüst vorbereitet, in dem die Funktion $f(x) = x^2$ beispielhaft geplottet wird."
   ]
  },
  {
   "cell_type": "code",
   "execution_count": 41,
   "metadata": {
    "ExecuteTime": {
     "end_time": "2019-11-01T10:22:42.277126Z",
     "start_time": "2019-11-01T10:22:42.160402Z"
    }
   },
   "outputs": [
    {
     "data": {
      "image/png": "[encoded data removed]",
      "text/plain": [
       "<Figure size 432x288 with 1 Axes>"
      ]
     },
     "metadata": {
      "needs_background": "light"
     },
     "output_type": "display_data"
    }
   ],
   "source": [
    "import matplotlib.pyplot as plt # lade matplotlib als Bibliothek\n",
    "\n",
    "x = np.linspace(-5, 5, 169) # definiere x\n",
    "xQuadrat = x**2 # berechen x^2\n",
    "\n",
    "# ### Anfang Grundgerüst ( mit # kann man Kommentare schreiben )\n",
    "\n",
    "fig, ax = plt.subplots()\n",
    "\n",
    "ax.set_title(\"Quadratische Funktion\")  # Titel\n",
    "ax.set_xlabel(\"X-Werte\") # x-Achsenbeschriftrung\n",
    "ax.set_ylabel(\"$y = x^2$\") # y-Achsenbeschriftung\n",
    "\n",
    "ax.plot(x, xQuadrat)  # x-Wert hier: x, y Wert hier: xQuadrat\n",
    "\n",
    "plt.show()\n",
    "\n",
    "# ### Ende Grundgerüst"
   ]
  },
  {
   "cell_type": "markdown",
   "metadata": {},
   "source": [
    "**a)** Machen Sie sich mit dem Grundgerüst vertraut, indem Sie \n",
    " - `x` mit Werten Ihrer Wahl erweitern\n",
    " - einen geeigneten Titel\n",
    " - geeignete x- und y- Achsenbeschriftung wählen.\n",
    " \n",
    "Möchte man mehrere Kurven in einem Diagramm darstellen, so muss `ax.plot()` lediglich erneut aufgerufen werden. \n",
    "Dabei ist es nützlich diese Kurven in einer Legende zu unterscheiden:"
   ]
  },
  {
   "cell_type": "code",
   "execution_count": 42,
   "metadata": {
    "ExecuteTime": {
     "end_time": "2019-11-01T10:22:27.961375Z",
     "start_time": "2019-11-01T10:22:27.514251Z"
    }
   },
   "outputs": [
    {
     "data": {
      "image/png": "[encoded data removed]",
      "text/plain": [
       "<Figure size 432x288 with 1 Axes>"
      ]
     },
     "metadata": {
      "needs_background": "light"
     },
     "output_type": "display_data"
    }
   ],
   "source": [
    "fig, ax = plt.subplots()\n",
    "\n",
    "ax.set_title(\"Mehrfachplot\") # Titel\n",
    "ax.set_xlabel(\"X\") #x-Achsenbeschriftung\n",
    "ax.set_ylabel(\"Y\") # y-Achsenbeschriftung\n",
    "\n",
    "ax.plot(x, xQuadrat, label=\"$x^2$\")  # label: Eintrag Legende, versteht auch LaTex!\n",
    "ax.plot(x, x**4, label=\"$x^4$\") # label\n",
    "\n",
    "ax.legend()  # Zeige Legende\n",
    "plt.show()  "
   ]
  },
  {
   "cell_type": "markdown",
   "metadata": {},
   "source": [
    "**b)** Kopieren Sie das Grundgerüst und ersetzen sie die x-Werte durch das oben definierte array `t` und die y-Werte durch die errechnete Bahnkurve. Wählen Sie auch hier einen geeigneten Titel und Achsenbeschriftungen."
   ]
  },
  {
   "cell_type": "code",
   "execution_count": 43,
   "metadata": {
    "ExecuteTime": {
     "end_time": "2019-11-01T10:21:24.775267Z",
     "start_time": "2019-11-01T10:21:24.689518Z"
    }
   },
   "outputs": [
    {
     "data": {
      "image/png": "[encoded data removed]",
      "text/plain": [
       "<Figure size 432x288 with 1 Axes>"
      ]
     },
     "metadata": {
      "needs_background": "light"
     },
     "output_type": "display_data"
    }
   ],
   "source": [
    "import matplotlib.pyplot as plt # lade matplotlib als Bibliothek\n",
    "import numpy as np\n",
    "\n",
    "#initial values\n",
    "x0 = 3\n",
    "v0 = 10\n",
    "\n",
    "#generate data points\n",
    "t = np.linspace(0, 5, 50)\n",
    "x = calcTrajectory(x0, v0, t)\n",
    "\n",
    "\n",
    "# ### Anfang Grundgerüst ( mit # kann man Kommentare schreiben )\n",
    "\n",
    "fig, ax = plt.subplots()\n",
    "\n",
    "ax.set_title(\"Bahnkurve\")  # Titel\n",
    "ax.set_xlabel(\"t in s\") # x-Achsenbeschriftrung\n",
    "ax.set_ylabel(\"x(t)\") # y-Achsenbeschriftung\n",
    "\n",
    "ax.plot(t, x)  # x-Wert hier: t, y Wert hier: x(t)\n",
    "\n",
    "plt.show()\n",
    "\n",
    "# ### Ende Grundgerüst"
   ]
  },
  {
   "cell_type": "markdown",
   "metadata": {},
   "source": [
    "**c)** Variieren Sie nun die Anfangsgeschwindigkeit. Erstellen Sie zwei Kurven mit verschiedenen Bedingungen (z.B. $v_0 = 10$ und $v_0=20$). Vergleichen Sie die Kurven miteinander, indem Sie diese in einem Diagramm darstellen. Benutzen Sie angemessene Beschriftungen!"
   ]
  },
  {
   "cell_type": "code",
   "execution_count": 44,
   "metadata": {
    "ExecuteTime": {
     "end_time": "2019-11-01T10:21:24.776711Z",
     "start_time": "2019-11-01T10:21:24.023Z"
    }
   },
   "outputs": [
    {
     "data": {
      "image/png": "[encoded data removed]",
      "text/plain": [
       "<Figure size 432x288 with 1 Axes>"
      ]
     },
     "metadata": {
      "needs_background": "light"
     },
     "output_type": "display_data"
    }
   ],
   "source": [
    "#generate datapoints\n",
    "t  = np.linspace(0, 5, 50)\n",
    "x1 = calcTrajectory(x0, 10, t)\n",
    "x2 = calcTrajectory(x0, 20, t)\n",
    "\n",
    "fig, ax = plt.subplots()\n",
    "\n",
    "ax.set_title(\"Vergleich verschiedener Anfangsgeschwindigkeiten\") # Titel\n",
    "ax.set_xlabel(\"t\") #x-Achsenbeschriftung\n",
    "ax.set_ylabel(\"X(t)\") # y-Achsenbeschriftung\n",
    "\n",
    "ax.plot(t, x1, label=\"$v_0 = 10$ m/s\")  # label: Eintrag Legende, versteht auch LaTex!\n",
    "ax.plot(t, x2, label=\"$v_0 = 20$ m/s\") # plot 2nd graph\n",
    "\n",
    "ax.legend()  # Zeige Legende\n",
    "plt.show()  "
   ]
  },
  {
   "cell_type": "code",
   "execution_count": null,
   "metadata": {},
   "outputs": [],
   "source": []
  },
  {
   "cell_type": "code",
   "execution_count": null,
   "metadata": {},
   "outputs": [],
   "source": []
  }
 ],
 "metadata": {
  "kernelspec": {
   "display_name": "Python 3",
   "language": "python",
   "name": "python3"
  },
  "language_info": {
   "codemirror_mode": {
    "name": "ipython",
    "version": 3
   },
   "file_extension": ".py",
   "mimetype": "text/x-python",
   "name": "python",
   "nbconvert_exporter": "python",
   "pygments_lexer": "ipython3",
   "version": "3.9.2"
  },
  "latex_envs": {
   "LaTeX_envs_menu_present": true,
   "autoclose": true,
   "autocomplete": true,
   "bibliofile": "biblio.bib",
   "cite_by": "apalike",
   "current_citInitial": 1,
   "eqLabelWithNumbers": true,
   "eqNumInitial": 1,
   "hotkeys": {
    "equation": "Ctrl-E",
    "itemize": "Ctrl-I"
   },
   "labels_anchors": false,
   "latex_user_defs": false,
   "report_style_numbering": false,
   "user_envs_cfg": false
  }
 },
 "nbformat": 4,
 "nbformat_minor": 4
}
