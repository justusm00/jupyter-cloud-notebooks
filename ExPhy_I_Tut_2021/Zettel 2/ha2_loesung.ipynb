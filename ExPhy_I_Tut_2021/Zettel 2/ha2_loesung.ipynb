{
 "cells": [
  {
   "cell_type": "markdown",
   "metadata": {},
   "source": [
    "# Hausaufgabe Blatt 2\n",
    "## Gleichförmig beschleunigte, geradlinige Bewegung - Revisited\n",
    "\n",
    "In dieser Aufgabe werden wir die Bahnkurve eines gleichförmig beschleunigten Objektes in einer Dimension berechnen und dieses mal auch visualisieren. Die Position $x$ zum Zeitpunkt $t$ ist, wie auf dem Blatt 1, gegeben durch folgende Gleichung:\n",
    "\\begin{equation*}\n",
    "x\\!\\left( t \\right) = x_0 + v_0 t + \\frac{1}{2} a t^2 \n",
    "\\end{equation*}\n",
    "wobei $x_0$ und $v_0$ die Anfangsposition und -geschwindigkeit sind und $a$ die konstante Beschleunigung, die auf das Objekt wirkt. \n",
    "\n",
    "## 1. Numpy Arrays: Linspace\n",
    "Anstelle, dass wir die Einträge in numpy arrays \"per Hand\" definieren, können wir eine nützliche Funktion verwenden. \n",
    "\n",
    "**a)** \n",
    "Machen Sie sich mit der nachstehenden Zelle vertraut. Verstehen Sie die Syntax?"
   ]
  },
  {
   "cell_type": "code",
   "execution_count": 2,
   "metadata": {
    "ExecuteTime": {
     "end_time": "2019-11-01T10:22:27.227336Z",
     "start_time": "2019-11-01T10:22:27.100666Z"
    }
   },
   "outputs": [
    {
     "name": "stdout",
     "output_type": "stream",
     "text": [
      "[0.   0.25 0.5  0.75 1.  ]\n"
     ]
    }
   ],
   "source": [
    "import numpy as np # Laden der Numpy Bibliothek \n",
    "\n",
    "x = np.linspace(0, 1, 5) # Definieren von x\n",
    "\n",
    "print(x) # Ausgabe x"
   ]
  },
  {
   "cell_type": "markdown",
   "metadata": {},
   "source": [
    "**b)** Erstellen sie ein numpy array für die Zeit `t` indem sie `np.linspace()` korrekt verwenden. Dabei soll gelten $t_0 = 0$ und $t_N = 5$ mit der Anzahl der Einträge $N = 50$."
   ]
  },
  {
   "cell_type": "code",
   "execution_count": 3,
   "metadata": {},
   "outputs": [
    {
     "name": "stdout",
     "output_type": "stream",
     "text": [
      "[0.         0.10204082 0.20408163 0.30612245 0.40816327 0.51020408\n",
      " 0.6122449  0.71428571 0.81632653 0.91836735 1.02040816 1.12244898\n",
      " 1.2244898  1.32653061 1.42857143 1.53061224 1.63265306 1.73469388\n",
      " 1.83673469 1.93877551 2.04081633 2.14285714 2.24489796 2.34693878\n",
      " 2.44897959 2.55102041 2.65306122 2.75510204 2.85714286 2.95918367\n",
      " 3.06122449 3.16326531 3.26530612 3.36734694 3.46938776 3.57142857\n",
      " 3.67346939 3.7755102  3.87755102 3.97959184 4.08163265 4.18367347\n",
      " 4.28571429 4.3877551  4.48979592 4.59183673 4.69387755 4.79591837\n",
      " 4.89795918 5.        ]\n"
     ]
    }
   ],
   "source": [
    "import numpy as np # Laden der Numpy Bibliothek \n",
    "t = np.linspace(0,5,50) # Definieren von t\n",
    "print(t) # Ausgabe t"
   ]
  },
  {
   "cell_type": "markdown",
   "metadata": {},
   "source": [
    "**c)** Benutzen Sie die in Aufgabe 1 definierte Funktion `printBahnkurve()` um sich nun die Bahnkurve für das gerade erstellte array `t` ausgeben zu lassen."
   ]
  },
  {
   "cell_type": "code",
   "execution_count": 4,
   "metadata": {},
   "outputs": [
    {
     "name": "stdout",
     "output_type": "stream",
     "text": [
      "[  3.           3.96933569   4.83652645   5.60157226   6.26447314\n",
      "   6.82522907   7.28384007   7.64030612   7.89462724   8.04680342\n",
      "   8.09683465   8.04472095   7.89046231   7.63405873   7.2755102\n",
      "   6.81481674   6.25197834   5.586995     4.81986672   3.9505935\n",
      "   2.97917534   1.90561224   0.72990421  -0.54794877  -1.92794669\n",
      "  -3.41008955  -4.99437734  -6.68081008  -8.46938776 -10.36011037\n",
      " -12.35297793 -14.44799042 -16.64514786 -18.94445023 -21.34589754\n",
      " -23.8494898  -26.45522699 -29.16310912 -31.97313619 -34.8853082\n",
      " -37.89962516 -41.01608705 -44.23469388 -47.55544565 -50.97834236\n",
      " -54.50338401 -58.1305706  -61.85990212 -65.69137859 -69.625     ]\n"
     ]
    }
   ],
   "source": [
    "def printBahnkurve(x0,v0,t): # definieren der Funktion\n",
    "    a = -9.81 # definieren Beschleunigung \n",
    "    x = x0 + v0*t+ 0.5*a*t**2 # Berechnung von x\n",
    "    print(x) # Ausgabe x\n",
    "    \n",
    "t = np.linspace(0,5,50) # definieren t\n",
    "\n",
    "printBahnkurve(3,10,t) # Nutzen der Funktion zur Berechnung der Bahnkurve\n",
    "    "
   ]
  },
  {
   "cell_type": "markdown",
   "metadata": {},
   "source": [
    "## Return\n",
    "\n",
    "Bisher hat unsere definierte Funktion lediglich einen `print()` Befehl ausgeführt. Wir wollen nun, dass unsere Funktion einen Wert zurück gibt. Dadurch kann der Wert in einer Variablen gespeichert und somit weiterverarbeitet werden. Dazu verwenden wir das `return` Statement. \n",
    "\n",
    "**d)** Betrachten Sie die folgenden zwei Funktionen. Beschreiben Sie kurz (1-2 Sätze), was hier geschieht. "
   ]
  },
  {
   "cell_type": "code",
   "execution_count": 5,
   "metadata": {
    "ExecuteTime": {
     "end_time": "2019-11-01T10:22:27.233313Z",
     "start_time": "2019-11-01T10:22:27.230416Z"
    }
   },
   "outputs": [
    {
     "name": "stdout",
     "output_type": "stream",
     "text": [
      "2 4\n"
     ]
    }
   ],
   "source": [
    "def identity(x): # definiere Funktion\n",
    "    return x # definiere Ausgabe\n",
    "\n",
    "def square(x):# definiere Funktion\n",
    "    return x**2 # definiere Ausgabe\n",
    "\n",
    "id2 = identity(2) # definiere id2 über Zugriff auf identity\n",
    "square2 = square(2)# definiere id2 über Zugriff auf square\n",
    "\n",
    "print(id2, square2) # Ausgabe der Werte"
   ]
  },
  {
   "cell_type": "markdown",
   "metadata": {},
   "source": [
    "Hier wird die Funktion ohne den print-Befehl definiert, so dass der Funktionswert direkt wiedergegeben wird. Dementsprechend können Funktionswerte als Variablen definiert werden. Diese werden für die weitere Rechnung verwendet, ohne dass der print-Befehl extra verwendet werden muss"
   ]
  },
  {
   "cell_type": "markdown",
   "metadata": {},
   "source": [
    "**e)** Schreiben Sie eine neue Funktion, indem Sie den `print()` Befehl in der Funktion `printBahnkurve()` durch das `return` Statement ersetzen. Wählen Sie einen geeigneten Namen für die neue Funktion. "
   ]
  },
  {
   "cell_type": "code",
   "execution_count": 7,
   "metadata": {},
   "outputs": [
    {
     "name": "stdout",
     "output_type": "stream",
     "text": [
      "[  3.           3.96933569   4.83652645   5.60157226   6.26447314\n",
      "   6.82522907   7.28384007   7.64030612   7.89462724   8.04680342\n",
      "   8.09683465   8.04472095   7.89046231   7.63405873   7.2755102\n",
      "   6.81481674   6.25197834   5.586995     4.81986672   3.9505935\n",
      "   2.97917534   1.90561224   0.72990421  -0.54794877  -1.92794669\n",
      "  -3.41008955  -4.99437734  -6.68081008  -8.46938776 -10.36011037\n",
      " -12.35297793 -14.44799042 -16.64514786 -18.94445023 -21.34589754\n",
      " -23.8494898  -26.45522699 -29.16310912 -31.97313619 -34.8853082\n",
      " -37.89962516 -41.01608705 -44.23469388 -47.55544565 -50.97834236\n",
      " -54.50338401 -58.1305706  -61.85990212 -65.69137859 -69.625     ]\n"
     ]
    }
   ],
   "source": [
    "def Bahnkurve(x0,v0,t): # definiere Funktion\n",
    "    a = -9.81 # definiere Beschleunigung\n",
    "    x = x0 + v0*t+ 0.5*a*t**2 # berechne x\n",
    "    return x # gib x aus\n",
    "\n",
    "t = np.linspace(0,5,50) # definiere t\n",
    "print(Bahnkurve(3,10,t)) # Ausgabe Bahnkurve"
   ]
  },
  {
   "cell_type": "markdown",
   "metadata": {},
   "source": [
    "## Visualisierung\n",
    "Da Sie nun dazu in der Lage sind, viele Datenpunkte zu erzeugen, wollen wir als nächsten Schritt die berechnete Bahnkurve in einem plot mithilfe von `matplotlib.pyplot` visualisieren. `Matplotlib` ist eine beliebte und sehr vielseitige plot Bibliothek, die es uns ermöglicht Daten zu visualisieren. Wer einen Eindruck davon gewinnen möchte, was alles mit `matplotlib` möglich ist, kann ja mal [hier](https://matplotlib.org/3.1.1/gallery/index.html) vorbeischauen!\n",
    "\n",
    "Wir haben folgendes Grundgerüst vorbereitet, in dem die Funktion $f(x) = x^2$ beispielhat geplottet wird."
   ]
  },
  {
   "cell_type": "code",
   "execution_count": 8,
   "metadata": {
    "ExecuteTime": {
     "end_time": "2019-11-01T10:22:42.277126Z",
     "start_time": "2019-11-01T10:22:42.160402Z"
    }
   },
   "outputs": [
    {
     "data": {
      "image/png": "[encoded data removed]",
      "text/plain": [
       "<Figure size 432x288 with 1 Axes>"
      ]
     },
     "metadata": {
      "needs_background": "light"
     },
     "output_type": "display_data"
    }
   ],
   "source": [
    "import matplotlib.pyplot as plt # lade matplotlib als Bibliothek\n",
    "\n",
    "x = np.linspace(-2, 2, 170) # definiere x\n",
    "xQuadrat = x**2 # berechen x^2\n",
    "\n",
    "# ### Anfang Grundgerüst ( mit # kann man Kommentare schreiben )\n",
    "\n",
    "fig, ax = plt.subplots()\n",
    "\n",
    "ax.set_title(\"Parabel\")  # Titel\n",
    "ax.set_xlabel(\"X-Werte\") # x-Achsenbeschriftrung\n",
    "ax.set_ylabel(\"y-Werte\") # y-Achsenbeschriftung\n",
    "\n",
    "ax.plot(x, xQuadrat)  # x-Wert hier: x, y Wert hier: xQuadrat\n",
    "\n",
    "plt.show()\n",
    "\n",
    "# ### Ende Grundgerüst"
   ]
  },
  {
   "cell_type": "markdown",
   "metadata": {},
   "source": [
    "**a)** Machen Sie sich mit dem Grundgerüst vertraut, indem Sie \n",
    " - `x` mit Werten Ihrer Wahl erweitern\n",
    " - einen geeigneten Titel\n",
    " - geeignete x- und y- Achsenbeschriftung wählen.\n",
    " \n",
    "Möchte man mehrere Kurven in einem Diagramm darstellen, so muss `ax.plot()` lediglich erneut aufgerufen werden. \n",
    "Dabei ist es nützlich diese Kurven in einer Legende zu unterscheiden:"
   ]
  },
  {
   "cell_type": "code",
   "execution_count": 9,
   "metadata": {
    "ExecuteTime": {
     "end_time": "2019-11-01T10:22:27.961375Z",
     "start_time": "2019-11-01T10:22:27.514251Z"
    }
   },
   "outputs": [
    {
     "data": {
      "image/png": "[encoded data removed]",
      "text/plain": [
       "<Figure size 432x288 with 1 Axes>"
      ]
     },
     "metadata": {
      "needs_background": "light"
     },
     "output_type": "display_data"
    }
   ],
   "source": [
    "fig, ax = plt.subplots()\n",
    "\n",
    "ax.set_title(\"Mehrfachplot\") # Titel\n",
    "ax.set_xlabel(\"X\") #x-Achsenbeschriftung\n",
    "ax.set_ylabel(\"Y\") # y-Achsenbeschriftung\n",
    "\n",
    "ax.plot(x, xQuadrat, label=\"$x^2$\")  # label: Eintrag Legende, versteht auch LaTex!\n",
    "ax.plot(x, x**4, label=\"$x^4$\") # label\n",
    "\n",
    "ax.legend()  # Zeige Legende\n",
    "plt.show()  "
   ]
  },
  {
   "cell_type": "markdown",
   "metadata": {},
   "source": [
    "**b)** Kopieren Sie das Grundgerüst und ersetzen sie die x-Werte durch das oben definierte array `t` und die y-Werte durch die errechnete Bahnkurve. Wählen Sie auch hier einen geeigneten Titel und Achsenbeschriftungen."
   ]
  },
  {
   "cell_type": "code",
   "execution_count": 10,
   "metadata": {
    "ExecuteTime": {
     "end_time": "2019-11-01T10:21:24.775267Z",
     "start_time": "2019-11-01T10:21:24.689518Z"
    }
   },
   "outputs": [
    {
     "data": {
      "image/png": "[encoded data removed]",
      "text/plain": [
       "<Figure size 432x288 with 1 Axes>"
      ]
     },
     "metadata": {
      "needs_background": "light"
     },
     "output_type": "display_data"
    }
   ],
   "source": [
    "import matplotlib.pyplot as plt # lade matplotlib als Bibliothek\n",
    "\n",
    "def Bahnkurve(x0,v0,t): # definiere Bahnkurve als Funktion\n",
    "    a = -9.81 # definiere Beschleunigung\n",
    "    x = x0 + v0*t+ 0.5*a*t**2 # berechne x\n",
    "    return x # Ausgabe von x\n",
    "\n",
    "t = np.linspace(0,5,50) # definiere t\n",
    "Bahnkurve(3,10,t) # berechne Bahnkurve\n",
    "\n",
    "fig, ax = plt.subplots() # Plot Zuweisung\n",
    "\n",
    "ax.set_title(\"Bahnkurve\")  # Titel\n",
    "ax.set_xlabel(\"Zeit t in s\") # x Achsenbeschriftung\n",
    "ax.set_ylabel(\"Position x in m\") # y Achsenbeschriftung\n",
    "\n",
    "ax.plot(t, Bahnkurve(3,10,t) )  # x-Wert hier: x, y Wert hier: xQuadrat\n",
    "\n",
    "plt.show()"
   ]
  },
  {
   "cell_type": "markdown",
   "metadata": {},
   "source": [
    "**c)** Variieren Sie nun die Anfangsgeschwindigkeit. Erstellen Sie zwei Kurven mit verschiedenen Bedingungen (z.B. $v_0 = 10$ und $v_0=20$). Vergleichen Sie die Kurven miteinander, indem Sie diese in einem Diagramm darstellen. Benutzen Sie angemessene Beschriftungen!"
   ]
  },
  {
   "cell_type": "code",
   "execution_count": 11,
   "metadata": {
    "ExecuteTime": {
     "end_time": "2019-11-01T10:21:24.776711Z",
     "start_time": "2019-11-01T10:21:24.023Z"
    }
   },
   "outputs": [
    {
     "data": {
      "image/png": "[encoded data removed]",
      "text/plain": [
       "<Figure size 432x288 with 1 Axes>"
      ]
     },
     "metadata": {
      "needs_background": "light"
     },
     "output_type": "display_data"
    }
   ],
   "source": [
    "import matplotlib.pyplot as plt # lade matplotlib als Bibliothek\n",
    "\n",
    "def Bahnkurve(x0,v0,t): # definiere Bahnkurve als Funktion\n",
    "    a = -9.81 # definiere Beschleunigung\n",
    "    x = x0 + v0*t+ 0.5*a*t**2  # berechne x\n",
    "    return x  # Ausgabe von x\n",
    "\n",
    "t = np.linspace(0,5,50) # definiere t\n",
    "Bahnkurve(3,10,t)\n",
    "\n",
    "fig, ax = plt.subplots() # Plot Zuweisung\n",
    "\n",
    "ax.set_title(\"Bahnkurve\")  # Titel\n",
    "ax.set_xlabel(\"Zeit t in s\") # x Achsenbeschriftung\n",
    "ax.set_ylabel(\"Position x in m\") # y Achsenbeschriftung\n",
    "\n",
    "ax.plot(t, Bahnkurve(3,10,t), label='$v_0=10$ m/s')  # v0 = 10\n",
    "ax.plot(t, Bahnkurve(3,20,t), label='$v_0=20$ m/s') # v0 = 20\n",
    "ax.legend() # Legende zeigen\n",
    "plt.show()"
   ]
  },
  {
   "cell_type": "code",
   "execution_count": null,
   "metadata": {},
   "outputs": [],
   "source": []
  }
 ],
 "metadata": {
  "kernelspec": {
   "display_name": "Python 3 (ipykernel)",
   "language": "python",
   "name": "python3"
  },
  "language_info": {
   "codemirror_mode": {
    "name": "ipython",
    "version": 3
   },
   "file_extension": ".py",
   "mimetype": "text/x-python",
   "name": "python",
   "nbconvert_exporter": "python",
   "pygments_lexer": "ipython3",
   "version": "3.9.7"
  },
  "latex_envs": {
   "LaTeX_envs_menu_present": true,
   "autoclose": true,
   "autocomplete": true,
   "bibliofile": "biblio.bib",
   "cite_by": "apalike",
   "current_citInitial": 1,
   "eqLabelWithNumbers": true,
   "eqNumInitial": 1,
   "hotkeys": {
    "equation": "Ctrl-E",
    "itemize": "Ctrl-I"
   },
   "labels_anchors": false,
   "latex_user_defs": false,
   "report_style_numbering": false,
   "user_envs_cfg": false
  }
 },
 "nbformat": 4,
 "nbformat_minor": 4
}
