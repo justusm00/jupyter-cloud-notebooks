{
 "cells": [
  {
   "cell_type": "markdown",
   "metadata": {},
   "source": [
    "# Hausaufgabe Blatt 2\n",
    "## Gleichförmig beschleunigte, geradlinige Bewegung - Revisited\n",
    "\n",
    "In dieser Aufgabe werden wir die Bahnkurve eines gleichförmig beschleunigten Objektes in einer Dimension berechnen und dieses mal auch visualisieren. Die Position $x$ zum Zeitpunkt $t$ ist, wie auf dem Blatt 1, gegeben durch folgende Gleichung:\n",
    "\\begin{equation*}\n",
    "x\\!\\left( t \\right) = x_0 + v_0 t + \\frac{1}{2} a t^2 \n",
    "\\end{equation*}\n",
    "wobei $x_0$ und $v_0$ die Anfangsposition und -geschwindigkeit sind und $a$ die konstante Beschleunigung, die auf das Objekt wirkt. \n",
    "\n",
    "## 1. Numpy Arrays: Linspace\n",
    "Anstelle, dass wir die Einträge in numpy arrays \"per Hand\" definieren, können wir eine nützliche Funktion verwenden. \n",
    "\n",
    "**a)** \n",
    "Machen Sie sich mit der nachstehenden Zelle vertraut. Verstehen Sie die Syntax?"
   ]
  },
  {
   "cell_type": "code",
   "execution_count": null,
   "metadata": {
    "ExecuteTime": {
     "end_time": "2019-11-01T10:22:27.227336Z",
     "start_time": "2019-11-01T10:22:27.100666Z"
    }
   },
   "outputs": [],
   "source": [
    "import numpy as np # Laden der Numpy Bibliothek \n",
    "\n",
    "x = np.linspace(0, 1, 5) # Definieren von x\n",
    "\n",
    "print(x) # Ausgabe x"
   ]
  },
  {
   "cell_type": "markdown",
   "metadata": {},
   "source": [
    "**b)** Erstellen sie ein numpy array für die Zeit `t` indem sie `np.linspace()` korrekt verwenden. Dabei soll gelten $t_0 = 0$ und $t_N = 5$ mit der Anzahl der Einträge $N = 50$."
   ]
  },
  {
   "cell_type": "code",
   "execution_count": 1,
   "metadata": {},
   "outputs": [
    {
     "name": "stdout",
     "output_type": "stream",
     "text": [
      "[0.         0.10204082 0.20408163 0.30612245 0.40816327 0.51020408\n",
      " 0.6122449  0.71428571 0.81632653 0.91836735 1.02040816 1.12244898\n",
      " 1.2244898  1.32653061 1.42857143 1.53061224 1.63265306 1.73469388\n",
      " 1.83673469 1.93877551 2.04081633 2.14285714 2.24489796 2.34693878\n",
      " 2.44897959 2.55102041 2.65306122 2.75510204 2.85714286 2.95918367\n",
      " 3.06122449 3.16326531 3.26530612 3.36734694 3.46938776 3.57142857\n",
      " 3.67346939 3.7755102  3.87755102 3.97959184 4.08163265 4.18367347\n",
      " 4.28571429 4.3877551  4.48979592 4.59183673 4.69387755 4.79591837\n",
      " 4.89795918 5.        ]\n"
     ]
    }
   ],
   "source": [
    "import numpy as np # Laden der Numpy Bibliothek \n",
    "\n",
    "t=np.linspace(0, 5, 50) # Definieren von t\n",
    "\n",
    "print(t) # Ausgabe von t"
   ]
  },
  {
   "cell_type": "markdown",
   "metadata": {},
   "source": [
    "**c)** Benutzen Sie die in Aufgabe 1 definierte Funktion `printBahnkurve()` um sich nun die Bahnkurve für das gerade erstellte array `t` ausgeben zu lassen. Verwenden Sie die Werte $x_0=3$ und $v_0=10$ wie auf Blatt 1."
   ]
  },
  {
   "cell_type": "code",
   "execution_count": 2,
   "metadata": {},
   "outputs": [
    {
     "name": "stdout",
     "output_type": "stream",
     "text": [
      "[  3.           4.07148063   5.24510621   6.52087672   7.89879217\n",
      "   9.37885256  10.96105789  12.64540816  14.43190337  16.32054352\n",
      "  18.31132861  20.40425864  22.59933361  24.89655352  27.29591837\n",
      "  29.79742815  32.40108288  35.10688255  37.91482716  40.8249167\n",
      "  43.83715119  46.95153061  50.16805498  53.48672428  56.90753853\n",
      "  60.43049771  64.05560183  67.7828509   71.6122449   75.54378384\n",
      "  79.57746772  83.71329654  87.9512703   92.291389    96.73365264\n",
      " 101.27806122 105.92461474 110.6733132  115.5241566  120.47714494\n",
      " 125.53227822 130.68955643 135.94897959 141.31054769 146.77426072\n",
      " 152.3401187  158.00812162 163.77826947 169.65056227 175.625     ]\n"
     ]
    }
   ],
   "source": [
    "x0=3 # Wert für x0 angegeben\n",
    "v0=10 # Wert für v0 angegeben\n",
    "\n",
    "def printBahnkurve(x0,v0,t): # Funktion für die Bahnkurve definiert\n",
    "    a=9.81# konstante Erdbeschleunigung festgelegt \n",
    "    x=x0+v0*t+0.5*a*t**2 # Formel für die Bahnkurve definiert \n",
    "    print(x) # Befehl, den Ort anzugeben \n",
    "    \n",
    "t=np.linspace(0, 5, 50) # Definieren von t\n",
    "printBahnkurve(x0,v0,t) # Befehl, x für t Werte anzugeben "
   ]
  },
  {
   "cell_type": "markdown",
   "metadata": {},
   "source": [
    "## Return\n",
    "\n",
    "Bisher hat unsere definierte Funktion lediglich einen `print()` Befehl ausgeführt. Wir wollen nun, dass unsere Funktion einen Wert zurück gibt. Dadurch kann der Wert in einer Variablen gespeichert und somit weiterverarbeitet werden. Dazu verwenden wir das `return` Statement. \n",
    "\n",
    "**d)** Betrachten Sie die folgenden zwei Funktionen. Beschreiben Sie kurz (1-2 Sätze), was hier geschieht. "
   ]
  },
  {
   "cell_type": "code",
   "execution_count": 2,
   "metadata": {
    "ExecuteTime": {
     "end_time": "2019-11-01T10:22:27.233313Z",
     "start_time": "2019-11-01T10:22:27.230416Z"
    }
   },
   "outputs": [
    {
     "name": "stdout",
     "output_type": "stream",
     "text": [
      "2 4\n"
     ]
    }
   ],
   "source": [
    "def identity(x): # definiere Funktion\n",
    "    return x # definiere Ausgabe\n",
    "\n",
    "def square(x):# definiere Funktion\n",
    "    return x**2 # definiere Ausgabe\n",
    "\n",
    "id2 = identity(2) # definiere id2 über Zugriff auf identity\n",
    "square2 = square(2)# definiere id2 über Zugriff auf square\n",
    "\n",
    "print(id2, square2) # Ausgabe der Werte"
   ]
  },
  {
   "cell_type": "markdown",
   "metadata": {},
   "source": [
    "**e)** Schreiben Sie eine neue Funktion, indem Sie den `print()` Befehl in der Funktion `printBahnkurve()` durch das `return` Statement ersetzen. Wählen Sie einen geeigneten Namen für die neue Funktion. "
   ]
  },
  {
   "cell_type": "code",
   "execution_count": 8,
   "metadata": {},
   "outputs": [
    {
     "name": "stdout",
     "output_type": "stream",
     "text": [
      "[ 0.          0.1010101   0.2020202   0.3030303   0.4040404   0.50505051\n",
      "  0.60606061  0.70707071  0.80808081  0.90909091  1.01010101  1.11111111\n",
      "  1.21212121  1.31313131  1.41414141  1.51515152  1.61616162  1.71717172\n",
      "  1.81818182  1.91919192  2.02020202  2.12121212  2.22222222  2.32323232\n",
      "  2.42424242  2.52525253  2.62626263  2.72727273  2.82828283  2.92929293\n",
      "  3.03030303  3.13131313  3.23232323  3.33333333  3.43434343  3.53535354\n",
      "  3.63636364  3.73737374  3.83838384  3.93939394  4.04040404  4.14141414\n",
      "  4.24242424  4.34343434  4.44444444  4.54545455  4.64646465  4.74747475\n",
      "  4.84848485  4.94949495  5.05050505  5.15151515  5.25252525  5.35353535\n",
      "  5.45454545  5.55555556  5.65656566  5.75757576  5.85858586  5.95959596\n",
      "  6.06060606  6.16161616  6.26262626  6.36363636  6.46464646  6.56565657\n",
      "  6.66666667  6.76767677  6.86868687  6.96969697  7.07070707  7.17171717\n",
      "  7.27272727  7.37373737  7.47474747  7.57575758  7.67676768  7.77777778\n",
      "  7.87878788  7.97979798  8.08080808  8.18181818  8.28282828  8.38383838\n",
      "  8.48484848  8.58585859  8.68686869  8.78787879  8.88888889  8.98989899\n",
      "  9.09090909  9.19191919  9.29292929  9.39393939  9.49494949  9.5959596\n",
      "  9.6969697   9.7979798   9.8989899  10.        ]\n"
     ]
    }
   ],
   "source": [
    "def gleichmäßigbeschleunigteBewegung(x0,v0,t): # Funktion für die Bahnkurve definiert, in Klammern alle Werte, von der sie abhängt \n",
    "    a=9.81# konstante Erdbeschleunigung festgelegt \n",
    "    x=x0+v0*t+0.5*a*t**2 # Formel für die Bahnkurve definiert \n",
    "    return(x) \n",
    "print(x)"
   ]
  },
  {
   "cell_type": "markdown",
   "metadata": {},
   "source": [
    "## Visualisierung\n",
    "Da Sie nun dazu in der Lage sind, viele Datenpunkte zu erzeugen, wollen wir als nächsten Schritt die berechnete Bahnkurve in einem plot mithilfe von `matplotlib.pyplot` visualisieren. `Matplotlib` ist eine beliebte und sehr vielseitige plot Bibliothek, die es uns ermöglicht Daten zu visualisieren. Wer einen Eindruck davon gewinnen möchte, was alles mit `matplotlib` möglich ist, kann ja mal [hier](https://matplotlib.org/3.1.1/gallery/index.html) vorbeischauen!\n",
    "\n",
    "Wir haben folgendes Grundgerüst vorbereitet, in dem die Funktion $f(x) = x^2$ beispielhaft geplottet wird."
   ]
  },
  {
   "cell_type": "code",
   "execution_count": 9,
   "metadata": {
    "ExecuteTime": {
     "end_time": "2019-11-01T10:22:42.277126Z",
     "start_time": "2019-11-01T10:22:42.160402Z"
    }
   },
   "outputs": [
    {
     "data": {
      "image/png": "[encoded data removed]",
      "text/plain": [
       "<Figure size 432x288 with 1 Axes>"
      ]
     },
     "metadata": {
      "needs_background": "light"
     },
     "output_type": "display_data"
    }
   ],
   "source": [
    "import matplotlib.pyplot as plt # lade matplotlib als Bibliothek\n",
    "\n",
    "x = np.linspace(0, 10, 100) # definiere x\n",
    "xQuadrat = x**2 # berechnen x^2\n",
    "\n",
    "\n",
    "fig, ax = plt.subplots()\n",
    "\n",
    "ax.set_title(\"Weg-Zeit-Diagramm gleichmäßig beschleunigte Bewegung\")  # Titel\n",
    "ax.set_xlabel(\"Zeit t in s\") # x-Achsenbeschriftrung\n",
    "ax.set_ylabel(\"Weg s in m\") # y-Achsenbeschriftung\n",
    "\n",
    "ax.plot(x, xQuadrat)  # x-Wert hier: x, y Wert hier: xQuadrat\n",
    "\n",
    "plt.show()\n"
   ]
  },
  {
   "cell_type": "markdown",
   "metadata": {},
   "source": [
    "**a)** Machen Sie sich mit dem Grundgerüst vertraut, indem Sie \n",
    " - `x` mit Werten Ihrer Wahl erweitern\n",
    " - einen geeigneten Titel\n",
    " - geeignete x- und y- Achsenbeschriftung wählen.\n",
    " \n",
    "Möchte man mehrere Kurven in einem Diagramm darstellen, so muss `ax.plot()` lediglich erneut aufgerufen werden. \n",
    "Dabei ist es nützlich diese Kurven in einer Legende zu unterscheiden:"
   ]
  },
  {
   "cell_type": "code",
   "execution_count": 10,
   "metadata": {
    "ExecuteTime": {
     "end_time": "2019-11-01T10:22:27.961375Z",
     "start_time": "2019-11-01T10:22:27.514251Z"
    }
   },
   "outputs": [
    {
     "data": {
      "image/png": "[encoded data removed]",
      "text/plain": [
       "<Figure size 432x288 with 1 Axes>"
      ]
     },
     "metadata": {
      "needs_background": "light"
     },
     "output_type": "display_data"
    }
   ],
   "source": [
    "fig, ax = plt.subplots()\n",
    "\n",
    "ax.set_title(\"Mehrfachplot\") # Titel\n",
    "ax.set_xlabel(\"X\") #x-Achsenbeschriftung\n",
    "ax.set_ylabel(\"Y\") # y-Achsenbeschriftung\n",
    "\n",
    "ax.plot(x, xQuadrat, label=\"$x^2$\")  # label: Eintrag Legende, versteht auch LaTex!\n",
    "ax.plot(x, x**4, label=\"$x^4$\") # label\n",
    "\n",
    "ax.legend()  # Zeige Legende\n",
    "plt.show()  "
   ]
  },
  {
   "cell_type": "markdown",
   "metadata": {},
   "source": [
    "**b)** Kopieren Sie das Grundgerüst und ersetzen sie die x-Werte durch das oben definierte array `t` und die y-Werte durch die errechnete Bahnkurve. Wählen Sie auch hier einen geeigneten Titel und Achsenbeschriftungen."
   ]
  },
  {
   "cell_type": "code",
   "execution_count": 13,
   "metadata": {
    "ExecuteTime": {
     "end_time": "2019-11-01T10:21:24.775267Z",
     "start_time": "2019-11-01T10:21:24.689518Z"
    }
   },
   "outputs": [
    {
     "data": {
      "image/png": "[encoded data removed]",
      "text/plain": [
       "<Figure size 432x288 with 1 Axes>"
      ]
     },
     "metadata": {
      "needs_background": "light"
     },
     "output_type": "display_data"
    }
   ],
   "source": [
    "import matplotlib.pyplot as plt # lade matplotlib als Bibliothek\n",
    "\n",
    "t=np.linspace(0, 5, 50) # definiere t\n",
    "x= gleichmäßigbeschleunigteBewegung(x0,v0,t) # definiere x\n",
    "\n",
    "\n",
    "fig, ax = plt.subplots()\n",
    "\n",
    "ax.set_title(\"Gleichmäßig beschleunigte Bewegung\")  # Titel\n",
    "ax.set_xlabel(\"Zeit t in s\") # x-Achsenbeschriftrung\n",
    "ax.set_ylabel(\"Ort x(t)\") # y-Achsenbeschriftung\n",
    "\n",
    "ax.plot(t, x)  # x-Wert hier: t, y Wert hier: \n",
    "\n",
    "plt.show()\n"
   ]
  },
  {
   "cell_type": "markdown",
   "metadata": {},
   "source": [
    "**c)** Variieren Sie nun die Anfangsgeschwindigkeit. Erstellen Sie zwei Kurven mit verschiedenen Bedingungen (z.B. $v_0 = 10$ und $v_0=20$). Vergleichen Sie die Kurven miteinander, indem Sie diese in einem Diagramm darstellen. Benutzen Sie angemessene Beschriftungen!"
   ]
  },
  {
   "cell_type": "code",
   "execution_count": 15,
   "metadata": {
    "ExecuteTime": {
     "end_time": "2019-11-01T10:21:24.776711Z",
     "start_time": "2019-11-01T10:21:24.023Z"
    }
   },
   "outputs": [
    {
     "data": {
      "image/png": "[encoded data removed]",
      "text/plain": [
       "<Figure size 432x288 with 1 Axes>"
      ]
     },
     "metadata": {
      "needs_background": "light"
     },
     "output_type": "display_data"
    }
   ],
   "source": [
    "import matplotlib.pyplot as plt # lade matplotlib als Bibliothek\n",
    "\n",
    "t=np.linspace(0, 5, 50) # definiere t\n",
    "\n",
    "\n",
    "fig, ax = plt.subplots()\n",
    "\n",
    "ax.set_title(\"Gleichmäßig beschleunigte Bewegung\")  # Titel\n",
    "ax.set_xlabel(\"Zeit t in s\") # x-Achsenbeschriftrung\n",
    "ax.set_ylabel(\"Ort x(t)\") # y-Achsenbeschriftung\n",
    "\n",
    "ax.plot(t, gleichmäßigbeschleunigteBewegung(x0,10,t), label=\"$v0=10$\")  # x-Wert hier: t, y Wert hier: x, Anfangsgeschwindigkeit v0=10m/s\n",
    "ax.plot(t, gleichmäßigbeschleunigteBewegung(x0,20,t), label=\"$v0=20$\")  # x-Wert hier: t, y Wert hier: x, Anfangsgeschwindigkeit v0=20m/s\n",
    "\n",
    "ax.legend() # Legende hinzufügen\n",
    "plt.show() \n"
   ]
  }
 ],
 "metadata": {
  "kernelspec": {
   "display_name": "Python 3 (ipykernel)",
   "language": "python",
   "name": "python3"
  },
  "language_info": {
   "codemirror_mode": {
    "name": "ipython",
    "version": 3
   },
   "file_extension": ".py",
   "mimetype": "text/x-python",
   "name": "python",
   "nbconvert_exporter": "python",
   "pygments_lexer": "ipython3",
   "version": "3.9.7"
  },
  "latex_envs": {
   "LaTeX_envs_menu_present": true,
   "autoclose": true,
   "autocomplete": true,
   "bibliofile": "biblio.bib",
   "cite_by": "apalike",
   "current_citInitial": 1,
   "eqLabelWithNumbers": true,
   "eqNumInitial": 1,
   "hotkeys": {
    "equation": "Ctrl-E",
    "itemize": "Ctrl-I"
   },
   "labels_anchors": false,
   "latex_user_defs": false,
   "report_style_numbering": false,
   "user_envs_cfg": false
  }
 },
 "nbformat": 4,
 "nbformat_minor": 4
}
