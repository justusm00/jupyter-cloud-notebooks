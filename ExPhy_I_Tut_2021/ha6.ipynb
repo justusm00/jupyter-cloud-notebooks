{
 "cells": [
  {
   "cell_type": "markdown",
   "metadata": {},
   "source": [
    "<div style=\"text-align: right\"> 29.11.2019</div>\n",
    "\n",
    "***Name:*** \n",
    "\n",
    "# Hausaufgabe Blatt 6\n",
    "\n",
    "## Mathematisches Pendel\n",
    "\n",
    "In dieser Aufgabe werden wir die Bewegungsgleichung eines (mathematischen) Pendels numerisch lösen. Die Bewegungsgleichung eines Pendels (ohne Kleinwinkelnäherung) lautet:\n",
    "\n",
    "\\begin{equation*}\n",
    "       \\ddot{\\varphi} = -\\frac{g}{L} \\sin \\varphi \n",
    "\\end{equation*}\n",
    "\n",
    "Um diese Gleichung numerisch lösen zu können, werden wir die gegeben Differentialgleichung zweiter Ordnung in zwei Differentialgleichungen erster Ordnung überführen:\n",
    "\n",
    "\\begin{align*}\n",
    "        \\dot \\varphi &= \\omega \\tag{1}\\\\\n",
    "        \\dot \\omega &= -\\frac{g}{L} \\sin  \\varphi.  \\tag{2}\n",
    "\\end{align*}\n",
    "\n",
    "Bevor wir die Gleichungen (1) und (2) numerisch lösen können, müssen wir diese diskretisieren. Wie auf Aufgabenblatt 3 werden wir dazu das Euler Verfahren benutzen. Hier wird die Ableitung nach der Zeit durch kleine diskrete Änderungen in der Zeit $\\Delta t$ approximiert. \n",
    "\n",
    "\\begin{align*}\n",
    "\\dot \\varphi &= \\frac{\\mathrm{d}\\varphi}{\\mathrm{d}t}\\approx \\frac{\\Delta \\varphi}{\\Delta t} \\\\\n",
    "\\dot \\omega &= \\frac{\\mathrm{d}\\omega}{\\mathrm{d}t}\\approx \\frac{\\Delta \\omega}{\\Delta t} \\\\\n",
    "\\end{align*}\n",
    "\n",
    "Umstellen der Gleichungen führt zu:\n",
    "\\begin{align*}\n",
    "\\Delta \\varphi &= \\omega \\cdot \\Delta t \\\\\n",
    "\\Delta \\omega &= -\\frac{g}{L} \\sin  \\varphi \\cdot \\Delta t.\\\\\n",
    "\\end{align*}\n",
    "\n",
    "Dies sind die diskreten Änderungen im Winkel $\\Delta \\varphi$ und der Winkelgeschwindigkeit $\\Delta \\omega$ in nach einem Zeitschritt $\\Delta t$.\n",
    "\n",
    "Um also den neuen Winkel $\\varphi\\left(t+\\Delta t\\right)$ zum Zeitpunkt $t+\\Delta t$ berechnen zu können, muss man lediglich die diskrete Änderung $\\Delta \\varphi$ auf den alten Winkel $\\varphi\\left(t\\right)$ zum Zeitpunkt $t$ addieren (auch *update step* genannt). Gleiches gilt auch für die Winkelgeschwindigkeit $\\omega$. Man erhält die nach dem Euler Verfahren diskretisierten Gleichungen:\n",
    "\n",
    "\\begin{align*}\n",
    "    \\varphi \\left(t + \\Delta t\\right) &=\\varphi\\left(t \\right) + \\omega\\left(t\\right) \\cdot \\Delta t \\tag{3}  \\\\\n",
    "    \\omega \\left(t+\\Delta t\\right) &= \\omega \\left(t\\right) -\\frac{g}{L} \\sin  \\varphi \\left(t\\right) \\cdot \\Delta t  \\tag{4}\n",
    "\\end{align*}\n",
    "\n",
    "Wie Sie hier erkennen können, hängt die rechte Seite der obigen Gleichungen lediglich von $t$ (alter Zeitpunkt) und nicht von $t+\\Delta t$ (neuer Zeitpunkt) ab.\n",
    "### 1. Numerische Integration\n",
    "**a)** Integrieren Sie die Pendelgleichungen (3 + 4) numerisch für $N=3000$ Zeitschritte, wobei $\\Delta t=0.002$, $\\omega(t=0)=0$ und $ \\varphi_0 = \\varphi(t=0)=\\pi/4 $ sein soll. Wählen Sie für die Länge des Pendels $L=1$ und $g$ sei die Erdbeschleunigung.  \n",
    "\n",
    "Beachten Sie, dass Sie dafür von `numpy` folgende Methoden benötigen: `np.pi`, `np.cos()` (in (b)), `np.sin()`"
   ]
  },
  {
   "cell_type": "code",
   "execution_count": null,
   "metadata": {
    "ExecuteTime": {
     "end_time": "2019-11-29T09:50:24.709715Z",
     "start_time": "2019-11-29T09:50:24.650027Z"
    }
   },
   "outputs": [],
   "source": []
  },
  {
   "cell_type": "markdown",
   "metadata": {},
   "source": [
    "**b)** Plotten Sie den Winkel des Pendels abhängig von der Zeit. Vergleichen Sie das Ergebnis mit der analytischen Lösung durch Kleinwinkelnäherung:\n",
    "\n",
    "\\begin{equation*}\n",
    "\\varphi\\left(t\\right) = \\varphi_0 \\cos \\left( \\sqrt{(g/L)} \\cdot t \\right).\n",
    "\\end{equation*}\n",
    "\n",
    "\n",
    "Benutzen Sie angemessene Beschriftungen und Legenden. Was fällt Ihnen beim Vergleich auf?\n",
    "\n",
    "*Tipp:* Benutzen Sie zum Erstellen des Zeit arrays anstelle von `np.linspace()` dieses Mal `np.arange(start, stop, width)`. Dabei wird ein array mit den Grenzen `[start, stop)` erstellt und der Abstand zwischen zwei konsekutiven Werten ist durch `width` gegeben.\n"
   ]
  },
  {
   "cell_type": "code",
   "execution_count": null,
   "metadata": {
    "ExecuteTime": {
     "end_time": "2019-11-29T09:50:34.754423Z",
     "start_time": "2019-11-29T09:50:34.335100Z"
    }
   },
   "outputs": [],
   "source": []
  },
  {
   "cell_type": "markdown",
   "metadata": {},
   "source": [
    "Mir fällt beim Vergleich auf: "
   ]
  },
  {
   "cell_type": "markdown",
   "metadata": {},
   "source": [
    "**c)** Wiederholen Sie die Schritte **a)** und **b)** für $\\varphi_0 = \\pi/16.$ Was beobachten Sie?"
   ]
  },
  {
   "cell_type": "code",
   "execution_count": null,
   "metadata": {
    "ExecuteTime": {
     "end_time": "2019-11-29T09:50:38.481140Z",
     "start_time": "2019-11-29T09:50:38.329665Z"
    }
   },
   "outputs": [],
   "source": []
  },
  {
   "cell_type": "markdown",
   "metadata": {},
   "source": [
    "Ich beobachte:"
   ]
  }
 ],
 "metadata": {
  "kernelspec": {
   "display_name": "Python 3 (ipykernel)",
   "language": "python",
   "name": "python3"
  },
  "language_info": {
   "codemirror_mode": {
    "name": "ipython",
    "version": 3
   },
   "file_extension": ".py",
   "mimetype": "text/x-python",
   "name": "python",
   "nbconvert_exporter": "python",
   "pygments_lexer": "ipython3",
   "version": "3.9.7"
  },
  "latex_envs": {
   "LaTeX_envs_menu_present": true,
   "autoclose": true,
   "autocomplete": true,
   "bibliofile": "biblio.bib",
   "cite_by": "apalike",
   "current_citInitial": 1,
   "eqLabelWithNumbers": true,
   "eqNumInitial": 1,
   "hotkeys": {
    "equation": "Ctrl-E",
    "itemize": "Ctrl-I"
   },
   "labels_anchors": false,
   "latex_user_defs": false,
   "report_style_numbering": false,
   "user_envs_cfg": false
  }
 },
 "nbformat": 4,
 "nbformat_minor": 4
}
