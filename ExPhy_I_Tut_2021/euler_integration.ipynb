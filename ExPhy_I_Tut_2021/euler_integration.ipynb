{
 "cells": [
  {
   "cell_type": "markdown",
   "id": "db70e8c0",
   "metadata": {},
   "source": [
    "### <font color='red'>Das hier stellt keine Musterlösung zu irgendetwas dar, sondern soll die numerische Integration an einem Beispiel zeigen, das explizit nicht auf den Aufgabenblättern behandelt wird, um keine direkten Überschneidungen zu riskieren. Es gibt auch keine Garantien für Fehlerfreiheit.</font>"
   ]
  },
  {
   "cell_type": "markdown",
   "id": "26b49a22",
   "metadata": {},
   "source": [
    "# Numerische Integration am Beispiel des freien Falls mit Reibung\n",
    "\n",
    "\n",
    "Ein nettes kleines Video zum freien Fall gibt es hier: https://www.youtube.com/watch?v=Oy-4mPro3w8&t=467s\n",
    "\n",
    "Die Reibungskraft für große Geschwindigkeiten ist gegeben durch\n",
    "\\begin{align}\n",
    "    F_D = \\frac{1}{2} \\rho v^2 C_d A,\n",
    "\\end{align}\n",
    "wobei $A$ die frontale Angriffsfläche des fallenden Körpers ist, $C_d$ sein Reibungskoeffizient und $\\rho$ die Dichte des umgebenden Mediums (z.B. Luft).\n",
    "Zusammen mit der Gewichtskraft ergibt sich so für den Fall eines Fallschirmspringers\n",
    "\\begin{align}\n",
    "    m \\dot{v} = ma = \\sum_i F_i = -mg + \\frac{1}{2} \\rho v^2 C_d A.\n",
    "\\end{align}\n",
    "Das kann man analytisch lösen, möchte es aber vielleicht nicht. Man kann es auch numerisch integrieren. Wie immer gilt \n",
    "\\begin{align}\n",
    "    x(t+\\Delta t) = x(t) + v(t)\\Delta t,\n",
    "\\end{align}\n",
    "wobei $x$ jetzt die Höhe des Fallschirmspringers bezeichnet, und \n",
    "\\begin{align}\n",
    "    v(t+\\Delta t) = v(t) + a(t) \\Delta t.\n",
    "\\end{align}\n",
    "Hier sieht $a(t)$ allerdings anders aus, als wir es bisher kannten (da war $a=g$).\n",
    "Es ist nämlich (siehe Gleichung 1):\n",
    "\\begin{align}\n",
    "    a(t) = -g + \\frac{v(t)^2}{2m}\\rho C_d A.\n",
    "\\end{align}\n",
    "Das können wir jetzt numerisch integrieren."
   ]
  },
  {
   "cell_type": "code",
   "execution_count": 1,
   "id": "61e8f885",
   "metadata": {},
   "outputs": [],
   "source": [
    "import numpy as np\n",
    "import matplotlib.pyplot as plt"
   ]
  },
  {
   "cell_type": "markdown",
   "id": "e2729ba5",
   "metadata": {},
   "source": [
    "Für die Integration ist es am einfachsten, sich eine Funktion zu schreiben, die einen Zeitschritt ausführt. Um weniger schreiben zu müssen, können wir außerdem definieren, dass\n",
    "\\begin{equation}\n",
    "    \\kappa = \\frac{\\rho C_d A}{2m}.\n",
    "\\end{equation}\n",
    "\n",
    "Das Verfahren, mit dem wir integrieren, heißt übrigens auch das \"Euler-Verfahren\", weshalb die Funktion unten auch `euler_step` heißt."
   ]
  },
  {
   "cell_type": "code",
   "execution_count": 2,
   "id": "a289863c",
   "metadata": {},
   "outputs": [],
   "source": [
    "def euler_step(x, v, dt, kappa, g=9.81):\n",
    "    \"\"\"\n",
    "    Propagiert x und v um Zeitschritt dt in der Zeit\n",
    "    Args:\n",
    "        x: x-Wert zur Zeit t\n",
    "        v: v-Wert zur Zeit t\n",
    "        dt: Zeitschritt\n",
    "        kappa: Variable in Gleichung\n",
    "        g: Erdbeschleunigung\n",
    "        \n",
    "    Returns:\n",
    "        x, v: x und v zur Zeit t+dt\n",
    "    \"\"\"\n",
    "    # x(t+dt) = x(t) + v(t) * dt, \"x += 1\" entspricht \"x (neu) = x (alt) + 1\"\n",
    "    x += v * dt\n",
    "    # v(t+dt) = v(t) + a(t) * dt, wobei a(t) = -g + kappa * v^2 ist\n",
    "    v += (-g + kappa * v**2) * dt\n",
    "    \n",
    "    return x, v"
   ]
  },
  {
   "cell_type": "markdown",
   "id": "89044e3d",
   "metadata": {},
   "source": [
    "Jetzt können wir uns unsere Variablen definieren:"
   ]
  },
  {
   "cell_type": "code",
   "execution_count": 3,
   "id": "3ecf201c",
   "metadata": {},
   "outputs": [],
   "source": [
    "x0 = 2000 # m, Anfangshöhe des Fallschirmspringers\n",
    "v0 = 0 # m/s, Anfangsgeschwindigkeit des Fallschirmspringers\n",
    "dt = 0.001 # s, Zeitschritt für die Integration\n",
    "\n",
    "m = 80 # kg\n",
    "C_d = 1.1 # etwa der Reibungskoeffizient eines Menschen, siehe https://www.engineeringtoolbox.com/drag-coefficient-d_627.html\n",
    "A = 0.7 # Die Angriffsfläche können wir als 0.5m^2 bis 1m^2 approximieren (\"Breite mal Höhe\")\n",
    "rho = 1.205 # kg/m^3, Dichte von Luft bei 20°C und 1atm, wir ignorieren hier Dichteveränderungen in verschiedenen Höhen\n",
    "kappa = rho * A * C_d / (2*m)"
   ]
  },
  {
   "cell_type": "markdown",
   "id": "ea1935bf",
   "metadata": {},
   "source": [
    "Zur Integration können wir jetzt eine `for`-Schleife nutzen. Wir möchten aber nur solange integrieren, bis der Fallschirmspringer seinen Fallschirm öffnet (bei ca 700m Höhe). Wenn wir es uns etwas einfacher machen wollen, können wir auch eine `while` Schleife nehmen. Dann müssen wir nicht ausprobieren, wie viele Zeitschritte wir brauchen, bis der Fallschirmspringer auf 700m Höhe ist, sondern können das als Wiederholungsbedingung der Schleife nehmen. Die `while`-Schleife funktioniert so:\n",
    "```python\n",
    "while Bedingung:\n",
    "    mach was\n",
    "```\n",
    "Das können wir in unserem Fall anwenden als:\n",
    "```python\n",
    "x_t = [x0]\n",
    "while x_t[-1] > 700:\n",
    "    integiere DGL\n",
    "    x_t.append(neuer x-Wert)\n",
    "```\n",
    "Vorsicht! Hier können wir leicht eine Endlosschleife erzeugen, indem wir z.B. keine neuen Werte an `x_t` anhängen!"
   ]
  },
  {
   "cell_type": "code",
   "execution_count": 4,
   "id": "a7c23ca4",
   "metadata": {},
   "outputs": [],
   "source": [
    "x_t = [x0] # Liste, deren erster (und damit auch letzter!) Eintrag x0 ist\n",
    "v_t = [v0] # same für v und v0\n",
    "while x_t[-1] > 700:\n",
    "    # Berechne neue Werte, indem die Funktion euler_step aufgerufen wird.\n",
    "    # x_t[-1] ist der letzte Wert in der Liste, also der aktuellste x-Wert.\n",
    "    # Wir wiederholen die Schleife, solange der neuste x-Wert größer als 700m ist\n",
    "    x, v = euler_step(x_t[-1], v_t[-1], dt, kappa)\n",
    "    x_t.append(x)\n",
    "    v_t.append(v)"
   ]
  },
  {
   "cell_type": "markdown",
   "id": "71f56a9f",
   "metadata": {},
   "source": [
    "Dasselbe könnten wir auch über eine for-Schleife machen, dann müssten wir uns aber die Anzahl der Integrationsschritte überlegen. Da wir nicht genau wissen, zu welchem Zeitpunkt der Fallschirmspringer seinen Fallschirm öffnet (also wann genau er bei der \"Öffnungshöhe\" 700m angekommen ist), müssen wir jetzt allerdings schätzen. Das könnte z.B. so aussehen:\n",
    "\n",
    "```python\n",
    "x_t = [x0] # Liste, deren erster (und damit auch letzter!) Eintrag x0 ist\n",
    "v_t = [v0] # same für v und v0\n",
    "t_open = 30 # grobe Schätzung der Zeit, bei der der Fallschirm geöffnet wird\n",
    "num_steps = int(t_open / dt) # Anzahl der Schritte\n",
    "for _ in range(num_steps):\n",
    "    # Berechne neue Werte, indem die Funktion euler_step aufgerufen wird.\n",
    "    # x_t[-1] ist der letzte Wert in der Liste, also der aktuellste x-Wert.\n",
    "    # Wir wiederholen die Schleife, solange der neuste x-Wert größer als Null ist\n",
    "    x, v = euler_step(x_t[-1], v_t[-1], dt, kappa, g)\n",
    "    x_t.append(x)\n",
    "    v_t.append(v)\n",
    "```\n",
    "Der `_` in der Definition der for-Schleife sagt python, dass wir die Variable mit der Schleifennummer gar nicht unbedingt brauchen (wir nutzen sie nie)."
   ]
  },
  {
   "cell_type": "markdown",
   "id": "04164b9d",
   "metadata": {},
   "source": [
    "Wir wissen$^*$, dass die analytische Lösung für die Geschwindigkeit\n",
    "\\begin{align}\n",
    "    v(t) = \\sqrt{\\frac{g}{\\kappa}} \\tanh\\left(\\sqrt{g\\kappa}t\\right)\n",
    "\\end{align}\n",
    "ist.\n",
    "\n",
    "$^*$Zum Beispiel von hier: http://www.jasoncantarella.com/downloads/AJP001242.pdf"
   ]
  },
  {
   "cell_type": "code",
   "execution_count": 5,
   "id": "f6e5fa97",
   "metadata": {},
   "outputs": [],
   "source": [
    "def v_analytisch(t, kappa, g=9.81):\n",
    "    \"\"\"\n",
    "    Berechnet die analytische Lösung v(t)\n",
    "    Args:\n",
    "        t: Zeit\n",
    "        kappa: Variable siehe Gleichung 1\n",
    "        g: Erdbeschleunigung\n",
    "    Returns:\n",
    "        v(t): Geschwindigkeit zum Zeitpunkt t\n",
    "    \"\"\"\n",
    "    return -np.sqrt(g / kappa) * np.tanh(np.sqrt(g * kappa) * t)"
   ]
  },
  {
   "cell_type": "markdown",
   "id": "656b4394",
   "metadata": {},
   "source": [
    "Jetzt können wir das ganze plotten!"
   ]
  },
  {
   "cell_type": "code",
   "execution_count": 6,
   "id": "9a51bf64",
   "metadata": {},
   "outputs": [
    {
     "data": {
      "image/png": "[encoded data removed]",
      "text/plain": [
       "<Figure size 432x288 with 1 Axes>"
      ]
     },
     "metadata": {
      "needs_background": "light"
     },
     "output_type": "display_data"
    }
   ],
   "source": [
    "# Anzahl der Zeitschritte mal Länge eines Schritts gleich Gesamtzeit\n",
    "t = np.linspace(0, len(x_t)*dt, len(x_t))\n",
    "\n",
    "fig, ax = plt.subplots()\n",
    "ax.plot(t, v_t, label='numerische Lösung', linewidth=2)\n",
    "ax.plot(t, v_analytisch(t, kappa), label='analytische Lösung', linestyle='dashed', linewidth=4)\n",
    "ax.set_xlabel('Zeit t [s]')\n",
    "ax.set_ylabel('Fallgeschwindigkeit v [m/s]')\n",
    "ax.legend()\n",
    "plt.show()"
   ]
  },
  {
   "cell_type": "markdown",
   "id": "7b51d436",
   "metadata": {},
   "source": [
    "Das passt ziemlich gut zusammen! Wir beobachten, dass die Geschwindigkeit sich hier eine \"terminalen\" Geschwindigkeit annhähert. Das ist der Punkt, an dem sich die Reibungskraft (nach oben) und die Gewichtskraft (nach unten) ausgleichen und der Fallschirmspringer somit keine Beschleunigung mehr erfährt, da keine Netto-Kraft wirkt. \n",
    "\n",
    "Die Fallhöhe in Abhängigkeit von der Zeit sieht so aus:"
   ]
  },
  {
   "cell_type": "code",
   "execution_count": 7,
   "id": "c7993b90",
   "metadata": {},
   "outputs": [
    {
     "data": {
      "image/png": "[encoded data removed]",
      "text/plain": [
       "<Figure size 432x288 with 1 Axes>"
      ]
     },
     "metadata": {
      "needs_background": "light"
     },
     "output_type": "display_data"
    }
   ],
   "source": [
    "fig, ax = plt.subplots()\n",
    "ax.plot(t, x_t, label='numerische Lösung', linewidth=2)\n",
    "ax.set_xlabel('Zeit t [s]')\n",
    "ax.set_ylabel('Fallhöhe x [m]')\n",
    "ax.legend()\n",
    "plt.show()"
   ]
  },
  {
   "cell_type": "markdown",
   "id": "2caf0a4a",
   "metadata": {},
   "source": []
  }
 ],
 "metadata": {
  "kernelspec": {
   "display_name": "Python 3 (ipykernel)",
   "language": "python",
   "name": "python3"
  },
  "language_info": {
   "codemirror_mode": {
    "name": "ipython",
    "version": 3
   },
   "file_extension": ".py",
   "mimetype": "text/x-python",
   "name": "python",
   "nbconvert_exporter": "python",
   "pygments_lexer": "ipython3",
   "version": "3.9.7"
  }
 },
 "nbformat": 4,
 "nbformat_minor": 5
}
