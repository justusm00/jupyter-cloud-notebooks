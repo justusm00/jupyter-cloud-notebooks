{
 "cells": [
  {
   "cell_type": "markdown",
   "metadata": {},
   "source": [
    "<div style=\"text-align: right\"> 13.12.2019</div>\n",
    "\n",
    "***Name:*** \n",
    "\n",
    "# Hausaufgabe Blatt 8\n",
    "\n",
    "## Rollen: Schiefe Ebene \n",
    "\n",
    "Wir betrachten einen Zylinder mit Radius $R$, Masse $m$ und Kreismittelpunkt $M$. Wir wollen die Bewegung des Zylinders entlang einer schiefen Ebene berechnen und visualisieren. Die schiefe Ebene hat einen Neigungswinkel $\\theta = 12^{\\circ}$. Der Startpunkt des Zylinders befinde sich $h_0=1$ über dem Boden.\n",
    "\n",
    "\n",
    "<img src=\"./rollingPlane.png\" alt=\"rollingPlane\" width=\"300\"/>\n",
    "\n",
    "Die Höhe $h$ nach der auf der Ebene zurückgelegten Strecke $l$ beträgt\n",
    "$$\n",
    "h = h_0 - l \\sin \\theta\n",
    "$$\n",
    "\n",
    "und somit gilt für die potentielle Energie:\n",
    "$$\n",
    "E_{\\mathrm{pot}} = m g (h_0 - l \\sin \\theta).\n",
    "$$\n",
    "\n",
    "Die kinetische Energie setzt sich zusammen aus der Translationsenergie $E_\\mathrm{trans}=\\frac{1}{2}mv^2 = \\frac{1}{2}m\\omega^2 R^2$ und der Rotationsenergie um die Hauptrotationsachse $E_\\mathrm{rot}=\\frac{1}{2}I\\omega^2$, wobei $I$ das Trägheitsmoment des Zylinders bezüglich seiner Hauptrotationsachse ist\n",
    "$$\n",
    "E_\\mathrm{kin}= E_\\mathrm{trans} + E_\\mathrm{rot} = \\frac{1}{2}\\left(I+mR^2\\right)\\omega^2.\n",
    "$$\n",
    "\n",
    "Die potentielle Energie wird beim Rollen in kinetische Energie umgesetzt. Es gilt also nach zurückgelegter Strecke $l$\n",
    "$$\n",
    " m g l \\sin \\theta = \\frac{1}{2}\\left(I+mR^2\\right)\\omega^2.\n",
    " $$\n",
    " \n",
    "**a)** Nehmen Sie an, es handle sich um einen Vollzylinder mit der Masse $m=1$ und einem Radius $R=0.1$.\n",
    "Plotten Sie die Geschwindigkeit $v$ des Mittelpunktes $M$ in Abhängigkeit von der zurückgelegten Strecke $l$."
   ]
  },
  {
   "cell_type": "code",
   "execution_count": 3,
   "metadata": {
    "ExecuteTime": {
     "end_time": "2019-12-11T13:12:49.993694Z",
     "start_time": "2019-12-11T13:12:49.876702Z"
    }
   },
   "outputs": [
    {
     "name": "stdout",
     "output_type": "stream",
     "text": [
      "661.4661440386407\n"
     ]
    },
    {
     "data": {
      "image/png": "[encoded data removed]",
      "text/plain": [
       "<Figure size 432x288 with 1 Axes>"
      ]
     },
     "metadata": {
      "needs_background": "light"
     },
     "output_type": "display_data"
    }
   ],
   "source": [
    "import matplotlib.pyplot as plt #Pakte runterladen\n",
    "import numpy as np\n",
    "m=1 #Variablen definiren\n",
    "r=0.1\n",
    "g=-9.81\n",
    "\n",
    "def v(l): #Funktion definiert\n",
    "    return 2*np.pi*0.1*(m*g*l*np.sin(12)*2/(0.5*(m*r**2+m*r**2)))\n",
    "\n",
    "print(v(1))\n",
    "x=np.linspace(0,1.5726734063976893,500)\n",
    "plt.plot(x,v(x)) #plot der Funkktion\n",
    "\n",
    "#plot einstellungen\n",
    "plt.title(\"Geschwindigkeit über Zeit aufgetragen\")\n",
    "plt.grid()\n",
    "plt.show()"
   ]
  },
  {
   "cell_type": "markdown",
   "metadata": {},
   "source": [
    "**b)** Plotten Sie die $y$-Komponente des Punktes $A$ gegen die Zeit $t$ im mit dem Mittelpunkt M translatierenden Koordinatensystem. Plotten Sie ebenfalls die Bahnkurve (also $x(t)$ gegen $y(t)$) des Mittelpunkts $M$ und die Bahnkurve des Punktes $A$ im ruhenden Bezugssystem. Hinweis: Die Situation hier ähnelt Übungsblattaufgabe Nr. 2.5."
   ]
  },
  {
   "cell_type": "code",
   "execution_count": 2,
   "metadata": {},
   "outputs": [
    {
     "ename": "NameError",
     "evalue": "name 'l' is not defined",
     "output_type": "error",
     "traceback": [
      "\u001b[0;31m---------------------------------------------------------------------------\u001b[0m",
      "\u001b[0;31mNameError\u001b[0m                                 Traceback (most recent call last)",
      "\u001b[0;32m/tmp/ipykernel_345/3567408251.py\u001b[0m in \u001b[0;36m<module>\u001b[0;34m\u001b[0m\n\u001b[1;32m      1\u001b[0m \u001b[0;31m# Hilfe zur Berechnung von t:\u001b[0m\u001b[0;34m\u001b[0m\u001b[0;34m\u001b[0m\u001b[0m\n\u001b[1;32m      2\u001b[0m \u001b[0mt\u001b[0m \u001b[0;34m=\u001b[0m \u001b[0mnp\u001b[0m\u001b[0;34m.\u001b[0m\u001b[0mzeros_like\u001b[0m\u001b[0;34m(\u001b[0m\u001b[0mv\u001b[0m\u001b[0;34m)\u001b[0m \u001b[0;31m# hier ist v die vorher berechnete Geschwindigkeit v\u001b[0m\u001b[0;34m\u001b[0m\u001b[0;34m\u001b[0m\u001b[0m\n\u001b[0;32m----> 3\u001b[0;31m \u001b[0mt\u001b[0m\u001b[0;34m[\u001b[0m\u001b[0;36m1\u001b[0m\u001b[0;34m:\u001b[0m\u001b[0;34m]\u001b[0m \u001b[0;34m=\u001b[0m \u001b[0ml\u001b[0m\u001b[0;34m[\u001b[0m\u001b[0;36m1\u001b[0m\u001b[0;34m:\u001b[0m\u001b[0;34m]\u001b[0m \u001b[0;34m/\u001b[0m \u001b[0mv\u001b[0m\u001b[0;34m[\u001b[0m\u001b[0;36m1\u001b[0m\u001b[0;34m:\u001b[0m\u001b[0;34m]\u001b[0m \u001b[0;31m# Berechnung der Zeit; l ist die zurückgelegte Distanz wie in der Aufgabenstellung beschrieben\u001b[0m\u001b[0;34m\u001b[0m\u001b[0;34m\u001b[0m\u001b[0m\n\u001b[0m\u001b[1;32m      4\u001b[0m \u001b[0;31m# Diese Art auf arrays zuzugreifen nennt man *slicing*.\u001b[0m\u001b[0;34m\u001b[0m\u001b[0;34m\u001b[0m\u001b[0m\n\u001b[1;32m      5\u001b[0m \u001b[0;34m\u001b[0m\u001b[0m\n",
      "\u001b[0;31mNameError\u001b[0m: name 'l' is not defined"
     ]
    }
   ],
   "source": [
    "# Hilfe zur Berechnung von t:\n",
    "t = np.zeros_like(v) # hier ist v die vorher berechnete Geschwindigkeit v\n",
    "t[1:] = l[1:] / v[1:] # Berechnung der Zeit; l ist die zurückgelegte Distanz wie in der Aufgabenstellung beschrieben\n",
    "# Diese Art auf arrays zuzugreifen nennt man *slicing*. \n",
    "\n",
    "# Berechne die Koordinaten x und y von M in Abhängigkeit von l und theta\n",
    "\n",
    "\n",
    "# Berechne die Koordinaten des Punkts A im mit dem Mittelpunkt M translatierenden Koordinatensystem abhängig von R, omega und t\n",
    "\n",
    "# Berechne aus den Koordinaten x und y und aus den Koordianten des Punkts A im mit dem Mittelpunkt M translatierenden Koordinatensystem\n",
    "# die Koordinaten des Punkts A im ruhenden Bezugssystem (Tipp: Addition)\n",
    "\n",
    "\n",
    "# Plotte y-Koordinate des Punkts A im mit dem Punkt M tanslatierenden Koordinatensystem \n",
    "\n",
    "# Plotte Trajektorie von Mittelpunkt M und Punkt A"
   ]
  },
  {
   "cell_type": "code",
   "execution_count": null,
   "metadata": {},
   "outputs": [],
   "source": [
    "1/np.tan(12)"
   ]
  }
 ],
 "metadata": {
  "kernelspec": {
   "display_name": "Python 3 (ipykernel)",
   "language": "python",
   "name": "python3"
  },
  "language_info": {
   "codemirror_mode": {
    "name": "ipython",
    "version": 3
   },
   "file_extension": ".py",
   "mimetype": "text/x-python",
   "name": "python",
   "nbconvert_exporter": "python",
   "pygments_lexer": "ipython3",
   "version": "3.9.7"
  },
  "latex_envs": {
   "LaTeX_envs_menu_present": true,
   "autoclose": true,
   "autocomplete": true,
   "bibliofile": "biblio.bib",
   "cite_by": "apalike",
   "current_citInitial": 1,
   "eqLabelWithNumbers": true,
   "eqNumInitial": 1,
   "hotkeys": {
    "equation": "Ctrl-E",
    "itemize": "Ctrl-I"
   },
   "labels_anchors": false,
   "latex_user_defs": false,
   "report_style_numbering": false,
   "user_envs_cfg": false
  }
 },
 "nbformat": 4,
 "nbformat_minor": 4
}
