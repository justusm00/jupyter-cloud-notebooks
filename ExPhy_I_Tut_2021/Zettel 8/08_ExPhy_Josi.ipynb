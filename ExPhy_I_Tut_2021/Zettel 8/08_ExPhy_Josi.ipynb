{
 "cells": [
  {
   "cell_type": "markdown",
   "metadata": {},
   "source": [
    "<div style=\"text-align: right\"> 13.12.2019</div>\n",
    "\n",
    "***Name:*** \n",
    "\n",
    "# Hausaufgabe Blatt 8\n",
    "\n",
    "## Rollen: Schiefe Ebene \n",
    "\n",
    "Wir betrachten einen Zylinder mit Radius $R$, Masse $m$ und Kreismittelpunkt $M$. Wir wollen die Bewegung des Zylinders entlang einer schiefen Ebene berechnen und visualisieren. Die schiefe Ebene hat einen Neigungswinkel $\\theta = 12^{\\circ}$. Der Startpunkt des Zylinders befinde sich $h_0=1$ über dem Boden.\n",
    "\n",
    "\n",
    "<img src=\"./rollingPlane.png\" alt=\"rollingPlane\" width=\"300\"/>\n",
    "\n",
    "Die Höhe $h$ nach der auf der Ebene zurückgelegten Strecke $l$ beträgt\n",
    "$$\n",
    "h = h_0 - l \\sin \\theta\n",
    "$$\n",
    "\n",
    "und somit gilt für die potentielle Energie:\n",
    "$$\n",
    "E_{\\mathrm{pot}} = m g (h_0 - l \\sin \\theta).\n",
    "$$\n",
    "\n",
    "Die kinetische Energie setzt sich zusammen aus der Translationsenergie $E_\\mathrm{trans}=\\frac{1}{2}mv^2 = \\frac{1}{2}m\\omega^2 R^2$ und der Rotationsenergie um die Hauptrotationsachse $E_\\mathrm{rot}=\\frac{1}{2}I\\omega^2$, wobei $I$ das Trägheitsmoment des Zylinders bezüglich seiner Hauptrotationsachse ist\n",
    "$$\n",
    "E_\\mathrm{kin}= E_\\mathrm{trans} + E_\\mathrm{rot} = \\frac{1}{2}\\left(I+mR^2\\right)\\omega^2.\n",
    "$$\n",
    "\n",
    "Die potentielle Energie wird beim Rollen in kinetische Energie umgesetzt. Es gilt also nach zurückgelegter Strecke $l$\n",
    "$$\n",
    " m g l \\sin \\theta = \\frac{1}{2}\\left(I+mR^2\\right)\\omega^2.\n",
    " $$\n",
    " \n",
    "**a)** Nehmen Sie an, es handle sich um einen Vollzylinder mit der Masse $m=1$ und einem Radius $R=0.1$.\n",
    "Plotten Sie die Geschwindigkeit $v$ des Mittelpunktes $M$ in Abhängigkeit von der zurückgelegten Strecke $l$."
   ]
  },
  {
   "cell_type": "code",
   "execution_count": 5,
   "metadata": {
    "ExecuteTime": {
     "end_time": "2019-12-11T13:12:49.993694Z",
     "start_time": "2019-12-11T13:12:49.876702Z"
    }
   },
   "outputs": [
    {
     "data": {
      "image/png": "[encoded data removed]",
      "text/plain": [
       "<Figure size 432x288 with 1 Axes>"
      ]
     },
     "metadata": {
      "needs_background": "light"
     },
     "output_type": "display_data"
    }
   ],
   "source": [
    "import numpy as np\n",
    "import matplotlib.pyplot as plt\n",
    "m = 1\n",
    "R = 0.1\n",
    "g=9.81\n",
    "h0=1\n",
    "theta = 0.20944\n",
    "I=0.5*m*R**2\n",
    "v=[]\n",
    "h=[]\n",
    "N=10000\n",
    "ds=0.001\n",
    "s=[]\n",
    "\n",
    "#Nebenrechnungen\n",
    "# 1/2 I v^2/r^2 + 1/2 m v^2 = mglsin(theta)\n",
    "# v^2 (0.5I/r**2 + 0.5m) = mglsin(theta)\n",
    "\n",
    "for i in range(N):\n",
    "    x=i*ds\n",
    "    s.append(x)\n",
    "    \n",
    "    hneu = h0-s[i]*np.sin(theta)\n",
    "    h.append(hneu)\n",
    "    \n",
    "    vneu = (m*g*s[i]*np.sin(theta)/(0.5*I*1/R**2 + 0.5*m))**0.5\n",
    "    v.append(vneu)\n",
    "    \n",
    "\n",
    "fig, ax = plt.subplots()\n",
    "\n",
    "ax.set_title(\"Geschwindigkeit\")  # Titel\n",
    "ax.plot(s, v, label='Geschwindigkeit')  \n",
    "ax.set_xlabel(\"Weg $m$\")\n",
    "ax.set_ylabel(\"Geschwindigkeit $m/s$\")\n",
    "\n",
    "plt.legend(loc=2)\n",
    "plt.show()"
   ]
  },
  {
   "cell_type": "markdown",
   "metadata": {},
   "source": [
    "**b)** Plotten Sie die $y$-Komponente des Punktes $A$ gegen die Zeit $t$ im mit dem Mittelpunkt M translatierenden Koordinatensystem. Plotten Sie ebenfalls die Bahnkurve (also $x(t)$ gegen $y(t)$) des Mittelpunkts $M$ und die Bahnkurve des Punktes $A$ im ruhenden Bezugssystem. Hinweis: Die Situation hier ähnelt Übungsblattaufgabe Nr. 2.5."
   ]
  },
  {
   "cell_type": "code",
   "execution_count": 2,
   "metadata": {},
   "outputs": [
    {
     "ename": "NameError",
     "evalue": "name 'yWeg' is not defined",
     "output_type": "error",
     "traceback": [
      "\u001b[0;31m---------------------------------------------------------------------------\u001b[0m",
      "\u001b[0;31mNameError\u001b[0m                                 Traceback (most recent call last)",
      "\u001b[0;32m/tmp/ipykernel_191/1567356665.py\u001b[0m in \u001b[0;36m<module>\u001b[0;34m\u001b[0m\n\u001b[1;32m     23\u001b[0m     \u001b[0mdyneu\u001b[0m \u001b[0;34m=\u001b[0m \u001b[0;36m1\u001b[0m\u001b[0;34m-\u001b[0m\u001b[0mh\u001b[0m\u001b[0;34m[\u001b[0m\u001b[0mi\u001b[0m\u001b[0;34m]\u001b[0m\u001b[0;34m\u001b[0m\u001b[0;34m\u001b[0m\u001b[0m\n\u001b[1;32m     24\u001b[0m     \u001b[0mdy\u001b[0m\u001b[0;34m.\u001b[0m\u001b[0mappend\u001b[0m\u001b[0;34m(\u001b[0m\u001b[0mdyneu\u001b[0m\u001b[0;34m)\u001b[0m\u001b[0;34m\u001b[0m\u001b[0;34m\u001b[0m\u001b[0m\n\u001b[0;32m---> 25\u001b[0;31m     \u001b[0mxmomentan\u001b[0m\u001b[0;34m=\u001b[0m\u001b[0;34m(\u001b[0m\u001b[0ms\u001b[0m\u001b[0;34m[\u001b[0m\u001b[0mi\u001b[0m\u001b[0;34m]\u001b[0m\u001b[0;34m**\u001b[0m\u001b[0;36m2\u001b[0m\u001b[0;34m-\u001b[0m\u001b[0myWeg\u001b[0m\u001b[0;34m[\u001b[0m\u001b[0mi\u001b[0m\u001b[0;34m]\u001b[0m\u001b[0;34m**\u001b[0m\u001b[0;36m2\u001b[0m\u001b[0;34m)\u001b[0m\u001b[0;34m**\u001b[0m\u001b[0;36m0.5\u001b[0m\u001b[0;34m\u001b[0m\u001b[0;34m\u001b[0m\u001b[0m\n\u001b[0m\u001b[1;32m     26\u001b[0m     \u001b[0mx\u001b[0m\u001b[0;34m.\u001b[0m\u001b[0mappend\u001b[0m\u001b[0;34m(\u001b[0m\u001b[0mxmomentan\u001b[0m\u001b[0;34m)\u001b[0m\u001b[0;34m\u001b[0m\u001b[0;34m\u001b[0m\u001b[0m\n\u001b[1;32m     27\u001b[0m \u001b[0;31m#hierbei ist dy die Änderung der Höhe, y=h die aktuelle y-Koordinate und x die x-Koordinate\u001b[0m\u001b[0;34m\u001b[0m\u001b[0;34m\u001b[0m\u001b[0m\n",
      "\u001b[0;31mNameError\u001b[0m: name 'yWeg' is not defined"
     ]
    }
   ],
   "source": [
    "#Berechnung von t\n",
    "\n",
    "#Nebenrechnungen\n",
    "#s = 0,5 · a · t2\n",
    "#a=v/t\n",
    "#s=0.5*v*t\n",
    "#t=2s/v\n",
    "\n",
    "t = [0]\n",
    "for i in range (1, N):\n",
    "    z =2*s[i]/v[i]\n",
    "    t.append(z) #Berechnung der Zeit;s ist die zurückgelegte Distanz wie in der Aufgabenstellung mit l beschrieben\n",
    "\n",
    "\n",
    "# Berechne die Koordinaten x und y von M in Abhängigkeit von l und theta\n",
    "# h bereits oben berechnet\n",
    "x=[]\n",
    "dy=[]\n",
    "y=h\n",
    "\n",
    "#Pythagoras s^2=x^2+y^2\n",
    "for i in range (N):\n",
    "    dyneu = 1-h[i]\n",
    "    dy.append(dyneu)\n",
    "    xmomentan=(s[i]**2-yWeg[i]**2)**0.5\n",
    "    x.append(xmomentan)\n",
    "#hierbei ist dy die Änderung der Höhe, y=h die aktuelle y-Koordinate und x die x-Koordinate\n",
    "\n",
    "#alle Angaben in Annahme, M befand sich zu t=0 in Punkt (0,1), also über der \"Kante\" der Rampe, \n",
    "#nicht um R in x-Richtung verschoben\n",
    "\n",
    "\n",
    "\n",
    "# Berechne die Koordinaten des Punkts A im mit dem Mittelpunkt M translatierenden Koordinatensystem \n",
    "#abhängig von R, omega und t\n",
    "\n",
    "#R rotiert immer um M: x=R*cos(phi), y=R*sin(phi) wobei v=w*R, also\n",
    "w=[]\n",
    "phi=[]\n",
    "xA=[]\n",
    "yA=[]\n",
    "for i in range (N):\n",
    "    omega=v[i]/R\n",
    "    w.append(omega)\n",
    "#phi=omega*t\n",
    "    phiNeu=w[i]*t[i]\n",
    "    phi.append(phiNeu)\n",
    "    xANeu=-R*np.cos(phi[i]) #Minus für Drehrichtung\n",
    "    xA.append(xANeu)\n",
    "    yANeu=R*np.sin(phi[i])\n",
    "    yA.append(yANeu)\n",
    "\n",
    "\n",
    "# Berechne aus den Koordinaten x und y und aus den Koordianten des Punkts A im mit dem Mittelpunkt M \n",
    "# translatierenden Koordinatensystem\n",
    "# die Koordinaten des Punkts A im ruhenden Bezugssystem (Tipp: Addition)\n",
    "\n",
    "xAruhend=[]\n",
    "yAruhend=[]\n",
    "for i in range (N):\n",
    "    xAruhendNeu=x[i]+xA[i]\n",
    "    xAruhend.append(xAruhendNeu)\n",
    "    yAruhendNeu=y[i]+yA[i]\n",
    "    yAruhend.append(yAruhendNeu)\n",
    "\n"
   ]
  },
  {
   "cell_type": "code",
   "execution_count": 3,
   "metadata": {},
   "outputs": [
    {
     "ename": "NameError",
     "evalue": "name 'yA' is not defined",
     "output_type": "error",
     "traceback": [
      "\u001b[0;31m---------------------------------------------------------------------------\u001b[0m",
      "\u001b[0;31mNameError\u001b[0m                                 Traceback (most recent call last)",
      "\u001b[0;32m/tmp/ipykernel_191/2115337282.py\u001b[0m in \u001b[0;36m<module>\u001b[0;34m\u001b[0m\n\u001b[1;32m      4\u001b[0m \u001b[0;34m\u001b[0m\u001b[0m\n\u001b[1;32m      5\u001b[0m \u001b[0max\u001b[0m\u001b[0;34m.\u001b[0m\u001b[0mset_title\u001b[0m\u001b[0;34m(\u001b[0m\u001b[0;34m\"Rotierendes Bezugssystem\"\u001b[0m\u001b[0;34m)\u001b[0m  \u001b[0;31m# Titel\u001b[0m\u001b[0;34m\u001b[0m\u001b[0;34m\u001b[0m\u001b[0m\n\u001b[0;32m----> 6\u001b[0;31m \u001b[0max\u001b[0m\u001b[0;34m.\u001b[0m\u001b[0mplot\u001b[0m\u001b[0;34m(\u001b[0m\u001b[0mt\u001b[0m\u001b[0;34m,\u001b[0m \u001b[0myA\u001b[0m\u001b[0;34m)\u001b[0m\u001b[0;34m\u001b[0m\u001b[0;34m\u001b[0m\u001b[0m\n\u001b[0m\u001b[1;32m      7\u001b[0m \u001b[0max\u001b[0m\u001b[0;34m.\u001b[0m\u001b[0mset_xlabel\u001b[0m\u001b[0;34m(\u001b[0m\u001b[0;34m\"Zeit $s$\"\u001b[0m\u001b[0;34m)\u001b[0m\u001b[0;34m\u001b[0m\u001b[0;34m\u001b[0m\u001b[0m\n\u001b[1;32m      8\u001b[0m \u001b[0max\u001b[0m\u001b[0;34m.\u001b[0m\u001b[0mset_ylabel\u001b[0m\u001b[0;34m(\u001b[0m\u001b[0;34m\"y\"\u001b[0m\u001b[0;34m)\u001b[0m\u001b[0;34m\u001b[0m\u001b[0;34m\u001b[0m\u001b[0m\n",
      "\u001b[0;31mNameError\u001b[0m: name 'yA' is not defined"
     ]
    },
    {
     "data": {
      "image/png": "[encoded data removed]",
      "text/plain": [
       "<Figure size 432x288 with 1 Axes>"
      ]
     },
     "metadata": {
      "needs_background": "light"
     },
     "output_type": "display_data"
    }
   ],
   "source": [
    "\n",
    "# Plotte y-Koordinate des Punkts A im mit dem Punkt M tanslatierenden Koordinatensystem \n",
    "\n",
    "fig, ax = plt.subplots()\n",
    "\n",
    "ax.set_title(\"Rotierendes Bezugssystem\")  # Titel\n",
    "ax.plot(t, yA)  \n",
    "ax.set_xlabel(\"Zeit $s$\")\n",
    "ax.set_ylabel(\"y\")\n",
    "\n",
    "plt.show()\n",
    "\n",
    "fig, ax = plt.subplots()\n",
    "\n",
    "ax.set_title(\"Rotierendes Bezugssystem\")  # Titel\n",
    "ax.plot(xA, yA)  \n",
    "ax.set_xlabel(\"Zeit $s$\")\n",
    "ax.set_ylabel(\"y\")\n",
    "\n",
    "plt.show()"
   ]
  },
  {
   "cell_type": "code",
   "execution_count": 4,
   "metadata": {},
   "outputs": [
    {
     "ename": "NameError",
     "evalue": "name 'xAruhend' is not defined",
     "output_type": "error",
     "traceback": [
      "\u001b[0;31m---------------------------------------------------------------------------\u001b[0m",
      "\u001b[0;31mNameError\u001b[0m                                 Traceback (most recent call last)",
      "\u001b[0;32m/tmp/ipykernel_191/2084898958.py\u001b[0m in \u001b[0;36m<module>\u001b[0;34m\u001b[0m\n\u001b[1;32m      3\u001b[0m \u001b[0;34m\u001b[0m\u001b[0m\n\u001b[1;32m      4\u001b[0m \u001b[0max\u001b[0m\u001b[0;34m.\u001b[0m\u001b[0mset_title\u001b[0m\u001b[0;34m(\u001b[0m\u001b[0;34m\"Ruhendes Bezugssystem\"\u001b[0m\u001b[0;34m)\u001b[0m  \u001b[0;31m# Titel\u001b[0m\u001b[0;34m\u001b[0m\u001b[0;34m\u001b[0m\u001b[0m\n\u001b[0;32m----> 5\u001b[0;31m \u001b[0max\u001b[0m\u001b[0;34m.\u001b[0m\u001b[0mplot\u001b[0m\u001b[0;34m(\u001b[0m\u001b[0mxAruhend\u001b[0m\u001b[0;34m,\u001b[0m \u001b[0myAruhend\u001b[0m\u001b[0;34m,\u001b[0m \u001b[0mlabel\u001b[0m\u001b[0;34m=\u001b[0m\u001b[0;34m\"Punkt A\"\u001b[0m\u001b[0;34m)\u001b[0m\u001b[0;34m\u001b[0m\u001b[0;34m\u001b[0m\u001b[0m\n\u001b[0m\u001b[1;32m      6\u001b[0m \u001b[0max\u001b[0m\u001b[0;34m.\u001b[0m\u001b[0mplot\u001b[0m\u001b[0;34m(\u001b[0m\u001b[0mx\u001b[0m\u001b[0;34m,\u001b[0m \u001b[0my\u001b[0m\u001b[0;34m,\u001b[0m \u001b[0mlabel\u001b[0m\u001b[0;34m=\u001b[0m\u001b[0;34m\"Punkt M\"\u001b[0m\u001b[0;34m)\u001b[0m\u001b[0;34m\u001b[0m\u001b[0;34m\u001b[0m\u001b[0m\n\u001b[1;32m      7\u001b[0m \u001b[0max\u001b[0m\u001b[0;34m.\u001b[0m\u001b[0mset_xlabel\u001b[0m\u001b[0;34m(\u001b[0m\u001b[0;34m\"x\"\u001b[0m\u001b[0;34m)\u001b[0m\u001b[0;34m\u001b[0m\u001b[0;34m\u001b[0m\u001b[0m\n",
      "\u001b[0;31mNameError\u001b[0m: name 'xAruhend' is not defined"
     ]
    },
    {
     "data": {
      "image/png": "[encoded data removed]",
      "text/plain": [
       "<Figure size 432x288 with 1 Axes>"
      ]
     },
     "metadata": {
      "needs_background": "light"
     },
     "output_type": "display_data"
    }
   ],
   "source": [
    "# Plotte Trajektorie von Mittelpunkt M und Punkt A\n",
    "fig, ax = plt.subplots()\n",
    "\n",
    "ax.set_title(\"Ruhendes Bezugssystem\")  # Titel\n",
    "ax.plot(xAruhend, yAruhend, label=\"Punkt A\")  \n",
    "ax.plot(x, y, label=\"Punkt M\") \n",
    "ax.set_xlabel(\"x\")\n",
    "ax.set_ylabel(\"y\")\n",
    "\n",
    "\n",
    "plt.show()"
   ]
  },
  {
   "cell_type": "code",
   "execution_count": null,
   "metadata": {},
   "outputs": [],
   "source": []
  },
  {
   "cell_type": "code",
   "execution_count": null,
   "metadata": {},
   "outputs": [],
   "source": []
  }
 ],
 "metadata": {
  "kernelspec": {
   "display_name": "Python 3 (ipykernel)",
   "language": "python",
   "name": "python3"
  },
  "language_info": {
   "codemirror_mode": {
    "name": "ipython",
    "version": 3
   },
   "file_extension": ".py",
   "mimetype": "text/x-python",
   "name": "python",
   "nbconvert_exporter": "python",
   "pygments_lexer": "ipython3",
   "version": "3.9.7"
  },
  "latex_envs": {
   "LaTeX_envs_menu_present": true,
   "autoclose": true,
   "autocomplete": true,
   "bibliofile": "biblio.bib",
   "cite_by": "apalike",
   "current_citInitial": 1,
   "eqLabelWithNumbers": true,
   "eqNumInitial": 1,
   "hotkeys": {
    "equation": "Ctrl-E",
    "itemize": "Ctrl-I"
   },
   "labels_anchors": false,
   "latex_user_defs": false,
   "report_style_numbering": false,
   "user_envs_cfg": false
  }
 },
 "nbformat": 4,
 "nbformat_minor": 4
}
