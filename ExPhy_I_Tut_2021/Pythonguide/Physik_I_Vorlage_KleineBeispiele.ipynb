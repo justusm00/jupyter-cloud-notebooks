{
 "cells": [
  {
   "cell_type": "markdown",
   "id": "d640bdeb-eb03-47b2-8eb0-fbf3462284b7",
   "metadata": {},
   "source": [
    "**Beispielcodes**"
   ]
  },
  {
   "cell_type": "code",
   "execution_count": 1,
   "id": "c1705e4d-8077-4311-a12d-698e5e75e433",
   "metadata": {},
   "outputs": [
    {
     "name": "stdout",
     "output_type": "stream",
     "text": [
      "2\n"
     ]
    }
   ],
   "source": [
    "k=1+1\n",
    "print(k)"
   ]
  },
  {
   "cell_type": "markdown",
   "id": "282f6a77-0e13-445b-95c0-4f530347dd12",
   "metadata": {},
   "source": [
    "**Bibliotheken importieren und Arrays definieren**"
   ]
  },
  {
   "cell_type": "code",
   "execution_count": 2,
   "id": "d221a01a-66ee-4f18-a504-4fdb11f189ab",
   "metadata": {},
   "outputs": [
    {
     "data": {
      "text/plain": [
       "array([[1, 2],\n",
       "       [3, 4]])"
      ]
     },
     "execution_count": 2,
     "metadata": {},
     "output_type": "execute_result"
    }
   ],
   "source": [
    "import numpy as np         # Bibliothek laden\n",
    "\n",
    "t=[0.1, 0.2, 0.3]          # einen Vektor t definieren\n",
    "\n",
    "\n",
    "c=np.array([[1,2], [3,4]]) # einen Array definieren, in dessen erster Zeile 1 und 2 steht und in der 2. Zeile 3 und 4\n",
    "c[0,1]                     # Adressierung 2. Spalte, 1. Zeile\n",
    "c[0,:]                     # Adressierung ganze 1. Zeile\n",
    "c"
   ]
  },
  {
   "cell_type": "markdown",
   "id": "66ef4c61-8d0c-4d0f-b6fa-95e6844f80bd",
   "metadata": {},
   "source": [
    "**Range**"
   ]
  },
  {
   "cell_type": "code",
   "execution_count": 6,
   "id": "5b0baded-c10f-4b7a-9f33-bfc4084adf59",
   "metadata": {},
   "outputs": [
    {
     "name": "stdout",
     "output_type": "stream",
     "text": [
      "range(0, 10)\n"
     ]
    }
   ],
   "source": [
    "trange=range(0,10,1)      # definiere range\n",
    "print(trange)"
   ]
  },
  {
   "cell_type": "markdown",
   "id": "3be1dc04-8ce0-4fc9-bde9-e988919b4e5e",
   "metadata": {},
   "source": [
    "**Arrays mit gleich großen Intervallen**"
   ]
  },
  {
   "cell_type": "code",
   "execution_count": 7,
   "id": "16553509-66fd-49f2-b5f9-789525f8f089",
   "metadata": {},
   "outputs": [
    {
     "name": "stdout",
     "output_type": "stream",
     "text": [
      "[ 0.   0.1  0.2  0.3  0.4  0.5  0.6  0.7  0.8  0.9  1.   1.1  1.2  1.3\n",
      "  1.4  1.5  1.6  1.7  1.8  1.9  2.   2.1  2.2  2.3  2.4  2.5  2.6  2.7\n",
      "  2.8  2.9  3.   3.1  3.2  3.3  3.4  3.5  3.6  3.7  3.8  3.9  4.   4.1\n",
      "  4.2  4.3  4.4  4.5  4.6  4.7  4.8  4.9  5.   5.1  5.2  5.3  5.4  5.5\n",
      "  5.6  5.7  5.8  5.9  6.   6.1  6.2  6.3  6.4  6.5  6.6  6.7  6.8  6.9\n",
      "  7.   7.1  7.2  7.3  7.4  7.5  7.6  7.7  7.8  7.9  8.   8.1  8.2  8.3\n",
      "  8.4  8.5  8.6  8.7  8.8  8.9  9.   9.1  9.2  9.3  9.4  9.5  9.6  9.7\n",
      "  9.8  9.9 10. ]\n"
     ]
    }
   ],
   "source": [
    "tstart=0                  # Zeit Anfang\n",
    "tend=10                   # Zeit Ende\n",
    "deltat=0.1                # Zeitintervall\n",
    "tarray=np.linspace(tstart, tend, int((tend-tstart)/deltat)+1) # Zeitarray mit gleichverteilten Zeitpunkten\n",
    "print(tarray)"
   ]
  },
  {
   "cell_type": "markdown",
   "id": "ae76e2d6-e007-4672-a3c6-fdae38f86bdd",
   "metadata": {},
   "source": [
    "**for-Schleife**"
   ]
  },
  {
   "cell_type": "code",
   "execution_count": 8,
   "id": "a2b594c7-6dc8-42e8-a56a-f3382efbaefa",
   "metadata": {},
   "outputs": [
    {
     "name": "stdout",
     "output_type": "stream",
     "text": [
      "[[ 0.     0.981  1.962  2.943  3.924  4.905  5.886  6.867  7.848  8.829\n",
      "   9.81  10.791 11.772 12.753 13.734 14.715 15.696 16.677 17.658 18.639\n",
      "  19.62  20.601 21.582 22.563 23.544 24.525 25.506 26.487 27.468 28.449\n",
      "  29.43  30.411 31.392 32.373 33.354 34.335 35.316 36.297 37.278 38.259\n",
      "  39.24  40.221 41.202 42.183 43.164 44.145 45.126 46.107 47.088 48.069\n",
      "  49.05  50.031 51.012 51.993 52.974 53.955 54.936 55.917 56.898 57.879\n",
      "  58.86  59.841 60.822 61.803 62.784 63.765 64.746 65.727 66.708 67.689\n",
      "  68.67  69.651 70.632 71.613 72.594 73.575 74.556 75.537 76.518 77.499\n",
      "  78.48  79.461 80.442 81.423 82.404 83.385 84.366 85.347 86.328 87.309\n",
      "  88.29  89.271 90.252 91.233 92.214 93.195 94.176 95.157 96.138 97.119]]\n"
     ]
    }
   ],
   "source": [
    "v0=0                     # Anfangswert Geschwindigkeit\n",
    "x0=0                     # Anfangswert Ort\n",
    "g=9.81                   # Beschleunigung\n",
    "tstart=0                 # Anfangswert Zeit\n",
    "tend=10                  # Endwert Zeit\n",
    "deltat=0.1               # Zeitintervall\n",
    "anzahlt=(tend-tstart)/deltat # Anzahl der Zeitintervalle\n",
    "v=np.zeros((int(anzahlt),1)) # Definition der Geschwindigkeit vor der Berechnung (alles auf 0 setzen)\n",
    "v[0]=v0 # setze den ersten Eintrag des Arrays v auf v0\n",
    "for k in range(1, int(anzahlt)): # for-Schleife zur Berechnung von v\n",
    "    v[k]=v[k-1]+deltat*g # Berechnung von v[k]\n",
    "\n",
    "print(np.transpose(v)) # Ausgabe von v"
   ]
  },
  {
   "cell_type": "markdown",
   "id": "77b1a96b-34bd-4e8c-9c04-370d3dadfbbf",
   "metadata": {},
   "source": [
    "**if-Bedingung**"
   ]
  },
  {
   "cell_type": "code",
   "execution_count": 9,
   "id": "70db33cf-0840-419a-b091-2a4e0dd1b26d",
   "metadata": {},
   "outputs": [
    {
     "name": "stdout",
     "output_type": "stream",
     "text": [
      "10\n"
     ]
    }
   ],
   "source": [
    "testt=np.linspace(0,49.5,100)   # definiere einen Array\n",
    "\n",
    "for m in range(0,100): # for-Schleife, die durch den ganzen Array iteriert\n",
    "     if testt[m]==5:   # if-Bedingung, ob ein Wert in testt 5 annimmt\n",
    "        print(m)       # gibt den Index aus, bei dem testt den Wert 5 annimmt"
   ]
  },
  {
   "cell_type": "markdown",
   "id": "9525749f-5ad9-4e9a-9292-bd3b6f3c5d4f",
   "metadata": {},
   "source": [
    "**while-Bedingung**"
   ]
  },
  {
   "cell_type": "code",
   "execution_count": 10,
   "id": "9b269c61-aeb9-45d5-9175-8ff3e4dc459b",
   "metadata": {},
   "outputs": [
    {
     "name": "stdout",
     "output_type": "stream",
     "text": [
      "[0.981]\n",
      "[1.962]\n",
      "[2.943]\n",
      "[3.924]\n",
      "[4.905]\n",
      "[5.886]\n"
     ]
    }
   ],
   "source": [
    "k=0\n",
    "v=np.zeros((int(anzahlt),1)) # Definition der Geschwindigkeit vor der Berechnung (alles auf 0 setzen)\n",
    "v[0]=v0                      # setze den ersten Eintrag des Arrays v auf v0\n",
    "\n",
    "while v[k]<5:               # while-Bedingung\n",
    "    k=k+1                   # Zähler erhöhen\n",
    "    v[k]=v[k-1]+g*deltat    # Berechnung von v\n",
    "    print(v[k])             # Ausgabe von v\n"
   ]
  },
  {
   "cell_type": "markdown",
   "id": "2419e37f-dd5c-4ccc-880e-00ad59499a03",
   "metadata": {},
   "source": [
    "**Funktionen**"
   ]
  },
  {
   "cell_type": "code",
   "execution_count": 11,
   "id": "ffbbad74-76f4-406a-bf88-00dba85c48a7",
   "metadata": {},
   "outputs": [
    {
     "name": "stdout",
     "output_type": "stream",
     "text": [
      "19.62\n"
     ]
    }
   ],
   "source": [
    "def gewichtskraft(m,g): # die  Funktion  heisst  gewichtskraft\n",
    "                       # und  Ihr  wird  die  Masse m und die  Gravitationskonstakte g\n",
    "                       # uebergebe\n",
    "    return m*g         # Kraftberechnung\n",
    "\n",
    "m=2                    # definiere Masse\n",
    "g=9.81                 # definiere Beschleunigung\n",
    "F=gewichtskraft(m,g)   # berechne Gewichtskraft über Funktionsaufruf\n",
    "print(F)               # gib Kraft aus"
   ]
  },
  {
   "cell_type": "markdown",
   "id": "8aaac969-1b3d-4bff-9b88-c0b7cec1d130",
   "metadata": {},
   "source": [
    "**Daten importieren**"
   ]
  },
  {
   "cell_type": "code",
   "execution_count": 12,
   "id": "d26ffbee-80e2-48c5-928c-b6f05e12d85a",
   "metadata": {},
   "outputs": [
    {
     "name": "stdout",
     "output_type": "stream",
     "text": [
      "[1.  2.2 2.9 3.1 4.  6. ]\n"
     ]
    }
   ],
   "source": [
    "filename='testdata.txt'                   # definiere den File-Namen\n",
    "data=np.loadtxt(filename , delimiter=',') # lade die Daten aus dem File-Namen\n",
    "print(data)                               # Ausgabe der Daten im File"
   ]
  },
  {
   "cell_type": "markdown",
   "id": "4a1a1f4c-c7ee-4d5c-9f71-963af0fa6dea",
   "metadata": {},
   "source": [
    "**Daten schreiben/anhängen**"
   ]
  },
  {
   "cell_type": "code",
   "execution_count": 13,
   "id": "c923de89-9929-4377-acdb-d070ff7cbf1f",
   "metadata": {},
   "outputs": [],
   "source": [
    "filetowrite=open('testdata2.txt','w')     # File im Schreib Modus (w) öffnen\n",
    "filetowrite.write('15')                   # Schreibe 15 in das File\n",
    "filetowrite.close()                       # File schließen"
   ]
  },
  {
   "cell_type": "markdown",
   "id": "301fb0bd-1ffa-487e-8a94-d233eb90eb5f",
   "metadata": {},
   "source": [
    "**Daten anhängen**"
   ]
  },
  {
   "cell_type": "code",
   "execution_count": 14,
   "id": "3759684f-5e3e-4a04-b277-ceb7b907e20f",
   "metadata": {},
   "outputs": [],
   "source": [
    "filetowrite=open('testdata2.txt','a')     # File im Anhang-Modus (a) öffnen\n",
    "filetowrite.write(', 20')                   # Den Wert 20 anhängen\n",
    "filetowrite.close()                       # File schließen"
   ]
  },
  {
   "cell_type": "code",
   "execution_count": null,
   "id": "6bb34aa9-26fa-4a34-aef6-f0ca0b4c873a",
   "metadata": {},
   "outputs": [],
   "source": []
  }
 ],
 "metadata": {
  "kernelspec": {
   "display_name": "Python 3",
   "language": "python",
   "name": "python3"
  },
  "language_info": {
   "codemirror_mode": {
    "name": "ipython",
    "version": 3
   },
   "file_extension": ".py",
   "mimetype": "text/x-python",
   "name": "python",
   "nbconvert_exporter": "python",
   "pygments_lexer": "ipython3",
   "version": "3.9.2"
  }
 },
 "nbformat": 4,
 "nbformat_minor": 5
}
