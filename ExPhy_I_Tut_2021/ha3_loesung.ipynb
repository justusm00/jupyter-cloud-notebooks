{
 "cells": [
  {
   "cell_type": "markdown",
   "metadata": {},
   "source": [
    "<div style=\"text-align: right\"> 08.11.2019</div>\n",
    "\n",
    "Name: Fabian Bennati Weis \n",
    "\n",
    "# Hausaufgabe Blatt 3\n",
    "\n",
    "## Integration einer Bewegungsgleichung: Freier Fall\n",
    "\n",
    "In dieser Aufgabe werden wir die Bewegungsgleichung des freien Falls numerisch integrieren. Die Bewegungsgleichung in einer Dimension hat die Form:\n",
    "\\begin{equation}\\tag{1}\n",
    " \\ddot x = \\frac{\\mathrm{d}^2x}{\\mathrm{d}t^2}= a\n",
    "\\end{equation}\n",
    "\n",
    "Die analytische Lösung dieser Gleichung kennen Sie bereits. Es handelt sich dabei um die Bahnkurve\n",
    "\\begin{equation} \\tag{2}\n",
    "x\\!\\left( t \\right) = x_0 + v_0 t + \\frac{1}{2} a t^2.\n",
    "\\end{equation}\n",
    "\n",
    "Ähnlich zur analytischen Lösung, werden wir die Bewegungsgleichung in zwei Schritten integrieren. Dabei nutzen wir aus, dass die Beschleunigung $a$ die zeitliche Ableitung der Geschwindigkeit $v$ und die Geschwindigkeit die zeitliche Ableitung der Position $x$ ist:\n",
    "\\begin{align*}\n",
    "   \\frac{\\mathrm{d}x}{\\mathrm{d}t}=  \\dot x &= v \\\\\n",
    "   \\frac{\\mathrm{d}v}{\\mathrm{d}t}= \\dot v &= a\n",
    "\\end{align*}\n",
    "\n",
    "Zur numerischen Lösung dieser Gleichungen werden wir das sogenannte Euler-Verfahren verwenden. Bei diesem Verfahren wird das Integrationsintervall, in diesem Fall die Zeit, diskretisiert. Typischerweise nennt man den Zeitschritt $\\Delta t$. Die Änderung in der Position $\\Delta x$ und die Änderung der Geschwindigkeit $\\Delta v$ ist daher gegeben durch:\n",
    "\\begin{align*}\n",
    "    \\Delta x &= v\\left(t\\right) \\Delta t \\\\\n",
    "       \\Delta v &= a\\Delta t\n",
    "\\end{align*}\n",
    "\n",
    "Somit ergibt sich als neue Position und neue Geschwindigkeit nach einem Zeitschritt $\\Delta t$:\n",
    "    \\begin{align}\\tag{3}\n",
    "        x\\left(t+\\Delta t \\right) = x\\left(t\\right) + \\Delta x \\\\ \n",
    "        v\\left(t+\\Delta t \\right) = v\\left(t\\right) + \\Delta v \\tag{4}\n",
    "    \\end{align}\n",
    "    \n",
    "    \n",
    "## 1. Integration \"per Hand\"\n",
    "**a)** Bestimmen Sie Ort und Geschwindigkeit nach einem Zeitschritt $\\Delta t = 0.1$, indem Sie die Gleichungen (3) und (4) für die Anfangswerte $x_0=x\\left(t=0\\right) = 2$ und $v_0=v\\left(t=0\\right) = 1$ numerisch integrieren. Dabei soll $a=-9.81$ sein. Geben Sie die resultierende Position und Geschwindigkeit mit dem `print()` Befehl aus.\n"
   ]
  },
  {
   "cell_type": "code",
   "execution_count": 1,
   "metadata": {
    "ExecuteTime": {
     "end_time": "2019-11-05T10:47:11.833903Z",
     "start_time": "2019-11-05T10:47:11.817982Z"
    }
   },
   "outputs": [
    {
     "name": "stdout",
     "output_type": "stream",
     "text": [
      "x(t+Dt) = x1 = 2.1\n",
      "v(t+Dt) = v1 = 0.018999999999999906\n"
     ]
    }
   ],
   "source": [
    "#Parameter\n",
    "x0 = 2\n",
    "v0 = 1\n",
    "Dt = 0.1\n",
    "a = -9.81\n",
    "\n",
    "#Integration_1(x1,v1)\n",
    "Dx1 = v0*Dt\n",
    "Dv1 = a*Dt\n",
    "x1= x0 + Dx1\n",
    "v1= v0 + Dv1\n",
    "\n",
    "#Berechnung und Ausgabe des Ergebnisses\n",
    "print(\"x(t+Dt) = x1 =\",x1)\n",
    "print(\"v(t+Dt) = v1 =\",v1)"
   ]
  },
  {
   "cell_type": "markdown",
   "metadata": {},
   "source": [
    "**b)** Führen Sie die Integration fort, indem Sie das gerade berechnete Ergebnis für die Position und die Geschwindigkeit erneut gemäß Gleichungen (3) und (4) integrieren. Setzen Sie die Integration fort, bis sie fünf Werte $x_0,\\; x_1,\\; x_2,\\; x_3,\\; x_4$ für die Position errechnet haben. Geben Sie die Ergebnisse der Position mit dem `print()` Befehl aus\n"
   ]
  },
  {
   "cell_type": "code",
   "execution_count": 2,
   "metadata": {
    "ExecuteTime": {
     "end_time": "2019-11-05T10:47:12.200662Z",
     "start_time": "2019-11-05T10:47:12.187553Z"
    }
   },
   "outputs": [
    {
     "name": "stdout",
     "output_type": "stream",
     "text": [
      "x0= 2 v0= 1\n",
      "x1= 2.1 v1= 0.018999999999999906\n",
      "x2= 2.1019 v2= -0.9620000000000002\n",
      "x3= 2.0057 v3= -1.9430000000000003\n",
      "x4= 1.8114 v4= -2.9240000000000004\n"
     ]
    }
   ],
   "source": [
    "#Integration_2(x2,v2)\n",
    "Dt = 0.1\n",
    "Dv = a*Dt\n",
    "\n",
    "\n",
    "Dx2 = v1*Dt\n",
    "Dv2 = Dv\n",
    "\n",
    "x2 = x1 + Dx2\n",
    "v2 = v1 + Dv2\n",
    "\n",
    "#Integration_3(x3,v3)\n",
    "Dx3 = v2*Dt\n",
    "Dv3 = Dv\n",
    "\n",
    "x3 = x2 + Dx3\n",
    "v3 = v2 + Dv3\n",
    "\n",
    "#Integration_4(x4,v4)\n",
    "Dx4 = v3*Dt\n",
    "Dv4 = Dv\n",
    "\n",
    "x4 = x3 + Dx4\n",
    "v4 = v3 + Dv3\n",
    "\n",
    "#Ausgabe der Ergbenisse\n",
    "print(\"x0=\",x0,\"v0=\",v0)\n",
    "print(\"x1=\",x1,\"v1=\",v1)\n",
    "print(\"x2=\",x2,\"v2=\",v2)\n",
    "print(\"x3=\",x3,\"v3=\",v3)\n",
    "print(\"x4=\",x4,\"v4=\",v4)"
   ]
  },
  {
   "cell_type": "markdown",
   "metadata": {},
   "source": [
    "## 2. Vergleich mit Bahnkurve\n",
    "\n",
    "Nun wollen wir die gerade errechneten Punkte mit der Bahnkurve (Gleichung (2)) vergleichen. Führen Sie dazu folgende Schritte durch:\n",
    "\n",
    "**a)** Erstellen Sie einen Plot der Bahnkurve mit den Parametern aus der ersten Teilaufgabe. Benutzen Sie dafür das im vorherigen Zettel gegeben Gerüst.  Vergessen Sie nicht die Bibliotheken `numpy` und `matplotlib.pyplot` zu importieren!"
   ]
  },
  {
   "cell_type": "code",
   "execution_count": 3,
   "metadata": {},
   "outputs": [
    {
     "data": {
      "image/png": "[encoded data removed]",
      "text/plain": [
       "<Figure size 432x288 with 1 Axes>"
      ]
     },
     "metadata": {
      "needs_background": "light"
     },
     "output_type": "display_data"
    }
   ],
   "source": [
    "import numpy as np\n",
    "import matplotlib.pyplot as plt\n",
    "\n",
    "def Bahnkurve(x0,v0,t):\n",
    "    a = -9.81\n",
    "    x = x0 + v0*t+ 0.5*a*t**2\n",
    "    return x\n",
    "\n",
    "t = np.linspace(0,5,50)\n",
    "Bahnkurve(2,1,t)\n",
    "\n",
    "fig, ax = plt.subplots()\n",
    "\n",
    "ax.set_title(\"Bahnkurve\")  # Titel\n",
    "ax.set_xlabel(\"t in s\")\n",
    "ax.set_ylabel(\"Position in m\")\n",
    "\n",
    "ax.plot(t, Bahnkurve(2,1,t) )  # x-Wert hier: x, y Wert hier: xQuadrat\n",
    "\n",
    "plt.show()\n"
   ]
  },
  {
   "cell_type": "markdown",
   "metadata": {},
   "source": [
    "**b)** Schreiben Sie die errechneten Werte $x_0,\\; x_1 ...$ in ein numpy Array per Hand. Wählen Sie einen geeigneten Variablennamen für dieses Array."
   ]
  },
  {
   "cell_type": "code",
   "execution_count": 4,
   "metadata": {},
   "outputs": [
    {
     "name": "stdout",
     "output_type": "stream",
     "text": [
      "[2.     2.1    2.1019 2.0057 1.8114]\n"
     ]
    }
   ],
   "source": [
    "x = np.array([2, 2.1, 2.1019, 2.0057, 1.8114])\n",
    "print(x)"
   ]
  },
  {
   "cell_type": "markdown",
   "metadata": {},
   "source": [
    "**c)** Erstellen Sie mittels `np.linspace()` ein weiteres Array für die fünf Zeitpunkte der numerischen Integration. Wählen Sie einen geeigneten Variablennamen für dieses Array."
   ]
  },
  {
   "cell_type": "code",
   "execution_count": 5,
   "metadata": {},
   "outputs": [
    {
     "name": "stdout",
     "output_type": "stream",
     "text": [
      "[0.  0.1 0.2 0.3 0.4]\n"
     ]
    }
   ],
   "source": [
    "t = np.linspace(0, 0.4, 5)\n",
    "print(t)\n"
   ]
  },
  {
   "cell_type": "markdown",
   "metadata": {},
   "source": [
    "**d)** Sie sollten nun zwei Arrays mit jeweils fünf Einträgen haben. Plotten Sie diese beiden arrays gegeneinander, indem Sie das vorhandene Gerüst mit folgender Zeile erweitern:\n",
    "```python\n",
    "ax.scatter(t, x, label='numerische Integration')\n",
    "```\n",
    "wobei `t` und `x` die zwei Arrays der numerischen Integration sind. Ändern Sie die Legende und die Achsenbeschriftungen, sodass Ihr Diagramm wie folgt ausssieht:\n",
    "\n",
    "<img src=\"./bahnkurve.png\" alt=\"drawing\" width=\"400\"/>"
   ]
  },
  {
   "cell_type": "code",
   "execution_count": 6,
   "metadata": {
    "ExecuteTime": {
     "end_time": "2019-11-05T10:50:32.035338Z",
     "start_time": "2019-11-05T10:50:31.894730Z"
    }
   },
   "outputs": [
    {
     "data": {
      "image/png": "[encoded data removed]",
      "text/plain": [
       "<Figure size 432x288 with 1 Axes>"
      ]
     },
     "metadata": {
      "needs_background": "light"
     },
     "output_type": "display_data"
    }
   ],
   "source": [
    "import matplotlib.pyplot as plt\n",
    "import numpy as np\n",
    "\n",
    "tnum = np.linspace(0, 0.4, 5)\n",
    "xnum = np.array([2, 2.1, 2.1019, 2.0057, 1.8114])\n",
    "\n",
    "def Bahnkurve(x0,v0,t):\n",
    "    a = -9.81\n",
    "    x = x0 + v0*t+ 0.5*a*t**2\n",
    "    return x\n",
    "\n",
    "t = np.linspace(0,0.4,50)\n",
    "Bahnkurve(2,1,t)\n",
    "\n",
    "fig, ax = plt.subplots()\n",
    "\n",
    "ax.set_title(\"Bahnkurvenvergleich\")  # Titel\n",
    "ax.set_xlabel(\"t in s\")\n",
    "ax.set_ylabel(\"Position x in m\")\n",
    "\n",
    "ax.plot(t, Bahnkurve(2,1,t), label = \"analytische Bahnkurve\")\n",
    "\n",
    "ax.scatter(tnum, xnum, label='numerische Integration')\n",
    "plt.legend()\n",
    "plt.show()\n",
    "\n"
   ]
  },
  {
   "cell_type": "markdown",
   "metadata": {},
   "source": [
    "**e)** Wie Sie sehen, weicht die numerische Lösung von der analytischen ab. Dies liegt an der Genauigkeit des Lösungsverfahrens und an der Größe des Integrationsschrittes $\\Delta t$. Wiederholen Sie daher die numerische Integration mit einem halb so großen Zeitschritt $\\Delta t = 0.05$ bei sonst gleichen Anfangsbedingungen. Damit die Integrationszeit konstant bleibt, müssen Sie mehr Integrationsschritte durchführen. Machen Sie sich klar, wie viele Schritte Sie benötigen. Stellen Sie das Ergenbis erneut in einem Plot dar. Wählen Sie eine geeignete Legende.  Verlgeichen Sie die Trajektorien der beiden numerischen Lösungen. Was fällt Ihnen auf?"
   ]
  },
  {
   "cell_type": "code",
   "execution_count": 7,
   "metadata": {},
   "outputs": [
    {
     "name": "stdout",
     "output_type": "stream",
     "text": [
      "2 2.05 2.075475 2.076425 2.05285 2.00475 1.932125 1.834975 1.7133\n",
      "1 0.5095 0.018999999999999906 -0.47150000000000014 -0.9620000000000002 -1.4525000000000001 -1.943 -2.4335 -2.924\n"
     ]
    }
   ],
   "source": [
    "#Präzisierung des Integrationsschritts:\n",
    "\n",
    "#Integration-da über den selben Zeitraum integriert werden soll, die Zeitintervalle aber nur halb so groß sind, müssen dieses Mal neun Integrationsschritte durchgeführt werden.\n",
    "x0 = 2\n",
    "v0 = 1\n",
    "Dt = 0.05\n",
    "a = -9.81\n",
    "Dv = a*Dt\n",
    "\n",
    "\n",
    "Dx1 = v0*Dt\n",
    "Dv = a*Dt\n",
    "x1= x0 + Dx1\n",
    "v1= v0 + Dv\n",
    "\n",
    "Dx2 = v1*Dt\n",
    "Dv = a*Dt\n",
    "x2 = x1+Dx2\n",
    "v2 = v1+Dv\n",
    "\n",
    "Dx3 = v2*Dt\n",
    "Dv = a*Dt\n",
    "x3 = x2 + Dx3\n",
    "v3 = v2 + Dv\n",
    "\n",
    "Dx4 = v3*Dt\n",
    "x4 = x3 + Dx4\n",
    "v4 = v3 + Dv\n",
    "\n",
    "Dx5 = v4*Dt\n",
    "x5 = x4 + Dx5\n",
    "v5 = v4 + Dv\n",
    "\n",
    "Dx6 = v5*Dt\n",
    "x6 = x5 + Dx6\n",
    "v6 = v5 + Dv\n",
    "\n",
    "Dx7 = v6*Dt\n",
    "x7 = x6 + Dx7\n",
    "v7 = v6 + Dv\n",
    "\n",
    "Dx8 = v7*Dt\n",
    "x8 = x7 + Dx8\n",
    "v8 = v7 + Dv\n",
    "\n",
    "Dx9 = v8*Dt\n",
    "x9 = x8 + Dx9\n",
    "v9 = v8 + Dv\n",
    "\n",
    "print(x0,x1,x2,x3,x4,x5,x6,x7,x8)\n",
    "print(v0,v1,v2,v3,v4,v5,v6,v7,v8)\n"
   ]
  },
  {
   "cell_type": "code",
   "execution_count": 8,
   "metadata": {},
   "outputs": [
    {
     "name": "stdout",
     "output_type": "stream",
     "text": [
      "x = 2 v = 1\n",
      "x = 2.05 v = 0.5095\n",
      "x = 2.075475 v = 0.018999999999999906\n",
      "x = 2.076425 v = -0.47150000000000014\n",
      "x = 2.05285 v = -0.9620000000000002\n",
      "x = 2.00475 v = -1.4525000000000001\n",
      "x = 1.932125 v = -1.943\n",
      "x = 1.834975 v = -2.4335\n",
      "x = 1.7133 v = -2.924\n"
     ]
    }
   ],
   "source": [
    "#Werteberechnung mit For-Schleife\n",
    "\n",
    "#Parameter und Anfangswerte\n",
    "x0 = 2\n",
    "v0 = 1\n",
    "a = -9.81\n",
    "#Zeit- und Geschwindigkeitsschritt\n",
    "Dt = 0.05\n",
    "Dv = a*Dt\n",
    "\n",
    "print(\"x =\",x0,\"v =\",v0) #Ausgabe erster Wert\n",
    "\n",
    "#Initialisierung\n",
    "xalt = x0 \n",
    "valt = v0\n",
    "Dxalt = Dxanfang = v0*Dt\n",
    "for k in range(1,9):\n",
    "    Dxneu = valt*Dt\n",
    "    Dvneu = Dv\n",
    "    xneu = xalt + Dxneu\n",
    "    vneu = valt + Dvneu\n",
    "    print(\"x =\",xneu,\"v =\",vneu) #Ausgabe nächster Wert\n",
    "    Dxalt = Dxneu #Werte \"weiterschieben\"\n",
    "    xalt = xneu\n",
    "    valt = vneu"
   ]
  },
  {
   "cell_type": "code",
   "execution_count": 9,
   "metadata": {
    "tags": []
   },
   "outputs": [
    {
     "data": {
      "image/png": "[encoded data removed]",
      "text/plain": [
       "<Figure size 432x288 with 1 Axes>"
      ]
     },
     "metadata": {
      "needs_background": "light"
     },
     "output_type": "display_data"
    }
   ],
   "source": [
    "import matplotlib.pyplot as plt\n",
    "fig, ax = plt.subplots()\n",
    "tnum = np.linspace(0, 0.4, 9)\n",
    "xnum = np.array([2, 2.05, 2.075475, 2.076425, 2.05285, 2.00475, 1.932125, 1.834975, 1.7133])\n",
    "\n",
    "def Bahnkurve(x0,v0,t):\n",
    "    a = -9.81\n",
    "    x = x0 + v0*t+ 0.5*a*t**2\n",
    "    return x\n",
    "\n",
    "t = np.linspace(0, 0.4, 50)\n",
    "Bahnkurve(2,1,t)\n",
    "\n",
    "ax.set_title(\"Bahnkurvenergleich\")  # Titel\n",
    "ax.set_xlabel(\"t in s\")\n",
    "ax.set_ylabel(\"Position x in m\")\n",
    "\n",
    "ax.plot(t, Bahnkurve(2,1,t), label='analytische Bahnkurve' )\n",
    "\n",
    "#ax.plot(x, t)  # x-Wert hier: x, y Wert hier: xQuadrat\n",
    "ax.scatter(tnum, xnum, label='numerische Bahnkurve')\n",
    "ax.legend()\n",
    "plt.show()\n",
    "\n"
   ]
  },
  {
   "cell_type": "code",
   "execution_count": 10,
   "metadata": {},
   "outputs": [
    {
     "data": {
      "image/png": "[encoded data removed]",
      "text/plain": [
       "<Figure size 432x288 with 1 Axes>"
      ]
     },
     "metadata": {
      "needs_background": "light"
     },
     "output_type": "display_data"
    }
   ],
   "source": [
    "#Vergleich beider Integrationsvarianten\n",
    "\n",
    "import matplotlib.pyplot as plt\n",
    "fig, ax = plt.subplots()\n",
    "#numerische Integration mit Dt = 0.1\n",
    "tnum1 = np.linspace(0, 0.4, 5)\n",
    "xnum1 = np.array([2, 2.1, 2.1019, 2.0057, 1.8114])\n",
    "#numerische Integration mit Dt = 0.05\n",
    "tnum2 = np.linspace(0, 0.4, 9)\n",
    "xnum2 = np.array([2, 2.05, 2.075475, 2.076425, 2.05285, 2.00475, 1.932125, 1.834975, 1.7133])\n",
    "\n",
    "#Bahnkurve\n",
    "def Bahnkurve(x0,v0,t):\n",
    "    a = -9.81\n",
    "    x = x0 + v0*t+ 0.5*a*t**2\n",
    "    return x\n",
    "\n",
    "t = np.linspace(0, 0.4, 50)\n",
    "Bahnkurve(2,1,t)\n",
    "\n",
    "ax.set_title(\"Vergleich der Integrationen mit unterschiedlichen Zeitschritten\")  # Titel\n",
    "ax.set_xlabel(\"t in s\")\n",
    "ax.set_ylabel(\"Position x in m\")\n",
    "\n",
    "\n",
    "\n",
    "#ax.plot(x, t)  # x-Wert hier: x, y Wert hier: xQuadrat\n",
    "ax.scatter(tnum1, xnum1, label='numerische Integration, Dt = 0.1')\n",
    "ax.scatter(tnum2, xnum2, label='numerische Integration, Dt = 0.05')\n",
    "ax.plot(t, Bahnkurve(2,1,t), label='analytische Integration')\n",
    "ax.legend()\n",
    "plt.show()\n",
    "\n"
   ]
  },
  {
   "cell_type": "markdown",
   "metadata": {},
   "source": [
    "Man erkennt an diesem Plot sehr gut, dass die zweite und feinere numerische Integration der analytisch berechneten Trajektorie des Massepunktes wesentlich näher kommt. Dabei addieren sich die Fehler aus der Berechnung der vorherigen Zeitschritte auf. Dies legt die Vermutung nahe, dass bei einer weiteren Verfeinerung des Integrationsverfahren, mit immer kleineren Zeitintervallen Dt, die berechneten Werte für die Wurfhöhe immer besser mit der analytischen Lösung übereinstimmen."
   ]
  },
  {
   "cell_type": "code",
   "execution_count": null,
   "metadata": {},
   "outputs": [],
   "source": []
  }
 ],
 "metadata": {
  "kernelspec": {
   "display_name": "Python 3 (ipykernel)",
   "language": "python",
   "name": "python3"
  },
  "language_info": {
   "codemirror_mode": {
    "name": "ipython",
    "version": 3
   },
   "file_extension": ".py",
   "mimetype": "text/x-python",
   "name": "python",
   "nbconvert_exporter": "python",
   "pygments_lexer": "ipython3",
   "version": "3.9.7"
  },
  "latex_envs": {
   "LaTeX_envs_menu_present": true,
   "autoclose": true,
   "autocomplete": true,
   "bibliofile": "biblio.bib",
   "cite_by": "apalike",
   "current_citInitial": 1,
   "eqLabelWithNumbers": true,
   "eqNumInitial": 1,
   "hotkeys": {
    "equation": "Ctrl-E",
    "itemize": "Ctrl-I"
   },
   "labels_anchors": false,
   "latex_user_defs": false,
   "report_style_numbering": false,
   "user_envs_cfg": false
  }
 },
 "nbformat": 4,
 "nbformat_minor": 4
}
