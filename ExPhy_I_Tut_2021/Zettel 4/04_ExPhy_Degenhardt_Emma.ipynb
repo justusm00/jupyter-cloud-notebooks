{
 "cells": [
  {
   "cell_type": "markdown",
   "metadata": {},
   "source": [
    "<div style=\"text-align: right\"> 15.11.2019</div>\n",
    "\n",
    "***Name:*** \n",
    "\n",
    "# Hausaufgabe Blatt 4\n",
    "\n",
    "\n",
    "Wie Sie während der letzen Aufgabe festgestellt haben, war es recht mühselig die numerische Integration für acht Zeitschritte durchzuführen. Daher wollen wir in dieser Aufgabe ein wichtiges Konzept einführen, das uns erlaubt, wiederkehrende Berechnungen zu automatisieren. \n",
    "    \n",
    "## 1. Schleife\n",
    "\n",
    "Eine Schleife, oder auch for-loop genannt, führt die Befehle, die in dieser Schleife stehen mit einer bestimmten Anzahl an Wiederholungen aus. Möchte man zum Beispiel \n",
    "```python\n",
    "print(\"Hello, world!\")\n",
    "```\n",
    "zehn mal hintereinander ausführen, so geht das wie folgt:"
   ]
  },
  {
   "cell_type": "code",
   "execution_count": 1,
   "metadata": {
    "ExecuteTime": {
     "end_time": "2019-11-15T11:05:21.208335Z",
     "start_time": "2019-11-15T11:05:21.191310Z"
    }
   },
   "outputs": [
    {
     "name": "stdout",
     "output_type": "stream",
     "text": [
      "Hello, world!\n",
      "Hello, world!\n",
      "Hello, world!\n",
      "Hello, world!\n",
      "Hello, world!\n",
      "Hello, world!\n",
      "Hello, world!\n",
      "Hello, world!\n",
      "Hello, world!\n",
      "Hello, world!\n"
     ]
    }
   ],
   "source": [
    "for i in range(10):\n",
    "    print(\"Hello, world!\")"
   ]
  },
  {
   "cell_type": "markdown",
   "metadata": {},
   "source": [
    "Wie Sie bereits erkennen, muss ähnlich zum `def` Befehl der Körper der Schleife eingerückt werden. "
   ]
  },
  {
   "cell_type": "markdown",
   "metadata": {},
   "source": [
    "**a)** Machen Sie sich klar, was für eine Rolle `range()` spielt. Ändern Sie den obigen Befehl, sodass wir lediglich fünf mal mit `Hello, world!` begrüßt werden."
   ]
  },
  {
   "cell_type": "code",
   "execution_count": 2,
   "metadata": {
    "ExecuteTime": {
     "end_time": "2019-11-15T11:02:48.533611Z",
     "start_time": "2019-11-15T11:02:48.529531Z"
    }
   },
   "outputs": [
    {
     "name": "stdout",
     "output_type": "stream",
     "text": [
      "Hello, world!\n",
      "Hello, world!\n",
      "Hello, world!\n",
      "Hello, world!\n",
      "Hello, world!\n"
     ]
    }
   ],
   "source": [
    "for i in range(5):\n",
    "    print(\"Hello, world!\")"
   ]
  },
  {
   "cell_type": "markdown",
   "metadata": {},
   "source": [
    "Wir können mit Schleifen einfach zählen:"
   ]
  },
  {
   "cell_type": "code",
   "execution_count": 3,
   "metadata": {
    "ExecuteTime": {
     "end_time": "2019-11-15T11:05:41.298817Z",
     "start_time": "2019-11-15T11:05:41.293458Z"
    }
   },
   "outputs": [
    {
     "name": "stdout",
     "output_type": "stream",
     "text": [
      "0\n",
      "1\n",
      "2\n",
      "3\n",
      "4\n",
      "5\n",
      "6\n",
      "7\n",
      "8\n",
      "9\n"
     ]
    }
   ],
   "source": [
    "for i in range(10):\n",
    "    print(i)"
   ]
  },
  {
   "cell_type": "markdown",
   "metadata": {},
   "source": [
    "Wie Sie erkennen können, iteriert `i` über die Sequenz, die hinter dem Schlüsselwort `in` steht (in diesem Fall `range()`). Dabei kann auf den aktuellen Wert `i` in der Sequenz zugegriffen werden. Was fällt Ihnen dabei auf?\n",
    "\n",
    "Man kann in Schleifen alle möglichen Befehle einfügen. Unter anderem kann man in Schleifen rechnen:"
   ]
  },
  {
   "cell_type": "code",
   "execution_count": 4,
   "metadata": {
    "ExecuteTime": {
     "end_time": "2019-11-15T11:05:48.466227Z",
     "start_time": "2019-11-15T11:05:48.461682Z"
    }
   },
   "outputs": [
    {
     "name": "stdout",
     "output_type": "stream",
     "text": [
      "0\n",
      "2\n",
      "4\n",
      "6\n",
      "8\n",
      "10\n",
      "12\n",
      "14\n",
      "16\n",
      "18\n"
     ]
    }
   ],
   "source": [
    "for i in range(10):\n",
    "    j = 2 * i \n",
    "    print(j)"
   ]
  },
  {
   "cell_type": "markdown",
   "metadata": {},
   "source": [
    "## 2. Liste\n",
    "\n",
    "Oft möchte man die berechneten Werte für spätere Zwecke (wie plotten) in einer Liste speichern. Gehen Sie dazu wie folgt fort:\n",
    "\n",
    " 1. Weisen Sie einer Variablen eine leere Liste zu.\n",
    " \n",
    " ```python\n",
    "results = []\n",
    "```\n",
    " 2. Hängen Sie die Ergebnisse, die Sie speichern wollen, an diese Liste mit `append()` an. \n",
    " \n",
    "Diese Schritte sind im folgenden Beispiel gezeigt:"
   ]
  },
  {
   "cell_type": "code",
   "execution_count": 5,
   "metadata": {
    "ExecuteTime": {
     "end_time": "2019-11-15T11:06:20.835762Z",
     "start_time": "2019-11-15T11:06:20.833051Z"
    }
   },
   "outputs": [
    {
     "name": "stdout",
     "output_type": "stream",
     "text": [
      "[0, 2, 4, 6, 8, 10, 12, 14, 16, 18]\n"
     ]
    }
   ],
   "source": [
    "results = []  # leere liste\n",
    "for i in range(10):  # loop \n",
    "    j = 2 * i   # Befehl in der loop, hier wird loopindex mit 2 multipliziert. Ergebnis wird j zugewiesen\n",
    "    results.append(j)  # Ergebnis der Rechnung wird an Liste angehangen\n",
    "    \n",
    "print(results)"
   ]
  },
  {
   "cell_type": "markdown",
   "metadata": {},
   "source": [
    "*Anmerkung zu Methoden:*\n",
    "\n",
    "Wie Sie vielleicht schon bemerkt haben, tauchen in `python` Befehle vom Typ `object.method()` auf. Dabei ist `method()` eine Funktion (ähnlich wie `def`), die direkt mit ihrem Objekt assoziiert ist. Man nennt diese Funktion *Methode*. Dies ist ein Merkmal der sogenannten objektorientierten Programmierung. Sie haben diese Eigenschaften bereits beim plotten ausgenutzt, indem Sie zum Beispiel `ax.plot()` verwendet haben. \n",
    "Dabei ist es egal, welchen Namen das Objekt hat. Lediglich der Typ des Objektes ist von Bedeutung. \n",
    "\n",
    "In dem vorangegangenen Beispiel haben wir ein Objekt vom Typ Liste `results` genannt. Listen haben veschiedene Methoden, eine davon ist `append()` (hier wiederum ist der Name eindeutig festgelegt). Die Methode `append()` hängt das im Argument übergebene Element (hier `j`) an das mit ihr assoziierte Objekt (`results`) an. Wie Sie sehen, wird das Objekt selbst verändert. Die Liste wird in jedem Aufruf um das Element `j` verlängert. "
   ]
  },
  {
   "cell_type": "markdown",
   "metadata": {},
   "source": [
    "## 3. Mehrfache Zuweisung\n",
    "\n",
    "Ein sehr wichtiges Konzept in der Programmierung ist die mehrfache Zuweisung einer Variablen beispielsweise durch ein Inkrement, wobei der neue Wert der Variablen von dem alten Wert abhängt. Dies wird im folgenden Beispiel verdeutlicht.\n",
    "\n",
    "Zuerst wird der Variable `a` der Wert `5` zugewiesen und ausgegeben. In der nächsten Zeile wird diese Variable um denn Wert `2` erhöht und erneut der Variable `a` zugewiesen. Hier wird deutlich, dass das Symbol `=` keine mathematische Gleichheit bedeutet. Es handelt sich hierbei um den Zuweisungsoperator."
   ]
  },
  {
   "cell_type": "code",
   "execution_count": 6,
   "metadata": {
    "ExecuteTime": {
     "end_time": "2019-11-15T11:06:26.406475Z",
     "start_time": "2019-11-15T11:06:26.403920Z"
    }
   },
   "outputs": [
    {
     "name": "stdout",
     "output_type": "stream",
     "text": [
      "5\n",
      "7\n"
     ]
    }
   ],
   "source": [
    "a = 5\n",
    "print(a)\n",
    "a = a + 2\n",
    "print(a)"
   ]
  },
  {
   "cell_type": "markdown",
   "metadata": {},
   "source": [
    "Diese Art der Zuweisung ist vorallem in Schleifen nützlich. \n",
    "\n",
    "**a)** Benutzen Sie die gerade erhaltenen Informationen, um mittels mehrfacher Zuweisung und einer Schleife alle natürlichen Zahlen bis einschließlich 10 aufzusummieren:\n",
    "$$ s = \\sum_{i=0}^{10} i$$\n",
    "Speichern Sie die Zwischenergebnisse in einer Liste, indem Sie `append()` benutzen. Geben Sie die Liste und das Endergebnis mit dem `print()` Befehl aus."
   ]
  },
  {
   "cell_type": "code",
   "execution_count": 7,
   "metadata": {
    "ExecuteTime": {
     "end_time": "2019-11-15T11:04:53.575639Z",
     "start_time": "2019-11-15T11:04:53.572743Z"
    }
   },
   "outputs": [
    {
     "name": "stdout",
     "output_type": "stream",
     "text": [
      "55 [1, 3, 6, 10, 15, 21, 28, 36, 45, 55]\n"
     ]
    }
   ],
   "source": [
    "Zwischensumme=[]\n",
    "s = 0\n",
    "t=0\n",
    "for i in range(10):\n",
    "    s=s+1\n",
    "    t=s+t\n",
    "    Zwischensumme.append(t)\n",
    "    \n",
    "print(t, Zwischensumme)"
   ]
  },
  {
   "cell_type": "markdown",
   "metadata": {},
   "source": [
    "**b)** Vergleichen Sie das Endergebnis mit der Gaußschen Summenformel (kleiner Gauß):\n",
    "\n",
    "$$\\sum_{i=1}^{n} i = \\frac{n^2 + n}{2}$$"
   ]
  },
  {
   "cell_type": "markdown",
   "metadata": {
    "ExecuteTime": {
     "end_time": "2019-11-15T11:04:56.711706Z",
     "start_time": "2019-11-15T11:04:56.709247Z"
    }
   },
   "source": [
    "Hier wird sehr viel weniger algorithmisch vorgegangen, hier handelt es sich eher um einen gut entdeckten Trick. Nicht wie oben werden Variablen neue Werte zugewiesen und addiert, sondern alle natürlichen Zahlen >= n werden in einer Gleichung verknüpft mit nur noch einem konstanten n. Man kann die Summenformel trotzdem gut in einen Algorithmus umschreiben:"
   ]
  },
  {
   "cell_type": "code",
   "execution_count": 8,
   "metadata": {},
   "outputs": [
    {
     "name": "stdout",
     "output_type": "stream",
     "text": [
      "[1.0, 3.0, 6.0, 10.0, 15.0, 21.0, 28.0, 36.0, 45.0, 55.0, 66.0, 78.0, 91.0, 105.0, 120.0, 136.0, 153.0, 171.0, 190.0, 210.0, 231.0, 253.0, 276.0, 300.0, 325.0, 351.0, 378.0, 406.0, 435.0, 465.0, 496.0, 528.0, 561.0, 595.0, 630.0, 666.0, 703.0, 741.0, 780.0, 820.0, 861.0, 903.0, 946.0, 990.0, 1035.0, 1081.0, 1128.0, 1176.0, 1225.0, 1275.0, 1326.0, 1378.0, 1431.0, 1485.0, 1540.0, 1596.0, 1653.0, 1711.0, 1770.0, 1830.0, 1891.0, 1953.0, 2016.0, 2080.0, 2145.0, 2211.0, 2278.0, 2346.0, 2415.0, 2485.0, 2556.0, 2628.0, 2701.0, 2775.0, 2850.0, 2926.0, 3003.0, 3081.0, 3160.0, 3240.0, 3321.0, 3403.0, 3486.0, 3570.0, 3655.0, 3741.0, 3828.0, 3916.0, 4005.0, 4095.0, 4186.0, 4278.0, 4371.0, 4465.0, 4560.0, 4656.0, 4753.0, 4851.0, 4950.0, 5050.0]\n"
     ]
    }
   ],
   "source": [
    "import numpy as np\n",
    "i=0                 #i ist das i in der Summenformel\n",
    "Summen=[]\n",
    "for n in range (100): #n=10 aus der Summenformel\n",
    "    n = n+1\n",
    "    i = (n**2+n)/2   \n",
    "    Summen.append(i)\n",
    "    i=0               #i wird für die neue Summe (das neue n) wieder zurückgesetzt\n",
    "    \n",
    "print(Summen)"
   ]
  },
  {
   "cell_type": "code",
   "execution_count": null,
   "metadata": {},
   "outputs": [],
   "source": []
  }
 ],
 "metadata": {
  "kernelspec": {
   "display_name": "Python 3 (ipykernel)",
   "language": "python",
   "name": "python3"
  },
  "language_info": {
   "codemirror_mode": {
    "name": "ipython",
    "version": 3
   },
   "file_extension": ".py",
   "mimetype": "text/x-python",
   "name": "python",
   "nbconvert_exporter": "python",
   "pygments_lexer": "ipython3",
   "version": "3.9.7"
  },
  "latex_envs": {
   "LaTeX_envs_menu_present": true,
   "autoclose": true,
   "autocomplete": true,
   "bibliofile": "biblio.bib",
   "cite_by": "apalike",
   "current_citInitial": 1,
   "eqLabelWithNumbers": true,
   "eqNumInitial": 1,
   "hotkeys": {
    "equation": "Ctrl-E",
    "itemize": "Ctrl-I"
   },
   "labels_anchors": false,
   "latex_user_defs": false,
   "report_style_numbering": false,
   "user_envs_cfg": false
  }
 },
 "nbformat": 4,
 "nbformat_minor": 4
}
