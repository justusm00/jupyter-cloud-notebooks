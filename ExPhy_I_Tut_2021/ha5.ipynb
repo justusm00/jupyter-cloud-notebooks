{
 "cells": [
  {
   "cell_type": "markdown",
   "metadata": {},
   "source": [
    "# Hausaufgabe 5 \n",
    "\n",
    "## Integration einer Bewegungsgleichung: Freier Fall - Wiederholung\n",
    "\n",
    "In dieser Aufgabe werden wir erneut die Bewegungsgleichung des freien Falls numerisch mit dem Euler Verfahren lösen. Die Bewegungsgleichung hat die Form:\n",
    "\\begin{equation}\\tag{1}\n",
    " \\ddot x = \\frac{\\mathrm{d}^2x}{\\mathrm{d}t^2}= a\n",
    "\\end{equation}\n",
    "\n",
    "Dieses Mal soll die Bewegungsgleichung nicht \"per Hand\" sondern rekursiv mittels einer Schleife gelöst werden. "
   ]
  },
  {
   "cell_type": "markdown",
   "metadata": {},
   "source": [
    "## 1. Integration mit Schleife\n",
    "\n",
    "**a)** Lösen Sie erneut Gleichung (1) für fünf Zeitschritte $\\Delta t = 0.1$, indem Sie die Gleichungen (3) und (4) für die Anfangswerte $x_0=x\\left(t=0\\right) = 2$ und $v_0=v\\left(t=0\\right) = 1$ numerisch mit Hilfe einer Schleife integrieren. Dabei soll $a=-9.81$ sein. Speichern Sie die numerisch berechneten Positionen in einer Liste indem Sie `append()` benutzen.\n",
    "\n",
    "Als Erinerrung:\n",
    "\n",
    "\\begin{equation} \\tag{2}\n",
    "x\\!\\left( t \\right) = x_0 + v_0 t + \\frac{1}{2} a t^2.\n",
    "\\end{equation}\n",
    "\n",
    "\\begin{align}\\tag{3}\n",
    "        x\\left(t+\\Delta t \\right) &= x\\left(t\\right) + v\\left(t\\right) \\Delta t \\\\ \n",
    "        v\\left(t+\\Delta t \\right) &= v\\left(t\\right) + a\\Delta t \\tag{4}\n",
    "    \\end{align}\n",
    "    \n"
   ]
  },
  {
   "cell_type": "code",
   "execution_count": null,
   "metadata": {},
   "outputs": [],
   "source": []
  },
  {
   "cell_type": "markdown",
   "metadata": {},
   "source": [
    "**b)** Plotten Sie diese Positionen in einem Diagramm mit der Bahnkurve (Gleichung (2)). Benutzen Sie das mit `ax.scatter()` erweiterte Grundgerüst von der Musterlösung `helpPlotScatter.ipynb`. "
   ]
  },
  {
   "cell_type": "code",
   "execution_count": null,
   "metadata": {},
   "outputs": [],
   "source": []
  },
  {
   "cell_type": "markdown",
   "metadata": {},
   "source": [
    "## 2. Variation des Zeitschrittes\n",
    "\n",
    "Sie sollten nun die Abbildung aus Hausaufgabe 3 reproduziert haben.\n",
    "\n",
    "**a)** Wiederholen Sie Aufgabe 1 mit einem Zeitschritt $\\Delta t = 0.005$. Achten Sie darauf, dass die Integrationszeit gleich bleibt! Da Sie nun sehr viele Werte erzeugt haben, ist es sinnvoller die numerische Lösung ebenfalls in einem Linienplot mit `ax.plot()` darzustellen."
   ]
  },
  {
   "cell_type": "code",
   "execution_count": null,
   "metadata": {},
   "outputs": [],
   "source": []
  },
  {
   "cell_type": "markdown",
   "metadata": {
    "ExecuteTime": {
     "end_time": "2019-11-21T09:54:24.497303Z",
     "start_time": "2019-11-21T09:54:24.491736Z"
    }
   },
   "source": [
    "**b)** Berechnen Sie die quadratische Abweichung $\\mathrm{SE}\\left(t\\right)$ zwischen der numerischen und analytischen Lösung abhängig vom Zeitschritt:\n",
    "   $$ \n",
    "   \\mathrm{SE}\\left(t\\right) = \\left(x_{\\mathrm{numerisch}}\\left(t\\right) - x_\\mathrm{analytisch}\\left(t\\right)\\right) ^2 \\, .\n",
    "   $$\n",
    "Plotten Sie die quadratische Abweichung gegen die Zeit. Benutzen Sie geeignete Beschriftungen! \n",
    "\n",
    "Beschreiben Sie kurz, was Sie beobachten. "
   ]
  },
  {
   "cell_type": "code",
   "execution_count": null,
   "metadata": {},
   "outputs": [],
   "source": []
  }
 ],
 "metadata": {
  "kernelspec": {
   "display_name": "Python 3 (ipykernel)",
   "language": "python",
   "name": "python3"
  },
  "language_info": {
   "codemirror_mode": {
    "name": "ipython",
    "version": 3
   },
   "file_extension": ".py",
   "mimetype": "text/x-python",
   "name": "python",
   "nbconvert_exporter": "python",
   "pygments_lexer": "ipython3",
   "version": "3.9.7"
  },
  "latex_envs": {
   "LaTeX_envs_menu_present": true,
   "autoclose": true,
   "autocomplete": true,
   "bibliofile": "biblio.bib",
   "cite_by": "apalike",
   "current_citInitial": 1,
   "eqLabelWithNumbers": true,
   "eqNumInitial": 1,
   "hotkeys": {
    "equation": "Ctrl-E",
    "itemize": "Ctrl-I"
   },
   "labels_anchors": false,
   "latex_user_defs": false,
   "report_style_numbering": false,
   "user_envs_cfg": false
  }
 },
 "nbformat": 4,
 "nbformat_minor": 4
}
