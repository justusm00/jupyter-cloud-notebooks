{
 "cells": [
  {
   "cell_type": "code",
   "execution_count": 4,
   "id": "7575a098",
   "metadata": {},
   "outputs": [
    {
     "name": "stderr",
     "output_type": "stream",
     "text": [
      "/tmp/ipykernel_52/3892938380.py:11: RuntimeWarning: divide by zero encountered in true_divide\n",
      "  return alpha**2*s*((1+cos(theta/2)**4)/sin(theta/2)**4-2*cos(theta/2)**4/sin(theta/2)**2+sin(theta/2)**4+cos(theta/2)**4)\n",
      "/tmp/ipykernel_52/3892938380.py:11: RuntimeWarning: invalid value encountered in subtract\n",
      "  return alpha**2*s*((1+cos(theta/2)**4)/sin(theta/2)**4-2*cos(theta/2)**4/sin(theta/2)**2+sin(theta/2)**4+cos(theta/2)**4)\n"
     ]
    },
    {
     "data": {
      "text/plain": [
       "[<matplotlib.lines.Line2D at 0x7f99cca87730>]"
      ]
     },
     "execution_count": 4,
     "metadata": {},
     "output_type": "execute_result"
    },
    {
     "data": {
      "image/png": "[encoded data removed]",
      "text/plain": [
       "<Figure size 432x288 with 1 Axes>"
      ]
     },
     "metadata": {
      "needs_background": "light"
     },
     "output_type": "display_data"
    }
   ],
   "source": [
    "import numpy as np\n",
    "from numpy import cos \n",
    "from numpy import sin\n",
    "import matplotlib.pyplot as plt\n",
    "\n",
    "alpha = 1/137\n",
    "s = 1\n",
    "\n",
    "thet = np.linspace(0,np.pi,100)\n",
    "def bhaba(theta):\n",
    "    return alpha**2*s*((1+cos(theta/2)**4)/sin(theta/2)**4-2*cos(theta/2)**4/sin(theta/2)**2+sin(theta/2)**4+cos(theta/2)**4)\n",
    "\n",
    "plt.plot(thet,bhaba(thet))"
   ]
  },
  {
   "cell_type": "code",
   "execution_count": null,
   "id": "5406913e",
   "metadata": {},
   "outputs": [],
   "source": []
  }
 ],
 "metadata": {
  "kernelspec": {
   "display_name": "Python 3 (ipykernel)",
   "language": "python",
   "name": "python3"
  },
  "language_info": {
   "codemirror_mode": {
    "name": "ipython",
    "version": 3
   },
   "file_extension": ".py",
   "mimetype": "text/x-python",
   "name": "python",
   "nbconvert_exporter": "python",
   "pygments_lexer": "ipython3",
   "version": "3.9.7"
  }
 },
 "nbformat": 4,
 "nbformat_minor": 5
}
