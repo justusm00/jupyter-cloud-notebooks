{
 "cells": [
  {
   "cell_type": "code",
   "execution_count": 4,
   "id": "81c7bbbc",
   "metadata": {},
   "outputs": [
    {
     "data": {
      "image/png": "[encoded data removed]",
      "text/plain": [
       "<Figure size 720x720 with 3 Axes>"
      ]
     },
     "metadata": {
      "needs_background": "light"
     },
     "output_type": "display_data"
    }
   ],
   "source": [
    "import numpy as np\n",
    "import matplotlib.pyplot as plt\n",
    "\n",
    "#define \"basis\" functions\n",
    "def psi1(x,y):\n",
    "    r = np.sqrt(x**2+y**2)\n",
    "    return 1/np.sqrt(32*np.pi)*np.exp(-r/2)*(2-r)\n",
    "\n",
    "def psi2(x,y):\n",
    "    r = np.sqrt(x**2+y**2)\n",
    "    return 1/np.sqrt(32*np.pi)*np.exp(-r/2)*x\n",
    "\n",
    "def psi3(x,y):\n",
    "    r = np.sqrt(x**2+y**2)\n",
    "    return 1/np.sqrt(32*np.pi)*np.exp(-r/2)*y\n",
    "\n",
    "\n",
    "##define coefficient matrix\n",
    "#use only \"upper\" signs\n",
    "\n",
    "A = np.array([[1/np.sqrt(3), np.sqrt(2)/np.sqrt(3),0,0],[1/np.sqrt(3), -1/np.sqrt(6),1/np.sqrt(2),0],[1/np.sqrt(3), -1/np.sqrt(6),-1/np.sqrt(2),0],[0,0,0,1]])\n",
    "\n",
    "#define hybrid orbitals\n",
    "def phi1(x,y):\n",
    "    return A[0,0]*psi1(x,y) + A[0,1]*psi2(x,y) + A[0,2]*psi3(x,y)\n",
    "\n",
    "def phi2(x,y):\n",
    "    return A[1,0]*psi1(x,y) + A[1,1]*psi2(x,y) + A[1,2]*psi3(x,y)\n",
    "\n",
    "def phi3(x,y):\n",
    "    return A[2,0]*psi1(x,y) + A[2,1]*psi2(x,y) + A[2,2]*psi3(x,y)\n",
    "\n",
    "##define x and y limits\n",
    "x = np.linspace(-10,10,100)\n",
    "y = np.linspace(-10,10,100)\n",
    "\n",
    "#create a grid\n",
    "rx, ry = np.meshgrid(x,y)\n",
    "\n",
    "\n",
    "fig, ax = plt.subplots(1,3, sharex=True, sharey=True,figsize=(10,10))\n",
    "\n",
    "#set axis stuff\n",
    "count = 1\n",
    "for axx in ax:\n",
    "    axx.set_ylabel(\"$y$\")\n",
    "    axx.set_xlabel(\"$x$\")\n",
    "    axx.set(adjustable='box', aspect='equal')\n",
    "    axx.set_title(\"$\\Phi_{}$\".format(count))\n",
    "    count += 1\n",
    "\n",
    "#plot contour lines\n",
    "ax[0].contourf(rx,ry,phi1(rx,ry))\n",
    "ax[1].contourf(rx,ry,phi2(rx,ry))\n",
    "ax[2].contourf(rx,ry,phi3(rx,ry))\n",
    "plt.savefig(\"hybrids.png\")\n"
   ]
  },
  {
   "cell_type": "code",
   "execution_count": null,
   "id": "631c4bca",
   "metadata": {},
   "outputs": [],
   "source": []
  }
 ],
 "metadata": {
  "kernelspec": {
   "display_name": "Python 3 (ipykernel)",
   "language": "python",
   "name": "python3"
  },
  "language_info": {
   "codemirror_mode": {
    "name": "ipython",
    "version": 3
   },
   "file_extension": ".py",
   "mimetype": "text/x-python",
   "name": "python",
   "nbconvert_exporter": "python",
   "pygments_lexer": "ipython3",
   "version": "3.9.7"
  }
 },
 "nbformat": 4,
 "nbformat_minor": 5
}
