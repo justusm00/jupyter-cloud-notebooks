{
 "cells": [
  {
   "cell_type": "code",
   "execution_count": 9,
   "id": "59aa096c-0d74-4085-a487-d64d4c9b66d3",
   "metadata": {
    "tags": []
   },
   "outputs": [
    {
     "name": "stdout",
     "output_type": "stream",
     "text": [
      "[0.21822962 0.24740396 0.34289781 0.40776045 0.42593947 0.48817725\n",
      " 0.5311862  0.54802394]\n",
      "[6.11929377e-10 6.23272160e-10 6.35967121e-10 6.27112731e-10\n",
      " 6.27042705e-10 6.31737759e-10 6.32680423e-10 6.29172667e-10]\n"
     ]
    }
   ],
   "source": [
    "import numpy as np\n",
    "\n",
    "R = 0.05\n",
    "S = 2*np.array([2.2,2.5,3.5,4.2,4.4,5.1,5.6,5.8])*0.01\n",
    "sigma = np.array([3,4,8,11,12,16,19,20])\n",
    "lam=1.542e-10\n",
    "def sinn(S):\n",
    "    return np.sin(S/(4*R))\n",
    "\n",
    "\n",
    "def a(S, sigma):\n",
    "    return lam/(2*sinn(S))*np.sqrt(sigma)\n",
    "\n",
    "\n",
    "res = sinn(S)\n",
    "normed = res/(res[0])\n",
    "\n",
    "#print(\"Winkel: {}\".format(S/(4*R)*180/np.pi))\n",
    "print(res)\n",
    "print(a(S,sigma))"
   ]
  },
  {
   "cell_type": "code",
   "execution_count": 4,
   "id": "31fa1fd7-51db-4b7a-8f4e-83402777b461",
   "metadata": {},
   "outputs": [
    {
     "name": "stdout",
     "output_type": "stream",
     "text": [
      "[-9.76614708 -8.9003539  -8.9161627 ]\n",
      "-12.48706368311394\n"
     ]
    }
   ],
   "source": [
    "import numpy as np\n",
    "\n",
    "alph = 1.7476\n",
    "eps0 = 8.854e-12\n",
    "e = 1.6e-19\n",
    "\n",
    "def nrg(r):\n",
    "    return -alph/(4*np.pi*eps0)*e**2/(r)\n",
    "\n",
    "r0 = np.array([0.257,0.282,0.2815])*1e-9\n",
    "\n",
    "\n",
    "print(nrg(r0)*6.242e+18)\n",
    "print(nrg(0.201e-9)*6.242e18)"
   ]
  },
  {
   "cell_type": "code",
   "execution_count": null,
   "id": "d4e0c827-3048-4e3e-b1ba-c4d924527dcd",
   "metadata": {},
   "outputs": [],
   "source": []
  }
 ],
 "metadata": {
  "kernelspec": {
   "display_name": "Python 3 (ipykernel)",
   "language": "python",
   "name": "python3"
  },
  "language_info": {
   "codemirror_mode": {
    "name": "ipython",
    "version": 3
   },
   "file_extension": ".py",
   "mimetype": "text/x-python",
   "name": "python",
   "nbconvert_exporter": "python",
   "pygments_lexer": "ipython3",
   "version": "3.9.7"
  }
 },
 "nbformat": 4,
 "nbformat_minor": 5
}
