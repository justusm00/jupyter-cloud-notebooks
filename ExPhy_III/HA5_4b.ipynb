{
 "cells": [
  {
   "cell_type": "code",
   "execution_count": 39,
   "metadata": {},
   "outputs": [
    {
     "name": "stdout",
     "output_type": "stream",
     "text": [
      "53.25822912103381 50.22944975552434\n",
      "63.45711694913149 31.088704126355612\n",
      "0.4104557933795224\n"
     ]
    }
   ],
   "source": [
    "import numpy as np\n",
    "\n",
    "def theta_pos(n):\n",
    "    a = np.tan(np.pi/8)\n",
    "    b = 0.5*((1+n**2)/(1+a**2))\n",
    "    c = np.sqrt((0.5*(1+n**2)/(1+a**2))**2 - n**2/(1+a**2))\n",
    "    return np.arcsin(np.sqrt(b + c))\n",
    "\n",
    "def theta_neg(n):\n",
    "    a = np.tan(np.pi/8)\n",
    "    b = 0.5*((1+n**2)/(1+a**2))\n",
    "    c = np.sqrt((0.5*(1+n**2)/(1+a**2))**2 - n**2/(1+a**2))\n",
    "    return np.arcsin(np.sqrt(b - c))\n",
    "\n",
    "\n",
    "def delta(theta,n):\n",
    "    return np.cos(theta)*np.sqrt(np.sin(theta)**2-n**2)/np.sin(theta)**2\n",
    "\n",
    "print(theta_pos(2/3)*180/np.pi, theta_neg(2/3)*180/np.pi)\n",
    "print(theta_pos(1/2)*180/np.pi, theta_neg(1/2)*180/np.pi)\n",
    "print(delta(54.27*np.pi/180,1/1.5))"
   ]
  },
  {
   "cell_type": "code",
   "execution_count": null,
   "metadata": {},
   "outputs": [],
   "source": []
  }
 ],
 "metadata": {
  "kernelspec": {
   "display_name": "Python 3",
   "language": "python",
   "name": "python3"
  },
  "language_info": {
   "codemirror_mode": {
    "name": "ipython",
    "version": 3
   },
   "file_extension": ".py",
   "mimetype": "text/x-python",
   "name": "python",
   "nbconvert_exporter": "python",
   "pygments_lexer": "ipython3",
   "version": "3.8.6"
  }
 },
 "nbformat": 4,
 "nbformat_minor": 4
}
