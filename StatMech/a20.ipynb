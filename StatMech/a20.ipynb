{
 "cells": [
  {
   "cell_type": "code",
   "execution_count": 6,
   "id": "3fe9af54",
   "metadata": {},
   "outputs": [
    {
     "data": {
      "text/plain": [
       "0.3202287808072839"
      ]
     },
     "execution_count": 6,
     "metadata": {},
     "output_type": "execute_result"
    },
    {
     "data": {
      "image/png": "[encoded data removed]",
      "text/plain": [
       "<Figure size 432x288 with 1 Axes>"
      ]
     },
     "metadata": {
      "needs_background": "light"
     },
     "output_type": "display_data"
    }
   ],
   "source": [
    "import numpy as np\n",
    "import matplotlib.pyplot as plt\n",
    "\n",
    "beta = 0.5\n",
    "def boltz(E):\n",
    "    Z = 1+3*np.exp(-beta)+6*np.exp(-2*beta)+7*np.exp(-3*beta)+6*np.exp(-4*beta)+3*np.exp(-5*beta)+np.exp(-6*beta)\n",
    "    return np.exp(-beta*E)/Z\n",
    "\n",
    "E = np.arange(0,7,1)\n",
    "plt.scatter(E,boltz(E))\n",
    "sum(boltz(E))"
   ]
  },
  {
   "cell_type": "code",
   "execution_count": null,
   "id": "9ba32f7f",
   "metadata": {},
   "outputs": [],
   "source": []
  }
 ],
 "metadata": {
  "kernelspec": {
   "display_name": "Python 3 (ipykernel)",
   "language": "python",
   "name": "python3"
  },
  "language_info": {
   "codemirror_mode": {
    "name": "ipython",
    "version": 3
   },
   "file_extension": ".py",
   "mimetype": "text/x-python",
   "name": "python",
   "nbconvert_exporter": "python",
   "pygments_lexer": "ipython3",
   "version": "3.9.7"
  }
 },
 "nbformat": 4,
 "nbformat_minor": 5
}
