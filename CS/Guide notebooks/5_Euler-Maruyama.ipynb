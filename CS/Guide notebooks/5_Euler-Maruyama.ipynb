{
 "cells": [
  {
   "cell_type": "markdown",
   "metadata": {},
   "source": [
    "# Euler-Maruyama Integration of SDEs\n",
    "\n",
    "A stochastic differential equation is a system of $n$ equations of the form\n",
    "\n",
    "\n",
    "\\begin{equation}\n",
    "\\dot{\\mathbf{y}} = \\mathbf{f}\\left(\\mathbf{y}\\right) + \\mathbf{G}\\left(t,\\mathbf{y}\\right)\\mathbf{w}\\left(t\\right),\n",
    "\\end{equation}\n",
    "\n",
    "where $\\mathbf{f}$ is called *drift* (which is equivalent to the right hand side of an ordinary differential equation) and the matrix $\\mathbf{G}$ is called *diffusion*, or sometimes *volatility*. The vector $\\mathbf{w}$ consists of $n$ uncorrelated white noise processes. There are many processes that are readily modelled by SDEs, such as *Brownian Motion* or *Stock price* evolution.\n",
    "\n",
    "SDEs can be solved numerically with the *Euler-Maruyama algorithm*, which extends the regular *Euler method* for ODEs with a stochastic term:\n",
    "\n",
    "\\begin{equation}\n",
    "\\mathbf{y}_{i+1} = \\mathbf{y}_{i} + \\mathbf{f}\\left(t_i,\\mathbf{y}_i\\right)\\cdot \\Delta t + \\mathbf{G}\\left(t_i,\\mathbf{y}_i\\right)\\cdot \\mathbf{\\Delta W}\\cdot\\sqrt{\\Delta t}.\n",
    "\\end{equation}\n",
    "\n",
    "Here, $\\mathbf{\\Delta W}$ is a vector consisting of $n$ randomly generated numbers sampled from a gaussian distribution with unit variance.\n",
    "\n",
    "Note that compared to how the diffusion coefficient was defined in the lecture, a factor $\\sqrt{2}$ is missing (different conventions in different fields), so this factor has to be included in the diffusion matrix $\\mathbf{G}$, such that for simple Brownian motion in 3d,  $\\mathbf{G}$ would be a $3\\times 3$ diagonal matrix with entries $G_{ii}=\\sqrt{2 D}$. \n",
    "\n",
    "SciPy unfortunately does not provide tools for solving SDEs, so we shall implement the algorithm ourselves.\n",
    "\n",
    "Start by importing *NumPy* and *matplotlib*:"
   ]
  },
  {
   "cell_type": "code",
   "execution_count": 1,
   "metadata": {},
   "outputs": [],
   "source": [
    "import numpy as np\n",
    "import matplotlib.pyplot as plt"
   ]
  },
  {
   "cell_type": "markdown",
   "metadata": {},
   "source": [
    "Define a function that applies an Euler-Maruyama step:"
   ]
  },
  {
   "cell_type": "code",
   "execution_count": 2,
   "metadata": {},
   "outputs": [],
   "source": [
    "def em_step(t, y, dt, f, G):\n",
    "    \n",
    "    DW = np.random.normal(size=len(y))    \n",
    "    return y + f(t,y)*dt + np.dot(G(t,y), DW) * np.sqrt(dt)"
   ]
  },
  {
   "cell_type": "markdown",
   "metadata": {},
   "source": [
    "The single step function is a bit unwieldy, so we create a wrapper that receives a list of times at which the solution should be calculated and outputs the results as an array:"
   ]
  },
  {
   "cell_type": "code",
   "execution_count": 3,
   "metadata": {},
   "outputs": [],
   "source": [
    "# Params:\n",
    "#\n",
    "#    t_list = Sorted np.array with output times\n",
    "#    y0 = initial state vector\n",
    "#    dt_max = maximum step size\n",
    "#    f = drift function (vector)\n",
    "#    G = diffusion function (matrix)\n",
    "\n",
    "def eulermaruyama(t_list, y0, dt_max, f, G):\n",
    "    y_list = np.zeros((len(t_list), len(y0))) # List of results\n",
    "    \n",
    "    t = 0 # Current simulation time\n",
    "    y = y0\n",
    "    \n",
    "    for i, T in enumerate(t_list):\n",
    "        \n",
    "        while(t < T):            \n",
    "            # Determine time step. Either dt_max, or shorter to\n",
    "            # hit the next output point.\n",
    "            dt = min(T-t, dt_max)\n",
    "            y = em_step(t, y, dt, f, G)\n",
    "            t += dt\n",
    "            \n",
    "        y_list[i,:] = y\n",
    "        \n",
    "    return y_list"
   ]
  },
  {
   "cell_type": "markdown",
   "metadata": {},
   "source": [
    "Check that everything works by creating a very simple system of $n$ uncoupled particles following a *Geometric Brownian Motion*. The drift shall be\n",
    "\n",
    "\\begin{equation}\n",
    "\\mathbf{f}(\\mathbf{y}) = \\mathbf{y},\n",
    "\\end{equation}\n",
    "\n",
    "leading to exponential growth. The diffusion is the diagonal matrix\n",
    "\n",
    "\\begin{equation}\n",
    "\\mathbf{G}(\\mathbf{y}) = \\frac{1}{10}\\text{diag}(\\mathbf{y}).\n",
    "\\end{equation}\n",
    "\n"
   ]
  },
  {
   "cell_type": "code",
   "execution_count": 1,
   "metadata": {},
   "outputs": [],
   "source": [
    "def f(t,y):\n",
    "    return y\n",
    "\n",
    "def G(t,y):\n",
    "    return 1/10*np.diag(y)"
   ]
  },
  {
   "cell_type": "markdown",
   "metadata": {},
   "source": [
    "Create 40 particles in 1D starting starting at $y=1$. The simulation runs for $1s$ and outputs every $10ms$:"
   ]
  },
  {
   "cell_type": "code",
   "execution_count": 2,
   "metadata": {},
   "outputs": [
    {
     "ename": "NameError",
     "evalue": "name 'np' is not defined",
     "output_type": "error",
     "traceback": [
      "\u001b[0;31m---------------------------------------------------------------------------\u001b[0m",
      "\u001b[0;31mNameError\u001b[0m                                 Traceback (most recent call last)",
      "\u001b[0;32m/tmp/ipykernel_51/2906872247.py\u001b[0m in \u001b[0;36m<module>\u001b[0;34m\u001b[0m\n\u001b[0;32m----> 1\u001b[0;31m \u001b[0my0\u001b[0m \u001b[0;34m=\u001b[0m \u001b[0mnp\u001b[0m\u001b[0;34m.\u001b[0m\u001b[0mones\u001b[0m\u001b[0;34m(\u001b[0m\u001b[0;36m40\u001b[0m\u001b[0;34m)\u001b[0m\u001b[0;34m\u001b[0m\u001b[0;34m\u001b[0m\u001b[0m\n\u001b[0m\u001b[1;32m      2\u001b[0m \u001b[0mt\u001b[0m \u001b[0;34m=\u001b[0m \u001b[0mnp\u001b[0m\u001b[0;34m.\u001b[0m\u001b[0mlinspace\u001b[0m\u001b[0;34m(\u001b[0m\u001b[0;36m0\u001b[0m\u001b[0;34m,\u001b[0m\u001b[0;36m1\u001b[0m\u001b[0;34m,\u001b[0m\u001b[0;36m100\u001b[0m\u001b[0;34m)\u001b[0m\u001b[0;34m\u001b[0m\u001b[0;34m\u001b[0m\u001b[0m\n",
      "\u001b[0;31mNameError\u001b[0m: name 'np' is not defined"
     ]
    }
   ],
   "source": [
    "y0 = np.ones(40)\n",
    "t = np.linspace(0,1,100)"
   ]
  },
  {
   "cell_type": "markdown",
   "metadata": {},
   "source": [
    "Now, run the simulation with a time step of $dt = 10^{-4}s$ and determine the execution time."
   ]
  },
  {
   "cell_type": "code",
   "execution_count": 6,
   "metadata": {
    "scrolled": true
   },
   "outputs": [
    {
     "name": "stdout",
     "output_type": "stream",
     "text": [
      "Elapsed: 0.25s\n"
     ]
    }
   ],
   "source": [
    "from time import time\n",
    "\n",
    "dt = 1e-4\n",
    "\n",
    "begin = time()\n",
    "y = eulermaruyama(t, y0, dt, f, G)\n",
    "end = time()\n",
    "\n",
    "t_python = end - begin\n",
    "\n",
    "print(\"Elapsed: %.2fs\" % t_python)"
   ]
  },
  {
   "cell_type": "markdown",
   "metadata": {},
   "source": [
    "You can easily visualize the ensemble:"
   ]
  },
  {
   "cell_type": "code",
   "execution_count": 7,
   "metadata": {
    "scrolled": true
   },
   "outputs": [
    {
     "data": {
      "image/png": "[encoded data removed]",
      "text/plain": [
       "<Figure size 432x288 with 1 Axes>"
      ]
     },
     "metadata": {
      "needs_background": "light"
     },
     "output_type": "display_data"
    }
   ],
   "source": [
    "plt.plot(t, y)\n",
    "plt.show()"
   ]
  },
  {
   "cell_type": "markdown",
   "metadata": {},
   "source": [
    "## Performance improvement with *numba*\n",
    "\n",
    "While this code runs somewhat vectorized, it still has quite a lot of *overhead* that is processed by the Python *interpreter*. To get better performance, you need to do the calculations natively on your machine's processor. This is usually done with interfaced Python modules or NumPy extensions, written in *C*.\n",
    "\n",
    "A less tedious way, more suitable for smaller projects, is the usage of *numba*. *numba* recompiles Python bytecode to native machine code *just-in-time* (meaning on-the-fly during your python script's runtime), supporting NumPy arrays and many of the most common NumPy functions. The rule to avoid Python's `for` iterations does not apply to *numba*, as they will have similar performance to C-style *for*-loops.\n",
    "\n",
    "To use numba, import `njit`:"
   ]
  },
  {
   "cell_type": "code",
   "execution_count": 8,
   "metadata": {},
   "outputs": [],
   "source": [
    "from numba import njit"
   ]
  },
  {
   "cell_type": "markdown",
   "metadata": {},
   "source": [
    "`njit` stands for \"*non-python mode / just-in-time*\", which means that numba will never call the Python interpreter. This is the preferred way of using numba, yielding the best performance boosts. It's compatibility however is way lesser than *object mode*.\n",
    "\n",
    "To instruct numba to compile a function, just put the `@njit` decorator in front of the function:"
   ]
  },
  {
   "cell_type": "code",
   "execution_count": 9,
   "metadata": {},
   "outputs": [],
   "source": [
    "@njit\n",
    "def em_step(t, y, dt, f, G):\n",
    "    \n",
    "    DW = np.zeros(len(y))\n",
    "    for i, x in np.ndenumerate(DW):\n",
    "        DW[i] = np.random.normal()\n",
    "    \n",
    "    return y + f(t,y)*dt + np.dot(G(t,y), DW) * np.sqrt(dt)"
   ]
  },
  {
   "cell_type": "markdown",
   "metadata": {},
   "source": [
    "Notice how we changed the creation of the `DW` vector. As of now, numba does not support the `size` parameter of `np.random.normal()`, so we improvise. You can read about the supported features here:\n",
    "\n",
    "[https://numba.pydata.org/numba-doc/dev/reference/numpysupported.html#distributions](https://numba.pydata.org/numba-doc/dev/reference/numpysupported.html#distributions)\n",
    "\n",
    "The other functions will compile just as they are. Be aware that all functions that are passed to a jitted function have to be jitted as well!"
   ]
  },
  {
   "cell_type": "code",
   "execution_count": 10,
   "metadata": {},
   "outputs": [],
   "source": [
    "@njit\n",
    "def eulermaruyama(t_list, y0, dt_max, f, G):\n",
    "    y_list = np.zeros((len(t_list), len(y0))) # List of results\n",
    "    t = 0 # Current simulation time\n",
    "    y = y0\n",
    "    \n",
    "    for i, T in enumerate(t_list):\n",
    "        \n",
    "        while(t < T):            \n",
    "            # Determine time step. Either dt_max, or shorter to\n",
    "            # hit the next output point.\n",
    "            dt = min(T-t, dt_max)\n",
    "            y = em_step(t, y, dt, f, G)\n",
    "            t += dt\n",
    "            \n",
    "        y_list[i,:] = y\n",
    "        \n",
    "    return y_list\n",
    "\n",
    "@njit\n",
    "def f(t,y):\n",
    "    return y\n",
    "\n",
    "@njit\n",
    "def G(t,y):\n",
    "    return np.diag(y) / 10"
   ]
  },
  {
   "cell_type": "markdown",
   "metadata": {},
   "source": [
    "Compilation will happen on the first time a decorated function is called. Numba will then determine the data types and produce the appropriate machine code, or abort with an error message.\n",
    "\n",
    "Run the function to compile it:"
   ]
  },
  {
   "cell_type": "code",
   "execution_count": 11,
   "metadata": {},
   "outputs": [],
   "source": [
    "y = eulermaruyama(t, y0, dt, f, G)"
   ]
  },
  {
   "cell_type": "markdown",
   "metadata": {},
   "source": [
    "Run it a second time, to get a useful timing without incorporating the compilation duration:"
   ]
  },
  {
   "cell_type": "code",
   "execution_count": 12,
   "metadata": {},
   "outputs": [
    {
     "name": "stdout",
     "output_type": "stream",
     "text": [
      "Elapsed: 0.03s\n",
      "Speedup: 7.47\n"
     ]
    }
   ],
   "source": [
    "begin = time()\n",
    "y = eulermaruyama(t, y0, dt, f, G)\n",
    "end = time()\n",
    "\n",
    "t_numba = end - begin\n",
    "\n",
    "print(\"Elapsed: %.2fs\" % t_numba)\n",
    "print(\"Speedup: %.2f\" % (t_python / t_numba))"
   ]
  },
  {
   "cell_type": "markdown",
   "metadata": {},
   "source": [
    "You should see a significant performance boost - my jitted version ran 4-5 times faster.\n",
    "\n",
    "If you are interested in using *numba* yourself, make sure to have a look at it's documentation.http://numba.pydata.org/\n",
    "\n",
    "Numba **is not magic** that makes everything fast by using `njit`. It will require some learning and knowledge to make the most of it. Expect to deal with quite a lot of error messages because of usage of unsupported constructs :-)"
   ]
  },
  {
   "cell_type": "code",
   "execution_count": null,
   "metadata": {},
   "outputs": [],
   "source": []
  }
 ],
 "metadata": {
  "kernelspec": {
   "display_name": "Python 3 (ipykernel)",
   "language": "python",
   "name": "python3"
  },
  "language_info": {
   "codemirror_mode": {
    "name": "ipython",
    "version": 3
   },
   "file_extension": ".py",
   "mimetype": "text/x-python",
   "name": "python",
   "nbconvert_exporter": "python",
   "pygments_lexer": "ipython3",
   "version": "3.9.7"
  }
 },
 "nbformat": 4,
 "nbformat_minor": 4
}
