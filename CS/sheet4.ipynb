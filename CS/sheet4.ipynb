{
 "cells": [
  {
   "cell_type": "code",
   "execution_count": 64,
   "id": "3ee97110",
   "metadata": {},
   "outputs": [
    {
     "data": {
      "image/png": "[encoded data removed]",
      "text/plain": [
       "<Figure size 600x400 with 1 Axes>"
      ]
     },
     "metadata": {
      "needs_background": "light"
     },
     "output_type": "display_data"
    }
   ],
   "source": [
    "import numpy as np\n",
    "import matplotlib.pyplot as plt\n",
    "from scipy.integrate import odeint\n",
    "\n",
    "w = 1 #frequency\n",
    "\n",
    "def limit(y,t):\n",
    "    dr = y[0]**3-4*y[0]\n",
    "    \n",
    "    dtheta = y[0]\n",
    "    return [dr,dtheta]\n",
    "\n",
    "t = np.linspace(0,10,1000) #time\n",
    "r0 = np.linspace(0,2,15) #initial r values\n",
    "theta0 = 0 ##initial angle\n",
    "\n",
    "plt.figure(dpi=100)\n",
    "for r00 in r0:\n",
    "    y = odeint(limit, [r00,theta0], t).T\n",
    "    x = y[0]*np.cos(y[1])\n",
    "    yps = y[0]*np.sin(y[1])\n",
    "    plt.plot(x,yps,lw=1)"
   ]
  },
  {
   "cell_type": "code",
   "execution_count": null,
   "id": "df3f550c",
   "metadata": {},
   "outputs": [],
   "source": []
  }
 ],
 "metadata": {
  "kernelspec": {
   "display_name": "Python 3 (ipykernel)",
   "language": "python",
   "name": "python3"
  },
  "language_info": {
   "codemirror_mode": {
    "name": "ipython",
    "version": 3
   },
   "file_extension": ".py",
   "mimetype": "text/x-python",
   "name": "python",
   "nbconvert_exporter": "python",
   "pygments_lexer": "ipython3",
   "version": "3.9.7"
  }
 },
 "nbformat": 4,
 "nbformat_minor": 5
}
