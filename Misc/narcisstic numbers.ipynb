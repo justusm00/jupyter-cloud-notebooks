{
 "cells": [
  {
   "cell_type": "code",
   "execution_count": 23,
   "metadata": {},
   "outputs": [
    {
     "name": "stdout",
     "output_type": "stream",
     "text": [
      "0\n",
      "1\n",
      "2\n",
      "3\n",
      "4\n",
      "5\n",
      "6\n",
      "7\n",
      "8\n",
      "9\n",
      "153\n",
      "370\n",
      "371\n",
      "407\n",
      "1634\n",
      "8208\n",
      "9474\n",
      "54748\n",
      "92727\n",
      "93084\n"
     ]
    }
   ],
   "source": [
    "import numpy as np\n",
    "\n",
    "##program to find narcisstic numbers\n",
    "a = 100000\n",
    "num = np.array([])\n",
    "\n",
    "for i in range (a):\n",
    "    b = str(i) ##conversion to string\n",
    "    digits = np.array([])\n",
    "    for j in range (len(b)): ###rearange digits into array\n",
    "        digits = np.append(digits,int(b[j]))\n",
    "    res = 0 ###result\n",
    "    for k in range (len(digits)):\n",
    "        res += digits[k]**len(digits) ##raise them to the power of number of digits  \n",
    "    if res == i:\n",
    "        print(i)##if it matches the number, print that b*tch!!!\n",
    "        "
   ]
  },
  {
   "cell_type": "code",
   "execution_count": null,
   "metadata": {},
   "outputs": [],
   "source": []
  }
 ],
 "metadata": {
  "kernelspec": {
   "display_name": "Python 3",
   "language": "python",
   "name": "python3"
  },
  "language_info": {
   "codemirror_mode": {
    "name": "ipython",
    "version": 3
   },
   "file_extension": ".py",
   "mimetype": "text/x-python",
   "name": "python",
   "nbconvert_exporter": "python",
   "pygments_lexer": "ipython3",
   "version": "3.8.6"
  }
 },
 "nbformat": 4,
 "nbformat_minor": 4
}
