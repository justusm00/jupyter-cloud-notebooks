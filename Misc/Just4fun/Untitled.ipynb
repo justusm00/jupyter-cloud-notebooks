{
 "cells": [
  {
   "cell_type": "code",
   "execution_count": 10,
   "metadata": {},
   "outputs": [
    {
     "name": "stdout",
     "output_type": "stream",
     "text": [
      "200000000.0\n",
      "1.4901161193847656e-08\n"
     ]
    }
   ],
   "source": [
    "import numpy as np\n",
    "\n",
    "a = 1\n",
    "b = -(1e16 + 1) / (1e8)\n",
    "c = 1\n",
    "\n",
    "print(-b + np.sqrt(b**2-4*a*c))\n",
    "print(-b - np.sqrt(b**2-4*a*c))\n",
    "\n"
   ]
  },
  {
   "cell_type": "code",
   "execution_count": null,
   "metadata": {},
   "outputs": [],
   "source": []
  }
 ],
 "metadata": {
  "kernelspec": {
   "display_name": "Python 3",
   "language": "python",
   "name": "python3"
  },
  "language_info": {
   "codemirror_mode": {
    "name": "ipython",
    "version": 3
   },
   "file_extension": ".py",
   "mimetype": "text/x-python",
   "name": "python",
   "nbconvert_exporter": "python",
   "pygments_lexer": "ipython3",
   "version": "3.8.8"
  }
 },
 "nbformat": 4,
 "nbformat_minor": 4
}
