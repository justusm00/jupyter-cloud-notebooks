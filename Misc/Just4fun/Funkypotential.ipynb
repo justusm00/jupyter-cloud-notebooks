{
 "cells": [
  {
   "cell_type": "code",
   "execution_count": 40,
   "metadata": {},
   "outputs": [
    {
     "name": "stderr",
     "output_type": "stream",
     "text": [
      "<ipython-input-40-cf3b8ed41020>:61: UserWarning: No contour levels were found within the data range.\n",
      "  ax.contour(rx,ry,params[i] * pot,levels = levels, cmap = 'ocean')\n"
     ]
    },
    {
     "data": {
      "image/png": "[encoded data removed]",
      "text/plain": [
       "<Figure size 1200x800 with 1 Axes>"
      ]
     },
     "metadata": {},
     "output_type": "display_data"
    }
   ],
   "source": [
    "from matplotlib import animation\n",
    "import numpy as np\n",
    "import matplotlib.pyplot as plt\n",
    "import matplotlib.colors as mco\n",
    "\n",
    "\n",
    "a=1\n",
    "x = np.linspace(-1,1,100)\n",
    "y = np.linspace(-1,1,100)\n",
    "rx, ry = np.meshgrid(x,y)\n",
    "q = 1\n",
    "\n",
    "\n",
    "params = np.array([])\n",
    "b = 0\n",
    "for i in range (200):\n",
    "    while(b < 1):\n",
    "        params =np.append(b,params)\n",
    "        b += 0.01\n",
    "    while(b > 0) :\n",
    "        params =np.append(b,params)\n",
    "        b -= 0.01\n",
    "        \n",
    "        \n",
    "        \n",
    "def potential(a,x,y,q1):\n",
    "    return (q1/(np.sqrt((x)**2 + (y)**2)) + 1/(np.sqrt((x - a/2)**2 + (y - a/2)**2)) + 1/(np.sqrt((x + a/2)**2 + (y + a/2)**2)) \\\n",
    "            - 1/(np.sqrt((x-a/2)**2 + (y + a/2)**2)))- 1/(np.sqrt((x + a/2)**2 + (y-a/2)**2)) \\\n",
    "            \n",
    "\n",
    "\n",
    "\n",
    "q1 = np.linspace(-10,10,200)\n",
    "        \n",
    "levels = np.linspace(-4,4,200)\n",
    "\n",
    "fig = plt.figure(dpi = 200)\n",
    "\n",
    "ax = plt.axes()\n",
    "plt.axis('off')\n",
    "ax.set_aspect('equal')\n",
    "line, = ax.plot([], [], lw=2)\n",
    "\n",
    "\n",
    "# initialization function: plot the background of each frame\n",
    "def init():\n",
    "    line.set_data([], [])\n",
    "    return line,\n",
    "\n",
    "# animation function.  This is called sequentially\n",
    "def animate(i):\n",
    "    q = q1[i]\n",
    "    pot = potential(a,rx,ry,q)\n",
    "    \n",
    "    ax.clear()\n",
    "    \n",
    "    ax.set_xlim(-1,1)\n",
    "    ax.set_ylim(-1,1)\n",
    "    ax.set_xticks([])\n",
    "    ax.set_yticks([])\n",
    "    ax.contour(rx,ry,params[i] * pot,levels = levels, cmap = 'ocean')\n",
    "    \n",
    "    \n",
    "    return line,\n",
    "\n",
    "# call the animator.  blit=True means only re-draw the parts that have changed.\n",
    "anim = animation.FuncAnimation(fig, animate, init_func=init,\n",
    "                               frames=200, interval=20, blit=True)\n",
    "\n",
    "# save the animation as an mp4.  This requires ffmpeg or mencoder to be\n",
    "# installed.  The extra_args ensure that the x264 codec is used, so that\n",
    "# the video can be embedded in html5.  You may need to adjust this for\n",
    "# your system: for more information, see\n",
    "# http://matplotlib.sourceforge.net/api/animation_api.html\n",
    "anim.save('funkypotential.mp4', fps=20, extra_args=['-vcodec', 'libx264'])\n",
    "\n",
    "plt.show()"
   ]
  },
  {
   "cell_type": "code",
   "execution_count": null,
   "metadata": {},
   "outputs": [],
   "source": []
  }
 ],
 "metadata": {
  "kernelspec": {
   "display_name": "Python 3 (ipykernel)",
   "language": "python",
   "name": "python3"
  },
  "language_info": {
   "codemirror_mode": {
    "name": "ipython",
    "version": 3
   },
   "file_extension": ".py",
   "mimetype": "text/x-python",
   "name": "python",
   "nbconvert_exporter": "python",
   "pygments_lexer": "ipython3",
   "version": "3.11.7"
  }
 },
 "nbformat": 4,
 "nbformat_minor": 4
}
